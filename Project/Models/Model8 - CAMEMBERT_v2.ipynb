{
  "cells": [
    {
      "cell_type": "markdown",
      "metadata": {
        "id": "kTfmqzC6OtfX"
      },
      "source": [
        "#Initialization of the kaggle and the files#"
      ]
    },
    {
      "cell_type": "code",
      "execution_count": 1,
      "metadata": {
        "colab": {
          "base_uri": "https://localhost:8080/"
        },
        "id": "UJ_hnJzSNO2g",
        "outputId": "3834e32c-4474-4a98-a803-ad1399a1228b"
      },
      "outputs": [
        {
          "output_type": "stream",
          "name": "stdout",
          "text": [
            "Mounted at /content/drive\n"
          ]
        }
      ],
      "source": [
        "# reading in the data via the Kaggle API\n",
        "\n",
        "# mount your Google Drive\n",
        "from google.colab import drive\n",
        "drive.mount('/content/drive', force_remount=True)"
      ]
    },
    {
      "cell_type": "code",
      "execution_count": 2,
      "metadata": {
        "colab": {
          "base_uri": "https://localhost:8080/"
        },
        "id": "mJPTz3D7TeQv",
        "outputId": "e08842c0-957f-41ee-8fcf-2312e09287a7"
      },
      "outputs": [
        {
          "output_type": "stream",
          "name": "stdout",
          "text": [
            "Requirement already satisfied: kaggle in /usr/local/lib/python3.10/dist-packages (1.5.16)\n",
            "Requirement already satisfied: six>=1.10 in /usr/local/lib/python3.10/dist-packages (from kaggle) (1.16.0)\n",
            "Requirement already satisfied: certifi in /usr/local/lib/python3.10/dist-packages (from kaggle) (2023.11.17)\n",
            "Requirement already satisfied: python-dateutil in /usr/local/lib/python3.10/dist-packages (from kaggle) (2.8.2)\n",
            "Requirement already satisfied: requests in /usr/local/lib/python3.10/dist-packages (from kaggle) (2.31.0)\n",
            "Requirement already satisfied: tqdm in /usr/local/lib/python3.10/dist-packages (from kaggle) (4.66.1)\n",
            "Requirement already satisfied: python-slugify in /usr/local/lib/python3.10/dist-packages (from kaggle) (8.0.1)\n",
            "Requirement already satisfied: urllib3 in /usr/local/lib/python3.10/dist-packages (from kaggle) (2.0.7)\n",
            "Requirement already satisfied: bleach in /usr/local/lib/python3.10/dist-packages (from kaggle) (6.1.0)\n",
            "Requirement already satisfied: webencodings in /usr/local/lib/python3.10/dist-packages (from bleach->kaggle) (0.5.1)\n",
            "Requirement already satisfied: text-unidecode>=1.3 in /usr/local/lib/python3.10/dist-packages (from python-slugify->kaggle) (1.3)\n",
            "Requirement already satisfied: charset-normalizer<4,>=2 in /usr/local/lib/python3.10/dist-packages (from requests->kaggle) (3.3.2)\n",
            "Requirement already satisfied: idna<4,>=2.5 in /usr/local/lib/python3.10/dist-packages (from requests->kaggle) (3.6)\n"
          ]
        }
      ],
      "source": [
        "# install Kaggle\n",
        "! pip install kaggle"
      ]
    },
    {
      "cell_type": "markdown",
      "metadata": {
        "id": "ZKG1TCddRYTB"
      },
      "source": [
        "Log into your Kaggle account, go to Account > API > Create new API token. You will obtain a kaggle.json file, which you save on your Google Drive directy in my drive."
      ]
    },
    {
      "cell_type": "code",
      "execution_count": 3,
      "metadata": {
        "id": "JgzLj451YDfV"
      },
      "outputs": [],
      "source": [
        "!mkdir ~/.kaggle"
      ]
    },
    {
      "cell_type": "code",
      "execution_count": 4,
      "metadata": {
        "id": "KrsZLalrSI3u"
      },
      "outputs": [],
      "source": [
        "#read in your Kaggle credentials from Google Drive\n",
        "!cp /content/drive/MyDrive/Kaggle/kaggle.json ~/.kaggle/kaggle.json\n"
      ]
    },
    {
      "cell_type": "code",
      "execution_count": 5,
      "metadata": {
        "colab": {
          "base_uri": "https://localhost:8080/"
        },
        "id": "BDI60LXKTPzf",
        "outputId": "b6537be7-6957-4aef-f192-336c626dc36d"
      },
      "outputs": [
        {
          "output_type": "stream",
          "name": "stdout",
          "text": [
            "Downloading detecting-french-texts-difficulty-level-2023.zip to /content\n",
            "100% 303k/303k [00:00<00:00, 865kB/s]\n",
            "100% 303k/303k [00:00<00:00, 864kB/s]\n"
          ]
        }
      ],
      "source": [
        "! kaggle competitions download -c detecting-french-texts-difficulty-level-2023\n",
        "from zipfile import ZipFile\n",
        "with ZipFile('detecting-french-texts-difficulty-level-2023.zip','r') as zip:\n",
        "  zip.extractall(path=\"\")"
      ]
    },
    {
      "cell_type": "markdown",
      "metadata": {
        "id": "HHb-bzEFOdNv"
      },
      "source": [
        "# Begining of the model#"
      ]
    },
    {
      "cell_type": "code",
      "execution_count": 6,
      "metadata": {
        "colab": {
          "base_uri": "https://localhost:8080/"
        },
        "id": "IKB5eYqaQRES",
        "outputId": "e2cb450e-f7c0-4f46-c59b-c62b99527ea9"
      },
      "outputs": [
        {
          "output_type": "stream",
          "name": "stdout",
          "text": [
            "Requirement already satisfied: transformers in /usr/local/lib/python3.10/dist-packages (4.35.2)\n",
            "Requirement already satisfied: torch in /usr/local/lib/python3.10/dist-packages (2.1.0+cu121)\n",
            "Requirement already satisfied: filelock in /usr/local/lib/python3.10/dist-packages (from transformers) (3.13.1)\n",
            "Requirement already satisfied: huggingface-hub<1.0,>=0.16.4 in /usr/local/lib/python3.10/dist-packages (from transformers) (0.19.4)\n",
            "Requirement already satisfied: numpy>=1.17 in /usr/local/lib/python3.10/dist-packages (from transformers) (1.23.5)\n",
            "Requirement already satisfied: packaging>=20.0 in /usr/local/lib/python3.10/dist-packages (from transformers) (23.2)\n",
            "Requirement already satisfied: pyyaml>=5.1 in /usr/local/lib/python3.10/dist-packages (from transformers) (6.0.1)\n",
            "Requirement already satisfied: regex!=2019.12.17 in /usr/local/lib/python3.10/dist-packages (from transformers) (2023.6.3)\n",
            "Requirement already satisfied: requests in /usr/local/lib/python3.10/dist-packages (from transformers) (2.31.0)\n",
            "Requirement already satisfied: tokenizers<0.19,>=0.14 in /usr/local/lib/python3.10/dist-packages (from transformers) (0.15.0)\n",
            "Requirement already satisfied: safetensors>=0.3.1 in /usr/local/lib/python3.10/dist-packages (from transformers) (0.4.1)\n",
            "Requirement already satisfied: tqdm>=4.27 in /usr/local/lib/python3.10/dist-packages (from transformers) (4.66.1)\n",
            "Requirement already satisfied: typing-extensions in /usr/local/lib/python3.10/dist-packages (from torch) (4.5.0)\n",
            "Requirement already satisfied: sympy in /usr/local/lib/python3.10/dist-packages (from torch) (1.12)\n",
            "Requirement already satisfied: networkx in /usr/local/lib/python3.10/dist-packages (from torch) (3.2.1)\n",
            "Requirement already satisfied: jinja2 in /usr/local/lib/python3.10/dist-packages (from torch) (3.1.2)\n",
            "Requirement already satisfied: fsspec in /usr/local/lib/python3.10/dist-packages (from torch) (2023.6.0)\n",
            "Requirement already satisfied: triton==2.1.0 in /usr/local/lib/python3.10/dist-packages (from torch) (2.1.0)\n",
            "Requirement already satisfied: MarkupSafe>=2.0 in /usr/local/lib/python3.10/dist-packages (from jinja2->torch) (2.1.3)\n",
            "Requirement already satisfied: charset-normalizer<4,>=2 in /usr/local/lib/python3.10/dist-packages (from requests->transformers) (3.3.2)\n",
            "Requirement already satisfied: idna<4,>=2.5 in /usr/local/lib/python3.10/dist-packages (from requests->transformers) (3.6)\n",
            "Requirement already satisfied: urllib3<3,>=1.21.1 in /usr/local/lib/python3.10/dist-packages (from requests->transformers) (2.0.7)\n",
            "Requirement already satisfied: certifi>=2017.4.17 in /usr/local/lib/python3.10/dist-packages (from requests->transformers) (2023.11.17)\n",
            "Requirement already satisfied: mpmath>=0.19 in /usr/local/lib/python3.10/dist-packages (from sympy->torch) (1.3.0)\n",
            "Collecting sentencepiece\n",
            "  Downloading sentencepiece-0.1.99-cp310-cp310-manylinux_2_17_x86_64.manylinux2014_x86_64.whl (1.3 MB)\n",
            "\u001b[2K     \u001b[90m━━━━━━━━━━━━━━━━━━━━━━━━━━━━━━━━━━━━━━━━\u001b[0m \u001b[32m1.3/1.3 MB\u001b[0m \u001b[31m10.3 MB/s\u001b[0m eta \u001b[36m0:00:00\u001b[0m\n",
            "\u001b[?25hInstalling collected packages: sentencepiece\n",
            "Successfully installed sentencepiece-0.1.99\n"
          ]
        }
      ],
      "source": [
        "!pip install transformers torch\n",
        "!pip install sentencepiece\n"
      ]
    },
    {
      "cell_type": "markdown",
      "metadata": {
        "id": "nvsJcuCpQLx8"
      },
      "source": [
        "## Imports##"
      ]
    },
    {
      "cell_type": "code",
      "execution_count": 7,
      "metadata": {
        "id": "daqvj7feTx60"
      },
      "outputs": [],
      "source": [
        "# read in your training data\n",
        "import pandas as pd\n",
        "import numpy as np\n",
        "import torch\n",
        "import os\n",
        "import seaborn as sns\n",
        "import matplotlib.pyplot as plt\n",
        "from google.colab import files\n",
        "\n",
        "from transformers import CamembertTokenizer, CamembertForSequenceClassification\n",
        "from sklearn.model_selection import train_test_split\n",
        "from torch.utils.data import DataLoader,TensorDataset\n",
        "from torch.nn import CrossEntropyLoss\n",
        "from torch.optim import AdamW\n",
        "from sklearn.preprocessing import LabelEncoder\n",
        "from sklearn.metrics import precision_score, recall_score, f1_score, accuracy_score,confusion_matrix\n",
        "\n",
        "os.environ['CUDA_LAUNCH_BLOCKING'] = \"1\"\n",
        "\n",
        "\n",
        "\n",
        "df = pd.read_csv('training_data.csv', index_col = 'id')\n",
        "df_pred = pd.read_csv('unlabelled_test_data.csv', index_col = 'id')"
      ]
    },
    {
      "cell_type": "code",
      "execution_count": 8,
      "metadata": {
        "colab": {
          "base_uri": "https://localhost:8080/",
          "height": 455
        },
        "id": "VxRSnk5bhTp8",
        "outputId": "76d0c7c8-a63b-4774-fd08-a00498e7cac6"
      },
      "outputs": [
        {
          "output_type": "execute_result",
          "data": {
            "text/plain": [
              "                                               sentence difficulty\n",
              "id                                                                \n",
              "0     Les coûts kilométriques réels peuvent diverger...         C1\n",
              "1     Le bleu, c'est ma couleur préférée mais je n'a...         A1\n",
              "2     Le test de niveau en français est sur le site ...         A1\n",
              "3              Est-ce que ton mari est aussi de Boston?         A1\n",
              "4     Dans les écoles de commerce, dans les couloirs...         B1\n",
              "...                                                 ...        ...\n",
              "4795  C'est pourquoi, il décida de remplacer les hab...         B2\n",
              "4796  Il avait une de ces pâleurs splendides qui don...         C1\n",
              "4797  Et le premier samedi de chaque mois, venez ren...         A2\n",
              "4798  Les coûts liés à la journalisation n'étant pas...         C2\n",
              "4799  Sur le sable, la mer haletait de toute la resp...         C2\n",
              "\n",
              "[4800 rows x 2 columns]"
            ],
            "text/html": [
              "\n",
              "  <div id=\"df-50598f4b-43d3-4b0b-974d-b487111550d3\" class=\"colab-df-container\">\n",
              "    <div>\n",
              "<style scoped>\n",
              "    .dataframe tbody tr th:only-of-type {\n",
              "        vertical-align: middle;\n",
              "    }\n",
              "\n",
              "    .dataframe tbody tr th {\n",
              "        vertical-align: top;\n",
              "    }\n",
              "\n",
              "    .dataframe thead th {\n",
              "        text-align: right;\n",
              "    }\n",
              "</style>\n",
              "<table border=\"1\" class=\"dataframe\">\n",
              "  <thead>\n",
              "    <tr style=\"text-align: right;\">\n",
              "      <th></th>\n",
              "      <th>sentence</th>\n",
              "      <th>difficulty</th>\n",
              "    </tr>\n",
              "    <tr>\n",
              "      <th>id</th>\n",
              "      <th></th>\n",
              "      <th></th>\n",
              "    </tr>\n",
              "  </thead>\n",
              "  <tbody>\n",
              "    <tr>\n",
              "      <th>0</th>\n",
              "      <td>Les coûts kilométriques réels peuvent diverger...</td>\n",
              "      <td>C1</td>\n",
              "    </tr>\n",
              "    <tr>\n",
              "      <th>1</th>\n",
              "      <td>Le bleu, c'est ma couleur préférée mais je n'a...</td>\n",
              "      <td>A1</td>\n",
              "    </tr>\n",
              "    <tr>\n",
              "      <th>2</th>\n",
              "      <td>Le test de niveau en français est sur le site ...</td>\n",
              "      <td>A1</td>\n",
              "    </tr>\n",
              "    <tr>\n",
              "      <th>3</th>\n",
              "      <td>Est-ce que ton mari est aussi de Boston?</td>\n",
              "      <td>A1</td>\n",
              "    </tr>\n",
              "    <tr>\n",
              "      <th>4</th>\n",
              "      <td>Dans les écoles de commerce, dans les couloirs...</td>\n",
              "      <td>B1</td>\n",
              "    </tr>\n",
              "    <tr>\n",
              "      <th>...</th>\n",
              "      <td>...</td>\n",
              "      <td>...</td>\n",
              "    </tr>\n",
              "    <tr>\n",
              "      <th>4795</th>\n",
              "      <td>C'est pourquoi, il décida de remplacer les hab...</td>\n",
              "      <td>B2</td>\n",
              "    </tr>\n",
              "    <tr>\n",
              "      <th>4796</th>\n",
              "      <td>Il avait une de ces pâleurs splendides qui don...</td>\n",
              "      <td>C1</td>\n",
              "    </tr>\n",
              "    <tr>\n",
              "      <th>4797</th>\n",
              "      <td>Et le premier samedi de chaque mois, venez ren...</td>\n",
              "      <td>A2</td>\n",
              "    </tr>\n",
              "    <tr>\n",
              "      <th>4798</th>\n",
              "      <td>Les coûts liés à la journalisation n'étant pas...</td>\n",
              "      <td>C2</td>\n",
              "    </tr>\n",
              "    <tr>\n",
              "      <th>4799</th>\n",
              "      <td>Sur le sable, la mer haletait de toute la resp...</td>\n",
              "      <td>C2</td>\n",
              "    </tr>\n",
              "  </tbody>\n",
              "</table>\n",
              "<p>4800 rows × 2 columns</p>\n",
              "</div>\n",
              "    <div class=\"colab-df-buttons\">\n",
              "\n",
              "  <div class=\"colab-df-container\">\n",
              "    <button class=\"colab-df-convert\" onclick=\"convertToInteractive('df-50598f4b-43d3-4b0b-974d-b487111550d3')\"\n",
              "            title=\"Convert this dataframe to an interactive table.\"\n",
              "            style=\"display:none;\">\n",
              "\n",
              "  <svg xmlns=\"http://www.w3.org/2000/svg\" height=\"24px\" viewBox=\"0 -960 960 960\">\n",
              "    <path d=\"M120-120v-720h720v720H120Zm60-500h600v-160H180v160Zm220 220h160v-160H400v160Zm0 220h160v-160H400v160ZM180-400h160v-160H180v160Zm440 0h160v-160H620v160ZM180-180h160v-160H180v160Zm440 0h160v-160H620v160Z\"/>\n",
              "  </svg>\n",
              "    </button>\n",
              "\n",
              "  <style>\n",
              "    .colab-df-container {\n",
              "      display:flex;\n",
              "      gap: 12px;\n",
              "    }\n",
              "\n",
              "    .colab-df-convert {\n",
              "      background-color: #E8F0FE;\n",
              "      border: none;\n",
              "      border-radius: 50%;\n",
              "      cursor: pointer;\n",
              "      display: none;\n",
              "      fill: #1967D2;\n",
              "      height: 32px;\n",
              "      padding: 0 0 0 0;\n",
              "      width: 32px;\n",
              "    }\n",
              "\n",
              "    .colab-df-convert:hover {\n",
              "      background-color: #E2EBFA;\n",
              "      box-shadow: 0px 1px 2px rgba(60, 64, 67, 0.3), 0px 1px 3px 1px rgba(60, 64, 67, 0.15);\n",
              "      fill: #174EA6;\n",
              "    }\n",
              "\n",
              "    .colab-df-buttons div {\n",
              "      margin-bottom: 4px;\n",
              "    }\n",
              "\n",
              "    [theme=dark] .colab-df-convert {\n",
              "      background-color: #3B4455;\n",
              "      fill: #D2E3FC;\n",
              "    }\n",
              "\n",
              "    [theme=dark] .colab-df-convert:hover {\n",
              "      background-color: #434B5C;\n",
              "      box-shadow: 0px 1px 3px 1px rgba(0, 0, 0, 0.15);\n",
              "      filter: drop-shadow(0px 1px 2px rgba(0, 0, 0, 0.3));\n",
              "      fill: #FFFFFF;\n",
              "    }\n",
              "  </style>\n",
              "\n",
              "    <script>\n",
              "      const buttonEl =\n",
              "        document.querySelector('#df-50598f4b-43d3-4b0b-974d-b487111550d3 button.colab-df-convert');\n",
              "      buttonEl.style.display =\n",
              "        google.colab.kernel.accessAllowed ? 'block' : 'none';\n",
              "\n",
              "      async function convertToInteractive(key) {\n",
              "        const element = document.querySelector('#df-50598f4b-43d3-4b0b-974d-b487111550d3');\n",
              "        const dataTable =\n",
              "          await google.colab.kernel.invokeFunction('convertToInteractive',\n",
              "                                                    [key], {});\n",
              "        if (!dataTable) return;\n",
              "\n",
              "        const docLinkHtml = 'Like what you see? Visit the ' +\n",
              "          '<a target=\"_blank\" href=https://colab.research.google.com/notebooks/data_table.ipynb>data table notebook</a>'\n",
              "          + ' to learn more about interactive tables.';\n",
              "        element.innerHTML = '';\n",
              "        dataTable['output_type'] = 'display_data';\n",
              "        await google.colab.output.renderOutput(dataTable, element);\n",
              "        const docLink = document.createElement('div');\n",
              "        docLink.innerHTML = docLinkHtml;\n",
              "        element.appendChild(docLink);\n",
              "      }\n",
              "    </script>\n",
              "  </div>\n",
              "\n",
              "\n",
              "<div id=\"df-71222ce4-5341-4409-a73d-250013d0eff1\">\n",
              "  <button class=\"colab-df-quickchart\" onclick=\"quickchart('df-71222ce4-5341-4409-a73d-250013d0eff1')\"\n",
              "            title=\"Suggest charts\"\n",
              "            style=\"display:none;\">\n",
              "\n",
              "<svg xmlns=\"http://www.w3.org/2000/svg\" height=\"24px\"viewBox=\"0 0 24 24\"\n",
              "     width=\"24px\">\n",
              "    <g>\n",
              "        <path d=\"M19 3H5c-1.1 0-2 .9-2 2v14c0 1.1.9 2 2 2h14c1.1 0 2-.9 2-2V5c0-1.1-.9-2-2-2zM9 17H7v-7h2v7zm4 0h-2V7h2v10zm4 0h-2v-4h2v4z\"/>\n",
              "    </g>\n",
              "</svg>\n",
              "  </button>\n",
              "\n",
              "<style>\n",
              "  .colab-df-quickchart {\n",
              "      --bg-color: #E8F0FE;\n",
              "      --fill-color: #1967D2;\n",
              "      --hover-bg-color: #E2EBFA;\n",
              "      --hover-fill-color: #174EA6;\n",
              "      --disabled-fill-color: #AAA;\n",
              "      --disabled-bg-color: #DDD;\n",
              "  }\n",
              "\n",
              "  [theme=dark] .colab-df-quickchart {\n",
              "      --bg-color: #3B4455;\n",
              "      --fill-color: #D2E3FC;\n",
              "      --hover-bg-color: #434B5C;\n",
              "      --hover-fill-color: #FFFFFF;\n",
              "      --disabled-bg-color: #3B4455;\n",
              "      --disabled-fill-color: #666;\n",
              "  }\n",
              "\n",
              "  .colab-df-quickchart {\n",
              "    background-color: var(--bg-color);\n",
              "    border: none;\n",
              "    border-radius: 50%;\n",
              "    cursor: pointer;\n",
              "    display: none;\n",
              "    fill: var(--fill-color);\n",
              "    height: 32px;\n",
              "    padding: 0;\n",
              "    width: 32px;\n",
              "  }\n",
              "\n",
              "  .colab-df-quickchart:hover {\n",
              "    background-color: var(--hover-bg-color);\n",
              "    box-shadow: 0 1px 2px rgba(60, 64, 67, 0.3), 0 1px 3px 1px rgba(60, 64, 67, 0.15);\n",
              "    fill: var(--button-hover-fill-color);\n",
              "  }\n",
              "\n",
              "  .colab-df-quickchart-complete:disabled,\n",
              "  .colab-df-quickchart-complete:disabled:hover {\n",
              "    background-color: var(--disabled-bg-color);\n",
              "    fill: var(--disabled-fill-color);\n",
              "    box-shadow: none;\n",
              "  }\n",
              "\n",
              "  .colab-df-spinner {\n",
              "    border: 2px solid var(--fill-color);\n",
              "    border-color: transparent;\n",
              "    border-bottom-color: var(--fill-color);\n",
              "    animation:\n",
              "      spin 1s steps(1) infinite;\n",
              "  }\n",
              "\n",
              "  @keyframes spin {\n",
              "    0% {\n",
              "      border-color: transparent;\n",
              "      border-bottom-color: var(--fill-color);\n",
              "      border-left-color: var(--fill-color);\n",
              "    }\n",
              "    20% {\n",
              "      border-color: transparent;\n",
              "      border-left-color: var(--fill-color);\n",
              "      border-top-color: var(--fill-color);\n",
              "    }\n",
              "    30% {\n",
              "      border-color: transparent;\n",
              "      border-left-color: var(--fill-color);\n",
              "      border-top-color: var(--fill-color);\n",
              "      border-right-color: var(--fill-color);\n",
              "    }\n",
              "    40% {\n",
              "      border-color: transparent;\n",
              "      border-right-color: var(--fill-color);\n",
              "      border-top-color: var(--fill-color);\n",
              "    }\n",
              "    60% {\n",
              "      border-color: transparent;\n",
              "      border-right-color: var(--fill-color);\n",
              "    }\n",
              "    80% {\n",
              "      border-color: transparent;\n",
              "      border-right-color: var(--fill-color);\n",
              "      border-bottom-color: var(--fill-color);\n",
              "    }\n",
              "    90% {\n",
              "      border-color: transparent;\n",
              "      border-bottom-color: var(--fill-color);\n",
              "    }\n",
              "  }\n",
              "</style>\n",
              "\n",
              "  <script>\n",
              "    async function quickchart(key) {\n",
              "      const quickchartButtonEl =\n",
              "        document.querySelector('#' + key + ' button');\n",
              "      quickchartButtonEl.disabled = true;  // To prevent multiple clicks.\n",
              "      quickchartButtonEl.classList.add('colab-df-spinner');\n",
              "      try {\n",
              "        const charts = await google.colab.kernel.invokeFunction(\n",
              "            'suggestCharts', [key], {});\n",
              "      } catch (error) {\n",
              "        console.error('Error during call to suggestCharts:', error);\n",
              "      }\n",
              "      quickchartButtonEl.classList.remove('colab-df-spinner');\n",
              "      quickchartButtonEl.classList.add('colab-df-quickchart-complete');\n",
              "    }\n",
              "    (() => {\n",
              "      let quickchartButtonEl =\n",
              "        document.querySelector('#df-71222ce4-5341-4409-a73d-250013d0eff1 button');\n",
              "      quickchartButtonEl.style.display =\n",
              "        google.colab.kernel.accessAllowed ? 'block' : 'none';\n",
              "    })();\n",
              "  </script>\n",
              "</div>\n",
              "    </div>\n",
              "  </div>\n"
            ]
          },
          "metadata": {},
          "execution_count": 8
        }
      ],
      "source": [
        "df"
      ]
    },
    {
      "cell_type": "markdown",
      "metadata": {
        "id": "ZlTIx0ZjBe31"
      },
      "source": [
        "###CamemBert model\n",
        "######After we used the bert model with the 'bert-base-multilingual-cased' pre-trained model we decided to use a model who is specific to the french to see the difference of these two model."
      ]
    },
    {
      "cell_type": "markdown",
      "source": [
        "#####Frist we configure correctly our data to be used in our model. As always we separe our train and test data set with the same parameters to be constant in the comparaison. And then we encode our data"
      ],
      "metadata": {
        "id": "68BsNYkyYvHY"
      }
    },
    {
      "cell_type": "code",
      "execution_count": 9,
      "metadata": {
        "id": "EiOwKCuYuOcq"
      },
      "outputs": [],
      "source": [
        "X = df['sentence']\n",
        "y = df['difficulty']\n",
        "X_train, X_test, y_train, y_test = train_test_split(X, y, test_size=0.2, random_state=42)\n",
        "\n",
        "\n",
        "X_train = X_train.tolist()\n",
        "X_test = X_test.tolist()\n",
        "\n",
        "label_encoder = LabelEncoder()\n",
        "y_train_encoded = label_encoder.fit_transform(y_train)\n",
        "y_test_encoded = label_encoder.transform(y_test)\n"
      ]
    },
    {
      "cell_type": "markdown",
      "source": [
        "#####As we had some problems for this model with number of classes. We just did some verification about the class labels that were input in our model. We should have 6 different classes."
      ],
      "metadata": {
        "id": "_wytVD0dZLJn"
      }
    },
    {
      "cell_type": "code",
      "source": [
        "num_classes = len(label_encoder.classes_)\n",
        "print(\"Number of classes:\", num_classes)"
      ],
      "metadata": {
        "colab": {
          "base_uri": "https://localhost:8080/"
        },
        "id": "pPMKxMs4ZLo5",
        "outputId": "62f47480-e62c-4669-8e07-a103c68e7e38"
      },
      "execution_count": 10,
      "outputs": [
        {
          "output_type": "stream",
          "name": "stdout",
          "text": [
            "Number of classes: 6\n"
          ]
        }
      ]
    },
    {
      "cell_type": "markdown",
      "metadata": {
        "id": "YXZI1BoumB3u"
      },
      "source": [
        "#####Here we create our tokennizer,dataloaders who will be put in the model to be train and then we configure our training using Adamw as optimizer and CrossEntropyLoss function as our loss fuction."
      ]
    },
    {
      "cell_type": "markdown",
      "source": [
        "#####Like the bert model we use the GPU for this model. But we had some problems to run our model on the GPU so we did also some verification to be sure that our model runned on the GPU"
      ],
      "metadata": {
        "id": "A_AU8CuRaTee"
      }
    },
    {
      "cell_type": "code",
      "execution_count": 11,
      "metadata": {
        "colab": {
          "base_uri": "https://localhost:8080/",
          "height": 234,
          "referenced_widgets": [
            "49b43270dd8940c1a1174f853cf074e6",
            "d996d2a5f8aa4b0889ec1fe2ec8a5f94",
            "e21eff896b644e2dac653bb4266e59c3",
            "a53704c0f72446be9680649d16f25e75",
            "3a8c8ff6485642bfa7ddd23ac9203b93",
            "0b9340e75ccb4f7ea46c286bb4999a7b",
            "d9d9e80537764fd7a01b99a439573df9",
            "52b7f159483c43d19601353e727ff135",
            "6f831eb95a374062bc3471d5e76710b2",
            "de2bd5dbf00b4178be1f6ad2624fb4ef",
            "8692e6d42ad54c3abda10cfe5251a012",
            "89c7900bd3654fbca13f77e818bf3cf6",
            "358686fa9a994ac88bc17be7ece3730b",
            "4d2f487d503d4b7297d52c6834119bc7",
            "76ad5cc84ed04cb5b6a55508dfa0ee0f",
            "e2b134538b3b403e9d540b7075c557f0",
            "9119fefb8b7040d9ac038073c3040dd8",
            "2514850323ef4fb6b8b56f5b25f18510",
            "49b6fc064f6d43b290b9734c3b259ce2",
            "8cf4da1e5c984cc793151f6443c68a5d",
            "42fe09fa1e484760b0696145b6b9efcc",
            "2b5c9f6c27f74fab8ce4c7637c555218",
            "bd4b4fc57b0547f9bb8a2f79f059bdf7",
            "6745441bd9614af085e6e929efd82fc6",
            "6be3e84ea6924db09533f151f8355319",
            "5d971de1c48b412a95862872d90b1d6c",
            "2a5527bfa18e48df824aec024f5dc030",
            "f3522d4ba67c48469525733b32fd1059",
            "c3bf09ffd06542b5961d817149a7c39d",
            "7057b4423a364a49aa0fc595f511fed6",
            "34ec69eea2cb4d0a9c8d798762da4a54",
            "904b4e68e09b43b3b01a0775eba3cc29",
            "4fb0a48a0491400cbe152d8352f8b102",
            "c149a06474b34f6a98740c73852609c6",
            "3abb698dbb7f4886b4483429180cd288",
            "bff23468cb694d5d88352e4539f04f0f",
            "9a50ba468a6d43ffa8807157551b9066",
            "c5a58953ee9b422cb5f2fbd576ada404",
            "0b09d2b9b53f4b03b1a312b193132c5b",
            "d7b39d1623d04e3aa31ea9164a17891e",
            "1f21c7311a314d688e836a20e120898a",
            "7e77c11ec0424b49814e0885d35e9fd0",
            "c2bcf96c9e7b408aa885b5816a509849",
            "b58bd4b77f424c4483f42daa8a855ea6"
          ]
        },
        "id": "xPJsgOgy3hkA",
        "outputId": "14c6f271-bc47-45c8-e34e-b01b8386debe"
      },
      "outputs": [
        {
          "output_type": "display_data",
          "data": {
            "text/plain": [
              "sentencepiece.bpe.model:   0%|          | 0.00/811k [00:00<?, ?B/s]"
            ],
            "application/vnd.jupyter.widget-view+json": {
              "version_major": 2,
              "version_minor": 0,
              "model_id": "49b43270dd8940c1a1174f853cf074e6"
            }
          },
          "metadata": {}
        },
        {
          "output_type": "display_data",
          "data": {
            "text/plain": [
              "tokenizer.json:   0%|          | 0.00/1.40M [00:00<?, ?B/s]"
            ],
            "application/vnd.jupyter.widget-view+json": {
              "version_major": 2,
              "version_minor": 0,
              "model_id": "89c7900bd3654fbca13f77e818bf3cf6"
            }
          },
          "metadata": {}
        },
        {
          "output_type": "display_data",
          "data": {
            "text/plain": [
              "config.json:   0%|          | 0.00/508 [00:00<?, ?B/s]"
            ],
            "application/vnd.jupyter.widget-view+json": {
              "version_major": 2,
              "version_minor": 0,
              "model_id": "bd4b4fc57b0547f9bb8a2f79f059bdf7"
            }
          },
          "metadata": {}
        },
        {
          "output_type": "stream",
          "name": "stderr",
          "text": [
            "Special tokens have been added in the vocabulary, make sure the associated word embeddings are fine-tuned or trained.\n"
          ]
        },
        {
          "output_type": "display_data",
          "data": {
            "text/plain": [
              "model.safetensors:   0%|          | 0.00/445M [00:00<?, ?B/s]"
            ],
            "application/vnd.jupyter.widget-view+json": {
              "version_major": 2,
              "version_minor": 0,
              "model_id": "c149a06474b34f6a98740c73852609c6"
            }
          },
          "metadata": {}
        },
        {
          "output_type": "stream",
          "name": "stderr",
          "text": [
            "Some weights of CamembertForSequenceClassification were not initialized from the model checkpoint at camembert-base and are newly initialized: ['classifier.out_proj.weight', 'classifier.out_proj.bias', 'classifier.dense.bias', 'classifier.dense.weight']\n",
            "You should probably TRAIN this model on a down-stream task to be able to use it for predictions and inference.\n"
          ]
        },
        {
          "output_type": "stream",
          "name": "stdout",
          "text": [
            "Device: cuda\n"
          ]
        }
      ],
      "source": [
        "camembert_tokenizer = CamembertTokenizer.from_pretrained(\"camembert-base\")\n",
        "X_train_encoding = camembert_tokenizer(X_train, truncation=True, padding=True, return_tensors=\"pt\")\n",
        "X_test_encoding = camembert_tokenizer(X_test, truncation=True, padding=True, return_tensors=\"pt\")\n",
        "\n",
        "X_train_tensor = torch.tensor(y_train_encoded, dtype=torch.long)\n",
        "X_test_tensor = torch.tensor(y_test_encoded, dtype=torch.long)\n",
        "\n",
        "X_train_dataset = TensorDataset(X_train_encoding['input_ids'], X_train_encoding['attention_mask'], X_train_tensor)\n",
        "X_test_dataset = TensorDataset(X_test_encoding['input_ids'], X_test_encoding['attention_mask'], X_test_tensor)\n",
        "\n",
        "X_train_loader = DataLoader(X_train_dataset, batch_size=32, shuffle=True)\n",
        "X_test_loader = DataLoader(X_test_dataset, batch_size=32)\n",
        "\n",
        "camembert_model = CamembertForSequenceClassification.from_pretrained(\"camembert-base\", num_labels=num_classes)\n",
        "\n",
        "device = torch.device('cuda' if torch.cuda.is_available() else 'cpu')\n",
        "print(f\"Device: {device}\")\n",
        "\n",
        "camembert_model = camembert_model.to(device)\n",
        "\n",
        "optimizer = AdamW(camembert_model.parameters(), lr=5e-5)\n",
        "loss_fn = CrossEntropyLoss()\n",
        "\n"
      ]
    },
    {
      "cell_type": "markdown",
      "source": [
        "#####After the creation of our model we can train our CamemBert model"
      ],
      "metadata": {
        "id": "FrWRMq9sZ0Rf"
      }
    },
    {
      "cell_type": "code",
      "source": [
        "for epoch in range(3):\n",
        "    for batch in X_train_loader:\n",
        "        input_ids = batch[0].to(device)\n",
        "        attention_mask = batch[1].to(device)\n",
        "        difficulty_level = batch[2].to(device)\n",
        "\n",
        "        camembert_model.train()\n",
        "\n",
        "        outputs = camembert_model(input_ids, attention_mask=attention_mask)\n",
        "        logits = outputs.logits\n",
        "        loss = loss_fn(logits, difficulty_level)\n",
        "\n",
        "        optimizer.zero_grad()\n",
        "        loss.backward()\n",
        "        optimizer.step()\n",
        "\n",
        "        torch.no_grad()\n",
        "torch.save(camembert_model.state_dict(), 'model_camembert.pth')"
      ],
      "metadata": {
        "id": "vV2Jb8juZzAM"
      },
      "execution_count": 12,
      "outputs": []
    },
    {
      "cell_type": "markdown",
      "source": [
        "#####Here we download the camembert model in pth format to be used in streamlit"
      ],
      "metadata": {
        "id": "-e9kCzmXAarC"
      }
    },
    {
      "cell_type": "code",
      "source": [
        "files.download('model_camembert.pth')\n"
      ],
      "metadata": {
        "id": "c4ORHI26AUuP"
      },
      "execution_count": null,
      "outputs": []
    },
    {
      "cell_type": "markdown",
      "metadata": {
        "id": "7JBSjsE5mXiS"
      },
      "source": [
        "##### Here we evaluate our model"
      ]
    },
    {
      "cell_type": "code",
      "source": [
        "\n",
        "camembert_model.eval()\n",
        "true_difficulty_levels=[]\n",
        "pred_difficulty_level=[]\n",
        "\n",
        "with torch.no_grad():\n",
        "    validation_loss = 0.0\n",
        "    for batch in X_test_loader:\n",
        "        input_ids = batch[0].to(device)\n",
        "        attention_mask = batch[1].to(device)\n",
        "        difficulty_level = batch[2].to(device)\n",
        "\n",
        "        outputs = camembert_model(input_ids, attention_mask=attention_mask)\n",
        "        logits = outputs.logits\n",
        "        loss = loss_fn(logits, difficulty_level)\n",
        "        preds = torch.argmax(logits, dim=1)\n",
        "\n",
        "        true_difficulty_levels.extend(difficulty_level.cpu().numpy())\n",
        "        pred_difficulty_level.extend(preds.cpu().numpy())\n",
        "        validation_loss += loss.item()\n"
      ],
      "metadata": {
        "id": "JmiPlwKdF-sV"
      },
      "execution_count": 13,
      "outputs": []
    },
    {
      "cell_type": "code",
      "source": [
        "validation_loss /= len(X_test_loader)\n",
        "accuracy = accuracy_score(true_difficulty_levels, pred_difficulty_level)\n",
        "precision=precision_score(true_difficulty_levels, pred_difficulty_level, average='macro')\n",
        "recall=recall_score(true_difficulty_levels, pred_difficulty_level, average='macro')\n",
        "f1= f1_score(true_difficulty_levels, pred_difficulty_level, average='macro')\n",
        "\n",
        "print(f'validation loss: {round(validation_loss,4)}')\n",
        "print(f\"Precision: {precision}\")\n",
        "print(f\"Recall: {recall}\")\n",
        "print(f\"F1-Score: {f1}\")\n",
        "print(f\"Accuracy: {accuracy}\")\n"
      ],
      "metadata": {
        "colab": {
          "base_uri": "https://localhost:8080/"
        },
        "id": "EPQYUwuhKHKO",
        "outputId": "1f63838b-dc88-4735-ebca-8791bd4c70c6"
      },
      "execution_count": 14,
      "outputs": [
        {
          "output_type": "stream",
          "name": "stdout",
          "text": [
            "validation loss: 1.0521\n",
            "Precision: 0.5588073825461511\n",
            "Recall: 0.5638215882599087\n",
            "F1-Score: 0.5563476700740569\n",
            "Accuracy: 0.56875\n"
          ]
        }
      ]
    },
    {
      "cell_type": "code",
      "source": [
        "conf_matrix = confusion_matrix(true_difficulty_levels, pred_difficulty_level)\n",
        "difficulty_labels=[\"A1\",\"A2\",\"B1\",\"B2\",\"C1\",\"C2\"]\n",
        "sns.heatmap(conf_matrix, annot=True, fmt='g',xticklabels=difficulty_labels,yticklabels=difficulty_labels,cmap=\"Greens\")\n",
        "plt.xlabel('Predicted difficulty levels')\n",
        "plt.ylabel('True difficulty levels')\n",
        "plt.title('Confusion matrix')\n",
        "plt.show()"
      ],
      "metadata": {
        "colab": {
          "base_uri": "https://localhost:8080/",
          "height": 472
        },
        "id": "0KP0tdvlkpd9",
        "outputId": "796e6d28-e97b-4473-ef21-fa6d51d9dbe8"
      },
      "execution_count": 15,
      "outputs": [
        {
          "output_type": "display_data",
          "data": {
            "text/plain": [
              "<Figure size 640x480 with 2 Axes>"
            ],
            "image/png": "[encoded data removed]"
          },
          "metadata": {}
        }
      ]
    },
    {
      "cell_type": "markdown",
      "metadata": {
        "id": "zytz5-QLmvZm"
      },
      "source": [
        "#####Now we prdict our model on our unlabelled data"
      ]
    },
    {
      "cell_type": "code",
      "source": [
        "sentence_to_predict = df_pred['sentence'].tolist()\n",
        "\n",
        "sentence_to_predict_tokenized = camembert_tokenizer(sentence_to_predict, truncation=True, padding=True, return_tensors=\"pt\")\n",
        "\n",
        "pred_tensor_dataset = TensorDataset(sentence_to_predict_tokenized['input_ids'], sentence_to_predict_tokenized['attention_mask'])\n",
        "\n",
        "pred_loader = DataLoader(pred_tensor_dataset, batch_size=32)\n",
        "\n",
        "predictions = []\n",
        "camembert_model.eval()\n",
        "with torch.no_grad():\n",
        "    for batch in pred_loader:\n",
        "        input_ids = batch[0].to(device)\n",
        "        attention_mask = batch[1].to(device)\n",
        "\n",
        "        outputs = camembert_model(input_ids, attention_mask=attention_mask)\n",
        "        logits = outputs.logits\n",
        "        preds = torch.argmax(logits, dim=1)\n",
        "\n",
        "        predictions.extend(preds.cpu().numpy())\n"
      ],
      "metadata": {
        "id": "L__hbejHGH82"
      },
      "execution_count": 16,
      "outputs": []
    },
    {
      "cell_type": "markdown",
      "metadata": {
        "id": "U8hqZQhPm3LX"
      },
      "source": [
        "##### The prediction is made in our encoder difficulty label so we inverse the encoding to have our initial labels"
      ]
    },
    {
      "cell_type": "code",
      "source": [
        "predictions = label_encoder.inverse_transform(predictions)\n",
        "predictions"
      ],
      "metadata": {
        "colab": {
          "base_uri": "https://localhost:8080/"
        },
        "id": "wa5QS-PFXIwL",
        "outputId": "86576652-ba73-485b-e9a9-37726d6883c0"
      },
      "execution_count": 17,
      "outputs": [
        {
          "output_type": "execute_result",
          "data": {
            "text/plain": [
              "array(['C2', 'B1', 'B1', ..., 'C2', 'B2', 'B1'], dtype=object)"
            ]
          },
          "metadata": {},
          "execution_count": 17
        }
      ]
    },
    {
      "cell_type": "markdown",
      "metadata": {
        "id": "D8BGcAViBsBX"
      },
      "source": [
        "#####Data preparation (Label encoder, train,test split). The label was encoded like this\n",
        "\n",
        "*   A1:0\n",
        "*   A2:1\n",
        "*   B1:2\n",
        "*   B2:3\n",
        "*   C1:4\n",
        "*   C2:5"
      ]
    },
    {
      "cell_type": "markdown",
      "metadata": {
        "id": "2jSRnYgfmOu0"
      },
      "source": [
        "#####Now we can train our model\n"
      ]
    },
    {
      "cell_type": "code",
      "execution_count": 18,
      "metadata": {
        "id": "eUgjLVue4Se-"
      },
      "outputs": [],
      "source": [
        "predictions\n",
        "df_pred['difficulty']=predictions"
      ]
    },
    {
      "cell_type": "markdown",
      "metadata": {
        "id": "jctQ2IXYeXEs"
      },
      "source": [
        "# This is how to submit a pd file with predictions\n",
        "### for the example we will submit a file where only A1 is given as a prediction"
      ]
    },
    {
      "cell_type": "code",
      "execution_count": null,
      "metadata": {
        "id": "jUBUCkxWNHKR"
      },
      "outputs": [],
      "source": []
    },
    {
      "cell_type": "code",
      "execution_count": 19,
      "metadata": {
        "id": "pg1ITBF8e0aq"
      },
      "outputs": [],
      "source": [
        "df_sub=df_pred[['difficulty']]\n",
        "df_sub.to_csv('submission.csv')"
      ]
    },
    {
      "cell_type": "code",
      "execution_count": 20,
      "metadata": {
        "id": "D3i5G0qzgBxP",
        "colab": {
          "base_uri": "https://localhost:8080/"
        },
        "outputId": "5c42e90c-f572-43cf-afed-1d983b7c1e9c"
      },
      "outputs": [
        {
          "output_type": "stream",
          "name": "stdout",
          "text": [
            "100% 8.30k/8.30k [00:00<00:00, 13.1kB/s]\n",
            "Successfully submitted to Detecting the difficulty level of French texts"
          ]
        }
      ],
      "source": [
        "! kaggle competitions submit -c detecting-french-texts-difficulty-level-2023 -f submission.csv -m \"Sample submission\""
      ]
    },
    {
      "cell_type": "markdown",
      "metadata": {
        "id": "arVl2-0a6lFn"
      },
      "source": [
        "![image.png](data:image/png;base64,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)"
      ]
    }
  ],
  "metadata": {
    "accelerator": "GPU",
    "colab": {
      "machine_shape": "hm",
      "provenance": [],
      "gpuType": "V100"
    },
    "kernelspec": {
      "display_name": "Python 3",
      "name": "python3"
    },
    "language_info": {
      "codemirror_mode": {
        "name": "ipython",
        "version": 3
      },
      "file_extension": ".py",
      "mimetype": "text/x-python",
      "name": "python",
      "nbconvert_exporter": "python",
      "pygments_lexer": "ipython3",
      "version": "3.9.6"
    },
    "toc": {
      "base_numbering": 1,
      "nav_menu": {},
      "number_sections": true,
      "sideBar": true,
      "skip_h1_title": false,
      "title_cell": "Table of Contents",
      "title_sidebar": "Contents",
      "toc_cell": false,
      "toc_position": {},
      "toc_section_display": true,
      "toc_window_display": false
    },
    "widgets": {
      "application/vnd.jupyter.widget-state+json": {
        "49b43270dd8940c1a1174f853cf074e6": {
          "model_module": "@jupyter-widgets/controls",
          "model_name": "HBoxModel",
          "model_module_version": "1.5.0",
          "state": {
            "_dom_classes": [],
            "_model_module": "@jupyter-widgets/controls",
            "_model_module_version": "1.5.0",
            "_model_name": "HBoxModel",
            "_view_count": null,
            "_view_module": "@jupyter-widgets/controls",
            "_view_module_version": "1.5.0",
            "_view_name": "HBoxView",
            "box_style": "",
            "children": [
              "IPY_MODEL_d996d2a5f8aa4b0889ec1fe2ec8a5f94",
              "IPY_MODEL_e21eff896b644e2dac653bb4266e59c3",
              "IPY_MODEL_a53704c0f72446be9680649d16f25e75"
            ],
            "layout": "IPY_MODEL_3a8c8ff6485642bfa7ddd23ac9203b93"
          }
        },
        "d996d2a5f8aa4b0889ec1fe2ec8a5f94": {
          "model_module": "@jupyter-widgets/controls",
          "model_name": "HTMLModel",
          "model_module_version": "1.5.0",
          "state": {
            "_dom_classes": [],
            "_model_module": "@jupyter-widgets/controls",
            "_model_module_version": "1.5.0",
            "_model_name": "HTMLModel",
            "_view_count": null,
            "_view_module": "@jupyter-widgets/controls",
            "_view_module_version": "1.5.0",
            "_view_name": "HTMLView",
            "description": "",
            "description_tooltip": null,
            "layout": "IPY_MODEL_0b9340e75ccb4f7ea46c286bb4999a7b",
            "placeholder": "​",
            "style": "IPY_MODEL_d9d9e80537764fd7a01b99a439573df9",
            "value": "sentencepiece.bpe.model: 100%"
          }
        },
        "e21eff896b644e2dac653bb4266e59c3": {
          "model_module": "@jupyter-widgets/controls",
          "model_name": "FloatProgressModel",
          "model_module_version": "1.5.0",
          "state": {
            "_dom_classes": [],
            "_model_module": "@jupyter-widgets/controls",
            "_model_module_version": "1.5.0",
            "_model_name": "FloatProgressModel",
            "_view_count": null,
            "_view_module": "@jupyter-widgets/controls",
            "_view_module_version": "1.5.0",
            "_view_name": "ProgressView",
            "bar_style": "success",
            "description": "",
            "description_tooltip": null,
            "layout": "IPY_MODEL_52b7f159483c43d19601353e727ff135",
            "max": 810912,
            "min": 0,
            "orientation": "horizontal",
            "style": "IPY_MODEL_6f831eb95a374062bc3471d5e76710b2",
            "value": 810912
          }
        },
        "a53704c0f72446be9680649d16f25e75": {
          "model_module": "@jupyter-widgets/controls",
          "model_name": "HTMLModel",
          "model_module_version": "1.5.0",
          "state": {
            "_dom_classes": [],
            "_model_module": "@jupyter-widgets/controls",
            "_model_module_version": "1.5.0",
            "_model_name": "HTMLModel",
            "_view_count": null,
            "_view_module": "@jupyter-widgets/controls",
            "_view_module_version": "1.5.0",
            "_view_name": "HTMLView",
            "description": "",
            "description_tooltip": null,
            "layout": "IPY_MODEL_de2bd5dbf00b4178be1f6ad2624fb4ef",
            "placeholder": "​",
            "style": "IPY_MODEL_8692e6d42ad54c3abda10cfe5251a012",
            "value": " 811k/811k [00:00&lt;00:00, 2.52MB/s]"
          }
        },
        "3a8c8ff6485642bfa7ddd23ac9203b93": {
          "model_module": "@jupyter-widgets/base",
          "model_name": "LayoutModel",
          "model_module_version": "1.2.0",
          "state": {
            "_model_module": "@jupyter-widgets/base",
            "_model_module_version": "1.2.0",
            "_model_name": "LayoutModel",
            "_view_count": null,
            "_view_module": "@jupyter-widgets/base",
            "_view_module_version": "1.2.0",
            "_view_name": "LayoutView",
            "align_content": null,
            "align_items": null,
            "align_self": null,
            "border": null,
            "bottom": null,
            "display": null,
            "flex": null,
            "flex_flow": null,
            "grid_area": null,
            "grid_auto_columns": null,
            "grid_auto_flow": null,
            "grid_auto_rows": null,
            "grid_column": null,
            "grid_gap": null,
            "grid_row": null,
            "grid_template_areas": null,
            "grid_template_columns": null,
            "grid_template_rows": null,
            "height": null,
            "justify_content": null,
            "justify_items": null,
            "left": null,
            "margin": null,
            "max_height": null,
            "max_width": null,
            "min_height": null,
            "min_width": null,
            "object_fit": null,
            "object_position": null,
            "order": null,
            "overflow": null,
            "overflow_x": null,
            "overflow_y": null,
            "padding": null,
            "right": null,
            "top": null,
            "visibility": null,
            "width": null
          }
        },
        "0b9340e75ccb4f7ea46c286bb4999a7b": {
          "model_module": "@jupyter-widgets/base",
          "model_name": "LayoutModel",
          "model_module_version": "1.2.0",
          "state": {
            "_model_module": "@jupyter-widgets/base",
            "_model_module_version": "1.2.0",
            "_model_name": "LayoutModel",
            "_view_count": null,
            "_view_module": "@jupyter-widgets/base",
            "_view_module_version": "1.2.0",
            "_view_name": "LayoutView",
            "align_content": null,
            "align_items": null,
            "align_self": null,
            "border": null,
            "bottom": null,
            "display": null,
            "flex": null,
            "flex_flow": null,
            "grid_area": null,
            "grid_auto_columns": null,
            "grid_auto_flow": null,
            "grid_auto_rows": null,
            "grid_column": null,
            "grid_gap": null,
            "grid_row": null,
            "grid_template_areas": null,
            "grid_template_columns": null,
            "grid_template_rows": null,
            "height": null,
            "justify_content": null,
            "justify_items": null,
            "left": null,
            "margin": null,
            "max_height": null,
            "max_width": null,
            "min_height": null,
            "min_width": null,
            "object_fit": null,
            "object_position": null,
            "order": null,
            "overflow": null,
            "overflow_x": null,
            "overflow_y": null,
            "padding": null,
            "right": null,
            "top": null,
            "visibility": null,
            "width": null
          }
        },
        "d9d9e80537764fd7a01b99a439573df9": {
          "model_module": "@jupyter-widgets/controls",
          "model_name": "DescriptionStyleModel",
          "model_module_version": "1.5.0",
          "state": {
            "_model_module": "@jupyter-widgets/controls",
            "_model_module_version": "1.5.0",
            "_model_name": "DescriptionStyleModel",
            "_view_count": null,
            "_view_module": "@jupyter-widgets/base",
            "_view_module_version": "1.2.0",
            "_view_name": "StyleView",
            "description_width": ""
          }
        },
        "52b7f159483c43d19601353e727ff135": {
          "model_module": "@jupyter-widgets/base",
          "model_name": "LayoutModel",
          "model_module_version": "1.2.0",
          "state": {
            "_model_module": "@jupyter-widgets/base",
            "_model_module_version": "1.2.0",
            "_model_name": "LayoutModel",
            "_view_count": null,
            "_view_module": "@jupyter-widgets/base",
            "_view_module_version": "1.2.0",
            "_view_name": "LayoutView",
            "align_content": null,
            "align_items": null,
            "align_self": null,
            "border": null,
            "bottom": null,
            "display": null,
            "flex": null,
            "flex_flow": null,
            "grid_area": null,
            "grid_auto_columns": null,
            "grid_auto_flow": null,
            "grid_auto_rows": null,
            "grid_column": null,
            "grid_gap": null,
            "grid_row": null,
            "grid_template_areas": null,
            "grid_template_columns": null,
            "grid_template_rows": null,
            "height": null,
            "justify_content": null,
            "justify_items": null,
            "left": null,
            "margin": null,
            "max_height": null,
            "max_width": null,
            "min_height": null,
            "min_width": null,
            "object_fit": null,
            "object_position": null,
            "order": null,
            "overflow": null,
            "overflow_x": null,
            "overflow_y": null,
            "padding": null,
            "right": null,
            "top": null,
            "visibility": null,
            "width": null
          }
        },
        "6f831eb95a374062bc3471d5e76710b2": {
          "model_module": "@jupyter-widgets/controls",
          "model_name": "ProgressStyleModel",
          "model_module_version": "1.5.0",
          "state": {
            "_model_module": "@jupyter-widgets/controls",
            "_model_module_version": "1.5.0",
            "_model_name": "ProgressStyleModel",
            "_view_count": null,
            "_view_module": "@jupyter-widgets/base",
            "_view_module_version": "1.2.0",
            "_view_name": "StyleView",
            "bar_color": null,
            "description_width": ""
          }
        },
        "de2bd5dbf00b4178be1f6ad2624fb4ef": {
          "model_module": "@jupyter-widgets/base",
          "model_name": "LayoutModel",
          "model_module_version": "1.2.0",
          "state": {
            "_model_module": "@jupyter-widgets/base",
            "_model_module_version": "1.2.0",
            "_model_name": "LayoutModel",
            "_view_count": null,
            "_view_module": "@jupyter-widgets/base",
            "_view_module_version": "1.2.0",
            "_view_name": "LayoutView",
            "align_content": null,
            "align_items": null,
            "align_self": null,
            "border": null,
            "bottom": null,
            "display": null,
            "flex": null,
            "flex_flow": null,
            "grid_area": null,
            "grid_auto_columns": null,
            "grid_auto_flow": null,
            "grid_auto_rows": null,
            "grid_column": null,
            "grid_gap": null,
            "grid_row": null,
            "grid_template_areas": null,
            "grid_template_columns": null,
            "grid_template_rows": null,
            "height": null,
            "justify_content": null,
            "justify_items": null,
            "left": null,
            "margin": null,
            "max_height": null,
            "max_width": null,
            "min_height": null,
            "min_width": null,
            "object_fit": null,
            "object_position": null,
            "order": null,
            "overflow": null,
            "overflow_x": null,
            "overflow_y": null,
            "padding": null,
            "right": null,
            "top": null,
            "visibility": null,
            "width": null
          }
        },
        "8692e6d42ad54c3abda10cfe5251a012": {
          "model_module": "@jupyter-widgets/controls",
          "model_name": "DescriptionStyleModel",
          "model_module_version": "1.5.0",
          "state": {
            "_model_module": "@jupyter-widgets/controls",
            "_model_module_version": "1.5.0",
            "_model_name": "DescriptionStyleModel",
            "_view_count": null,
            "_view_module": "@jupyter-widgets/base",
            "_view_module_version": "1.2.0",
            "_view_name": "StyleView",
            "description_width": ""
          }
        },
        "89c7900bd3654fbca13f77e818bf3cf6": {
          "model_module": "@jupyter-widgets/controls",
          "model_name": "HBoxModel",
          "model_module_version": "1.5.0",
          "state": {
            "_dom_classes": [],
            "_model_module": "@jupyter-widgets/controls",
            "_model_module_version": "1.5.0",
            "_model_name": "HBoxModel",
            "_view_count": null,
            "_view_module": "@jupyter-widgets/controls",
            "_view_module_version": "1.5.0",
            "_view_name": "HBoxView",
            "box_style": "",
            "children": [
              "IPY_MODEL_358686fa9a994ac88bc17be7ece3730b",
              "IPY_MODEL_4d2f487d503d4b7297d52c6834119bc7",
              "IPY_MODEL_76ad5cc84ed04cb5b6a55508dfa0ee0f"
            ],
            "layout": "IPY_MODEL_e2b134538b3b403e9d540b7075c557f0"
          }
        },
        "358686fa9a994ac88bc17be7ece3730b": {
          "model_module": "@jupyter-widgets/controls",
          "model_name": "HTMLModel",
          "model_module_version": "1.5.0",
          "state": {
            "_dom_classes": [],
            "_model_module": "@jupyter-widgets/controls",
            "_model_module_version": "1.5.0",
            "_model_name": "HTMLModel",
            "_view_count": null,
            "_view_module": "@jupyter-widgets/controls",
            "_view_module_version": "1.5.0",
            "_view_name": "HTMLView",
            "description": "",
            "description_tooltip": null,
            "layout": "IPY_MODEL_9119fefb8b7040d9ac038073c3040dd8",
            "placeholder": "​",
            "style": "IPY_MODEL_2514850323ef4fb6b8b56f5b25f18510",
            "value": "tokenizer.json: 100%"
          }
        },
        "4d2f487d503d4b7297d52c6834119bc7": {
          "model_module": "@jupyter-widgets/controls",
          "model_name": "FloatProgressModel",
          "model_module_version": "1.5.0",
          "state": {
            "_dom_classes": [],
            "_model_module": "@jupyter-widgets/controls",
            "_model_module_version": "1.5.0",
            "_model_name": "FloatProgressModel",
            "_view_count": null,
            "_view_module": "@jupyter-widgets/controls",
            "_view_module_version": "1.5.0",
            "_view_name": "ProgressView",
            "bar_style": "success",
            "description": "",
            "description_tooltip": null,
            "layout": "IPY_MODEL_49b6fc064f6d43b290b9734c3b259ce2",
            "max": 1395301,
            "min": 0,
            "orientation": "horizontal",
            "style": "IPY_MODEL_8cf4da1e5c984cc793151f6443c68a5d",
            "value": 1395301
          }
        },
        "76ad5cc84ed04cb5b6a55508dfa0ee0f": {
          "model_module": "@jupyter-widgets/controls",
          "model_name": "HTMLModel",
          "model_module_version": "1.5.0",
          "state": {
            "_dom_classes": [],
            "_model_module": "@jupyter-widgets/controls",
            "_model_module_version": "1.5.0",
            "_model_name": "HTMLModel",
            "_view_count": null,
            "_view_module": "@jupyter-widgets/controls",
            "_view_module_version": "1.5.0",
            "_view_name": "HTMLView",
            "description": "",
            "description_tooltip": null,
            "layout": "IPY_MODEL_42fe09fa1e484760b0696145b6b9efcc",
            "placeholder": "​",
            "style": "IPY_MODEL_2b5c9f6c27f74fab8ce4c7637c555218",
            "value": " 1.40M/1.40M [00:00&lt;00:00, 4.24MB/s]"
          }
        },
        "e2b134538b3b403e9d540b7075c557f0": {
          "model_module": "@jupyter-widgets/base",
          "model_name": "LayoutModel",
          "model_module_version": "1.2.0",
          "state": {
            "_model_module": "@jupyter-widgets/base",
            "_model_module_version": "1.2.0",
            "_model_name": "LayoutModel",
            "_view_count": null,
            "_view_module": "@jupyter-widgets/base",
            "_view_module_version": "1.2.0",
            "_view_name": "LayoutView",
            "align_content": null,
            "align_items": null,
            "align_self": null,
            "border": null,
            "bottom": null,
            "display": null,
            "flex": null,
            "flex_flow": null,
            "grid_area": null,
            "grid_auto_columns": null,
            "grid_auto_flow": null,
            "grid_auto_rows": null,
            "grid_column": null,
            "grid_gap": null,
            "grid_row": null,
            "grid_template_areas": null,
            "grid_template_columns": null,
            "grid_template_rows": null,
            "height": null,
            "justify_content": null,
            "justify_items": null,
            "left": null,
            "margin": null,
            "max_height": null,
            "max_width": null,
            "min_height": null,
            "min_width": null,
            "object_fit": null,
            "object_position": null,
            "order": null,
            "overflow": null,
            "overflow_x": null,
            "overflow_y": null,
            "padding": null,
            "right": null,
            "top": null,
            "visibility": null,
            "width": null
          }
        },
        "9119fefb8b7040d9ac038073c3040dd8": {
          "model_module": "@jupyter-widgets/base",
          "model_name": "LayoutModel",
          "model_module_version": "1.2.0",
          "state": {
            "_model_module": "@jupyter-widgets/base",
            "_model_module_version": "1.2.0",
            "_model_name": "LayoutModel",
            "_view_count": null,
            "_view_module": "@jupyter-widgets/base",
            "_view_module_version": "1.2.0",
            "_view_name": "LayoutView",
            "align_content": null,
            "align_items": null,
            "align_self": null,
            "border": null,
            "bottom": null,
            "display": null,
            "flex": null,
            "flex_flow": null,
            "grid_area": null,
            "grid_auto_columns": null,
            "grid_auto_flow": null,
            "grid_auto_rows": null,
            "grid_column": null,
            "grid_gap": null,
            "grid_row": null,
            "grid_template_areas": null,
            "grid_template_columns": null,
            "grid_template_rows": null,
            "height": null,
            "justify_content": null,
            "justify_items": null,
            "left": null,
            "margin": null,
            "max_height": null,
            "max_width": null,
            "min_height": null,
            "min_width": null,
            "object_fit": null,
            "object_position": null,
            "order": null,
            "overflow": null,
            "overflow_x": null,
            "overflow_y": null,
            "padding": null,
            "right": null,
            "top": null,
            "visibility": null,
            "width": null
          }
        },
        "2514850323ef4fb6b8b56f5b25f18510": {
          "model_module": "@jupyter-widgets/controls",
          "model_name": "DescriptionStyleModel",
          "model_module_version": "1.5.0",
          "state": {
            "_model_module": "@jupyter-widgets/controls",
            "_model_module_version": "1.5.0",
            "_model_name": "DescriptionStyleModel",
            "_view_count": null,
            "_view_module": "@jupyter-widgets/base",
            "_view_module_version": "1.2.0",
            "_view_name": "StyleView",
            "description_width": ""
          }
        },
        "49b6fc064f6d43b290b9734c3b259ce2": {
          "model_module": "@jupyter-widgets/base",
          "model_name": "LayoutModel",
          "model_module_version": "1.2.0",
          "state": {
            "_model_module": "@jupyter-widgets/base",
            "_model_module_version": "1.2.0",
            "_model_name": "LayoutModel",
            "_view_count": null,
            "_view_module": "@jupyter-widgets/base",
            "_view_module_version": "1.2.0",
            "_view_name": "LayoutView",
            "align_content": null,
            "align_items": null,
            "align_self": null,
            "border": null,
            "bottom": null,
            "display": null,
            "flex": null,
            "flex_flow": null,
            "grid_area": null,
            "grid_auto_columns": null,
            "grid_auto_flow": null,
            "grid_auto_rows": null,
            "grid_column": null,
            "grid_gap": null,
            "grid_row": null,
            "grid_template_areas": null,
            "grid_template_columns": null,
            "grid_template_rows": null,
            "height": null,
            "justify_content": null,
            "justify_items": null,
            "left": null,
            "margin": null,
            "max_height": null,
            "max_width": null,
            "min_height": null,
            "min_width": null,
            "object_fit": null,
            "object_position": null,
            "order": null,
            "overflow": null,
            "overflow_x": null,
            "overflow_y": null,
            "padding": null,
            "right": null,
            "top": null,
            "visibility": null,
            "width": null
          }
        },
        "8cf4da1e5c984cc793151f6443c68a5d": {
          "model_module": "@jupyter-widgets/controls",
          "model_name": "ProgressStyleModel",
          "model_module_version": "1.5.0",
          "state": {
            "_model_module": "@jupyter-widgets/controls",
            "_model_module_version": "1.5.0",
            "_model_name": "ProgressStyleModel",
            "_view_count": null,
            "_view_module": "@jupyter-widgets/base",
            "_view_module_version": "1.2.0",
            "_view_name": "StyleView",
            "bar_color": null,
            "description_width": ""
          }
        },
        "42fe09fa1e484760b0696145b6b9efcc": {
          "model_module": "@jupyter-widgets/base",
          "model_name": "LayoutModel",
          "model_module_version": "1.2.0",
          "state": {
            "_model_module": "@jupyter-widgets/base",
            "_model_module_version": "1.2.0",
            "_model_name": "LayoutModel",
            "_view_count": null,
            "_view_module": "@jupyter-widgets/base",
            "_view_module_version": "1.2.0",
            "_view_name": "LayoutView",
            "align_content": null,
            "align_items": null,
            "align_self": null,
            "border": null,
            "bottom": null,
            "display": null,
            "flex": null,
            "flex_flow": null,
            "grid_area": null,
            "grid_auto_columns": null,
            "grid_auto_flow": null,
            "grid_auto_rows": null,
            "grid_column": null,
            "grid_gap": null,
            "grid_row": null,
            "grid_template_areas": null,
            "grid_template_columns": null,
            "grid_template_rows": null,
            "height": null,
            "justify_content": null,
            "justify_items": null,
            "left": null,
            "margin": null,
            "max_height": null,
            "max_width": null,
            "min_height": null,
            "min_width": null,
            "object_fit": null,
            "object_position": null,
            "order": null,
            "overflow": null,
            "overflow_x": null,
            "overflow_y": null,
            "padding": null,
            "right": null,
            "top": null,
            "visibility": null,
            "width": null
          }
        },
        "2b5c9f6c27f74fab8ce4c7637c555218": {
          "model_module": "@jupyter-widgets/controls",
          "model_name": "DescriptionStyleModel",
          "model_module_version": "1.5.0",
          "state": {
            "_model_module": "@jupyter-widgets/controls",
            "_model_module_version": "1.5.0",
            "_model_name": "DescriptionStyleModel",
            "_view_count": null,
            "_view_module": "@jupyter-widgets/base",
            "_view_module_version": "1.2.0",
            "_view_name": "StyleView",
            "description_width": ""
          }
        },
        "bd4b4fc57b0547f9bb8a2f79f059bdf7": {
          "model_module": "@jupyter-widgets/controls",
          "model_name": "HBoxModel",
          "model_module_version": "1.5.0",
          "state": {
            "_dom_classes": [],
            "_model_module": "@jupyter-widgets/controls",
            "_model_module_version": "1.5.0",
            "_model_name": "HBoxModel",
            "_view_count": null,
            "_view_module": "@jupyter-widgets/controls",
            "_view_module_version": "1.5.0",
            "_view_name": "HBoxView",
            "box_style": "",
            "children": [
              "IPY_MODEL_6745441bd9614af085e6e929efd82fc6",
              "IPY_MODEL_6be3e84ea6924db09533f151f8355319",
              "IPY_MODEL_5d971de1c48b412a95862872d90b1d6c"
            ],
            "layout": "IPY_MODEL_2a5527bfa18e48df824aec024f5dc030"
          }
        },
        "6745441bd9614af085e6e929efd82fc6": {
          "model_module": "@jupyter-widgets/controls",
          "model_name": "HTMLModel",
          "model_module_version": "1.5.0",
          "state": {
            "_dom_classes": [],
            "_model_module": "@jupyter-widgets/controls",
            "_model_module_version": "1.5.0",
            "_model_name": "HTMLModel",
            "_view_count": null,
            "_view_module": "@jupyter-widgets/controls",
            "_view_module_version": "1.5.0",
            "_view_name": "HTMLView",
            "description": "",
            "description_tooltip": null,
            "layout": "IPY_MODEL_f3522d4ba67c48469525733b32fd1059",
            "placeholder": "​",
            "style": "IPY_MODEL_c3bf09ffd06542b5961d817149a7c39d",
            "value": "config.json: 100%"
          }
        },
        "6be3e84ea6924db09533f151f8355319": {
          "model_module": "@jupyter-widgets/controls",
          "model_name": "FloatProgressModel",
          "model_module_version": "1.5.0",
          "state": {
            "_dom_classes": [],
            "_model_module": "@jupyter-widgets/controls",
            "_model_module_version": "1.5.0",
            "_model_name": "FloatProgressModel",
            "_view_count": null,
            "_view_module": "@jupyter-widgets/controls",
            "_view_module_version": "1.5.0",
            "_view_name": "ProgressView",
            "bar_style": "success",
            "description": "",
            "description_tooltip": null,
            "layout": "IPY_MODEL_7057b4423a364a49aa0fc595f511fed6",
            "max": 508,
            "min": 0,
            "orientation": "horizontal",
            "style": "IPY_MODEL_34ec69eea2cb4d0a9c8d798762da4a54",
            "value": 508
          }
        },
        "5d971de1c48b412a95862872d90b1d6c": {
          "model_module": "@jupyter-widgets/controls",
          "model_name": "HTMLModel",
          "model_module_version": "1.5.0",
          "state": {
            "_dom_classes": [],
            "_model_module": "@jupyter-widgets/controls",
            "_model_module_version": "1.5.0",
            "_model_name": "HTMLModel",
            "_view_count": null,
            "_view_module": "@jupyter-widgets/controls",
            "_view_module_version": "1.5.0",
            "_view_name": "HTMLView",
            "description": "",
            "description_tooltip": null,
            "layout": "IPY_MODEL_904b4e68e09b43b3b01a0775eba3cc29",
            "placeholder": "​",
            "style": "IPY_MODEL_4fb0a48a0491400cbe152d8352f8b102",
            "value": " 508/508 [00:00&lt;00:00, 42.7kB/s]"
          }
        },
        "2a5527bfa18e48df824aec024f5dc030": {
          "model_module": "@jupyter-widgets/base",
          "model_name": "LayoutModel",
          "model_module_version": "1.2.0",
          "state": {
            "_model_module": "@jupyter-widgets/base",
            "_model_module_version": "1.2.0",
            "_model_name": "LayoutModel",
            "_view_count": null,
            "_view_module": "@jupyter-widgets/base",
            "_view_module_version": "1.2.0",
            "_view_name": "LayoutView",
            "align_content": null,
            "align_items": null,
            "align_self": null,
            "border": null,
            "bottom": null,
            "display": null,
            "flex": null,
            "flex_flow": null,
            "grid_area": null,
            "grid_auto_columns": null,
            "grid_auto_flow": null,
            "grid_auto_rows": null,
            "grid_column": null,
            "grid_gap": null,
            "grid_row": null,
            "grid_template_areas": null,
            "grid_template_columns": null,
            "grid_template_rows": null,
            "height": null,
            "justify_content": null,
            "justify_items": null,
            "left": null,
            "margin": null,
            "max_height": null,
            "max_width": null,
            "min_height": null,
            "min_width": null,
            "object_fit": null,
            "object_position": null,
            "order": null,
            "overflow": null,
            "overflow_x": null,
            "overflow_y": null,
            "padding": null,
            "right": null,
            "top": null,
            "visibility": null,
            "width": null
          }
        },
        "f3522d4ba67c48469525733b32fd1059": {
          "model_module": "@jupyter-widgets/base",
          "model_name": "LayoutModel",
          "model_module_version": "1.2.0",
          "state": {
            "_model_module": "@jupyter-widgets/base",
            "_model_module_version": "1.2.0",
            "_model_name": "LayoutModel",
            "_view_count": null,
            "_view_module": "@jupyter-widgets/base",
            "_view_module_version": "1.2.0",
            "_view_name": "LayoutView",
            "align_content": null,
            "align_items": null,
            "align_self": null,
            "border": null,
            "bottom": null,
            "display": null,
            "flex": null,
            "flex_flow": null,
            "grid_area": null,
            "grid_auto_columns": null,
            "grid_auto_flow": null,
            "grid_auto_rows": null,
            "grid_column": null,
            "grid_gap": null,
            "grid_row": null,
            "grid_template_areas": null,
            "grid_template_columns": null,
            "grid_template_rows": null,
            "height": null,
            "justify_content": null,
            "justify_items": null,
            "left": null,
            "margin": null,
            "max_height": null,
            "max_width": null,
            "min_height": null,
            "min_width": null,
            "object_fit": null,
            "object_position": null,
            "order": null,
            "overflow": null,
            "overflow_x": null,
            "overflow_y": null,
            "padding": null,
            "right": null,
            "top": null,
            "visibility": null,
            "width": null
          }
        },
        "c3bf09ffd06542b5961d817149a7c39d": {
          "model_module": "@jupyter-widgets/controls",
          "model_name": "DescriptionStyleModel",
          "model_module_version": "1.5.0",
          "state": {
            "_model_module": "@jupyter-widgets/controls",
            "_model_module_version": "1.5.0",
            "_model_name": "DescriptionStyleModel",
            "_view_count": null,
            "_view_module": "@jupyter-widgets/base",
            "_view_module_version": "1.2.0",
            "_view_name": "StyleView",
            "description_width": ""
          }
        },
        "7057b4423a364a49aa0fc595f511fed6": {
          "model_module": "@jupyter-widgets/base",
          "model_name": "LayoutModel",
          "model_module_version": "1.2.0",
          "state": {
            "_model_module": "@jupyter-widgets/base",
            "_model_module_version": "1.2.0",
            "_model_name": "LayoutModel",
            "_view_count": null,
            "_view_module": "@jupyter-widgets/base",
            "_view_module_version": "1.2.0",
            "_view_name": "LayoutView",
            "align_content": null,
            "align_items": null,
            "align_self": null,
            "border": null,
            "bottom": null,
            "display": null,
            "flex": null,
            "flex_flow": null,
            "grid_area": null,
            "grid_auto_columns": null,
            "grid_auto_flow": null,
            "grid_auto_rows": null,
            "grid_column": null,
            "grid_gap": null,
            "grid_row": null,
            "grid_template_areas": null,
            "grid_template_columns": null,
            "grid_template_rows": null,
            "height": null,
            "justify_content": null,
            "justify_items": null,
            "left": null,
            "margin": null,
            "max_height": null,
            "max_width": null,
            "min_height": null,
            "min_width": null,
            "object_fit": null,
            "object_position": null,
            "order": null,
            "overflow": null,
            "overflow_x": null,
            "overflow_y": null,
            "padding": null,
            "right": null,
            "top": null,
            "visibility": null,
            "width": null
          }
        },
        "34ec69eea2cb4d0a9c8d798762da4a54": {
          "model_module": "@jupyter-widgets/controls",
          "model_name": "ProgressStyleModel",
          "model_module_version": "1.5.0",
          "state": {
            "_model_module": "@jupyter-widgets/controls",
            "_model_module_version": "1.5.0",
            "_model_name": "ProgressStyleModel",
            "_view_count": null,
            "_view_module": "@jupyter-widgets/base",
            "_view_module_version": "1.2.0",
            "_view_name": "StyleView",
            "bar_color": null,
            "description_width": ""
          }
        },
        "904b4e68e09b43b3b01a0775eba3cc29": {
          "model_module": "@jupyter-widgets/base",
          "model_name": "LayoutModel",
          "model_module_version": "1.2.0",
          "state": {
            "_model_module": "@jupyter-widgets/base",
            "_model_module_version": "1.2.0",
            "_model_name": "LayoutModel",
            "_view_count": null,
            "_view_module": "@jupyter-widgets/base",
            "_view_module_version": "1.2.0",
            "_view_name": "LayoutView",
            "align_content": null,
            "align_items": null,
            "align_self": null,
            "border": null,
            "bottom": null,
            "display": null,
            "flex": null,
            "flex_flow": null,
            "grid_area": null,
            "grid_auto_columns": null,
            "grid_auto_flow": null,
            "grid_auto_rows": null,
            "grid_column": null,
            "grid_gap": null,
            "grid_row": null,
            "grid_template_areas": null,
            "grid_template_columns": null,
            "grid_template_rows": null,
            "height": null,
            "justify_content": null,
            "justify_items": null,
            "left": null,
            "margin": null,
            "max_height": null,
            "max_width": null,
            "min_height": null,
            "min_width": null,
            "object_fit": null,
            "object_position": null,
            "order": null,
            "overflow": null,
            "overflow_x": null,
            "overflow_y": null,
            "padding": null,
            "right": null,
            "top": null,
            "visibility": null,
            "width": null
          }
        },
        "4fb0a48a0491400cbe152d8352f8b102": {
          "model_module": "@jupyter-widgets/controls",
          "model_name": "DescriptionStyleModel",
          "model_module_version": "1.5.0",
          "state": {
            "_model_module": "@jupyter-widgets/controls",
            "_model_module_version": "1.5.0",
            "_model_name": "DescriptionStyleModel",
            "_view_count": null,
            "_view_module": "@jupyter-widgets/base",
            "_view_module_version": "1.2.0",
            "_view_name": "StyleView",
            "description_width": ""
          }
        },
        "c149a06474b34f6a98740c73852609c6": {
          "model_module": "@jupyter-widgets/controls",
          "model_name": "HBoxModel",
          "model_module_version": "1.5.0",
          "state": {
            "_dom_classes": [],
            "_model_module": "@jupyter-widgets/controls",
            "_model_module_version": "1.5.0",
            "_model_name": "HBoxModel",
            "_view_count": null,
            "_view_module": "@jupyter-widgets/controls",
            "_view_module_version": "1.5.0",
            "_view_name": "HBoxView",
            "box_style": "",
            "children": [
              "IPY_MODEL_3abb698dbb7f4886b4483429180cd288",
              "IPY_MODEL_bff23468cb694d5d88352e4539f04f0f",
              "IPY_MODEL_9a50ba468a6d43ffa8807157551b9066"
            ],
            "layout": "IPY_MODEL_c5a58953ee9b422cb5f2fbd576ada404"
          }
        },
        "3abb698dbb7f4886b4483429180cd288": {
          "model_module": "@jupyter-widgets/controls",
          "model_name": "HTMLModel",
          "model_module_version": "1.5.0",
          "state": {
            "_dom_classes": [],
            "_model_module": "@jupyter-widgets/controls",
            "_model_module_version": "1.5.0",
            "_model_name": "HTMLModel",
            "_view_count": null,
            "_view_module": "@jupyter-widgets/controls",
            "_view_module_version": "1.5.0",
            "_view_name": "HTMLView",
            "description": "",
            "description_tooltip": null,
            "layout": "IPY_MODEL_0b09d2b9b53f4b03b1a312b193132c5b",
            "placeholder": "​",
            "style": "IPY_MODEL_d7b39d1623d04e3aa31ea9164a17891e",
            "value": "model.safetensors: 100%"
          }
        },
        "bff23468cb694d5d88352e4539f04f0f": {
          "model_module": "@jupyter-widgets/controls",
          "model_name": "FloatProgressModel",
          "model_module_version": "1.5.0",
          "state": {
            "_dom_classes": [],
            "_model_module": "@jupyter-widgets/controls",
            "_model_module_version": "1.5.0",
            "_model_name": "FloatProgressModel",
            "_view_count": null,
            "_view_module": "@jupyter-widgets/controls",
            "_view_module_version": "1.5.0",
            "_view_name": "ProgressView",
            "bar_style": "success",
            "description": "",
            "description_tooltip": null,
            "layout": "IPY_MODEL_1f21c7311a314d688e836a20e120898a",
            "max": 445008750,
            "min": 0,
            "orientation": "horizontal",
            "style": "IPY_MODEL_7e77c11ec0424b49814e0885d35e9fd0",
            "value": 445008750
          }
        },
        "9a50ba468a6d43ffa8807157551b9066": {
          "model_module": "@jupyter-widgets/controls",
          "model_name": "HTMLModel",
          "model_module_version": "1.5.0",
          "state": {
            "_dom_classes": [],
            "_model_module": "@jupyter-widgets/controls",
            "_model_module_version": "1.5.0",
            "_model_name": "HTMLModel",
            "_view_count": null,
            "_view_module": "@jupyter-widgets/controls",
            "_view_module_version": "1.5.0",
            "_view_name": "HTMLView",
            "description": "",
            "description_tooltip": null,
            "layout": "IPY_MODEL_c2bcf96c9e7b408aa885b5816a509849",
            "placeholder": "​",
            "style": "IPY_MODEL_b58bd4b77f424c4483f42daa8a855ea6",
            "value": " 445M/445M [00:01&lt;00:00, 362MB/s]"
          }
        },
        "c5a58953ee9b422cb5f2fbd576ada404": {
          "model_module": "@jupyter-widgets/base",
          "model_name": "LayoutModel",
          "model_module_version": "1.2.0",
          "state": {
            "_model_module": "@jupyter-widgets/base",
            "_model_module_version": "1.2.0",
            "_model_name": "LayoutModel",
            "_view_count": null,
            "_view_module": "@jupyter-widgets/base",
            "_view_module_version": "1.2.0",
            "_view_name": "LayoutView",
            "align_content": null,
            "align_items": null,
            "align_self": null,
            "border": null,
            "bottom": null,
            "display": null,
            "flex": null,
            "flex_flow": null,
            "grid_area": null,
            "grid_auto_columns": null,
            "grid_auto_flow": null,
            "grid_auto_rows": null,
            "grid_column": null,
            "grid_gap": null,
            "grid_row": null,
            "grid_template_areas": null,
            "grid_template_columns": null,
            "grid_template_rows": null,
            "height": null,
            "justify_content": null,
            "justify_items": null,
            "left": null,
            "margin": null,
            "max_height": null,
            "max_width": null,
            "min_height": null,
            "min_width": null,
            "object_fit": null,
            "object_position": null,
            "order": null,
            "overflow": null,
            "overflow_x": null,
            "overflow_y": null,
            "padding": null,
            "right": null,
            "top": null,
            "visibility": null,
            "width": null
          }
        },
        "0b09d2b9b53f4b03b1a312b193132c5b": {
          "model_module": "@jupyter-widgets/base",
          "model_name": "LayoutModel",
          "model_module_version": "1.2.0",
          "state": {
            "_model_module": "@jupyter-widgets/base",
            "_model_module_version": "1.2.0",
            "_model_name": "LayoutModel",
            "_view_count": null,
            "_view_module": "@jupyter-widgets/base",
            "_view_module_version": "1.2.0",
            "_view_name": "LayoutView",
            "align_content": null,
            "align_items": null,
            "align_self": null,
            "border": null,
            "bottom": null,
            "display": null,
            "flex": null,
            "flex_flow": null,
            "grid_area": null,
            "grid_auto_columns": null,
            "grid_auto_flow": null,
            "grid_auto_rows": null,
            "grid_column": null,
            "grid_gap": null,
            "grid_row": null,
            "grid_template_areas": null,
            "grid_template_columns": null,
            "grid_template_rows": null,
            "height": null,
            "justify_content": null,
            "justify_items": null,
            "left": null,
            "margin": null,
            "max_height": null,
            "max_width": null,
            "min_height": null,
            "min_width": null,
            "object_fit": null,
            "object_position": null,
            "order": null,
            "overflow": null,
            "overflow_x": null,
            "overflow_y": null,
            "padding": null,
            "right": null,
            "top": null,
            "visibility": null,
            "width": null
          }
        },
        "d7b39d1623d04e3aa31ea9164a17891e": {
          "model_module": "@jupyter-widgets/controls",
          "model_name": "DescriptionStyleModel",
          "model_module_version": "1.5.0",
          "state": {
            "_model_module": "@jupyter-widgets/controls",
            "_model_module_version": "1.5.0",
            "_model_name": "DescriptionStyleModel",
            "_view_count": null,
            "_view_module": "@jupyter-widgets/base",
            "_view_module_version": "1.2.0",
            "_view_name": "StyleView",
            "description_width": ""
          }
        },
        "1f21c7311a314d688e836a20e120898a": {
          "model_module": "@jupyter-widgets/base",
          "model_name": "LayoutModel",
          "model_module_version": "1.2.0",
          "state": {
            "_model_module": "@jupyter-widgets/base",
            "_model_module_version": "1.2.0",
            "_model_name": "LayoutModel",
            "_view_count": null,
            "_view_module": "@jupyter-widgets/base",
            "_view_module_version": "1.2.0",
            "_view_name": "LayoutView",
            "align_content": null,
            "align_items": null,
            "align_self": null,
            "border": null,
            "bottom": null,
            "display": null,
            "flex": null,
            "flex_flow": null,
            "grid_area": null,
            "grid_auto_columns": null,
            "grid_auto_flow": null,
            "grid_auto_rows": null,
            "grid_column": null,
            "grid_gap": null,
            "grid_row": null,
            "grid_template_areas": null,
            "grid_template_columns": null,
            "grid_template_rows": null,
            "height": null,
            "justify_content": null,
            "justify_items": null,
            "left": null,
            "margin": null,
            "max_height": null,
            "max_width": null,
            "min_height": null,
            "min_width": null,
            "object_fit": null,
            "object_position": null,
            "order": null,
            "overflow": null,
            "overflow_x": null,
            "overflow_y": null,
            "padding": null,
            "right": null,
            "top": null,
            "visibility": null,
            "width": null
          }
        },
        "7e77c11ec0424b49814e0885d35e9fd0": {
          "model_module": "@jupyter-widgets/controls",
          "model_name": "ProgressStyleModel",
          "model_module_version": "1.5.0",
          "state": {
            "_model_module": "@jupyter-widgets/controls",
            "_model_module_version": "1.5.0",
            "_model_name": "ProgressStyleModel",
            "_view_count": null,
            "_view_module": "@jupyter-widgets/base",
            "_view_module_version": "1.2.0",
            "_view_name": "StyleView",
            "bar_color": null,
            "description_width": ""
          }
        },
        "c2bcf96c9e7b408aa885b5816a509849": {
          "model_module": "@jupyter-widgets/base",
          "model_name": "LayoutModel",
          "model_module_version": "1.2.0",
          "state": {
            "_model_module": "@jupyter-widgets/base",
            "_model_module_version": "1.2.0",
            "_model_name": "LayoutModel",
            "_view_count": null,
            "_view_module": "@jupyter-widgets/base",
            "_view_module_version": "1.2.0",
            "_view_name": "LayoutView",
            "align_content": null,
            "align_items": null,
            "align_self": null,
            "border": null,
            "bottom": null,
            "display": null,
            "flex": null,
            "flex_flow": null,
            "grid_area": null,
            "grid_auto_columns": null,
            "grid_auto_flow": null,
            "grid_auto_rows": null,
            "grid_column": null,
            "grid_gap": null,
            "grid_row": null,
            "grid_template_areas": null,
            "grid_template_columns": null,
            "grid_template_rows": null,
            "height": null,
            "justify_content": null,
            "justify_items": null,
            "left": null,
            "margin": null,
            "max_height": null,
            "max_width": null,
            "min_height": null,
            "min_width": null,
            "object_fit": null,
            "object_position": null,
            "order": null,
            "overflow": null,
            "overflow_x": null,
            "overflow_y": null,
            "padding": null,
            "right": null,
            "top": null,
            "visibility": null,
            "width": null
          }
        },
        "b58bd4b77f424c4483f42daa8a855ea6": {
          "model_module": "@jupyter-widgets/controls",
          "model_name": "DescriptionStyleModel",
          "model_module_version": "1.5.0",
          "state": {
            "_model_module": "@jupyter-widgets/controls",
            "_model_module_version": "1.5.0",
            "_model_name": "DescriptionStyleModel",
            "_view_count": null,
            "_view_module": "@jupyter-widgets/base",
            "_view_module_version": "1.2.0",
            "_view_name": "StyleView",
            "description_width": ""
          }
        }
      }
    }
  },
  "nbformat": 4,
  "nbformat_minor": 0
}
