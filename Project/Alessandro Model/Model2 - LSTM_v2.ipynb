{
 "cells": [
  {
   "cell_type": "markdown",
   "metadata": {
    "id": "kTfmqzC6OtfX"
   },
   "source": [
    "#Initialization of the kaggle and the files#"
   ]
  },
  {
   "cell_type": "code",
   "execution_count": 1,
   "metadata": {
    "colab": {
     "base_uri": "https://localhost:8080/"
    },
    "id": "UJ_hnJzSNO2g",
    "outputId": "9415a2e5-64da-43de-896d-75eef671bb98"
   },
   "outputs": [
    {
     "output_type": "stream",
     "name": "stdout",
     "text": [
      "Mounted at /content/drive\n"
     ]
    }
   ],
   "source": [
    "# reading in the data via the Kaggle API\n",
    "\n",
    "# mount your Google Drive\n",
    "from google.colab import drive\n",
    "drive.mount('/content/drive', force_remount=True)"
   ]
  },
  {
   "cell_type": "code",
   "execution_count": 2,
   "metadata": {
    "colab": {
     "base_uri": "https://localhost:8080/"
    },
    "id": "mJPTz3D7TeQv",
    "outputId": "4ab22447-a2f1-4c7c-b73c-96f826c56e50"
   },
   "outputs": [
    {
     "output_type": "stream",
     "name": "stdout",
     "text": [
      "Requirement already satisfied: kaggle in /usr/local/lib/python3.10/dist-packages (1.5.16)\n",
      "Requirement already satisfied: six>=1.10 in /usr/local/lib/python3.10/dist-packages (from kaggle) (1.16.0)\n",
      "Requirement already satisfied: certifi in /usr/local/lib/python3.10/dist-packages (from kaggle) (2023.11.17)\n",
      "Requirement already satisfied: python-dateutil in /usr/local/lib/python3.10/dist-packages (from kaggle) (2.8.2)\n",
      "Requirement already satisfied: requests in /usr/local/lib/python3.10/dist-packages (from kaggle) (2.31.0)\n",
      "Requirement already satisfied: tqdm in /usr/local/lib/python3.10/dist-packages (from kaggle) (4.66.1)\n",
      "Requirement already satisfied: python-slugify in /usr/local/lib/python3.10/dist-packages (from kaggle) (8.0.1)\n",
      "Requirement already satisfied: urllib3 in /usr/local/lib/python3.10/dist-packages (from kaggle) (2.0.7)\n",
      "Requirement already satisfied: bleach in /usr/local/lib/python3.10/dist-packages (from kaggle) (6.1.0)\n",
      "Requirement already satisfied: webencodings in /usr/local/lib/python3.10/dist-packages (from bleach->kaggle) (0.5.1)\n",
      "Requirement already satisfied: text-unidecode>=1.3 in /usr/local/lib/python3.10/dist-packages (from python-slugify->kaggle) (1.3)\n",
      "Requirement already satisfied: charset-normalizer<4,>=2 in /usr/local/lib/python3.10/dist-packages (from requests->kaggle) (3.3.2)\n",
      "Requirement already satisfied: idna<4,>=2.5 in /usr/local/lib/python3.10/dist-packages (from requests->kaggle) (3.6)\n",
      "Collecting tensorflow_addons\n",
      "  Downloading tensorflow_addons-0.23.0-cp310-cp310-manylinux_2_17_x86_64.manylinux2014_x86_64.whl (611 kB)\n",
      "\u001B[2K     \u001B[90m━━━━━━━━━━━━━━━━━━━━━━━━━━━━━━━━━━━━━━━━\u001B[0m \u001B[32m611.8/611.8 kB\u001B[0m \u001B[31m9.9 MB/s\u001B[0m eta \u001B[36m0:00:00\u001B[0m\n",
      "\u001B[?25hRequirement already satisfied: packaging in /usr/local/lib/python3.10/dist-packages (from tensorflow_addons) (23.2)\n",
      "Collecting typeguard<3.0.0,>=2.7 (from tensorflow_addons)\n",
      "  Downloading typeguard-2.13.3-py3-none-any.whl (17 kB)\n",
      "Installing collected packages: typeguard, tensorflow_addons\n",
      "Successfully installed tensorflow_addons-0.23.0 typeguard-2.13.3\n",
      "Requirement already satisfied: tensorflow in /usr/local/lib/python3.10/dist-packages (2.15.0)\n",
      "Requirement already satisfied: absl-py>=1.0.0 in /usr/local/lib/python3.10/dist-packages (from tensorflow) (1.4.0)\n",
      "Requirement already satisfied: astunparse>=1.6.0 in /usr/local/lib/python3.10/dist-packages (from tensorflow) (1.6.3)\n",
      "Requirement already satisfied: flatbuffers>=23.5.26 in /usr/local/lib/python3.10/dist-packages (from tensorflow) (23.5.26)\n",
      "Requirement already satisfied: gast!=0.5.0,!=0.5.1,!=0.5.2,>=0.2.1 in /usr/local/lib/python3.10/dist-packages (from tensorflow) (0.5.4)\n",
      "Requirement already satisfied: google-pasta>=0.1.1 in /usr/local/lib/python3.10/dist-packages (from tensorflow) (0.2.0)\n",
      "Requirement already satisfied: h5py>=2.9.0 in /usr/local/lib/python3.10/dist-packages (from tensorflow) (3.9.0)\n",
      "Requirement already satisfied: libclang>=13.0.0 in /usr/local/lib/python3.10/dist-packages (from tensorflow) (16.0.6)\n",
      "Requirement already satisfied: ml-dtypes~=0.2.0 in /usr/local/lib/python3.10/dist-packages (from tensorflow) (0.2.0)\n",
      "Requirement already satisfied: numpy<2.0.0,>=1.23.5 in /usr/local/lib/python3.10/dist-packages (from tensorflow) (1.23.5)\n",
      "Requirement already satisfied: opt-einsum>=2.3.2 in /usr/local/lib/python3.10/dist-packages (from tensorflow) (3.3.0)\n",
      "Requirement already satisfied: packaging in /usr/local/lib/python3.10/dist-packages (from tensorflow) (23.2)\n",
      "Requirement already satisfied: protobuf!=4.21.0,!=4.21.1,!=4.21.2,!=4.21.3,!=4.21.4,!=4.21.5,<5.0.0dev,>=3.20.3 in /usr/local/lib/python3.10/dist-packages (from tensorflow) (3.20.3)\n",
      "Requirement already satisfied: setuptools in /usr/local/lib/python3.10/dist-packages (from tensorflow) (67.7.2)\n",
      "Requirement already satisfied: six>=1.12.0 in /usr/local/lib/python3.10/dist-packages (from tensorflow) (1.16.0)\n",
      "Requirement already satisfied: termcolor>=1.1.0 in /usr/local/lib/python3.10/dist-packages (from tensorflow) (2.4.0)\n",
      "Requirement already satisfied: typing-extensions>=3.6.6 in /usr/local/lib/python3.10/dist-packages (from tensorflow) (4.5.0)\n",
      "Requirement already satisfied: wrapt<1.15,>=1.11.0 in /usr/local/lib/python3.10/dist-packages (from tensorflow) (1.14.1)\n",
      "Requirement already satisfied: tensorflow-io-gcs-filesystem>=0.23.1 in /usr/local/lib/python3.10/dist-packages (from tensorflow) (0.34.0)\n",
      "Requirement already satisfied: grpcio<2.0,>=1.24.3 in /usr/local/lib/python3.10/dist-packages (from tensorflow) (1.60.0)\n",
      "Requirement already satisfied: tensorboard<2.16,>=2.15 in /usr/local/lib/python3.10/dist-packages (from tensorflow) (2.15.1)\n",
      "Requirement already satisfied: tensorflow-estimator<2.16,>=2.15.0 in /usr/local/lib/python3.10/dist-packages (from tensorflow) (2.15.0)\n",
      "Requirement already satisfied: keras<2.16,>=2.15.0 in /usr/local/lib/python3.10/dist-packages (from tensorflow) (2.15.0)\n",
      "Requirement already satisfied: wheel<1.0,>=0.23.0 in /usr/local/lib/python3.10/dist-packages (from astunparse>=1.6.0->tensorflow) (0.42.0)\n",
      "Requirement already satisfied: google-auth<3,>=1.6.3 in /usr/local/lib/python3.10/dist-packages (from tensorboard<2.16,>=2.15->tensorflow) (2.17.3)\n",
      "Requirement already satisfied: google-auth-oauthlib<2,>=0.5 in /usr/local/lib/python3.10/dist-packages (from tensorboard<2.16,>=2.15->tensorflow) (1.2.0)\n",
      "Requirement already satisfied: markdown>=2.6.8 in /usr/local/lib/python3.10/dist-packages (from tensorboard<2.16,>=2.15->tensorflow) (3.5.1)\n",
      "Requirement already satisfied: requests<3,>=2.21.0 in /usr/local/lib/python3.10/dist-packages (from tensorboard<2.16,>=2.15->tensorflow) (2.31.0)\n",
      "Requirement already satisfied: tensorboard-data-server<0.8.0,>=0.7.0 in /usr/local/lib/python3.10/dist-packages (from tensorboard<2.16,>=2.15->tensorflow) (0.7.2)\n",
      "Requirement already satisfied: werkzeug>=1.0.1 in /usr/local/lib/python3.10/dist-packages (from tensorboard<2.16,>=2.15->tensorflow) (3.0.1)\n",
      "Requirement already satisfied: cachetools<6.0,>=2.0.0 in /usr/local/lib/python3.10/dist-packages (from google-auth<3,>=1.6.3->tensorboard<2.16,>=2.15->tensorflow) (5.3.2)\n",
      "Requirement already satisfied: pyasn1-modules>=0.2.1 in /usr/local/lib/python3.10/dist-packages (from google-auth<3,>=1.6.3->tensorboard<2.16,>=2.15->tensorflow) (0.3.0)\n",
      "Requirement already satisfied: rsa<5,>=3.1.4 in /usr/local/lib/python3.10/dist-packages (from google-auth<3,>=1.6.3->tensorboard<2.16,>=2.15->tensorflow) (4.9)\n",
      "Requirement already satisfied: requests-oauthlib>=0.7.0 in /usr/local/lib/python3.10/dist-packages (from google-auth-oauthlib<2,>=0.5->tensorboard<2.16,>=2.15->tensorflow) (1.3.1)\n",
      "Requirement already satisfied: charset-normalizer<4,>=2 in /usr/local/lib/python3.10/dist-packages (from requests<3,>=2.21.0->tensorboard<2.16,>=2.15->tensorflow) (3.3.2)\n",
      "Requirement already satisfied: idna<4,>=2.5 in /usr/local/lib/python3.10/dist-packages (from requests<3,>=2.21.0->tensorboard<2.16,>=2.15->tensorflow) (3.6)\n",
      "Requirement already satisfied: urllib3<3,>=1.21.1 in /usr/local/lib/python3.10/dist-packages (from requests<3,>=2.21.0->tensorboard<2.16,>=2.15->tensorflow) (2.0.7)\n",
      "Requirement already satisfied: certifi>=2017.4.17 in /usr/local/lib/python3.10/dist-packages (from requests<3,>=2.21.0->tensorboard<2.16,>=2.15->tensorflow) (2023.11.17)\n",
      "Requirement already satisfied: MarkupSafe>=2.1.1 in /usr/local/lib/python3.10/dist-packages (from werkzeug>=1.0.1->tensorboard<2.16,>=2.15->tensorflow) (2.1.3)\n",
      "Requirement already satisfied: pyasn1<0.6.0,>=0.4.6 in /usr/local/lib/python3.10/dist-packages (from pyasn1-modules>=0.2.1->google-auth<3,>=1.6.3->tensorboard<2.16,>=2.15->tensorflow) (0.5.1)\n",
      "Requirement already satisfied: oauthlib>=3.0.0 in /usr/local/lib/python3.10/dist-packages (from requests-oauthlib>=0.7.0->google-auth-oauthlib<2,>=0.5->tensorboard<2.16,>=2.15->tensorflow) (3.2.2)\n"
     ]
    }
   ],
   "source": [
    "# install Kaggle\n",
    "! pip install kaggle\n",
    "!pip install tensorflow_addons\n",
    "!pip install tensorflow\n"
   ]
  },
  {
   "cell_type": "markdown",
   "metadata": {
    "id": "ZKG1TCddRYTB"
   },
   "source": [
    "Log into your Kaggle account, go to Account > API > Create new API token. You will obtain a kaggle.json file, which you save on your Google Drive directy in my drive."
   ]
  },
  {
   "cell_type": "code",
   "execution_count": 3,
   "metadata": {
    "id": "JgzLj451YDfV"
   },
   "outputs": [],
   "source": [
    "!mkdir ~/.kaggle"
   ]
  },
  {
   "cell_type": "code",
   "execution_count": 4,
   "metadata": {
    "id": "KrsZLalrSI3u"
   },
   "outputs": [],
   "source": [
    "#read in your Kaggle credentials from Google Drive\n",
    "!cp /content/drive/MyDrive/Kaggle/kaggle.json ~/.kaggle/kaggle.json\n"
   ]
  },
  {
   "cell_type": "code",
   "execution_count": 5,
   "metadata": {
    "colab": {
     "base_uri": "https://localhost:8080/"
    },
    "id": "BDI60LXKTPzf",
    "outputId": "6de18ce4-0067-48f7-9cc4-e74c4808fef2"
   },
   "outputs": [
    {
     "output_type": "stream",
     "name": "stdout",
     "text": [
      "Downloading detecting-french-texts-difficulty-level-2023.zip to /content\n",
      "\r  0% 0.00/303k [00:00<?, ?B/s]\n",
      "\r100% 303k/303k [00:00<00:00, 114MB/s]\n"
     ]
    }
   ],
   "source": [
    "! kaggle competitions download -c detecting-french-texts-difficulty-level-2023\n",
    "from zipfile import ZipFile\n",
    "with ZipFile('detecting-french-texts-difficulty-level-2023.zip','r') as zip:\n",
    "  zip.extractall(path=\"\")"
   ]
  },
  {
   "cell_type": "markdown",
   "metadata": {
    "id": "HHb-bzEFOdNv"
   },
   "source": [
    "# Begining of the model#"
   ]
  },
  {
   "cell_type": "markdown",
   "metadata": {
    "id": "nvsJcuCpQLx8"
   },
   "source": [
    "## Imports##"
   ]
  },
  {
   "cell_type": "markdown",
   "source": [
    "######For this model we decide to use the LSTM model. I discover this model in a Information Security and Privacy course. This model was use for human recognition activities. I decided to do some research about this model and I decided to try this one for this problem.\n",
    "\n",
    "#####LSTM model improve in terms of efficiency by memorizing the important informations. He will ignore the no important information and take in consideration the important information.  "
   ],
   "metadata": {
    "id": "7d1g24QgyX2C"
   }
  },
  {
   "cell_type": "code",
   "execution_count": 6,
   "metadata": {
    "id": "WcPM_kAfQJ3E",
    "colab": {
     "base_uri": "https://localhost:8080/"
    },
    "outputId": "a8d1f2c4-78fa-4966-c62c-0777a45fe003"
   },
   "outputs": [
    {
     "output_type": "stream",
     "name": "stderr",
     "text": [
      "/usr/local/lib/python3.10/dist-packages/tensorflow_addons/utils/tfa_eol_msg.py:23: UserWarning: \n",
      "\n",
      "TensorFlow Addons (TFA) has ended development and introduction of new features.\n",
      "TFA has entered a minimal maintenance and release mode until a planned end of life in May 2024.\n",
      "Please modify downstream libraries to take dependencies from other repositories in our TensorFlow community (e.g. Keras, Keras-CV, and Keras-NLP). \n",
      "\n",
      "For more information see: https://github.com/tensorflow/addons/issues/2807 \n",
      "\n",
      "  warnings.warn(\n"
     ]
    }
   ],
   "source": [
    "import pandas as pd\n",
    "import numpy as np\n",
    "import seaborn as sns\n",
    "import matplotlib.pyplot as plt\n",
    "import tensorflow_addons as tfa\n",
    "import string\n",
    "from sklearn.metrics import precision_score, recall_score, f1_score, accuracy_score, confusion_matrix\n",
    "from sklearn.preprocessing import LabelEncoder\n",
    "from keras.preprocessing.text import Tokenizer\n",
    "from keras.models import Sequential\n",
    "from keras.layers import Dense, LSTM, Embedding, SpatialDropout1D\n",
    "from keras.preprocessing.sequence import pad_sequences\n",
    "\n",
    "from tensorflow.keras.utils import to_categorical\n",
    "from torch.optim import AdamW\n",
    "from sklearn.model_selection import train_test_split\n",
    "from google.colab import files\n",
    "\n",
    "df = pd.read_csv('training_data.csv', index_col='id')\n",
    "df_pred = pd.read_csv('unlabelled_test_data.csv', index_col='id')"
   ]
  },
  {
   "cell_type": "code",
   "source": [],
   "metadata": {
    "id": "UckDRedeQ3YH"
   },
   "execution_count": 6,
   "outputs": []
  },
  {
   "cell_type": "markdown",
   "source": [
    "##### Here we try to evaluate what is the best maxlen parameters for the pad_sequences. We have 99% of the dataset where the number of words are less thant 73. This time we decide to use 100 as maxlen because 99% of the sentences are lower than 73 words"
   ],
   "metadata": {
    "id": "5Ko4CzcLxdqS"
   }
  },
  {
   "cell_type": "code",
   "execution_count": 7,
   "metadata": {
    "colab": {
     "base_uri": "https://localhost:8080/",
     "height": 489
    },
    "id": "VxRSnk5bhTp8",
    "outputId": "73a6609a-d6fe-49cf-d155-24871a14f03e"
   },
   "outputs": [
    {
     "output_type": "stream",
     "name": "stdout",
     "text": [
      "Mean: 18.168541666666666, Median: 14.0, 95th percentile: 73.02000000000044, maximum: 265\n"
     ]
    },
    {
     "output_type": "display_data",
     "data": {
      "text/plain": [
       "<Figure size 640x480 with 1 Axes>"
      ],
      "image/png": "[encoded data removed]"
     },
     "metadata": {}
    }
   ],
   "source": [
    "df['length'] = [len(length.split()) for length in df['sentence']]\n",
    "mean_length_sentence = np.mean(df['length'])\n",
    "median_length_sentence = np.median(df['length'])\n",
    "percentile_95_length_sentence = np.percentile(df['length'], 99)\n",
    "max_length_sentence = np.max(df['length'])\n",
    "\n",
    "print(f\"Mean: {mean_length_sentence}, Median: {median_length_sentence}, 99th percentile: {percentile_99_length_sentence}, maximum: {max_length_sentence}\")\n",
    "bins = [0, 5, 10, 15, 20, 25, 30, 35, 40, 45, 50]\n",
    "\n",
    "hist, bin_edges = np.histogram(df['length'], bins=bins)\n",
    "\n",
    "plt.bar(range(len(hist)), hist, width=0.5, align='center')\n",
    "plt.title(\"Distribution length sentences\")\n",
    "plt.xlabel(\"Length of sentences\")\n",
    "plt.ylabel(\"Number of sentences\")\n",
    "plt.show()"
   ]
  },
  {
   "cell_type": "markdown",
   "source": [
    "##### We calculate the number of unique words for our model. Who is the input_dim parameter\n",
    "\n",
    "\n"
   ],
   "metadata": {
    "id": "45In3MrgzbFM"
   }
  },
  {
   "cell_type": "code",
   "source": [
    "set_unique_words = set()\n",
    "for sentence in df['sentence']:\n",
    "    words = sentence.translate(str.maketrans('', '', string.punctuation)).lower().split()\n",
    "    set_unique_words.update(words)\n",
    "\n",
    "amount_unique_words = len(set_unique_words) + 1\n",
    "print(f'amount of unique words in the dataset: {amount_unique_words}')"
   ],
   "metadata": {
    "colab": {
     "base_uri": "https://localhost:8080/"
    },
    "id": "Jbx8-v-0zZt0",
    "outputId": "1751d11a-0a77-47ad-8702-bd72b0a4812a"
   },
   "execution_count": 8,
   "outputs": [
    {
     "output_type": "stream",
     "name": "stdout",
     "text": [
      "amount of unique words in the dataset: 15773\n"
     ]
    }
   ]
  },
  {
   "cell_type": "code",
   "source": [
    "df\n"
   ],
   "metadata": {
    "colab": {
     "base_uri": "https://localhost:8080/",
     "height": 455
    },
    "id": "i5v45SiPwT9l",
    "outputId": "73129ba9-160c-40f0-9e8f-a0e2e9ae0147"
   },
   "execution_count": 9,
   "outputs": [
    {
     "output_type": "execute_result",
     "data": {
      "text/plain": [
       "                                               sentence difficulty  length\n",
       "id                                                                        \n",
       "0     Les coûts kilométriques réels peuvent diverger...         C1      38\n",
       "1     Le bleu, c'est ma couleur préférée mais je n'a...         A1      12\n",
       "2     Le test de niveau en français est sur le site ...         A1      13\n",
       "3              Est-ce que ton mari est aussi de Boston?         A1       8\n",
       "4     Dans les écoles de commerce, dans les couloirs...         B1      34\n",
       "...                                                 ...        ...     ...\n",
       "4795  C'est pourquoi, il décida de remplacer les hab...         B2      26\n",
       "4796  Il avait une de ces pâleurs splendides qui don...         C1      21\n",
       "4797  Et le premier samedi de chaque mois, venez ren...         A2      14\n",
       "4798  Les coûts liés à la journalisation n'étant pas...         C2      32\n",
       "4799  Sur le sable, la mer haletait de toute la resp...         C2      17\n",
       "\n",
       "[4800 rows x 3 columns]"
      ],
      "text/html": [
       "\n",
       "  <div id=\"df-6830be3a-fe04-42dc-8670-bd370cc9084e\" class=\"colab-df-container\">\n",
       "    <div>\n",
       "<style scoped>\n",
       "    .dataframe tbody tr th:only-of-type {\n",
       "        vertical-align: middle;\n",
       "    }\n",
       "\n",
       "    .dataframe tbody tr th {\n",
       "        vertical-align: top;\n",
       "    }\n",
       "\n",
       "    .dataframe thead th {\n",
       "        text-align: right;\n",
       "    }\n",
       "</style>\n",
       "<table border=\"1\" class=\"dataframe\">\n",
       "  <thead>\n",
       "    <tr style=\"text-align: right;\">\n",
       "      <th></th>\n",
       "      <th>sentence</th>\n",
       "      <th>difficulty</th>\n",
       "      <th>length</th>\n",
       "    </tr>\n",
       "    <tr>\n",
       "      <th>id</th>\n",
       "      <th></th>\n",
       "      <th></th>\n",
       "      <th></th>\n",
       "    </tr>\n",
       "  </thead>\n",
       "  <tbody>\n",
       "    <tr>\n",
       "      <th>0</th>\n",
       "      <td>Les coûts kilométriques réels peuvent diverger...</td>\n",
       "      <td>C1</td>\n",
       "      <td>38</td>\n",
       "    </tr>\n",
       "    <tr>\n",
       "      <th>1</th>\n",
       "      <td>Le bleu, c'est ma couleur préférée mais je n'a...</td>\n",
       "      <td>A1</td>\n",
       "      <td>12</td>\n",
       "    </tr>\n",
       "    <tr>\n",
       "      <th>2</th>\n",
       "      <td>Le test de niveau en français est sur le site ...</td>\n",
       "      <td>A1</td>\n",
       "      <td>13</td>\n",
       "    </tr>\n",
       "    <tr>\n",
       "      <th>3</th>\n",
       "      <td>Est-ce que ton mari est aussi de Boston?</td>\n",
       "      <td>A1</td>\n",
       "      <td>8</td>\n",
       "    </tr>\n",
       "    <tr>\n",
       "      <th>4</th>\n",
       "      <td>Dans les écoles de commerce, dans les couloirs...</td>\n",
       "      <td>B1</td>\n",
       "      <td>34</td>\n",
       "    </tr>\n",
       "    <tr>\n",
       "      <th>...</th>\n",
       "      <td>...</td>\n",
       "      <td>...</td>\n",
       "      <td>...</td>\n",
       "    </tr>\n",
       "    <tr>\n",
       "      <th>4795</th>\n",
       "      <td>C'est pourquoi, il décida de remplacer les hab...</td>\n",
       "      <td>B2</td>\n",
       "      <td>26</td>\n",
       "    </tr>\n",
       "    <tr>\n",
       "      <th>4796</th>\n",
       "      <td>Il avait une de ces pâleurs splendides qui don...</td>\n",
       "      <td>C1</td>\n",
       "      <td>21</td>\n",
       "    </tr>\n",
       "    <tr>\n",
       "      <th>4797</th>\n",
       "      <td>Et le premier samedi de chaque mois, venez ren...</td>\n",
       "      <td>A2</td>\n",
       "      <td>14</td>\n",
       "    </tr>\n",
       "    <tr>\n",
       "      <th>4798</th>\n",
       "      <td>Les coûts liés à la journalisation n'étant pas...</td>\n",
       "      <td>C2</td>\n",
       "      <td>32</td>\n",
       "    </tr>\n",
       "    <tr>\n",
       "      <th>4799</th>\n",
       "      <td>Sur le sable, la mer haletait de toute la resp...</td>\n",
       "      <td>C2</td>\n",
       "      <td>17</td>\n",
       "    </tr>\n",
       "  </tbody>\n",
       "</table>\n",
       "<p>4800 rows × 3 columns</p>\n",
       "</div>\n",
       "    <div class=\"colab-df-buttons\">\n",
       "\n",
       "  <div class=\"colab-df-container\">\n",
       "    <button class=\"colab-df-convert\" onclick=\"convertToInteractive('df-6830be3a-fe04-42dc-8670-bd370cc9084e')\"\n",
       "            title=\"Convert this dataframe to an interactive table.\"\n",
       "            style=\"display:none;\">\n",
       "\n",
       "  <svg xmlns=\"http://www.w3.org/2000/svg\" height=\"24px\" viewBox=\"0 -960 960 960\">\n",
       "    <path d=\"M120-120v-720h720v720H120Zm60-500h600v-160H180v160Zm220 220h160v-160H400v160Zm0 220h160v-160H400v160ZM180-400h160v-160H180v160Zm440 0h160v-160H620v160ZM180-180h160v-160H180v160Zm440 0h160v-160H620v160Z\"/>\n",
       "  </svg>\n",
       "    </button>\n",
       "\n",
       "  <style>\n",
       "    .colab-df-container {\n",
       "      display:flex;\n",
       "      gap: 12px;\n",
       "    }\n",
       "\n",
       "    .colab-df-convert {\n",
       "      background-color: #E8F0FE;\n",
       "      border: none;\n",
       "      border-radius: 50%;\n",
       "      cursor: pointer;\n",
       "      display: none;\n",
       "      fill: #1967D2;\n",
       "      height: 32px;\n",
       "      padding: 0 0 0 0;\n",
       "      width: 32px;\n",
       "    }\n",
       "\n",
       "    .colab-df-convert:hover {\n",
       "      background-color: #E2EBFA;\n",
       "      box-shadow: 0px 1px 2px rgba(60, 64, 67, 0.3), 0px 1px 3px 1px rgba(60, 64, 67, 0.15);\n",
       "      fill: #174EA6;\n",
       "    }\n",
       "\n",
       "    .colab-df-buttons div {\n",
       "      margin-bottom: 4px;\n",
       "    }\n",
       "\n",
       "    [theme=dark] .colab-df-convert {\n",
       "      background-color: #3B4455;\n",
       "      fill: #D2E3FC;\n",
       "    }\n",
       "\n",
       "    [theme=dark] .colab-df-convert:hover {\n",
       "      background-color: #434B5C;\n",
       "      box-shadow: 0px 1px 3px 1px rgba(0, 0, 0, 0.15);\n",
       "      filter: drop-shadow(0px 1px 2px rgba(0, 0, 0, 0.3));\n",
       "      fill: #FFFFFF;\n",
       "    }\n",
       "  </style>\n",
       "\n",
       "    <script>\n",
       "      const buttonEl =\n",
       "        document.querySelector('#df-6830be3a-fe04-42dc-8670-bd370cc9084e button.colab-df-convert');\n",
       "      buttonEl.style.display =\n",
       "        google.colab.kernel.accessAllowed ? 'block' : 'none';\n",
       "\n",
       "      async function convertToInteractive(key) {\n",
       "        const element = document.querySelector('#df-6830be3a-fe04-42dc-8670-bd370cc9084e');\n",
       "        const dataTable =\n",
       "          await google.colab.kernel.invokeFunction('convertToInteractive',\n",
       "                                                    [key], {});\n",
       "        if (!dataTable) return;\n",
       "\n",
       "        const docLinkHtml = 'Like what you see? Visit the ' +\n",
       "          '<a target=\"_blank\" href=https://colab.research.google.com/notebooks/data_table.ipynb>data table notebook</a>'\n",
       "          + ' to learn more about interactive tables.';\n",
       "        element.innerHTML = '';\n",
       "        dataTable['output_type'] = 'display_data';\n",
       "        await google.colab.output.renderOutput(dataTable, element);\n",
       "        const docLink = document.createElement('div');\n",
       "        docLink.innerHTML = docLinkHtml;\n",
       "        element.appendChild(docLink);\n",
       "      }\n",
       "    </script>\n",
       "  </div>\n",
       "\n",
       "\n",
       "<div id=\"df-25941b9f-33f7-40a8-9c20-769718837771\">\n",
       "  <button class=\"colab-df-quickchart\" onclick=\"quickchart('df-25941b9f-33f7-40a8-9c20-769718837771')\"\n",
       "            title=\"Suggest charts\"\n",
       "            style=\"display:none;\">\n",
       "\n",
       "<svg xmlns=\"http://www.w3.org/2000/svg\" height=\"24px\"viewBox=\"0 0 24 24\"\n",
       "     width=\"24px\">\n",
       "    <g>\n",
       "        <path d=\"M19 3H5c-1.1 0-2 .9-2 2v14c0 1.1.9 2 2 2h14c1.1 0 2-.9 2-2V5c0-1.1-.9-2-2-2zM9 17H7v-7h2v7zm4 0h-2V7h2v10zm4 0h-2v-4h2v4z\"/>\n",
       "    </g>\n",
       "</svg>\n",
       "  </button>\n",
       "\n",
       "<style>\n",
       "  .colab-df-quickchart {\n",
       "      --bg-color: #E8F0FE;\n",
       "      --fill-color: #1967D2;\n",
       "      --hover-bg-color: #E2EBFA;\n",
       "      --hover-fill-color: #174EA6;\n",
       "      --disabled-fill-color: #AAA;\n",
       "      --disabled-bg-color: #DDD;\n",
       "  }\n",
       "\n",
       "  [theme=dark] .colab-df-quickchart {\n",
       "      --bg-color: #3B4455;\n",
       "      --fill-color: #D2E3FC;\n",
       "      --hover-bg-color: #434B5C;\n",
       "      --hover-fill-color: #FFFFFF;\n",
       "      --disabled-bg-color: #3B4455;\n",
       "      --disabled-fill-color: #666;\n",
       "  }\n",
       "\n",
       "  .colab-df-quickchart {\n",
       "    background-color: var(--bg-color);\n",
       "    border: none;\n",
       "    border-radius: 50%;\n",
       "    cursor: pointer;\n",
       "    display: none;\n",
       "    fill: var(--fill-color);\n",
       "    height: 32px;\n",
       "    padding: 0;\n",
       "    width: 32px;\n",
       "  }\n",
       "\n",
       "  .colab-df-quickchart:hover {\n",
       "    background-color: var(--hover-bg-color);\n",
       "    box-shadow: 0 1px 2px rgba(60, 64, 67, 0.3), 0 1px 3px 1px rgba(60, 64, 67, 0.15);\n",
       "    fill: var(--button-hover-fill-color);\n",
       "  }\n",
       "\n",
       "  .colab-df-quickchart-complete:disabled,\n",
       "  .colab-df-quickchart-complete:disabled:hover {\n",
       "    background-color: var(--disabled-bg-color);\n",
       "    fill: var(--disabled-fill-color);\n",
       "    box-shadow: none;\n",
       "  }\n",
       "\n",
       "  .colab-df-spinner {\n",
       "    border: 2px solid var(--fill-color);\n",
       "    border-color: transparent;\n",
       "    border-bottom-color: var(--fill-color);\n",
       "    animation:\n",
       "      spin 1s steps(1) infinite;\n",
       "  }\n",
       "\n",
       "  @keyframes spin {\n",
       "    0% {\n",
       "      border-color: transparent;\n",
       "      border-bottom-color: var(--fill-color);\n",
       "      border-left-color: var(--fill-color);\n",
       "    }\n",
       "    20% {\n",
       "      border-color: transparent;\n",
       "      border-left-color: var(--fill-color);\n",
       "      border-top-color: var(--fill-color);\n",
       "    }\n",
       "    30% {\n",
       "      border-color: transparent;\n",
       "      border-left-color: var(--fill-color);\n",
       "      border-top-color: var(--fill-color);\n",
       "      border-right-color: var(--fill-color);\n",
       "    }\n",
       "    40% {\n",
       "      border-color: transparent;\n",
       "      border-right-color: var(--fill-color);\n",
       "      border-top-color: var(--fill-color);\n",
       "    }\n",
       "    60% {\n",
       "      border-color: transparent;\n",
       "      border-right-color: var(--fill-color);\n",
       "    }\n",
       "    80% {\n",
       "      border-color: transparent;\n",
       "      border-right-color: var(--fill-color);\n",
       "      border-bottom-color: var(--fill-color);\n",
       "    }\n",
       "    90% {\n",
       "      border-color: transparent;\n",
       "      border-bottom-color: var(--fill-color);\n",
       "    }\n",
       "  }\n",
       "</style>\n",
       "\n",
       "  <script>\n",
       "    async function quickchart(key) {\n",
       "      const quickchartButtonEl =\n",
       "        document.querySelector('#' + key + ' button');\n",
       "      quickchartButtonEl.disabled = true;  // To prevent multiple clicks.\n",
       "      quickchartButtonEl.classList.add('colab-df-spinner');\n",
       "      try {\n",
       "        const charts = await google.colab.kernel.invokeFunction(\n",
       "            'suggestCharts', [key], {});\n",
       "      } catch (error) {\n",
       "        console.error('Error during call to suggestCharts:', error);\n",
       "      }\n",
       "      quickchartButtonEl.classList.remove('colab-df-spinner');\n",
       "      quickchartButtonEl.classList.add('colab-df-quickchart-complete');\n",
       "    }\n",
       "    (() => {\n",
       "      let quickchartButtonEl =\n",
       "        document.querySelector('#df-25941b9f-33f7-40a8-9c20-769718837771 button');\n",
       "      quickchartButtonEl.style.display =\n",
       "        google.colab.kernel.accessAllowed ? 'block' : 'none';\n",
       "    })();\n",
       "  </script>\n",
       "</div>\n",
       "    </div>\n",
       "  </div>\n"
      ]
     },
     "metadata": {},
     "execution_count": 9
    }
   ]
  },
  {
   "cell_type": "code",
   "execution_count": 10,
   "metadata": {
    "id": "l97F4TgticgH"
   },
   "outputs": [],
   "source": [
    "X = df['sentence']\n",
    "Y = df['difficulty']"
   ]
  },
  {
   "cell_type": "markdown",
   "source": [
    "#####In this part we tokenize our sentences and encode what we want to predict the difficulty"
   ],
   "metadata": {
    "id": "uvp1hxgLz28O"
   }
  },
  {
   "cell_type": "code",
   "execution_count": 11,
   "metadata": {
    "id": "LGU8vdNtTRxC"
   },
   "outputs": [],
   "source": [
    "tokenizer = Tokenizer(num_words=15773)\n",
    "tokenizer.fit_on_texts(X)\n",
    "\n",
    "X_train = tokenizer.texts_to_sequences(X)\n",
    "X_train_padded = pad_sequences(X_train, maxlen=100)\n",
    "\n",
    "label_encoder = LabelEncoder()\n",
    "Y_encoded = label_encoder.fit_transform(Y)\n",
    "Y_categorical = to_categorical(Y_encoded)\n"
   ]
  },
  {
   "cell_type": "code",
   "source": [
    "X_train, X_test, Y_train, Y_test = train_test_split(X_train_padded, Y_categorical, test_size=0.2, random_state=42)"
   ],
   "metadata": {
    "id": "TxGCud1oRckl"
   },
   "execution_count": 12,
   "outputs": []
  },
  {
   "cell_type": "markdown",
   "source": [
    "#####After some data transformation we can construct our model. And as all our models we split 20% of our data."
   ],
   "metadata": {
    "id": "jXAI9mIx0Hxt"
   }
  },
  {
   "cell_type": "code",
   "execution_count": 13,
   "metadata": {
    "id": "b46ARkSFgAbP",
    "colab": {
     "base_uri": "https://localhost:8080/"
    },
    "outputId": "c2158845-424e-4703-9d4a-90b2531967dc"
   },
   "outputs": [
    {
     "output_type": "stream",
     "name": "stdout",
     "text": [
      "Epoch 1/5\n",
      "48/48 [==============================] - 31s 536ms/step - loss: 1.6417 - accuracy: 0.2887 - val_loss: 1.5375 - val_accuracy: 0.3346\n",
      "Epoch 2/5\n",
      "48/48 [==============================] - 16s 332ms/step - loss: 1.4084 - accuracy: 0.3861 - val_loss: 1.4020 - val_accuracy: 0.3997\n",
      "Epoch 3/5\n",
      "48/48 [==============================] - 16s 330ms/step - loss: 1.1525 - accuracy: 0.5290 - val_loss: 1.3511 - val_accuracy: 0.4258\n",
      "Epoch 4/5\n",
      "48/48 [==============================] - 16s 325ms/step - loss: 0.8162 - accuracy: 0.7038 - val_loss: 1.5183 - val_accuracy: 0.3958\n",
      "Epoch 5/5\n",
      "48/48 [==============================] - 16s 334ms/step - loss: 0.5069 - accuracy: 0.8441 - val_loss: 1.5309 - val_accuracy: 0.4062\n",
      "30/30 [==============================] - 1s 31ms/step\n"
     ]
    }
   ],
   "source": [
    "model = Sequential()\n",
    "model.add(Embedding(input_dim=15773, output_dim=150, input_length=100))\n",
    "model.add(SpatialDropout1D(0.2))\n",
    "model.add(LSTM(100, dropout=0.2, recurrent_dropout=0.2))\n",
    "model.add(Dense(6, activation='softmax'))\n",
    "\n",
    "model.compile(loss='categorical_crossentropy', optimizer=tfa.optimizers.AdamW(weight_decay=0.001), metrics=['accuracy'])\n",
    "\n",
    "model.fit(X_train, Y_train, batch_size=64, epochs=5, validation_split=0.2)\n",
    "\n",
    "true_difficulty = np.argmax(Y_test, axis=1)\n",
    "pred_difficulty = model.predict(X_test)\n",
    "\n",
    "pred_difficulty_labels = np.argmax(pred_difficulty, axis=1)\n"
   ]
  },
  {
   "cell_type": "markdown",
   "source": [
    "#####We download the model in aim to use it in our streamlit app"
   ],
   "metadata": {
    "id": "RCuEjFpVNSvq"
   }
  },
  {
   "cell_type": "code",
   "source": [
    "model.save('model_LSTM.h5')\n",
    "files.download('model_LSTM.h5')"
   ],
   "metadata": {
    "id": "KCpMzWXbNWnc",
    "colab": {
     "base_uri": "https://localhost:8080/",
     "height": 72
    },
    "outputId": "0ca6f7d0-3d81-4a67-c381-000cd03b99c0"
   },
   "execution_count": 14,
   "outputs": [
    {
     "output_type": "stream",
     "name": "stderr",
     "text": [
      "/usr/local/lib/python3.10/dist-packages/keras/src/engine/training.py:3103: UserWarning: You are saving your model as an HDF5 file via `model.save()`. This file format is considered legacy. We recommend using instead the native Keras format, e.g. `model.save('my_model.keras')`.\n",
      "  saving_api.save_model(\n"
     ]
    },
    {
     "output_type": "display_data",
     "data": {
      "text/plain": [
       "<IPython.core.display.Javascript object>"
      ],
      "application/javascript": [
       "\n",
       "    async function download(id, filename, size) {\n",
       "      if (!google.colab.kernel.accessAllowed) {\n",
       "        return;\n",
       "      }\n",
       "      const div = document.createElement('div');\n",
       "      const label = document.createElement('label');\n",
       "      label.textContent = `Downloading \"${filename}\": `;\n",
       "      div.appendChild(label);\n",
       "      const progress = document.createElement('progress');\n",
       "      progress.max = size;\n",
       "      div.appendChild(progress);\n",
       "      document.body.appendChild(div);\n",
       "\n",
       "      const buffers = [];\n",
       "      let downloaded = 0;\n",
       "\n",
       "      const channel = await google.colab.kernel.comms.open(id);\n",
       "      // Send a message to notify the kernel that we're ready.\n",
       "      channel.send({})\n",
       "\n",
       "      for await (const message of channel.messages) {\n",
       "        // Send a message to notify the kernel that we're ready.\n",
       "        channel.send({})\n",
       "        if (message.buffers) {\n",
       "          for (const buffer of message.buffers) {\n",
       "            buffers.push(buffer);\n",
       "            downloaded += buffer.byteLength;\n",
       "            progress.value = downloaded;\n",
       "          }\n",
       "        }\n",
       "      }\n",
       "      const blob = new Blob(buffers, {type: 'application/binary'});\n",
       "      const a = document.createElement('a');\n",
       "      a.href = window.URL.createObjectURL(blob);\n",
       "      a.download = filename;\n",
       "      div.appendChild(a);\n",
       "      a.click();\n",
       "      div.remove();\n",
       "    }\n",
       "  "
      ]
     },
     "metadata": {}
    },
    {
     "output_type": "display_data",
     "data": {
      "text/plain": [
       "<IPython.core.display.Javascript object>"
      ],
      "application/javascript": [
       "download(\"download_c80b30e7-be97-49b7-8695-bdf8fdcebcb4\", \"model_LSTM.h5\", 29638696)"
      ]
     },
     "metadata": {}
    }
   ]
  },
  {
   "cell_type": "markdown",
   "source": [
    "##Metrics"
   ],
   "metadata": {
    "id": "GYf25Kbc5iHM"
   }
  },
  {
   "cell_type": "markdown",
   "source": [
    "#####Here we calculate some metrics to see how good our model is"
   ],
   "metadata": {
    "id": "HQg4i5Rj5aUD"
   }
  },
  {
   "cell_type": "code",
   "source": [
    "precision = precision_score(true_difficulty, pred_difficulty_labels, average='macro')\n",
    "recall = recall_score(true_difficulty, pred_difficulty_labels, average='macro')\n",
    "f1 = f1_score(true_difficulty, pred_difficulty_labels, average='macro')\n",
    "accuracy = accuracy_score(true_difficulty, pred_difficulty_labels)\n",
    "\n",
    "print(f\"Precision: {precision}\")\n",
    "print(f\"Recall: {recall}\")\n",
    "print(f\"F1 Score: {f1}\")\n",
    "print(f\"Accuracy: {accuracy}\")"
   ],
   "metadata": {
    "id": "zG3If3BjlJxX",
    "colab": {
     "base_uri": "https://localhost:8080/"
    },
    "outputId": "f34cbe26-88d1-49bc-ac08-a0ec1d3cf8b0"
   },
   "execution_count": 15,
   "outputs": [
    {
     "output_type": "stream",
     "name": "stdout",
     "text": [
      "Precision: 0.46384217566625313\n",
      "Recall: 0.4382879845095502\n",
      "F1 Score: 0.4348372394560327\n",
      "Accuracy: 0.4395833333333333\n"
     ]
    }
   ]
  },
  {
   "cell_type": "code",
   "source": [
    "pred_difficulty_labels"
   ],
   "metadata": {
    "id": "nlFXdVxy5Bn3",
    "colab": {
     "base_uri": "https://localhost:8080/"
    },
    "outputId": "97f7f07b-2342-4a1e-ce02-7b24f13ddb90"
   },
   "execution_count": 16,
   "outputs": [
    {
     "output_type": "execute_result",
     "data": {
      "text/plain": [
       "array([0, 1, 5, 2, 2, 4, 1, 1, 1, 2, 0, 2, 3, 3, 5, 3, 0, 4, 0, 0, 3, 4,\n",
       "       1, 5, 0, 1, 1, 2, 3, 0, 3, 3, 2, 3, 1, 3, 1, 2, 4, 0, 5, 4, 3, 1,\n",
       "       3, 1, 0, 2, 5, 4, 2, 1, 4, 0, 3, 0, 3, 4, 1, 2, 5, 5, 0, 4, 5, 4,\n",
       "       2, 1, 4, 1, 5, 5, 1, 2, 2, 4, 0, 1, 0, 0, 1, 2, 4, 4, 3, 0, 1, 3,\n",
       "       1, 0, 2, 4, 3, 0, 1, 2, 0, 1, 3, 2, 2, 5, 2, 0, 2, 0, 1, 2, 1, 2,\n",
       "       3, 3, 2, 0, 3, 1, 2, 5, 0, 0, 0, 0, 1, 5, 3, 1, 3, 4, 0, 2, 4, 4,\n",
       "       0, 0, 0, 4, 3, 0, 1, 3, 3, 1, 1, 1, 0, 3, 3, 0, 1, 3, 4, 3, 2, 5,\n",
       "       3, 3, 4, 1, 1, 3, 1, 0, 1, 5, 3, 1, 0, 0, 5, 3, 4, 3, 2, 0, 3, 1,\n",
       "       3, 3, 2, 3, 3, 0, 3, 3, 3, 3, 0, 5, 0, 4, 0, 2, 3, 4, 0, 0, 1, 1,\n",
       "       2, 2, 1, 2, 1, 1, 0, 5, 1, 0, 3, 1, 5, 1, 0, 2, 1, 0, 1, 3, 3, 1,\n",
       "       0, 3, 4, 1, 0, 0, 4, 3, 4, 5, 3, 0, 2, 2, 3, 3, 1, 3, 1, 3, 1, 1,\n",
       "       2, 5, 0, 5, 1, 3, 5, 5, 2, 4, 0, 1, 1, 2, 3, 3, 3, 4, 2, 3, 0, 1,\n",
       "       0, 4, 0, 3, 0, 0, 5, 0, 3, 0, 0, 2, 2, 2, 0, 5, 4, 1, 3, 0, 0, 3,\n",
       "       1, 2, 1, 1, 0, 2, 4, 3, 1, 0, 5, 0, 3, 3, 0, 0, 1, 3, 4, 1, 1, 4,\n",
       "       2, 2, 0, 3, 2, 2, 2, 3, 1, 1, 3, 3, 4, 0, 1, 4, 3, 3, 3, 3, 0, 2,\n",
       "       4, 2, 2, 3, 4, 0, 4, 1, 2, 3, 4, 0, 2, 2, 1, 3, 2, 4, 2, 4, 0, 4,\n",
       "       1, 5, 3, 0, 1, 0, 1, 3, 3, 3, 3, 2, 3, 1, 1, 5, 0, 1, 0, 1, 1, 2,\n",
       "       1, 2, 3, 5, 4, 4, 3, 3, 0, 2, 1, 0, 1, 3, 4, 3, 3, 3, 3, 2, 0, 0,\n",
       "       2, 3, 3, 2, 2, 0, 3, 3, 4, 2, 2, 3, 0, 5, 3, 4, 3, 5, 5, 3, 3, 4,\n",
       "       2, 5, 3, 3, 3, 2, 3, 4, 5, 0, 0, 3, 5, 0, 4, 3, 5, 0, 2, 5, 4, 2,\n",
       "       0, 0, 0, 1, 5, 0, 0, 5, 1, 3, 2, 1, 1, 1, 1, 1, 4, 1, 0, 0, 0, 0,\n",
       "       3, 3, 0, 0, 1, 0, 5, 4, 2, 4, 3, 0, 2, 3, 4, 4, 3, 3, 0, 3, 3, 3,\n",
       "       0, 2, 0, 0, 3, 2, 1, 5, 3, 4, 1, 3, 0, 2, 2, 1, 1, 4, 4, 1, 0, 3,\n",
       "       1, 1, 2, 4, 4, 0, 3, 2, 2, 0, 3, 1, 2, 5, 3, 0, 2, 3, 3, 5, 5, 0,\n",
       "       5, 1, 3, 3, 2, 1, 2, 4, 0, 3, 1, 3, 1, 2, 3, 5, 1, 4, 0, 1, 3, 3,\n",
       "       1, 0, 2, 4, 0, 0, 0, 2, 0, 1, 3, 4, 5, 0, 0, 5, 1, 5, 2, 1, 4, 3,\n",
       "       0, 3, 4, 3, 3, 2, 0, 2, 3, 2, 3, 2, 2, 5, 5, 4, 0, 4, 3, 4, 1, 2,\n",
       "       5, 1, 1, 4, 5, 3, 2, 2, 3, 4, 4, 2, 3, 0, 3, 3, 1, 3, 3, 1, 1, 1,\n",
       "       3, 2, 0, 0, 5, 1, 2, 4, 2, 2, 3, 5, 4, 5, 0, 2, 3, 3, 3, 0, 3, 3,\n",
       "       4, 4, 1, 3, 2, 1, 2, 1, 1, 3, 1, 0, 4, 2, 4, 3, 4, 1, 2, 0, 5, 2,\n",
       "       3, 0, 1, 3, 4, 2, 0, 4, 3, 2, 4, 0, 3, 2, 2, 1, 0, 1, 1, 4, 4, 1,\n",
       "       1, 0, 5, 4, 1, 0, 0, 0, 1, 5, 3, 2, 3, 4, 1, 3, 3, 0, 2, 1, 3, 3,\n",
       "       5, 1, 0, 2, 1, 3, 1, 3, 1, 2, 4, 3, 3, 4, 2, 0, 2, 1, 3, 0, 4, 4,\n",
       "       5, 3, 3, 3, 2, 4, 1, 3, 3, 2, 2, 0, 5, 0, 2, 1, 3, 0, 3, 1, 3, 0,\n",
       "       1, 1, 2, 0, 3, 1, 0, 3, 3, 2, 0, 3, 3, 3, 3, 1, 1, 0, 3, 3, 3, 0,\n",
       "       2, 0, 1, 2, 2, 3, 0, 3, 0, 4, 1, 5, 3, 1, 2, 0, 5, 4, 3, 2, 0, 4,\n",
       "       5, 0, 3, 1, 4, 3, 4, 0, 4, 0, 1, 2, 1, 2, 1, 0, 1, 4, 3, 2, 2, 4,\n",
       "       2, 2, 0, 5, 0, 4, 0, 3, 3, 3, 2, 1, 2, 5, 3, 3, 0, 0, 0, 2, 0, 0,\n",
       "       3, 2, 2, 2, 2, 3, 1, 3, 1, 3, 1, 1, 3, 1, 1, 3, 1, 3, 2, 3, 3, 0,\n",
       "       3, 4, 1, 0, 1, 3, 0, 3, 2, 1, 0, 0, 3, 1, 5, 0, 3, 2, 4, 2, 0, 1,\n",
       "       0, 3, 1, 1, 1, 4, 3, 2, 0, 1, 3, 3, 1, 1, 3, 1, 3, 3, 2, 3, 0, 5,\n",
       "       1, 0, 0, 3, 4, 5, 3, 4, 1, 5, 0, 0, 5, 1, 0, 5, 0, 3, 1, 1, 3, 0,\n",
       "       3, 1, 0, 3, 1, 4, 2, 3, 4, 0, 0, 0, 1, 4, 2, 1, 0, 3, 5, 2, 0, 1,\n",
       "       5, 2, 0, 0, 5, 3, 5, 0, 2, 0, 2, 3, 3, 3])"
      ]
     },
     "metadata": {},
     "execution_count": 16
    }
   ]
  },
  {
   "cell_type": "code",
   "source": [
    "conf_matrix = confusion_matrix(pred_difficulty_labels,true_difficulty)\n",
    "difficulty_labels=[\"A1\",\"A2\",\"B1\",\"B2\",\"C1\",\"C2\"]\n",
    "sns.heatmap(conf_matrix, annot=True, fmt='g',xticklabels=difficulty_labels,yticklabels=difficulty_labels,cmap=\"Greens\")\n",
    "plt.xlabel('Predicted difficulty levels')\n",
    "plt.ylabel('True difficulty levels')\n",
    "plt.title('Confusion matrix')\n",
    "plt.show()"
   ],
   "metadata": {
    "id": "g-GM8cc_lNNz",
    "colab": {
     "base_uri": "https://localhost:8080/",
     "height": 472
    },
    "outputId": "b2ac03c9-88ec-45d9-9378-01fe6ee07d41"
   },
   "execution_count": 17,
   "outputs": [
    {
     "output_type": "display_data",
     "data": {
      "text/plain": [
       "<Figure size 640x480 with 2 Axes>"
      ],
      "image/png": "[encoded data removed]"
     },
     "metadata": {}
    }
   ]
  },
  {
   "cell_type": "markdown",
   "source": [
    "##Predictions"
   ],
   "metadata": {
    "id": "d_lesYZi5-tU"
   }
  },
  {
   "cell_type": "markdown",
   "source": [
    "#####And then we use our model to predict our unlabelled data"
   ],
   "metadata": {
    "id": "j0Nuggak6A7v"
   }
  },
  {
   "cell_type": "code",
   "execution_count": 18,
   "metadata": {
    "id": "aPHY2cFJZuYY",
    "colab": {
     "base_uri": "https://localhost:8080/"
    },
    "outputId": "2c9160e2-1264-438b-d6c1-12d466379fb5"
   },
   "outputs": [
    {
     "output_type": "stream",
     "name": "stdout",
     "text": [
      "38/38 [==============================] - 1s 32ms/step\n"
     ]
    }
   ],
   "source": [
    "\n",
    "new_sentences =df_pred['sentence']\n",
    "\n",
    "new_sequences = tokenizer.texts_to_sequences(new_sentences)\n",
    "\n",
    "new_padded = pad_sequences(new_sequences, maxlen=100)\n",
    "\n",
    "new_predictions = model.predict(new_padded)\n",
    "\n",
    "predicted_classes = np.argmax(new_predictions, axis=1)\n",
    "predicted_labels = label_encoder.inverse_transform(predicted_classes)"
   ]
  },
  {
   "cell_type": "code",
   "execution_count": 19,
   "metadata": {
    "id": "KOEe1sY-q2Y6",
    "colab": {
     "base_uri": "https://localhost:8080/",
     "height": 455
    },
    "outputId": "3a028207-a5df-41c5-d580-805da9a2a288"
   },
   "outputs": [
    {
     "output_type": "execute_result",
     "data": {
      "text/plain": [
       "                                               sentence predicted_difficulty\n",
       "id                                                                          \n",
       "0     Nous dûmes nous excuser des propos que nous eû...                   B1\n",
       "1     Vous ne pouvez pas savoir le plaisir que j'ai ...                   A2\n",
       "2     Et, paradoxalement, boire froid n'est pas la b...                   A2\n",
       "3     Ce n'est pas étonnant, car c'est une saison my...                   A2\n",
       "4     Le corps de Golo lui-même, d'une essence aussi...                   C2\n",
       "...                                                 ...                  ...\n",
       "1195  C'est un phénomène qui trouve une accélération...                   B2\n",
       "1196  Je vais parler au serveur et voir si on peut d...                   A2\n",
       "1197  Il n'était pas comme tant de gens qui par pare...                   C2\n",
       "1198      Ils deviennent dangereux pour notre économie.                   A1\n",
       "1199  Son succès a généré beaucoup de réactions néga...                   B1\n",
       "\n",
       "[1200 rows x 2 columns]"
      ],
      "text/html": [
       "\n",
       "  <div id=\"df-4afa529f-3b36-4f7f-80fb-1bd0b63df477\" class=\"colab-df-container\">\n",
       "    <div>\n",
       "<style scoped>\n",
       "    .dataframe tbody tr th:only-of-type {\n",
       "        vertical-align: middle;\n",
       "    }\n",
       "\n",
       "    .dataframe tbody tr th {\n",
       "        vertical-align: top;\n",
       "    }\n",
       "\n",
       "    .dataframe thead th {\n",
       "        text-align: right;\n",
       "    }\n",
       "</style>\n",
       "<table border=\"1\" class=\"dataframe\">\n",
       "  <thead>\n",
       "    <tr style=\"text-align: right;\">\n",
       "      <th></th>\n",
       "      <th>sentence</th>\n",
       "      <th>predicted_difficulty</th>\n",
       "    </tr>\n",
       "    <tr>\n",
       "      <th>id</th>\n",
       "      <th></th>\n",
       "      <th></th>\n",
       "    </tr>\n",
       "  </thead>\n",
       "  <tbody>\n",
       "    <tr>\n",
       "      <th>0</th>\n",
       "      <td>Nous dûmes nous excuser des propos que nous eû...</td>\n",
       "      <td>B1</td>\n",
       "    </tr>\n",
       "    <tr>\n",
       "      <th>1</th>\n",
       "      <td>Vous ne pouvez pas savoir le plaisir que j'ai ...</td>\n",
       "      <td>A2</td>\n",
       "    </tr>\n",
       "    <tr>\n",
       "      <th>2</th>\n",
       "      <td>Et, paradoxalement, boire froid n'est pas la b...</td>\n",
       "      <td>A2</td>\n",
       "    </tr>\n",
       "    <tr>\n",
       "      <th>3</th>\n",
       "      <td>Ce n'est pas étonnant, car c'est une saison my...</td>\n",
       "      <td>A2</td>\n",
       "    </tr>\n",
       "    <tr>\n",
       "      <th>4</th>\n",
       "      <td>Le corps de Golo lui-même, d'une essence aussi...</td>\n",
       "      <td>C2</td>\n",
       "    </tr>\n",
       "    <tr>\n",
       "      <th>...</th>\n",
       "      <td>...</td>\n",
       "      <td>...</td>\n",
       "    </tr>\n",
       "    <tr>\n",
       "      <th>1195</th>\n",
       "      <td>C'est un phénomène qui trouve une accélération...</td>\n",
       "      <td>B2</td>\n",
       "    </tr>\n",
       "    <tr>\n",
       "      <th>1196</th>\n",
       "      <td>Je vais parler au serveur et voir si on peut d...</td>\n",
       "      <td>A2</td>\n",
       "    </tr>\n",
       "    <tr>\n",
       "      <th>1197</th>\n",
       "      <td>Il n'était pas comme tant de gens qui par pare...</td>\n",
       "      <td>C2</td>\n",
       "    </tr>\n",
       "    <tr>\n",
       "      <th>1198</th>\n",
       "      <td>Ils deviennent dangereux pour notre économie.</td>\n",
       "      <td>A1</td>\n",
       "    </tr>\n",
       "    <tr>\n",
       "      <th>1199</th>\n",
       "      <td>Son succès a généré beaucoup de réactions néga...</td>\n",
       "      <td>B1</td>\n",
       "    </tr>\n",
       "  </tbody>\n",
       "</table>\n",
       "<p>1200 rows × 2 columns</p>\n",
       "</div>\n",
       "    <div class=\"colab-df-buttons\">\n",
       "\n",
       "  <div class=\"colab-df-container\">\n",
       "    <button class=\"colab-df-convert\" onclick=\"convertToInteractive('df-4afa529f-3b36-4f7f-80fb-1bd0b63df477')\"\n",
       "            title=\"Convert this dataframe to an interactive table.\"\n",
       "            style=\"display:none;\">\n",
       "\n",
       "  <svg xmlns=\"http://www.w3.org/2000/svg\" height=\"24px\" viewBox=\"0 -960 960 960\">\n",
       "    <path d=\"M120-120v-720h720v720H120Zm60-500h600v-160H180v160Zm220 220h160v-160H400v160Zm0 220h160v-160H400v160ZM180-400h160v-160H180v160Zm440 0h160v-160H620v160ZM180-180h160v-160H180v160Zm440 0h160v-160H620v160Z\"/>\n",
       "  </svg>\n",
       "    </button>\n",
       "\n",
       "  <style>\n",
       "    .colab-df-container {\n",
       "      display:flex;\n",
       "      gap: 12px;\n",
       "    }\n",
       "\n",
       "    .colab-df-convert {\n",
       "      background-color: #E8F0FE;\n",
       "      border: none;\n",
       "      border-radius: 50%;\n",
       "      cursor: pointer;\n",
       "      display: none;\n",
       "      fill: #1967D2;\n",
       "      height: 32px;\n",
       "      padding: 0 0 0 0;\n",
       "      width: 32px;\n",
       "    }\n",
       "\n",
       "    .colab-df-convert:hover {\n",
       "      background-color: #E2EBFA;\n",
       "      box-shadow: 0px 1px 2px rgba(60, 64, 67, 0.3), 0px 1px 3px 1px rgba(60, 64, 67, 0.15);\n",
       "      fill: #174EA6;\n",
       "    }\n",
       "\n",
       "    .colab-df-buttons div {\n",
       "      margin-bottom: 4px;\n",
       "    }\n",
       "\n",
       "    [theme=dark] .colab-df-convert {\n",
       "      background-color: #3B4455;\n",
       "      fill: #D2E3FC;\n",
       "    }\n",
       "\n",
       "    [theme=dark] .colab-df-convert:hover {\n",
       "      background-color: #434B5C;\n",
       "      box-shadow: 0px 1px 3px 1px rgba(0, 0, 0, 0.15);\n",
       "      filter: drop-shadow(0px 1px 2px rgba(0, 0, 0, 0.3));\n",
       "      fill: #FFFFFF;\n",
       "    }\n",
       "  </style>\n",
       "\n",
       "    <script>\n",
       "      const buttonEl =\n",
       "        document.querySelector('#df-4afa529f-3b36-4f7f-80fb-1bd0b63df477 button.colab-df-convert');\n",
       "      buttonEl.style.display =\n",
       "        google.colab.kernel.accessAllowed ? 'block' : 'none';\n",
       "\n",
       "      async function convertToInteractive(key) {\n",
       "        const element = document.querySelector('#df-4afa529f-3b36-4f7f-80fb-1bd0b63df477');\n",
       "        const dataTable =\n",
       "          await google.colab.kernel.invokeFunction('convertToInteractive',\n",
       "                                                    [key], {});\n",
       "        if (!dataTable) return;\n",
       "\n",
       "        const docLinkHtml = 'Like what you see? Visit the ' +\n",
       "          '<a target=\"_blank\" href=https://colab.research.google.com/notebooks/data_table.ipynb>data table notebook</a>'\n",
       "          + ' to learn more about interactive tables.';\n",
       "        element.innerHTML = '';\n",
       "        dataTable['output_type'] = 'display_data';\n",
       "        await google.colab.output.renderOutput(dataTable, element);\n",
       "        const docLink = document.createElement('div');\n",
       "        docLink.innerHTML = docLinkHtml;\n",
       "        element.appendChild(docLink);\n",
       "      }\n",
       "    </script>\n",
       "  </div>\n",
       "\n",
       "\n",
       "<div id=\"df-d842ed5d-5039-4760-bdc8-f52a15c922d2\">\n",
       "  <button class=\"colab-df-quickchart\" onclick=\"quickchart('df-d842ed5d-5039-4760-bdc8-f52a15c922d2')\"\n",
       "            title=\"Suggest charts\"\n",
       "            style=\"display:none;\">\n",
       "\n",
       "<svg xmlns=\"http://www.w3.org/2000/svg\" height=\"24px\"viewBox=\"0 0 24 24\"\n",
       "     width=\"24px\">\n",
       "    <g>\n",
       "        <path d=\"M19 3H5c-1.1 0-2 .9-2 2v14c0 1.1.9 2 2 2h14c1.1 0 2-.9 2-2V5c0-1.1-.9-2-2-2zM9 17H7v-7h2v7zm4 0h-2V7h2v10zm4 0h-2v-4h2v4z\"/>\n",
       "    </g>\n",
       "</svg>\n",
       "  </button>\n",
       "\n",
       "<style>\n",
       "  .colab-df-quickchart {\n",
       "      --bg-color: #E8F0FE;\n",
       "      --fill-color: #1967D2;\n",
       "      --hover-bg-color: #E2EBFA;\n",
       "      --hover-fill-color: #174EA6;\n",
       "      --disabled-fill-color: #AAA;\n",
       "      --disabled-bg-color: #DDD;\n",
       "  }\n",
       "\n",
       "  [theme=dark] .colab-df-quickchart {\n",
       "      --bg-color: #3B4455;\n",
       "      --fill-color: #D2E3FC;\n",
       "      --hover-bg-color: #434B5C;\n",
       "      --hover-fill-color: #FFFFFF;\n",
       "      --disabled-bg-color: #3B4455;\n",
       "      --disabled-fill-color: #666;\n",
       "  }\n",
       "\n",
       "  .colab-df-quickchart {\n",
       "    background-color: var(--bg-color);\n",
       "    border: none;\n",
       "    border-radius: 50%;\n",
       "    cursor: pointer;\n",
       "    display: none;\n",
       "    fill: var(--fill-color);\n",
       "    height: 32px;\n",
       "    padding: 0;\n",
       "    width: 32px;\n",
       "  }\n",
       "\n",
       "  .colab-df-quickchart:hover {\n",
       "    background-color: var(--hover-bg-color);\n",
       "    box-shadow: 0 1px 2px rgba(60, 64, 67, 0.3), 0 1px 3px 1px rgba(60, 64, 67, 0.15);\n",
       "    fill: var(--button-hover-fill-color);\n",
       "  }\n",
       "\n",
       "  .colab-df-quickchart-complete:disabled,\n",
       "  .colab-df-quickchart-complete:disabled:hover {\n",
       "    background-color: var(--disabled-bg-color);\n",
       "    fill: var(--disabled-fill-color);\n",
       "    box-shadow: none;\n",
       "  }\n",
       "\n",
       "  .colab-df-spinner {\n",
       "    border: 2px solid var(--fill-color);\n",
       "    border-color: transparent;\n",
       "    border-bottom-color: var(--fill-color);\n",
       "    animation:\n",
       "      spin 1s steps(1) infinite;\n",
       "  }\n",
       "\n",
       "  @keyframes spin {\n",
       "    0% {\n",
       "      border-color: transparent;\n",
       "      border-bottom-color: var(--fill-color);\n",
       "      border-left-color: var(--fill-color);\n",
       "    }\n",
       "    20% {\n",
       "      border-color: transparent;\n",
       "      border-left-color: var(--fill-color);\n",
       "      border-top-color: var(--fill-color);\n",
       "    }\n",
       "    30% {\n",
       "      border-color: transparent;\n",
       "      border-left-color: var(--fill-color);\n",
       "      border-top-color: var(--fill-color);\n",
       "      border-right-color: var(--fill-color);\n",
       "    }\n",
       "    40% {\n",
       "      border-color: transparent;\n",
       "      border-right-color: var(--fill-color);\n",
       "      border-top-color: var(--fill-color);\n",
       "    }\n",
       "    60% {\n",
       "      border-color: transparent;\n",
       "      border-right-color: var(--fill-color);\n",
       "    }\n",
       "    80% {\n",
       "      border-color: transparent;\n",
       "      border-right-color: var(--fill-color);\n",
       "      border-bottom-color: var(--fill-color);\n",
       "    }\n",
       "    90% {\n",
       "      border-color: transparent;\n",
       "      border-bottom-color: var(--fill-color);\n",
       "    }\n",
       "  }\n",
       "</style>\n",
       "\n",
       "  <script>\n",
       "    async function quickchart(key) {\n",
       "      const quickchartButtonEl =\n",
       "        document.querySelector('#' + key + ' button');\n",
       "      quickchartButtonEl.disabled = true;  // To prevent multiple clicks.\n",
       "      quickchartButtonEl.classList.add('colab-df-spinner');\n",
       "      try {\n",
       "        const charts = await google.colab.kernel.invokeFunction(\n",
       "            'suggestCharts', [key], {});\n",
       "      } catch (error) {\n",
       "        console.error('Error during call to suggestCharts:', error);\n",
       "      }\n",
       "      quickchartButtonEl.classList.remove('colab-df-spinner');\n",
       "      quickchartButtonEl.classList.add('colab-df-quickchart-complete');\n",
       "    }\n",
       "    (() => {\n",
       "      let quickchartButtonEl =\n",
       "        document.querySelector('#df-d842ed5d-5039-4760-bdc8-f52a15c922d2 button');\n",
       "      quickchartButtonEl.style.display =\n",
       "        google.colab.kernel.accessAllowed ? 'block' : 'none';\n",
       "    })();\n",
       "  </script>\n",
       "</div>\n",
       "    </div>\n",
       "  </div>\n"
      ]
     },
     "metadata": {},
     "execution_count": 19
    }
   ],
   "source": [
    "df_pred['predicted_difficulty'] = predicted_labels\n",
    "df_pred\n"
   ]
  },
  {
   "cell_type": "code",
   "execution_count": 19,
   "metadata": {
    "id": "3v_2aPk1gUXR"
   },
   "outputs": [],
   "source": []
  },
  {
   "cell_type": "markdown",
   "metadata": {
    "id": "jctQ2IXYeXEs"
   },
   "source": [
    "# This is how to submit a pd file with predictions\n",
    "### for the example we will submit a file where only A1 is given as a prediction"
   ]
  },
  {
   "cell_type": "code",
   "source": [],
   "metadata": {
    "id": "jUBUCkxWNHKR"
   },
   "execution_count": 19,
   "outputs": []
  },
  {
   "cell_type": "code",
   "execution_count": 20,
   "metadata": {
    "id": "pg1ITBF8e0aq"
   },
   "outputs": [],
   "source": [
    "df_sub=df_pred[['predicted_difficulty']]\n",
    "df_sub.to_csv('submission.csv')"
   ]
  },
  {
   "cell_type": "code",
   "execution_count": 21,
   "metadata": {
    "id": "D3i5G0qzgBxP",
    "colab": {
     "base_uri": "https://localhost:8080/"
    },
    "outputId": "ede27bb0-614d-4155-d5e4-bbbb396a964c"
   },
   "outputs": [
    {
     "output_type": "stream",
     "name": "stdout",
     "text": [
      "100% 8.31k/8.31k [00:00<00:00, 30.1kB/s]\n",
      "Successfully submitted to Detecting the difficulty level of French texts"
     ]
    }
   ],
   "source": [
    "! kaggle competitions submit -c detecting-french-texts-difficulty-level-2023 -f submission.csv -m \"Sample submission\""
   ]
  },
  {
   "cell_type": "markdown",
   "source": [
    "![image.png](data:image/png;base64,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)"
   ],
   "metadata": {
    "id": "o6AAZ9sOq-fr"
   }
  }
 ],
 "metadata": {
  "colab": {
   "provenance": []
  },
  "kernelspec": {
   "display_name": "Python 3 (ipykernel)",
   "language": "python",
   "name": "python3"
  },
  "language_info": {
   "codemirror_mode": {
    "name": "ipython",
    "version": 3
   },
   "file_extension": ".py",
   "mimetype": "text/x-python",
   "name": "python",
   "nbconvert_exporter": "python",
   "pygments_lexer": "ipython3",
   "version": "3.9.6"
  },
  "toc": {
   "base_numbering": 1,
   "nav_menu": {},
   "number_sections": true,
   "sideBar": true,
   "skip_h1_title": false,
   "title_cell": "Table of Contents",
   "title_sidebar": "Contents",
   "toc_cell": false,
   "toc_position": {},
   "toc_section_display": true,
   "toc_window_display": false
  }
 },
 "nbformat": 4,
 "nbformat_minor": 0
}
