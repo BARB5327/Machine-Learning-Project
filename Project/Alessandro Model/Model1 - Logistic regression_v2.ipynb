{
  "cells": [
    {
      "cell_type": "markdown",
      "source": [
        "#Initialization of the kaggle and the files#"
      ],
      "metadata": {
        "id": "kTfmqzC6OtfX"
      }
    },
    {
      "cell_type": "code",
      "execution_count": 1,
      "metadata": {
        "colab": {
          "base_uri": "https://localhost:8080/"
        },
        "id": "UJ_hnJzSNO2g",
        "outputId": "013b50cc-d486-441f-b74b-df939d08f5e2"
      },
      "outputs": [
        {
          "output_type": "stream",
          "name": "stdout",
          "text": [
            "Mounted at /content/drive\n"
          ]
        }
      ],
      "source": [
        "# reading in the data via the Kaggle API\n",
        "\n",
        "# mount your Google Drive\n",
        "from google.colab import drive\n",
        "drive.mount('/content/drive', force_remount=True)"
      ]
    },
    {
      "cell_type": "code",
      "execution_count": 2,
      "metadata": {
        "colab": {
          "base_uri": "https://localhost:8080/"
        },
        "id": "mJPTz3D7TeQv",
        "outputId": "fd469a80-c93c-40f3-bd09-f144de1063f0"
      },
      "outputs": [
        {
          "output_type": "stream",
          "name": "stdout",
          "text": [
            "Requirement already satisfied: kaggle in /usr/local/lib/python3.10/dist-packages (1.5.16)\n",
            "Requirement already satisfied: six>=1.10 in /usr/local/lib/python3.10/dist-packages (from kaggle) (1.16.0)\n",
            "Requirement already satisfied: certifi in /usr/local/lib/python3.10/dist-packages (from kaggle) (2023.7.22)\n",
            "Requirement already satisfied: python-dateutil in /usr/local/lib/python3.10/dist-packages (from kaggle) (2.8.2)\n",
            "Requirement already satisfied: requests in /usr/local/lib/python3.10/dist-packages (from kaggle) (2.31.0)\n",
            "Requirement already satisfied: tqdm in /usr/local/lib/python3.10/dist-packages (from kaggle) (4.66.1)\n",
            "Requirement already satisfied: python-slugify in /usr/local/lib/python3.10/dist-packages (from kaggle) (8.0.1)\n",
            "Requirement already satisfied: urllib3 in /usr/local/lib/python3.10/dist-packages (from kaggle) (2.0.7)\n",
            "Requirement already satisfied: bleach in /usr/local/lib/python3.10/dist-packages (from kaggle) (6.1.0)\n",
            "Requirement already satisfied: webencodings in /usr/local/lib/python3.10/dist-packages (from bleach->kaggle) (0.5.1)\n",
            "Requirement already satisfied: text-unidecode>=1.3 in /usr/local/lib/python3.10/dist-packages (from python-slugify->kaggle) (1.3)\n",
            "Requirement already satisfied: charset-normalizer<4,>=2 in /usr/local/lib/python3.10/dist-packages (from requests->kaggle) (3.3.2)\n",
            "Requirement already satisfied: idna<4,>=2.5 in /usr/local/lib/python3.10/dist-packages (from requests->kaggle) (3.4)\n"
          ]
        }
      ],
      "source": [
        "# install Kaggle\n",
        "! pip install kaggle"
      ]
    },
    {
      "cell_type": "markdown",
      "metadata": {
        "id": "ZKG1TCddRYTB"
      },
      "source": [
        "Log into your Kaggle account, go to Account > API > Create new API token. You will obtain a kaggle.json file, which you save on your Google Drive directy in my drive."
      ]
    },
    {
      "cell_type": "code",
      "execution_count": 3,
      "metadata": {
        "id": "JgzLj451YDfV"
      },
      "outputs": [],
      "source": [
        "!mkdir ~/.kaggle"
      ]
    },
    {
      "cell_type": "code",
      "execution_count": 4,
      "metadata": {
        "id": "KrsZLalrSI3u"
      },
      "outputs": [],
      "source": [
        "#read in your Kaggle credentials from Google Drive\n",
        "!cp /content/drive/MyDrive/Kaggle/kaggle.json ~/.kaggle/kaggle.json\n"
      ]
    },
    {
      "cell_type": "code",
      "execution_count": 5,
      "metadata": {
        "colab": {
          "base_uri": "https://localhost:8080/"
        },
        "id": "BDI60LXKTPzf",
        "outputId": "91a8deea-12ea-43fb-9f28-4e20372409b2"
      },
      "outputs": [
        {
          "output_type": "stream",
          "name": "stdout",
          "text": [
            "Downloading detecting-french-texts-difficulty-level-2023.zip to /content\n",
            "100% 303k/303k [00:00<00:00, 558kB/s]\n",
            "100% 303k/303k [00:00<00:00, 557kB/s]\n"
          ]
        }
      ],
      "source": [
        "! kaggle competitions download -c detecting-french-texts-difficulty-level-2023\n",
        "from zipfile import ZipFile\n",
        "with ZipFile('detecting-french-texts-difficulty-level-2023.zip','r') as zip:\n",
        "  zip.extractall(path=\"\")"
      ]
    },
    {
      "cell_type": "markdown",
      "source": [
        "# Begining of the model\n",
        "#####We install the transformers and spacy that we'll use later for"
      ],
      "metadata": {
        "id": "HHb-bzEFOdNv"
      }
    },
    {
      "cell_type": "code",
      "source": [
        "!pip install -q transformers\n",
        "!python -m spacy download fr_core_news_sm\n"
      ],
      "metadata": {
        "colab": {
          "base_uri": "https://localhost:8080/"
        },
        "id": "IKB5eYqaQRES",
        "outputId": "8d6d2420-9f63-4a2b-ae14-bcd46c171854"
      },
      "execution_count": 6,
      "outputs": [
        {
          "output_type": "stream",
          "name": "stdout",
          "text": [
            "2023-11-30 15:36:08.813879: E tensorflow/compiler/xla/stream_executor/cuda/cuda_dnn.cc:9342] Unable to register cuDNN factory: Attempting to register factory for plugin cuDNN when one has already been registered\n",
            "2023-11-30 15:36:08.813945: E tensorflow/compiler/xla/stream_executor/cuda/cuda_fft.cc:609] Unable to register cuFFT factory: Attempting to register factory for plugin cuFFT when one has already been registered\n",
            "2023-11-30 15:36:08.813978: E tensorflow/compiler/xla/stream_executor/cuda/cuda_blas.cc:1518] Unable to register cuBLAS factory: Attempting to register factory for plugin cuBLAS when one has already been registered\n",
            "2023-11-30 15:36:08.823593: I tensorflow/core/platform/cpu_feature_guard.cc:182] This TensorFlow binary is optimized to use available CPU instructions in performance-critical operations.\n",
            "To enable the following instructions: AVX2 FMA, in other operations, rebuild TensorFlow with the appropriate compiler flags.\n",
            "2023-11-30 15:36:10.153044: W tensorflow/compiler/tf2tensorrt/utils/py_utils.cc:38] TF-TRT Warning: Could not find TensorRT\n",
            "Collecting fr-core-news-sm==3.6.0\n",
            "  Downloading https://github.com/explosion/spacy-models/releases/download/fr_core_news_sm-3.6.0/fr_core_news_sm-3.6.0-py3-none-any.whl (16.3 MB)\n",
            "\u001b[2K     \u001b[90m━━━━━━━━━━━━━━━━━━━━━━━━━━━━━━━━━━━━━━━━\u001b[0m \u001b[32m16.3/16.3 MB\u001b[0m \u001b[31m43.4 MB/s\u001b[0m eta \u001b[36m0:00:00\u001b[0m\n",
            "\u001b[?25hRequirement already satisfied: spacy<3.7.0,>=3.6.0 in /usr/local/lib/python3.10/dist-packages (from fr-core-news-sm==3.6.0) (3.6.1)\n",
            "Requirement already satisfied: spacy-legacy<3.1.0,>=3.0.11 in /usr/local/lib/python3.10/dist-packages (from spacy<3.7.0,>=3.6.0->fr-core-news-sm==3.6.0) (3.0.12)\n",
            "Requirement already satisfied: spacy-loggers<2.0.0,>=1.0.0 in /usr/local/lib/python3.10/dist-packages (from spacy<3.7.0,>=3.6.0->fr-core-news-sm==3.6.0) (1.0.5)\n",
            "Requirement already satisfied: murmurhash<1.1.0,>=0.28.0 in /usr/local/lib/python3.10/dist-packages (from spacy<3.7.0,>=3.6.0->fr-core-news-sm==3.6.0) (1.0.10)\n",
            "Requirement already satisfied: cymem<2.1.0,>=2.0.2 in /usr/local/lib/python3.10/dist-packages (from spacy<3.7.0,>=3.6.0->fr-core-news-sm==3.6.0) (2.0.8)\n",
            "Requirement already satisfied: preshed<3.1.0,>=3.0.2 in /usr/local/lib/python3.10/dist-packages (from spacy<3.7.0,>=3.6.0->fr-core-news-sm==3.6.0) (3.0.9)\n",
            "Requirement already satisfied: thinc<8.2.0,>=8.1.8 in /usr/local/lib/python3.10/dist-packages (from spacy<3.7.0,>=3.6.0->fr-core-news-sm==3.6.0) (8.1.12)\n",
            "Requirement already satisfied: wasabi<1.2.0,>=0.9.1 in /usr/local/lib/python3.10/dist-packages (from spacy<3.7.0,>=3.6.0->fr-core-news-sm==3.6.0) (1.1.2)\n",
            "Requirement already satisfied: srsly<3.0.0,>=2.4.3 in /usr/local/lib/python3.10/dist-packages (from spacy<3.7.0,>=3.6.0->fr-core-news-sm==3.6.0) (2.4.8)\n",
            "Requirement already satisfied: catalogue<2.1.0,>=2.0.6 in /usr/local/lib/python3.10/dist-packages (from spacy<3.7.0,>=3.6.0->fr-core-news-sm==3.6.0) (2.0.10)\n",
            "Requirement already satisfied: typer<0.10.0,>=0.3.0 in /usr/local/lib/python3.10/dist-packages (from spacy<3.7.0,>=3.6.0->fr-core-news-sm==3.6.0) (0.9.0)\n",
            "Requirement already satisfied: pathy>=0.10.0 in /usr/local/lib/python3.10/dist-packages (from spacy<3.7.0,>=3.6.0->fr-core-news-sm==3.6.0) (0.10.3)\n",
            "Requirement already satisfied: smart-open<7.0.0,>=5.2.1 in /usr/local/lib/python3.10/dist-packages (from spacy<3.7.0,>=3.6.0->fr-core-news-sm==3.6.0) (6.4.0)\n",
            "Requirement already satisfied: tqdm<5.0.0,>=4.38.0 in /usr/local/lib/python3.10/dist-packages (from spacy<3.7.0,>=3.6.0->fr-core-news-sm==3.6.0) (4.66.1)\n",
            "Requirement already satisfied: numpy>=1.15.0 in /usr/local/lib/python3.10/dist-packages (from spacy<3.7.0,>=3.6.0->fr-core-news-sm==3.6.0) (1.23.5)\n",
            "Requirement already satisfied: requests<3.0.0,>=2.13.0 in /usr/local/lib/python3.10/dist-packages (from spacy<3.7.0,>=3.6.0->fr-core-news-sm==3.6.0) (2.31.0)\n",
            "Requirement already satisfied: pydantic!=1.8,!=1.8.1,<3.0.0,>=1.7.4 in /usr/local/lib/python3.10/dist-packages (from spacy<3.7.0,>=3.6.0->fr-core-news-sm==3.6.0) (1.10.13)\n",
            "Requirement already satisfied: jinja2 in /usr/local/lib/python3.10/dist-packages (from spacy<3.7.0,>=3.6.0->fr-core-news-sm==3.6.0) (3.1.2)\n",
            "Requirement already satisfied: setuptools in /usr/local/lib/python3.10/dist-packages (from spacy<3.7.0,>=3.6.0->fr-core-news-sm==3.6.0) (67.7.2)\n",
            "Requirement already satisfied: packaging>=20.0 in /usr/local/lib/python3.10/dist-packages (from spacy<3.7.0,>=3.6.0->fr-core-news-sm==3.6.0) (23.2)\n",
            "Requirement already satisfied: langcodes<4.0.0,>=3.2.0 in /usr/local/lib/python3.10/dist-packages (from spacy<3.7.0,>=3.6.0->fr-core-news-sm==3.6.0) (3.3.0)\n",
            "Requirement already satisfied: typing-extensions>=4.2.0 in /usr/local/lib/python3.10/dist-packages (from pydantic!=1.8,!=1.8.1,<3.0.0,>=1.7.4->spacy<3.7.0,>=3.6.0->fr-core-news-sm==3.6.0) (4.5.0)\n",
            "Requirement already satisfied: charset-normalizer<4,>=2 in /usr/local/lib/python3.10/dist-packages (from requests<3.0.0,>=2.13.0->spacy<3.7.0,>=3.6.0->fr-core-news-sm==3.6.0) (3.3.2)\n",
            "Requirement already satisfied: idna<4,>=2.5 in /usr/local/lib/python3.10/dist-packages (from requests<3.0.0,>=2.13.0->spacy<3.7.0,>=3.6.0->fr-core-news-sm==3.6.0) (3.4)\n",
            "Requirement already satisfied: urllib3<3,>=1.21.1 in /usr/local/lib/python3.10/dist-packages (from requests<3.0.0,>=2.13.0->spacy<3.7.0,>=3.6.0->fr-core-news-sm==3.6.0) (2.0.7)\n",
            "Requirement already satisfied: certifi>=2017.4.17 in /usr/local/lib/python3.10/dist-packages (from requests<3.0.0,>=2.13.0->spacy<3.7.0,>=3.6.0->fr-core-news-sm==3.6.0) (2023.7.22)\n",
            "Requirement already satisfied: blis<0.8.0,>=0.7.8 in /usr/local/lib/python3.10/dist-packages (from thinc<8.2.0,>=8.1.8->spacy<3.7.0,>=3.6.0->fr-core-news-sm==3.6.0) (0.7.11)\n",
            "Requirement already satisfied: confection<1.0.0,>=0.0.1 in /usr/local/lib/python3.10/dist-packages (from thinc<8.2.0,>=8.1.8->spacy<3.7.0,>=3.6.0->fr-core-news-sm==3.6.0) (0.1.3)\n",
            "Requirement already satisfied: click<9.0.0,>=7.1.1 in /usr/local/lib/python3.10/dist-packages (from typer<0.10.0,>=0.3.0->spacy<3.7.0,>=3.6.0->fr-core-news-sm==3.6.0) (8.1.7)\n",
            "Requirement already satisfied: MarkupSafe>=2.0 in /usr/local/lib/python3.10/dist-packages (from jinja2->spacy<3.7.0,>=3.6.0->fr-core-news-sm==3.6.0) (2.1.3)\n",
            "Installing collected packages: fr-core-news-sm\n",
            "Successfully installed fr-core-news-sm-3.6.0\n",
            "\u001b[38;5;2m✔ Download and installation successful\u001b[0m\n",
            "You can now load the package via spacy.load('fr_core_news_sm')\n"
          ]
        }
      ]
    },
    {
      "cell_type": "markdown",
      "source": [
        "## Imports##"
      ],
      "metadata": {
        "id": "nvsJcuCpQLx8"
      }
    },
    {
      "cell_type": "code",
      "execution_count": 7,
      "metadata": {
        "id": "daqvj7feTx60"
      },
      "outputs": [],
      "source": [
        "import pandas as pd\n",
        "import numpy as np\n",
        "import seaborn as sns\n",
        "import matplotlib.pyplot as plt\n",
        "import spacy\n",
        "import multiprocessing\n",
        "import string\n",
        "\n",
        "from sklearn.linear_model import LogisticRegression\n",
        "from sklearn.model_selection import train_test_split\n",
        "from sklearn.pipeline import Pipeline\n",
        "from sklearn.metrics import confusion_matrix, accuracy_score\n",
        "from sklearn.feature_extraction.text import CountVectorizer, TfidfVectorizer\n",
        "\n",
        "from sklearn.metrics import precision_score, recall_score, f1_score, accuracy_score,confusion_matrix\n",
        "\n",
        "df = pd.read_csv('training_data.csv', index_col = 'id')\n",
        "df_pred = pd.read_csv('unlabelled_test_data.csv', index_col = 'id')"
      ]
    },
    {
      "cell_type": "markdown",
      "source": [
        "#####We use spacy to treat the french language for the tokeninzation and treatment of our sentences like for the stop words\n"
      ],
      "metadata": {
        "id": "RreDpcgLicYc"
      }
    },
    {
      "cell_type": "code",
      "source": [
        "sp =spacy.load('fr_core_news_sm')\n",
        "sp_EN = spacy.load('en_core_web_sm')"
      ],
      "metadata": {
        "id": "GLoAJMc3S4xB"
      },
      "execution_count": 14,
      "outputs": []
    },
    {
      "cell_type": "code",
      "execution_count": 9,
      "metadata": {
        "colab": {
          "base_uri": "https://localhost:8080/",
          "height": 455
        },
        "id": "VxRSnk5bhTp8",
        "outputId": "edc33b06-2111-4acf-bfe9-4d3839a18b19"
      },
      "outputs": [
        {
          "output_type": "execute_result",
          "data": {
            "text/plain": [
              "                                               sentence difficulty\n",
              "id                                                                \n",
              "0     Les coûts kilométriques réels peuvent diverger...         C1\n",
              "1     Le bleu, c'est ma couleur préférée mais je n'a...         A1\n",
              "2     Le test de niveau en français est sur le site ...         A1\n",
              "3              Est-ce que ton mari est aussi de Boston?         A1\n",
              "4     Dans les écoles de commerce, dans les couloirs...         B1\n",
              "...                                                 ...        ...\n",
              "4795  C'est pourquoi, il décida de remplacer les hab...         B2\n",
              "4796  Il avait une de ces pâleurs splendides qui don...         C1\n",
              "4797  Et le premier samedi de chaque mois, venez ren...         A2\n",
              "4798  Les coûts liés à la journalisation n'étant pas...         C2\n",
              "4799  Sur le sable, la mer haletait de toute la resp...         C2\n",
              "\n",
              "[4800 rows x 2 columns]"
            ],
            "text/html": [
              "\n",
              "  <div id=\"df-5da434fc-a30f-4674-a5ca-39c8beef3d0f\" class=\"colab-df-container\">\n",
              "    <div>\n",
              "<style scoped>\n",
              "    .dataframe tbody tr th:only-of-type {\n",
              "        vertical-align: middle;\n",
              "    }\n",
              "\n",
              "    .dataframe tbody tr th {\n",
              "        vertical-align: top;\n",
              "    }\n",
              "\n",
              "    .dataframe thead th {\n",
              "        text-align: right;\n",
              "    }\n",
              "</style>\n",
              "<table border=\"1\" class=\"dataframe\">\n",
              "  <thead>\n",
              "    <tr style=\"text-align: right;\">\n",
              "      <th></th>\n",
              "      <th>sentence</th>\n",
              "      <th>difficulty</th>\n",
              "    </tr>\n",
              "    <tr>\n",
              "      <th>id</th>\n",
              "      <th></th>\n",
              "      <th></th>\n",
              "    </tr>\n",
              "  </thead>\n",
              "  <tbody>\n",
              "    <tr>\n",
              "      <th>0</th>\n",
              "      <td>Les coûts kilométriques réels peuvent diverger...</td>\n",
              "      <td>C1</td>\n",
              "    </tr>\n",
              "    <tr>\n",
              "      <th>1</th>\n",
              "      <td>Le bleu, c'est ma couleur préférée mais je n'a...</td>\n",
              "      <td>A1</td>\n",
              "    </tr>\n",
              "    <tr>\n",
              "      <th>2</th>\n",
              "      <td>Le test de niveau en français est sur le site ...</td>\n",
              "      <td>A1</td>\n",
              "    </tr>\n",
              "    <tr>\n",
              "      <th>3</th>\n",
              "      <td>Est-ce que ton mari est aussi de Boston?</td>\n",
              "      <td>A1</td>\n",
              "    </tr>\n",
              "    <tr>\n",
              "      <th>4</th>\n",
              "      <td>Dans les écoles de commerce, dans les couloirs...</td>\n",
              "      <td>B1</td>\n",
              "    </tr>\n",
              "    <tr>\n",
              "      <th>...</th>\n",
              "      <td>...</td>\n",
              "      <td>...</td>\n",
              "    </tr>\n",
              "    <tr>\n",
              "      <th>4795</th>\n",
              "      <td>C'est pourquoi, il décida de remplacer les hab...</td>\n",
              "      <td>B2</td>\n",
              "    </tr>\n",
              "    <tr>\n",
              "      <th>4796</th>\n",
              "      <td>Il avait une de ces pâleurs splendides qui don...</td>\n",
              "      <td>C1</td>\n",
              "    </tr>\n",
              "    <tr>\n",
              "      <th>4797</th>\n",
              "      <td>Et le premier samedi de chaque mois, venez ren...</td>\n",
              "      <td>A2</td>\n",
              "    </tr>\n",
              "    <tr>\n",
              "      <th>4798</th>\n",
              "      <td>Les coûts liés à la journalisation n'étant pas...</td>\n",
              "      <td>C2</td>\n",
              "    </tr>\n",
              "    <tr>\n",
              "      <th>4799</th>\n",
              "      <td>Sur le sable, la mer haletait de toute la resp...</td>\n",
              "      <td>C2</td>\n",
              "    </tr>\n",
              "  </tbody>\n",
              "</table>\n",
              "<p>4800 rows × 2 columns</p>\n",
              "</div>\n",
              "    <div class=\"colab-df-buttons\">\n",
              "\n",
              "  <div class=\"colab-df-container\">\n",
              "    <button class=\"colab-df-convert\" onclick=\"convertToInteractive('df-5da434fc-a30f-4674-a5ca-39c8beef3d0f')\"\n",
              "            title=\"Convert this dataframe to an interactive table.\"\n",
              "            style=\"display:none;\">\n",
              "\n",
              "  <svg xmlns=\"http://www.w3.org/2000/svg\" height=\"24px\" viewBox=\"0 -960 960 960\">\n",
              "    <path d=\"M120-120v-720h720v720H120Zm60-500h600v-160H180v160Zm220 220h160v-160H400v160Zm0 220h160v-160H400v160ZM180-400h160v-160H180v160Zm440 0h160v-160H620v160ZM180-180h160v-160H180v160Zm440 0h160v-160H620v160Z\"/>\n",
              "  </svg>\n",
              "    </button>\n",
              "\n",
              "  <style>\n",
              "    .colab-df-container {\n",
              "      display:flex;\n",
              "      gap: 12px;\n",
              "    }\n",
              "\n",
              "    .colab-df-convert {\n",
              "      background-color: #E8F0FE;\n",
              "      border: none;\n",
              "      border-radius: 50%;\n",
              "      cursor: pointer;\n",
              "      display: none;\n",
              "      fill: #1967D2;\n",
              "      height: 32px;\n",
              "      padding: 0 0 0 0;\n",
              "      width: 32px;\n",
              "    }\n",
              "\n",
              "    .colab-df-convert:hover {\n",
              "      background-color: #E2EBFA;\n",
              "      box-shadow: 0px 1px 2px rgba(60, 64, 67, 0.3), 0px 1px 3px 1px rgba(60, 64, 67, 0.15);\n",
              "      fill: #174EA6;\n",
              "    }\n",
              "\n",
              "    .colab-df-buttons div {\n",
              "      margin-bottom: 4px;\n",
              "    }\n",
              "\n",
              "    [theme=dark] .colab-df-convert {\n",
              "      background-color: #3B4455;\n",
              "      fill: #D2E3FC;\n",
              "    }\n",
              "\n",
              "    [theme=dark] .colab-df-convert:hover {\n",
              "      background-color: #434B5C;\n",
              "      box-shadow: 0px 1px 3px 1px rgba(0, 0, 0, 0.15);\n",
              "      filter: drop-shadow(0px 1px 2px rgba(0, 0, 0, 0.3));\n",
              "      fill: #FFFFFF;\n",
              "    }\n",
              "  </style>\n",
              "\n",
              "    <script>\n",
              "      const buttonEl =\n",
              "        document.querySelector('#df-5da434fc-a30f-4674-a5ca-39c8beef3d0f button.colab-df-convert');\n",
              "      buttonEl.style.display =\n",
              "        google.colab.kernel.accessAllowed ? 'block' : 'none';\n",
              "\n",
              "      async function convertToInteractive(key) {\n",
              "        const element = document.querySelector('#df-5da434fc-a30f-4674-a5ca-39c8beef3d0f');\n",
              "        const dataTable =\n",
              "          await google.colab.kernel.invokeFunction('convertToInteractive',\n",
              "                                                    [key], {});\n",
              "        if (!dataTable) return;\n",
              "\n",
              "        const docLinkHtml = 'Like what you see? Visit the ' +\n",
              "          '<a target=\"_blank\" href=https://colab.research.google.com/notebooks/data_table.ipynb>data table notebook</a>'\n",
              "          + ' to learn more about interactive tables.';\n",
              "        element.innerHTML = '';\n",
              "        dataTable['output_type'] = 'display_data';\n",
              "        await google.colab.output.renderOutput(dataTable, element);\n",
              "        const docLink = document.createElement('div');\n",
              "        docLink.innerHTML = docLinkHtml;\n",
              "        element.appendChild(docLink);\n",
              "      }\n",
              "    </script>\n",
              "  </div>\n",
              "\n",
              "\n",
              "<div id=\"df-31c9b876-a570-438d-b12f-d1a94738b69e\">\n",
              "  <button class=\"colab-df-quickchart\" onclick=\"quickchart('df-31c9b876-a570-438d-b12f-d1a94738b69e')\"\n",
              "            title=\"Suggest charts\"\n",
              "            style=\"display:none;\">\n",
              "\n",
              "<svg xmlns=\"http://www.w3.org/2000/svg\" height=\"24px\"viewBox=\"0 0 24 24\"\n",
              "     width=\"24px\">\n",
              "    <g>\n",
              "        <path d=\"M19 3H5c-1.1 0-2 .9-2 2v14c0 1.1.9 2 2 2h14c1.1 0 2-.9 2-2V5c0-1.1-.9-2-2-2zM9 17H7v-7h2v7zm4 0h-2V7h2v10zm4 0h-2v-4h2v4z\"/>\n",
              "    </g>\n",
              "</svg>\n",
              "  </button>\n",
              "\n",
              "<style>\n",
              "  .colab-df-quickchart {\n",
              "      --bg-color: #E8F0FE;\n",
              "      --fill-color: #1967D2;\n",
              "      --hover-bg-color: #E2EBFA;\n",
              "      --hover-fill-color: #174EA6;\n",
              "      --disabled-fill-color: #AAA;\n",
              "      --disabled-bg-color: #DDD;\n",
              "  }\n",
              "\n",
              "  [theme=dark] .colab-df-quickchart {\n",
              "      --bg-color: #3B4455;\n",
              "      --fill-color: #D2E3FC;\n",
              "      --hover-bg-color: #434B5C;\n",
              "      --hover-fill-color: #FFFFFF;\n",
              "      --disabled-bg-color: #3B4455;\n",
              "      --disabled-fill-color: #666;\n",
              "  }\n",
              "\n",
              "  .colab-df-quickchart {\n",
              "    background-color: var(--bg-color);\n",
              "    border: none;\n",
              "    border-radius: 50%;\n",
              "    cursor: pointer;\n",
              "    display: none;\n",
              "    fill: var(--fill-color);\n",
              "    height: 32px;\n",
              "    padding: 0;\n",
              "    width: 32px;\n",
              "  }\n",
              "\n",
              "  .colab-df-quickchart:hover {\n",
              "    background-color: var(--hover-bg-color);\n",
              "    box-shadow: 0 1px 2px rgba(60, 64, 67, 0.3), 0 1px 3px 1px rgba(60, 64, 67, 0.15);\n",
              "    fill: var(--button-hover-fill-color);\n",
              "  }\n",
              "\n",
              "  .colab-df-quickchart-complete:disabled,\n",
              "  .colab-df-quickchart-complete:disabled:hover {\n",
              "    background-color: var(--disabled-bg-color);\n",
              "    fill: var(--disabled-fill-color);\n",
              "    box-shadow: none;\n",
              "  }\n",
              "\n",
              "  .colab-df-spinner {\n",
              "    border: 2px solid var(--fill-color);\n",
              "    border-color: transparent;\n",
              "    border-bottom-color: var(--fill-color);\n",
              "    animation:\n",
              "      spin 1s steps(1) infinite;\n",
              "  }\n",
              "\n",
              "  @keyframes spin {\n",
              "    0% {\n",
              "      border-color: transparent;\n",
              "      border-bottom-color: var(--fill-color);\n",
              "      border-left-color: var(--fill-color);\n",
              "    }\n",
              "    20% {\n",
              "      border-color: transparent;\n",
              "      border-left-color: var(--fill-color);\n",
              "      border-top-color: var(--fill-color);\n",
              "    }\n",
              "    30% {\n",
              "      border-color: transparent;\n",
              "      border-left-color: var(--fill-color);\n",
              "      border-top-color: var(--fill-color);\n",
              "      border-right-color: var(--fill-color);\n",
              "    }\n",
              "    40% {\n",
              "      border-color: transparent;\n",
              "      border-right-color: var(--fill-color);\n",
              "      border-top-color: var(--fill-color);\n",
              "    }\n",
              "    60% {\n",
              "      border-color: transparent;\n",
              "      border-right-color: var(--fill-color);\n",
              "    }\n",
              "    80% {\n",
              "      border-color: transparent;\n",
              "      border-right-color: var(--fill-color);\n",
              "      border-bottom-color: var(--fill-color);\n",
              "    }\n",
              "    90% {\n",
              "      border-color: transparent;\n",
              "      border-bottom-color: var(--fill-color);\n",
              "    }\n",
              "  }\n",
              "</style>\n",
              "\n",
              "  <script>\n",
              "    async function quickchart(key) {\n",
              "      const quickchartButtonEl =\n",
              "        document.querySelector('#' + key + ' button');\n",
              "      quickchartButtonEl.disabled = true;  // To prevent multiple clicks.\n",
              "      quickchartButtonEl.classList.add('colab-df-spinner');\n",
              "      try {\n",
              "        const charts = await google.colab.kernel.invokeFunction(\n",
              "            'suggestCharts', [key], {});\n",
              "      } catch (error) {\n",
              "        console.error('Error during call to suggestCharts:', error);\n",
              "      }\n",
              "      quickchartButtonEl.classList.remove('colab-df-spinner');\n",
              "      quickchartButtonEl.classList.add('colab-df-quickchart-complete');\n",
              "    }\n",
              "    (() => {\n",
              "      let quickchartButtonEl =\n",
              "        document.querySelector('#df-31c9b876-a570-438d-b12f-d1a94738b69e button');\n",
              "      quickchartButtonEl.style.display =\n",
              "        google.colab.kernel.accessAllowed ? 'block' : 'none';\n",
              "    })();\n",
              "  </script>\n",
              "</div>\n",
              "    </div>\n",
              "  </div>\n"
            ]
          },
          "metadata": {},
          "execution_count": 9
        }
      ],
      "source": [
        "df"
      ]
    },
    {
      "cell_type": "code",
      "source": [
        "X=df['sentence']\n",
        "y=df['difficulty']"
      ],
      "metadata": {
        "id": "LGU8vdNtTRxC"
      },
      "execution_count": 10,
      "outputs": []
    },
    {
      "cell_type": "code",
      "source": [
        "X_train, X_test, y_train, y_test = train_test_split(X, y, test_size=0.2, random_state=42, shuffle=True)"
      ],
      "metadata": {
        "id": "aPHY2cFJZuYY"
      },
      "execution_count": 11,
      "outputs": []
    },
    {
      "cell_type": "markdown",
      "source": [
        "#####As we said in the first model of Tfidf, here we decide to keep the stop words to see the difference and if how much the french stop words have an impact in the prediction"
      ],
      "metadata": {
        "id": "uNnJgP2pi75c"
      }
    },
    {
      "cell_type": "code",
      "source": [
        "def spacy_tokenizer(sentence):\n",
        "\n",
        "\n",
        "    mytokens = sp(sentence)\n",
        "\n",
        "    mytokens = [ word.lemma_.lower().strip() if word.lemma_ != \"-PRON-\" else word.lower_ for word in mytokens ]\n",
        "\n",
        "    mytokens = [ word.replace('xx/', '').replace('xxxx/', '').replace('xx', '') for word in mytokens ]\n",
        "\n",
        "    mytokens = [ word for word in mytokens if word not in [\"xxxx\", \"xx\", \"\"] ]\n",
        "\n",
        "    return mytokens"
      ],
      "metadata": {
        "id": "A6IPwYyuPEOA"
      },
      "execution_count": 12,
      "outputs": []
    },
    {
      "cell_type": "markdown",
      "source": [
        "##### As we can see there is a big difference between the stop words in french and in english. There is 181 more stop words in french than in french"
      ],
      "metadata": {
        "id": "A3XnVGNUlRIM"
      }
    },
    {
      "cell_type": "code",
      "source": [
        "stop_words_FR = spacy.lang.fr.stop_words.STOP_WORDS\n",
        "stop_words_EN=spacy.lang.en.stop_words.STOP_WORDS\n",
        "print(stop_words_FR)\n",
        "print(\"Number of stopwords in French: \"+str(len(stop_words_FR)))\n",
        "print(stop_words_EN)\n",
        "print(\"Number of stopwords in English: \"+str(len(stop_words_EN)))\n"
      ],
      "metadata": {
        "colab": {
          "base_uri": "https://localhost:8080/"
        },
        "id": "cLWZThpVnb14",
        "outputId": "2a4ed537-0a52-4c56-a2b4-6a9eb07fd0e2"
      },
      "execution_count": 15,
      "outputs": [
        {
          "output_type": "stream",
          "name": "stdout",
          "text": [
            "{'parmi', 'delà', 'cela', 'dite', 'tout', 'quatre-vingt', 'tels', 'differentes', 'mille', 'dire', 'j’', 'gens', 'pas', 'quant-à-soi', \"quelqu'un\", 'possibles', 'sinon', 'derrière', 'dehors', 'compris', 'dessous', 'i', 'ainsi', 'effet', 'ô', 'elles-memes', 'treize', 'etre', 'quant', 'lors', 'notamment', 'cinquantaine', 'seule', 'très', 'celle-la', 'sauf', 'quinze', 'celles-là', 'comment', 'unes', 'vous', 'etaient', 'chacune', 'dans', 'certaines', 'fait', 'que', 'revoici', 'différent', 'quelque', 'parler', 'te', 'or', 'sa', 'plus', 'toi', 'sous', 'neanmoins', 'tres', 'precisement', 'sans', 'hormis', 'cinquantième', 'elles-mêmes', \"qu'\", 'celle', 'different', 'voici', 'desquelles', 'revoilà', 'hue', 'celles', 'etait', 'quelle', 'ceux-là', 'etc', 'cet', 'un', 'quelles', 'té', 'toujours', 'également', 'douzième', 'déjà', 'notre', 'certes', 'suit', 'ne', 'relativement', 'cinquième', 'voila', 'moi', 'â', 'moindres', 'jusque', 'ces', 'nôtre', 'font', 'concernant', 'allons', 'cette', 'pouvait', 'lui-meme', 'elles', 'n’', 'comme', 'tend', 'huit', 'enfin', 'avoir', 'houp', 'vous-mêmes', 'maintenant', 'alors', 'avaient', 'durant', 'sienne', 'ayant', 'desquels', 'peuvent', 'depuis', 'différents', 'longtemps', 'selon', 'et', 'chacun', 'qu’', 'anterieures', 'lequel', 'auxquelles', 'ouias', 'parfois', 'bat', 'tiens', 'miennes', 'memes', 'sien', 'hem', 'celle-là', 'ai', 'soixante', 'siens', 'peut', 'rend', 'peu', 'ci', 'miens', 'ceux-ci', 'son', 'allaient', 'ouverts', 'quatre', 'pu', 'toutes', 'specifiques', 'cent', \"l'\", 'suivante', \"d'\", 'as', 'suivre', 'quatorze', 'nombreuses', 'votre', 'dixième', 'ah', 'quoi', 'nous', 'mais', 'tenir', 't’', 'douze', 'cependant', 'donc', 'directement', 'retour', 'vais', 'meme', 'quatrièmement', 'plutot', 'anterieure', 'vos', 'trente', 'o', 'maint', 'telle', 'lui-même', 'leurs', 'doivent', 'merci', 'auraient', \"t'\", 'mien', 'suffisante', 'lui', 'devers', 'stop', 'da', 'la', 'cinq', 'aura', 'être', 'des', 'devra', 'est', 'siennes', 'revoila', 'septième', 'pourquoi', 'etant', 'souvent', 'ceci', 'du', 'parce', 'moi-même', 'dix', 'dix-neuf', 'lesquelles', 'combien', 'dit', 'dix-sept', 'avons', 'ils', 'autre', 'seul', 'tienne', 'uns', 'à', 'mon', 'nouveau', 'trois', 'aussi', 'mienne', 'hou', 'dedans', 'anterieur', 'hors', 'sont', 'ont', 'soi-meme', 'votres', 'où', 'voilà', 'a', 'certaine', 'm’', 'd’', 'quels', 'partant', 'puisque', 'semblable', 'différente', 'devant', 'au', 'auxquels', 'avait', 'suivant', 'malgré', 'leur', 'sixième', 'onze', 'lès', 'l’', 'moins', 'vôtre', 'ou', 'surtout', 'sera', 'aie', 'elle-meme', 'ceux', 'ouste', 'autres', 'pourrais', 'étaient', 'suivants', 'sent', 'tous', 'nôtres', 'diverse', 'préalable', 'attendu', 'me', 'semble', 'seuls', 'huitième', 'telles', 'deja', 'feront', 'mêmes', 'specifique', 'restant', 'spécifiques', 'aurait', 'divers', 'restent', 'avais', 'hep', 'possible', 'avant', 'seulement', 'auquel', 'en', 'excepté', 'ha', 'celui-la', 'deuxièmement', 'eu', 'soi', 'les', 'celles-ci', 'reste', 'celles-la', 'nul', 'na', 'ça', 'seront', 'dejà', 'ton', 'qui', 'touchant', 'je', 'quoique', 'parlent', 'ses', 'derriere', 'dix-huit', \"j'\", 'hé', 'ce', 'près', 'auront', 'basee', 'certain', 'eh', 'vé', 'ès', 'va', 'certains', 'elle-même', 'semblent', 'ait', 'tu', \"m'\", 'bas', 'moi-meme', 'précisement', 'permet', 'onzième', 'sur', 'peux', 'plusieurs', 'nos', 'ma', 'differente', 'tiennes', 'quel', 'vas', 'faisaient', 'vont', 'plutôt', 'vingt', 'eux', 'désormais', 'deux', 'ni', 'vers', 'antérieur', 'car', 'autrui', 'fais', 'doit', 'ouverte', 'vu', 'se', 'celui', 'lesquels', 'tente', 'desormais', 'mes', 'soit', 'hi', 'ho', 'importe', 'premièrement', 'étais', 'y', 'afin', 'dès', 'differents', 'étant', 'soi-même', 'pour', 'tel', 'nombreux', 'quelconque', 'lorsque', 'es', 'le', 'dont', 'même', 'toi-meme', 'troisièmement', 'quand', 'relative', 'par', 'faisant', 'on', 'neuvième', 'tenant', 'dits', 'seraient', 'ta', \"n'\", 'antérieure', 'celui-ci', 'c’', 'chaque', 'il', 'avec', 'envers', 'apres', 'façon', 'tant', 'pourrait', 'quarante', 'si', 'sept', 'suis', 'là', 'troisième', 'quelques', 'debout', 'celle-ci', 'dessus', 'était', 'puis', 'néanmoins', 'ouvert', 'aupres', 'suivantes', 'une', 'pendant', 'premier', 'toi-même', 'elle', 'abord', 'facon', 'suffisant', 'proche', 'antérieures', \"c'\", 'suffit', 'quatrième', 'etais', 'déja', 'laisser', 'pense', 'egalement', 'tien', 'personne', 'eux-mêmes', 'autrement', 'prealable', 'tellement', 'semblaient', 'parle', 'exactement', 'duquel', 'de', 'différentes', 'tes', 'vôtres', 'quiconque', 'pres', 'hui', 'directe', 'via', 'seize', 'laquelle', 'spécifique', 'assez', 'encore', \"s'\", 'deuxième', 'seules', 'malgre', 'sait', 'environ', 'jusqu', 'six', 'toute', 'nous-mêmes', 'entre', 'après', 'procedant', 'rendre', 'celui-là', 'cinquante', 'serait', 'aux', 's’', 'juste', 'diverses', 'chez', 'outre', 'première'}\n",
            "Number of stopwords in French: 507\n",
            "{'beside', 'here', 'also', 'other', 'seems', 'into', 'front', 'you', 'below', 'before', 'only', 'three', 'i', \"'re\", 'still', 'out', 'hereupon', 'yours', 'whereupon', 'now', 'though', 'another', 'first', 'yourselves', 'toward', 'have', 'often', 'whence', 'none', '‘re', 'unless', 'seemed', 'one', \"'m\", 'myself', 'their', 'become', 'or', 'being', 'can', 'beforehand', '’s', 'are', 'behind', 'might', 'will', 'anything', 'something', 'its', 'sometimes', 'which', 'whose', 'neither', '’re', 'been', 'always', 'just', 'back', 'those', \"n't\", 'seem', 'anyway', 'whatever', 'he', \"'ve\", 'regarding', 'whither', 'anywhere', 'empty', '‘ll', 'enough', 'hereby', 'show', '‘ve', 'must', 'therefore', 'part', 'becoming', 'otherwise', 'already', 'ever', 'same', 'by', 'so', 'within', 'twenty', 'side', 'from', 'hereafter', 'together', 'across', 'anyhow', 'onto', 'them', 'without', 'what', 'every', 'our', 'latterly', 'as', 'were', 'please', 'doing', 'besides', 'about', 'then', 'nor', 'around', 'these', 'namely', 'most', 'indeed', 'above', 'of', 'himself', 'everyone', 'next', 're', 'several', 'serious', \"'ll\", 'is', 'there', 'him', 'this', 'thereupon', 'had', 'would', \"'s\", 'may', 'nowhere', 'four', 'very', 'because', 'fifty', 'your', 'a', 'somehow', 'thus', 'nobody', 'ca', '’ll', 'itself', 'who', 'along', 'everywhere', 'well', 'n‘t', 'elsewhere', 'whereas', 'whole', 'should', 'they', 'an', 'go', 'it', 'among', 'while', 'less', 'than', 'my', 'does', 'made', 'cannot', 'me', 'some', 'move', 'done', 'with', 'do', 'towards', 'became', 'quite', 'meanwhile', 'forty', 'somewhere', 'formerly', 'name', 'we', 'again', 'off', 'else', 'further', 'seeming', 'nine', 'make', 'eight', 'has', 'due', 'hence', 'herself', 'upon', 'down', 'between', 'everything', 'much', 'was', 'ten', 'say', 'thence', 'beyond', 'mine', 'ours', '‘s', 'thereby', 'through', 'her', 'full', 'such', 'n’t', 'ourselves', '‘d', 'call', 'hers', 'whereafter', 'wherever', 'throughout', 'in', 'least', 'someone', 'per', 'amount', 'nothing', 'latter', 'did', 'bottom', 'how', 'own', 'she', 'give', 'twelve', 'sixty', 'no', 'moreover', 'keep', 'am', 'really', 'see', 'although', 'used', 'whether', 'too', 'take', 'eleven', 'never', 'many', 'fifteen', 'each', 'on', 'whenever', 'yet', 'over', 'for', 'except', 'former', 'either', 'hundred', 'when', '’d', 'rather', 'nevertheless', '’m', 'herein', 'during', 'using', 'third', 'under', 'once', 'perhaps', 'and', 'up', 'thereafter', 'alone', 'put', 'since', 'could', 'get', 'after', 'various', 'why', 'where', 'all', 'the', '’ve', 'whom', 'to', 'if', 'anyone', 'yourself', 'whereby', 'others', 'therein', 'sometime', 'via', 'almost', 'themselves', 'but', 'mostly', 'last', '‘m', 'even', 'his', 'both', 'however', 'more', 'whoever', 'five', 'be', 'top', 'wherein', 'that', 'six', 'us', 'any', 'becomes', \"'d\", 'at', 'not', 'few', 'against', 'amongst', 'until', 'two', 'afterwards', 'thru', 'noone'}\n",
            "Number of stopwords in English: 326\n"
          ]
        }
      ]
    },
    {
      "cell_type": "markdown",
      "source": [],
      "metadata": {
        "id": "Da4jIA3ujSC9"
      }
    },
    {
      "cell_type": "markdown",
      "source": [
        "#####Here we create our classifier and our pipeline who will be use to train our model and see how our model is near of the true label"
      ],
      "metadata": {
        "id": "L4bKiXvhnpr_"
      }
    },
    {
      "cell_type": "code",
      "source": [
        "tfidf = TfidfVectorizer(sublinear_tf=True, min_df=5, norm='l2', encoding='UTF-8', ngram_range=(1, 2), tokenizer=spacy_tokenizer)\n",
        "\n",
        "# Define classifier\n",
        "classifier = LogisticRegression(solver='lbfgs', max_iter=1000)\n",
        "\n",
        "# Create pipeline\n",
        "pipe = Pipeline([('vectorizer', tfidf),\n",
        "                 ('classifier', classifier)])\n",
        "\n",
        "# Fit model on training set\n",
        "pipe.fit(X_train, y_train)"
      ],
      "metadata": {
        "colab": {
          "base_uri": "https://localhost:8080/",
          "height": 160
        },
        "id": "RIcg5LRoRAln",
        "outputId": "b42a7121-5265-47c9-e0a8-506e634992e7"
      },
      "execution_count": 16,
      "outputs": [
        {
          "output_type": "stream",
          "name": "stderr",
          "text": [
            "/usr/local/lib/python3.10/dist-packages/sklearn/feature_extraction/text.py:528: UserWarning: The parameter 'token_pattern' will not be used since 'tokenizer' is not None'\n",
            "  warnings.warn(\n"
          ]
        },
        {
          "output_type": "execute_result",
          "data": {
            "text/plain": [
              "Pipeline(steps=[('vectorizer',\n",
              "                 TfidfVectorizer(encoding='UTF-8', min_df=5, ngram_range=(1, 2),\n",
              "                                 sublinear_tf=True,\n",
              "                                 tokenizer=<function spacy_tokenizer at 0x7bbc87a3d510>)),\n",
              "                ('classifier', LogisticRegression(max_iter=1000))])"
            ],
            "text/html": [
              "<style>#sk-container-id-1 {color: black;background-color: white;}#sk-container-id-1 pre{padding: 0;}#sk-container-id-1 div.sk-toggleable {background-color: white;}#sk-container-id-1 label.sk-toggleable__label {cursor: pointer;display: block;width: 100%;margin-bottom: 0;padding: 0.3em;box-sizing: border-box;text-align: center;}#sk-container-id-1 label.sk-toggleable__label-arrow:before {content: \"▸\";float: left;margin-right: 0.25em;color: #696969;}#sk-container-id-1 label.sk-toggleable__label-arrow:hover:before {color: black;}#sk-container-id-1 div.sk-estimator:hover label.sk-toggleable__label-arrow:before {color: black;}#sk-container-id-1 div.sk-toggleable__content {max-height: 0;max-width: 0;overflow: hidden;text-align: left;background-color: #f0f8ff;}#sk-container-id-1 div.sk-toggleable__content pre {margin: 0.2em;color: black;border-radius: 0.25em;background-color: #f0f8ff;}#sk-container-id-1 input.sk-toggleable__control:checked~div.sk-toggleable__content {max-height: 200px;max-width: 100%;overflow: auto;}#sk-container-id-1 input.sk-toggleable__control:checked~label.sk-toggleable__label-arrow:before {content: \"▾\";}#sk-container-id-1 div.sk-estimator input.sk-toggleable__control:checked~label.sk-toggleable__label {background-color: #d4ebff;}#sk-container-id-1 div.sk-label input.sk-toggleable__control:checked~label.sk-toggleable__label {background-color: #d4ebff;}#sk-container-id-1 input.sk-hidden--visually {border: 0;clip: rect(1px 1px 1px 1px);clip: rect(1px, 1px, 1px, 1px);height: 1px;margin: -1px;overflow: hidden;padding: 0;position: absolute;width: 1px;}#sk-container-id-1 div.sk-estimator {font-family: monospace;background-color: #f0f8ff;border: 1px dotted black;border-radius: 0.25em;box-sizing: border-box;margin-bottom: 0.5em;}#sk-container-id-1 div.sk-estimator:hover {background-color: #d4ebff;}#sk-container-id-1 div.sk-parallel-item::after {content: \"\";width: 100%;border-bottom: 1px solid gray;flex-grow: 1;}#sk-container-id-1 div.sk-label:hover label.sk-toggleable__label {background-color: #d4ebff;}#sk-container-id-1 div.sk-serial::before {content: \"\";position: absolute;border-left: 1px solid gray;box-sizing: border-box;top: 0;bottom: 0;left: 50%;z-index: 0;}#sk-container-id-1 div.sk-serial {display: flex;flex-direction: column;align-items: center;background-color: white;padding-right: 0.2em;padding-left: 0.2em;position: relative;}#sk-container-id-1 div.sk-item {position: relative;z-index: 1;}#sk-container-id-1 div.sk-parallel {display: flex;align-items: stretch;justify-content: center;background-color: white;position: relative;}#sk-container-id-1 div.sk-item::before, #sk-container-id-1 div.sk-parallel-item::before {content: \"\";position: absolute;border-left: 1px solid gray;box-sizing: border-box;top: 0;bottom: 0;left: 50%;z-index: -1;}#sk-container-id-1 div.sk-parallel-item {display: flex;flex-direction: column;z-index: 1;position: relative;background-color: white;}#sk-container-id-1 div.sk-parallel-item:first-child::after {align-self: flex-end;width: 50%;}#sk-container-id-1 div.sk-parallel-item:last-child::after {align-self: flex-start;width: 50%;}#sk-container-id-1 div.sk-parallel-item:only-child::after {width: 0;}#sk-container-id-1 div.sk-dashed-wrapped {border: 1px dashed gray;margin: 0 0.4em 0.5em 0.4em;box-sizing: border-box;padding-bottom: 0.4em;background-color: white;}#sk-container-id-1 div.sk-label label {font-family: monospace;font-weight: bold;display: inline-block;line-height: 1.2em;}#sk-container-id-1 div.sk-label-container {text-align: center;}#sk-container-id-1 div.sk-container {/* jupyter's `normalize.less` sets `[hidden] { display: none; }` but bootstrap.min.css set `[hidden] { display: none !important; }` so we also need the `!important` here to be able to override the default hidden behavior on the sphinx rendered scikit-learn.org. See: https://github.com/scikit-learn/scikit-learn/issues/21755 */display: inline-block !important;position: relative;}#sk-container-id-1 div.sk-text-repr-fallback {display: none;}</style><div id=\"sk-container-id-1\" class=\"sk-top-container\"><div class=\"sk-text-repr-fallback\"><pre>Pipeline(steps=[(&#x27;vectorizer&#x27;,\n",
              "                 TfidfVectorizer(encoding=&#x27;UTF-8&#x27;, min_df=5, ngram_range=(1, 2),\n",
              "                                 sublinear_tf=True,\n",
              "                                 tokenizer=&lt;function spacy_tokenizer at 0x7bbc87a3d510&gt;)),\n",
              "                (&#x27;classifier&#x27;, LogisticRegression(max_iter=1000))])</pre><b>In a Jupyter environment, please rerun this cell to show the HTML representation or trust the notebook. <br />On GitHub, the HTML representation is unable to render, please try loading this page with nbviewer.org.</b></div><div class=\"sk-container\" hidden><div class=\"sk-item sk-dashed-wrapped\"><div class=\"sk-label-container\"><div class=\"sk-label sk-toggleable\"><input class=\"sk-toggleable__control sk-hidden--visually\" id=\"sk-estimator-id-1\" type=\"checkbox\" ><label for=\"sk-estimator-id-1\" class=\"sk-toggleable__label sk-toggleable__label-arrow\">Pipeline</label><div class=\"sk-toggleable__content\"><pre>Pipeline(steps=[(&#x27;vectorizer&#x27;,\n",
              "                 TfidfVectorizer(encoding=&#x27;UTF-8&#x27;, min_df=5, ngram_range=(1, 2),\n",
              "                                 sublinear_tf=True,\n",
              "                                 tokenizer=&lt;function spacy_tokenizer at 0x7bbc87a3d510&gt;)),\n",
              "                (&#x27;classifier&#x27;, LogisticRegression(max_iter=1000))])</pre></div></div></div><div class=\"sk-serial\"><div class=\"sk-item\"><div class=\"sk-estimator sk-toggleable\"><input class=\"sk-toggleable__control sk-hidden--visually\" id=\"sk-estimator-id-2\" type=\"checkbox\" ><label for=\"sk-estimator-id-2\" class=\"sk-toggleable__label sk-toggleable__label-arrow\">TfidfVectorizer</label><div class=\"sk-toggleable__content\"><pre>TfidfVectorizer(encoding=&#x27;UTF-8&#x27;, min_df=5, ngram_range=(1, 2),\n",
              "                sublinear_tf=True,\n",
              "                tokenizer=&lt;function spacy_tokenizer at 0x7bbc87a3d510&gt;)</pre></div></div></div><div class=\"sk-item\"><div class=\"sk-estimator sk-toggleable\"><input class=\"sk-toggleable__control sk-hidden--visually\" id=\"sk-estimator-id-3\" type=\"checkbox\" ><label for=\"sk-estimator-id-3\" class=\"sk-toggleable__label sk-toggleable__label-arrow\">LogisticRegression</label><div class=\"sk-toggleable__content\"><pre>LogisticRegression(max_iter=1000)</pre></div></div></div></div></div></div></div>"
            ]
          },
          "metadata": {},
          "execution_count": 16
        }
      ]
    },
    {
      "cell_type": "markdown",
      "source": [
        "#####We predict the sentences of our true label to see how far we are from the true difficulty level label"
      ],
      "metadata": {
        "id": "RrXFDSXmp8kC"
      }
    },
    {
      "cell_type": "code",
      "source": [
        "y_pred = pipe.predict(X_test)"
      ],
      "metadata": {
        "id": "E-Fn9Q0pTIlO"
      },
      "execution_count": 17,
      "outputs": []
    },
    {
      "cell_type": "code",
      "source": [
        "y_pred"
      ],
      "metadata": {
        "colab": {
          "base_uri": "https://localhost:8080/"
        },
        "id": "ss5dFzm_Tg8u",
        "outputId": "c195df24-357a-4b91-9051-63bd69b418e7"
      },
      "execution_count": 18,
      "outputs": [
        {
          "output_type": "execute_result",
          "data": {
            "text/plain": [
              "array(['A1', 'C1', 'C2', 'B2', 'B1', 'C1', 'A1', 'A2', 'A2', 'B2', 'A1',\n",
              "       'A2', 'B2', 'B2', 'C2', 'C2', 'B1', 'C2', 'A1', 'A1', 'B1', 'C1',\n",
              "       'A2', 'C1', 'A1', 'B1', 'A2', 'A2', 'C2', 'A1', 'B2', 'B2', 'B1',\n",
              "       'B1', 'A2', 'B2', 'A2', 'B2', 'C1', 'A2', 'C2', 'C2', 'C2', 'A2',\n",
              "       'C2', 'B1', 'A1', 'B2', 'B2', 'C1', 'C1', 'A2', 'C2', 'A1', 'C1',\n",
              "       'A2', 'B2', 'C2', 'A2', 'B1', 'C1', 'C2', 'A1', 'C2', 'C1', 'C1',\n",
              "       'A1', 'A2', 'C1', 'B1', 'C2', 'B2', 'A2', 'B2', 'A2', 'C2', 'A1',\n",
              "       'A1', 'A1', 'A1', 'A2', 'B2', 'C1', 'C2', 'C1', 'A1', 'A2', 'C2',\n",
              "       'A1', 'A1', 'C2', 'C2', 'C1', 'A1', 'B1', 'B1', 'A2', 'A2', 'B1',\n",
              "       'B2', 'C2', 'C2', 'C2', 'A1', 'A2', 'A1', 'B1', 'C1', 'B1', 'C2',\n",
              "       'C1', 'A2', 'A2', 'A1', 'C1', 'A2', 'C1', 'B2', 'B1', 'A1', 'A1',\n",
              "       'A1', 'B1', 'C2', 'B2', 'A2', 'C1', 'B2', 'A1', 'B1', 'C1', 'C1',\n",
              "       'A1', 'A1', 'A1', 'C2', 'C1', 'A2', 'A1', 'C2', 'A2', 'B2', 'B1',\n",
              "       'B2', 'A1', 'A2', 'C2', 'A2', 'A2', 'C1', 'B1', 'C2', 'B2', 'C2',\n",
              "       'C2', 'C1', 'C1', 'B1', 'B2', 'C2', 'A2', 'C2', 'A1', 'C1', 'C2',\n",
              "       'A2', 'A1', 'A2', 'C2', 'B1', 'C2', 'C2', 'C1', 'A2', 'C1', 'A2',\n",
              "       'B1', 'C2', 'B1', 'C1', 'C1', 'A1', 'C1', 'C2', 'C1', 'B2', 'A1',\n",
              "       'C1', 'A1', 'C1', 'A1', 'C2', 'C1', 'C2', 'A2', 'A1', 'B1', 'B1',\n",
              "       'B2', 'A2', 'A2', 'B1', 'A2', 'A2', 'A1', 'C1', 'A2', 'A1', 'B2',\n",
              "       'A1', 'C2', 'A2', 'C1', 'B2', 'A1', 'A1', 'C2', 'B1', 'B1', 'A2',\n",
              "       'A1', 'B1', 'B2', 'A1', 'A1', 'A1', 'C1', 'C1', 'C2', 'C2', 'C1',\n",
              "       'A1', 'C2', 'B2', 'C2', 'C2', 'C1', 'B2', 'A1', 'C2', 'B2', 'A1',\n",
              "       'C2', 'B1', 'A1', 'C2', 'B1', 'C2', 'C2', 'C2', 'B1', 'C1', 'A1',\n",
              "       'A1', 'B1', 'B1', 'B2', 'C2', 'C2', 'B2', 'B1', 'C2', 'A1', 'A2',\n",
              "       'A2', 'C1', 'A1', 'B1', 'A1', 'A1', 'C2', 'A1', 'C2', 'A2', 'A1',\n",
              "       'B2', 'C2', 'C1', 'A1', 'C2', 'C2', 'A1', 'C1', 'A2', 'A1', 'C1',\n",
              "       'B1', 'B1', 'A2', 'C1', 'A2', 'B2', 'C2', 'B2', 'B1', 'A1', 'C1',\n",
              "       'A2', 'C1', 'B2', 'A1', 'A1', 'A2', 'B2', 'C2', 'C1', 'A2', 'C2',\n",
              "       'B1', 'A2', 'A2', 'C1', 'B1', 'A2', 'B1', 'B2', 'A1', 'A1', 'B2',\n",
              "       'C2', 'B2', 'A2', 'A2', 'B1', 'C1', 'B1', 'C2', 'C2', 'A1', 'A2',\n",
              "       'C2', 'B1', 'A2', 'C2', 'B2', 'A1', 'C1', 'A1', 'A2', 'C1', 'C1',\n",
              "       'A1', 'B2', 'C2', 'A2', 'C1', 'A2', 'C1', 'B1', 'C1', 'A2', 'C2',\n",
              "       'A1', 'C2', 'B2', 'A1', 'A1', 'A1', 'A2', 'B2', 'B2', 'B2', 'C2',\n",
              "       'B1', 'A2', 'A2', 'B1', 'C2', 'A1', 'A2', 'A1', 'A2', 'A2', 'B2',\n",
              "       'A1', 'C2', 'B2', 'C2', 'B2', 'C2', 'C2', 'B2', 'A2', 'A1', 'A2',\n",
              "       'A1', 'B1', 'C2', 'C2', 'B2', 'C2', 'C1', 'A1', 'C1', 'A1', 'A2',\n",
              "       'C1', 'B1', 'B2', 'A2', 'B1', 'B2', 'C2', 'B2', 'A2', 'B1', 'B1',\n",
              "       'C2', 'A2', 'C2', 'C1', 'C2', 'A2', 'C2', 'B2', 'C1', 'C1', 'C1',\n",
              "       'A2', 'B2', 'C2', 'C1', 'A2', 'C2', 'C2', 'B2', 'C2', 'A1', 'A2',\n",
              "       'B1', 'C2', 'A1', 'C1', 'C1', 'C2', 'A1', 'A2', 'C1', 'C1', 'B1',\n",
              "       'A1', 'A1', 'A2', 'A2', 'B2', 'B2', 'A2', 'C1', 'A1', 'B2', 'B1',\n",
              "       'A2', 'A2', 'A1', 'A2', 'A2', 'C1', 'A2', 'A2', 'A1', 'A1', 'A1',\n",
              "       'C1', 'A1', 'A1', 'A1', 'A2', 'A1', 'C2', 'C1', 'A2', 'C1', 'C2',\n",
              "       'A1', 'C1', 'C2', 'C1', 'C1', 'B2', 'B1', 'A1', 'B2', 'B1', 'C1',\n",
              "       'A1', 'C2', 'A1', 'B2', 'A2', 'A2', 'A2', 'C2', 'C1', 'C2', 'A2',\n",
              "       'C1', 'A2', 'B1', 'A2', 'A1', 'A2', 'C1', 'C1', 'B1', 'A1', 'B2',\n",
              "       'A2', 'A1', 'C1', 'C1', 'C2', 'B1', 'B1', 'B2', 'B2', 'A1', 'C2',\n",
              "       'B1', 'A2', 'C2', 'C1', 'A1', 'B2', 'C2', 'B2', 'C1', 'C2', 'A1',\n",
              "       'C2', 'B1', 'C2', 'B2', 'B1', 'C1', 'A1', 'C1', 'A1', 'B2', 'A2',\n",
              "       'C2', 'A2', 'A2', 'B1', 'B1', 'A2', 'C1', 'B2', 'A2', 'B2', 'B1',\n",
              "       'A1', 'A1', 'C2', 'B2', 'A1', 'A1', 'A1', 'B1', 'A2', 'B1', 'C1',\n",
              "       'C1', 'B2', 'A2', 'A1', 'C1', 'A2', 'C1', 'B1', 'B2', 'C1', 'C2',\n",
              "       'A1', 'A1', 'C1', 'C1', 'B2', 'B2', 'A1', 'B2', 'C2', 'C1', 'C2',\n",
              "       'A2', 'A2', 'C2', 'C2', 'B2', 'A1', 'B1', 'B1', 'C1', 'B1', 'A2',\n",
              "       'C1', 'A1', 'A1', 'C2', 'C2', 'C2', 'A2', 'B2', 'B1', 'C1', 'C1',\n",
              "       'C1', 'C2', 'A1', 'C1', 'C2', 'A1', 'C1', 'C2', 'A2', 'A2', 'B1',\n",
              "       'A2', 'A1', 'A1', 'A1', 'C2', 'A1', 'B2', 'C1', 'C2', 'A2', 'C2',\n",
              "       'C2', 'C1', 'C2', 'A1', 'B1', 'C2', 'C1', 'C2', 'A1', 'C1', 'C1',\n",
              "       'C2', 'B2', 'A2', 'C1', 'B1', 'A2', 'B1', 'B1', 'A2', 'C1', 'A1',\n",
              "       'A2', 'B2', 'C2', 'C1', 'C2', 'B2', 'A2', 'C1', 'A1', 'C2', 'A2',\n",
              "       'A2', 'A1', 'B1', 'C1', 'B1', 'B2', 'B2', 'C1', 'A1', 'B1', 'C1',\n",
              "       'A1', 'C1', 'B2', 'B1', 'B1', 'A1', 'A1', 'B1', 'C2', 'C1', 'A1',\n",
              "       'C1', 'A1', 'C1', 'B2', 'A2', 'A1', 'B1', 'A1', 'C2', 'B1', 'B1',\n",
              "       'A2', 'B2', 'C1', 'B1', 'B2', 'C2', 'A1', 'B1', 'B1', 'C1', 'C1',\n",
              "       'C2', 'A2', 'A1', 'B2', 'A1', 'B1', 'A1', 'B1', 'B2', 'B1', 'C1',\n",
              "       'B2', 'C2', 'C1', 'B2', 'B2', 'B2', 'A2', 'C2', 'A2', 'C1', 'B2',\n",
              "       'C2', 'A2', 'B1', 'B1', 'A1', 'C1', 'A2', 'C2', 'B2', 'A2', 'C1',\n",
              "       'A1', 'C1', 'A2', 'A1', 'B2', 'C1', 'A1', 'C1', 'A2', 'C1', 'A1',\n",
              "       'A1', 'B1', 'A2', 'A1', 'C1', 'A1', 'A1', 'C2', 'C1', 'B2', 'A1',\n",
              "       'B2', 'A1', 'B2', 'C2', 'B1', 'B1', 'A1', 'B2', 'B2', 'B2', 'A1',\n",
              "       'B2', 'A1', 'C2', 'C1', 'B1', 'C2', 'A1', 'B1', 'A1', 'C2', 'A2',\n",
              "       'C2', 'C1', 'A2', 'B1', 'A1', 'C2', 'C1', 'B2', 'B1', 'A1', 'C1',\n",
              "       'C2', 'A2', 'B2', 'B1', 'B2', 'A2', 'C1', 'A1', 'C1', 'A1', 'A2',\n",
              "       'B2', 'B1', 'B2', 'A2', 'A1', 'A1', 'C1', 'C2', 'A2', 'B2', 'C2',\n",
              "       'C1', 'C1', 'A1', 'C2', 'A1', 'C1', 'A1', 'B2', 'B2', 'C2', 'B1',\n",
              "       'B1', 'A2', 'C2', 'C1', 'A2', 'A1', 'A2', 'A2', 'B1', 'B2', 'B1',\n",
              "       'C2', 'A1', 'B1', 'A1', 'B2', 'C2', 'B1', 'B1', 'B1', 'C2', 'A2',\n",
              "       'A2', 'B2', 'A2', 'A2', 'B2', 'C1', 'C2', 'A1', 'C2', 'B2', 'A1',\n",
              "       'B2', 'C2', 'A2', 'A1', 'B2', 'C1', 'B1', 'C1', 'B2', 'A2', 'A1',\n",
              "       'A2', 'B2', 'A2', 'B2', 'B1', 'B2', 'B1', 'C1', 'B1', 'A1', 'B2',\n",
              "       'A2', 'B1', 'A2', 'A2', 'A2', 'C1', 'C1', 'A2', 'A2', 'A1', 'B1',\n",
              "       'B2', 'B1', 'B1', 'B2', 'A1', 'C1', 'C1', 'C1', 'C1', 'B1', 'C2',\n",
              "       'A2', 'A1', 'A1', 'C1', 'C1', 'C2', 'C2', 'C1', 'A1', 'C2', 'A1',\n",
              "       'A1', 'C2', 'A1', 'A2', 'C2', 'A1', 'C2', 'B1', 'A2', 'B1', 'A1',\n",
              "       'C2', 'B1', 'A1', 'B1', 'A1', 'B2', 'C1', 'C2', 'C1', 'A1', 'A1',\n",
              "       'A1', 'A1', 'B2', 'A2', 'A1', 'A1', 'C1', 'C2', 'C1', 'B2', 'A2',\n",
              "       'C1', 'B2', 'A1', 'A1', 'C1', 'A2', 'C1', 'A1', 'B1', 'A2', 'C2',\n",
              "       'B2', 'C2', 'C1'], dtype=object)"
            ]
          },
          "metadata": {},
          "execution_count": 18
        }
      ]
    },
    {
      "cell_type": "markdown",
      "source": [
        "######Then we calculate different metrics to some figures to see how good is our model. And we can see a big improvment by not removing the french stop words."
      ],
      "metadata": {
        "id": "Nr_H3DRQqaWt"
      }
    },
    {
      "cell_type": "code",
      "source": [
        "accuracy_tfidf = round(accuracy_score(y_test, y_pred), 4)\n",
        "precision_tfidf = round(precision_score(y_test, y_pred, average='macro'),4)\n",
        "recall_tfidf = round(recall_score(y_test, y_pred, average='macro'),4)\n",
        "f1_tfidf = round(f1_score(y_test, y_pred, average='macro'),4)\n",
        "print(f'The accuracy using TF-IDF is: {accuracy_tfidf}')\n",
        "print(f'The precision using TF-IDF is: {precision_tfidf}')\n",
        "print(f'The recall using TF-IDF is: {recall_tfidf}')\n",
        "print(f'The f1 score using TF-IDF is: {f1_tfidf}')"
      ],
      "metadata": {
        "colab": {
          "base_uri": "https://localhost:8080/"
        },
        "id": "L4XAso33TlAc",
        "outputId": "a52f37ed-b769-4f2b-f618-b2098f6a7004"
      },
      "execution_count": 19,
      "outputs": [
        {
          "output_type": "stream",
          "name": "stdout",
          "text": [
            "The accuracy using TF-IDF is: 0.4719\n",
            "The precision using TF-IDF is: 0.4666\n",
            "The recall using TF-IDF is: 0.4712\n",
            "The f1 score using TF-IDF is: 0.4666\n"
          ]
        }
      ]
    },
    {
      "cell_type": "markdown",
      "source": [
        "#####And now we will see the confusion matrix of our model"
      ],
      "metadata": {
        "id": "oYPSQPZ-rV7M"
      }
    },
    {
      "cell_type": "code",
      "source": [
        "conf_matrix = confusion_matrix(y_test, y_pred)\n",
        "difficulty_labels=[\"A1\",\"A2\",\"B1\",\"B2\",\"C1\",\"C2\"]\n",
        "sns.heatmap(conf_matrix, annot=True, fmt='g',xticklabels=difficulty_labels,yticklabels=difficulty_labels,cmap=\"Greens\")\n",
        "plt.xlabel('Predicted difficulty levels')\n",
        "plt.ylabel('True difficulty levels')\n",
        "plt.title('Confusion matrix')\n",
        "plt.show()"
      ],
      "metadata": {
        "colab": {
          "base_uri": "https://localhost:8080/",
          "height": 472
        },
        "id": "nvtTwGXlshQu",
        "outputId": "0edc62c8-5ed4-4d09-8947-bf9ba59089e9"
      },
      "execution_count": 20,
      "outputs": [
        {
          "output_type": "display_data",
          "data": {
            "text/plain": [
              "<Figure size 640x480 with 2 Axes>"
            ],
            "image/png": "[encoded data removed]"
          },
          "metadata": {}
        }
      ]
    },
    {
      "cell_type": "markdown",
      "source": [
        "##Prediction"
      ],
      "metadata": {
        "id": "1hl-GaHurkmh"
      }
    },
    {
      "cell_type": "code",
      "execution_count": 21,
      "metadata": {
        "colab": {
          "base_uri": "https://localhost:8080/",
          "height": 455
        },
        "id": "7G75Q1gRj49l",
        "outputId": "7163e808-6ba2-40c7-f699-41062a307287"
      },
      "outputs": [
        {
          "output_type": "execute_result",
          "data": {
            "text/plain": [
              "                                               sentence\n",
              "id                                                     \n",
              "0     Nous dûmes nous excuser des propos que nous eû...\n",
              "1     Vous ne pouvez pas savoir le plaisir que j'ai ...\n",
              "2     Et, paradoxalement, boire froid n'est pas la b...\n",
              "3     Ce n'est pas étonnant, car c'est une saison my...\n",
              "4     Le corps de Golo lui-même, d'une essence aussi...\n",
              "...                                                 ...\n",
              "1195  C'est un phénomène qui trouve une accélération...\n",
              "1196  Je vais parler au serveur et voir si on peut d...\n",
              "1197  Il n'était pas comme tant de gens qui par pare...\n",
              "1198      Ils deviennent dangereux pour notre économie.\n",
              "1199  Son succès a généré beaucoup de réactions néga...\n",
              "\n",
              "[1200 rows x 1 columns]"
            ],
            "text/html": [
              "\n",
              "  <div id=\"df-37de624d-137a-4ea0-9e11-3aa09966b1ad\" class=\"colab-df-container\">\n",
              "    <div>\n",
              "<style scoped>\n",
              "    .dataframe tbody tr th:only-of-type {\n",
              "        vertical-align: middle;\n",
              "    }\n",
              "\n",
              "    .dataframe tbody tr th {\n",
              "        vertical-align: top;\n",
              "    }\n",
              "\n",
              "    .dataframe thead th {\n",
              "        text-align: right;\n",
              "    }\n",
              "</style>\n",
              "<table border=\"1\" class=\"dataframe\">\n",
              "  <thead>\n",
              "    <tr style=\"text-align: right;\">\n",
              "      <th></th>\n",
              "      <th>sentence</th>\n",
              "    </tr>\n",
              "    <tr>\n",
              "      <th>id</th>\n",
              "      <th></th>\n",
              "    </tr>\n",
              "  </thead>\n",
              "  <tbody>\n",
              "    <tr>\n",
              "      <th>0</th>\n",
              "      <td>Nous dûmes nous excuser des propos que nous eû...</td>\n",
              "    </tr>\n",
              "    <tr>\n",
              "      <th>1</th>\n",
              "      <td>Vous ne pouvez pas savoir le plaisir que j'ai ...</td>\n",
              "    </tr>\n",
              "    <tr>\n",
              "      <th>2</th>\n",
              "      <td>Et, paradoxalement, boire froid n'est pas la b...</td>\n",
              "    </tr>\n",
              "    <tr>\n",
              "      <th>3</th>\n",
              "      <td>Ce n'est pas étonnant, car c'est une saison my...</td>\n",
              "    </tr>\n",
              "    <tr>\n",
              "      <th>4</th>\n",
              "      <td>Le corps de Golo lui-même, d'une essence aussi...</td>\n",
              "    </tr>\n",
              "    <tr>\n",
              "      <th>...</th>\n",
              "      <td>...</td>\n",
              "    </tr>\n",
              "    <tr>\n",
              "      <th>1195</th>\n",
              "      <td>C'est un phénomène qui trouve une accélération...</td>\n",
              "    </tr>\n",
              "    <tr>\n",
              "      <th>1196</th>\n",
              "      <td>Je vais parler au serveur et voir si on peut d...</td>\n",
              "    </tr>\n",
              "    <tr>\n",
              "      <th>1197</th>\n",
              "      <td>Il n'était pas comme tant de gens qui par pare...</td>\n",
              "    </tr>\n",
              "    <tr>\n",
              "      <th>1198</th>\n",
              "      <td>Ils deviennent dangereux pour notre économie.</td>\n",
              "    </tr>\n",
              "    <tr>\n",
              "      <th>1199</th>\n",
              "      <td>Son succès a généré beaucoup de réactions néga...</td>\n",
              "    </tr>\n",
              "  </tbody>\n",
              "</table>\n",
              "<p>1200 rows × 1 columns</p>\n",
              "</div>\n",
              "    <div class=\"colab-df-buttons\">\n",
              "\n",
              "  <div class=\"colab-df-container\">\n",
              "    <button class=\"colab-df-convert\" onclick=\"convertToInteractive('df-37de624d-137a-4ea0-9e11-3aa09966b1ad')\"\n",
              "            title=\"Convert this dataframe to an interactive table.\"\n",
              "            style=\"display:none;\">\n",
              "\n",
              "  <svg xmlns=\"http://www.w3.org/2000/svg\" height=\"24px\" viewBox=\"0 -960 960 960\">\n",
              "    <path d=\"M120-120v-720h720v720H120Zm60-500h600v-160H180v160Zm220 220h160v-160H400v160Zm0 220h160v-160H400v160ZM180-400h160v-160H180v160Zm440 0h160v-160H620v160ZM180-180h160v-160H180v160Zm440 0h160v-160H620v160Z\"/>\n",
              "  </svg>\n",
              "    </button>\n",
              "\n",
              "  <style>\n",
              "    .colab-df-container {\n",
              "      display:flex;\n",
              "      gap: 12px;\n",
              "    }\n",
              "\n",
              "    .colab-df-convert {\n",
              "      background-color: #E8F0FE;\n",
              "      border: none;\n",
              "      border-radius: 50%;\n",
              "      cursor: pointer;\n",
              "      display: none;\n",
              "      fill: #1967D2;\n",
              "      height: 32px;\n",
              "      padding: 0 0 0 0;\n",
              "      width: 32px;\n",
              "    }\n",
              "\n",
              "    .colab-df-convert:hover {\n",
              "      background-color: #E2EBFA;\n",
              "      box-shadow: 0px 1px 2px rgba(60, 64, 67, 0.3), 0px 1px 3px 1px rgba(60, 64, 67, 0.15);\n",
              "      fill: #174EA6;\n",
              "    }\n",
              "\n",
              "    .colab-df-buttons div {\n",
              "      margin-bottom: 4px;\n",
              "    }\n",
              "\n",
              "    [theme=dark] .colab-df-convert {\n",
              "      background-color: #3B4455;\n",
              "      fill: #D2E3FC;\n",
              "    }\n",
              "\n",
              "    [theme=dark] .colab-df-convert:hover {\n",
              "      background-color: #434B5C;\n",
              "      box-shadow: 0px 1px 3px 1px rgba(0, 0, 0, 0.15);\n",
              "      filter: drop-shadow(0px 1px 2px rgba(0, 0, 0, 0.3));\n",
              "      fill: #FFFFFF;\n",
              "    }\n",
              "  </style>\n",
              "\n",
              "    <script>\n",
              "      const buttonEl =\n",
              "        document.querySelector('#df-37de624d-137a-4ea0-9e11-3aa09966b1ad button.colab-df-convert');\n",
              "      buttonEl.style.display =\n",
              "        google.colab.kernel.accessAllowed ? 'block' : 'none';\n",
              "\n",
              "      async function convertToInteractive(key) {\n",
              "        const element = document.querySelector('#df-37de624d-137a-4ea0-9e11-3aa09966b1ad');\n",
              "        const dataTable =\n",
              "          await google.colab.kernel.invokeFunction('convertToInteractive',\n",
              "                                                    [key], {});\n",
              "        if (!dataTable) return;\n",
              "\n",
              "        const docLinkHtml = 'Like what you see? Visit the ' +\n",
              "          '<a target=\"_blank\" href=https://colab.research.google.com/notebooks/data_table.ipynb>data table notebook</a>'\n",
              "          + ' to learn more about interactive tables.';\n",
              "        element.innerHTML = '';\n",
              "        dataTable['output_type'] = 'display_data';\n",
              "        await google.colab.output.renderOutput(dataTable, element);\n",
              "        const docLink = document.createElement('div');\n",
              "        docLink.innerHTML = docLinkHtml;\n",
              "        element.appendChild(docLink);\n",
              "      }\n",
              "    </script>\n",
              "  </div>\n",
              "\n",
              "\n",
              "<div id=\"df-c49cdb2e-1573-48ea-99af-a9680f1e5fa7\">\n",
              "  <button class=\"colab-df-quickchart\" onclick=\"quickchart('df-c49cdb2e-1573-48ea-99af-a9680f1e5fa7')\"\n",
              "            title=\"Suggest charts\"\n",
              "            style=\"display:none;\">\n",
              "\n",
              "<svg xmlns=\"http://www.w3.org/2000/svg\" height=\"24px\"viewBox=\"0 0 24 24\"\n",
              "     width=\"24px\">\n",
              "    <g>\n",
              "        <path d=\"M19 3H5c-1.1 0-2 .9-2 2v14c0 1.1.9 2 2 2h14c1.1 0 2-.9 2-2V5c0-1.1-.9-2-2-2zM9 17H7v-7h2v7zm4 0h-2V7h2v10zm4 0h-2v-4h2v4z\"/>\n",
              "    </g>\n",
              "</svg>\n",
              "  </button>\n",
              "\n",
              "<style>\n",
              "  .colab-df-quickchart {\n",
              "      --bg-color: #E8F0FE;\n",
              "      --fill-color: #1967D2;\n",
              "      --hover-bg-color: #E2EBFA;\n",
              "      --hover-fill-color: #174EA6;\n",
              "      --disabled-fill-color: #AAA;\n",
              "      --disabled-bg-color: #DDD;\n",
              "  }\n",
              "\n",
              "  [theme=dark] .colab-df-quickchart {\n",
              "      --bg-color: #3B4455;\n",
              "      --fill-color: #D2E3FC;\n",
              "      --hover-bg-color: #434B5C;\n",
              "      --hover-fill-color: #FFFFFF;\n",
              "      --disabled-bg-color: #3B4455;\n",
              "      --disabled-fill-color: #666;\n",
              "  }\n",
              "\n",
              "  .colab-df-quickchart {\n",
              "    background-color: var(--bg-color);\n",
              "    border: none;\n",
              "    border-radius: 50%;\n",
              "    cursor: pointer;\n",
              "    display: none;\n",
              "    fill: var(--fill-color);\n",
              "    height: 32px;\n",
              "    padding: 0;\n",
              "    width: 32px;\n",
              "  }\n",
              "\n",
              "  .colab-df-quickchart:hover {\n",
              "    background-color: var(--hover-bg-color);\n",
              "    box-shadow: 0 1px 2px rgba(60, 64, 67, 0.3), 0 1px 3px 1px rgba(60, 64, 67, 0.15);\n",
              "    fill: var(--button-hover-fill-color);\n",
              "  }\n",
              "\n",
              "  .colab-df-quickchart-complete:disabled,\n",
              "  .colab-df-quickchart-complete:disabled:hover {\n",
              "    background-color: var(--disabled-bg-color);\n",
              "    fill: var(--disabled-fill-color);\n",
              "    box-shadow: none;\n",
              "  }\n",
              "\n",
              "  .colab-df-spinner {\n",
              "    border: 2px solid var(--fill-color);\n",
              "    border-color: transparent;\n",
              "    border-bottom-color: var(--fill-color);\n",
              "    animation:\n",
              "      spin 1s steps(1) infinite;\n",
              "  }\n",
              "\n",
              "  @keyframes spin {\n",
              "    0% {\n",
              "      border-color: transparent;\n",
              "      border-bottom-color: var(--fill-color);\n",
              "      border-left-color: var(--fill-color);\n",
              "    }\n",
              "    20% {\n",
              "      border-color: transparent;\n",
              "      border-left-color: var(--fill-color);\n",
              "      border-top-color: var(--fill-color);\n",
              "    }\n",
              "    30% {\n",
              "      border-color: transparent;\n",
              "      border-left-color: var(--fill-color);\n",
              "      border-top-color: var(--fill-color);\n",
              "      border-right-color: var(--fill-color);\n",
              "    }\n",
              "    40% {\n",
              "      border-color: transparent;\n",
              "      border-right-color: var(--fill-color);\n",
              "      border-top-color: var(--fill-color);\n",
              "    }\n",
              "    60% {\n",
              "      border-color: transparent;\n",
              "      border-right-color: var(--fill-color);\n",
              "    }\n",
              "    80% {\n",
              "      border-color: transparent;\n",
              "      border-right-color: var(--fill-color);\n",
              "      border-bottom-color: var(--fill-color);\n",
              "    }\n",
              "    90% {\n",
              "      border-color: transparent;\n",
              "      border-bottom-color: var(--fill-color);\n",
              "    }\n",
              "  }\n",
              "</style>\n",
              "\n",
              "  <script>\n",
              "    async function quickchart(key) {\n",
              "      const quickchartButtonEl =\n",
              "        document.querySelector('#' + key + ' button');\n",
              "      quickchartButtonEl.disabled = true;  // To prevent multiple clicks.\n",
              "      quickchartButtonEl.classList.add('colab-df-spinner');\n",
              "      try {\n",
              "        const charts = await google.colab.kernel.invokeFunction(\n",
              "            'suggestCharts', [key], {});\n",
              "      } catch (error) {\n",
              "        console.error('Error during call to suggestCharts:', error);\n",
              "      }\n",
              "      quickchartButtonEl.classList.remove('colab-df-spinner');\n",
              "      quickchartButtonEl.classList.add('colab-df-quickchart-complete');\n",
              "    }\n",
              "    (() => {\n",
              "      let quickchartButtonEl =\n",
              "        document.querySelector('#df-c49cdb2e-1573-48ea-99af-a9680f1e5fa7 button');\n",
              "      quickchartButtonEl.style.display =\n",
              "        google.colab.kernel.accessAllowed ? 'block' : 'none';\n",
              "    })();\n",
              "  </script>\n",
              "</div>\n",
              "    </div>\n",
              "  </div>\n"
            ]
          },
          "metadata": {},
          "execution_count": 21
        }
      ],
      "source": [
        "df_pred"
      ]
    },
    {
      "cell_type": "code",
      "source": [
        "df_pred['predicted_difficulty'] = pipe.predict(df_pred['sentence'])"
      ],
      "metadata": {
        "id": "AtsxG2C5ZxH8"
      },
      "execution_count": 22,
      "outputs": []
    },
    {
      "cell_type": "code",
      "execution_count": 23,
      "metadata": {
        "colab": {
          "base_uri": "https://localhost:8080/",
          "height": 455
        },
        "id": "gk9H2dLHkFBa",
        "outputId": "f9b4ca6d-dd1c-497b-d050-ae455f507c9b"
      },
      "outputs": [
        {
          "output_type": "execute_result",
          "data": {
            "text/plain": [
              "                                               sentence predicted_difficulty\n",
              "id                                                                          \n",
              "0     Nous dûmes nous excuser des propos que nous eû...                   A2\n",
              "1     Vous ne pouvez pas savoir le plaisir que j'ai ...                   A2\n",
              "2     Et, paradoxalement, boire froid n'est pas la b...                   B1\n",
              "3     Ce n'est pas étonnant, car c'est une saison my...                   B1\n",
              "4     Le corps de Golo lui-même, d'une essence aussi...                   C2\n",
              "...                                                 ...                  ...\n",
              "1195  C'est un phénomène qui trouve une accélération...                   B1\n",
              "1196  Je vais parler au serveur et voir si on peut d...                   A2\n",
              "1197  Il n'était pas comme tant de gens qui par pare...                   C2\n",
              "1198      Ils deviennent dangereux pour notre économie.                   A1\n",
              "1199  Son succès a généré beaucoup de réactions néga...                   B2\n",
              "\n",
              "[1200 rows x 2 columns]"
            ],
            "text/html": [
              "\n",
              "  <div id=\"df-b501417e-8b77-4e2e-8467-ae22f2bfd8d8\" class=\"colab-df-container\">\n",
              "    <div>\n",
              "<style scoped>\n",
              "    .dataframe tbody tr th:only-of-type {\n",
              "        vertical-align: middle;\n",
              "    }\n",
              "\n",
              "    .dataframe tbody tr th {\n",
              "        vertical-align: top;\n",
              "    }\n",
              "\n",
              "    .dataframe thead th {\n",
              "        text-align: right;\n",
              "    }\n",
              "</style>\n",
              "<table border=\"1\" class=\"dataframe\">\n",
              "  <thead>\n",
              "    <tr style=\"text-align: right;\">\n",
              "      <th></th>\n",
              "      <th>sentence</th>\n",
              "      <th>predicted_difficulty</th>\n",
              "    </tr>\n",
              "    <tr>\n",
              "      <th>id</th>\n",
              "      <th></th>\n",
              "      <th></th>\n",
              "    </tr>\n",
              "  </thead>\n",
              "  <tbody>\n",
              "    <tr>\n",
              "      <th>0</th>\n",
              "      <td>Nous dûmes nous excuser des propos que nous eû...</td>\n",
              "      <td>A2</td>\n",
              "    </tr>\n",
              "    <tr>\n",
              "      <th>1</th>\n",
              "      <td>Vous ne pouvez pas savoir le plaisir que j'ai ...</td>\n",
              "      <td>A2</td>\n",
              "    </tr>\n",
              "    <tr>\n",
              "      <th>2</th>\n",
              "      <td>Et, paradoxalement, boire froid n'est pas la b...</td>\n",
              "      <td>B1</td>\n",
              "    </tr>\n",
              "    <tr>\n",
              "      <th>3</th>\n",
              "      <td>Ce n'est pas étonnant, car c'est une saison my...</td>\n",
              "      <td>B1</td>\n",
              "    </tr>\n",
              "    <tr>\n",
              "      <th>4</th>\n",
              "      <td>Le corps de Golo lui-même, d'une essence aussi...</td>\n",
              "      <td>C2</td>\n",
              "    </tr>\n",
              "    <tr>\n",
              "      <th>...</th>\n",
              "      <td>...</td>\n",
              "      <td>...</td>\n",
              "    </tr>\n",
              "    <tr>\n",
              "      <th>1195</th>\n",
              "      <td>C'est un phénomène qui trouve une accélération...</td>\n",
              "      <td>B1</td>\n",
              "    </tr>\n",
              "    <tr>\n",
              "      <th>1196</th>\n",
              "      <td>Je vais parler au serveur et voir si on peut d...</td>\n",
              "      <td>A2</td>\n",
              "    </tr>\n",
              "    <tr>\n",
              "      <th>1197</th>\n",
              "      <td>Il n'était pas comme tant de gens qui par pare...</td>\n",
              "      <td>C2</td>\n",
              "    </tr>\n",
              "    <tr>\n",
              "      <th>1198</th>\n",
              "      <td>Ils deviennent dangereux pour notre économie.</td>\n",
              "      <td>A1</td>\n",
              "    </tr>\n",
              "    <tr>\n",
              "      <th>1199</th>\n",
              "      <td>Son succès a généré beaucoup de réactions néga...</td>\n",
              "      <td>B2</td>\n",
              "    </tr>\n",
              "  </tbody>\n",
              "</table>\n",
              "<p>1200 rows × 2 columns</p>\n",
              "</div>\n",
              "    <div class=\"colab-df-buttons\">\n",
              "\n",
              "  <div class=\"colab-df-container\">\n",
              "    <button class=\"colab-df-convert\" onclick=\"convertToInteractive('df-b501417e-8b77-4e2e-8467-ae22f2bfd8d8')\"\n",
              "            title=\"Convert this dataframe to an interactive table.\"\n",
              "            style=\"display:none;\">\n",
              "\n",
              "  <svg xmlns=\"http://www.w3.org/2000/svg\" height=\"24px\" viewBox=\"0 -960 960 960\">\n",
              "    <path d=\"M120-120v-720h720v720H120Zm60-500h600v-160H180v160Zm220 220h160v-160H400v160Zm0 220h160v-160H400v160ZM180-400h160v-160H180v160Zm440 0h160v-160H620v160ZM180-180h160v-160H180v160Zm440 0h160v-160H620v160Z\"/>\n",
              "  </svg>\n",
              "    </button>\n",
              "\n",
              "  <style>\n",
              "    .colab-df-container {\n",
              "      display:flex;\n",
              "      gap: 12px;\n",
              "    }\n",
              "\n",
              "    .colab-df-convert {\n",
              "      background-color: #E8F0FE;\n",
              "      border: none;\n",
              "      border-radius: 50%;\n",
              "      cursor: pointer;\n",
              "      display: none;\n",
              "      fill: #1967D2;\n",
              "      height: 32px;\n",
              "      padding: 0 0 0 0;\n",
              "      width: 32px;\n",
              "    }\n",
              "\n",
              "    .colab-df-convert:hover {\n",
              "      background-color: #E2EBFA;\n",
              "      box-shadow: 0px 1px 2px rgba(60, 64, 67, 0.3), 0px 1px 3px 1px rgba(60, 64, 67, 0.15);\n",
              "      fill: #174EA6;\n",
              "    }\n",
              "\n",
              "    .colab-df-buttons div {\n",
              "      margin-bottom: 4px;\n",
              "    }\n",
              "\n",
              "    [theme=dark] .colab-df-convert {\n",
              "      background-color: #3B4455;\n",
              "      fill: #D2E3FC;\n",
              "    }\n",
              "\n",
              "    [theme=dark] .colab-df-convert:hover {\n",
              "      background-color: #434B5C;\n",
              "      box-shadow: 0px 1px 3px 1px rgba(0, 0, 0, 0.15);\n",
              "      filter: drop-shadow(0px 1px 2px rgba(0, 0, 0, 0.3));\n",
              "      fill: #FFFFFF;\n",
              "    }\n",
              "  </style>\n",
              "\n",
              "    <script>\n",
              "      const buttonEl =\n",
              "        document.querySelector('#df-b501417e-8b77-4e2e-8467-ae22f2bfd8d8 button.colab-df-convert');\n",
              "      buttonEl.style.display =\n",
              "        google.colab.kernel.accessAllowed ? 'block' : 'none';\n",
              "\n",
              "      async function convertToInteractive(key) {\n",
              "        const element = document.querySelector('#df-b501417e-8b77-4e2e-8467-ae22f2bfd8d8');\n",
              "        const dataTable =\n",
              "          await google.colab.kernel.invokeFunction('convertToInteractive',\n",
              "                                                    [key], {});\n",
              "        if (!dataTable) return;\n",
              "\n",
              "        const docLinkHtml = 'Like what you see? Visit the ' +\n",
              "          '<a target=\"_blank\" href=https://colab.research.google.com/notebooks/data_table.ipynb>data table notebook</a>'\n",
              "          + ' to learn more about interactive tables.';\n",
              "        element.innerHTML = '';\n",
              "        dataTable['output_type'] = 'display_data';\n",
              "        await google.colab.output.renderOutput(dataTable, element);\n",
              "        const docLink = document.createElement('div');\n",
              "        docLink.innerHTML = docLinkHtml;\n",
              "        element.appendChild(docLink);\n",
              "      }\n",
              "    </script>\n",
              "  </div>\n",
              "\n",
              "\n",
              "<div id=\"df-c65b31e0-afc8-4693-a1d7-7f308f926e12\">\n",
              "  <button class=\"colab-df-quickchart\" onclick=\"quickchart('df-c65b31e0-afc8-4693-a1d7-7f308f926e12')\"\n",
              "            title=\"Suggest charts\"\n",
              "            style=\"display:none;\">\n",
              "\n",
              "<svg xmlns=\"http://www.w3.org/2000/svg\" height=\"24px\"viewBox=\"0 0 24 24\"\n",
              "     width=\"24px\">\n",
              "    <g>\n",
              "        <path d=\"M19 3H5c-1.1 0-2 .9-2 2v14c0 1.1.9 2 2 2h14c1.1 0 2-.9 2-2V5c0-1.1-.9-2-2-2zM9 17H7v-7h2v7zm4 0h-2V7h2v10zm4 0h-2v-4h2v4z\"/>\n",
              "    </g>\n",
              "</svg>\n",
              "  </button>\n",
              "\n",
              "<style>\n",
              "  .colab-df-quickchart {\n",
              "      --bg-color: #E8F0FE;\n",
              "      --fill-color: #1967D2;\n",
              "      --hover-bg-color: #E2EBFA;\n",
              "      --hover-fill-color: #174EA6;\n",
              "      --disabled-fill-color: #AAA;\n",
              "      --disabled-bg-color: #DDD;\n",
              "  }\n",
              "\n",
              "  [theme=dark] .colab-df-quickchart {\n",
              "      --bg-color: #3B4455;\n",
              "      --fill-color: #D2E3FC;\n",
              "      --hover-bg-color: #434B5C;\n",
              "      --hover-fill-color: #FFFFFF;\n",
              "      --disabled-bg-color: #3B4455;\n",
              "      --disabled-fill-color: #666;\n",
              "  }\n",
              "\n",
              "  .colab-df-quickchart {\n",
              "    background-color: var(--bg-color);\n",
              "    border: none;\n",
              "    border-radius: 50%;\n",
              "    cursor: pointer;\n",
              "    display: none;\n",
              "    fill: var(--fill-color);\n",
              "    height: 32px;\n",
              "    padding: 0;\n",
              "    width: 32px;\n",
              "  }\n",
              "\n",
              "  .colab-df-quickchart:hover {\n",
              "    background-color: var(--hover-bg-color);\n",
              "    box-shadow: 0 1px 2px rgba(60, 64, 67, 0.3), 0 1px 3px 1px rgba(60, 64, 67, 0.15);\n",
              "    fill: var(--button-hover-fill-color);\n",
              "  }\n",
              "\n",
              "  .colab-df-quickchart-complete:disabled,\n",
              "  .colab-df-quickchart-complete:disabled:hover {\n",
              "    background-color: var(--disabled-bg-color);\n",
              "    fill: var(--disabled-fill-color);\n",
              "    box-shadow: none;\n",
              "  }\n",
              "\n",
              "  .colab-df-spinner {\n",
              "    border: 2px solid var(--fill-color);\n",
              "    border-color: transparent;\n",
              "    border-bottom-color: var(--fill-color);\n",
              "    animation:\n",
              "      spin 1s steps(1) infinite;\n",
              "  }\n",
              "\n",
              "  @keyframes spin {\n",
              "    0% {\n",
              "      border-color: transparent;\n",
              "      border-bottom-color: var(--fill-color);\n",
              "      border-left-color: var(--fill-color);\n",
              "    }\n",
              "    20% {\n",
              "      border-color: transparent;\n",
              "      border-left-color: var(--fill-color);\n",
              "      border-top-color: var(--fill-color);\n",
              "    }\n",
              "    30% {\n",
              "      border-color: transparent;\n",
              "      border-left-color: var(--fill-color);\n",
              "      border-top-color: var(--fill-color);\n",
              "      border-right-color: var(--fill-color);\n",
              "    }\n",
              "    40% {\n",
              "      border-color: transparent;\n",
              "      border-right-color: var(--fill-color);\n",
              "      border-top-color: var(--fill-color);\n",
              "    }\n",
              "    60% {\n",
              "      border-color: transparent;\n",
              "      border-right-color: var(--fill-color);\n",
              "    }\n",
              "    80% {\n",
              "      border-color: transparent;\n",
              "      border-right-color: var(--fill-color);\n",
              "      border-bottom-color: var(--fill-color);\n",
              "    }\n",
              "    90% {\n",
              "      border-color: transparent;\n",
              "      border-bottom-color: var(--fill-color);\n",
              "    }\n",
              "  }\n",
              "</style>\n",
              "\n",
              "  <script>\n",
              "    async function quickchart(key) {\n",
              "      const quickchartButtonEl =\n",
              "        document.querySelector('#' + key + ' button');\n",
              "      quickchartButtonEl.disabled = true;  // To prevent multiple clicks.\n",
              "      quickchartButtonEl.classList.add('colab-df-spinner');\n",
              "      try {\n",
              "        const charts = await google.colab.kernel.invokeFunction(\n",
              "            'suggestCharts', [key], {});\n",
              "      } catch (error) {\n",
              "        console.error('Error during call to suggestCharts:', error);\n",
              "      }\n",
              "      quickchartButtonEl.classList.remove('colab-df-spinner');\n",
              "      quickchartButtonEl.classList.add('colab-df-quickchart-complete');\n",
              "    }\n",
              "    (() => {\n",
              "      let quickchartButtonEl =\n",
              "        document.querySelector('#df-c65b31e0-afc8-4693-a1d7-7f308f926e12 button');\n",
              "      quickchartButtonEl.style.display =\n",
              "        google.colab.kernel.accessAllowed ? 'block' : 'none';\n",
              "    })();\n",
              "  </script>\n",
              "</div>\n",
              "    </div>\n",
              "  </div>\n"
            ]
          },
          "metadata": {},
          "execution_count": 23
        }
      ],
      "source": [
        "df_pred"
      ]
    },
    {
      "cell_type": "markdown",
      "source": [
        "# This is how to submit a pd file with predictions\n",
        "### for the example we will submit a file where only A1 is given as a prediction"
      ],
      "metadata": {
        "id": "jctQ2IXYeXEs"
      }
    },
    {
      "cell_type": "code",
      "source": [
        "df_sub=df_pred[['predicted_difficulty']]\n",
        "df_sub.to_csv('submission.csv')"
      ],
      "metadata": {
        "id": "pg1ITBF8e0aq"
      },
      "execution_count": 24,
      "outputs": []
    },
    {
      "cell_type": "code",
      "source": [
        "! kaggle competitions submit -c detecting-french-texts-difficulty-level-2023 -f submission.csv -m \"Sample submission\""
      ],
      "metadata": {
        "colab": {
          "base_uri": "https://localhost:8080/"
        },
        "id": "D3i5G0qzgBxP",
        "outputId": "a9894001-89be-4f79-ad36-0b6d09fa246e"
      },
      "execution_count": 25,
      "outputs": [
        {
          "output_type": "stream",
          "name": "stdout",
          "text": [
            "100% 8.31k/8.31k [00:02<00:00, 3.78kB/s]\n",
            "Successfully submitted to Detecting the difficulty level of French texts"
          ]
        }
      ]
    },
    {
      "cell_type": "markdown",
      "source": [
        "![image.png](data:image/png;base64,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)"
      ],
      "metadata": {
        "id": "MuvFjpxJxGwN"
      }
    },
    {
      "cell_type": "code",
      "source": [],
      "metadata": {
        "id": "V91Y8bkEg43L"
      },
      "execution_count": null,
      "outputs": []
    }
  ],
  "metadata": {
    "colab": {
      "provenance": []
    },
    "kernelspec": {
      "display_name": "Python 3 (ipykernel)",
      "language": "python",
      "name": "python3"
    },
    "language_info": {
      "codemirror_mode": {
        "name": "ipython",
        "version": 3
      },
      "file_extension": ".py",
      "mimetype": "text/x-python",
      "name": "python",
      "nbconvert_exporter": "python",
      "pygments_lexer": "ipython3",
      "version": "3.9.6"
    },
    "toc": {
      "base_numbering": 1,
      "nav_menu": {},
      "number_sections": true,
      "sideBar": true,
      "skip_h1_title": false,
      "title_cell": "Table of Contents",
      "title_sidebar": "Contents",
      "toc_cell": false,
      "toc_position": {},
      "toc_section_display": true,
      "toc_window_display": false
    }
  },
  "nbformat": 4,
  "nbformat_minor": 0
}