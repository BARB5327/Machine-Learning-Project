{
  "cells": [
    {
      "cell_type": "markdown",
      "source": [
        "#Initialization of the kaggle and the files#"
      ],
      "metadata": {
        "id": "kTfmqzC6OtfX"
      }
    },
    {
      "cell_type": "code",
      "execution_count": 1,
      "metadata": {
        "colab": {
          "base_uri": "https://localhost:8080/"
        },
        "id": "UJ_hnJzSNO2g",
        "outputId": "f794f923-9379-46be-8fe9-93d612dd1455"
      },
      "outputs": [
        {
          "output_type": "stream",
          "name": "stdout",
          "text": [
            "Mounted at /content/drive\n"
          ]
        }
      ],
      "source": [
        "# reading in the data via the Kaggle API\n",
        "\n",
        "# mount your Google Drive\n",
        "from google.colab import drive\n",
        "drive.mount('/content/drive', force_remount=True)"
      ]
    },
    {
      "cell_type": "code",
      "execution_count": 2,
      "metadata": {
        "colab": {
          "base_uri": "https://localhost:8080/"
        },
        "id": "mJPTz3D7TeQv",
        "outputId": "91b28f14-9f09-42c2-a297-334f2403bba2"
      },
      "outputs": [
        {
          "output_type": "stream",
          "name": "stdout",
          "text": [
            "Requirement already satisfied: kaggle in /usr/local/lib/python3.10/dist-packages (1.5.16)\n",
            "Requirement already satisfied: six>=1.10 in /usr/local/lib/python3.10/dist-packages (from kaggle) (1.16.0)\n",
            "Requirement already satisfied: certifi in /usr/local/lib/python3.10/dist-packages (from kaggle) (2023.7.22)\n",
            "Requirement already satisfied: python-dateutil in /usr/local/lib/python3.10/dist-packages (from kaggle) (2.8.2)\n",
            "Requirement already satisfied: requests in /usr/local/lib/python3.10/dist-packages (from kaggle) (2.31.0)\n",
            "Requirement already satisfied: tqdm in /usr/local/lib/python3.10/dist-packages (from kaggle) (4.66.1)\n",
            "Requirement already satisfied: python-slugify in /usr/local/lib/python3.10/dist-packages (from kaggle) (8.0.1)\n",
            "Requirement already satisfied: urllib3 in /usr/local/lib/python3.10/dist-packages (from kaggle) (2.0.7)\n",
            "Requirement already satisfied: bleach in /usr/local/lib/python3.10/dist-packages (from kaggle) (6.1.0)\n",
            "Requirement already satisfied: webencodings in /usr/local/lib/python3.10/dist-packages (from bleach->kaggle) (0.5.1)\n",
            "Requirement already satisfied: text-unidecode>=1.3 in /usr/local/lib/python3.10/dist-packages (from python-slugify->kaggle) (1.3)\n",
            "Requirement already satisfied: charset-normalizer<4,>=2 in /usr/local/lib/python3.10/dist-packages (from requests->kaggle) (3.3.2)\n",
            "Requirement already satisfied: idna<4,>=2.5 in /usr/local/lib/python3.10/dist-packages (from requests->kaggle) (3.4)\n"
          ]
        }
      ],
      "source": [
        "# install Kaggle\n",
        "! pip install kaggle"
      ]
    },
    {
      "cell_type": "markdown",
      "metadata": {
        "id": "ZKG1TCddRYTB"
      },
      "source": [
        "Log into your Kaggle account, go to Account > API > Create new API token. You will obtain a kaggle.json file, which you save on your Google Drive directy in my drive."
      ]
    },
    {
      "cell_type": "code",
      "execution_count": 4,
      "metadata": {
        "id": "JgzLj451YDfV",
        "colab": {
          "base_uri": "https://localhost:8080/"
        },
        "outputId": "a047d0bf-cdc8-4718-ea7f-01d9d77e7c39"
      },
      "outputs": [
        {
          "output_type": "stream",
          "name": "stdout",
          "text": [
            "mkdir: cannot create directory ‘/root/.kaggle’: File exists\n"
          ]
        }
      ],
      "source": [
        "!mkdir ~/.kaggle"
      ]
    },
    {
      "cell_type": "code",
      "execution_count": 5,
      "metadata": {
        "id": "KrsZLalrSI3u"
      },
      "outputs": [],
      "source": [
        "#read in your Kaggle credentials from Google Drive\n",
        "!cp /content/drive/MyDrive/Kaggle/kaggle.json ~/.kaggle/kaggle.json\n"
      ]
    },
    {
      "cell_type": "code",
      "execution_count": 6,
      "metadata": {
        "colab": {
          "base_uri": "https://localhost:8080/"
        },
        "id": "BDI60LXKTPzf",
        "outputId": "127089dc-c3dd-413a-9ef4-1e709aa7f402"
      },
      "outputs": [
        {
          "output_type": "stream",
          "name": "stdout",
          "text": [
            "detecting-french-texts-difficulty-level-2023.zip: Skipping, found more recently modified local copy (use --force to force download)\n"
          ]
        }
      ],
      "source": [
        "! kaggle competitions download -c detecting-french-texts-difficulty-level-2023\n",
        "from zipfile import ZipFile\n",
        "with ZipFile('detecting-french-texts-difficulty-level-2023.zip','r') as zip:\n",
        "  zip.extractall(path=\"\")"
      ]
    },
    {
      "cell_type": "markdown",
      "source": [
        "# Begining of the model\n",
        "#####We install the transformers and spacy that we'll use later for"
      ],
      "metadata": {
        "id": "HHb-bzEFOdNv"
      }
    },
    {
      "cell_type": "code",
      "source": [
        "!pip install -q transformers\n",
        "!python -m spacy download fr_core_news_sm\n"
      ],
      "metadata": {
        "colab": {
          "base_uri": "https://localhost:8080/"
        },
        "id": "IKB5eYqaQRES",
        "outputId": "85707d6b-0966-4539-a061-35aadb269070"
      },
      "execution_count": 25,
      "outputs": [
        {
          "output_type": "stream",
          "name": "stdout",
          "text": [
            "2023-11-30 13:58:01.021047: E tensorflow/compiler/xla/stream_executor/cuda/cuda_dnn.cc:9342] Unable to register cuDNN factory: Attempting to register factory for plugin cuDNN when one has already been registered\n",
            "2023-11-30 13:58:01.021128: E tensorflow/compiler/xla/stream_executor/cuda/cuda_fft.cc:609] Unable to register cuFFT factory: Attempting to register factory for plugin cuFFT when one has already been registered\n",
            "2023-11-30 13:58:01.021169: E tensorflow/compiler/xla/stream_executor/cuda/cuda_blas.cc:1518] Unable to register cuBLAS factory: Attempting to register factory for plugin cuBLAS when one has already been registered\n",
            "2023-11-30 13:58:02.726625: W tensorflow/compiler/tf2tensorrt/utils/py_utils.cc:38] TF-TRT Warning: Could not find TensorRT\n",
            "Collecting fr-core-news-sm==3.6.0\n",
            "  Downloading https://github.com/explosion/spacy-models/releases/download/fr_core_news_sm-3.6.0/fr_core_news_sm-3.6.0-py3-none-any.whl (16.3 MB)\n",
            "\u001b[2K     \u001b[90m━━━━━━━━━━━━━━━━━━━━━━━━━━━━━━━━━━━━━━━━\u001b[0m \u001b[32m16.3/16.3 MB\u001b[0m \u001b[31m72.9 MB/s\u001b[0m eta \u001b[36m0:00:00\u001b[0m\n",
            "\u001b[?25hRequirement already satisfied: spacy<3.7.0,>=3.6.0 in /usr/local/lib/python3.10/dist-packages (from fr-core-news-sm==3.6.0) (3.6.1)\n",
            "Requirement already satisfied: spacy-legacy<3.1.0,>=3.0.11 in /usr/local/lib/python3.10/dist-packages (from spacy<3.7.0,>=3.6.0->fr-core-news-sm==3.6.0) (3.0.12)\n",
            "Requirement already satisfied: spacy-loggers<2.0.0,>=1.0.0 in /usr/local/lib/python3.10/dist-packages (from spacy<3.7.0,>=3.6.0->fr-core-news-sm==3.6.0) (1.0.5)\n",
            "Requirement already satisfied: murmurhash<1.1.0,>=0.28.0 in /usr/local/lib/python3.10/dist-packages (from spacy<3.7.0,>=3.6.0->fr-core-news-sm==3.6.0) (1.0.10)\n",
            "Requirement already satisfied: cymem<2.1.0,>=2.0.2 in /usr/local/lib/python3.10/dist-packages (from spacy<3.7.0,>=3.6.0->fr-core-news-sm==3.6.0) (2.0.8)\n",
            "Requirement already satisfied: preshed<3.1.0,>=3.0.2 in /usr/local/lib/python3.10/dist-packages (from spacy<3.7.0,>=3.6.0->fr-core-news-sm==3.6.0) (3.0.9)\n",
            "Requirement already satisfied: thinc<8.2.0,>=8.1.8 in /usr/local/lib/python3.10/dist-packages (from spacy<3.7.0,>=3.6.0->fr-core-news-sm==3.6.0) (8.1.12)\n",
            "Requirement already satisfied: wasabi<1.2.0,>=0.9.1 in /usr/local/lib/python3.10/dist-packages (from spacy<3.7.0,>=3.6.0->fr-core-news-sm==3.6.0) (1.1.2)\n",
            "Requirement already satisfied: srsly<3.0.0,>=2.4.3 in /usr/local/lib/python3.10/dist-packages (from spacy<3.7.0,>=3.6.0->fr-core-news-sm==3.6.0) (2.4.8)\n",
            "Requirement already satisfied: catalogue<2.1.0,>=2.0.6 in /usr/local/lib/python3.10/dist-packages (from spacy<3.7.0,>=3.6.0->fr-core-news-sm==3.6.0) (2.0.10)\n",
            "Requirement already satisfied: typer<0.10.0,>=0.3.0 in /usr/local/lib/python3.10/dist-packages (from spacy<3.7.0,>=3.6.0->fr-core-news-sm==3.6.0) (0.9.0)\n",
            "Requirement already satisfied: pathy>=0.10.0 in /usr/local/lib/python3.10/dist-packages (from spacy<3.7.0,>=3.6.0->fr-core-news-sm==3.6.0) (0.10.3)\n",
            "Requirement already satisfied: smart-open<7.0.0,>=5.2.1 in /usr/local/lib/python3.10/dist-packages (from spacy<3.7.0,>=3.6.0->fr-core-news-sm==3.6.0) (6.4.0)\n",
            "Requirement already satisfied: tqdm<5.0.0,>=4.38.0 in /usr/local/lib/python3.10/dist-packages (from spacy<3.7.0,>=3.6.0->fr-core-news-sm==3.6.0) (4.66.1)\n",
            "Requirement already satisfied: numpy>=1.15.0 in /usr/local/lib/python3.10/dist-packages (from spacy<3.7.0,>=3.6.0->fr-core-news-sm==3.6.0) (1.23.5)\n",
            "Requirement already satisfied: requests<3.0.0,>=2.13.0 in /usr/local/lib/python3.10/dist-packages (from spacy<3.7.0,>=3.6.0->fr-core-news-sm==3.6.0) (2.31.0)\n",
            "Requirement already satisfied: pydantic!=1.8,!=1.8.1,<3.0.0,>=1.7.4 in /usr/local/lib/python3.10/dist-packages (from spacy<3.7.0,>=3.6.0->fr-core-news-sm==3.6.0) (1.10.13)\n",
            "Requirement already satisfied: jinja2 in /usr/local/lib/python3.10/dist-packages (from spacy<3.7.0,>=3.6.0->fr-core-news-sm==3.6.0) (3.1.2)\n",
            "Requirement already satisfied: setuptools in /usr/local/lib/python3.10/dist-packages (from spacy<3.7.0,>=3.6.0->fr-core-news-sm==3.6.0) (67.7.2)\n",
            "Requirement already satisfied: packaging>=20.0 in /usr/local/lib/python3.10/dist-packages (from spacy<3.7.0,>=3.6.0->fr-core-news-sm==3.6.0) (23.2)\n",
            "Requirement already satisfied: langcodes<4.0.0,>=3.2.0 in /usr/local/lib/python3.10/dist-packages (from spacy<3.7.0,>=3.6.0->fr-core-news-sm==3.6.0) (3.3.0)\n",
            "Requirement already satisfied: typing-extensions>=4.2.0 in /usr/local/lib/python3.10/dist-packages (from pydantic!=1.8,!=1.8.1,<3.0.0,>=1.7.4->spacy<3.7.0,>=3.6.0->fr-core-news-sm==3.6.0) (4.5.0)\n",
            "Requirement already satisfied: charset-normalizer<4,>=2 in /usr/local/lib/python3.10/dist-packages (from requests<3.0.0,>=2.13.0->spacy<3.7.0,>=3.6.0->fr-core-news-sm==3.6.0) (3.3.2)\n",
            "Requirement already satisfied: idna<4,>=2.5 in /usr/local/lib/python3.10/dist-packages (from requests<3.0.0,>=2.13.0->spacy<3.7.0,>=3.6.0->fr-core-news-sm==3.6.0) (3.4)\n",
            "Requirement already satisfied: urllib3<3,>=1.21.1 in /usr/local/lib/python3.10/dist-packages (from requests<3.0.0,>=2.13.0->spacy<3.7.0,>=3.6.0->fr-core-news-sm==3.6.0) (2.0.7)\n",
            "Requirement already satisfied: certifi>=2017.4.17 in /usr/local/lib/python3.10/dist-packages (from requests<3.0.0,>=2.13.0->spacy<3.7.0,>=3.6.0->fr-core-news-sm==3.6.0) (2023.7.22)\n",
            "Requirement already satisfied: blis<0.8.0,>=0.7.8 in /usr/local/lib/python3.10/dist-packages (from thinc<8.2.0,>=8.1.8->spacy<3.7.0,>=3.6.0->fr-core-news-sm==3.6.0) (0.7.11)\n",
            "Requirement already satisfied: confection<1.0.0,>=0.0.1 in /usr/local/lib/python3.10/dist-packages (from thinc<8.2.0,>=8.1.8->spacy<3.7.0,>=3.6.0->fr-core-news-sm==3.6.0) (0.1.3)\n",
            "Requirement already satisfied: click<9.0.0,>=7.1.1 in /usr/local/lib/python3.10/dist-packages (from typer<0.10.0,>=0.3.0->spacy<3.7.0,>=3.6.0->fr-core-news-sm==3.6.0) (8.1.7)\n",
            "Requirement already satisfied: MarkupSafe>=2.0 in /usr/local/lib/python3.10/dist-packages (from jinja2->spacy<3.7.0,>=3.6.0->fr-core-news-sm==3.6.0) (2.1.3)\n",
            "\u001b[38;5;2m✔ Download and installation successful\u001b[0m\n",
            "You can now load the package via spacy.load('fr_core_news_sm')\n"
          ]
        }
      ]
    },
    {
      "cell_type": "markdown",
      "source": [
        "## Imports##"
      ],
      "metadata": {
        "id": "nvsJcuCpQLx8"
      }
    },
    {
      "cell_type": "code",
      "execution_count": 63,
      "metadata": {
        "id": "daqvj7feTx60"
      },
      "outputs": [],
      "source": [
        "import pandas as pd\n",
        "import numpy as np\n",
        "import seaborn as sns\n",
        "import matplotlib.pyplot as plt\n",
        "import spacy\n",
        "import multiprocessing\n",
        "import string\n",
        "\n",
        "from sklearn.linear_model import LogisticRegression\n",
        "from sklearn.model_selection import train_test_split\n",
        "from sklearn.pipeline import Pipeline\n",
        "from sklearn.metrics import confusion_matrix, accuracy_score\n",
        "from sklearn.feature_extraction.text import CountVectorizer, TfidfVectorizer\n",
        "\n",
        "from sklearn.metrics import precision_score, recall_score, f1_score, accuracy_score,confusion_matrix\n",
        "\n",
        "df = pd.read_csv('training_data.csv', index_col = 'id')\n",
        "df_pred = pd.read_csv('unlabelled_test_data.csv', index_col = 'id')"
      ]
    },
    {
      "cell_type": "markdown",
      "source": [
        "#####We use spacy to treat the french language for the tokeninzation and treatment of our sentences like for the stop words\n"
      ],
      "metadata": {
        "id": "RreDpcgLicYc"
      }
    },
    {
      "cell_type": "code",
      "source": [
        "sp =spacy.load('fr_core_news_sm')"
      ],
      "metadata": {
        "id": "GLoAJMc3S4xB"
      },
      "execution_count": 68,
      "outputs": []
    },
    {
      "cell_type": "code",
      "execution_count": 10,
      "metadata": {
        "colab": {
          "base_uri": "https://localhost:8080/",
          "height": 455
        },
        "id": "VxRSnk5bhTp8",
        "outputId": "940bbdf5-5c8b-4144-a60d-618df53c3a5e"
      },
      "outputs": [
        {
          "output_type": "execute_result",
          "data": {
            "text/plain": [
              "                                               sentence difficulty\n",
              "id                                                                \n",
              "0     Les coûts kilométriques réels peuvent diverger...         C1\n",
              "1     Le bleu, c'est ma couleur préférée mais je n'a...         A1\n",
              "2     Le test de niveau en français est sur le site ...         A1\n",
              "3              Est-ce que ton mari est aussi de Boston?         A1\n",
              "4     Dans les écoles de commerce, dans les couloirs...         B1\n",
              "...                                                 ...        ...\n",
              "4795  C'est pourquoi, il décida de remplacer les hab...         B2\n",
              "4796  Il avait une de ces pâleurs splendides qui don...         C1\n",
              "4797  Et le premier samedi de chaque mois, venez ren...         A2\n",
              "4798  Les coûts liés à la journalisation n'étant pas...         C2\n",
              "4799  Sur le sable, la mer haletait de toute la resp...         C2\n",
              "\n",
              "[4800 rows x 2 columns]"
            ],
            "text/html": [
              "\n",
              "  <div id=\"df-ee58ce25-ca91-4441-b68b-101664297dbc\" class=\"colab-df-container\">\n",
              "    <div>\n",
              "<style scoped>\n",
              "    .dataframe tbody tr th:only-of-type {\n",
              "        vertical-align: middle;\n",
              "    }\n",
              "\n",
              "    .dataframe tbody tr th {\n",
              "        vertical-align: top;\n",
              "    }\n",
              "\n",
              "    .dataframe thead th {\n",
              "        text-align: right;\n",
              "    }\n",
              "</style>\n",
              "<table border=\"1\" class=\"dataframe\">\n",
              "  <thead>\n",
              "    <tr style=\"text-align: right;\">\n",
              "      <th></th>\n",
              "      <th>sentence</th>\n",
              "      <th>difficulty</th>\n",
              "    </tr>\n",
              "    <tr>\n",
              "      <th>id</th>\n",
              "      <th></th>\n",
              "      <th></th>\n",
              "    </tr>\n",
              "  </thead>\n",
              "  <tbody>\n",
              "    <tr>\n",
              "      <th>0</th>\n",
              "      <td>Les coûts kilométriques réels peuvent diverger...</td>\n",
              "      <td>C1</td>\n",
              "    </tr>\n",
              "    <tr>\n",
              "      <th>1</th>\n",
              "      <td>Le bleu, c'est ma couleur préférée mais je n'a...</td>\n",
              "      <td>A1</td>\n",
              "    </tr>\n",
              "    <tr>\n",
              "      <th>2</th>\n",
              "      <td>Le test de niveau en français est sur le site ...</td>\n",
              "      <td>A1</td>\n",
              "    </tr>\n",
              "    <tr>\n",
              "      <th>3</th>\n",
              "      <td>Est-ce que ton mari est aussi de Boston?</td>\n",
              "      <td>A1</td>\n",
              "    </tr>\n",
              "    <tr>\n",
              "      <th>4</th>\n",
              "      <td>Dans les écoles de commerce, dans les couloirs...</td>\n",
              "      <td>B1</td>\n",
              "    </tr>\n",
              "    <tr>\n",
              "      <th>...</th>\n",
              "      <td>...</td>\n",
              "      <td>...</td>\n",
              "    </tr>\n",
              "    <tr>\n",
              "      <th>4795</th>\n",
              "      <td>C'est pourquoi, il décida de remplacer les hab...</td>\n",
              "      <td>B2</td>\n",
              "    </tr>\n",
              "    <tr>\n",
              "      <th>4796</th>\n",
              "      <td>Il avait une de ces pâleurs splendides qui don...</td>\n",
              "      <td>C1</td>\n",
              "    </tr>\n",
              "    <tr>\n",
              "      <th>4797</th>\n",
              "      <td>Et le premier samedi de chaque mois, venez ren...</td>\n",
              "      <td>A2</td>\n",
              "    </tr>\n",
              "    <tr>\n",
              "      <th>4798</th>\n",
              "      <td>Les coûts liés à la journalisation n'étant pas...</td>\n",
              "      <td>C2</td>\n",
              "    </tr>\n",
              "    <tr>\n",
              "      <th>4799</th>\n",
              "      <td>Sur le sable, la mer haletait de toute la resp...</td>\n",
              "      <td>C2</td>\n",
              "    </tr>\n",
              "  </tbody>\n",
              "</table>\n",
              "<p>4800 rows × 2 columns</p>\n",
              "</div>\n",
              "    <div class=\"colab-df-buttons\">\n",
              "\n",
              "  <div class=\"colab-df-container\">\n",
              "    <button class=\"colab-df-convert\" onclick=\"convertToInteractive('df-ee58ce25-ca91-4441-b68b-101664297dbc')\"\n",
              "            title=\"Convert this dataframe to an interactive table.\"\n",
              "            style=\"display:none;\">\n",
              "\n",
              "  <svg xmlns=\"http://www.w3.org/2000/svg\" height=\"24px\" viewBox=\"0 -960 960 960\">\n",
              "    <path d=\"M120-120v-720h720v720H120Zm60-500h600v-160H180v160Zm220 220h160v-160H400v160Zm0 220h160v-160H400v160ZM180-400h160v-160H180v160Zm440 0h160v-160H620v160ZM180-180h160v-160H180v160Zm440 0h160v-160H620v160Z\"/>\n",
              "  </svg>\n",
              "    </button>\n",
              "\n",
              "  <style>\n",
              "    .colab-df-container {\n",
              "      display:flex;\n",
              "      gap: 12px;\n",
              "    }\n",
              "\n",
              "    .colab-df-convert {\n",
              "      background-color: #E8F0FE;\n",
              "      border: none;\n",
              "      border-radius: 50%;\n",
              "      cursor: pointer;\n",
              "      display: none;\n",
              "      fill: #1967D2;\n",
              "      height: 32px;\n",
              "      padding: 0 0 0 0;\n",
              "      width: 32px;\n",
              "    }\n",
              "\n",
              "    .colab-df-convert:hover {\n",
              "      background-color: #E2EBFA;\n",
              "      box-shadow: 0px 1px 2px rgba(60, 64, 67, 0.3), 0px 1px 3px 1px rgba(60, 64, 67, 0.15);\n",
              "      fill: #174EA6;\n",
              "    }\n",
              "\n",
              "    .colab-df-buttons div {\n",
              "      margin-bottom: 4px;\n",
              "    }\n",
              "\n",
              "    [theme=dark] .colab-df-convert {\n",
              "      background-color: #3B4455;\n",
              "      fill: #D2E3FC;\n",
              "    }\n",
              "\n",
              "    [theme=dark] .colab-df-convert:hover {\n",
              "      background-color: #434B5C;\n",
              "      box-shadow: 0px 1px 3px 1px rgba(0, 0, 0, 0.15);\n",
              "      filter: drop-shadow(0px 1px 2px rgba(0, 0, 0, 0.3));\n",
              "      fill: #FFFFFF;\n",
              "    }\n",
              "  </style>\n",
              "\n",
              "    <script>\n",
              "      const buttonEl =\n",
              "        document.querySelector('#df-ee58ce25-ca91-4441-b68b-101664297dbc button.colab-df-convert');\n",
              "      buttonEl.style.display =\n",
              "        google.colab.kernel.accessAllowed ? 'block' : 'none';\n",
              "\n",
              "      async function convertToInteractive(key) {\n",
              "        const element = document.querySelector('#df-ee58ce25-ca91-4441-b68b-101664297dbc');\n",
              "        const dataTable =\n",
              "          await google.colab.kernel.invokeFunction('convertToInteractive',\n",
              "                                                    [key], {});\n",
              "        if (!dataTable) return;\n",
              "\n",
              "        const docLinkHtml = 'Like what you see? Visit the ' +\n",
              "          '<a target=\"_blank\" href=https://colab.research.google.com/notebooks/data_table.ipynb>data table notebook</a>'\n",
              "          + ' to learn more about interactive tables.';\n",
              "        element.innerHTML = '';\n",
              "        dataTable['output_type'] = 'display_data';\n",
              "        await google.colab.output.renderOutput(dataTable, element);\n",
              "        const docLink = document.createElement('div');\n",
              "        docLink.innerHTML = docLinkHtml;\n",
              "        element.appendChild(docLink);\n",
              "      }\n",
              "    </script>\n",
              "  </div>\n",
              "\n",
              "\n",
              "<div id=\"df-726372b1-01d5-45cc-91c3-c034ebcc2d2a\">\n",
              "  <button class=\"colab-df-quickchart\" onclick=\"quickchart('df-726372b1-01d5-45cc-91c3-c034ebcc2d2a')\"\n",
              "            title=\"Suggest charts\"\n",
              "            style=\"display:none;\">\n",
              "\n",
              "<svg xmlns=\"http://www.w3.org/2000/svg\" height=\"24px\"viewBox=\"0 0 24 24\"\n",
              "     width=\"24px\">\n",
              "    <g>\n",
              "        <path d=\"M19 3H5c-1.1 0-2 .9-2 2v14c0 1.1.9 2 2 2h14c1.1 0 2-.9 2-2V5c0-1.1-.9-2-2-2zM9 17H7v-7h2v7zm4 0h-2V7h2v10zm4 0h-2v-4h2v4z\"/>\n",
              "    </g>\n",
              "</svg>\n",
              "  </button>\n",
              "\n",
              "<style>\n",
              "  .colab-df-quickchart {\n",
              "      --bg-color: #E8F0FE;\n",
              "      --fill-color: #1967D2;\n",
              "      --hover-bg-color: #E2EBFA;\n",
              "      --hover-fill-color: #174EA6;\n",
              "      --disabled-fill-color: #AAA;\n",
              "      --disabled-bg-color: #DDD;\n",
              "  }\n",
              "\n",
              "  [theme=dark] .colab-df-quickchart {\n",
              "      --bg-color: #3B4455;\n",
              "      --fill-color: #D2E3FC;\n",
              "      --hover-bg-color: #434B5C;\n",
              "      --hover-fill-color: #FFFFFF;\n",
              "      --disabled-bg-color: #3B4455;\n",
              "      --disabled-fill-color: #666;\n",
              "  }\n",
              "\n",
              "  .colab-df-quickchart {\n",
              "    background-color: var(--bg-color);\n",
              "    border: none;\n",
              "    border-radius: 50%;\n",
              "    cursor: pointer;\n",
              "    display: none;\n",
              "    fill: var(--fill-color);\n",
              "    height: 32px;\n",
              "    padding: 0;\n",
              "    width: 32px;\n",
              "  }\n",
              "\n",
              "  .colab-df-quickchart:hover {\n",
              "    background-color: var(--hover-bg-color);\n",
              "    box-shadow: 0 1px 2px rgba(60, 64, 67, 0.3), 0 1px 3px 1px rgba(60, 64, 67, 0.15);\n",
              "    fill: var(--button-hover-fill-color);\n",
              "  }\n",
              "\n",
              "  .colab-df-quickchart-complete:disabled,\n",
              "  .colab-df-quickchart-complete:disabled:hover {\n",
              "    background-color: var(--disabled-bg-color);\n",
              "    fill: var(--disabled-fill-color);\n",
              "    box-shadow: none;\n",
              "  }\n",
              "\n",
              "  .colab-df-spinner {\n",
              "    border: 2px solid var(--fill-color);\n",
              "    border-color: transparent;\n",
              "    border-bottom-color: var(--fill-color);\n",
              "    animation:\n",
              "      spin 1s steps(1) infinite;\n",
              "  }\n",
              "\n",
              "  @keyframes spin {\n",
              "    0% {\n",
              "      border-color: transparent;\n",
              "      border-bottom-color: var(--fill-color);\n",
              "      border-left-color: var(--fill-color);\n",
              "    }\n",
              "    20% {\n",
              "      border-color: transparent;\n",
              "      border-left-color: var(--fill-color);\n",
              "      border-top-color: var(--fill-color);\n",
              "    }\n",
              "    30% {\n",
              "      border-color: transparent;\n",
              "      border-left-color: var(--fill-color);\n",
              "      border-top-color: var(--fill-color);\n",
              "      border-right-color: var(--fill-color);\n",
              "    }\n",
              "    40% {\n",
              "      border-color: transparent;\n",
              "      border-right-color: var(--fill-color);\n",
              "      border-top-color: var(--fill-color);\n",
              "    }\n",
              "    60% {\n",
              "      border-color: transparent;\n",
              "      border-right-color: var(--fill-color);\n",
              "    }\n",
              "    80% {\n",
              "      border-color: transparent;\n",
              "      border-right-color: var(--fill-color);\n",
              "      border-bottom-color: var(--fill-color);\n",
              "    }\n",
              "    90% {\n",
              "      border-color: transparent;\n",
              "      border-bottom-color: var(--fill-color);\n",
              "    }\n",
              "  }\n",
              "</style>\n",
              "\n",
              "  <script>\n",
              "    async function quickchart(key) {\n",
              "      const quickchartButtonEl =\n",
              "        document.querySelector('#' + key + ' button');\n",
              "      quickchartButtonEl.disabled = true;  // To prevent multiple clicks.\n",
              "      quickchartButtonEl.classList.add('colab-df-spinner');\n",
              "      try {\n",
              "        const charts = await google.colab.kernel.invokeFunction(\n",
              "            'suggestCharts', [key], {});\n",
              "      } catch (error) {\n",
              "        console.error('Error during call to suggestCharts:', error);\n",
              "      }\n",
              "      quickchartButtonEl.classList.remove('colab-df-spinner');\n",
              "      quickchartButtonEl.classList.add('colab-df-quickchart-complete');\n",
              "    }\n",
              "    (() => {\n",
              "      let quickchartButtonEl =\n",
              "        document.querySelector('#df-726372b1-01d5-45cc-91c3-c034ebcc2d2a button');\n",
              "      quickchartButtonEl.style.display =\n",
              "        google.colab.kernel.accessAllowed ? 'block' : 'none';\n",
              "    })();\n",
              "  </script>\n",
              "</div>\n",
              "    </div>\n",
              "  </div>\n"
            ]
          },
          "metadata": {},
          "execution_count": 10
        }
      ],
      "source": [
        "df"
      ]
    },
    {
      "cell_type": "code",
      "source": [
        "X=df['sentence']\n",
        "y=df['difficulty']"
      ],
      "metadata": {
        "id": "LGU8vdNtTRxC"
      },
      "execution_count": 11,
      "outputs": []
    },
    {
      "cell_type": "code",
      "source": [
        "X_train, X_test, y_train, y_test = train_test_split(X, y, test_size=0.2, random_state=42, shuffle=True)"
      ],
      "metadata": {
        "id": "aPHY2cFJZuYY"
      },
      "execution_count": 12,
      "outputs": []
    },
    {
      "cell_type": "markdown",
      "source": [
        "#####We create a spacy_tokenizer function to remove stop words in to remove some words who does not give more information in the sentence for exemple (in,a,or...)"
      ],
      "metadata": {
        "id": "uNnJgP2pi75c"
      }
    },
    {
      "cell_type": "code",
      "source": [
        "def spacy_tokenizer(sentence):\n",
        "\n",
        "    #punctuations = string.punctuation\n",
        "    #stop_words=['le','la','les','un','une','des','à','et','dans','dehors','droite','gauche']\n",
        "    stop_words = spacy.lang.fr.stop_words.STOP_WORDS\n",
        "\n",
        "    mytokens = sp(sentence)\n",
        "\n",
        "    mytokens = [ word.lemma_.lower().strip() if word.lemma_ != \"-PRON-\" else word.lower_ for word in mytokens ]\n",
        "\n",
        "    mytokens = [ word for word in mytokens if word not in stop_words ]\n",
        "\n",
        "    mytokens = [ word.replace('xx/', '').replace('xxxx/', '').replace('xx', '') for word in mytokens ]\n",
        "\n",
        "    mytokens = [ word for word in mytokens if word not in [\"xxxx\", \"xx\", \"\"] ]\n",
        "\n",
        "    return mytokens"
      ],
      "metadata": {
        "id": "A6IPwYyuPEOA"
      },
      "execution_count": 13,
      "outputs": []
    },
    {
      "cell_type": "markdown",
      "source": [
        "#####We decide also to compare the difference of stop words and will see later if there is an impact to let the stop words because by removing the stop words like \"Dorénavant\" or \"Néanmoins\" could impact a lot the level difficutly of a setence."
      ],
      "metadata": {
        "id": "A3XnVGNUlRIM"
      }
    },
    {
      "cell_type": "code",
      "source": [
        "stop_words_FR = spacy.lang.fr.stop_words.STOP_WORDS\n",
        "stop_words_EN=spacy.lang.en.stop_words.STOP_WORDS\n",
        "print(stop_words_FR)\n",
        "print(\"Number of stopwords in French: \"+str(len(stop_words_FR)))\n",
        "print(stop_words_EN)\n",
        "print(\"Number of stopwords in English: \"+str(len(stop_words_EN)))\n"
      ],
      "metadata": {
        "colab": {
          "base_uri": "https://localhost:8080/"
        },
        "id": "cLWZThpVnb14",
        "outputId": "5a4d157d-4a9b-4c0a-b5f1-4045f1fc99fd"
      },
      "execution_count": 26,
      "outputs": [
        {
          "output_type": "stream",
          "name": "stdout",
          "text": [
            "{'juste', 'avec', 'dits', 'précisement', 'quel', 'autres', 'celui-ci', 'était', 'semble', 'deja', 'font', 'très', 'deux', 'suivantes', 'tiens', 'le', 'jusque', 'préalable', 'directement', 'on', 'ouias', 'etant', 'votres', 'avaient', 'laquelle', 'na', 'sept', 'ouvert', 'moi', 'nôtres', 'sienne', 'avais', 'lesquelles', 'â', 'soit', 'sait', 'ce', 'sur', 'je', 'celui', 'seulement', 'étaient', 'ça', 'cette', 'dessus', 'd’', 'va', 'semblable', 'après', 'celui-la', 'vais', 'ha', 'différents', 'outre', 'cinquantaine', 'pendant', 'parce', 'si', 'premier', 'etais', 'desquelles', \"j'\", 'seules', 'suis', 'siennes', 'trente', 'une', 'te', 'restent', 'neanmoins', 'meme', 'différente', 'eu', 'suffisant', 'cinquième', 'par', 'revoici', 'y', 'déjà', 'concernant', 'tant', 'donc', 'hors', 'ceux-ci', \"n'\", 'importe', \"m'\", 'dix-sept', 'specifique', 'quatrième', 'avant', 'quelle', 'dix', 'souvent', 'maint', 'celle-ci', 'vu', 'elle', 'qu’', 'anterieure', 'elle-même', 'dont', 'soi', 'quoi', 'nul', 'certaine', 'faisaient', 'deuxième', 'pense', 'aie', 'plusieurs', 'suivant', 'auxquels', 'siens', 'devra', 'cent', 'ah', 'envers', 'quelconque', 'allons', \"s'\", 'toi-même', 'selon', 'antérieures', 'attendu', 'même', 'feront', 'rendre', 'stop', 'permet', 'douze', 'elles-mêmes', 'nos', 'seront', 'procedant', 'pourquoi', 'té', 'les', 'parfois', 'miens', 'voilà', 'proche', 'autre', 'quinze', 'toutes', 'miennes', 'lorsque', 'suffit', 'es', 'ou', 'devant', 'premièrement', 'quand', 'quatre', 'quels', 'parlent', 'suit', 'o', 'à', 'doit', 'diverse', 'toi-meme', 'touchant', 'chaque', \"quelqu'un\", 't’', 'seize', 'celles', 'debout', 'etc', 'spécifiques', 'étais', 'avait', 'quelques', 'façon', 'encore', 'eh', 'laisser', 's’', 'ouverts', 'mienne', 'dedans', 'quoique', 'tenant', 'toute', 'lui', 'désormais', 'des', 'lequel', 'douzième', 'mien', 'tes', 'suivante', 'puisque', 'da', 'gens', 'voici', 'ô', 'nous-mêmes', 'egalement', 'pour', 'ceux-là', 'hue', 'ne', 'étant', 'specifiques', 'differentes', 'desquels', 'different', 'environ', 'vas', 'basee', 'tien', 'dans', 'cinquante', 'mais', 'hep', 'tente', 'déja', 'tu', 'n’', 'eux-mêmes', 'm’', 'anterieures', 'celle-là', 'suivre', 'vingt', 'autrui', 'assez', 'parler', 'spécifique', 'tiennes', 'quant', 'etait', 'dessous', 'nouveau', 'quatorze', 'delà', 'auraient', 'votre', 'près', 'unes', 'divers', 'peu', 'que', 'cet', 'cinq', 'excepté', 'revoila', 'hui', 'depuis', 'là', 'ayant', 'differents', 'ouverte', 'aupres', 'revoilà', 'néanmoins', 'septième', 'ai', 'et', 'notamment', 'huitième', 'toujours', 'surtout', 'plus', 'suivants', 'seule', 'sans', 'etaient', 'prealable', 'leur', 'aurait', 'hormis', 'ma', 'huit', 'enfin', 'ceci', 'cependant', 'du', 'personne', 'ta', 'vers', 'nôtre', 'quelles', 'vôtre', 'il', \"d'\", 'pres', 'lors', 'ouste', 'seraient', 'soi-meme', 'mon', 'tend', 'uns', 'celles-là', 'comment', 'chez', 'celle-la', 'avons', 'effet', 'hou', 'afin', 'malgré', 'rend', 'quelque', 'memes', 'relative', 'pas', 'apres', 'possibles', 'se', 'hem', 'notre', 'nombreux', 'ainsi', 'seuls', 'celui-là', 'mêmes', 'sont', 'lès', 'relativement', 'parle', 'chacune', 'antérieur', 'différentes', 'antérieure', 'dehors', 'vous-mêmes', 'lesquels', 'faisant', \"t'\", 'voila', 'merci', 'tout', 'quatre-vingt', 'moi-meme', 'auxquelles', 'vous', 'moins', 'leurs', 'plutot', 'nous', 'durant', 'certaines', 'pourrais', 'vos', 'quant-à-soi', 'elles', 'certain', 'sien', 'la', 'car', 'aussi', 'i', \"l'\", 'première', 'puis', 'nombreuses', 'abord', 'dixième', 'elles-memes', 'six', 'plutôt', 'sa', 'pu', 'quiconque', 'quatrièmement', 'a', 'où', 'differente', 'ses', \"qu'\", 'tous', 'alors', 'ces', 'de', 'son', 'dejà', 'duquel', 'hé', 'aura', 'également', 'fais', 'auront', 'hi', 'houp', 'combien', 'ni', 'vont', 'celles-ci', 'as', 'derriere', 'moindres', 'semblent', 'tels', 'différent', 'cela', 'vé', 'serait', 'dès', 'tenir', 'tellement', 'avoir', 'restant', 'directe', 'dix-neuf', 'devers', 'precisement', 'tel', 'eux', 'sixième', 'moi-même', 'sinon', 'au', 'or', 'ton', 'ceux', 'sera', 'fait', 'via', 'trois', 'dit', 'longtemps', 'partant', 'desormais', 'onzième', 'malgre', 'sous', 'dix-huit', 'onze', 'facon', 'être', 'dire', 'c’', 'soixante', 'comme', 'etre', 'ils', 'pourrait', 'toi', 'mille', 'doivent', 'pouvait', 'treize', 'cinquantième', 'peuvent', 'lui-même', 'autrement', 'semblaient', 'bas', 'ont', 'maintenant', 'me', 'compris', 'celle', 'ès', 'exactement', 'tienne', 'aux', 'l’', 'possible', 'vôtres', 'diverses', 'sauf', 'dite', 'chacun', 'ait', 'en', 'derrière', 'retour', 'certes', 'lui-meme', 'seul', 'tres', 'est', 'troisièmement', 'bat', 'sent', 'mes', 'entre', 'ci', 'suffisante', 'telle', 'allaient', 'auquel', 'reste', 'deuxièmement', 'anterieur', 'celles-la', 'j’', 'certains', 'qui', 'ho', 'parmi', 'jusqu', 'neuvième', 'elle-meme', \"c'\", 'un', 'peux', 'quarante', 'troisième', 'telles', 'peut', 'soi-même'}\n",
            "Number of stopwords in French: 507\n",
            "{'because', 'ca', 'get', 'never', 'where', 'go', 'elsewhere', \"'d\", 'nor', 'latterly', 'for', 'amongst', 'fifty', '‘m', 'name', 'anyway', 'through', 'on', 'thru', '‘s', 'into', 'then', \"'m\", 'becomes', 'used', 'against', 'doing', 'rather', 'almost', 'nine', 'three', '’m', 'whither', 'might', 'serious', 'still', 'your', 'why', 'amount', 'under', 'will', 'see', 'say', 'whenever', 'next', 'indeed', '’s', 'than', 'such', 'other', 'using', 'throughout', 'had', 'becoming', 'part', 'even', 'anything', 'none', 'ten', 'further', 'an', 'make', 'within', 'sixty', 'being', 'herein', 'yourself', 'everything', 'who', 'eight', 'besides', 'however', 'my', 'whereupon', 'only', 'done', 'thus', 'hundred', 'were', 'various', 'due', 'third', 'ourselves', 'both', 'sometime', 'below', 'did', 'back', 'else', '’ll', 'with', 'their', 'over', 'was', 'this', 'until', 'thereafter', 'itself', 'unless', 'latter', 'her', 'put', 'everywhere', 'most', 'again', 'thereby', 'may', 'quite', 'no', 'now', 'he', 'yours', 'too', 'seem', 'two', 'each', 'him', 'fifteen', 'first', 'above', 'seems', 'without', 'since', 'any', 'cannot', 'same', 'anyone', 'thence', 'in', 'beyond', 'our', 'anywhere', 'whereafter', 'of', 'sometimes', 'least', 'could', 'forty', 'eleven', 'just', 'keep', 'also', 'whatever', 'hers', 'upon', 'mostly', 'one', 'less', 'last', 'onto', 'made', 'seemed', 'become', 'five', '‘re', 'always', 'many', 'whether', 'around', 'before', 'would', 'well', 'am', 'full', 'they', '‘ll', 'not', 'either', 'mine', 'really', 'should', 'former', 'between', 'yourselves', 'here', 'few', 'ours', 'have', 'hereafter', 'what', 'these', 'show', 'hereupon', 'anyhow', 'empty', 'themselves', 'his', 'whereby', 'alone', 'us', 'regarding', 'meanwhile', 'own', 'has', 'ever', 'seeming', 'but', \"'ll\", 'how', 'moreover', '’ve', 'across', 'nevertheless', 'nothing', '’re', 'so', 'been', 'per', 'nobody', 'thereupon', \"'ve\", 'though', 'its', 'i', 'formerly', 'there', 'n‘t', '‘d', 'up', 'somehow', \"'re\", 'six', 'except', 'toward', 'is', 'and', 'therefore', 'please', 'when', 'a', 'call', 'beforehand', 'others', 'front', 'more', 'move', 'very', 'n’t', 'after', 'from', 'by', 'those', 'twenty', 'herself', 'everyone', 'give', 'side', 'down', 'twelve', 'while', 'at', 'as', 'among', 'therein', 'himself', 'during', 'behind', 'whose', 'to', '’d', 'together', 'do', 'about', 'several', 'perhaps', 'can', 'became', 'be', 'all', 'otherwise', 'often', 'you', 'we', 'neither', 'towards', 'namely', 'that', 'or', 'if', 'which', 'yet', 'every', 'must', 'she', 'are', 'wherein', 'via', 'out', 're', 'whereas', 'somewhere', 'already', 'someone', 'enough', 'noone', 'another', 'myself', 'whom', 'although', 'hence', 'once', 'afterwards', 'whence', 'off', 'much', 'take', 'wherever', 'me', \"n't\", 'four', 'along', \"'s\", 'some', 'it', 'top', 'does', 'bottom', 'nowhere', 'beside', 'hereby', 'whoever', '‘ve', 'them', 'something', 'whole', 'the'}\n",
            "Number of stopwords in English: 326\n"
          ]
        }
      ]
    },
    {
      "cell_type": "markdown",
      "source": [],
      "metadata": {
        "id": "Da4jIA3ujSC9"
      }
    },
    {
      "cell_type": "markdown",
      "source": [
        "#####Here we create our classifier and our pipeline who will be use to train our model and see how our model is near of the true label"
      ],
      "metadata": {
        "id": "L4bKiXvhnpr_"
      }
    },
    {
      "cell_type": "code",
      "source": [
        "tfidf = TfidfVectorizer(sublinear_tf=True, min_df=5, norm='l2', encoding='UTF-8', ngram_range=(1, 2), tokenizer=spacy_tokenizer)\n",
        "\n",
        "# Define classifier\n",
        "classifier = LogisticRegression(solver='lbfgs', max_iter=1000)\n",
        "\n",
        "# Create pipeline\n",
        "pipe = Pipeline([('vectorizer', tfidf),\n",
        "                 ('classifier', classifier)])\n",
        "\n",
        "# Fit model on training set\n",
        "pipe.fit(X_train, y_train)"
      ],
      "metadata": {
        "colab": {
          "base_uri": "https://localhost:8080/",
          "height": 125
        },
        "id": "RIcg5LRoRAln",
        "outputId": "947017bf-03ab-4634-fc77-73eeae59f63f"
      },
      "execution_count": 30,
      "outputs": [
        {
          "output_type": "execute_result",
          "data": {
            "text/plain": [
              "Pipeline(steps=[('vectorizer',\n",
              "                 TfidfVectorizer(encoding='UTF-8', min_df=5, ngram_range=(1, 2),\n",
              "                                 sublinear_tf=True,\n",
              "                                 tokenizer=<function spacy_tokenizer at 0x78f1de04dea0>)),\n",
              "                ('classifier', LogisticRegression(max_iter=1000))])"
            ],
            "text/html": [
              "<style>#sk-container-id-2 {color: black;background-color: white;}#sk-container-id-2 pre{padding: 0;}#sk-container-id-2 div.sk-toggleable {background-color: white;}#sk-container-id-2 label.sk-toggleable__label {cursor: pointer;display: block;width: 100%;margin-bottom: 0;padding: 0.3em;box-sizing: border-box;text-align: center;}#sk-container-id-2 label.sk-toggleable__label-arrow:before {content: \"▸\";float: left;margin-right: 0.25em;color: #696969;}#sk-container-id-2 label.sk-toggleable__label-arrow:hover:before {color: black;}#sk-container-id-2 div.sk-estimator:hover label.sk-toggleable__label-arrow:before {color: black;}#sk-container-id-2 div.sk-toggleable__content {max-height: 0;max-width: 0;overflow: hidden;text-align: left;background-color: #f0f8ff;}#sk-container-id-2 div.sk-toggleable__content pre {margin: 0.2em;color: black;border-radius: 0.25em;background-color: #f0f8ff;}#sk-container-id-2 input.sk-toggleable__control:checked~div.sk-toggleable__content {max-height: 200px;max-width: 100%;overflow: auto;}#sk-container-id-2 input.sk-toggleable__control:checked~label.sk-toggleable__label-arrow:before {content: \"▾\";}#sk-container-id-2 div.sk-estimator input.sk-toggleable__control:checked~label.sk-toggleable__label {background-color: #d4ebff;}#sk-container-id-2 div.sk-label input.sk-toggleable__control:checked~label.sk-toggleable__label {background-color: #d4ebff;}#sk-container-id-2 input.sk-hidden--visually {border: 0;clip: rect(1px 1px 1px 1px);clip: rect(1px, 1px, 1px, 1px);height: 1px;margin: -1px;overflow: hidden;padding: 0;position: absolute;width: 1px;}#sk-container-id-2 div.sk-estimator {font-family: monospace;background-color: #f0f8ff;border: 1px dotted black;border-radius: 0.25em;box-sizing: border-box;margin-bottom: 0.5em;}#sk-container-id-2 div.sk-estimator:hover {background-color: #d4ebff;}#sk-container-id-2 div.sk-parallel-item::after {content: \"\";width: 100%;border-bottom: 1px solid gray;flex-grow: 1;}#sk-container-id-2 div.sk-label:hover label.sk-toggleable__label {background-color: #d4ebff;}#sk-container-id-2 div.sk-serial::before {content: \"\";position: absolute;border-left: 1px solid gray;box-sizing: border-box;top: 0;bottom: 0;left: 50%;z-index: 0;}#sk-container-id-2 div.sk-serial {display: flex;flex-direction: column;align-items: center;background-color: white;padding-right: 0.2em;padding-left: 0.2em;position: relative;}#sk-container-id-2 div.sk-item {position: relative;z-index: 1;}#sk-container-id-2 div.sk-parallel {display: flex;align-items: stretch;justify-content: center;background-color: white;position: relative;}#sk-container-id-2 div.sk-item::before, #sk-container-id-2 div.sk-parallel-item::before {content: \"\";position: absolute;border-left: 1px solid gray;box-sizing: border-box;top: 0;bottom: 0;left: 50%;z-index: -1;}#sk-container-id-2 div.sk-parallel-item {display: flex;flex-direction: column;z-index: 1;position: relative;background-color: white;}#sk-container-id-2 div.sk-parallel-item:first-child::after {align-self: flex-end;width: 50%;}#sk-container-id-2 div.sk-parallel-item:last-child::after {align-self: flex-start;width: 50%;}#sk-container-id-2 div.sk-parallel-item:only-child::after {width: 0;}#sk-container-id-2 div.sk-dashed-wrapped {border: 1px dashed gray;margin: 0 0.4em 0.5em 0.4em;box-sizing: border-box;padding-bottom: 0.4em;background-color: white;}#sk-container-id-2 div.sk-label label {font-family: monospace;font-weight: bold;display: inline-block;line-height: 1.2em;}#sk-container-id-2 div.sk-label-container {text-align: center;}#sk-container-id-2 div.sk-container {/* jupyter's `normalize.less` sets `[hidden] { display: none; }` but bootstrap.min.css set `[hidden] { display: none !important; }` so we also need the `!important` here to be able to override the default hidden behavior on the sphinx rendered scikit-learn.org. See: https://github.com/scikit-learn/scikit-learn/issues/21755 */display: inline-block !important;position: relative;}#sk-container-id-2 div.sk-text-repr-fallback {display: none;}</style><div id=\"sk-container-id-2\" class=\"sk-top-container\"><div class=\"sk-text-repr-fallback\"><pre>Pipeline(steps=[(&#x27;vectorizer&#x27;,\n",
              "                 TfidfVectorizer(encoding=&#x27;UTF-8&#x27;, min_df=5, ngram_range=(1, 2),\n",
              "                                 sublinear_tf=True,\n",
              "                                 tokenizer=&lt;function spacy_tokenizer at 0x78f1de04dea0&gt;)),\n",
              "                (&#x27;classifier&#x27;, LogisticRegression(max_iter=1000))])</pre><b>In a Jupyter environment, please rerun this cell to show the HTML representation or trust the notebook. <br />On GitHub, the HTML representation is unable to render, please try loading this page with nbviewer.org.</b></div><div class=\"sk-container\" hidden><div class=\"sk-item sk-dashed-wrapped\"><div class=\"sk-label-container\"><div class=\"sk-label sk-toggleable\"><input class=\"sk-toggleable__control sk-hidden--visually\" id=\"sk-estimator-id-4\" type=\"checkbox\" ><label for=\"sk-estimator-id-4\" class=\"sk-toggleable__label sk-toggleable__label-arrow\">Pipeline</label><div class=\"sk-toggleable__content\"><pre>Pipeline(steps=[(&#x27;vectorizer&#x27;,\n",
              "                 TfidfVectorizer(encoding=&#x27;UTF-8&#x27;, min_df=5, ngram_range=(1, 2),\n",
              "                                 sublinear_tf=True,\n",
              "                                 tokenizer=&lt;function spacy_tokenizer at 0x78f1de04dea0&gt;)),\n",
              "                (&#x27;classifier&#x27;, LogisticRegression(max_iter=1000))])</pre></div></div></div><div class=\"sk-serial\"><div class=\"sk-item\"><div class=\"sk-estimator sk-toggleable\"><input class=\"sk-toggleable__control sk-hidden--visually\" id=\"sk-estimator-id-5\" type=\"checkbox\" ><label for=\"sk-estimator-id-5\" class=\"sk-toggleable__label sk-toggleable__label-arrow\">TfidfVectorizer</label><div class=\"sk-toggleable__content\"><pre>TfidfVectorizer(encoding=&#x27;UTF-8&#x27;, min_df=5, ngram_range=(1, 2),\n",
              "                sublinear_tf=True,\n",
              "                tokenizer=&lt;function spacy_tokenizer at 0x78f1de04dea0&gt;)</pre></div></div></div><div class=\"sk-item\"><div class=\"sk-estimator sk-toggleable\"><input class=\"sk-toggleable__control sk-hidden--visually\" id=\"sk-estimator-id-6\" type=\"checkbox\" ><label for=\"sk-estimator-id-6\" class=\"sk-toggleable__label sk-toggleable__label-arrow\">LogisticRegression</label><div class=\"sk-toggleable__content\"><pre>LogisticRegression(max_iter=1000)</pre></div></div></div></div></div></div></div>"
            ]
          },
          "metadata": {},
          "execution_count": 30
        }
      ]
    },
    {
      "cell_type": "markdown",
      "source": [
        "#####We predict the sentences of our true label to see how far we are from the true difficulty level label"
      ],
      "metadata": {
        "id": "RrXFDSXmp8kC"
      }
    },
    {
      "cell_type": "code",
      "source": [
        "y_pred = pipe.predict(X_test)"
      ],
      "metadata": {
        "id": "E-Fn9Q0pTIlO"
      },
      "execution_count": 31,
      "outputs": []
    },
    {
      "cell_type": "code",
      "source": [
        "y_pred"
      ],
      "metadata": {
        "colab": {
          "base_uri": "https://localhost:8080/"
        },
        "id": "ss5dFzm_Tg8u",
        "outputId": "1956dd23-3f14-4b6b-923e-3d363269f8be"
      },
      "execution_count": null,
      "outputs": [
        {
          "output_type": "execute_result",
          "data": {
            "text/plain": [
              "array(['A1', 'A1', 'C2', 'B1', 'A2', 'C2', 'A1', 'A2', 'A2', 'B2', 'A1',\n",
              "       'A2', 'B2', 'B2', 'C2', 'C2', 'A2', 'C2', 'A1', 'A1', 'B1', 'C1',\n",
              "       'A2', 'C1', 'A1', 'B1', 'A2', 'A1', 'C2', 'A1', 'B2', 'B2', 'B1',\n",
              "       'B1', 'A2', 'B2', 'A2', 'B2', 'C1', 'A2', 'C2', 'C2', 'C2', 'A2',\n",
              "       'B1', 'B1', 'A1', 'B2', 'C1', 'C1', 'B2', 'A2', 'C2', 'A1', 'C1',\n",
              "       'A2', 'B2', 'C2', 'A2', 'B1', 'C1', 'C2', 'A1', 'C2', 'C1', 'C1',\n",
              "       'C2', 'A2', 'C1', 'B1', 'C2', 'B2', 'A2', 'B2', 'A2', 'C2', 'A1',\n",
              "       'A1', 'A1', 'A1', 'A2', 'C1', 'C1', 'C2', 'C1', 'A1', 'A1', 'C2',\n",
              "       'C2', 'A1', 'C2', 'C2', 'C1', 'A1', 'B1', 'B1', 'A2', 'A2', 'B1',\n",
              "       'B2', 'C2', 'C2', 'A1', 'A1', 'B1', 'A1', 'B1', 'B1', 'B1', 'B1',\n",
              "       'C1', 'A2', 'A2', 'A1', 'B2', 'A2', 'C1', 'B2', 'B1', 'A1', 'A1',\n",
              "       'A1', 'B1', 'C2', 'B2', 'A2', 'C1', 'C2', 'A1', 'B1', 'C1', 'C1',\n",
              "       'A1', 'A1', 'A1', 'C2', 'C1', 'A2', 'A1', 'B2', 'A2', 'B2', 'B1',\n",
              "       'B2', 'A1', 'A2', 'C2', 'A2', 'A2', 'C1', 'B1', 'C2', 'B2', 'C2',\n",
              "       'C2', 'C1', 'C1', 'B1', 'C1', 'C2', 'A2', 'B2', 'A2', 'C1', 'C2',\n",
              "       'A2', 'A1', 'A2', 'C2', 'B1', 'B1', 'C2', 'C1', 'A2', 'C1', 'A2',\n",
              "       'B2', 'C2', 'B1', 'C1', 'C1', 'A1', 'C1', 'C2', 'C2', 'B1', 'A1',\n",
              "       'C1', 'C1', 'C1', 'A1', 'C2', 'C1', 'C2', 'B1', 'A1', 'B1', 'B1',\n",
              "       'C2', 'C1', 'A2', 'B1', 'B1', 'A2', 'A1', 'C1', 'A2', 'A1', 'B2',\n",
              "       'A1', 'C2', 'A2', 'C1', 'B2', 'A1', 'A1', 'B1', 'A2', 'B1', 'A1',\n",
              "       'A1', 'B1', 'B2', 'A1', 'A1', 'A1', 'C1', 'C1', 'C2', 'C2', 'C1',\n",
              "       'A1', 'C2', 'C1', 'C2', 'C2', 'C1', 'C1', 'A2', 'C2', 'A1', 'A1',\n",
              "       'C2', 'C2', 'A1', 'C2', 'A2', 'C2', 'C1', 'C2', 'B1', 'C2', 'A1',\n",
              "       'A1', 'A2', 'B1', 'B2', 'B1', 'C2', 'C1', 'B1', 'C2', 'B1', 'C1',\n",
              "       'A2', 'C1', 'A1', 'B1', 'A1', 'A1', 'C2', 'A1', 'C2', 'A2', 'A1',\n",
              "       'B1', 'C2', 'C1', 'A1', 'C2', 'C1', 'C1', 'C1', 'A2', 'A1', 'C1',\n",
              "       'B1', 'B1', 'A2', 'C1', 'A2', 'B1', 'C1', 'B2', 'B1', 'A2', 'B2',\n",
              "       'A2', 'C1', 'B2', 'A1', 'A1', 'A2', 'B2', 'B2', 'C1', 'A2', 'C2',\n",
              "       'A2', 'B1', 'A2', 'C1', 'C1', 'A2', 'B1', 'B2', 'A2', 'A1', 'B2',\n",
              "       'C2', 'B2', 'A2', 'B1', 'B1', 'C1', 'B1', 'C2', 'B1', 'A1', 'A2',\n",
              "       'B1', 'B1', 'A2', 'C2', 'B2', 'A1', 'C1', 'A2', 'A2', 'C2', 'C1',\n",
              "       'A1', 'B2', 'C2', 'B1', 'C1', 'B2', 'C1', 'B1', 'C1', 'A2', 'C2',\n",
              "       'A1', 'C2', 'B2', 'A1', 'A1', 'A1', 'A2', 'B2', 'B2', 'B2', 'B1',\n",
              "       'B1', 'A2', 'B2', 'B1', 'C2', 'A1', 'A2', 'A1', 'A2', 'A2', 'C2',\n",
              "       'A1', 'C2', 'B2', 'C2', 'B2', 'C2', 'C2', 'B2', 'A2', 'A1', 'A2',\n",
              "       'A1', 'B1', 'C2', 'C2', 'B2', 'C2', 'C1', 'B1', 'A1', 'A1', 'A1',\n",
              "       'C1', 'B1', 'B2', 'A2', 'C1', 'B2', 'C2', 'B2', 'A2', 'B1', 'B1',\n",
              "       'C2', 'A2', 'C2', 'C1', 'C2', 'A2', 'C2', 'B2', 'B2', 'C1', 'C1',\n",
              "       'C2', 'B2', 'C2', 'B2', 'A2', 'C2', 'C2', 'B2', 'C2', 'A1', 'A2',\n",
              "       'B1', 'C2', 'A1', 'C1', 'C1', 'C2', 'A1', 'A1', 'C1', 'C1', 'B1',\n",
              "       'A1', 'A1', 'A2', 'A2', 'B2', 'B2', 'A2', 'C1', 'A2', 'B2', 'B1',\n",
              "       'A2', 'A2', 'A2', 'A2', 'A2', 'C1', 'A2', 'A2', 'A1', 'A1', 'A1',\n",
              "       'C1', 'A1', 'A1', 'A1', 'A2', 'A1', 'C2', 'C1', 'A2', 'C1', 'C2',\n",
              "       'A1', 'C2', 'C2', 'C1', 'C1', 'C2', 'B1', 'A1', 'B2', 'B1', 'C1',\n",
              "       'A1', 'C2', 'A1', 'B1', 'A2', 'A2', 'A2', 'C2', 'C1', 'C1', 'C2',\n",
              "       'C1', 'A2', 'B1', 'A2', 'A1', 'A2', 'C1', 'C1', 'B1', 'A1', 'A1',\n",
              "       'A2', 'A1', 'B2', 'C1', 'C2', 'B1', 'B1', 'B2', 'B2', 'A1', 'C2',\n",
              "       'B1', 'A2', 'C2', 'C1', 'A1', 'B2', 'C2', 'B2', 'C1', 'C1', 'A1',\n",
              "       'C2', 'A1', 'C2', 'B2', 'B1', 'C1', 'A1', 'C1', 'A1', 'B2', 'A2',\n",
              "       'C2', 'A2', 'C2', 'B1', 'B1', 'A2', 'C1', 'B2', 'A2', 'B2', 'B1',\n",
              "       'B1', 'A1', 'C2', 'B2', 'A1', 'A1', 'A1', 'B1', 'A1', 'B1', 'C1',\n",
              "       'C1', 'B2', 'A2', 'A1', 'C2', 'A2', 'C1', 'B1', 'B2', 'C1', 'C2',\n",
              "       'A1', 'A1', 'C1', 'C1', 'B2', 'B2', 'A1', 'B2', 'C1', 'C1', 'C2',\n",
              "       'A2', 'A2', 'C2', 'C2', 'B2', 'A1', 'C1', 'B1', 'C1', 'B1', 'A2',\n",
              "       'C1', 'A1', 'A2', 'C2', 'C2', 'C2', 'A2', 'B2', 'B1', 'C1', 'C1',\n",
              "       'C1', 'C1', 'A1', 'C2', 'C2', 'A1', 'C1', 'C2', 'B1', 'A2', 'B1',\n",
              "       'A2', 'B2', 'A1', 'A1', 'C2', 'A1', 'B2', 'C1', 'A2', 'A2', 'C2',\n",
              "       'C2', 'C1', 'C2', 'A1', 'B1', 'C2', 'C1', 'C2', 'A1', 'C1', 'C1',\n",
              "       'C2', 'B2', 'A2', 'C1', 'B1', 'A2', 'B1', 'B1', 'A2', 'C1', 'A1',\n",
              "       'A2', 'C1', 'A2', 'C1', 'C2', 'B2', 'A2', 'C1', 'A1', 'C2', 'A2',\n",
              "       'A2', 'A1', 'B1', 'B1', 'B1', 'B2', 'A1', 'C1', 'B2', 'B1', 'C1',\n",
              "       'A1', 'C1', 'B2', 'C2', 'B1', 'A1', 'A1', 'B1', 'A2', 'C1', 'A1',\n",
              "       'C1', 'A1', 'C1', 'B2', 'A2', 'A1', 'B1', 'B1', 'C2', 'B1', 'B1',\n",
              "       'A1', 'B2', 'C2', 'B1', 'B2', 'C2', 'A1', 'C1', 'B1', 'C2', 'C1',\n",
              "       'C2', 'A2', 'A1', 'B2', 'A1', 'C2', 'A1', 'B1', 'C2', 'B1', 'B2',\n",
              "       'B2', 'C2', 'C2', 'B2', 'B2', 'B2', 'A2', 'C2', 'A2', 'C1', 'B2',\n",
              "       'C2', 'A2', 'C2', 'B1', 'A1', 'C1', 'A2', 'C1', 'A2', 'A2', 'C1',\n",
              "       'A1', 'C2', 'A2', 'A1', 'B1', 'C1', 'A1', 'B2', 'A2', 'B2', 'A1',\n",
              "       'A1', 'B1', 'A2', 'A1', 'C1', 'A1', 'A1', 'B2', 'C1', 'C1', 'A1',\n",
              "       'C2', 'A1', 'B2', 'C2', 'B1', 'B1', 'A1', 'C1', 'B2', 'B2', 'A1',\n",
              "       'B2', 'A1', 'C2', 'C1', 'B1', 'C2', 'A1', 'C2', 'A1', 'C2', 'A2',\n",
              "       'C2', 'C1', 'A2', 'B1', 'A1', 'C2', 'C1', 'A1', 'B1', 'A1', 'C1',\n",
              "       'C2', 'A2', 'B2', 'B1', 'B2', 'A2', 'C1', 'A1', 'C1', 'A1', 'A2',\n",
              "       'B2', 'B1', 'B2', 'A2', 'A1', 'A1', 'C1', 'C2', 'A2', 'B2', 'C2',\n",
              "       'C1', 'C1', 'A1', 'B1', 'A1', 'C1', 'A1', 'C1', 'A1', 'C2', 'B1',\n",
              "       'B1', 'A2', 'C2', 'C1', 'A2', 'A1', 'A1', 'A2', 'B1', 'A1', 'A1',\n",
              "       'C2', 'A1', 'B1', 'A1', 'C1', 'C2', 'B1', 'B1', 'A2', 'C2', 'A2',\n",
              "       'A2', 'B2', 'B1', 'A2', 'B2', 'C1', 'C1', 'A1', 'C2', 'B2', 'A1',\n",
              "       'B1', 'C2', 'A2', 'A1', 'B2', 'C1', 'B1', 'C1', 'B2', 'A2', 'A1',\n",
              "       'A2', 'B2', 'A2', 'B2', 'B1', 'B2', 'B1', 'C1', 'A2', 'A1', 'B2',\n",
              "       'A2', 'B1', 'A2', 'A2', 'A1', 'C1', 'C1', 'A2', 'A2', 'A1', 'B1',\n",
              "       'B2', 'B1', 'A2', 'B2', 'A1', 'C1', 'C1', 'C1', 'C2', 'B1', 'C2',\n",
              "       'A2', 'A1', 'B2', 'C1', 'C1', 'C2', 'C2', 'C1', 'A2', 'C2', 'A1',\n",
              "       'A1', 'C2', 'A1', 'A2', 'C2', 'A1', 'C1', 'B1', 'A2', 'B1', 'A1',\n",
              "       'C1', 'B1', 'A1', 'B1', 'A1', 'C2', 'B2', 'C2', 'C1', 'A1', 'A1',\n",
              "       'A1', 'B2', 'B2', 'A2', 'A1', 'A1', 'C1', 'C2', 'C1', 'B2', 'A2',\n",
              "       'C1', 'B2', 'A1', 'A1', 'C1', 'C2', 'C2', 'A1', 'A2', 'A2', 'C1',\n",
              "       'C2', 'C2', 'C1'], dtype=object)"
            ]
          },
          "metadata": {},
          "execution_count": 183
        }
      ]
    },
    {
      "cell_type": "markdown",
      "source": [
        "######Then we calculate different metrics to some figures to see how good is our model"
      ],
      "metadata": {
        "id": "Nr_H3DRQqaWt"
      }
    },
    {
      "cell_type": "code",
      "source": [
        "accuracy_tfidf = round(accuracy_score(y_test, y_pred), 4)\n",
        "precision_tfidf = round(precision_score(y_test, y_pred, average='macro'),4)\n",
        "recall_tfidf = round(recall_score(y_test, y_pred, average='macro'),4)\n",
        "f1_tfidf = round(f1_score(y_test, y_pred, average='macro'),4)\n",
        "print(f'The accuracy using TF-IDF is: {accuracy_tfidf}')\n",
        "print(f'The precision using TF-IDF is: {precision_tfidf}')\n",
        "print(f'The recall using TF-IDF is: {recall_tfidf}')\n",
        "print(f'The f1 score using TF-IDF is: {f1_tfidf}')"
      ],
      "metadata": {
        "colab": {
          "base_uri": "https://localhost:8080/"
        },
        "id": "L4XAso33TlAc",
        "outputId": "86c0a730-6f62-4f61-97c4-1deef0301162"
      },
      "execution_count": 37,
      "outputs": [
        {
          "output_type": "stream",
          "name": "stdout",
          "text": [
            "The accuracy using TF-IDF is: 0.3948\n",
            "The precision using TF-IDF is: 0.3917\n",
            "The recall using TF-IDF is: 0.3938\n",
            "The f1 score using TF-IDF is: 0.3908\n"
          ]
        }
      ]
    },
    {
      "cell_type": "markdown",
      "source": [
        "#####And now we will see the confusion matrix of our model"
      ],
      "metadata": {
        "id": "oYPSQPZ-rV7M"
      }
    },
    {
      "cell_type": "code",
      "source": [
        "conf_matrix = confusion_matrix(y_test, y_pred)\n",
        "difficulty_labels=[\"A1\",\"A2\",\"B1\",\"B2\",\"C1\",\"C2\"]\n",
        "sns.heatmap(conf_matrix, annot=True, fmt='g',xticklabels=difficulty_labels,yticklabels=difficulty_labels,cmap=\"Greens\")\n",
        "plt.xlabel('Predicted difficulty levels')\n",
        "plt.ylabel('True difficulty levels')\n",
        "plt.title('Confusion matrix')\n",
        "plt.show()"
      ],
      "metadata": {
        "colab": {
          "base_uri": "https://localhost:8080/",
          "height": 472
        },
        "id": "nvtTwGXlshQu",
        "outputId": "4790dcf0-5475-43b8-df82-6a08e5321216"
      },
      "execution_count": 59,
      "outputs": [
        {
          "output_type": "display_data",
          "data": {
            "text/plain": [
              "<Figure size 640x480 with 2 Axes>"
            ],
            "image/png": "[encoded data removed]"
          },
          "metadata": {}
        }
      ]
    },
    {
      "cell_type": "markdown",
      "source": [
        "##Prediction"
      ],
      "metadata": {
        "id": "1hl-GaHurkmh"
      }
    },
    {
      "cell_type": "code",
      "execution_count": 64,
      "metadata": {
        "colab": {
          "base_uri": "https://localhost:8080/",
          "height": 455
        },
        "id": "7G75Q1gRj49l",
        "outputId": "b912df99-96d4-4281-f539-2cdccf71ef1e"
      },
      "outputs": [
        {
          "output_type": "execute_result",
          "data": {
            "text/plain": [
              "                                               sentence\n",
              "id                                                     \n",
              "0     Nous dûmes nous excuser des propos que nous eû...\n",
              "1     Vous ne pouvez pas savoir le plaisir que j'ai ...\n",
              "2     Et, paradoxalement, boire froid n'est pas la b...\n",
              "3     Ce n'est pas étonnant, car c'est une saison my...\n",
              "4     Le corps de Golo lui-même, d'une essence aussi...\n",
              "...                                                 ...\n",
              "1195  C'est un phénomène qui trouve une accélération...\n",
              "1196  Je vais parler au serveur et voir si on peut d...\n",
              "1197  Il n'était pas comme tant de gens qui par pare...\n",
              "1198      Ils deviennent dangereux pour notre économie.\n",
              "1199  Son succès a généré beaucoup de réactions néga...\n",
              "\n",
              "[1200 rows x 1 columns]"
            ],
            "text/html": [
              "\n",
              "  <div id=\"df-bb0303c2-b21d-4e6a-9659-27333de36a95\" class=\"colab-df-container\">\n",
              "    <div>\n",
              "<style scoped>\n",
              "    .dataframe tbody tr th:only-of-type {\n",
              "        vertical-align: middle;\n",
              "    }\n",
              "\n",
              "    .dataframe tbody tr th {\n",
              "        vertical-align: top;\n",
              "    }\n",
              "\n",
              "    .dataframe thead th {\n",
              "        text-align: right;\n",
              "    }\n",
              "</style>\n",
              "<table border=\"1\" class=\"dataframe\">\n",
              "  <thead>\n",
              "    <tr style=\"text-align: right;\">\n",
              "      <th></th>\n",
              "      <th>sentence</th>\n",
              "    </tr>\n",
              "    <tr>\n",
              "      <th>id</th>\n",
              "      <th></th>\n",
              "    </tr>\n",
              "  </thead>\n",
              "  <tbody>\n",
              "    <tr>\n",
              "      <th>0</th>\n",
              "      <td>Nous dûmes nous excuser des propos que nous eû...</td>\n",
              "    </tr>\n",
              "    <tr>\n",
              "      <th>1</th>\n",
              "      <td>Vous ne pouvez pas savoir le plaisir que j'ai ...</td>\n",
              "    </tr>\n",
              "    <tr>\n",
              "      <th>2</th>\n",
              "      <td>Et, paradoxalement, boire froid n'est pas la b...</td>\n",
              "    </tr>\n",
              "    <tr>\n",
              "      <th>3</th>\n",
              "      <td>Ce n'est pas étonnant, car c'est une saison my...</td>\n",
              "    </tr>\n",
              "    <tr>\n",
              "      <th>4</th>\n",
              "      <td>Le corps de Golo lui-même, d'une essence aussi...</td>\n",
              "    </tr>\n",
              "    <tr>\n",
              "      <th>...</th>\n",
              "      <td>...</td>\n",
              "    </tr>\n",
              "    <tr>\n",
              "      <th>1195</th>\n",
              "      <td>C'est un phénomène qui trouve une accélération...</td>\n",
              "    </tr>\n",
              "    <tr>\n",
              "      <th>1196</th>\n",
              "      <td>Je vais parler au serveur et voir si on peut d...</td>\n",
              "    </tr>\n",
              "    <tr>\n",
              "      <th>1197</th>\n",
              "      <td>Il n'était pas comme tant de gens qui par pare...</td>\n",
              "    </tr>\n",
              "    <tr>\n",
              "      <th>1198</th>\n",
              "      <td>Ils deviennent dangereux pour notre économie.</td>\n",
              "    </tr>\n",
              "    <tr>\n",
              "      <th>1199</th>\n",
              "      <td>Son succès a généré beaucoup de réactions néga...</td>\n",
              "    </tr>\n",
              "  </tbody>\n",
              "</table>\n",
              "<p>1200 rows × 1 columns</p>\n",
              "</div>\n",
              "    <div class=\"colab-df-buttons\">\n",
              "\n",
              "  <div class=\"colab-df-container\">\n",
              "    <button class=\"colab-df-convert\" onclick=\"convertToInteractive('df-bb0303c2-b21d-4e6a-9659-27333de36a95')\"\n",
              "            title=\"Convert this dataframe to an interactive table.\"\n",
              "            style=\"display:none;\">\n",
              "\n",
              "  <svg xmlns=\"http://www.w3.org/2000/svg\" height=\"24px\" viewBox=\"0 -960 960 960\">\n",
              "    <path d=\"M120-120v-720h720v720H120Zm60-500h600v-160H180v160Zm220 220h160v-160H400v160Zm0 220h160v-160H400v160ZM180-400h160v-160H180v160Zm440 0h160v-160H620v160ZM180-180h160v-160H180v160Zm440 0h160v-160H620v160Z\"/>\n",
              "  </svg>\n",
              "    </button>\n",
              "\n",
              "  <style>\n",
              "    .colab-df-container {\n",
              "      display:flex;\n",
              "      gap: 12px;\n",
              "    }\n",
              "\n",
              "    .colab-df-convert {\n",
              "      background-color: #E8F0FE;\n",
              "      border: none;\n",
              "      border-radius: 50%;\n",
              "      cursor: pointer;\n",
              "      display: none;\n",
              "      fill: #1967D2;\n",
              "      height: 32px;\n",
              "      padding: 0 0 0 0;\n",
              "      width: 32px;\n",
              "    }\n",
              "\n",
              "    .colab-df-convert:hover {\n",
              "      background-color: #E2EBFA;\n",
              "      box-shadow: 0px 1px 2px rgba(60, 64, 67, 0.3), 0px 1px 3px 1px rgba(60, 64, 67, 0.15);\n",
              "      fill: #174EA6;\n",
              "    }\n",
              "\n",
              "    .colab-df-buttons div {\n",
              "      margin-bottom: 4px;\n",
              "    }\n",
              "\n",
              "    [theme=dark] .colab-df-convert {\n",
              "      background-color: #3B4455;\n",
              "      fill: #D2E3FC;\n",
              "    }\n",
              "\n",
              "    [theme=dark] .colab-df-convert:hover {\n",
              "      background-color: #434B5C;\n",
              "      box-shadow: 0px 1px 3px 1px rgba(0, 0, 0, 0.15);\n",
              "      filter: drop-shadow(0px 1px 2px rgba(0, 0, 0, 0.3));\n",
              "      fill: #FFFFFF;\n",
              "    }\n",
              "  </style>\n",
              "\n",
              "    <script>\n",
              "      const buttonEl =\n",
              "        document.querySelector('#df-bb0303c2-b21d-4e6a-9659-27333de36a95 button.colab-df-convert');\n",
              "      buttonEl.style.display =\n",
              "        google.colab.kernel.accessAllowed ? 'block' : 'none';\n",
              "\n",
              "      async function convertToInteractive(key) {\n",
              "        const element = document.querySelector('#df-bb0303c2-b21d-4e6a-9659-27333de36a95');\n",
              "        const dataTable =\n",
              "          await google.colab.kernel.invokeFunction('convertToInteractive',\n",
              "                                                    [key], {});\n",
              "        if (!dataTable) return;\n",
              "\n",
              "        const docLinkHtml = 'Like what you see? Visit the ' +\n",
              "          '<a target=\"_blank\" href=https://colab.research.google.com/notebooks/data_table.ipynb>data table notebook</a>'\n",
              "          + ' to learn more about interactive tables.';\n",
              "        element.innerHTML = '';\n",
              "        dataTable['output_type'] = 'display_data';\n",
              "        await google.colab.output.renderOutput(dataTable, element);\n",
              "        const docLink = document.createElement('div');\n",
              "        docLink.innerHTML = docLinkHtml;\n",
              "        element.appendChild(docLink);\n",
              "      }\n",
              "    </script>\n",
              "  </div>\n",
              "\n",
              "\n",
              "<div id=\"df-f3b7b6f4-b4d4-46d2-bd69-da2cd123750e\">\n",
              "  <button class=\"colab-df-quickchart\" onclick=\"quickchart('df-f3b7b6f4-b4d4-46d2-bd69-da2cd123750e')\"\n",
              "            title=\"Suggest charts\"\n",
              "            style=\"display:none;\">\n",
              "\n",
              "<svg xmlns=\"http://www.w3.org/2000/svg\" height=\"24px\"viewBox=\"0 0 24 24\"\n",
              "     width=\"24px\">\n",
              "    <g>\n",
              "        <path d=\"M19 3H5c-1.1 0-2 .9-2 2v14c0 1.1.9 2 2 2h14c1.1 0 2-.9 2-2V5c0-1.1-.9-2-2-2zM9 17H7v-7h2v7zm4 0h-2V7h2v10zm4 0h-2v-4h2v4z\"/>\n",
              "    </g>\n",
              "</svg>\n",
              "  </button>\n",
              "\n",
              "<style>\n",
              "  .colab-df-quickchart {\n",
              "      --bg-color: #E8F0FE;\n",
              "      --fill-color: #1967D2;\n",
              "      --hover-bg-color: #E2EBFA;\n",
              "      --hover-fill-color: #174EA6;\n",
              "      --disabled-fill-color: #AAA;\n",
              "      --disabled-bg-color: #DDD;\n",
              "  }\n",
              "\n",
              "  [theme=dark] .colab-df-quickchart {\n",
              "      --bg-color: #3B4455;\n",
              "      --fill-color: #D2E3FC;\n",
              "      --hover-bg-color: #434B5C;\n",
              "      --hover-fill-color: #FFFFFF;\n",
              "      --disabled-bg-color: #3B4455;\n",
              "      --disabled-fill-color: #666;\n",
              "  }\n",
              "\n",
              "  .colab-df-quickchart {\n",
              "    background-color: var(--bg-color);\n",
              "    border: none;\n",
              "    border-radius: 50%;\n",
              "    cursor: pointer;\n",
              "    display: none;\n",
              "    fill: var(--fill-color);\n",
              "    height: 32px;\n",
              "    padding: 0;\n",
              "    width: 32px;\n",
              "  }\n",
              "\n",
              "  .colab-df-quickchart:hover {\n",
              "    background-color: var(--hover-bg-color);\n",
              "    box-shadow: 0 1px 2px rgba(60, 64, 67, 0.3), 0 1px 3px 1px rgba(60, 64, 67, 0.15);\n",
              "    fill: var(--button-hover-fill-color);\n",
              "  }\n",
              "\n",
              "  .colab-df-quickchart-complete:disabled,\n",
              "  .colab-df-quickchart-complete:disabled:hover {\n",
              "    background-color: var(--disabled-bg-color);\n",
              "    fill: var(--disabled-fill-color);\n",
              "    box-shadow: none;\n",
              "  }\n",
              "\n",
              "  .colab-df-spinner {\n",
              "    border: 2px solid var(--fill-color);\n",
              "    border-color: transparent;\n",
              "    border-bottom-color: var(--fill-color);\n",
              "    animation:\n",
              "      spin 1s steps(1) infinite;\n",
              "  }\n",
              "\n",
              "  @keyframes spin {\n",
              "    0% {\n",
              "      border-color: transparent;\n",
              "      border-bottom-color: var(--fill-color);\n",
              "      border-left-color: var(--fill-color);\n",
              "    }\n",
              "    20% {\n",
              "      border-color: transparent;\n",
              "      border-left-color: var(--fill-color);\n",
              "      border-top-color: var(--fill-color);\n",
              "    }\n",
              "    30% {\n",
              "      border-color: transparent;\n",
              "      border-left-color: var(--fill-color);\n",
              "      border-top-color: var(--fill-color);\n",
              "      border-right-color: var(--fill-color);\n",
              "    }\n",
              "    40% {\n",
              "      border-color: transparent;\n",
              "      border-right-color: var(--fill-color);\n",
              "      border-top-color: var(--fill-color);\n",
              "    }\n",
              "    60% {\n",
              "      border-color: transparent;\n",
              "      border-right-color: var(--fill-color);\n",
              "    }\n",
              "    80% {\n",
              "      border-color: transparent;\n",
              "      border-right-color: var(--fill-color);\n",
              "      border-bottom-color: var(--fill-color);\n",
              "    }\n",
              "    90% {\n",
              "      border-color: transparent;\n",
              "      border-bottom-color: var(--fill-color);\n",
              "    }\n",
              "  }\n",
              "</style>\n",
              "\n",
              "  <script>\n",
              "    async function quickchart(key) {\n",
              "      const quickchartButtonEl =\n",
              "        document.querySelector('#' + key + ' button');\n",
              "      quickchartButtonEl.disabled = true;  // To prevent multiple clicks.\n",
              "      quickchartButtonEl.classList.add('colab-df-spinner');\n",
              "      try {\n",
              "        const charts = await google.colab.kernel.invokeFunction(\n",
              "            'suggestCharts', [key], {});\n",
              "      } catch (error) {\n",
              "        console.error('Error during call to suggestCharts:', error);\n",
              "      }\n",
              "      quickchartButtonEl.classList.remove('colab-df-spinner');\n",
              "      quickchartButtonEl.classList.add('colab-df-quickchart-complete');\n",
              "    }\n",
              "    (() => {\n",
              "      let quickchartButtonEl =\n",
              "        document.querySelector('#df-f3b7b6f4-b4d4-46d2-bd69-da2cd123750e button');\n",
              "      quickchartButtonEl.style.display =\n",
              "        google.colab.kernel.accessAllowed ? 'block' : 'none';\n",
              "    })();\n",
              "  </script>\n",
              "</div>\n",
              "    </div>\n",
              "  </div>\n"
            ]
          },
          "metadata": {},
          "execution_count": 64
        }
      ],
      "source": [
        "df_pred"
      ]
    },
    {
      "cell_type": "code",
      "source": [
        "df_pred['predicted_difficulty'] = pipe.predict(df_pred['sentence'])"
      ],
      "metadata": {
        "id": "AtsxG2C5ZxH8"
      },
      "execution_count": 65,
      "outputs": []
    },
    {
      "cell_type": "code",
      "execution_count": null,
      "metadata": {
        "colab": {
          "base_uri": "https://localhost:8080/",
          "height": 455
        },
        "id": "gk9H2dLHkFBa",
        "outputId": "f4644bb5-f363-4ea4-b85f-baa5ed17ff63"
      },
      "outputs": [
        {
          "output_type": "execute_result",
          "data": {
            "text/plain": [
              "                                               sentence predicted_difficulty\n",
              "id                                                                          \n",
              "0     Nous dûmes nous excuser des propos que nous eû...                   A2\n",
              "1     Vous ne pouvez pas savoir le plaisir que j'ai ...                   A2\n",
              "2     Et, paradoxalement, boire froid n'est pas la b...                   B1\n",
              "3     Ce n'est pas étonnant, car c'est une saison my...                   B1\n",
              "4     Le corps de Golo lui-même, d'une essence aussi...                   C2\n",
              "...                                                 ...                  ...\n",
              "1195  C'est un phénomène qui trouve une accélération...                   B1\n",
              "1196  Je vais parler au serveur et voir si on peut d...                   A2\n",
              "1197  Il n'était pas comme tant de gens qui par pare...                   C2\n",
              "1198      Ils deviennent dangereux pour notre économie.                   A1\n",
              "1199  Son succès a généré beaucoup de réactions néga...                   B2\n",
              "\n",
              "[1200 rows x 2 columns]"
            ],
            "text/html": [
              "\n",
              "  <div id=\"df-c1e553d2-89ca-4de2-bb3c-3a1bba56b973\" class=\"colab-df-container\">\n",
              "    <div>\n",
              "<style scoped>\n",
              "    .dataframe tbody tr th:only-of-type {\n",
              "        vertical-align: middle;\n",
              "    }\n",
              "\n",
              "    .dataframe tbody tr th {\n",
              "        vertical-align: top;\n",
              "    }\n",
              "\n",
              "    .dataframe thead th {\n",
              "        text-align: right;\n",
              "    }\n",
              "</style>\n",
              "<table border=\"1\" class=\"dataframe\">\n",
              "  <thead>\n",
              "    <tr style=\"text-align: right;\">\n",
              "      <th></th>\n",
              "      <th>sentence</th>\n",
              "      <th>predicted_difficulty</th>\n",
              "    </tr>\n",
              "    <tr>\n",
              "      <th>id</th>\n",
              "      <th></th>\n",
              "      <th></th>\n",
              "    </tr>\n",
              "  </thead>\n",
              "  <tbody>\n",
              "    <tr>\n",
              "      <th>0</th>\n",
              "      <td>Nous dûmes nous excuser des propos que nous eû...</td>\n",
              "      <td>A2</td>\n",
              "    </tr>\n",
              "    <tr>\n",
              "      <th>1</th>\n",
              "      <td>Vous ne pouvez pas savoir le plaisir que j'ai ...</td>\n",
              "      <td>A2</td>\n",
              "    </tr>\n",
              "    <tr>\n",
              "      <th>2</th>\n",
              "      <td>Et, paradoxalement, boire froid n'est pas la b...</td>\n",
              "      <td>B1</td>\n",
              "    </tr>\n",
              "    <tr>\n",
              "      <th>3</th>\n",
              "      <td>Ce n'est pas étonnant, car c'est une saison my...</td>\n",
              "      <td>B1</td>\n",
              "    </tr>\n",
              "    <tr>\n",
              "      <th>4</th>\n",
              "      <td>Le corps de Golo lui-même, d'une essence aussi...</td>\n",
              "      <td>C2</td>\n",
              "    </tr>\n",
              "    <tr>\n",
              "      <th>...</th>\n",
              "      <td>...</td>\n",
              "      <td>...</td>\n",
              "    </tr>\n",
              "    <tr>\n",
              "      <th>1195</th>\n",
              "      <td>C'est un phénomène qui trouve une accélération...</td>\n",
              "      <td>B1</td>\n",
              "    </tr>\n",
              "    <tr>\n",
              "      <th>1196</th>\n",
              "      <td>Je vais parler au serveur et voir si on peut d...</td>\n",
              "      <td>A2</td>\n",
              "    </tr>\n",
              "    <tr>\n",
              "      <th>1197</th>\n",
              "      <td>Il n'était pas comme tant de gens qui par pare...</td>\n",
              "      <td>C2</td>\n",
              "    </tr>\n",
              "    <tr>\n",
              "      <th>1198</th>\n",
              "      <td>Ils deviennent dangereux pour notre économie.</td>\n",
              "      <td>A1</td>\n",
              "    </tr>\n",
              "    <tr>\n",
              "      <th>1199</th>\n",
              "      <td>Son succès a généré beaucoup de réactions néga...</td>\n",
              "      <td>B2</td>\n",
              "    </tr>\n",
              "  </tbody>\n",
              "</table>\n",
              "<p>1200 rows × 2 columns</p>\n",
              "</div>\n",
              "    <div class=\"colab-df-buttons\">\n",
              "\n",
              "  <div class=\"colab-df-container\">\n",
              "    <button class=\"colab-df-convert\" onclick=\"convertToInteractive('df-c1e553d2-89ca-4de2-bb3c-3a1bba56b973')\"\n",
              "            title=\"Convert this dataframe to an interactive table.\"\n",
              "            style=\"display:none;\">\n",
              "\n",
              "  <svg xmlns=\"http://www.w3.org/2000/svg\" height=\"24px\" viewBox=\"0 -960 960 960\">\n",
              "    <path d=\"M120-120v-720h720v720H120Zm60-500h600v-160H180v160Zm220 220h160v-160H400v160Zm0 220h160v-160H400v160ZM180-400h160v-160H180v160Zm440 0h160v-160H620v160ZM180-180h160v-160H180v160Zm440 0h160v-160H620v160Z\"/>\n",
              "  </svg>\n",
              "    </button>\n",
              "\n",
              "  <style>\n",
              "    .colab-df-container {\n",
              "      display:flex;\n",
              "      gap: 12px;\n",
              "    }\n",
              "\n",
              "    .colab-df-convert {\n",
              "      background-color: #E8F0FE;\n",
              "      border: none;\n",
              "      border-radius: 50%;\n",
              "      cursor: pointer;\n",
              "      display: none;\n",
              "      fill: #1967D2;\n",
              "      height: 32px;\n",
              "      padding: 0 0 0 0;\n",
              "      width: 32px;\n",
              "    }\n",
              "\n",
              "    .colab-df-convert:hover {\n",
              "      background-color: #E2EBFA;\n",
              "      box-shadow: 0px 1px 2px rgba(60, 64, 67, 0.3), 0px 1px 3px 1px rgba(60, 64, 67, 0.15);\n",
              "      fill: #174EA6;\n",
              "    }\n",
              "\n",
              "    .colab-df-buttons div {\n",
              "      margin-bottom: 4px;\n",
              "    }\n",
              "\n",
              "    [theme=dark] .colab-df-convert {\n",
              "      background-color: #3B4455;\n",
              "      fill: #D2E3FC;\n",
              "    }\n",
              "\n",
              "    [theme=dark] .colab-df-convert:hover {\n",
              "      background-color: #434B5C;\n",
              "      box-shadow: 0px 1px 3px 1px rgba(0, 0, 0, 0.15);\n",
              "      filter: drop-shadow(0px 1px 2px rgba(0, 0, 0, 0.3));\n",
              "      fill: #FFFFFF;\n",
              "    }\n",
              "  </style>\n",
              "\n",
              "    <script>\n",
              "      const buttonEl =\n",
              "        document.querySelector('#df-c1e553d2-89ca-4de2-bb3c-3a1bba56b973 button.colab-df-convert');\n",
              "      buttonEl.style.display =\n",
              "        google.colab.kernel.accessAllowed ? 'block' : 'none';\n",
              "\n",
              "      async function convertToInteractive(key) {\n",
              "        const element = document.querySelector('#df-c1e553d2-89ca-4de2-bb3c-3a1bba56b973');\n",
              "        const dataTable =\n",
              "          await google.colab.kernel.invokeFunction('convertToInteractive',\n",
              "                                                    [key], {});\n",
              "        if (!dataTable) return;\n",
              "\n",
              "        const docLinkHtml = 'Like what you see? Visit the ' +\n",
              "          '<a target=\"_blank\" href=https://colab.research.google.com/notebooks/data_table.ipynb>data table notebook</a>'\n",
              "          + ' to learn more about interactive tables.';\n",
              "        element.innerHTML = '';\n",
              "        dataTable['output_type'] = 'display_data';\n",
              "        await google.colab.output.renderOutput(dataTable, element);\n",
              "        const docLink = document.createElement('div');\n",
              "        docLink.innerHTML = docLinkHtml;\n",
              "        element.appendChild(docLink);\n",
              "      }\n",
              "    </script>\n",
              "  </div>\n",
              "\n",
              "\n",
              "<div id=\"df-414e547d-7d9d-4c6e-971c-d8ca670d8763\">\n",
              "  <button class=\"colab-df-quickchart\" onclick=\"quickchart('df-414e547d-7d9d-4c6e-971c-d8ca670d8763')\"\n",
              "            title=\"Suggest charts\"\n",
              "            style=\"display:none;\">\n",
              "\n",
              "<svg xmlns=\"http://www.w3.org/2000/svg\" height=\"24px\"viewBox=\"0 0 24 24\"\n",
              "     width=\"24px\">\n",
              "    <g>\n",
              "        <path d=\"M19 3H5c-1.1 0-2 .9-2 2v14c0 1.1.9 2 2 2h14c1.1 0 2-.9 2-2V5c0-1.1-.9-2-2-2zM9 17H7v-7h2v7zm4 0h-2V7h2v10zm4 0h-2v-4h2v4z\"/>\n",
              "    </g>\n",
              "</svg>\n",
              "  </button>\n",
              "\n",
              "<style>\n",
              "  .colab-df-quickchart {\n",
              "      --bg-color: #E8F0FE;\n",
              "      --fill-color: #1967D2;\n",
              "      --hover-bg-color: #E2EBFA;\n",
              "      --hover-fill-color: #174EA6;\n",
              "      --disabled-fill-color: #AAA;\n",
              "      --disabled-bg-color: #DDD;\n",
              "  }\n",
              "\n",
              "  [theme=dark] .colab-df-quickchart {\n",
              "      --bg-color: #3B4455;\n",
              "      --fill-color: #D2E3FC;\n",
              "      --hover-bg-color: #434B5C;\n",
              "      --hover-fill-color: #FFFFFF;\n",
              "      --disabled-bg-color: #3B4455;\n",
              "      --disabled-fill-color: #666;\n",
              "  }\n",
              "\n",
              "  .colab-df-quickchart {\n",
              "    background-color: var(--bg-color);\n",
              "    border: none;\n",
              "    border-radius: 50%;\n",
              "    cursor: pointer;\n",
              "    display: none;\n",
              "    fill: var(--fill-color);\n",
              "    height: 32px;\n",
              "    padding: 0;\n",
              "    width: 32px;\n",
              "  }\n",
              "\n",
              "  .colab-df-quickchart:hover {\n",
              "    background-color: var(--hover-bg-color);\n",
              "    box-shadow: 0 1px 2px rgba(60, 64, 67, 0.3), 0 1px 3px 1px rgba(60, 64, 67, 0.15);\n",
              "    fill: var(--button-hover-fill-color);\n",
              "  }\n",
              "\n",
              "  .colab-df-quickchart-complete:disabled,\n",
              "  .colab-df-quickchart-complete:disabled:hover {\n",
              "    background-color: var(--disabled-bg-color);\n",
              "    fill: var(--disabled-fill-color);\n",
              "    box-shadow: none;\n",
              "  }\n",
              "\n",
              "  .colab-df-spinner {\n",
              "    border: 2px solid var(--fill-color);\n",
              "    border-color: transparent;\n",
              "    border-bottom-color: var(--fill-color);\n",
              "    animation:\n",
              "      spin 1s steps(1) infinite;\n",
              "  }\n",
              "\n",
              "  @keyframes spin {\n",
              "    0% {\n",
              "      border-color: transparent;\n",
              "      border-bottom-color: var(--fill-color);\n",
              "      border-left-color: var(--fill-color);\n",
              "    }\n",
              "    20% {\n",
              "      border-color: transparent;\n",
              "      border-left-color: var(--fill-color);\n",
              "      border-top-color: var(--fill-color);\n",
              "    }\n",
              "    30% {\n",
              "      border-color: transparent;\n",
              "      border-left-color: var(--fill-color);\n",
              "      border-top-color: var(--fill-color);\n",
              "      border-right-color: var(--fill-color);\n",
              "    }\n",
              "    40% {\n",
              "      border-color: transparent;\n",
              "      border-right-color: var(--fill-color);\n",
              "      border-top-color: var(--fill-color);\n",
              "    }\n",
              "    60% {\n",
              "      border-color: transparent;\n",
              "      border-right-color: var(--fill-color);\n",
              "    }\n",
              "    80% {\n",
              "      border-color: transparent;\n",
              "      border-right-color: var(--fill-color);\n",
              "      border-bottom-color: var(--fill-color);\n",
              "    }\n",
              "    90% {\n",
              "      border-color: transparent;\n",
              "      border-bottom-color: var(--fill-color);\n",
              "    }\n",
              "  }\n",
              "</style>\n",
              "\n",
              "  <script>\n",
              "    async function quickchart(key) {\n",
              "      const quickchartButtonEl =\n",
              "        document.querySelector('#' + key + ' button');\n",
              "      quickchartButtonEl.disabled = true;  // To prevent multiple clicks.\n",
              "      quickchartButtonEl.classList.add('colab-df-spinner');\n",
              "      try {\n",
              "        const charts = await google.colab.kernel.invokeFunction(\n",
              "            'suggestCharts', [key], {});\n",
              "      } catch (error) {\n",
              "        console.error('Error during call to suggestCharts:', error);\n",
              "      }\n",
              "      quickchartButtonEl.classList.remove('colab-df-spinner');\n",
              "      quickchartButtonEl.classList.add('colab-df-quickchart-complete');\n",
              "    }\n",
              "    (() => {\n",
              "      let quickchartButtonEl =\n",
              "        document.querySelector('#df-414e547d-7d9d-4c6e-971c-d8ca670d8763 button');\n",
              "      quickchartButtonEl.style.display =\n",
              "        google.colab.kernel.accessAllowed ? 'block' : 'none';\n",
              "    })();\n",
              "  </script>\n",
              "</div>\n",
              "    </div>\n",
              "  </div>\n"
            ]
          },
          "metadata": {},
          "execution_count": 171
        }
      ],
      "source": [
        "df_pred"
      ]
    },
    {
      "cell_type": "markdown",
      "source": [
        "# This is how to submit a pd file with predictions\n",
        "### for the example we will submit a file where only A1 is given as a prediction"
      ],
      "metadata": {
        "id": "jctQ2IXYeXEs"
      }
    },
    {
      "cell_type": "code",
      "source": [
        "df_sub=df_pred[['predicted_difficulty']]\n",
        "df_sub.to_csv('submission.csv')"
      ],
      "metadata": {
        "id": "pg1ITBF8e0aq"
      },
      "execution_count": 66,
      "outputs": []
    },
    {
      "cell_type": "code",
      "source": [
        "! kaggle competitions submit -c detecting-french-texts-difficulty-level-2023 -f submission.csv -m \"Sample submission\""
      ],
      "metadata": {
        "colab": {
          "base_uri": "https://localhost:8080/"
        },
        "id": "D3i5G0qzgBxP",
        "outputId": "29fcb5fd-a30d-49d7-a51a-af1b8065b1d2"
      },
      "execution_count": 67,
      "outputs": [
        {
          "output_type": "stream",
          "name": "stdout",
          "text": [
            "100% 8.31k/8.31k [00:00<00:00, 11.0kB/s]\n",
            "Successfully submitted to Detecting the difficulty level of French texts"
          ]
        }
      ]
    },
    {
      "cell_type": "markdown",
      "source": [
        "![image.png](data:image/png;base64,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)"
      ],
      "metadata": {
        "id": "MuvFjpxJxGwN"
      }
    },
    {
      "cell_type": "code",
      "source": [
        "    #list_no_stop_words=['cependant','néanmoins','autrement','auxquels','ouste','anterieur','desquelles','notamment','puisque','hormis','lesquels','devers','relativement','quant-à-soi','revoici','envers','malgré','procedant','elles-mêmes','spécifiques','vôtres','revoila','celles-ci','quiconque','delà']\n",
        "    #stop_words2=[x for x in stop_words if x not in list_no_stop_words]\n",
        "\n",
        "    #print('Number of stopwords: %d' % len(stop_words))\n",
        "\n",
        "    #list_no_stop_words=['cependant','néanmoins','autrement','auxquels','ouste','anterieur','desquelles','notamment','puisque','hormis','lesquels','devers','relativement','quant-à-soi','revoici','envers','malgré','procedant','elles-mêmes','spécifiques','vôtres','revoila','celles-ci','quiconque','delà']\n",
        "    #stop_words2=[x for x in stop_words if x not in list_no_stop_words]"
      ],
      "metadata": {
        "id": "V91Y8bkEg43L"
      },
      "execution_count": null,
      "outputs": []
    }
  ],
  "metadata": {
    "colab": {
      "provenance": []
    },
    "kernelspec": {
      "display_name": "Python 3 (ipykernel)",
      "language": "python",
      "name": "python3"
    },
    "language_info": {
      "codemirror_mode": {
        "name": "ipython",
        "version": 3
      },
      "file_extension": ".py",
      "mimetype": "text/x-python",
      "name": "python",
      "nbconvert_exporter": "python",
      "pygments_lexer": "ipython3",
      "version": "3.9.6"
    },
    "toc": {
      "base_numbering": 1,
      "nav_menu": {},
      "number_sections": true,
      "sideBar": true,
      "skip_h1_title": false,
      "title_cell": "Table of Contents",
      "title_sidebar": "Contents",
      "toc_cell": false,
      "toc_position": {},
      "toc_section_display": true,
      "toc_window_display": false
    }
  },
  "nbformat": 4,
  "nbformat_minor": 0
}