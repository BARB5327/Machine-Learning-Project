{
  "cells": [
    {
      "cell_type": "markdown",
      "metadata": {
        "id": "kTfmqzC6OtfX"
      },
      "source": [
        "#Initialization of the kaggle and the files#"
      ]
    },
    {
      "cell_type": "code",
      "execution_count": null,
      "metadata": {
        "colab": {
          "base_uri": "https://localhost:8080/"
        },
        "id": "UJ_hnJzSNO2g",
        "outputId": "21e4b099-f76f-4fbf-f0d8-38b1f750db3c"
      },
      "outputs": [
        {
          "output_type": "stream",
          "name": "stdout",
          "text": [
            "Mounted at /content/drive\n"
          ]
        }
      ],
      "source": [
        "# reading in the data via the Kaggle API\n",
        "\n",
        "# mount your Google Drive\n",
        "from google.colab import drive\n",
        "drive.mount('/content/drive', force_remount=True)"
      ]
    },
    {
      "cell_type": "code",
      "execution_count": null,
      "metadata": {
        "colab": {
          "base_uri": "https://localhost:8080/"
        },
        "id": "mJPTz3D7TeQv",
        "outputId": "6f4379c7-8b48-4fcf-dbc1-a8fb0c0142ca"
      },
      "outputs": [
        {
          "output_type": "stream",
          "name": "stdout",
          "text": [
            "Requirement already satisfied: kaggle in /usr/local/lib/python3.10/dist-packages (1.5.16)\n",
            "Requirement already satisfied: six>=1.10 in /usr/local/lib/python3.10/dist-packages (from kaggle) (1.16.0)\n",
            "Requirement already satisfied: certifi in /usr/local/lib/python3.10/dist-packages (from kaggle) (2023.11.17)\n",
            "Requirement already satisfied: python-dateutil in /usr/local/lib/python3.10/dist-packages (from kaggle) (2.8.2)\n",
            "Requirement already satisfied: requests in /usr/local/lib/python3.10/dist-packages (from kaggle) (2.31.0)\n",
            "Requirement already satisfied: tqdm in /usr/local/lib/python3.10/dist-packages (from kaggle) (4.66.1)\n",
            "Requirement already satisfied: python-slugify in /usr/local/lib/python3.10/dist-packages (from kaggle) (8.0.1)\n",
            "Requirement already satisfied: urllib3 in /usr/local/lib/python3.10/dist-packages (from kaggle) (2.0.7)\n",
            "Requirement already satisfied: bleach in /usr/local/lib/python3.10/dist-packages (from kaggle) (6.1.0)\n",
            "Requirement already satisfied: webencodings in /usr/local/lib/python3.10/dist-packages (from bleach->kaggle) (0.5.1)\n",
            "Requirement already satisfied: text-unidecode>=1.3 in /usr/local/lib/python3.10/dist-packages (from python-slugify->kaggle) (1.3)\n",
            "Requirement already satisfied: charset-normalizer<4,>=2 in /usr/local/lib/python3.10/dist-packages (from requests->kaggle) (3.3.2)\n",
            "Requirement already satisfied: idna<4,>=2.5 in /usr/local/lib/python3.10/dist-packages (from requests->kaggle) (3.6)\n"
          ]
        }
      ],
      "source": [
        "# install Kaggle\n",
        "! pip install kaggle"
      ]
    },
    {
      "cell_type": "markdown",
      "metadata": {
        "id": "ZKG1TCddRYTB"
      },
      "source": [
        "Log into your Kaggle account, go to Account > API > Create new API token. You will obtain a kaggle.json file, which you save on your Google Drive directy in my drive."
      ]
    },
    {
      "cell_type": "code",
      "execution_count": null,
      "metadata": {
        "id": "JgzLj451YDfV"
      },
      "outputs": [],
      "source": [
        "!mkdir ~/.kaggle"
      ]
    },
    {
      "cell_type": "code",
      "execution_count": null,
      "metadata": {
        "id": "KrsZLalrSI3u"
      },
      "outputs": [],
      "source": [
        "#read in your Kaggle credentials from Google Drive\n",
        "!cp /content/drive/MyDrive/Kaggle/kaggle.json ~/.kaggle/kaggle.json\n"
      ]
    },
    {
      "cell_type": "code",
      "execution_count": null,
      "metadata": {
        "colab": {
          "base_uri": "https://localhost:8080/"
        },
        "id": "BDI60LXKTPzf",
        "outputId": "ef998f92-9f4d-4c93-80f2-26456f5725f3"
      },
      "outputs": [
        {
          "output_type": "stream",
          "name": "stdout",
          "text": [
            "Downloading detecting-french-texts-difficulty-level-2023.zip to /content\n",
            "100% 303k/303k [00:00<00:00, 475kB/s]\n",
            "100% 303k/303k [00:00<00:00, 475kB/s]\n"
          ]
        }
      ],
      "source": [
        "! kaggle competitions download -c detecting-french-texts-difficulty-level-2023\n",
        "from zipfile import ZipFile\n",
        "with ZipFile('detecting-french-texts-difficulty-level-2023.zip','r') as zip:\n",
        "  zip.extractall(path=\"\")"
      ]
    },
    {
      "cell_type": "markdown",
      "metadata": {
        "id": "HHb-bzEFOdNv"
      },
      "source": [
        "# Begining of the model#"
      ]
    },
    {
      "cell_type": "code",
      "execution_count": null,
      "metadata": {
        "colab": {
          "base_uri": "https://localhost:8080/"
        },
        "id": "IKB5eYqaQRES",
        "outputId": "50b38130-8035-4090-8ffa-b921abf9cdbc"
      },
      "outputs": [
        {
          "output_type": "stream",
          "name": "stdout",
          "text": [
            "Requirement already satisfied: transformers in /usr/local/lib/python3.10/dist-packages (4.35.2)\n",
            "Requirement already satisfied: torch in /usr/local/lib/python3.10/dist-packages (2.1.0+cu118)\n",
            "Requirement already satisfied: filelock in /usr/local/lib/python3.10/dist-packages (from transformers) (3.13.1)\n",
            "Requirement already satisfied: huggingface-hub<1.0,>=0.16.4 in /usr/local/lib/python3.10/dist-packages (from transformers) (0.19.4)\n",
            "Requirement already satisfied: numpy>=1.17 in /usr/local/lib/python3.10/dist-packages (from transformers) (1.23.5)\n",
            "Requirement already satisfied: packaging>=20.0 in /usr/local/lib/python3.10/dist-packages (from transformers) (23.2)\n",
            "Requirement already satisfied: pyyaml>=5.1 in /usr/local/lib/python3.10/dist-packages (from transformers) (6.0.1)\n",
            "Requirement already satisfied: regex!=2019.12.17 in /usr/local/lib/python3.10/dist-packages (from transformers) (2023.6.3)\n",
            "Requirement already satisfied: requests in /usr/local/lib/python3.10/dist-packages (from transformers) (2.31.0)\n",
            "Requirement already satisfied: tokenizers<0.19,>=0.14 in /usr/local/lib/python3.10/dist-packages (from transformers) (0.15.0)\n",
            "Requirement already satisfied: safetensors>=0.3.1 in /usr/local/lib/python3.10/dist-packages (from transformers) (0.4.1)\n",
            "Requirement already satisfied: tqdm>=4.27 in /usr/local/lib/python3.10/dist-packages (from transformers) (4.66.1)\n",
            "Requirement already satisfied: typing-extensions in /usr/local/lib/python3.10/dist-packages (from torch) (4.5.0)\n",
            "Requirement already satisfied: sympy in /usr/local/lib/python3.10/dist-packages (from torch) (1.12)\n",
            "Requirement already satisfied: networkx in /usr/local/lib/python3.10/dist-packages (from torch) (3.2.1)\n",
            "Requirement already satisfied: jinja2 in /usr/local/lib/python3.10/dist-packages (from torch) (3.1.2)\n",
            "Requirement already satisfied: fsspec in /usr/local/lib/python3.10/dist-packages (from torch) (2023.6.0)\n",
            "Requirement already satisfied: triton==2.1.0 in /usr/local/lib/python3.10/dist-packages (from torch) (2.1.0)\n",
            "Requirement already satisfied: MarkupSafe>=2.0 in /usr/local/lib/python3.10/dist-packages (from jinja2->torch) (2.1.3)\n",
            "Requirement already satisfied: charset-normalizer<4,>=2 in /usr/local/lib/python3.10/dist-packages (from requests->transformers) (3.3.2)\n",
            "Requirement already satisfied: idna<4,>=2.5 in /usr/local/lib/python3.10/dist-packages (from requests->transformers) (3.6)\n",
            "Requirement already satisfied: urllib3<3,>=1.21.1 in /usr/local/lib/python3.10/dist-packages (from requests->transformers) (2.0.7)\n",
            "Requirement already satisfied: certifi>=2017.4.17 in /usr/local/lib/python3.10/dist-packages (from requests->transformers) (2023.11.17)\n",
            "Requirement already satisfied: mpmath>=0.19 in /usr/local/lib/python3.10/dist-packages (from sympy->torch) (1.3.0)\n",
            "Collecting sentencepiece\n",
            "  Downloading sentencepiece-0.1.99-cp310-cp310-manylinux_2_17_x86_64.manylinux2014_x86_64.whl (1.3 MB)\n",
            "\u001b[2K     \u001b[90m━━━━━━━━━━━━━━━━━━━━━━━━━━━━━━━━━━━━━━━━\u001b[0m \u001b[32m1.3/1.3 MB\u001b[0m \u001b[31m17.3 MB/s\u001b[0m eta \u001b[36m0:00:00\u001b[0m\n",
            "\u001b[?25hInstalling collected packages: sentencepiece\n",
            "Successfully installed sentencepiece-0.1.99\n"
          ]
        }
      ],
      "source": [
        "!pip install transformers torch\n",
        "!pip install sentencepiece\n"
      ]
    },
    {
      "cell_type": "markdown",
      "metadata": {
        "id": "nvsJcuCpQLx8"
      },
      "source": [
        "## Imports##"
      ]
    },
    {
      "cell_type": "code",
      "execution_count": null,
      "metadata": {
        "id": "daqvj7feTx60"
      },
      "outputs": [],
      "source": [
        "# read in your training data\n",
        "import pandas as pd\n",
        "import numpy as np\n",
        "import torch\n",
        "import os\n",
        "import seaborn as sns\n",
        "import matplotlib.pyplot as plt\n",
        "from google.colab import files\n",
        "\n",
        "from transformers import CamembertTokenizer, CamembertForSequenceClassification\n",
        "from sklearn.model_selection import train_test_split\n",
        "from torch.utils.data import DataLoader,TensorDataset\n",
        "from torch.nn import CrossEntropyLoss\n",
        "from torch.optim import AdamW\n",
        "from sklearn.preprocessing import LabelEncoder\n",
        "from sklearn.metrics import precision_score, recall_score, f1_score, accuracy_score,confusion_matrix\n",
        "\n",
        "os.environ['CUDA_LAUNCH_BLOCKING'] = \"1\"\n",
        "\n",
        "\n",
        "\n",
        "df = pd.read_csv('training_data.csv', index_col = 'id')\n",
        "df_pred = pd.read_csv('unlabelled_test_data.csv', index_col = 'id')"
      ]
    },
    {
      "cell_type": "code",
      "execution_count": null,
      "metadata": {
        "colab": {
          "base_uri": "https://localhost:8080/",
          "height": 455
        },
        "id": "VxRSnk5bhTp8",
        "outputId": "c63f8be5-902d-47c7-a88a-7494cbc97919"
      },
      "outputs": [
        {
          "output_type": "execute_result",
          "data": {
            "text/plain": [
              "                                               sentence difficulty\n",
              "id                                                                \n",
              "0     Les coûts kilométriques réels peuvent diverger...         C1\n",
              "1     Le bleu, c'est ma couleur préférée mais je n'a...         A1\n",
              "2     Le test de niveau en français est sur le site ...         A1\n",
              "3              Est-ce que ton mari est aussi de Boston?         A1\n",
              "4     Dans les écoles de commerce, dans les couloirs...         B1\n",
              "...                                                 ...        ...\n",
              "4795  C'est pourquoi, il décida de remplacer les hab...         B2\n",
              "4796  Il avait une de ces pâleurs splendides qui don...         C1\n",
              "4797  Et le premier samedi de chaque mois, venez ren...         A2\n",
              "4798  Les coûts liés à la journalisation n'étant pas...         C2\n",
              "4799  Sur le sable, la mer haletait de toute la resp...         C2\n",
              "\n",
              "[4800 rows x 2 columns]"
            ],
            "text/html": [
              "\n",
              "  <div id=\"df-257681ec-80ea-4f7b-930e-84b34529f7c8\" class=\"colab-df-container\">\n",
              "    <div>\n",
              "<style scoped>\n",
              "    .dataframe tbody tr th:only-of-type {\n",
              "        vertical-align: middle;\n",
              "    }\n",
              "\n",
              "    .dataframe tbody tr th {\n",
              "        vertical-align: top;\n",
              "    }\n",
              "\n",
              "    .dataframe thead th {\n",
              "        text-align: right;\n",
              "    }\n",
              "</style>\n",
              "<table border=\"1\" class=\"dataframe\">\n",
              "  <thead>\n",
              "    <tr style=\"text-align: right;\">\n",
              "      <th></th>\n",
              "      <th>sentence</th>\n",
              "      <th>difficulty</th>\n",
              "    </tr>\n",
              "    <tr>\n",
              "      <th>id</th>\n",
              "      <th></th>\n",
              "      <th></th>\n",
              "    </tr>\n",
              "  </thead>\n",
              "  <tbody>\n",
              "    <tr>\n",
              "      <th>0</th>\n",
              "      <td>Les coûts kilométriques réels peuvent diverger...</td>\n",
              "      <td>C1</td>\n",
              "    </tr>\n",
              "    <tr>\n",
              "      <th>1</th>\n",
              "      <td>Le bleu, c'est ma couleur préférée mais je n'a...</td>\n",
              "      <td>A1</td>\n",
              "    </tr>\n",
              "    <tr>\n",
              "      <th>2</th>\n",
              "      <td>Le test de niveau en français est sur le site ...</td>\n",
              "      <td>A1</td>\n",
              "    </tr>\n",
              "    <tr>\n",
              "      <th>3</th>\n",
              "      <td>Est-ce que ton mari est aussi de Boston?</td>\n",
              "      <td>A1</td>\n",
              "    </tr>\n",
              "    <tr>\n",
              "      <th>4</th>\n",
              "      <td>Dans les écoles de commerce, dans les couloirs...</td>\n",
              "      <td>B1</td>\n",
              "    </tr>\n",
              "    <tr>\n",
              "      <th>...</th>\n",
              "      <td>...</td>\n",
              "      <td>...</td>\n",
              "    </tr>\n",
              "    <tr>\n",
              "      <th>4795</th>\n",
              "      <td>C'est pourquoi, il décida de remplacer les hab...</td>\n",
              "      <td>B2</td>\n",
              "    </tr>\n",
              "    <tr>\n",
              "      <th>4796</th>\n",
              "      <td>Il avait une de ces pâleurs splendides qui don...</td>\n",
              "      <td>C1</td>\n",
              "    </tr>\n",
              "    <tr>\n",
              "      <th>4797</th>\n",
              "      <td>Et le premier samedi de chaque mois, venez ren...</td>\n",
              "      <td>A2</td>\n",
              "    </tr>\n",
              "    <tr>\n",
              "      <th>4798</th>\n",
              "      <td>Les coûts liés à la journalisation n'étant pas...</td>\n",
              "      <td>C2</td>\n",
              "    </tr>\n",
              "    <tr>\n",
              "      <th>4799</th>\n",
              "      <td>Sur le sable, la mer haletait de toute la resp...</td>\n",
              "      <td>C2</td>\n",
              "    </tr>\n",
              "  </tbody>\n",
              "</table>\n",
              "<p>4800 rows × 2 columns</p>\n",
              "</div>\n",
              "    <div class=\"colab-df-buttons\">\n",
              "\n",
              "  <div class=\"colab-df-container\">\n",
              "    <button class=\"colab-df-convert\" onclick=\"convertToInteractive('df-257681ec-80ea-4f7b-930e-84b34529f7c8')\"\n",
              "            title=\"Convert this dataframe to an interactive table.\"\n",
              "            style=\"display:none;\">\n",
              "\n",
              "  <svg xmlns=\"http://www.w3.org/2000/svg\" height=\"24px\" viewBox=\"0 -960 960 960\">\n",
              "    <path d=\"M120-120v-720h720v720H120Zm60-500h600v-160H180v160Zm220 220h160v-160H400v160Zm0 220h160v-160H400v160ZM180-400h160v-160H180v160Zm440 0h160v-160H620v160ZM180-180h160v-160H180v160Zm440 0h160v-160H620v160Z\"/>\n",
              "  </svg>\n",
              "    </button>\n",
              "\n",
              "  <style>\n",
              "    .colab-df-container {\n",
              "      display:flex;\n",
              "      gap: 12px;\n",
              "    }\n",
              "\n",
              "    .colab-df-convert {\n",
              "      background-color: #E8F0FE;\n",
              "      border: none;\n",
              "      border-radius: 50%;\n",
              "      cursor: pointer;\n",
              "      display: none;\n",
              "      fill: #1967D2;\n",
              "      height: 32px;\n",
              "      padding: 0 0 0 0;\n",
              "      width: 32px;\n",
              "    }\n",
              "\n",
              "    .colab-df-convert:hover {\n",
              "      background-color: #E2EBFA;\n",
              "      box-shadow: 0px 1px 2px rgba(60, 64, 67, 0.3), 0px 1px 3px 1px rgba(60, 64, 67, 0.15);\n",
              "      fill: #174EA6;\n",
              "    }\n",
              "\n",
              "    .colab-df-buttons div {\n",
              "      margin-bottom: 4px;\n",
              "    }\n",
              "\n",
              "    [theme=dark] .colab-df-convert {\n",
              "      background-color: #3B4455;\n",
              "      fill: #D2E3FC;\n",
              "    }\n",
              "\n",
              "    [theme=dark] .colab-df-convert:hover {\n",
              "      background-color: #434B5C;\n",
              "      box-shadow: 0px 1px 3px 1px rgba(0, 0, 0, 0.15);\n",
              "      filter: drop-shadow(0px 1px 2px rgba(0, 0, 0, 0.3));\n",
              "      fill: #FFFFFF;\n",
              "    }\n",
              "  </style>\n",
              "\n",
              "    <script>\n",
              "      const buttonEl =\n",
              "        document.querySelector('#df-257681ec-80ea-4f7b-930e-84b34529f7c8 button.colab-df-convert');\n",
              "      buttonEl.style.display =\n",
              "        google.colab.kernel.accessAllowed ? 'block' : 'none';\n",
              "\n",
              "      async function convertToInteractive(key) {\n",
              "        const element = document.querySelector('#df-257681ec-80ea-4f7b-930e-84b34529f7c8');\n",
              "        const dataTable =\n",
              "          await google.colab.kernel.invokeFunction('convertToInteractive',\n",
              "                                                    [key], {});\n",
              "        if (!dataTable) return;\n",
              "\n",
              "        const docLinkHtml = 'Like what you see? Visit the ' +\n",
              "          '<a target=\"_blank\" href=https://colab.research.google.com/notebooks/data_table.ipynb>data table notebook</a>'\n",
              "          + ' to learn more about interactive tables.';\n",
              "        element.innerHTML = '';\n",
              "        dataTable['output_type'] = 'display_data';\n",
              "        await google.colab.output.renderOutput(dataTable, element);\n",
              "        const docLink = document.createElement('div');\n",
              "        docLink.innerHTML = docLinkHtml;\n",
              "        element.appendChild(docLink);\n",
              "      }\n",
              "    </script>\n",
              "  </div>\n",
              "\n",
              "\n",
              "<div id=\"df-d1657d79-b9f4-4a01-b4b0-040c95c86791\">\n",
              "  <button class=\"colab-df-quickchart\" onclick=\"quickchart('df-d1657d79-b9f4-4a01-b4b0-040c95c86791')\"\n",
              "            title=\"Suggest charts\"\n",
              "            style=\"display:none;\">\n",
              "\n",
              "<svg xmlns=\"http://www.w3.org/2000/svg\" height=\"24px\"viewBox=\"0 0 24 24\"\n",
              "     width=\"24px\">\n",
              "    <g>\n",
              "        <path d=\"M19 3H5c-1.1 0-2 .9-2 2v14c0 1.1.9 2 2 2h14c1.1 0 2-.9 2-2V5c0-1.1-.9-2-2-2zM9 17H7v-7h2v7zm4 0h-2V7h2v10zm4 0h-2v-4h2v4z\"/>\n",
              "    </g>\n",
              "</svg>\n",
              "  </button>\n",
              "\n",
              "<style>\n",
              "  .colab-df-quickchart {\n",
              "      --bg-color: #E8F0FE;\n",
              "      --fill-color: #1967D2;\n",
              "      --hover-bg-color: #E2EBFA;\n",
              "      --hover-fill-color: #174EA6;\n",
              "      --disabled-fill-color: #AAA;\n",
              "      --disabled-bg-color: #DDD;\n",
              "  }\n",
              "\n",
              "  [theme=dark] .colab-df-quickchart {\n",
              "      --bg-color: #3B4455;\n",
              "      --fill-color: #D2E3FC;\n",
              "      --hover-bg-color: #434B5C;\n",
              "      --hover-fill-color: #FFFFFF;\n",
              "      --disabled-bg-color: #3B4455;\n",
              "      --disabled-fill-color: #666;\n",
              "  }\n",
              "\n",
              "  .colab-df-quickchart {\n",
              "    background-color: var(--bg-color);\n",
              "    border: none;\n",
              "    border-radius: 50%;\n",
              "    cursor: pointer;\n",
              "    display: none;\n",
              "    fill: var(--fill-color);\n",
              "    height: 32px;\n",
              "    padding: 0;\n",
              "    width: 32px;\n",
              "  }\n",
              "\n",
              "  .colab-df-quickchart:hover {\n",
              "    background-color: var(--hover-bg-color);\n",
              "    box-shadow: 0 1px 2px rgba(60, 64, 67, 0.3), 0 1px 3px 1px rgba(60, 64, 67, 0.15);\n",
              "    fill: var(--button-hover-fill-color);\n",
              "  }\n",
              "\n",
              "  .colab-df-quickchart-complete:disabled,\n",
              "  .colab-df-quickchart-complete:disabled:hover {\n",
              "    background-color: var(--disabled-bg-color);\n",
              "    fill: var(--disabled-fill-color);\n",
              "    box-shadow: none;\n",
              "  }\n",
              "\n",
              "  .colab-df-spinner {\n",
              "    border: 2px solid var(--fill-color);\n",
              "    border-color: transparent;\n",
              "    border-bottom-color: var(--fill-color);\n",
              "    animation:\n",
              "      spin 1s steps(1) infinite;\n",
              "  }\n",
              "\n",
              "  @keyframes spin {\n",
              "    0% {\n",
              "      border-color: transparent;\n",
              "      border-bottom-color: var(--fill-color);\n",
              "      border-left-color: var(--fill-color);\n",
              "    }\n",
              "    20% {\n",
              "      border-color: transparent;\n",
              "      border-left-color: var(--fill-color);\n",
              "      border-top-color: var(--fill-color);\n",
              "    }\n",
              "    30% {\n",
              "      border-color: transparent;\n",
              "      border-left-color: var(--fill-color);\n",
              "      border-top-color: var(--fill-color);\n",
              "      border-right-color: var(--fill-color);\n",
              "    }\n",
              "    40% {\n",
              "      border-color: transparent;\n",
              "      border-right-color: var(--fill-color);\n",
              "      border-top-color: var(--fill-color);\n",
              "    }\n",
              "    60% {\n",
              "      border-color: transparent;\n",
              "      border-right-color: var(--fill-color);\n",
              "    }\n",
              "    80% {\n",
              "      border-color: transparent;\n",
              "      border-right-color: var(--fill-color);\n",
              "      border-bottom-color: var(--fill-color);\n",
              "    }\n",
              "    90% {\n",
              "      border-color: transparent;\n",
              "      border-bottom-color: var(--fill-color);\n",
              "    }\n",
              "  }\n",
              "</style>\n",
              "\n",
              "  <script>\n",
              "    async function quickchart(key) {\n",
              "      const quickchartButtonEl =\n",
              "        document.querySelector('#' + key + ' button');\n",
              "      quickchartButtonEl.disabled = true;  // To prevent multiple clicks.\n",
              "      quickchartButtonEl.classList.add('colab-df-spinner');\n",
              "      try {\n",
              "        const charts = await google.colab.kernel.invokeFunction(\n",
              "            'suggestCharts', [key], {});\n",
              "      } catch (error) {\n",
              "        console.error('Error during call to suggestCharts:', error);\n",
              "      }\n",
              "      quickchartButtonEl.classList.remove('colab-df-spinner');\n",
              "      quickchartButtonEl.classList.add('colab-df-quickchart-complete');\n",
              "    }\n",
              "    (() => {\n",
              "      let quickchartButtonEl =\n",
              "        document.querySelector('#df-d1657d79-b9f4-4a01-b4b0-040c95c86791 button');\n",
              "      quickchartButtonEl.style.display =\n",
              "        google.colab.kernel.accessAllowed ? 'block' : 'none';\n",
              "    })();\n",
              "  </script>\n",
              "</div>\n",
              "    </div>\n",
              "  </div>\n"
            ]
          },
          "metadata": {},
          "execution_count": 9
        }
      ],
      "source": [
        "df"
      ]
    },
    {
      "cell_type": "markdown",
      "metadata": {
        "id": "ZlTIx0ZjBe31"
      },
      "source": [
        "###CamemBert model\n",
        "######After we used the bert model with the 'bert-base-multilingual-cased' pre-trained model we decided to use a model who is specific to the french to see the difference of these two model."
      ]
    },
    {
      "cell_type": "markdown",
      "source": [
        "#####Frist we configure correctly our data to be used in our model. As always we separe our train and test data set with the same parameters to be constant in the comparaison. And then we encode our data"
      ],
      "metadata": {
        "id": "68BsNYkyYvHY"
      }
    },
    {
      "cell_type": "code",
      "execution_count": null,
      "metadata": {
        "id": "EiOwKCuYuOcq"
      },
      "outputs": [],
      "source": [
        "X = df['sentence']\n",
        "y = df['difficulty']\n",
        "X_train, X_test, y_train, y_test = train_test_split(X, y, test_size=0.2, random_state=42)\n",
        "\n",
        "\n",
        "X_train = X_train.tolist()\n",
        "X_test = X_test.tolist()\n",
        "\n",
        "label_encoder = LabelEncoder()\n",
        "y_train_encoded = label_encoder.fit_transform(y_train)\n",
        "y_test_encoded = label_encoder.transform(y_test)\n"
      ]
    },
    {
      "cell_type": "markdown",
      "source": [
        "#####As we had some problems for this model with number of classes. We just did some verification about the class labels that were input in our model. We should have 6 different classes."
      ],
      "metadata": {
        "id": "_wytVD0dZLJn"
      }
    },
    {
      "cell_type": "code",
      "source": [
        "num_classes = len(label_encoder.classes_)\n",
        "print(\"Number of classes:\", num_classes)"
      ],
      "metadata": {
        "colab": {
          "base_uri": "https://localhost:8080/"
        },
        "id": "pPMKxMs4ZLo5",
        "outputId": "d50dfa57-278e-4853-a3a4-f5a3abf5cfa5"
      },
      "execution_count": null,
      "outputs": [
        {
          "output_type": "stream",
          "name": "stdout",
          "text": [
            "Number of classes: 6\n"
          ]
        }
      ]
    },
    {
      "cell_type": "markdown",
      "metadata": {
        "id": "YXZI1BoumB3u"
      },
      "source": [
        "#####Here we create our tokennizer,dataloaders who will be put in the model to be train and then we configure our training using Adamw as optimizer and CrossEntropyLoss function as our loss fuction."
      ]
    },
    {
      "cell_type": "markdown",
      "source": [
        "#####Like the bert model we use the GPU for this model. But we had some problems to run our model on the GPU so we did also some verification to be sure that our model runned on the GPU"
      ],
      "metadata": {
        "id": "A_AU8CuRaTee"
      }
    },
    {
      "cell_type": "code",
      "execution_count": null,
      "metadata": {
        "colab": {
          "base_uri": "https://localhost:8080/",
          "height": 234,
          "referenced_widgets": [
            "9587c9437e14498b8fe85f51caa7a030",
            "578f60a7145446068ffd51abd25f019d",
            "807fcb6a12844a2fb743c2db283a9731",
            "ade83794b4ef4e1fabdc781463b49e3d",
            "2bcb3c5ac3bb476baf294b7238f62d7f",
            "37652e34c4db46139f373e7b48557078",
            "e11e2171bfca46499e8af5a5ebc48892",
            "3048417e0e1c48ccb36cc73ec9624415",
            "10de14553b854a2b9f399d1c6f1995a5",
            "9b70fdf9ab9843889be7c139ee0670a8",
            "5884eb41c48e470eb7ae069b7963703f",
            "a075b9654bec421fb2a223f94d5668bf",
            "103b5b267a514e349698b9f032678a94",
            "5ad7ebc595984c49b8be1e7344388891",
            "c348b2b3b06d45858132e66dc434287f",
            "b7d95d7ba61548a09d9f3e9d576b951c",
            "bc6a1bdc2c914afe8b1e6884d0fc0114",
            "bb21bffc77ee45fba04a7c5926e66e3a",
            "9a48febe71e948a6b20da7d08a8bec0a",
            "886851e9ba4b4530b70d1276ce84c513",
            "12ee048c6f6a4b1fbc1c537b87a7fbc2",
            "1105841924034bf4808c93cc0b3b908b",
            "4800b97b5d244b21885335a2f3f7eb57",
            "559dff68909b49819cfcf75301368762",
            "cf2f4d6f3e504142b7ee25cea2f2ad53",
            "9b1ec204766a4223a405042c68a6a541",
            "ec8dfd3dd9e94fa09ac04d76dc1b8226",
            "074d196730ec484a9651dba06b0c5563",
            "2cdbe283a37244938d345aee8bc7dbfa",
            "f65eef940982488ba23ecec69341f6b9",
            "7335d4e15b2d45aa99c8d6f2db405971",
            "771d60631ed342bb9b210dae4592c0b1",
            "25894d69b44d4ed7a6d2cf3f6d50a3eb",
            "cd203d58d7bd41df9f56c73f9d0b3005",
            "5885a09ab4db4fec9c6bc3074b5fa606",
            "aa4dd33b1dd942d781755a34b95f9544",
            "2b0caeefe3794f85978f200d55aefa1c",
            "0328f8ff82a842549613450c51ac376e",
            "d80721b71d324d37a626d2c12df86b82",
            "2caabcd833934423ad5179c61acfce56",
            "01bab9dd6ec04ca68a11cd96691d1a3d",
            "ece73ec511694c35aef48865b3784355",
            "90b7438162304490bec308b09383d706",
            "ce9bd93d9bea453e98399a398dc9b85a"
          ]
        },
        "id": "xPJsgOgy3hkA",
        "outputId": "997a7661-39ae-4677-c2c4-7bb859faddc8"
      },
      "outputs": [
        {
          "output_type": "display_data",
          "data": {
            "text/plain": [
              "sentencepiece.bpe.model:   0%|          | 0.00/811k [00:00<?, ?B/s]"
            ],
            "application/vnd.jupyter.widget-view+json": {
              "version_major": 2,
              "version_minor": 0,
              "model_id": "9587c9437e14498b8fe85f51caa7a030"
            }
          },
          "metadata": {}
        },
        {
          "output_type": "display_data",
          "data": {
            "text/plain": [
              "tokenizer.json:   0%|          | 0.00/1.40M [00:00<?, ?B/s]"
            ],
            "application/vnd.jupyter.widget-view+json": {
              "version_major": 2,
              "version_minor": 0,
              "model_id": "a075b9654bec421fb2a223f94d5668bf"
            }
          },
          "metadata": {}
        },
        {
          "output_type": "display_data",
          "data": {
            "text/plain": [
              "config.json:   0%|          | 0.00/508 [00:00<?, ?B/s]"
            ],
            "application/vnd.jupyter.widget-view+json": {
              "version_major": 2,
              "version_minor": 0,
              "model_id": "4800b97b5d244b21885335a2f3f7eb57"
            }
          },
          "metadata": {}
        },
        {
          "output_type": "stream",
          "name": "stderr",
          "text": [
            "Special tokens have been added in the vocabulary, make sure the associated word embeddings are fine-tuned or trained.\n"
          ]
        },
        {
          "output_type": "display_data",
          "data": {
            "text/plain": [
              "model.safetensors:   0%|          | 0.00/445M [00:00<?, ?B/s]"
            ],
            "application/vnd.jupyter.widget-view+json": {
              "version_major": 2,
              "version_minor": 0,
              "model_id": "cd203d58d7bd41df9f56c73f9d0b3005"
            }
          },
          "metadata": {}
        },
        {
          "output_type": "stream",
          "name": "stderr",
          "text": [
            "Some weights of CamembertForSequenceClassification were not initialized from the model checkpoint at camembert-base and are newly initialized: ['classifier.dense.bias', 'classifier.out_proj.bias', 'classifier.dense.weight', 'classifier.out_proj.weight']\n",
            "You should probably TRAIN this model on a down-stream task to be able to use it for predictions and inference.\n"
          ]
        },
        {
          "output_type": "stream",
          "name": "stdout",
          "text": [
            "Device: cuda\n"
          ]
        }
      ],
      "source": [
        "camembert_tokenizer = CamembertTokenizer.from_pretrained(\"camembert-base\")\n",
        "X_train_encoding = camembert_tokenizer(X_train, truncation=True, padding=True, return_tensors=\"pt\")\n",
        "X_test_encoding = camembert_tokenizer(X_test, truncation=True, padding=True, return_tensors=\"pt\")\n",
        "\n",
        "X_train_tensor = torch.tensor(y_train_encoded, dtype=torch.long)\n",
        "X_test_tensor = torch.tensor(y_test_encoded, dtype=torch.long)\n",
        "\n",
        "X_train_dataset = TensorDataset(X_train_encoding['input_ids'], X_train_encoding['attention_mask'], X_train_tensor)\n",
        "X_test_dataset = TensorDataset(X_test_encoding['input_ids'], X_test_encoding['attention_mask'], X_test_tensor)\n",
        "\n",
        "X_train_loader = DataLoader(X_train_dataset, batch_size=16, shuffle=True)\n",
        "X_test_loader = DataLoader(X_test_dataset, batch_size=16)\n",
        "\n",
        "camembert_model = CamembertForSequenceClassification.from_pretrained(\"camembert-base\", num_labels=num_classes)\n",
        "\n",
        "device = torch.device('cuda' if torch.cuda.is_available() else 'cpu')\n",
        "print(f\"Device: {device}\")\n",
        "\n",
        "camembert_model = camembert_model.to(device)\n",
        "\n",
        "optimizer = AdamW(camembert_model.parameters(), lr=5e-5)\n",
        "loss_fn = CrossEntropyLoss()\n",
        "\n"
      ]
    },
    {
      "cell_type": "markdown",
      "source": [
        "#####After the creation of our model we can train our CamemBert model"
      ],
      "metadata": {
        "id": "FrWRMq9sZ0Rf"
      }
    },
    {
      "cell_type": "code",
      "source": [
        "for epoch in range(3):\n",
        "    for batch in X_train_loader:\n",
        "        input_ids = batch[0].to(device)\n",
        "        attention_mask = batch[1].to(device)\n",
        "        difficulty_level = batch[2].to(device)\n",
        "\n",
        "        camembert_model.train()\n",
        "\n",
        "        outputs = camembert_model(input_ids, attention_mask=attention_mask)\n",
        "        logits = outputs.logits\n",
        "        loss = loss_fn(logits, difficulty_level)\n",
        "\n",
        "        optimizer.zero_grad()\n",
        "        loss.backward()\n",
        "        optimizer.step()\n",
        "\n",
        "        torch.no_grad()\n",
        "torch.save(camembert_model.state_dict(), 'model_camembert.pth')"
      ],
      "metadata": {
        "id": "vV2Jb8juZzAM"
      },
      "execution_count": null,
      "outputs": []
    },
    {
      "cell_type": "markdown",
      "source": [
        "#####Here we download the camembert model in pth format to be used in streamlit"
      ],
      "metadata": {
        "id": "-e9kCzmXAarC"
      }
    },
    {
      "cell_type": "code",
      "source": [
        "files.download('model_camembert.pth')\n"
      ],
      "metadata": {
        "colab": {
          "base_uri": "https://localhost:8080/",
          "height": 34
        },
        "id": "c4ORHI26AUuP",
        "outputId": "e254d44d-c55a-4210-8c4d-38c197014c6b"
      },
      "execution_count": null,
      "outputs": [
        {
          "output_type": "display_data",
          "data": {
            "text/plain": [
              "<IPython.core.display.Javascript object>"
            ],
            "application/javascript": [
              "\n",
              "    async function download(id, filename, size) {\n",
              "      if (!google.colab.kernel.accessAllowed) {\n",
              "        return;\n",
              "      }\n",
              "      const div = document.createElement('div');\n",
              "      const label = document.createElement('label');\n",
              "      label.textContent = `Downloading \"${filename}\": `;\n",
              "      div.appendChild(label);\n",
              "      const progress = document.createElement('progress');\n",
              "      progress.max = size;\n",
              "      div.appendChild(progress);\n",
              "      document.body.appendChild(div);\n",
              "\n",
              "      const buffers = [];\n",
              "      let downloaded = 0;\n",
              "\n",
              "      const channel = await google.colab.kernel.comms.open(id);\n",
              "      // Send a message to notify the kernel that we're ready.\n",
              "      channel.send({})\n",
              "\n",
              "      for await (const message of channel.messages) {\n",
              "        // Send a message to notify the kernel that we're ready.\n",
              "        channel.send({})\n",
              "        if (message.buffers) {\n",
              "          for (const buffer of message.buffers) {\n",
              "            buffers.push(buffer);\n",
              "            downloaded += buffer.byteLength;\n",
              "            progress.value = downloaded;\n",
              "          }\n",
              "        }\n",
              "      }\n",
              "      const blob = new Blob(buffers, {type: 'application/binary'});\n",
              "      const a = document.createElement('a');\n",
              "      a.href = window.URL.createObjectURL(blob);\n",
              "      a.download = filename;\n",
              "      div.appendChild(a);\n",
              "      a.click();\n",
              "      div.remove();\n",
              "    }\n",
              "  "
            ]
          },
          "metadata": {}
        },
        {
          "output_type": "display_data",
          "data": {
            "text/plain": [
              "<IPython.core.display.Javascript object>"
            ],
            "application/javascript": [
              "download(\"download_e0f2bcff-809d-4321-9222-7be5dc14d71c\", \"model_camembert.pth\", 442590792)"
            ]
          },
          "metadata": {}
        }
      ]
    },
    {
      "cell_type": "markdown",
      "metadata": {
        "id": "7JBSjsE5mXiS"
      },
      "source": [
        "##### Here we evaluate our model"
      ]
    },
    {
      "cell_type": "code",
      "source": [
        "\n",
        "camembert_model.eval()\n",
        "true_difficulty_levels=[]\n",
        "pred_difficulty_level=[]\n",
        "\n",
        "with torch.no_grad():\n",
        "    validation_loss = 0.0\n",
        "    for batch in X_test_loader:\n",
        "        input_ids = batch[0].to(device)\n",
        "        attention_mask = batch[1].to(device)\n",
        "        difficulty_level = batch[2].to(device)\n",
        "\n",
        "        outputs = camembert_model(input_ids, attention_mask=attention_mask)\n",
        "        logits = outputs.logits\n",
        "        loss = loss_fn(logits, difficulty_level)\n",
        "        preds = torch.argmax(logits, dim=1)\n",
        "\n",
        "        true_difficulty_levels.extend(difficulty_level.cpu().numpy())\n",
        "        pred_difficulty_level.extend(preds.cpu().numpy())\n",
        "        validation_loss += loss.item()\n"
      ],
      "metadata": {
        "id": "JmiPlwKdF-sV"
      },
      "execution_count": null,
      "outputs": []
    },
    {
      "cell_type": "code",
      "source": [
        "validation_loss /= len(X_test_loader)\n",
        "accuracy = accuracy_score(true_difficulty_levels, pred_difficulty_level)\n",
        "precision=precision_score(true_difficulty_levels, pred_difficulty_level, average='macro')\n",
        "recall=recall_score(true_difficulty_levels, pred_difficulty_level, average='macro')\n",
        "f1= f1_score(true_difficulty_levels, pred_difficulty_level, average='macro')\n",
        "\n",
        "print(f'validation loss: {round(validation_loss,4)}')\n",
        "print(f\"Precision: {precision}\")\n",
        "print(f\"Recall: {recall}\")\n",
        "print(f\"F1-Score: {f1}\")\n",
        "print(f\"Accuracy: {accuracy}\")\n"
      ],
      "metadata": {
        "colab": {
          "base_uri": "https://localhost:8080/"
        },
        "id": "EPQYUwuhKHKO",
        "outputId": "3c71f689-36f2-413e-dad3-9d39600afb0c"
      },
      "execution_count": null,
      "outputs": [
        {
          "output_type": "stream",
          "name": "stdout",
          "text": [
            "validation loss: 1.0654\n",
            "Precision: 0.5806505585595948\n",
            "Recall: 0.5681968468081058\n",
            "F1-Score: 0.5643794913182132\n",
            "Accuracy: 0.5739583333333333\n"
          ]
        }
      ]
    },
    {
      "cell_type": "code",
      "source": [
        "conf_matrix = confusion_matrix(true_difficulty_levels, pred_difficulty_level)\n",
        "difficulty_labels=[\"A1\",\"A2\",\"B1\",\"B2\",\"C1\",\"C2\"]\n",
        "sns.heatmap(conf_matrix, annot=True, fmt='g',xticklabels=difficulty_labels,yticklabels=difficulty_labels,cmap=\"Greens\")\n",
        "plt.xlabel('Predicted difficulty levels')\n",
        "plt.ylabel('True difficulty levels')\n",
        "plt.title('Confusion matrix')\n",
        "plt.show()"
      ],
      "metadata": {
        "colab": {
          "base_uri": "https://localhost:8080/",
          "height": 472
        },
        "id": "0KP0tdvlkpd9",
        "outputId": "ebad6d03-37b3-4af0-c618-2b8435e0fffd"
      },
      "execution_count": null,
      "outputs": [
        {
          "output_type": "display_data",
          "data": {
            "text/plain": [
              "<Figure size 640x480 with 2 Axes>"
            ],
            "image/png": "[encoded data removed]"
          },
          "metadata": {}
        }
      ]
    },
    {
      "cell_type": "markdown",
      "metadata": {
        "id": "zytz5-QLmvZm"
      },
      "source": [
        "#####Now we prdict our model on our unlabelled data"
      ]
    },
    {
      "cell_type": "code",
      "source": [
        "# Supposons que new_texts est votre nouveau dataset contenant des phrases à prédire\n",
        "sentence_to_predict = df_pred['sentence'].tolist()\n",
        "\n",
        "# Tokenisation des nouvelles phrases\n",
        "sentence_to_predict_tokenized = camembert_tokenizer(sentence_to_predict, truncation=True, padding=True, return_tensors=\"pt\")\n",
        "\n",
        "# Création du TensorDataset\n",
        "pred_tensor_dataset = TensorDataset(sentence_to_predict_tokenized['input_ids'], sentence_to_predict_tokenized['attention_mask'])\n",
        "\n",
        "# Création du DataLoader\n",
        "pred_loader = DataLoader(pred_tensor_dataset, batch_size=16)\n",
        "\n",
        "# Prédiction\n",
        "predictions = []\n",
        "camembert_model.eval()\n",
        "with torch.no_grad():\n",
        "    for batch in pred_loader:\n",
        "        input_ids = batch[0].to(device)\n",
        "        attention_mask = batch[1].to(device)\n",
        "\n",
        "        outputs = camembert_model(input_ids, attention_mask=attention_mask)\n",
        "        logits = outputs.logits\n",
        "        preds = torch.argmax(logits, dim=1)\n",
        "\n",
        "        predictions.extend(preds.cpu().numpy())\n",
        "\n",
        "\n",
        "\n",
        "\n"
      ],
      "metadata": {
        "id": "L__hbejHGH82"
      },
      "execution_count": null,
      "outputs": []
    },
    {
      "cell_type": "markdown",
      "metadata": {
        "id": "U8hqZQhPm3LX"
      },
      "source": [
        "##### The prediction is made in our encoder difficulty label so we inverse the encoding to have our initial labels"
      ]
    },
    {
      "cell_type": "code",
      "source": [
        "predictions = label_encoder.inverse_transform(predictions)\n",
        "predictions"
      ],
      "metadata": {
        "colab": {
          "base_uri": "https://localhost:8080/"
        },
        "id": "wa5QS-PFXIwL",
        "outputId": "79f432ae-d0e2-4578-c5de-212d724134ff"
      },
      "execution_count": null,
      "outputs": [
        {
          "output_type": "execute_result",
          "data": {
            "text/plain": [
              "array(['C2', 'B1', 'B1', ..., 'C2', 'B2', 'B2'], dtype=object)"
            ]
          },
          "metadata": {},
          "execution_count": 17
        }
      ]
    },
    {
      "cell_type": "markdown",
      "metadata": {
        "id": "D8BGcAViBsBX"
      },
      "source": [
        "#####Data preparation (Label encoder, train,test split). The label was encoded like this\n",
        "\n",
        "*   A1:0\n",
        "*   A2:1\n",
        "*   B1:2\n",
        "*   B2:3\n",
        "*   C1:4\n",
        "*   C2:5"
      ]
    },
    {
      "cell_type": "markdown",
      "metadata": {
        "id": "2jSRnYgfmOu0"
      },
      "source": [
        "#####Now we can train our model\n"
      ]
    },
    {
      "cell_type": "code",
      "execution_count": null,
      "metadata": {
        "id": "eUgjLVue4Se-"
      },
      "outputs": [],
      "source": [
        "predictions\n",
        "df_pred['difficulty']=predictions"
      ]
    },
    {
      "cell_type": "markdown",
      "metadata": {
        "id": "jctQ2IXYeXEs"
      },
      "source": [
        "# This is how to submit a pd file with predictions\n",
        "### for the example we will submit a file where only A1 is given as a prediction"
      ]
    },
    {
      "cell_type": "code",
      "execution_count": null,
      "metadata": {
        "id": "jUBUCkxWNHKR"
      },
      "outputs": [],
      "source": []
    },
    {
      "cell_type": "code",
      "execution_count": null,
      "metadata": {
        "id": "pg1ITBF8e0aq"
      },
      "outputs": [],
      "source": [
        "df_sub=df_pred[['difficulty']]\n",
        "df_sub.to_csv('submission.csv')"
      ]
    },
    {
      "cell_type": "code",
      "execution_count": null,
      "metadata": {
        "id": "D3i5G0qzgBxP",
        "colab": {
          "base_uri": "https://localhost:8080/"
        },
        "outputId": "dbb93c39-7b7a-4af6-e73f-4642e57b05ab"
      },
      "outputs": [
        {
          "output_type": "stream",
          "name": "stdout",
          "text": [
            "100% 8.30k/8.30k [00:02<00:00, 2.95kB/s]\n",
            "Successfully submitted to Detecting the difficulty level of French texts"
          ]
        }
      ],
      "source": [
        "! kaggle competitions submit -c detecting-french-texts-difficulty-level-2023 -f submission.csv -m \"Sample submission\""
      ]
    },
    {
      "cell_type": "markdown",
      "metadata": {
        "id": "arVl2-0a6lFn"
      },
      "source": [
        "![image.png](data:image/png;base64,iVBORw0KGgoAAAANSUhEUgAABbEAAADFCAYAAABqzb9QAAAgAElEQVR4XuzdCbxN1f//8U9JmSuESEj0TTQZv5ozViJKZEpKmRIhQ8ZkKg1kjIRkSNFARUqkQRHNIUkiczJHfP/7s/zW+a+z7z73nHvvOdzLaz8ePb7XOXuvvdZz7XO+j8d7r/PZp/3P24QNAQQQQAABBBBAAAEEEEAAAQQQQAABBBBAAIF0KHAaIXY6nBW6hAACCCCAAAIIIIAAAggggAACCCCAAAIIIGAECLG5EBBAAAEEEEAAAQQQQAABBBBAAAEEEEAAAQTSrQAhdrqdGjqGAAIIIIAAAggggAACCCCAAAIIIIAAAgggQIjNNYAAAggggAACCCCAAAIIIIAAAggggAACCCCQbgUIsdPt1NAxBBBAAAEEEEAAAQQQQAABBBBAAAEEEEAAAUJsrgEEEEAAAQQQQAABBBBAAAEEEEAAAQQQQACBdCtAiJ1up4aOIYAAAggggAACCCCAAAIIIIAAAggggAACCBBicw0ggAACCCCAAAIIIIAAAggggAACCCCAAAIIpFsBQux0OzV0DAEEEEAAAQQQQAABBBBAAAEEEEAAAQQQQIAQm2sAAQQQQAABBBBAAAEEEEAAAQQQQAABBBBAIN0KEGKn26mhYwgggAACCCCAAAIIIIAAAggggAACCCCAAAKE2FwDCCCAAAIIIIAAAggggAACCCCAAAIIIIAAAulWgBA73U4NHUMAAQQQQAABBBBAAAEEEEAAAQQQQAABBBAgxOYaQAABBBBAAAEEEEAAAQQQQAABBBBAAAEEEEi3AoTY6XZq6BgCCCCAAAIIIIAAAggggAACCCCAAAIIIIAAITbXAAIIIIAAAggggAACCCCAAAIIIIAAAggggEC6FSDETrdTQ8cQQAABBBBAAAEEEEAAAQQQQAABBBBAAAEECLG5BhBAAAEEEEAAAQQQQAABBBBAAAEEEEAAAQTSrQAhdrqdGjqGAAIIIIAAAggggAACCCCAAAIIIIAAAgggQIjNNYAAAggggAACCCCAAAIIIIAAAggggAACCCCQbgXiEmIvXfqlrFu3Tv5b+b9S5MILQ4PdsWOHfPDBAsmdO7dUr14t9Pru3bvl5ZcnyY8//SRFihSRJo0byYUXFg5D+u777+WH73+QW26pKWeffXbovU8//Uw2bNgQ9vr06TPCjs2bN69cc01lyZo1a0T4v//+W9577/2w9wt7fahQvrxkzpw59Lq/bftGw4YNwo49fPiwvPf+PJk7913Jli2b3HVXPbmmcuXAMfk7dVnpy6RM6dLmZR3fjp07pfbttcJ2s+O257X/Dhpgrly55NZbb4k4du3r66+/IR8vWiz5zjtPate+XcqXLxe2v467cOHCxtFu1sx93c6Te3BpbyylvTH5j9N/+930NdtGULv++V+1apVMmTJVtm7bZvrcuNE9SeY52vjsOFx329eUXJt33lkv7FqJdM2m208/HUMAAQQQQAABBBBAAAEEEEAAAQQQQCADCMQlxP7xx5/ktlq1pVzZsjJz5vTQsNs/0lHeeWeOPDP0KalXr655fdas2fJY1+5y5MiRMJ7OnR+Vtm1ah14bOGiIjBs3XubOeVtKlbo09HqLFi1l4ccfh71e7KISSahz5swpCz/6QPLkyRM4DbbP/jeLFSsm896fGwong9rWY9b9uiZ0qIb11arXlL/+2hXWXJkyZeSN12eE2rJj8p+zZcsHpEf3ruZlO742rVtJly6dkozbntfuFzS4woUvkMWLFgaO2+1rjhw55J9//hENfevWvUOefebp0DE67ptuvFEmTBgXes2aua9HGpPbnms9evRIqVmjeljfatS4VVavWRN2vqD5f/rpZ2TU6DGSKVMmyZkzh+za9bf3vzll+rRXQ9dILOOz/XHdU3NtVq1aRca9OCbqNZsBvgfoIgIIIIAAAggggAACCCCAAAIIIIAAAulWIC4hto7OBtbjx42VKlVulqBgW1+rXaeunOetlJ4xY5pZfb1582Zp1LiZWck9beoUqVSposFKaYjtBqszXpsp3br1MKu1R418IRA/KMjs/+QAL7SdKI888rB0eKS9OS4ozPU3eHOV6qb/A57sL40aNTShcO8+/URXM7tBaaQxue3ZcFqD2tmzZooG4brZ193w3B6X3Hv+vvbu3VdemfKqDB48UBrcXd/0tcX9LWXJkk/l0yWLpGDBghHHnVyIbW82HDhwQGrUvNVbLf+HrFyxzKyid0Ns/5wsW75c6tdvaM4ZFI7bdnX1dNlyFb3+nS8fLphvbgws//prb8V7A7ndW7U+fNhzpo1Yxhc096m5NvV87g2aWOY33X4T0DEEEEAAAQQQQAABBBBAAAEEEEAAAQTSqUDcQmwNGStfc51Z+ayrgINWTHfv0dMEu5MnvSzXXXdtiMSGim4YmZYQWxvW8Dm5FcmRgkxdUe6GqdFC7C++WCr3NGoiWlpi6NNDwqb5mmtvMKHwzNemmddjCTmtm64w1rIodlV4vELslg+2kgULPgy7YaAlNPbs2SP58uULW4GekpXY7or5ps2am1DcH2Kf55Uu2emVSlm+bGmoREybtg/LokWLZP/+A8mG2GvW/CLVa9ySZLX/xo0bTTkRLVmjWyzjC5r71FybOke62RX/scxvOv0eoFsIIIAAAggggAACCCCAAAIIIIAAAgikW4G4hdg6wpGjRsvQoc9KHa/G8ltvv2PqHw8a+GRo8BoQa4AYtJr46rIVJEeO7KEyGGkJse0KXX8I685CUJA5dep0ebxnr7DV0xpilyxZUu5r3ix0uFtz2o7ZXZEbabbtmB5+uK0UPP/80G5uLXEbVuvKYl3d3qJFc+nV8/G4rcT+8MOP5KFWbcy5r7rqKmnatLHceMP1omNyt5SWE7Fj+vKrZfK2N/cdOz4SKg9jrXWF+7BhL4RWutvV1Y3uaWhWhye3Elv7VrtOPfnuu+9MuK/lSm6pWcMbw5Vh/Y5lfEFzn5prU+dcS+P897+V5JXJE2O6SZFuvwnoGAIIIIAAAggggAACCCCAAAIIIIAAAulUIK4hto7x+htuMqUksmXLKp99+knYQxnte0Ehtr6nm63lnNIQW8tL6MpYLWeh//nLcfj9bZCpq3j1P12JrKU1/LW0g2piuyu8bT9TEmL7++Ie6664tiVatMzKiy+ON7XA01pORM+tD0ccNPgp+fLLr0JWbuis+6Q0xD7nnLPl9NMzyaFDh0y98yZNGofqfFtrHedrM1+XX39dJ18u/UyeHzbchNofL1wgN95UNWqIrfMzcdJkmThxsmzatMkwFipUSN56842w2ufRxhcUYqf22tQ50Rs3fXr3kk1//hlYxz2dfvbpFgIIIIAAAggggAACCCCAAAIIIIAAAhlCIO4htq1HbVcQuwr+MhP2PQ0nLy1VRi65pKR5YKNuKQ2xtVSFrsr99ddf5Zdf1srYMaOkevVqESfBBplFixb1VlqXkG+/+VY2b9kiiz7+yNTqtlu0ciJ2vBpiNndWa+vxmzdvMc0UKJA/2TG5nXRDbHXRkiQHDx6UK6643JToiEeI7Z5Pa3nf/8BDpqa3PpRTH86pW0pDbLeciK0tbh/i6IbY2bJnl9at24q+p/WrL7qomHkwo/980Upz6I2KKa9OlYEDB0vFihVMG0Fb0PiCQuy0XJta03vFypXmenvvvfeTPIw0Q3wT0EkEEEAAAQQQQAABBBBAAAEEEEAAAQTSqUDcQ+xZs2ZLp86PhZXksGPX1cSDBg8Jlciwr+vK2n5P9A97oOLTTz8jo0aPMStc3XC4Ro1bZfWaNbJ61Y+B9ZvXr18vVarWCAvEg+z9QaaWoXig5UNhDwmMFOa67emK4OtvuDnsgYP6vvZDVxe7AWu0YFaP89e+tjW37TnTGmLXrXeX/Pvvv/LO22+GhmH93RXhF5f4j6kzrQ971FXuur0/b74JoN0bFEFj8l8Dbohdr15dqVCxsgnmdfW7PWe0EFvD4Z69+kjfPr3MHNnNX4YmlvEFhdgpuTb9Y96xY4dUrHSNWYGumxvop9PPPd1CAAEEEEAAAQQQQAABBBBAAAEEEEAgwwgc1xBbVxbXqHmbWfV7g1eHuWaN6t5D/RabcPTcc8+RpV98FgpMbRh9LNi9Ty4qVtQrJfGKKYXhPgBS3/cHoPYhfcmV+AgKMnVF7bLly8NCyKCa2HrOW26pGSqVYkNNLW2hgfu+vfvkpQkvew8r3C+zZ82UMmXKmAsiUk3swoULyzXXVDb7BD3A0a5s1vfTGmLbEiVVq1aRKjffJHv37ZPhw0eYvi5e9JF5EKVudr+LLy4u93v+v677zSvjMUmOHj0qHy6YJ0WKFAkc05YtW2XS5Mny11+7ZOLLL5l59ofYtoyIlpxZuWK5mfNoIba9HrJlyybt27eTHN6K7g8/WmgeUqn1sZ995umwfic3vqC5T8m1GRTc2xX52glC7Azz/UdHEUAAAQQQQAABBBBAAAEEEEAAAQQygMBxDbHVQ8tAtG7TzpTGsCtXy5cvJ6NHjQira6z76gMaW7VqK9u3bzeUWue6mhe+Dh/+fCjs1tf9Aag+MLDyNddJ9uw5wlYSu/MRFGTa17SkhpbWsG0HzaM/qNRgdtSoMaautm768EENVq+77trQ4Tb89LfnPtAwKMR2A9a0htjaVvv2HeQDL/y1/kF91f26duthHtKY3H5BY8qRI4f07NlDGtxd3wzVH2K7D3R84om+IedoD3b85JMl8minLsleD7GML2juU3JtpqTUTQb4DqCLCCCAAAIIIIAAAggggAACCCCAAAIIpGuBuIfYKRntxo0bzYP5om0afO/cuTOmfaO1lej3tZ/2YZGJPlda21d/fZBlrly5km1Ka3vrqulo+6W1P7Eev3v3blOKJNq1E+v4gs4b67UZa5/ZDwEEEEAAAQQQQAABBBBAAAEEEEAAAQRSJ3BCQ+zUdZmjEEAAAQQQQAABBBBAAAEEEEAAAQQQQAABBE4VAULsU2WmGScCCCCAAAIIIIAAAggggAACCCCAAAIIIJABBQixM+Ck0WUEEEAAAQQQQAABBBBAAAEEEEAAAQQQQOBUESDEPlVmmnEigAACCCCAAAIIIIAAAggggAACCCCAAAIZUIAQOwNOGl1GAAEEEEAAAQQQQAABBBBAAAEEEEAAAQROFQFC7FNlphknAggggAACCCCAAAIIIIAAAggggAACCCCQAQUIsTPgpNFlBBBAAAEEEEAAAQQQQAABBBBAAAEEEEDgVBEgxD5VZppxIoAAAggggAACCCCAAAIIIIAAAggggAACGVCAEDsDThpdRgABBBBAAAEEEEAAAQQQQAABBBBAAAEEThUBQuxTZaYZJwIIIIAAAggggAACCCCAAAIIIIAAAgggkAEFCLEz4KTRZQQQQAABBBBAAAEEEEAAAQQQQAABBBBA4FQRIMQ+VWaacSKAAAIIIIAAAggggAACCCCAAAIIIIAAAhlQgBA7A04aXUYAAQQQQAABBBBAAAEEEEAAAQQQQAABBE4VAULsU2WmGScCCCCAAAIIIIAAAggggAACCCCAAAIIIJABBQixM+Ck0WUEEEAAAQQQQAABBBBAAAEEEEAAAQQQQOBUESDEPlVmmnEigAACCCCAAAIIIIAAAggggAACCCCAAAIZUIAQOwNOGl1GAAEEEEAAAQQQQAABBBBAAAEEEEAAAQROFQFC7FNlphknAggggAACCCCAAAIIIIAAAggggAACCCCQAQUIsTPgpNFlBBBAAAEEEEAAAQQQQAABBBBAAAEEEEDgVBEgxD5VZppxIoAAAggggAACCCCAAAIIIIAAAggggAACGVCAEDsDThpdRgABBBBAAAEEEEAAAQQQQAABBBBAAAEEThUBQuxTZaYZJwIIIIAAAggggAACCCCAAAIIIIAAAgggkAEFCLEz4KTRZQQQQAABBBBAAAEEEEAAAQQQQAABBBBA4FQRIMQ+VWaacSKAAAIIIIAAAggggAACCCCAAAIIIIAAAhlQgBA7A04aXUYAAQQQQAABBBBAAAEEEEAAAQQQQAABBE4VAULsU2WmGScCCCCAAAIIIIAAAggggAACCCCAAAIIIJABBQixM+Ck0WUEEEAAAQQQQAABBBBAAAEEEEAAAQQQQOBUEUiXIfbfB/fI3//sCc3B2WfllLOz5DxV5oRxIoAAAggggAACCCCAAAIIIIAAAggggAACCPyfQLoIsVdu/kmmfTdHFq//Srbu2y7/Hj0SOEEFc+aX64uUl3vK1JIrC1zKJCKAAAIIIIAAAggggAACCCCAAAIIIIAAAgic5AInLMQ+fOSwvPrd2/LC0ldk+/6/Usx8bpZc0uG/zaVxmdqSOVPmFB/PAQgggAACCCCAAAIIIIAAAggggAACCCCAAALpX+CEhNjz1y6Rx+YPkb8O7k6zUM6zssuzNXpI9eLXprktGggWOHz4sGzdulXy5csnmTMn/obBxo0bJXfu3JI1a1amBAEEEEAAAQQQQAABBBBAAAEEEEAAAQROcYHjGmLr6uums7vI5xtWRGTPk/Ucuer8Uub9G4pWlEW/LTV/r/jzR9lxYFfE48oXKiPT7nzupF2VvWnTJun3xJNm/C0faCHlypU7bpfuzVWqy7p166RUqUtl7py3E3relg+2kgULPpScOXPK8mVLj0tontAB0TgCCCCAAAIIIIAAAggggAACCCCAQEjg088+k8mTp8iyZcslS5YsUqFCeWl0T0MpX/74ZV3pZTrUYuzYcfLDDz9KwYLnS9UqVeTBBx+IeWGnmxdGGlOkHFHzt5mvv2Hm4dxzz5H/Vqokbdu2lgIFCgQ2tXv3bhkxcrR8/vnnsmnTn142WVaaNWsi11SufFw4j1uIvW3fTqk1taVs3rs9ycBK5ikmLcs2kFolb5JsmbNEHLiG4LN/XiDjls+Q1TvWJdnvvOy55b3GL4n+78m2/fjjT3JbrdpmWM8MfUrq1at73IZ4cYn/yJEjR+S8886TL5d+ltDz2sA8U6ZMJsQ+++yzE3o+GkcAAQQQQAABBBBAAAEEEEAAAQQQSLzAjh07pM4dd4r+Aj9oK1OmjLzx+oxTYkGjVj24864G8t133yWh0IWdr06ZJOoRbfvii6VyT6Mmye7mzxEPHDjgzUM9WbPml8DjOnd+VNq2aR323vvz5kv79h1E++3fSpS4WN56c1bMwXu0MUV6/7iE2BpgV5t8b5LyIYVy5Zfht/SScgWjT4p/APowyDZz+8jG3VvC3tLyIgvvnXLSBdknMsRetWqVjPHuCj3crq1cdFGx1F5rMR23efNmGfLUUGnapLFcffVVMR3DTggggAACCCCAAAIIIIAAAggggAAC6VvALlzUXhYpUkSqV68mB/bvl4UfLwoF21WrVpFxL45J3wOJQ+9sJQJtqlChQtK8eTNZsuRTWbRosWldg+xPFi+Murhz1qzZ0qnzY+YY9Qza/CuxW7Ro6Zl/bHZV7yo33yR79+2TUaNGy19/HauCMX7cWKlS5Wbzt2aStevUNQtcddFpixb3yUXFiooG27a/5cqWlZkzp8dBJnITCQ+xdfV0tcnNZd2uP8J60eKqu6THda3SXP6j38cvyIQVr4e1fUGuAvJx8ylpbjuh8ils/ESG2CnsKrsjgAACCCCAAAIIIIAAAggggAACCCAQEnBXDDds2EAGDTxWMtduTZs1NyGubp8uWeSV1ih40uq5Gd+1114jr0yeGBrrjNdmSrduPcy/dYHnE0/0TdZhpBc8Dx36rAmXf1nzc0xmxS4qYfbzB8/r16+XG2+qat67/fZaMnzYc+bv9o90lHfemWP+fvutWWErxAcOGiLjxo037018+SW54YbrY+pDanZKeIjddFZnWbz+q1Dfzjg9k/S6oa00v/LO1PQ38Jgp374lfRYOk3+PHgm9X7nw1TLtrmPYx3P7+usV8ljXbvLbb+vNHQrdihe/SB5/vLvcdOONoa7Yux6FC18gixctDOti0Hv+EPvwv/9Kr159zDJ+fdii3jV59tmhYUv3r7/hJtmw4Q9z3vvuu1ce7dRFtm/fbi7s2rVvlyGDB5r3H3yolaxd+6vpg94Jm/DSuLAV1247EyaMC/U11rHqAbHum5zLuPEvyfDhI2Tv3r2mD/rgxybeB7qL9zMH94GT7l0oreH95ltvy8SJk0JWzZvfKz26d435srB9t0bqp6vE9cPsrxM0d+67oh9grUmkm+576aX/kaFPD5FLLrnEvNa9R0+ZPn2G+Vv7p7XG7abzeeVVZWX//gPHpQZ5zAjsiAACCCCAAAIIIIAAAggggAACCKRSwM1qgsrkrv/9d/n8s89N67fcUjNsBXJKchnNVfr3HyCvvzFLtGyGbjly5JDu3bpKo0YNw3rvZlAjRwyXFvc/aHKzli0fCOVGv/66Trp172FyLbsS2Z/z2EY1p/v8iy/kxbFjkq1k4Aa/unpZw2R3q1Cxsmzbti2msr62raB8MdJU2RDbHafd94ory4rWvtYs0WaANhcMWm2t3iUvOfZsQzf4TuVlkuxhCQ2xZ/00Xzq+PyCsAwOqPCpNLq8T97HM+H6uPPbBU2HtPlXtMWlQ+ra4nytSg3pXQu9O2C137tzy999/h8JsDT11QnVLS4itF5Jd9u/2pVixYjLv/bmhQNe9yFasXBnqhz2mRYvm3lL/N2TPnj1hQ/L/ZCEoxE7JWFOybyQX96cOfn//uN0vxkhWQXf9gubVbcv/vgbUs2fNDN2BevrpZ2TU6GM/edH3tJ73zp07Q/9++63ZJphetny51K9/7IvzkUcelg6PtA81/eGHH8kDLR8y/+7Tu5f5OQkbAggggAACCCCAAAIIIIAAAgggkJEF3LxDc5y5c96KqYZySnIZDVRr1LxN1q1L+hw9tXODWf23m0Ht2vV3KB+z4a7Wq65br36SPM3mPm4m5I5Psx9dtBhp02fe6WLVbNmyyg/ff5tkN3flc7RV6XYMGjC/8MLzMuHlSaIrqnWRapPGjeTCCwsnab9GjVtl9Zo1UrJECZnjzYNdGOqulu/fv585XrdIi1ttwzYU13n96MP5CbtMExZiaxmRq8bWkT3/7At1vtkVdaX/zR0SNhh/aRF9SOS3recct7Ii9iLUByDq8npdpat3fW6rVcd8gNy7ImkJsRVQP1AdO7Q37bdp+7AsXfqlcXVDUXuR6esa2rbznjC6des2ubd5i9AHUy+wMWNGSvZs2UwNHdvOYG+VdoO760e8WFMy1pTsG+Rifxphx9G71+NyxhlniL4+bNgLpo/u3R73C07D5KHegzDLe09M1Se9qpW9cxbtwZH6oa9StYbZX5/SOnnSRCld+jJj1LhJM/O6FtnXudbtstKXmxXUl11WSma+Nt18GWuN7+rel4PeKHC/LO1dNf8Xm/2i4sGWCfuaoGEEEEAAAQQQQAABBBBAAAEEEDgBAm5NbPvL9Tp1akut227zMrT8SXqU0lzGDX979Ogmze9tJv96lQy6euU5bDkM96GF7oJJzX16e4sJNT/6559DJsMrW66iyXMK5M8vM2ZMM4Gw5jyNGjczOZ/mf18u/cz0260bHW1Fss3rIq2edhdJ+n/B70fSRZK6WFL7ogspbVUIu1/QQxo1nNeHSmror/W46991p1mBPs2rGqDH+8N+N3RfuWJ5WDUErYvdunVbc7qUrAZPzeWXsBD7uc9flue/mBjqU7FzLpAPmk2Ma6C84s8f5Ydta8JWdt/4cuOw+ttdr31Q2pRvnBqbFB9jL0K9kzFv3ruh43UZvoab7gcyLSF2xYoVZPq0V0PtuyUo3AvG9ufcc8+Vr5cfC7l16//kAO8nAcfmxq1loxdx7Tr1zOvuTwqC7rikZKwp2TfIxR7vfjnYsTS8p7EJlfXL76cfvzMfJDfE1i+tlg/cHxq7+5ONaF8E7r7Tpk6RSpUqhtp58cXxMvbFY6VVvvh8iTmvvfOkP3sZNfJYuK6bXY2tK/Pt5rbt3lW7umwFr4j+X+Kf4xRfjByAAAIIIIAAAggggAACCCCAAAIIpCMBuxDzY+9Bjv4tb9688tRTg8JK8aYkl9H2Li1VxoSwQZmKXUwYtMBUj/144QKzetlubrbkf8+tHe0+APH33zfI6tWrTV1ot+ytf6w2P/KHxUHnDiq94rbnLmDVhZd6U2C9V+JYa2trXqibWxnCHrts2TJp9/AjsmXL1rDuXXNNZfNgTV2Yabcpr041JY1108WcI14YZgL9+fM/MG3Y82TYELvci3Vl275jpRR0m3jHELmpWKW4fXQ0wL57Zns55K347ndT+1CN7U/WL5MmszqFzpM769myolXkJfxx65DXkHvHR+vt6BM+b7v1FlM/2Q0w9ZxpCbHdVdK2/+7do3W/rjEvR1ruHynIdetuRwuxUzLWlOzrd9FyLFdeVc6MJ6gEyMSJk6XfE/3N+zZodr9o/AXn/fWy3XrU/mvB3s3Shwlo0Bxts3emdL/8+fNJtapVpeYtNaRM6dKSK1eusMPdLzxbNsT92Ua0L6lofeF9BBBAAAEEEEAAAQQQQAABBBBAID0K6GK/V155VRZ8+KGsWrU6FIJqX908KiW5jJupBJVndZ9PtnLFMlMC1mZQQbmP3f+ss86Svn16JWHU93Vr07qVdOny/3PIWLztL/mDakzr8UFZV3Ltbty40VsQuctUD7Dbjh07TC4Y9Mw1d6W3rsTWigJ6g0ENNZDWMsOvTpkU9gDHSGV+tcJDoUIFzUM5M2SI/cUfK6XBzEdCcFeff5m8Vn9Y3FZhuwG2PYlba7vu9Dby9Z8/hM4/pd4zcl2RY0FoIjed6AYNG8mKFSuTnMb/wMS0hNhBAacbTB+PEDslY03Jvn6XSMG6BQ56MEByQXVKQuxoP+/wT7J+QdS5407RLw//Vr58ORk9aoTkyZMn9JatQWTvENo51JpI/p9nJPK6pW0EEEAAAQQQQAABBBBAAAEEEEDgRMkXS4MAACAASURBVAnoit7OXbqGSt/alc8pyWWiPTgyaEFnLNlcNJOghyNGOybauFJSRSC5c7nBvc0K3drdd95ZT4Y+PSTUhOZaN91czcyDP5DWbE/L+k6aNFm0frgu3q1WraoM8coR31H3TlNOJVIoH80j1vcTUk6k10fPy+RvZof60PP6NtKybINY+5TsfkEB9pmZMsuUO5+RioWuMMdOWPG6aH1suzUqc7sMqto5LuePpRG9o7Tk089k7tx35TPvyap79+41h7nlMJL7oDRt1jzJHQw3zA1aid3ywVayYMGH5jzHI8S2DrGMNSX7+l02bdok11x7g2lCH0TZq+fjYVOgP4/o5tU20s3+hCNeIbZdWR3rSmzbsc2bt8icuXNl8eJPZNmy5aGn4fp/zmJrfdtSKFWqVpcNG/4wT+F1y5HEcs2xDwIIIIAAAggggAACCCCAAAIIIJBeBbTURqZMp3v/nRFY/9qtrWwXb6Ykl3HD2aDczC2ta8u6JpfN2aoC+sv6d+dGrvCgq5b9v76PNgduhmdXhbvH2BXomhf9subnaM1FfD9owasbbAeV2XXfnz/vPSlR4uJkz6/hti3jElRBIdWdDzgwISF2zVdayE/b14ZO91O7eaIPWUzrFkuArefYdXC3XDH69tDpSuQpKguaTUrr6WM6XgPMs8/OFVY7pmPHTvLmW8cueHuBuMvw3QtWJ79ipWtMXWT3rocbYvtDTvcYN3BNZDkRHUusY03JvkFfILZOtL/WuLarD2p87733ja11jFeI7X5w/fWPXprwsowaNcac95PFC70nymYzf+sq7Hz58oVqH+nc1L+7oXzzzbGnzdobDPq3WypFH8hpH1Lp1lOK6aJjJwQQQAABBBBAAAEEEEAAAQQQQCAdC9jgVoPZ5cuWmnIe7ubWXbYhdkpymWPPiztWhSFocaD9Nbz73LjkQmy3pIc/E9JzaCYW9DDKWKbAHau/9ImuhtZcMFJtb7f9NWt+keo1bjEvBa0It2G4O2a35K+/BK+2ExRyW6egygGu08yZ081q7ERtCQmxiw+7Wf49esT0OV4BcqwBtoXyB+nrO0avaZwWZA0k9amlepFde+018srkiaHm7MpqfcEGre7dEF2hqx/Qffv3S+fOXUUfsKhbpBBb3xvwZH9p1KihqVXTu08/me49QVS3pk0ayxNP9DV/JyrETslYtR8pcQn6Aundu6+8MuXYgyzbtmntGT1q/nZXYbvF8FMTYuuTVD/wVrJ37PiIOYdu+nRX/cDrpjV+5s55y9yc0CfRVq9xq/l5hQ3W3X3dFeM6P3aFtf8Bm9qu+2BKvXaC9gldSPyBAAIIIIAAAggggAACCCCAAAIIZEABN7gtkD+/tzBwhFx11ZXm1+vzvHIimv1ozqKbDY1Tksu4GYv+/cLw56VWrdtMe+4qbDfsTS7EdrMvze1enjA+tGDVbc8uRNT8p84d9eSXX9bKcO/cNWtUjzhLuq9mZTpeDfXHjRtjHmipeVOjxs1k3bp15lh3kaNmXd26P27qXs+YPjW0eNI+sNJtR9t/euizXrvjTTtuVuhmZvqcuNdnzgiNa+HHH3theCuTbeoK82+/+doc73+w47DnnzHlcufMedfLJPua/bUtXbibyC3uIfaGv/+UayccC/50u75IeXml3tA0jSGlAbae7L43u8lH6z4PnXdh8yly0bmF09SPaAe7dzM07NT/Dh06FConcvvttcwTQXXTB/tVqVrDTLS76V2NUpeWMgFqpBBbLwxdme3f9ALTVcH2blaiQmw9b0rGmpJ9g75A9MNXo+ZtoQ+xuuqH05Zp0XEv/OiDUL3plIbY7ip3/0813JsNOu5zzjnb1P6xm/uF4j7YUWsDnXnmmebLWP/TTcN3G5Db490vAn3N/WKJdr3xPgIIIIAAAggggAACCCCAAAIIIJBRBCI9HNDtv39FcUpyGbems7ap2YzmbjaX0QWK896fGwqAkwux9Xg3X9K8SPM2N+eJtKBSz/PRh/OTnRa37aAd3bb1fZvx6d+aLWrGqJsuhK1br36SfNG26R+zvu6fh9y5c4eNS8c6YsTwsCA+ubnz53KJuh7jHmJ/t2WV1Jr6YKi/za6oK/1v7pCk//sPH4ypxEhqAmw9mdbE1trYdnuz4Wi56vxSiXIMtasfrokTJ4U9WTVz5szSvPm90qN717Dzf/LJEnmkQ0fzBFHd8ubNKxNeelGee2646N2PSCG2rtpeufKb0OpkPVbvXmkd5QIFCoTOkcgQW0+SkrHGum+kLxD9knj00c5mtbQb/OsDE/XD6447pSG2G5LrnbLRo0eGzdPUqdPlyQEDQ196dq6efeZpue66a0P7ajvt23dI0kcN3ft4T7JtcHf9JNefWztI30z0Ty8S/gHgBAgggAACCCCAAAIIIIAAAggggECAgH044Isvjg/LWGzO8tRTg8yKZP8Way6jx+lqZl1M+dVXy0LNaChbrWoVefbZoWHlf6OF2NqA5nOPPdZdtm/fHmrP5nxdvMWK+rduboDevn076djhkajXgOaCj3bqEti2P0O0Yf65557jLeRcEFaOZdWqVfJQq7Zmwazd7Jh1Vbjto9shNR00eEhogah9T1d668MeL7nkkrD+29Xd/swzKJeLOvBU7nBCQuxt+3ZK/dcelvNz5pNpdx1bmRy0pTbA1rZOVIhtx6G1cY4c+TdiwXp3vPpwxDPOOCPFheA12NVjU1NEPpXXS+BhKRlrSvYNOpl+aLZu3Wre0jtFGhDHa4tWz8j2Xc+p505u09rYusWyb7z6TzsIIIAAAggggAACCCCAAAIIIIBARhDQPMuukI4130lJLmMzM7Vwn12WWhu3v4UKFQpsRjMrLRESLTPyH2zHFa2vNgMMCqX1WHfMkfroP/fu3btDZVxidbKZV6zzllpz/3HHPcS2Afa6XX+YvlQufHVgkJ2WAFvbPdEhdrwmiHYQQAABBBBAAAEEEEAAAQQQQAABBBBAAIFTWSDuIXa0mth9Fg6TiStnhZn762anNcDWxk9ETexT+UJi7AgggAACCCCAAAIIIIAAAggggAACCCCAQCIE4h5iayeLD7tZ/j167IGFJfIUlQXNJoX1vfWcPvLumo/DXqtR/Dp5sfaTEo8AWxuu+UoL+Wn7WnOOM07PJD+3myeZMx2rU8OGAAIIIIAAAggggAACCCCAAAIIIIAAAgggkDEEEhJiuwGyMvzkBcjZMmcJE/GvlNY3yxUsI99u+VkOHTkc2vdML3iecuczUrHQFTGL7jq4W64YfXto/6AgPebG2BEBBBBAAAEEEEAAAQQQQAABBBBAAAEEEEDghAkkJMTu9dHzMvmb2aFB9by+jbQs2yDJIIOCbHen1ATYevyEFa+bmth2a1TmdhlUtfMJQ+bECCCAAAIIIIAAAggggAACCCCAAAIIIIAAAqkTSEiI/cn6ZdJkVqdQjy7Pf4m80+jFwB5GCrJTG2DrSepObyNf//lD6HxT6j0j1xUplzohjkIAAQQQQAABBBBAAAEEEEAAAQQQQAABBBA4YQIJCbF1NOVerCvb9u0MDWziHUPkpmKVAgfadFZnWbz+q9B7aQmw/QH6edlzy+f3v0Y97BN2iXFiBBBAAAEEEEAAAQQQQAABBBBAAAEEEEAg9QIJC7Gf+/xlef6LiaGeXZCrgHx6/4yIPbVBdloCbG38xpcby7pdf4TO065CE+lyTcvUC3EkAggggAACCCCAAAIIIIAAAggggAACCCCAwAkTSFiIfdh7OONVY+vInn/2hQbX7Iq60v/mDhEHq6VFWpW/J0UPcXQb0zrYWg/bbjnPyi5ftpyV5KGSJ0ybEyOAAAIIIIAAAggggAACCCCAAAIIIIAAAgikSCBhIbb2Ysb3c+WxD54K69CAKo9Kk8vrpKiTsewcdK6nqj0mDUrfFsvh7IMAAggggAACCCCAAAIIIIAAAggggAACCCCQDgUSGmLreP31rvW1eIfLU759S/osHCb/Hj0SIr6+SHmZUGcQtbDT4UVHlxBAAAEEEEAAAQQQQAABBBBAAAEEEEAAgVgFEh5ia1mRapObh9Wp1s5FKy0S6wD8JUT0uGLnXCDvNnmJMiKxIrIfAggggAACCCCAAAIIIIAAAggggAACCCCQTgUSHmLruLft2yk3TWoSVh9bXy+QI6+8fMcQKXXexSnm+XHbL/LA2z1k4+4tYcdqHez5TV+Wgjnzp7hNDkAAAQQQQAABBBBAAAEEEEAAAQQQQAABBBBIXwLHJcS2QXatqS1l897tSQSK575QWpVrJHX/UzXZ8h+6qnv2zwtk3PIZsnrHuiTtaCg+u+EoAuxkrrFt27fLOeecI5nPOCN9XYn0BoFkBA7+848cPHDQu3bPTpPTrl1/S5asWSTLWWelqZ30fDCf8fQ8O/QNAQQQQAABBBBAAAEEEEAAAQRSI3DcQmztnIbQTWd3kc83rIjY13Oy5JJyBUub928oWlEW/bbU/L3izx9lx4FdEY/7b+GrvBrYg094CZE5774nI0aOln3795u+XlCokHTs8LBUKFcu5vl5f/4HMmHiJHlt6pSYj4llx6VffiWdu3aXpo3vkQcfuN8csnnLFhNqu6He3r175cDBg3Je3ryxNJvsPqPGvCgfL14ccSyJGqvbqRYtH5Kt27bLnDffSNLXuxs1kRbN75Wa1auleawnuoHrbqoqj3fvGvexPNbtcfl86bHPoW56reTPn0+e6NNbLrqoWJqHHcsctGzVRlav+UUWfTg/1efbsWOn3HHX3XJt5coyaMATqW7n9w0bpEfP3rL+9w0hj3saNvCuo2Yxt7nml7Wi1+UnCxfEfEwsOwZ9xjXUzpoli+TIkSPURDw/4/oZHjBoSLJj0ZsQTw4YJJ98+pkcPXrUXEOPtG8ntW69JWxYep0NHjJUdv71l3n9isvLSP9+feRc7zvqZN30+r/x+uulTasHT9YhMi4EEEAAAQQQQAABBBBAAAEE0ixwXENs29v5a5fIY/OHyF8Hd6d5AOd6offAqp3k1hI3prmttDbwyqtTZfyEifJoh/ZSsUJ509yw4SPlsy++kPFjR0uJi4vHdIpEBbuH//1XFi1aLGXLXh0KhYKCz2jBc0yD+L+dorWVqLHaPv6xcaPc0+ReOf3002Vg/35yTeX/hnU/lgA1JeM9kfsmMsT+59A/0r1rFzM8DYOnvDrNXNevTn7Z3KhJyxbLHPz66zrvRsQ2qVSxQlpOJUs++0wuLFzY/JeaTa+nxs3uk8qVKnkhbFvThAbHzz4/XBrf0yB0cyha24kKsYM+40EhabTPZbT+u+/HEmJrYH/w4D/mJkuhggXl/fnzZeTosTL8uWfkqiuvMM19+tnn0u3xXuZmQN06deSvXX/J4736mtX3o14YlpIuZah9CbEz1HTRWQQQQAABBBBAAAEEEEAAgRMkcEJCbB2rrsoe9/Vr8tLXM2X7/mOr7lKy5c12rjxcsancfdltJ3z1te13o6bN5b+VKsrDbVuHDaXdIx2lQvly0qxJY9EViXv27Alb5azB044dO6RA/mN1vN1gV8sfHPznoOTInj1sJaXbjq60PHLkiOTJk8eUCbHtaVu2TdshXXmt++mm56zfsLG0a9NKbrj+OrOvnm/cSxNMMDdi+HNJzmv7k+WsLBFLO+g5dNPzjBs/IeaV2EFjtWOxY7PjiPS6/xrSsO6LpV9KkSIXmrf69+0dtktQgOr6+c9rD7bmkRyivW+NYplX/z62D7qadu++fd6q1mNz4YbY7vWx7rffZN++/VL6slKhsccyj3ZnXYmt21ODB4TZ3dWgkdSpXctb2d8o9LprF7TC/99/j0j2HNll9eo1kjNnDhMm2zmocvNN5poMum51rHqsv5yIdU7O0R2/7p8zZ85UlxN5cfxLMv+DD+X1GVPDLKZNf827zj+RsaNeMK/bz5lbtsc9txti++fRbdi284/3ywida3ecdux+Z/fc+ne79h3NTbWmTRqZz+S+vfuS/YzrtbNr17Ffvfi/P/zXv577Y+/GWHIrsf/4Y6O0fri9PPv0U2E38to8/IgULVpEHuv0qGl28FNDvaD7oPTt3TNEsGLlN9K+Yyd59+3ZZt4ibW6fo31mI32eUjLuoDb8c5UpU6bAX7PY89j3g0LsWMbjWiT3uYv0fRH0WYjluy/iJPAGAggggAACCCCAAAIIIIAAAgkUOGEhtjumlZt/kmnfzZHF67+Srfu2y79HjyQZ8hmnZ5J82fPK9UXKS/3LanolR8okkCV1TWuIrUFhj26PRWwgaOWxf1Wm3Ud/Yv76G7Mka9asstsLvuvWqW1Weetm9yle7CJZsXKlKf+R0ysX8HiPrtKv/0DJnPkME0gXLVJEXpn4Uqg/GnROGDfWvP9wh0fNPtmzZZPMZ2aWd2a/If0HDpbFXhh36PBhyZUrp9S/s54J3zXceNgL43/6eZV5XY8r563ofmqwd67/q6+tZRbatHtE9nulVLTPp512mlT+byVZ+e23UcuJJDfWWnfcKfXuqBNWrkFXvU+eMlU+eG9OspNV58675a56d8iFF14ovfs+IQvmvRtWD9wfYi/6ZIn0e+JJOfPMM82NAf1v8KAnQ+Vg/vLCvQdbtTVhq4axu3fvkTvr3iHt27Ux/Yj2/s+rVkvnx7rJP15QqLWZ1VFLKnTt0inJvC5bvty8pnOhq6Ddkie68nf2W29LLi/YO3DggDRsUF9e8VZH23Ii9vooemERUwrkvxUrmhA6aB4vK3WpvDDsuYh10mMNsV07Deg0dG3V8gG5p+HdZhx6Q+GXtWtl8+YtsuGPP+SeBnebEgo6Bzq/EydPkUzeinkdTzbvmhw1YlhoxbQe+9tv60NBuuuc3OfDP/5YVn0nd0FpiP32nHdl9uszkq0rbz9n7q8v3HPbz7zO16AhT0f8TGk76jT7zbdC10KXTh3lrbffkQ0b/pBDhw6Z18eOHhkKiN1z3173TnONnpk5s7neXnj+WXOdBH3GtR37axINaYPmQd3bd+gk+lnX7wENxOt6c/fa62+kuDRKs/seMCvrkyujoddU0OfWnSO3z/p5PcP7Pho7eoRZ8e3/TAZdK+64teyKmvqvv6DrrYZXgqinN392s3Plfmf7S9e8Pmu2vOCVm9LzaF/LlS0ra9f9GlZOJNp4/NdntM+d7v+kV+5lnlf2xf2+WPDRwrBSSkHffX28Gwo3XHdtst+xvIkAAggggAACCCCAAAIIIIDA8RBIFyG2f6C6Mnv/4QOhl884/QzvYY35jodHms5hf1avqx7vu7eZlCxZIknQFWuIrcFWxfLlZcCT/Uwb3//wg7T1VlTaMNOeq/OjHaTO7bXMCu8GjZqaAHmqV+LhvPPOEw1MtZbw4AH9Q2U0/OFarOVE+vYfYFbPThg/1qxi3eaVdmjqhVC1a90WCqE0pNPQ0N9nrZ8cqb63jiPaWDWwXfnNtzL55fGh+dHyBKUvuywU6gdN3Hff/yC62tOu4qx2Sy1p2+ohuaPO7aHd3WDRlorQkNDW6tXA6e05c2XWa9PMSlDtyxdffumV0Zho5kWNO3XpKs8/87SUKHFx1Peb3HufFCtWLLQi3K401RsLGnjaeb37rjtDK/qfG/aCvPv+vFBgb81Geivl1UCD6cd79jFhtRti6+pYtx0ddPfHtZbz76F51HDuoTbtpNSll0rfXsdWXPs3DbHdciL6/ovjXpIvv1omr0yaYErT6HVXr35Dubv+XaGbDTawszcONIieNuM1E9i7tZB1DrZ7NcuHP/9M2Hh++3196Lrxh9g6/3nz5I36+fCPP60htnppeRq9YdTygRZeWZGKYb+QsHaxhth6k2nc2FERP1PaTvlyZWXIoAHmehs4+Cl5b958sZ97nfvGzZqHzZ//3LGWE9FyHj169RH/deXOg14L+jnxfw/s825YxFLf264e1+vnsy+WyrQpk5LUu7arkDdu3CSP9+4b9h3jvzb1Vy16k8v9zOo1fqZ3U65fn15m92jXih3300MGmptV9vOkK6vtd47eoNSyOfa7TUP8+x9s7d3gaxT6JYK6F77ggpCNfme39m7q2e9fe+PCvf71+0VvANgbOrGMxzWI5XP35lvvyHPDX0gyr0u/+ir0/yfatwceah3mOP21mTJ67Li4lAxK0/+xcjACCCCAAAIIIIAAAggggAACnkC6DLEz8sxo7d4BXtCkK051u7h4cXncW5ltH4AXa4itAaSWLMif7/+H9xokb9261dSH1XaeeW5Y2ErkoBWz/tAuNSG2Biu31q5rzlum9GWh6dGQctbst2TqKxO91eDBP/vv5a1+XrV6dbIhdrSx2vBHAy8Nkmyda39//NeNeumKaV19qttTzzxrVvO69XVdH31fV7fa/W17GpJ19B5Cp+UutM1Nm/6UkS88H7gSN9r7/j5qYHZztZph4bOG+u4DDO34dUW9hp7+MgzapjVxQ2z/9WHn8ckn+oatroy22tX/YEc9X3ZvpW7LFvfJnd4q90ibvYliA3oNonV1uf7b3XQO/CH6Fu8613IltmayG2LrtdahUxfzoE63xITO3187d5mHNgZ9PvSc0UJsLf2jQaRdGR80Ng1Zhz77vKkvr3/n9Up0NL+3qbmZZLdYQ2z3BpMeq6twZ8x8I/QQUm3H3Seo/rQ/4E9tiK3XlX5f2V97aH/sNaPXXp7cuc33gFvHWveZMHGyvDxpckwhtvr/+edm80uHDg+3k9tr3ZqE2I5R37i8TGlzc0VvygVt9jrRXxnorw38WyzXio5bS5C4pYZskK7lVOx3m/3+sefQcWttb3uDTt21r/o9YTcdb1Xv3/og3aDvH/3833r7HeZXNroiPdp4In7YnDf8n7tYvi+0b99//2PYjUJtMpbV8rH0iX0QQAABBBBAAAEEEEAAAQQQSKsAIXZaBSMcr+GErlx+YeQoU4Jj7KgR8p9LSobVu7aHBpUTGTFqTCjIsvtpaKyr9jQ0CQrDExVi2/756xEfPnRY9nkrcHUFpvZn/EsvJ6kVHO0BcnpctLH6wxQNj7QOr7sy2z8NNhxqePddcptXrkO3772V2f2eHGhWf9qHEbqhpvppaRYtu+BuWo6hgbfCWEMmXYnb9N4WZuWxrqiuVvVmb2V37VCN5Wjvazj2plcG5JMln5qSDFqOwaz89MoSaLmQ5G5y2DBY+6wlXtzVzNpfd1V9cu189MH7YQH8b+vXS9Pm95twOejho0HXlfa/Z59+YQ8z1NrOWuJl+dcrvIcwbjVlLI4ePRpq1x+2WmMdj66Yvqte3TB3vXmg9drVxT3WrkTXchbudvDAQTk397kRPx+6b7QQu2atOl6IXUjGjRkV0zeDrix+xRvzW+/MCV0jdi78nkHlRPy1nm1galc1+wPpRIbY2r/df+82pYXcTUve6PVZ/KKLzKpm//UTy4Md/Zg//PiTdPLK6lSvWiXiryn0eho19kV5//358sbM6UlWbNs2tcSLlkjRUhmVvJXxDerfKSVLlDBvx3KtRPo82fYjfbd96JXj0JtWkebKXm9aKkm/O/RzVLjwBUmemeBfKZ/ceIIuymifu1i+LyL1TVe1a9kTfz38mD4c7IQAAggggAACCCCAAAIIIIBAHAUIseOIGakpDQi0RrBdITph4qSwlclBIbZ/Fa22ras035n77gkLsXWF5hmZzkgyTF1NGSmMjiXEjjZW/9h1deCNN1wfViPb3yl3Naf/PS310qJ5M/OyP8T+x6uHqysn/VvJkhfLJSVLmpc1dP722+/MAysXL17ildo4FFYWIdL7ObwSFHW9Gt1al/euO+ua0hlFLiwst3grMVMaYgeFvrGG2P7gNDUhtjq4K1F1JXgzLwgv7I3nrrre2EqX8h4muc+UU3BXYrt1ra2xzsHtt90a9oBIfU/Lv3Tq+EhgiD3shZHS5qEHk8xTDq9O+U033hB4M8A/3/H86Nuw1K6gj3Ultv/XFlraotvjvSIGo4kOscuULi1XXn55Epqrr77Su3FzwITY/usnNSG2nsCWm3F/dRA0J3ozo7b3HaOrmSNtGrTP++ADWezV0P7+hx9DNxS0b9GulUg3Uey5In23pSbEzntentCDLN3r3wbd9rVI4/GPP5bPXaTxud8X+v9RQX0jxI7ntwRtIYAAAggggAACCCCAAAIIpEWAEDstes6xO3bslOYPtPQe9NVNtCa2u7krWW3Y5T5g0B8C2X/7f77ub8cfhidqJbat02prxtqx6QrAs7wHlGmtXlt/OqjPbk1dP3csY9VjbFmDTh0ekWeeH5YkSPO3qw+tPMer1eyWCNB9tKa1ls94643XzCFuiK3v6U/xX/QeCuduGijZVei6klo3rQuumwbWde9qYFZ/Nm3cyJSXiPR+Ja/cgT8EDConEukmhw2Dg8bmPigw0opuPVfVGrfKE317h5UT0Zq5I8eMjfiQzEgPdvT/MsC/oj6onEikEFtvELhzZccTFIDba+3t2a+Hrc515yloJbp/vlPz0e/UpZsULHi+Cdfdzf8Z9teat/a2pr0dn7+0i/+mz/Fcia3X1fkFCoQ9mFb7/Y/30Fi9AWO/B/zXj611Hqkmtv5qQj+zs2aGPwzTH2I/1OZhqVC+nNx/371httFCbHfe9UCt5fzSy5PM9RzLtaLX91lZzgq7/jZu2iRff73SlDvxlzOyndPvC617bcvjRLpxYQPqoNr+9rqwv/TQtpMbT9D3Z7TPnY5v7z5vVbtXDspudsW/vXmmc/jF0i+T/LrFPhhXv9vYEEAAAQQQQAABBBBAAAEEEDiRAoTYcdTXgFIDiMED+5ufs2ugOW36DLNi1dZKtTVPNRzRkhBr1vwiw0eMEn2ImA2BbNB9YeHCoYe+abkCrcNr6+PGq5yIBkRVbrpR7ml4t2j9V900XBrrPXhNw9zz8uY1AZb+bF5XH4/wHiZY8PzzzYMdH3m0iynLYX9qSWxd6gAAIABJREFUruM/ePCf0IPNtM/Dho/wVvjljfpgx+TGaqdIQ7YfvFWWl11WKkndancaI4Vtuo8NpGw97aAHO97btIk09R7YpuG8BmIjR48NrSbWB2VmzpxZnh36lAmy9YGT2q+hQwaZmxfJvV+0aBFT59k+2E2vD60HriFfSlZi29W6th29maArnrU8ifvgT38YruPX2rcfLVzkjWeMmUet4d6mfQepd0ftiCtdgx7s+O1335sbArYchP+hgNqn9h07Ge9YVmLrgx0f9YJhLZGixz7Yup1k8YJFGxAGPdhRf93wnDcPen3acdgHjSYqxNZfQ4yfMNGUwLj1lprmGtHyKfoAwquuuML82kI3+1kY0L+v+feQp5+RtZ61XVlur8Pc554r470HO2rNZ72WHnm0szzQonnYwwLdsiSpWYmtNZGzeDebHuv8qKn9rH0O+ozbOezRtYvU8Eq4aMD63LDh8sGCj0IPNtXvAQ07X/Eesmr73KVrd/NdFynEtp9HrW896MknzHzZciKVKlYIPVBUryf9zniyXx+57tprzHWg5UTmvvt+xIcLLv3yK+nsnd/WxNZ+9OjZ2wTutiSMzkVy14r9PLkPyX2082PmGFsfXw31u12/E7X/+hDVbj16Se/Hu4dqYEcLse2DY7VszsNtWxuz3n2eMHXi77qznik5Est43O+6WD539qGNlStVkgdbtjCfyXHjJ5j/z7HfO1oG6Q7vVyLat1YPtTSn0LnX74qZ06aE1Z6P4/9l0hQCCCCAAAIIIIAAAggggAACMQsQYsdMFX1HDQJ6eXWCv/HCXrtpYGTDOfuaDcK0XvDZuXKZ9/v06x8WYmsAWbd2bRkzbrypK3z66aeb4MPWDY5XiK3tPOUFbBpY2dIG+veDrdqah1Oahxl6DyvT1/o98aRZxWy3y0pd6oV2/UOrYXX8epyGI7rpQwgbeDWpJ095NdkQO9pY7flsgGeDl0gzojcNps14Td59583Ahy9qORKtT97De+Cmv0byl8uWyRP9B8rfu3eb5v3z5x+jzouG3rY8SbT33bnX9ps2vsfU801JiK3Hue1oHzS8VscWze+NWFtbj9N51EB1njfvuumx1by6xD29mseRtqAHO2qAX/eOOtLygRYh4ye9QN5tV1eX6jzEEmJreZQZr70edu0Mf/6Z0LXlD7HVubtXdkPDULvdcN210qd3T9OfRIXYei7ty+tvzDKWQefW13QVemev5rNeR/azq/Xs7fzYEFtvSul3hm1LH/DnPlgxHiuxtS8Pew+s1NDU3gQL+oxrv+e8+5486z0w1vZHv5969+ohFcqVM0PV17Ut627f1xXqkUJsPU5XLPfzPlf2u8Fed3ojRufLtj18xEh5+5255jtPNw359UaAlt6JtPk/U3ozbpT34FX7MMho10rQuLWNF8eMDF1/atfBu8Fgx619vs8rSeSuUI4WYut59PtTv0etr37+f/nlV9EbXBpi6xZtPH6HaJ873d8+cFhr1eucDfRuJjRudl/oe8fOkQbz9rtP7YcMGmC+K9kQQAABBBBAAAEEEEAAAQQQONEChNgJmAENPHZ5IZuu5NOVzJE2XWmoq/qS22xbdgVlArprmgzqS9BrGr7s2LHDlOqwJTX8fdIVi4f/PZzs2IPGEW2sGgA9OXBwxHA6njbRxqDvH/znYGhla5BBpPdjMYxlLGlpJ5p1LOdPzRxGa1cflJj5jMyh8i3R9k/UOKKdV9+3gWxyn81YPuNpmcdY+mn3ifUzrvtHmwdta69X89z+eiPWfsR6nNrmyJ496vejPa81zHJWlojXTizXip43uTZi7X80j2jji2U87jmijU3bszcL7HH+kjf29WhzH21svI8AAggggAACCCCAAAIIIIBAIgQIsROhSptxFbABzaOdu0q5sleHrVSN64loDAEEEDjJBN57f54pifTy+LGh1elTpk6XcS9NkNe8UiH58+U7yUbMcBBAAAEEEEAAAQQQQAABBE5GAULsk3FWT7Ix2QfHXVy8uPmJv39F4Uk2XIaDAAIIxE1AV2F37NTFlLnKni2bHPAe1JnJKyOkpXe0BA8bAggggAACCCCAAAIIIIAAAhlBgBA7I8wSfUQAAQQQQCANArYUijaR0jIwaTgthyKAAAIIIIAAAggggAACCCAQFwFC7Lgw0ggCCCCAAAIIIIAAAggggAACCCCAAAIIIIBAIgQIsROhSpsIIIAAAggggAACCCCAAAIIIIAAAggggAACcREgxI4LI40ggAACCCCAAAIIIIAAAggggAACCCCAAAIIJEKAEDsRqrSJAAIIIIAAAggggAACCCCAAAIIIIAAAgggEBcBQuy4MNIIAggggAACCCCAAAIIIIAAAggggAACCCCAQCIECLEToUqbCCCAAAIIIIAAAggggAACCCCAAAIIIIAAAnERIMSOCyONIIAAAggggAACCCCAAAIIIIAAAggggAACCCRCgBA7Eaq0iQACCCCAAAIIIIAAAggggAACCCCAAAIIIBAXAULsuDDSCAIIIIAAAggggAACCCCAAAIIIIAAAggggEAiBAixE6FKmwgggAACCCCAAAIIIIAAAggggAACCCCAAAJxESDEjgsjjSCAAAIIIIAAAggggAACCCCAAAIIIIAAAggkQoAQOxGqtIkAAggggAACCCCAAAIIIIAAAggggAACCCAQFwFC7Lgw0ggCCCCAAAIIIIAAAggggAACCCCAAAIIIIBAIgQIsROhSpsIIIAAAggggAACCCCAAAIIIIAAAggggAACcREgxI4LI40ggAACCCCAAAIIIIAAAggggAACCCCAAAIIJEKAEDsRqrSJAAIIIIAAAggggAACCCCAAAIIIIAAAgggEBcBQuy4MNIIAggggAACCCCAAAIIIIAAAggggAACCCCAQCIECLEToUqbCCCAAAIIIIAAAggggAACCCCAAAIIIIAAAnERIMSOCyONIIAAAggggAACCCCAAAIIIIAAAggggAACCCRCgBA7Eaq0iQACCCCAAAIIIIAAAggggAACCCCAAAIIIBAXAULsuDDSCAIIIIAAAggggAACCCCAAAIIIIAAAggggEAiBAixE6FKmwgggAACCCCAAAIIIIAAAggggAACCCCAAAJxESDEjgsjjSCAAAIIIIAAAggggAACCCCAAAIIIIAAAggkQoAQOxGqtIkAAggggAACCCCAAAIIIIAAAggggAACCCAQFwFC7Lgw0ggCCCCAAAIIIIAAAggggAACCCCAAAIIIIBAIgQIsROhSpsIIIAAAggggAACCCCAAAIIIIAAAggggAACcREgxI4LI40ggAACCCCAAAIIIIAAAggggAACCCCAAAIIJEKAEDsRqrSJAAIIIIAAAggggAACCCCAAAIIIIAAAgggEBcBQuy4MNIIAggggAACCCCAAAIIIIAAAggggAACCCCAQCIECLEToUqbCCCAAAIIIIAAAggggAACCCCAAAIIIIAAAnERIMSOCyONIIAAAggggAACCCCAAAIIIIAAAggggAACCCRCgBA7Eaq0iQACCCCAAAIIIIAAAggggAACCCCAAAIIIBAXAULsuDDSCAIIIIAAAggggAACCCCAAAIIIIAAAggggEAiBE54iH3kyFE5cPCg7Pp7t+zZs0/2HzggB//5Rw4f/leOHj2aiDHTJgIIIJBuBU477TTR/zJnPkOynHWWZMuaVXLmzC7nnJ1LsmbJIpkynZ5u+07HEEAAAQQQQAABBBBAAAEEEEAAgUQInJAQ+3//+58cPPiPbNm2Xbbv+MuE1RrQaFCTPVs2E9xogKNBDhsCCCBwqgnod6TeyNMbevv27zc3+PRG3+mnny5585wr+c/LK1mynMV35Kl2YTBeBBBAAAEEEEAAAQQQQAABBE5RgeMaYmsws//AQdm4abP8vXuP5D73HDkvb27JlTPHKcrPsBFAAIHYBXbv2Svbtu+UnX/tkrNz5ZRCBQt4K7WzEGbHTsieCCCAAAIIIIAAAggggAACCCCQAQWOW4htVl5v3S47vPBFw+sC+Y6tJGRDAAEEEEiZgH6fbva+TzXMzuN9n+bn+zRlgOyNAAIIIIAAAggggAACCCCAAAIZSiDhIbauvt63/4Bs+GOTeMsFpXDB8yVHjmwZConOIoAAAulRYO/e/bJh058i3vds4QsKeuWYsrIqOz1OFH1CAAEEEEAAAQQQQAABBBBAAIE0CSQsxNbw+ujR/8lfu/6WTZu3mNWC+tN3NgQQQACB+ApoiSb9lUvBAvnl3HPO9mpnH3s4JBsCCCCAAAIIIIAAAggggAACCCBwMggkLMQ+cuSo99DGnV6AvdULr/NLvrx5TgYvxoAAAgikS4Gt23d4zxvY4gXZ+byHP+aWTJlOT5f9pFMIIIAAAggggAACCCCAAAIIIIBASgUSEmLrKuwdO3fJho1/yoUXnC95cp+b0n6xPwIIIIBACgV27PxLfv/jTylcSL93z2E1dgr92B0BBBBAAAEEEEAAAQQQQAABBNKnQEJC7L379suvv/0uBfKfxwrs9Dnv9AoBBE5SAV2RvXnLNrmo6IWSIzvPHzhJp5lhIYAAAggggAACCCCAAAIIIHBKCcQ9xD548B9Zt36D5MqZgxrYp9SlxGARQCC9CGiN7N179kqxIoUlS5az0ku36AcCCCCAAAIIIIAAAggggAACCCCQKoG4hthaRuT3DZtk/8GDcmnJ4qnqEAchgAACCKRd4KfVayVblixyYeGClBVJOyctIIAAAggggAACCCCAAAIIIIDACRSIa4i9b/8BWbXmVylZvJjkyMHP2E/gvHJqBBA4xQX27t0vq9euk0tKXCTZs2U9xTUYPgIIIIAAAggggAACCCCAAAIIZGSBuIXYugp7zdrf5Mwzz5SiFxbKyCb0HQEEEDgpBH77faMcOnRIShQvymrsk2JGGQQCCCCAAAIIIIAAAggggAACp6ZA3ELsAwcOyvc/rZYypS6hBuupeS0xagQQSGcC+oyC735cJaUvLSlZs2ZJZ72jOwgggAACCCCAAAIIIIAAAggggEBsAnELsX/7/Q85cuSoFC92YWxnZi8EEEAAgYQLrF33u2TKdLr3C5kLEn4uToAAAggggAACCCCAAAIIIIAAAggkQiAuIbaG1yu+/UFKXlxMcuXMkYh+mjY7PtpZFi/+RO67715p17ZNws5DwwggcGoJfPfdd9KqdTspVKigvDplsmTOnDlZgEc7dZFFixbLgAH9pWaN6ukaa/eevbL6l3Vy1eWXmTCbDQEEEEAAAQQQQAABBBBAAAEEEMhoAnEJsffu2y8//rxGKpS9IqHjb9GipSz8+GNp2fIB6dG9a0LPpY3/+ONPclut2uY8N914o0yYMC7h54znCTZv3uKtjv/XNFmo0KlXp7zYRSVO2NwNHDRExo0bb87/zNCnpF69unGb2hM5rtQOwva5cOELZPGihaltJmHH2e8WPcHM16ZJuXLl5MCBA7Jz505zzpw5c0quXLnM3+73QoUK5WXG9KkJ61e8Gv5y+TdS6j8lJEd2HrgbL1PaQQABBBBAAAEEEEAAAQQQQACB4ycQlxD7j02bZf/+A2YldiI3QuyU6V5/w02yYcMf5qB1v65J2cEnwd4nMuwlxA6/gNJ7iP3hhx/Jw+07SPHiF8msN2aaldizZs2WTp0fMwPx3zi7u8E98v33P8iT/fvF9QZFoj52uhI7W7asckHBAok6Be0igAACCCCAAAIIIIAAAggggAACCROIS4j906q1cs45OeX8/PkS1lFtmBA7ZbyE2KzETtkVk7i903uIHTTy5ELsxEklpuU/t2yVXbv2yKWXFE/MCWgVAQQQQAABBBBAAAEEEEAAAQQQSKBAXELs5Su/lxLFiya0HnZ6CbHfe+996dmrj5kSXYV5yy01zd9r1vwiDe9pbP6+/vrr5Llnh8qIkaPk5ZcnmdeWfPKxtG7TTpYs+VTOPPNMadKksSmJ8sknS6Rb98dl06ZN3o2As6Vbt67S4O765hj3+FcmT5QXXhghH350rBRD5cr/NWUq8uTJk+TysH35+++/vXIiR8z7uXPnlgsvLCyzZ70e2n/q1OkyctRoc25deXrJJSWld6+eUr58ucBL7qmnhsqM12aa95595mm54YbrQ/s90PIhWbFipfn3e+/OkXz5zjPlGB7v2Vs++GCB7N27V3LkyCHVqlWVx7p0kgIFjq0ITYmnu6969O33hHz99Qp56MGW0sVr079FWok9d+678tzzw+S339bL6aefblwef7y7KRnjbtp2n779ZNWq1XL48GEzP/Xr15cunR8Nq5msc9jvif6ydu2vZow9e/Ywf0cqJzJu/EsyceJk4541a1az+nfo00M8/0tCpy9brqL5W+u/n3baaTJy5Ghj9tGH88UdV9t2raVt24dlixdSav+6dO4sjRo1DBtHLPNgD3Bt9NopWLCgNG/eTFo+cH9MfVOnrt16yPvvz5NDhw7J1VdfJaNHjZBy5SuZ45MrJ2LHrJ+fenXvkC6PdTXjyu/dHOvYsUPoc2E7snnzZvPZ+fLLr8y1ZuenY4f2xtW/3/LlX5vrMMjc/axNn/aqjBo9RhYs+NDsr5seo//Zz7zbV/2s203LHQ0YMMhcW7oVLVpE2rVrK3fUOVaWSDf3XF98vkTaeyvA7ef6yiuvMF5Bn2v/9Z2Sf2td7DVrf5OyV5ZOyWHsiwACCCCAAAIIIIAAAggggAACCKQLgbiE2J8uXS7lr7rcC2eTfxhaWkecHlZiu6sz3VrHQfWz3ZISGpBqwOVuTb0ge+q06aGg2b43ftxYqVLlZnGPL1XqUlOL1920Tu8nixfK2WefHfa62xf3DTdAdGsA++elsxfStm3TOsl0ffHFUrmnURPzesOGDWTQwCfN3xpcXlqqjBmH9nPunLdlx44dctPN1WTPnj1J2tF+vzplkpQpUyasZEM0T9e+XNmysmz5ctN2pBrpQSG2a+rvWHfvBsKDDz5gXnbP5d+vWLFiMu/9uSbIVpMmTe9NMoe6z7p168yh7rgiuWfKlEnGjhll5l0323d3nHb+7HtXXHG5d/NkjSnl426uR6zzoMcnZ+PWhE+ub3ojZ+nSL8P641okF2LbdkuWKCFrf/01iWmb1q1CNyv0QYx169VPso+euED+/DJnzlsmCF6/fr1Uq36LuUb9m5rPnjXTXIfu2PX6HTr02SSfV3cuU3pt3X57LRk+7DnTBfdcVatWMWG5u5133nny6ZJFUR8umWRAybxw6NBh+WrFt3JNxbIpOYx9EUAAAQQQQAABBBBAAAEEEEAAgXQhEJcQ++MlS+WGayqYFaPx2DR4e+utd7zyIc3DmksuxH5+2HATvGqwGK8tKJhObYitwVr3Ht1k2VfL5JUpr4a6qCGWBlxTp04LhX828HLDLg1+dbWuBlxdu3U3K7910yD8iSf6hg1ZA7utW7fK3Q0amdW+uulK8EyZzvBW8+Y3q4B15bBuFStWMCHr1q3b5N7mLUzorOHehwvmSZEiRZJQVqhYWbZt2xa2olbrCetKbN1sAF6/fsNQyNzDG/et3or1d71V7AMHDjb72bA7JZ7+YLlmjepmNXjRokWlUqVjK5fdzR80uiG8jvv55541u3fo+Kix13EvX7bU3BRwxznllcmee17p3KWrvPvue+YYDSR1nmrUuFVWe0GybnVq325C1kmTp4RWYevrNsR23fUmgK7o3u5d661atTWBt87tl0s/M23Zvuvf+lDOdm1by+le/+6uf1fYezoOnf9lXy2X3n36mlBXx7F40UdmFXWs86Cr9nV1sR6vwflLL71o+tGocVP54Ycfzd/z570nJUpcHLFv+uDD1q3bmn31eh09eoRky5pN2ni/QNi8ZYt5PZYQW/fTz0XfPr3k9ddnyQsjRobGpfOTLVs2uebaG8x1qGMdNfIFueyyUt4K59EyffoMcx77GXr66WfMqmrdBjzZ36xSX7VqldS7s74J/2047w+x9XMya/abZlW1bvfc09D7fmllftGgK7KTu7Y0tB8zZqQ5zs6t/h10c0qd2rdvZ/YdPnxE6KaPvb7MG3HY/ve//8miT7+UG69N+jmJQ/M0gQACCCCAAAIIIIAAAggggAACCCRUIC4h9sJPvpCbrjtWLiCt259//ik1at5mwhz/CttIIXbLB1uZ1YwaHs15500TcsVji2eIPW3qlFDQqgGchsv6oLUfvv/WdFVDxCuvOlbGIyhY6++VLmnSuJF5X0N+W55Bx6wlJoK2SDWxb6tVO7Sqe+WKZaGV3FNenSq9/q9USqTVzb179w2F8LpaVIPS7j16hsJDbW/fvn0mZNRNA9GZM6eHuueu1NUVrz///HPo4XkpWYntrgSPNNf+oLH9Ix3lnXfmmODzpx+/C93wcO379O5lymfopiUq9IaAhrO6afmVx3v2Mn/rquA77qgj1WvcYv6tq4fnzXs31JU2XokPLX+imx2XdfcHuW64bq8T2/egVbn2vXPPPVeWfvFpaBzu3Og4qlevGvM86E0F3Xbv3m3as+U4+vTpJ5NfmWLes8FqpL7Zz6HuO3r0SNGbDLrpaugbb6pq/o4lxHbDfD1Gbx688casUB/0821vmvivA3vzwc7x096KalvW5bHHOssD97cw49Nx2nnVhv0htnokVxM70rWlbbmfdf21gN5I0C3oc+06aamebl4pFt0iff5CF1gq/ojn93QqTs8hCCCAAAIIIIAAAggggAACCCCAQKoF4hJix3slthsouWFOUIjtBmduCJpqEefAeIbYGtjaoNCGy/5Azx+MBQVrtnuxPLQx0j4Xl/iPWdnqP7+u7rahrFs+wrV0Qzkb+F5dtoL89ddfZlW31hPWoFgD46Awzl0Zq/OlW6fOj5n/TUmIHctc+z1vrlI9VOIj0vVhrzcNr+d6q641yNSVyBpo63920/0qVigfClP1VwO9ej4eet9ddW37at2TuzbtvpHqeeuxkd5zV8Rr/8qUvizmeahXr64Zn97ImD9/gfzqlfPQG0luGY5ofXNvjqxe9WPYryLsNRJLiO2/9vxhcuYzzgitrvZfB+73gX7mdKtdp25Y2RGtna0lRB72alXb+u9pDbHda2vdr8dW5tvN/3mL9Ll2v2/iHWKzEjse/49AGwgggAACCCCAAAIIIIAAAgggcKIE4hJiJ6ImdlCQ7Q+xExlg64ScrCG2DUH9gaKuDrcrqCOF2Opiw3HdR8uHaHipm10tntwKVn2QpNYb1u14h9i237pK119H3H4A9UGK7dq2MWG+LdmiK3e17EPBgufL99//YHaNFhK7q2r94a9tL+hDbx8cmJoQ213Rrf37j/egTnuDwB+K+udBa3HfdHNV72bELtMtXYmtK731IaS//fZbaL407I7Ut+SCXPvrg3iE2NqZSA/NtKvtdR9740jLh+hq7p9++jlJDW3rktYQO7mbSpeVvtyULrFjPxEhNjWxT9T/xXJeBBBAAAEEEEAAAQQQQAABBBCIh0BcQuzlK7+XEsWLSq6cOeLRp1Ab/iD7F2+lsD4cUYMn+7fuHMuq3Ggde6hVG7NLmTKlTYipmxti2xq7bkDrlp5wA8RIdXbTshLbLTvgPkhRy3loWY+gLVKwZsNGf1kNdyVvcuU67LxoOZQ2Xh1yDaXdetLJreh2Q0Ytu6DBuQ1ao3lGqp8daW79YWvTZs1lyZJPw8q4BB3rOjRr2kT69etjdvOH83fUqR0K8P1lU9wSK/b6tEGurQee3DUZS4jtD4S1LvywYS+YZvXmQvVq1SKurPfPw/Kvvw7dXLC1o7Ud9zMYbSW2+9BKt6SGW64llhDbX5rF7cPgwQO9OttZI64wj1Qqx1pv3rxF3pkzR4YMedoE2rakT1pDbP8KcPtZd28M2WvkRITYu/fslTVrf5OyV5aO9lXI+wgggAACCCCAAAIIIIAAAggggEC6E4hLiP3TqrVyzjk55fz8+eI+QDfw0aDUPrhO/1e3eATY2o5dLanneHXKZLn66qtMrWdbi9euMnZLZejq3EkTJ5h+aBCrD+fTLREhtta+nvrqZMmTJ09Yv2y4HgTvroz9/LNPzLG6CtitnWzLYGgpidtq1QmNQetYa+gWtLk1jjUEdB+QZ/d3axPPmDFVyl59tWhQ2sB72KTOna17nBLPtIbYbs1vt/yHXTWtZSY6duwgObJnDwXr7s0DN6S1K3jtOHXcNvzVh0Q2btIstOrXXqOuu4axDe6ub7j6PzlAJkyYaB4aOHz4c3JN5coRVzvr/u5DH+04dLVx/bvvCT0Y0K5CjnUe3M/ZxwsXmId66s0SrU9vr+toIbbrq9frm7NfN9db27btzc0n3WIJsXU/fRhoywfuD3sIo76uN2yye/NjH0Kpn8H5Xi3yAgUKiLv63Za2aXbvffLZZ5/LWWed6T3scqH5DOi4Kla6xpTASS7Edq9NvWHx1FODQyVS/DcZ3LHr53/s2FFmvA891CY0dvsdciJC7D+3bJVdu/bIpZcUD/xM8yICCCCAAAIIIIAAAggggAACCCCQngXiEmL/sWmzCTJLXlwsIWN1Qx/3BPEKsLVNt1azfxAayM17f64JsDQA0wBN6wW7m6681JXbuiUixNbQd9u2bWHn1MD9wwXzTOAYtLmhqb5/7bXXyCuTJ/5fiFc5VDrCf2xypUTsvjVq3Cqr1/z/2r/+udDVzLq63d5s8J/D7p8Sz7SG2NoHN9jXkhlquHfvXtM9DUSXL1tqVofbBxHq+5de+h+vpMZ6OXr0iLnOdbMhtlv72h2jXjP+8FdXJF93/U2haydHjhzGx9badldox7ISO+ia0D5UrVpFxr04xnQn1nl4f958ad26rTlGr/NLvFIka9f+KqedJqExRwuxdS51tbn/OlXXM7w61hoaxxJiRxqXe8PmxRfHy6DBQwKve52z2bNmmrrXbhBty8h1y7JpAAAJNElEQVS49c31AZ1dunQKfLCjzpcNy+2J3n5rlmk3aH5q16kn3333XWCf3O+QExFir/5lnQnsLyhYILB/vIgAAggggAACCCCAAAIIIIAAAgikZ4G4hNh79+2XH39eIxXKXpGwsfqD7HgG2LbTeo6JEyeFPcxOH/w2etQIs4LTbhpUtbj/Qdm+fbt5SUPkN16fIeXKVzL/TkSIPXnSy2YF9saNG8058ubNK2PGjDQrnCNtGtbpiuAVK1aaXezqZ/17x44d0rpNO/nqq2WhwzW8bN78XunRvWvUeXRrKms4tnLF8rAH+WkDn3yyRB7t1CXkZPv97DNPy3XXXZtiz3iE2Bq0tm/fQT5Y8GFYwO6fZw2nBw4aHLoW1Ltvn17S7uFHTL/dGtNqoWU87EMQa9aoLtWqVQ18YGWQu4ar1bzgefjw5yOu9HUnxA1Qy5a7Wp57blhoLHput52UzIPe9Jg6bXqoLQ3v69a9QwYOHGxOHy3EttfVnXc1EF2tr5veKJgx/VVp2669bNjwR0whtn5+3HGpT+3at8sQb/W6XqN205XX/fr1D3vgpn4WJ7w0Ti666P/fUAvaT/vVsUN7M4+6RQqW58yZa65hO7d2NXVQiB10bQXN7YkIsb9c/o2U+k8J71cG2aJ+ttkBAQQQQAABBBBAAAEEEEAAAQQQSG8CcQmxjxw5Kiu+/cGsxI53XWwXzIY/iQiw3fNo3dwjR/6VfPnyJQlm3f12795t3tdALBFbUNi1c+dOcyotPRHrpmG2HleoUKEkh2jwtnXrVm9F8hleSYb8sTYp7srdW26pKaNGHqvFHLSpk65c1xW5uXLlSna/RHr6T2xvCCQ3z7pPrDa6r85LLNeDddc+Bc1LzBPh7WjbiuV6jTYPti0dQ0quMX9/dc511XpKril/MBzruPTa1ms8mr3dLzVj0+8EvVmT3PXrGthrK61zm5LrIOLnz6uHrSuxr7r8Mu9aPj0eTdIGAggggAACCCCAAAIIIIAAAgggcFwF4hJia49/+/0PL/g9KsWLXZjQAWg4FmuQlNCOHIfGI63YPA6njngKLU/x/fc/yPTpM2Tzli1mv4kvvyQ33HD9iewW5z4JBJIroXISDO+EDWHtut9NeF30wgtOWB84MQIIIIAAAggggAACCCCAAAIIIJAWgbiF2AcOHJTvf1otZUpdIlmynJWWPnHs/wmkxxDbfbihdtOtv8zEIZAWAULstOgFH3vw4D/y3Y+rpPSlJb1fCGSJ/wloEQEEEEAAAQQQQAABBBBAAAEEEDgOAnELsf/3v//JmrW/yZlnnumt+EtatuI4jOWkO8Xb78yRuXPfNePq07unFCxY8ISPsa9Xg/jPP/80/dAyInfUqX3C+0QHTg4BfRCoblddeaW0avXgyTGoEzyK337fKIcOHZISxYt6D+n0ntLJhgACCCCAAAIIIIAAAggggAACCGRAgbiF2Dr2fV4N3FVrfpWSxYtJjhw8QCwDXg90GQEEThKBvXv3y+q16+SSEhdJdq+eNxsCCCCAAAIIIIAAAggggAACCCCQUQXiGmLrauzfN2yS/QcPyqUli2dUE/qNAAIIZHiB/9fevfUkkkVhAN3idAQE74pNN87l//+fSSaZW9siKuAFBEyPzNRhYjIvk3RUWqpqkfhmwdlrk/Pw1WHXz7/8GvVqNU46baewc99NBRAgQIAAAQIECBAgQIAAgXILvGqInSjTDNbf/zyNrWYjPrSPy62regIECLyBwFm3F3ejcfz4fcczCt7A30cSIECAAAECBAgQIECAAAECryvw6iF2Wt74fhK//fEpjluHcXSw/7or9m4ECBAg8L8Cl/1B9C6u4qcfTqKxaayTrwoBAgQIECBAgAABAgQIECCQf4GlhNhprMhgeBOnZ+dx8vF97O/t5l9KBQQIEFhxgcHwOj59Po/Oh7Tv7hgjsuL9sjwCBAgQIECAAAECBAgQIEDg6wSWEmKnj358nEd/MIxu7zIbK9JyIvvr+uG/CBAg8CyBdAL7rHsR7eOjONjfi/X1yrPex0UECBAgQIAAAQIECBAgQIAAgVUTWFqInU5jz+d/x/XNbRZkX8T+7o4Z2avWfeshQKAQAmkG9uD6JguwW7G7sx2VyppT2IXorCIIECBAgAABAgQIECBAgACBJLC0EPuJN4XZ95NpnH7uZp+2Fp32+2g0zGn19SNAgMBLBcbjSZx2zyOyfbbzsR2b9Zrw+qWoridAgAABAgQIECBAgAABAgRWTmDpIfZTxbPZQ1xc9henBfeyU9nHRwdRrW6sHIgFESBAYNUF0n7ay/bTYbafpl+5tOynq94y6yNAgAABAgQIECBAgAABAgReIPDNQuy0xnQqezKdZXNbe3F7N1qE2YcHe7HVbLygBJcSIECgHAJ3o3Fc9YeL8Hp7q7kY0VSvVZ2+Lkf7VUmAAAECBAgQIECAAAECBEor8E1D7CflFGYvTmZf9bOHP15ns7PnsbO9Fc3mZvZz+HpUNzbi3bvvBDOl/VoqnEC5BdIe+eXLXzF7eMjGMU1iNLqPm9u7bNZ1JXto4260Dv/9JctaNqLJiwABAgQIECBAgAABAgQIECBQdIE3CbH/i/r4OI/pbLYIaFJQM5lOF8FNCnBSuO1FgACBMgmkYDr9pRt56YZevVZb3OBLN/pq1Wqsr1fKxKFWAgQIECBAgAABAgQIECBAgMDyH+zImAABAgQIECBAgAABAgQIECBAgAABAgQIPFfgzU9iP3fhriNAgAABAgQIECBAgAABAgQIECBAgACB4gsIsYvfYxUSIECAAAECBAgQIECAAAECBAgQIEAgtwJC7Ny2zsIJECBAgAABAgQIECBAgAABAgQIECBQfAEhdvF7rEICBAgQIECAAAECBAgQIECAAAECBAjkVkCIndvWWTgBAgQIECBAgAABAgQIECBAgAABAgSKLyDELn6PVUiAAAECBAgQIECAAAECBAgQIECAAIHcCgixc9s6CydAgAABAgQIECBAgAABAgQIECBAgEDxBYTYxe+xCgkQIECAAAECBAgQIECAAAECBAgQIJBbASF2bltn4QQIECBAgAABAgQIECBAgAABAgQIECi+gBC7+D1WIQECBAgQIECAAAECBAgQIECAAAECBHIr8A/29iEY2DOyHQAAAABJRU5ErkJggg==)"
      ]
    },
    {
      "cell_type": "code",
      "execution_count": null,
      "metadata": {
        "id": "b0Xryow56ibZ"
      },
      "outputs": [],
      "source": []
    }
  ],
  "metadata": {
    "accelerator": "GPU",
    "colab": {
      "machine_shape": "hm",
      "provenance": []
    },
    "kernelspec": {
      "display_name": "Python 3",
      "name": "python3"
    },
    "language_info": {
      "codemirror_mode": {
        "name": "ipython",
        "version": 3
      },
      "file_extension": ".py",
      "mimetype": "text/x-python",
      "name": "python",
      "nbconvert_exporter": "python",
      "pygments_lexer": "ipython3",
      "version": "3.9.6"
    },
    "toc": {
      "base_numbering": 1,
      "nav_menu": {},
      "number_sections": true,
      "sideBar": true,
      "skip_h1_title": false,
      "title_cell": "Table of Contents",
      "title_sidebar": "Contents",
      "toc_cell": false,
      "toc_position": {},
      "toc_section_display": true,
      "toc_window_display": false
    },
    "widgets": {
      "application/vnd.jupyter.widget-state+json": {
        "9587c9437e14498b8fe85f51caa7a030": {
          "model_module": "@jupyter-widgets/controls",
          "model_name": "HBoxModel",
          "model_module_version": "1.5.0",
          "state": {
            "_dom_classes": [],
            "_model_module": "@jupyter-widgets/controls",
            "_model_module_version": "1.5.0",
            "_model_name": "HBoxModel",
            "_view_count": null,
            "_view_module": "@jupyter-widgets/controls",
            "_view_module_version": "1.5.0",
            "_view_name": "HBoxView",
            "box_style": "",
            "children": [
              "IPY_MODEL_578f60a7145446068ffd51abd25f019d",
              "IPY_MODEL_807fcb6a12844a2fb743c2db283a9731",
              "IPY_MODEL_ade83794b4ef4e1fabdc781463b49e3d"
            ],
            "layout": "IPY_MODEL_2bcb3c5ac3bb476baf294b7238f62d7f"
          }
        },
        "578f60a7145446068ffd51abd25f019d": {
          "model_module": "@jupyter-widgets/controls",
          "model_name": "HTMLModel",
          "model_module_version": "1.5.0",
          "state": {
            "_dom_classes": [],
            "_model_module": "@jupyter-widgets/controls",
            "_model_module_version": "1.5.0",
            "_model_name": "HTMLModel",
            "_view_count": null,
            "_view_module": "@jupyter-widgets/controls",
            "_view_module_version": "1.5.0",
            "_view_name": "HTMLView",
            "description": "",
            "description_tooltip": null,
            "layout": "IPY_MODEL_37652e34c4db46139f373e7b48557078",
            "placeholder": "​",
            "style": "IPY_MODEL_e11e2171bfca46499e8af5a5ebc48892",
            "value": "sentencepiece.bpe.model: 100%"
          }
        },
        "807fcb6a12844a2fb743c2db283a9731": {
          "model_module": "@jupyter-widgets/controls",
          "model_name": "FloatProgressModel",
          "model_module_version": "1.5.0",
          "state": {
            "_dom_classes": [],
            "_model_module": "@jupyter-widgets/controls",
            "_model_module_version": "1.5.0",
            "_model_name": "FloatProgressModel",
            "_view_count": null,
            "_view_module": "@jupyter-widgets/controls",
            "_view_module_version": "1.5.0",
            "_view_name": "ProgressView",
            "bar_style": "success",
            "description": "",
            "description_tooltip": null,
            "layout": "IPY_MODEL_3048417e0e1c48ccb36cc73ec9624415",
            "max": 810912,
            "min": 0,
            "orientation": "horizontal",
            "style": "IPY_MODEL_10de14553b854a2b9f399d1c6f1995a5",
            "value": 810912
          }
        },
        "ade83794b4ef4e1fabdc781463b49e3d": {
          "model_module": "@jupyter-widgets/controls",
          "model_name": "HTMLModel",
          "model_module_version": "1.5.0",
          "state": {
            "_dom_classes": [],
            "_model_module": "@jupyter-widgets/controls",
            "_model_module_version": "1.5.0",
            "_model_name": "HTMLModel",
            "_view_count": null,
            "_view_module": "@jupyter-widgets/controls",
            "_view_module_version": "1.5.0",
            "_view_name": "HTMLView",
            "description": "",
            "description_tooltip": null,
            "layout": "IPY_MODEL_9b70fdf9ab9843889be7c139ee0670a8",
            "placeholder": "​",
            "style": "IPY_MODEL_5884eb41c48e470eb7ae069b7963703f",
            "value": " 811k/811k [00:00&lt;00:00, 22.9MB/s]"
          }
        },
        "2bcb3c5ac3bb476baf294b7238f62d7f": {
          "model_module": "@jupyter-widgets/base",
          "model_name": "LayoutModel",
          "model_module_version": "1.2.0",
          "state": {
            "_model_module": "@jupyter-widgets/base",
            "_model_module_version": "1.2.0",
            "_model_name": "LayoutModel",
            "_view_count": null,
            "_view_module": "@jupyter-widgets/base",
            "_view_module_version": "1.2.0",
            "_view_name": "LayoutView",
            "align_content": null,
            "align_items": null,
            "align_self": null,
            "border": null,
            "bottom": null,
            "display": null,
            "flex": null,
            "flex_flow": null,
            "grid_area": null,
            "grid_auto_columns": null,
            "grid_auto_flow": null,
            "grid_auto_rows": null,
            "grid_column": null,
            "grid_gap": null,
            "grid_row": null,
            "grid_template_areas": null,
            "grid_template_columns": null,
            "grid_template_rows": null,
            "height": null,
            "justify_content": null,
            "justify_items": null,
            "left": null,
            "margin": null,
            "max_height": null,
            "max_width": null,
            "min_height": null,
            "min_width": null,
            "object_fit": null,
            "object_position": null,
            "order": null,
            "overflow": null,
            "overflow_x": null,
            "overflow_y": null,
            "padding": null,
            "right": null,
            "top": null,
            "visibility": null,
            "width": null
          }
        },
        "37652e34c4db46139f373e7b48557078": {
          "model_module": "@jupyter-widgets/base",
          "model_name": "LayoutModel",
          "model_module_version": "1.2.0",
          "state": {
            "_model_module": "@jupyter-widgets/base",
            "_model_module_version": "1.2.0",
            "_model_name": "LayoutModel",
            "_view_count": null,
            "_view_module": "@jupyter-widgets/base",
            "_view_module_version": "1.2.0",
            "_view_name": "LayoutView",
            "align_content": null,
            "align_items": null,
            "align_self": null,
            "border": null,
            "bottom": null,
            "display": null,
            "flex": null,
            "flex_flow": null,
            "grid_area": null,
            "grid_auto_columns": null,
            "grid_auto_flow": null,
            "grid_auto_rows": null,
            "grid_column": null,
            "grid_gap": null,
            "grid_row": null,
            "grid_template_areas": null,
            "grid_template_columns": null,
            "grid_template_rows": null,
            "height": null,
            "justify_content": null,
            "justify_items": null,
            "left": null,
            "margin": null,
            "max_height": null,
            "max_width": null,
            "min_height": null,
            "min_width": null,
            "object_fit": null,
            "object_position": null,
            "order": null,
            "overflow": null,
            "overflow_x": null,
            "overflow_y": null,
            "padding": null,
            "right": null,
            "top": null,
            "visibility": null,
            "width": null
          }
        },
        "e11e2171bfca46499e8af5a5ebc48892": {
          "model_module": "@jupyter-widgets/controls",
          "model_name": "DescriptionStyleModel",
          "model_module_version": "1.5.0",
          "state": {
            "_model_module": "@jupyter-widgets/controls",
            "_model_module_version": "1.5.0",
            "_model_name": "DescriptionStyleModel",
            "_view_count": null,
            "_view_module": "@jupyter-widgets/base",
            "_view_module_version": "1.2.0",
            "_view_name": "StyleView",
            "description_width": ""
          }
        },
        "3048417e0e1c48ccb36cc73ec9624415": {
          "model_module": "@jupyter-widgets/base",
          "model_name": "LayoutModel",
          "model_module_version": "1.2.0",
          "state": {
            "_model_module": "@jupyter-widgets/base",
            "_model_module_version": "1.2.0",
            "_model_name": "LayoutModel",
            "_view_count": null,
            "_view_module": "@jupyter-widgets/base",
            "_view_module_version": "1.2.0",
            "_view_name": "LayoutView",
            "align_content": null,
            "align_items": null,
            "align_self": null,
            "border": null,
            "bottom": null,
            "display": null,
            "flex": null,
            "flex_flow": null,
            "grid_area": null,
            "grid_auto_columns": null,
            "grid_auto_flow": null,
            "grid_auto_rows": null,
            "grid_column": null,
            "grid_gap": null,
            "grid_row": null,
            "grid_template_areas": null,
            "grid_template_columns": null,
            "grid_template_rows": null,
            "height": null,
            "justify_content": null,
            "justify_items": null,
            "left": null,
            "margin": null,
            "max_height": null,
            "max_width": null,
            "min_height": null,
            "min_width": null,
            "object_fit": null,
            "object_position": null,
            "order": null,
            "overflow": null,
            "overflow_x": null,
            "overflow_y": null,
            "padding": null,
            "right": null,
            "top": null,
            "visibility": null,
            "width": null
          }
        },
        "10de14553b854a2b9f399d1c6f1995a5": {
          "model_module": "@jupyter-widgets/controls",
          "model_name": "ProgressStyleModel",
          "model_module_version": "1.5.0",
          "state": {
            "_model_module": "@jupyter-widgets/controls",
            "_model_module_version": "1.5.0",
            "_model_name": "ProgressStyleModel",
            "_view_count": null,
            "_view_module": "@jupyter-widgets/base",
            "_view_module_version": "1.2.0",
            "_view_name": "StyleView",
            "bar_color": null,
            "description_width": ""
          }
        },
        "9b70fdf9ab9843889be7c139ee0670a8": {
          "model_module": "@jupyter-widgets/base",
          "model_name": "LayoutModel",
          "model_module_version": "1.2.0",
          "state": {
            "_model_module": "@jupyter-widgets/base",
            "_model_module_version": "1.2.0",
            "_model_name": "LayoutModel",
            "_view_count": null,
            "_view_module": "@jupyter-widgets/base",
            "_view_module_version": "1.2.0",
            "_view_name": "LayoutView",
            "align_content": null,
            "align_items": null,
            "align_self": null,
            "border": null,
            "bottom": null,
            "display": null,
            "flex": null,
            "flex_flow": null,
            "grid_area": null,
            "grid_auto_columns": null,
            "grid_auto_flow": null,
            "grid_auto_rows": null,
            "grid_column": null,
            "grid_gap": null,
            "grid_row": null,
            "grid_template_areas": null,
            "grid_template_columns": null,
            "grid_template_rows": null,
            "height": null,
            "justify_content": null,
            "justify_items": null,
            "left": null,
            "margin": null,
            "max_height": null,
            "max_width": null,
            "min_height": null,
            "min_width": null,
            "object_fit": null,
            "object_position": null,
            "order": null,
            "overflow": null,
            "overflow_x": null,
            "overflow_y": null,
            "padding": null,
            "right": null,
            "top": null,
            "visibility": null,
            "width": null
          }
        },
        "5884eb41c48e470eb7ae069b7963703f": {
          "model_module": "@jupyter-widgets/controls",
          "model_name": "DescriptionStyleModel",
          "model_module_version": "1.5.0",
          "state": {
            "_model_module": "@jupyter-widgets/controls",
            "_model_module_version": "1.5.0",
            "_model_name": "DescriptionStyleModel",
            "_view_count": null,
            "_view_module": "@jupyter-widgets/base",
            "_view_module_version": "1.2.0",
            "_view_name": "StyleView",
            "description_width": ""
          }
        },
        "a075b9654bec421fb2a223f94d5668bf": {
          "model_module": "@jupyter-widgets/controls",
          "model_name": "HBoxModel",
          "model_module_version": "1.5.0",
          "state": {
            "_dom_classes": [],
            "_model_module": "@jupyter-widgets/controls",
            "_model_module_version": "1.5.0",
            "_model_name": "HBoxModel",
            "_view_count": null,
            "_view_module": "@jupyter-widgets/controls",
            "_view_module_version": "1.5.0",
            "_view_name": "HBoxView",
            "box_style": "",
            "children": [
              "IPY_MODEL_103b5b267a514e349698b9f032678a94",
              "IPY_MODEL_5ad7ebc595984c49b8be1e7344388891",
              "IPY_MODEL_c348b2b3b06d45858132e66dc434287f"
            ],
            "layout": "IPY_MODEL_b7d95d7ba61548a09d9f3e9d576b951c"
          }
        },
        "103b5b267a514e349698b9f032678a94": {
          "model_module": "@jupyter-widgets/controls",
          "model_name": "HTMLModel",
          "model_module_version": "1.5.0",
          "state": {
            "_dom_classes": [],
            "_model_module": "@jupyter-widgets/controls",
            "_model_module_version": "1.5.0",
            "_model_name": "HTMLModel",
            "_view_count": null,
            "_view_module": "@jupyter-widgets/controls",
            "_view_module_version": "1.5.0",
            "_view_name": "HTMLView",
            "description": "",
            "description_tooltip": null,
            "layout": "IPY_MODEL_bc6a1bdc2c914afe8b1e6884d0fc0114",
            "placeholder": "​",
            "style": "IPY_MODEL_bb21bffc77ee45fba04a7c5926e66e3a",
            "value": "tokenizer.json: 100%"
          }
        },
        "5ad7ebc595984c49b8be1e7344388891": {
          "model_module": "@jupyter-widgets/controls",
          "model_name": "FloatProgressModel",
          "model_module_version": "1.5.0",
          "state": {
            "_dom_classes": [],
            "_model_module": "@jupyter-widgets/controls",
            "_model_module_version": "1.5.0",
            "_model_name": "FloatProgressModel",
            "_view_count": null,
            "_view_module": "@jupyter-widgets/controls",
            "_view_module_version": "1.5.0",
            "_view_name": "ProgressView",
            "bar_style": "success",
            "description": "",
            "description_tooltip": null,
            "layout": "IPY_MODEL_9a48febe71e948a6b20da7d08a8bec0a",
            "max": 1395301,
            "min": 0,
            "orientation": "horizontal",
            "style": "IPY_MODEL_886851e9ba4b4530b70d1276ce84c513",
            "value": 1395301
          }
        },
        "c348b2b3b06d45858132e66dc434287f": {
          "model_module": "@jupyter-widgets/controls",
          "model_name": "HTMLModel",
          "model_module_version": "1.5.0",
          "state": {
            "_dom_classes": [],
            "_model_module": "@jupyter-widgets/controls",
            "_model_module_version": "1.5.0",
            "_model_name": "HTMLModel",
            "_view_count": null,
            "_view_module": "@jupyter-widgets/controls",
            "_view_module_version": "1.5.0",
            "_view_name": "HTMLView",
            "description": "",
            "description_tooltip": null,
            "layout": "IPY_MODEL_12ee048c6f6a4b1fbc1c537b87a7fbc2",
            "placeholder": "​",
            "style": "IPY_MODEL_1105841924034bf4808c93cc0b3b908b",
            "value": " 1.40M/1.40M [00:00&lt;00:00, 5.93MB/s]"
          }
        },
        "b7d95d7ba61548a09d9f3e9d576b951c": {
          "model_module": "@jupyter-widgets/base",
          "model_name": "LayoutModel",
          "model_module_version": "1.2.0",
          "state": {
            "_model_module": "@jupyter-widgets/base",
            "_model_module_version": "1.2.0",
            "_model_name": "LayoutModel",
            "_view_count": null,
            "_view_module": "@jupyter-widgets/base",
            "_view_module_version": "1.2.0",
            "_view_name": "LayoutView",
            "align_content": null,
            "align_items": null,
            "align_self": null,
            "border": null,
            "bottom": null,
            "display": null,
            "flex": null,
            "flex_flow": null,
            "grid_area": null,
            "grid_auto_columns": null,
            "grid_auto_flow": null,
            "grid_auto_rows": null,
            "grid_column": null,
            "grid_gap": null,
            "grid_row": null,
            "grid_template_areas": null,
            "grid_template_columns": null,
            "grid_template_rows": null,
            "height": null,
            "justify_content": null,
            "justify_items": null,
            "left": null,
            "margin": null,
            "max_height": null,
            "max_width": null,
            "min_height": null,
            "min_width": null,
            "object_fit": null,
            "object_position": null,
            "order": null,
            "overflow": null,
            "overflow_x": null,
            "overflow_y": null,
            "padding": null,
            "right": null,
            "top": null,
            "visibility": null,
            "width": null
          }
        },
        "bc6a1bdc2c914afe8b1e6884d0fc0114": {
          "model_module": "@jupyter-widgets/base",
          "model_name": "LayoutModel",
          "model_module_version": "1.2.0",
          "state": {
            "_model_module": "@jupyter-widgets/base",
            "_model_module_version": "1.2.0",
            "_model_name": "LayoutModel",
            "_view_count": null,
            "_view_module": "@jupyter-widgets/base",
            "_view_module_version": "1.2.0",
            "_view_name": "LayoutView",
            "align_content": null,
            "align_items": null,
            "align_self": null,
            "border": null,
            "bottom": null,
            "display": null,
            "flex": null,
            "flex_flow": null,
            "grid_area": null,
            "grid_auto_columns": null,
            "grid_auto_flow": null,
            "grid_auto_rows": null,
            "grid_column": null,
            "grid_gap": null,
            "grid_row": null,
            "grid_template_areas": null,
            "grid_template_columns": null,
            "grid_template_rows": null,
            "height": null,
            "justify_content": null,
            "justify_items": null,
            "left": null,
            "margin": null,
            "max_height": null,
            "max_width": null,
            "min_height": null,
            "min_width": null,
            "object_fit": null,
            "object_position": null,
            "order": null,
            "overflow": null,
            "overflow_x": null,
            "overflow_y": null,
            "padding": null,
            "right": null,
            "top": null,
            "visibility": null,
            "width": null
          }
        },
        "bb21bffc77ee45fba04a7c5926e66e3a": {
          "model_module": "@jupyter-widgets/controls",
          "model_name": "DescriptionStyleModel",
          "model_module_version": "1.5.0",
          "state": {
            "_model_module": "@jupyter-widgets/controls",
            "_model_module_version": "1.5.0",
            "_model_name": "DescriptionStyleModel",
            "_view_count": null,
            "_view_module": "@jupyter-widgets/base",
            "_view_module_version": "1.2.0",
            "_view_name": "StyleView",
            "description_width": ""
          }
        },
        "9a48febe71e948a6b20da7d08a8bec0a": {
          "model_module": "@jupyter-widgets/base",
          "model_name": "LayoutModel",
          "model_module_version": "1.2.0",
          "state": {
            "_model_module": "@jupyter-widgets/base",
            "_model_module_version": "1.2.0",
            "_model_name": "LayoutModel",
            "_view_count": null,
            "_view_module": "@jupyter-widgets/base",
            "_view_module_version": "1.2.0",
            "_view_name": "LayoutView",
            "align_content": null,
            "align_items": null,
            "align_self": null,
            "border": null,
            "bottom": null,
            "display": null,
            "flex": null,
            "flex_flow": null,
            "grid_area": null,
            "grid_auto_columns": null,
            "grid_auto_flow": null,
            "grid_auto_rows": null,
            "grid_column": null,
            "grid_gap": null,
            "grid_row": null,
            "grid_template_areas": null,
            "grid_template_columns": null,
            "grid_template_rows": null,
            "height": null,
            "justify_content": null,
            "justify_items": null,
            "left": null,
            "margin": null,
            "max_height": null,
            "max_width": null,
            "min_height": null,
            "min_width": null,
            "object_fit": null,
            "object_position": null,
            "order": null,
            "overflow": null,
            "overflow_x": null,
            "overflow_y": null,
            "padding": null,
            "right": null,
            "top": null,
            "visibility": null,
            "width": null
          }
        },
        "886851e9ba4b4530b70d1276ce84c513": {
          "model_module": "@jupyter-widgets/controls",
          "model_name": "ProgressStyleModel",
          "model_module_version": "1.5.0",
          "state": {
            "_model_module": "@jupyter-widgets/controls",
            "_model_module_version": "1.5.0",
            "_model_name": "ProgressStyleModel",
            "_view_count": null,
            "_view_module": "@jupyter-widgets/base",
            "_view_module_version": "1.2.0",
            "_view_name": "StyleView",
            "bar_color": null,
            "description_width": ""
          }
        },
        "12ee048c6f6a4b1fbc1c537b87a7fbc2": {
          "model_module": "@jupyter-widgets/base",
          "model_name": "LayoutModel",
          "model_module_version": "1.2.0",
          "state": {
            "_model_module": "@jupyter-widgets/base",
            "_model_module_version": "1.2.0",
            "_model_name": "LayoutModel",
            "_view_count": null,
            "_view_module": "@jupyter-widgets/base",
            "_view_module_version": "1.2.0",
            "_view_name": "LayoutView",
            "align_content": null,
            "align_items": null,
            "align_self": null,
            "border": null,
            "bottom": null,
            "display": null,
            "flex": null,
            "flex_flow": null,
            "grid_area": null,
            "grid_auto_columns": null,
            "grid_auto_flow": null,
            "grid_auto_rows": null,
            "grid_column": null,
            "grid_gap": null,
            "grid_row": null,
            "grid_template_areas": null,
            "grid_template_columns": null,
            "grid_template_rows": null,
            "height": null,
            "justify_content": null,
            "justify_items": null,
            "left": null,
            "margin": null,
            "max_height": null,
            "max_width": null,
            "min_height": null,
            "min_width": null,
            "object_fit": null,
            "object_position": null,
            "order": null,
            "overflow": null,
            "overflow_x": null,
            "overflow_y": null,
            "padding": null,
            "right": null,
            "top": null,
            "visibility": null,
            "width": null
          }
        },
        "1105841924034bf4808c93cc0b3b908b": {
          "model_module": "@jupyter-widgets/controls",
          "model_name": "DescriptionStyleModel",
          "model_module_version": "1.5.0",
          "state": {
            "_model_module": "@jupyter-widgets/controls",
            "_model_module_version": "1.5.0",
            "_model_name": "DescriptionStyleModel",
            "_view_count": null,
            "_view_module": "@jupyter-widgets/base",
            "_view_module_version": "1.2.0",
            "_view_name": "StyleView",
            "description_width": ""
          }
        },
        "4800b97b5d244b21885335a2f3f7eb57": {
          "model_module": "@jupyter-widgets/controls",
          "model_name": "HBoxModel",
          "model_module_version": "1.5.0",
          "state": {
            "_dom_classes": [],
            "_model_module": "@jupyter-widgets/controls",
            "_model_module_version": "1.5.0",
            "_model_name": "HBoxModel",
            "_view_count": null,
            "_view_module": "@jupyter-widgets/controls",
            "_view_module_version": "1.5.0",
            "_view_name": "HBoxView",
            "box_style": "",
            "children": [
              "IPY_MODEL_559dff68909b49819cfcf75301368762",
              "IPY_MODEL_cf2f4d6f3e504142b7ee25cea2f2ad53",
              "IPY_MODEL_9b1ec204766a4223a405042c68a6a541"
            ],
            "layout": "IPY_MODEL_ec8dfd3dd9e94fa09ac04d76dc1b8226"
          }
        },
        "559dff68909b49819cfcf75301368762": {
          "model_module": "@jupyter-widgets/controls",
          "model_name": "HTMLModel",
          "model_module_version": "1.5.0",
          "state": {
            "_dom_classes": [],
            "_model_module": "@jupyter-widgets/controls",
            "_model_module_version": "1.5.0",
            "_model_name": "HTMLModel",
            "_view_count": null,
            "_view_module": "@jupyter-widgets/controls",
            "_view_module_version": "1.5.0",
            "_view_name": "HTMLView",
            "description": "",
            "description_tooltip": null,
            "layout": "IPY_MODEL_074d196730ec484a9651dba06b0c5563",
            "placeholder": "​",
            "style": "IPY_MODEL_2cdbe283a37244938d345aee8bc7dbfa",
            "value": "config.json: 100%"
          }
        },
        "cf2f4d6f3e504142b7ee25cea2f2ad53": {
          "model_module": "@jupyter-widgets/controls",
          "model_name": "FloatProgressModel",
          "model_module_version": "1.5.0",
          "state": {
            "_dom_classes": [],
            "_model_module": "@jupyter-widgets/controls",
            "_model_module_version": "1.5.0",
            "_model_name": "FloatProgressModel",
            "_view_count": null,
            "_view_module": "@jupyter-widgets/controls",
            "_view_module_version": "1.5.0",
            "_view_name": "ProgressView",
            "bar_style": "success",
            "description": "",
            "description_tooltip": null,
            "layout": "IPY_MODEL_f65eef940982488ba23ecec69341f6b9",
            "max": 508,
            "min": 0,
            "orientation": "horizontal",
            "style": "IPY_MODEL_7335d4e15b2d45aa99c8d6f2db405971",
            "value": 508
          }
        },
        "9b1ec204766a4223a405042c68a6a541": {
          "model_module": "@jupyter-widgets/controls",
          "model_name": "HTMLModel",
          "model_module_version": "1.5.0",
          "state": {
            "_dom_classes": [],
            "_model_module": "@jupyter-widgets/controls",
            "_model_module_version": "1.5.0",
            "_model_name": "HTMLModel",
            "_view_count": null,
            "_view_module": "@jupyter-widgets/controls",
            "_view_module_version": "1.5.0",
            "_view_name": "HTMLView",
            "description": "",
            "description_tooltip": null,
            "layout": "IPY_MODEL_771d60631ed342bb9b210dae4592c0b1",
            "placeholder": "​",
            "style": "IPY_MODEL_25894d69b44d4ed7a6d2cf3f6d50a3eb",
            "value": " 508/508 [00:00&lt;00:00, 44.3kB/s]"
          }
        },
        "ec8dfd3dd9e94fa09ac04d76dc1b8226": {
          "model_module": "@jupyter-widgets/base",
          "model_name": "LayoutModel",
          "model_module_version": "1.2.0",
          "state": {
            "_model_module": "@jupyter-widgets/base",
            "_model_module_version": "1.2.0",
            "_model_name": "LayoutModel",
            "_view_count": null,
            "_view_module": "@jupyter-widgets/base",
            "_view_module_version": "1.2.0",
            "_view_name": "LayoutView",
            "align_content": null,
            "align_items": null,
            "align_self": null,
            "border": null,
            "bottom": null,
            "display": null,
            "flex": null,
            "flex_flow": null,
            "grid_area": null,
            "grid_auto_columns": null,
            "grid_auto_flow": null,
            "grid_auto_rows": null,
            "grid_column": null,
            "grid_gap": null,
            "grid_row": null,
            "grid_template_areas": null,
            "grid_template_columns": null,
            "grid_template_rows": null,
            "height": null,
            "justify_content": null,
            "justify_items": null,
            "left": null,
            "margin": null,
            "max_height": null,
            "max_width": null,
            "min_height": null,
            "min_width": null,
            "object_fit": null,
            "object_position": null,
            "order": null,
            "overflow": null,
            "overflow_x": null,
            "overflow_y": null,
            "padding": null,
            "right": null,
            "top": null,
            "visibility": null,
            "width": null
          }
        },
        "074d196730ec484a9651dba06b0c5563": {
          "model_module": "@jupyter-widgets/base",
          "model_name": "LayoutModel",
          "model_module_version": "1.2.0",
          "state": {
            "_model_module": "@jupyter-widgets/base",
            "_model_module_version": "1.2.0",
            "_model_name": "LayoutModel",
            "_view_count": null,
            "_view_module": "@jupyter-widgets/base",
            "_view_module_version": "1.2.0",
            "_view_name": "LayoutView",
            "align_content": null,
            "align_items": null,
            "align_self": null,
            "border": null,
            "bottom": null,
            "display": null,
            "flex": null,
            "flex_flow": null,
            "grid_area": null,
            "grid_auto_columns": null,
            "grid_auto_flow": null,
            "grid_auto_rows": null,
            "grid_column": null,
            "grid_gap": null,
            "grid_row": null,
            "grid_template_areas": null,
            "grid_template_columns": null,
            "grid_template_rows": null,
            "height": null,
            "justify_content": null,
            "justify_items": null,
            "left": null,
            "margin": null,
            "max_height": null,
            "max_width": null,
            "min_height": null,
            "min_width": null,
            "object_fit": null,
            "object_position": null,
            "order": null,
            "overflow": null,
            "overflow_x": null,
            "overflow_y": null,
            "padding": null,
            "right": null,
            "top": null,
            "visibility": null,
            "width": null
          }
        },
        "2cdbe283a37244938d345aee8bc7dbfa": {
          "model_module": "@jupyter-widgets/controls",
          "model_name": "DescriptionStyleModel",
          "model_module_version": "1.5.0",
          "state": {
            "_model_module": "@jupyter-widgets/controls",
            "_model_module_version": "1.5.0",
            "_model_name": "DescriptionStyleModel",
            "_view_count": null,
            "_view_module": "@jupyter-widgets/base",
            "_view_module_version": "1.2.0",
            "_view_name": "StyleView",
            "description_width": ""
          }
        },
        "f65eef940982488ba23ecec69341f6b9": {
          "model_module": "@jupyter-widgets/base",
          "model_name": "LayoutModel",
          "model_module_version": "1.2.0",
          "state": {
            "_model_module": "@jupyter-widgets/base",
            "_model_module_version": "1.2.0",
            "_model_name": "LayoutModel",
            "_view_count": null,
            "_view_module": "@jupyter-widgets/base",
            "_view_module_version": "1.2.0",
            "_view_name": "LayoutView",
            "align_content": null,
            "align_items": null,
            "align_self": null,
            "border": null,
            "bottom": null,
            "display": null,
            "flex": null,
            "flex_flow": null,
            "grid_area": null,
            "grid_auto_columns": null,
            "grid_auto_flow": null,
            "grid_auto_rows": null,
            "grid_column": null,
            "grid_gap": null,
            "grid_row": null,
            "grid_template_areas": null,
            "grid_template_columns": null,
            "grid_template_rows": null,
            "height": null,
            "justify_content": null,
            "justify_items": null,
            "left": null,
            "margin": null,
            "max_height": null,
            "max_width": null,
            "min_height": null,
            "min_width": null,
            "object_fit": null,
            "object_position": null,
            "order": null,
            "overflow": null,
            "overflow_x": null,
            "overflow_y": null,
            "padding": null,
            "right": null,
            "top": null,
            "visibility": null,
            "width": null
          }
        },
        "7335d4e15b2d45aa99c8d6f2db405971": {
          "model_module": "@jupyter-widgets/controls",
          "model_name": "ProgressStyleModel",
          "model_module_version": "1.5.0",
          "state": {
            "_model_module": "@jupyter-widgets/controls",
            "_model_module_version": "1.5.0",
            "_model_name": "ProgressStyleModel",
            "_view_count": null,
            "_view_module": "@jupyter-widgets/base",
            "_view_module_version": "1.2.0",
            "_view_name": "StyleView",
            "bar_color": null,
            "description_width": ""
          }
        },
        "771d60631ed342bb9b210dae4592c0b1": {
          "model_module": "@jupyter-widgets/base",
          "model_name": "LayoutModel",
          "model_module_version": "1.2.0",
          "state": {
            "_model_module": "@jupyter-widgets/base",
            "_model_module_version": "1.2.0",
            "_model_name": "LayoutModel",
            "_view_count": null,
            "_view_module": "@jupyter-widgets/base",
            "_view_module_version": "1.2.0",
            "_view_name": "LayoutView",
            "align_content": null,
            "align_items": null,
            "align_self": null,
            "border": null,
            "bottom": null,
            "display": null,
            "flex": null,
            "flex_flow": null,
            "grid_area": null,
            "grid_auto_columns": null,
            "grid_auto_flow": null,
            "grid_auto_rows": null,
            "grid_column": null,
            "grid_gap": null,
            "grid_row": null,
            "grid_template_areas": null,
            "grid_template_columns": null,
            "grid_template_rows": null,
            "height": null,
            "justify_content": null,
            "justify_items": null,
            "left": null,
            "margin": null,
            "max_height": null,
            "max_width": null,
            "min_height": null,
            "min_width": null,
            "object_fit": null,
            "object_position": null,
            "order": null,
            "overflow": null,
            "overflow_x": null,
            "overflow_y": null,
            "padding": null,
            "right": null,
            "top": null,
            "visibility": null,
            "width": null
          }
        },
        "25894d69b44d4ed7a6d2cf3f6d50a3eb": {
          "model_module": "@jupyter-widgets/controls",
          "model_name": "DescriptionStyleModel",
          "model_module_version": "1.5.0",
          "state": {
            "_model_module": "@jupyter-widgets/controls",
            "_model_module_version": "1.5.0",
            "_model_name": "DescriptionStyleModel",
            "_view_count": null,
            "_view_module": "@jupyter-widgets/base",
            "_view_module_version": "1.2.0",
            "_view_name": "StyleView",
            "description_width": ""
          }
        },
        "cd203d58d7bd41df9f56c73f9d0b3005": {
          "model_module": "@jupyter-widgets/controls",
          "model_name": "HBoxModel",
          "model_module_version": "1.5.0",
          "state": {
            "_dom_classes": [],
            "_model_module": "@jupyter-widgets/controls",
            "_model_module_version": "1.5.0",
            "_model_name": "HBoxModel",
            "_view_count": null,
            "_view_module": "@jupyter-widgets/controls",
            "_view_module_version": "1.5.0",
            "_view_name": "HBoxView",
            "box_style": "",
            "children": [
              "IPY_MODEL_5885a09ab4db4fec9c6bc3074b5fa606",
              "IPY_MODEL_aa4dd33b1dd942d781755a34b95f9544",
              "IPY_MODEL_2b0caeefe3794f85978f200d55aefa1c"
            ],
            "layout": "IPY_MODEL_0328f8ff82a842549613450c51ac376e"
          }
        },
        "5885a09ab4db4fec9c6bc3074b5fa606": {
          "model_module": "@jupyter-widgets/controls",
          "model_name": "HTMLModel",
          "model_module_version": "1.5.0",
          "state": {
            "_dom_classes": [],
            "_model_module": "@jupyter-widgets/controls",
            "_model_module_version": "1.5.0",
            "_model_name": "HTMLModel",
            "_view_count": null,
            "_view_module": "@jupyter-widgets/controls",
            "_view_module_version": "1.5.0",
            "_view_name": "HTMLView",
            "description": "",
            "description_tooltip": null,
            "layout": "IPY_MODEL_d80721b71d324d37a626d2c12df86b82",
            "placeholder": "​",
            "style": "IPY_MODEL_2caabcd833934423ad5179c61acfce56",
            "value": "model.safetensors: 100%"
          }
        },
        "aa4dd33b1dd942d781755a34b95f9544": {
          "model_module": "@jupyter-widgets/controls",
          "model_name": "FloatProgressModel",
          "model_module_version": "1.5.0",
          "state": {
            "_dom_classes": [],
            "_model_module": "@jupyter-widgets/controls",
            "_model_module_version": "1.5.0",
            "_model_name": "FloatProgressModel",
            "_view_count": null,
            "_view_module": "@jupyter-widgets/controls",
            "_view_module_version": "1.5.0",
            "_view_name": "ProgressView",
            "bar_style": "success",
            "description": "",
            "description_tooltip": null,
            "layout": "IPY_MODEL_01bab9dd6ec04ca68a11cd96691d1a3d",
            "max": 445008750,
            "min": 0,
            "orientation": "horizontal",
            "style": "IPY_MODEL_ece73ec511694c35aef48865b3784355",
            "value": 445008750
          }
        },
        "2b0caeefe3794f85978f200d55aefa1c": {
          "model_module": "@jupyter-widgets/controls",
          "model_name": "HTMLModel",
          "model_module_version": "1.5.0",
          "state": {
            "_dom_classes": [],
            "_model_module": "@jupyter-widgets/controls",
            "_model_module_version": "1.5.0",
            "_model_name": "HTMLModel",
            "_view_count": null,
            "_view_module": "@jupyter-widgets/controls",
            "_view_module_version": "1.5.0",
            "_view_name": "HTMLView",
            "description": "",
            "description_tooltip": null,
            "layout": "IPY_MODEL_90b7438162304490bec308b09383d706",
            "placeholder": "​",
            "style": "IPY_MODEL_ce9bd93d9bea453e98399a398dc9b85a",
            "value": " 445M/445M [00:01&lt;00:00, 378MB/s]"
          }
        },
        "0328f8ff82a842549613450c51ac376e": {
          "model_module": "@jupyter-widgets/base",
          "model_name": "LayoutModel",
          "model_module_version": "1.2.0",
          "state": {
            "_model_module": "@jupyter-widgets/base",
            "_model_module_version": "1.2.0",
            "_model_name": "LayoutModel",
            "_view_count": null,
            "_view_module": "@jupyter-widgets/base",
            "_view_module_version": "1.2.0",
            "_view_name": "LayoutView",
            "align_content": null,
            "align_items": null,
            "align_self": null,
            "border": null,
            "bottom": null,
            "display": null,
            "flex": null,
            "flex_flow": null,
            "grid_area": null,
            "grid_auto_columns": null,
            "grid_auto_flow": null,
            "grid_auto_rows": null,
            "grid_column": null,
            "grid_gap": null,
            "grid_row": null,
            "grid_template_areas": null,
            "grid_template_columns": null,
            "grid_template_rows": null,
            "height": null,
            "justify_content": null,
            "justify_items": null,
            "left": null,
            "margin": null,
            "max_height": null,
            "max_width": null,
            "min_height": null,
            "min_width": null,
            "object_fit": null,
            "object_position": null,
            "order": null,
            "overflow": null,
            "overflow_x": null,
            "overflow_y": null,
            "padding": null,
            "right": null,
            "top": null,
            "visibility": null,
            "width": null
          }
        },
        "d80721b71d324d37a626d2c12df86b82": {
          "model_module": "@jupyter-widgets/base",
          "model_name": "LayoutModel",
          "model_module_version": "1.2.0",
          "state": {
            "_model_module": "@jupyter-widgets/base",
            "_model_module_version": "1.2.0",
            "_model_name": "LayoutModel",
            "_view_count": null,
            "_view_module": "@jupyter-widgets/base",
            "_view_module_version": "1.2.0",
            "_view_name": "LayoutView",
            "align_content": null,
            "align_items": null,
            "align_self": null,
            "border": null,
            "bottom": null,
            "display": null,
            "flex": null,
            "flex_flow": null,
            "grid_area": null,
            "grid_auto_columns": null,
            "grid_auto_flow": null,
            "grid_auto_rows": null,
            "grid_column": null,
            "grid_gap": null,
            "grid_row": null,
            "grid_template_areas": null,
            "grid_template_columns": null,
            "grid_template_rows": null,
            "height": null,
            "justify_content": null,
            "justify_items": null,
            "left": null,
            "margin": null,
            "max_height": null,
            "max_width": null,
            "min_height": null,
            "min_width": null,
            "object_fit": null,
            "object_position": null,
            "order": null,
            "overflow": null,
            "overflow_x": null,
            "overflow_y": null,
            "padding": null,
            "right": null,
            "top": null,
            "visibility": null,
            "width": null
          }
        },
        "2caabcd833934423ad5179c61acfce56": {
          "model_module": "@jupyter-widgets/controls",
          "model_name": "DescriptionStyleModel",
          "model_module_version": "1.5.0",
          "state": {
            "_model_module": "@jupyter-widgets/controls",
            "_model_module_version": "1.5.0",
            "_model_name": "DescriptionStyleModel",
            "_view_count": null,
            "_view_module": "@jupyter-widgets/base",
            "_view_module_version": "1.2.0",
            "_view_name": "StyleView",
            "description_width": ""
          }
        },
        "01bab9dd6ec04ca68a11cd96691d1a3d": {
          "model_module": "@jupyter-widgets/base",
          "model_name": "LayoutModel",
          "model_module_version": "1.2.0",
          "state": {
            "_model_module": "@jupyter-widgets/base",
            "_model_module_version": "1.2.0",
            "_model_name": "LayoutModel",
            "_view_count": null,
            "_view_module": "@jupyter-widgets/base",
            "_view_module_version": "1.2.0",
            "_view_name": "LayoutView",
            "align_content": null,
            "align_items": null,
            "align_self": null,
            "border": null,
            "bottom": null,
            "display": null,
            "flex": null,
            "flex_flow": null,
            "grid_area": null,
            "grid_auto_columns": null,
            "grid_auto_flow": null,
            "grid_auto_rows": null,
            "grid_column": null,
            "grid_gap": null,
            "grid_row": null,
            "grid_template_areas": null,
            "grid_template_columns": null,
            "grid_template_rows": null,
            "height": null,
            "justify_content": null,
            "justify_items": null,
            "left": null,
            "margin": null,
            "max_height": null,
            "max_width": null,
            "min_height": null,
            "min_width": null,
            "object_fit": null,
            "object_position": null,
            "order": null,
            "overflow": null,
            "overflow_x": null,
            "overflow_y": null,
            "padding": null,
            "right": null,
            "top": null,
            "visibility": null,
            "width": null
          }
        },
        "ece73ec511694c35aef48865b3784355": {
          "model_module": "@jupyter-widgets/controls",
          "model_name": "ProgressStyleModel",
          "model_module_version": "1.5.0",
          "state": {
            "_model_module": "@jupyter-widgets/controls",
            "_model_module_version": "1.5.0",
            "_model_name": "ProgressStyleModel",
            "_view_count": null,
            "_view_module": "@jupyter-widgets/base",
            "_view_module_version": "1.2.0",
            "_view_name": "StyleView",
            "bar_color": null,
            "description_width": ""
          }
        },
        "90b7438162304490bec308b09383d706": {
          "model_module": "@jupyter-widgets/base",
          "model_name": "LayoutModel",
          "model_module_version": "1.2.0",
          "state": {
            "_model_module": "@jupyter-widgets/base",
            "_model_module_version": "1.2.0",
            "_model_name": "LayoutModel",
            "_view_count": null,
            "_view_module": "@jupyter-widgets/base",
            "_view_module_version": "1.2.0",
            "_view_name": "LayoutView",
            "align_content": null,
            "align_items": null,
            "align_self": null,
            "border": null,
            "bottom": null,
            "display": null,
            "flex": null,
            "flex_flow": null,
            "grid_area": null,
            "grid_auto_columns": null,
            "grid_auto_flow": null,
            "grid_auto_rows": null,
            "grid_column": null,
            "grid_gap": null,
            "grid_row": null,
            "grid_template_areas": null,
            "grid_template_columns": null,
            "grid_template_rows": null,
            "height": null,
            "justify_content": null,
            "justify_items": null,
            "left": null,
            "margin": null,
            "max_height": null,
            "max_width": null,
            "min_height": null,
            "min_width": null,
            "object_fit": null,
            "object_position": null,
            "order": null,
            "overflow": null,
            "overflow_x": null,
            "overflow_y": null,
            "padding": null,
            "right": null,
            "top": null,
            "visibility": null,
            "width": null
          }
        },
        "ce9bd93d9bea453e98399a398dc9b85a": {
          "model_module": "@jupyter-widgets/controls",
          "model_name": "DescriptionStyleModel",
          "model_module_version": "1.5.0",
          "state": {
            "_model_module": "@jupyter-widgets/controls",
            "_model_module_version": "1.5.0",
            "_model_name": "DescriptionStyleModel",
            "_view_count": null,
            "_view_module": "@jupyter-widgets/base",
            "_view_module_version": "1.2.0",
            "_view_name": "StyleView",
            "description_width": ""
          }
        }
      }
    }
  },
  "nbformat": 4,
  "nbformat_minor": 0
}