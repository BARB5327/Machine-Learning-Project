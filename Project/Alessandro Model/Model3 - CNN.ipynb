{
  "cells": [
    {
      "cell_type": "markdown",
      "source": [
        "#Initialization of the kaggle and the files#"
      ],
      "metadata": {
        "id": "kTfmqzC6OtfX"
      }
    },
    {
      "cell_type": "code",
      "execution_count": 1,
      "metadata": {
        "colab": {
          "base_uri": "https://localhost:8080/"
        },
        "id": "UJ_hnJzSNO2g",
        "outputId": "b26e120c-4024-42f2-91be-4ed1ed40b67c"
      },
      "outputs": [
        {
          "output_type": "stream",
          "name": "stdout",
          "text": [
            "Mounted at /content/drive\n"
          ]
        }
      ],
      "source": [
        "# reading in the data via the Kaggle API\n",
        "\n",
        "# mount your Google Drive\n",
        "from google.colab import drive\n",
        "drive.mount('/content/drive', force_remount=True)"
      ]
    },
    {
      "cell_type": "code",
      "execution_count": 2,
      "metadata": {
        "colab": {
          "base_uri": "https://localhost:8080/"
        },
        "id": "mJPTz3D7TeQv",
        "outputId": "07050c63-576e-48ee-b705-8c4b6233cbaf"
      },
      "outputs": [
        {
          "output_type": "stream",
          "name": "stdout",
          "text": [
            "Requirement already satisfied: kaggle in /usr/local/lib/python3.10/dist-packages (1.5.16)\n",
            "Requirement already satisfied: six>=1.10 in /usr/local/lib/python3.10/dist-packages (from kaggle) (1.16.0)\n",
            "Requirement already satisfied: certifi in /usr/local/lib/python3.10/dist-packages (from kaggle) (2023.11.17)\n",
            "Requirement already satisfied: python-dateutil in /usr/local/lib/python3.10/dist-packages (from kaggle) (2.8.2)\n",
            "Requirement already satisfied: requests in /usr/local/lib/python3.10/dist-packages (from kaggle) (2.31.0)\n",
            "Requirement already satisfied: tqdm in /usr/local/lib/python3.10/dist-packages (from kaggle) (4.66.1)\n",
            "Requirement already satisfied: python-slugify in /usr/local/lib/python3.10/dist-packages (from kaggle) (8.0.1)\n",
            "Requirement already satisfied: urllib3 in /usr/local/lib/python3.10/dist-packages (from kaggle) (2.0.7)\n",
            "Requirement already satisfied: bleach in /usr/local/lib/python3.10/dist-packages (from kaggle) (6.1.0)\n",
            "Requirement already satisfied: webencodings in /usr/local/lib/python3.10/dist-packages (from bleach->kaggle) (0.5.1)\n",
            "Requirement already satisfied: text-unidecode>=1.3 in /usr/local/lib/python3.10/dist-packages (from python-slugify->kaggle) (1.3)\n",
            "Requirement already satisfied: charset-normalizer<4,>=2 in /usr/local/lib/python3.10/dist-packages (from requests->kaggle) (3.3.2)\n",
            "Requirement already satisfied: idna<4,>=2.5 in /usr/local/lib/python3.10/dist-packages (from requests->kaggle) (3.6)\n",
            "Collecting tensorflow_addons\n",
            "  Downloading tensorflow_addons-0.23.0-cp310-cp310-manylinux_2_17_x86_64.manylinux2014_x86_64.whl (611 kB)\n",
            "\u001b[2K     \u001b[90m━━━━━━━━━━━━━━━━━━━━━━━━━━━━━━━━━━━━━━━━\u001b[0m \u001b[32m611.8/611.8 kB\u001b[0m \u001b[31m10.1 MB/s\u001b[0m eta \u001b[36m0:00:00\u001b[0m\n",
            "\u001b[?25hRequirement already satisfied: packaging in /usr/local/lib/python3.10/dist-packages (from tensorflow_addons) (23.2)\n",
            "Collecting typeguard<3.0.0,>=2.7 (from tensorflow_addons)\n",
            "  Downloading typeguard-2.13.3-py3-none-any.whl (17 kB)\n",
            "Installing collected packages: typeguard, tensorflow_addons\n",
            "Successfully installed tensorflow_addons-0.23.0 typeguard-2.13.3\n"
          ]
        }
      ],
      "source": [
        "# install Kaggle\n",
        "! pip install kaggle\n",
        "!pip install tensorflow_addons"
      ]
    },
    {
      "cell_type": "markdown",
      "metadata": {
        "id": "ZKG1TCddRYTB"
      },
      "source": [
        "Log into your Kaggle account, go to Account > API > Create new API token. You will obtain a kaggle.json file, which you save on your Google Drive directy in my drive."
      ]
    },
    {
      "cell_type": "code",
      "execution_count": 3,
      "metadata": {
        "id": "JgzLj451YDfV"
      },
      "outputs": [],
      "source": [
        "!mkdir ~/.kaggle"
      ]
    },
    {
      "cell_type": "code",
      "execution_count": 4,
      "metadata": {
        "id": "KrsZLalrSI3u"
      },
      "outputs": [],
      "source": [
        "#read in your Kaggle credentials from Google Drive\n",
        "!cp /content/drive/MyDrive/Kaggle/kaggle.json ~/.kaggle/kaggle.json\n"
      ]
    },
    {
      "cell_type": "code",
      "execution_count": 5,
      "metadata": {
        "colab": {
          "base_uri": "https://localhost:8080/"
        },
        "id": "BDI60LXKTPzf",
        "outputId": "245f1314-8cc6-4da8-dfcf-fea013e2b8c1"
      },
      "outputs": [
        {
          "output_type": "stream",
          "name": "stdout",
          "text": [
            "Downloading detecting-french-texts-difficulty-level-2023.zip to /content\n",
            "\r  0% 0.00/303k [00:00<?, ?B/s]\n",
            "\r100% 303k/303k [00:00<00:00, 82.0MB/s]\n"
          ]
        }
      ],
      "source": [
        "! kaggle competitions download -c detecting-french-texts-difficulty-level-2023\n",
        "from zipfile import ZipFile\n",
        "with ZipFile('detecting-french-texts-difficulty-level-2023.zip','r') as zip:\n",
        "  zip.extractall(path=\"\")"
      ]
    },
    {
      "cell_type": "markdown",
      "source": [
        "# Begining of the model#"
      ],
      "metadata": {
        "id": "HHb-bzEFOdNv"
      }
    },
    {
      "cell_type": "markdown",
      "source": [
        "## Imports##"
      ],
      "metadata": {
        "id": "nvsJcuCpQLx8"
      }
    },
    {
      "cell_type": "markdown",
      "source": [
        "##### For this model we decide to use the CNN model. I discover this model in a Information Security and Privacy course. This model was use for human recognition activities. I decided to do some research about this model and I decided to try this one for this problem."
      ],
      "metadata": {
        "id": "IffVkaeJ3wv5"
      }
    },
    {
      "cell_type": "code",
      "source": [
        "import pandas as pd\n",
        "import numpy as np\n",
        "import matplotlib.pyplot as plt\n",
        "import seaborn as sns\n",
        "import tensorflow_addons as tfa\n",
        "\n",
        "from sklearn.preprocessing import LabelEncoder\n",
        "from keras.preprocessing.text import Tokenizer\n",
        "from keras.models import Sequential\n",
        "from keras.layers import Embedding, Conv1D, GlobalMaxPooling1D, Dense\n",
        "from sklearn.model_selection import train_test_split\n",
        "from sklearn.metrics import precision_score, recall_score, f1_score, accuracy_score, confusion_matrix\n",
        "from keras.models import Sequential\n",
        "from keras.layers import Embedding, Conv1D, GlobalMaxPooling1D, Dense\n",
        "from keras.preprocessing.sequence import pad_sequences\n",
        "from tensorflow.keras.utils import to_categorical\n",
        "from torch.optim import AdamW\n",
        "from google.colab import files\n",
        "\n",
        "df = pd.read_csv('training_data.csv', index_col = 'id')\n",
        "df_pred = pd.read_csv('unlabelled_test_data.csv', index_col = 'id')\n"
      ],
      "metadata": {
        "id": "WcPM_kAfQJ3E",
        "colab": {
          "base_uri": "https://localhost:8080/"
        },
        "outputId": "ed90799b-0c52-4bd1-84b5-bdb1edca0c9b"
      },
      "execution_count": 7,
      "outputs": [
        {
          "output_type": "stream",
          "name": "stderr",
          "text": [
            "/usr/local/lib/python3.10/dist-packages/tensorflow_addons/utils/tfa_eol_msg.py:23: UserWarning: \n",
            "\n",
            "TensorFlow Addons (TFA) has ended development and introduction of new features.\n",
            "TFA has entered a minimal maintenance and release mode until a planned end of life in May 2024.\n",
            "Please modify downstream libraries to take dependencies from other repositories in our TensorFlow community (e.g. Keras, Keras-CV, and Keras-NLP). \n",
            "\n",
            "For more information see: https://github.com/tensorflow/addons/issues/2807 \n",
            "\n",
            "  warnings.warn(\n"
          ]
        }
      ]
    },
    {
      "cell_type": "code",
      "execution_count": 8,
      "metadata": {
        "colab": {
          "base_uri": "https://localhost:8080/",
          "height": 455
        },
        "id": "VxRSnk5bhTp8",
        "outputId": "f725f61a-07f0-485e-971c-4518308accb1"
      },
      "outputs": [
        {
          "output_type": "execute_result",
          "data": {
            "text/plain": [
              "                                               sentence difficulty\n",
              "id                                                                \n",
              "0     Les coûts kilométriques réels peuvent diverger...         C1\n",
              "1     Le bleu, c'est ma couleur préférée mais je n'a...         A1\n",
              "2     Le test de niveau en français est sur le site ...         A1\n",
              "3              Est-ce que ton mari est aussi de Boston?         A1\n",
              "4     Dans les écoles de commerce, dans les couloirs...         B1\n",
              "...                                                 ...        ...\n",
              "4795  C'est pourquoi, il décida de remplacer les hab...         B2\n",
              "4796  Il avait une de ces pâleurs splendides qui don...         C1\n",
              "4797  Et le premier samedi de chaque mois, venez ren...         A2\n",
              "4798  Les coûts liés à la journalisation n'étant pas...         C2\n",
              "4799  Sur le sable, la mer haletait de toute la resp...         C2\n",
              "\n",
              "[4800 rows x 2 columns]"
            ],
            "text/html": [
              "\n",
              "  <div id=\"df-2d0ec298-e247-4430-b4b3-57b748f45ebd\" class=\"colab-df-container\">\n",
              "    <div>\n",
              "<style scoped>\n",
              "    .dataframe tbody tr th:only-of-type {\n",
              "        vertical-align: middle;\n",
              "    }\n",
              "\n",
              "    .dataframe tbody tr th {\n",
              "        vertical-align: top;\n",
              "    }\n",
              "\n",
              "    .dataframe thead th {\n",
              "        text-align: right;\n",
              "    }\n",
              "</style>\n",
              "<table border=\"1\" class=\"dataframe\">\n",
              "  <thead>\n",
              "    <tr style=\"text-align: right;\">\n",
              "      <th></th>\n",
              "      <th>sentence</th>\n",
              "      <th>difficulty</th>\n",
              "    </tr>\n",
              "    <tr>\n",
              "      <th>id</th>\n",
              "      <th></th>\n",
              "      <th></th>\n",
              "    </tr>\n",
              "  </thead>\n",
              "  <tbody>\n",
              "    <tr>\n",
              "      <th>0</th>\n",
              "      <td>Les coûts kilométriques réels peuvent diverger...</td>\n",
              "      <td>C1</td>\n",
              "    </tr>\n",
              "    <tr>\n",
              "      <th>1</th>\n",
              "      <td>Le bleu, c'est ma couleur préférée mais je n'a...</td>\n",
              "      <td>A1</td>\n",
              "    </tr>\n",
              "    <tr>\n",
              "      <th>2</th>\n",
              "      <td>Le test de niveau en français est sur le site ...</td>\n",
              "      <td>A1</td>\n",
              "    </tr>\n",
              "    <tr>\n",
              "      <th>3</th>\n",
              "      <td>Est-ce que ton mari est aussi de Boston?</td>\n",
              "      <td>A1</td>\n",
              "    </tr>\n",
              "    <tr>\n",
              "      <th>4</th>\n",
              "      <td>Dans les écoles de commerce, dans les couloirs...</td>\n",
              "      <td>B1</td>\n",
              "    </tr>\n",
              "    <tr>\n",
              "      <th>...</th>\n",
              "      <td>...</td>\n",
              "      <td>...</td>\n",
              "    </tr>\n",
              "    <tr>\n",
              "      <th>4795</th>\n",
              "      <td>C'est pourquoi, il décida de remplacer les hab...</td>\n",
              "      <td>B2</td>\n",
              "    </tr>\n",
              "    <tr>\n",
              "      <th>4796</th>\n",
              "      <td>Il avait une de ces pâleurs splendides qui don...</td>\n",
              "      <td>C1</td>\n",
              "    </tr>\n",
              "    <tr>\n",
              "      <th>4797</th>\n",
              "      <td>Et le premier samedi de chaque mois, venez ren...</td>\n",
              "      <td>A2</td>\n",
              "    </tr>\n",
              "    <tr>\n",
              "      <th>4798</th>\n",
              "      <td>Les coûts liés à la journalisation n'étant pas...</td>\n",
              "      <td>C2</td>\n",
              "    </tr>\n",
              "    <tr>\n",
              "      <th>4799</th>\n",
              "      <td>Sur le sable, la mer haletait de toute la resp...</td>\n",
              "      <td>C2</td>\n",
              "    </tr>\n",
              "  </tbody>\n",
              "</table>\n",
              "<p>4800 rows × 2 columns</p>\n",
              "</div>\n",
              "    <div class=\"colab-df-buttons\">\n",
              "\n",
              "  <div class=\"colab-df-container\">\n",
              "    <button class=\"colab-df-convert\" onclick=\"convertToInteractive('df-2d0ec298-e247-4430-b4b3-57b748f45ebd')\"\n",
              "            title=\"Convert this dataframe to an interactive table.\"\n",
              "            style=\"display:none;\">\n",
              "\n",
              "  <svg xmlns=\"http://www.w3.org/2000/svg\" height=\"24px\" viewBox=\"0 -960 960 960\">\n",
              "    <path d=\"M120-120v-720h720v720H120Zm60-500h600v-160H180v160Zm220 220h160v-160H400v160Zm0 220h160v-160H400v160ZM180-400h160v-160H180v160Zm440 0h160v-160H620v160ZM180-180h160v-160H180v160Zm440 0h160v-160H620v160Z\"/>\n",
              "  </svg>\n",
              "    </button>\n",
              "\n",
              "  <style>\n",
              "    .colab-df-container {\n",
              "      display:flex;\n",
              "      gap: 12px;\n",
              "    }\n",
              "\n",
              "    .colab-df-convert {\n",
              "      background-color: #E8F0FE;\n",
              "      border: none;\n",
              "      border-radius: 50%;\n",
              "      cursor: pointer;\n",
              "      display: none;\n",
              "      fill: #1967D2;\n",
              "      height: 32px;\n",
              "      padding: 0 0 0 0;\n",
              "      width: 32px;\n",
              "    }\n",
              "\n",
              "    .colab-df-convert:hover {\n",
              "      background-color: #E2EBFA;\n",
              "      box-shadow: 0px 1px 2px rgba(60, 64, 67, 0.3), 0px 1px 3px 1px rgba(60, 64, 67, 0.15);\n",
              "      fill: #174EA6;\n",
              "    }\n",
              "\n",
              "    .colab-df-buttons div {\n",
              "      margin-bottom: 4px;\n",
              "    }\n",
              "\n",
              "    [theme=dark] .colab-df-convert {\n",
              "      background-color: #3B4455;\n",
              "      fill: #D2E3FC;\n",
              "    }\n",
              "\n",
              "    [theme=dark] .colab-df-convert:hover {\n",
              "      background-color: #434B5C;\n",
              "      box-shadow: 0px 1px 3px 1px rgba(0, 0, 0, 0.15);\n",
              "      filter: drop-shadow(0px 1px 2px rgba(0, 0, 0, 0.3));\n",
              "      fill: #FFFFFF;\n",
              "    }\n",
              "  </style>\n",
              "\n",
              "    <script>\n",
              "      const buttonEl =\n",
              "        document.querySelector('#df-2d0ec298-e247-4430-b4b3-57b748f45ebd button.colab-df-convert');\n",
              "      buttonEl.style.display =\n",
              "        google.colab.kernel.accessAllowed ? 'block' : 'none';\n",
              "\n",
              "      async function convertToInteractive(key) {\n",
              "        const element = document.querySelector('#df-2d0ec298-e247-4430-b4b3-57b748f45ebd');\n",
              "        const dataTable =\n",
              "          await google.colab.kernel.invokeFunction('convertToInteractive',\n",
              "                                                    [key], {});\n",
              "        if (!dataTable) return;\n",
              "\n",
              "        const docLinkHtml = 'Like what you see? Visit the ' +\n",
              "          '<a target=\"_blank\" href=https://colab.research.google.com/notebooks/data_table.ipynb>data table notebook</a>'\n",
              "          + ' to learn more about interactive tables.';\n",
              "        element.innerHTML = '';\n",
              "        dataTable['output_type'] = 'display_data';\n",
              "        await google.colab.output.renderOutput(dataTable, element);\n",
              "        const docLink = document.createElement('div');\n",
              "        docLink.innerHTML = docLinkHtml;\n",
              "        element.appendChild(docLink);\n",
              "      }\n",
              "    </script>\n",
              "  </div>\n",
              "\n",
              "\n",
              "<div id=\"df-e0d7e341-2a81-46f6-ac74-b8757eb04931\">\n",
              "  <button class=\"colab-df-quickchart\" onclick=\"quickchart('df-e0d7e341-2a81-46f6-ac74-b8757eb04931')\"\n",
              "            title=\"Suggest charts\"\n",
              "            style=\"display:none;\">\n",
              "\n",
              "<svg xmlns=\"http://www.w3.org/2000/svg\" height=\"24px\"viewBox=\"0 0 24 24\"\n",
              "     width=\"24px\">\n",
              "    <g>\n",
              "        <path d=\"M19 3H5c-1.1 0-2 .9-2 2v14c0 1.1.9 2 2 2h14c1.1 0 2-.9 2-2V5c0-1.1-.9-2-2-2zM9 17H7v-7h2v7zm4 0h-2V7h2v10zm4 0h-2v-4h2v4z\"/>\n",
              "    </g>\n",
              "</svg>\n",
              "  </button>\n",
              "\n",
              "<style>\n",
              "  .colab-df-quickchart {\n",
              "      --bg-color: #E8F0FE;\n",
              "      --fill-color: #1967D2;\n",
              "      --hover-bg-color: #E2EBFA;\n",
              "      --hover-fill-color: #174EA6;\n",
              "      --disabled-fill-color: #AAA;\n",
              "      --disabled-bg-color: #DDD;\n",
              "  }\n",
              "\n",
              "  [theme=dark] .colab-df-quickchart {\n",
              "      --bg-color: #3B4455;\n",
              "      --fill-color: #D2E3FC;\n",
              "      --hover-bg-color: #434B5C;\n",
              "      --hover-fill-color: #FFFFFF;\n",
              "      --disabled-bg-color: #3B4455;\n",
              "      --disabled-fill-color: #666;\n",
              "  }\n",
              "\n",
              "  .colab-df-quickchart {\n",
              "    background-color: var(--bg-color);\n",
              "    border: none;\n",
              "    border-radius: 50%;\n",
              "    cursor: pointer;\n",
              "    display: none;\n",
              "    fill: var(--fill-color);\n",
              "    height: 32px;\n",
              "    padding: 0;\n",
              "    width: 32px;\n",
              "  }\n",
              "\n",
              "  .colab-df-quickchart:hover {\n",
              "    background-color: var(--hover-bg-color);\n",
              "    box-shadow: 0 1px 2px rgba(60, 64, 67, 0.3), 0 1px 3px 1px rgba(60, 64, 67, 0.15);\n",
              "    fill: var(--button-hover-fill-color);\n",
              "  }\n",
              "\n",
              "  .colab-df-quickchart-complete:disabled,\n",
              "  .colab-df-quickchart-complete:disabled:hover {\n",
              "    background-color: var(--disabled-bg-color);\n",
              "    fill: var(--disabled-fill-color);\n",
              "    box-shadow: none;\n",
              "  }\n",
              "\n",
              "  .colab-df-spinner {\n",
              "    border: 2px solid var(--fill-color);\n",
              "    border-color: transparent;\n",
              "    border-bottom-color: var(--fill-color);\n",
              "    animation:\n",
              "      spin 1s steps(1) infinite;\n",
              "  }\n",
              "\n",
              "  @keyframes spin {\n",
              "    0% {\n",
              "      border-color: transparent;\n",
              "      border-bottom-color: var(--fill-color);\n",
              "      border-left-color: var(--fill-color);\n",
              "    }\n",
              "    20% {\n",
              "      border-color: transparent;\n",
              "      border-left-color: var(--fill-color);\n",
              "      border-top-color: var(--fill-color);\n",
              "    }\n",
              "    30% {\n",
              "      border-color: transparent;\n",
              "      border-left-color: var(--fill-color);\n",
              "      border-top-color: var(--fill-color);\n",
              "      border-right-color: var(--fill-color);\n",
              "    }\n",
              "    40% {\n",
              "      border-color: transparent;\n",
              "      border-right-color: var(--fill-color);\n",
              "      border-top-color: var(--fill-color);\n",
              "    }\n",
              "    60% {\n",
              "      border-color: transparent;\n",
              "      border-right-color: var(--fill-color);\n",
              "    }\n",
              "    80% {\n",
              "      border-color: transparent;\n",
              "      border-right-color: var(--fill-color);\n",
              "      border-bottom-color: var(--fill-color);\n",
              "    }\n",
              "    90% {\n",
              "      border-color: transparent;\n",
              "      border-bottom-color: var(--fill-color);\n",
              "    }\n",
              "  }\n",
              "</style>\n",
              "\n",
              "  <script>\n",
              "    async function quickchart(key) {\n",
              "      const quickchartButtonEl =\n",
              "        document.querySelector('#' + key + ' button');\n",
              "      quickchartButtonEl.disabled = true;  // To prevent multiple clicks.\n",
              "      quickchartButtonEl.classList.add('colab-df-spinner');\n",
              "      try {\n",
              "        const charts = await google.colab.kernel.invokeFunction(\n",
              "            'suggestCharts', [key], {});\n",
              "      } catch (error) {\n",
              "        console.error('Error during call to suggestCharts:', error);\n",
              "      }\n",
              "      quickchartButtonEl.classList.remove('colab-df-spinner');\n",
              "      quickchartButtonEl.classList.add('colab-df-quickchart-complete');\n",
              "    }\n",
              "    (() => {\n",
              "      let quickchartButtonEl =\n",
              "        document.querySelector('#df-e0d7e341-2a81-46f6-ac74-b8757eb04931 button');\n",
              "      quickchartButtonEl.style.display =\n",
              "        google.colab.kernel.accessAllowed ? 'block' : 'none';\n",
              "    })();\n",
              "  </script>\n",
              "</div>\n",
              "    </div>\n",
              "  </div>\n"
            ]
          },
          "metadata": {},
          "execution_count": 8
        }
      ],
      "source": [
        "df"
      ]
    },
    {
      "cell_type": "markdown",
      "source": [
        "##### We use the same structure and the same parameters than the LSTM model. We didn't calculate this parameters here, because it's the same dataset."
      ],
      "metadata": {
        "id": "Vm40goZH38g3"
      }
    },
    {
      "cell_type": "code",
      "source": [
        "X = df['sentence']\n",
        "Y = df['difficulty']"
      ],
      "metadata": {
        "id": "l97F4TgticgH"
      },
      "execution_count": 9,
      "outputs": []
    },
    {
      "cell_type": "markdown",
      "source": [
        "#####In this part we tokenize our sentences and encode what we want to predict the difficulty"
      ],
      "metadata": {
        "id": "Odhb926Q4SHY"
      }
    },
    {
      "cell_type": "code",
      "source": [
        "tokenizer = Tokenizer(num_words=15773)\n",
        "tokenizer.fit_on_texts(X)\n",
        "\n",
        "X_train = tokenizer.texts_to_sequences(X)\n",
        "X_train_padded = pad_sequences(X_train, maxlen=100)\n",
        "\n",
        "label_encoder = LabelEncoder()\n",
        "Y_encoded = label_encoder.fit_transform(Y)\n",
        "Y_categorical = to_categorical(Y_encoded)"
      ],
      "metadata": {
        "id": "gy4ao3Jpv8yt"
      },
      "execution_count": 10,
      "outputs": []
    },
    {
      "cell_type": "code",
      "source": [
        "X_train, X_test, Y_train, Y_test = train_test_split(X_train_padded, Y_categorical, test_size=0.2, random_state=42)"
      ],
      "metadata": {
        "id": "oNTsMQ_LxWGO"
      },
      "execution_count": 11,
      "outputs": []
    },
    {
      "cell_type": "markdown",
      "source": [
        "After some data transformation we can construct our model. And as all our models we split 20% of our data."
      ],
      "metadata": {
        "id": "4oal8Ivq4Y2D"
      }
    },
    {
      "cell_type": "code",
      "source": [
        "model = Sequential()\n",
        "model.add(Embedding(input_dim=15773, output_dim=150, input_length=100))\n",
        "model.add(Conv1D(128, 5, activation='relu'))\n",
        "model.add(GlobalMaxPooling1D())\n",
        "model.add(Dense(10, activation='relu'))\n",
        "model.add(Dense(6, activation='softmax'))\n",
        "\n",
        "model.compile(loss='categorical_crossentropy', optimizer=tfa.optimizers.AdamW(weight_decay=0.001), metrics=['accuracy'])\n",
        "\n",
        "model.fit(X_train, Y_train, batch_size=64, epochs=5, validation_split=0.2)\n",
        "\n",
        "true_difficulty = np.argmax(Y_test, axis=1)\n",
        "pred_difficulty = model.predict(X_test)\n",
        "\n",
        "pred_difficulty_labels = np.argmax(pred_difficulty, axis=1)"
      ],
      "metadata": {
        "id": "LGU8vdNtTRxC",
        "colab": {
          "base_uri": "https://localhost:8080/"
        },
        "outputId": "7968f8b4-04a9-4372-8a76-0b092b5f7e7c"
      },
      "execution_count": 12,
      "outputs": [
        {
          "output_type": "stream",
          "name": "stdout",
          "text": [
            "Epoch 1/5\n",
            "48/48 [==============================] - 11s 209ms/step - loss: 1.7398 - accuracy: 0.2269 - val_loss: 1.6882 - val_accuracy: 0.2734\n",
            "Epoch 2/5\n",
            "48/48 [==============================] - 13s 268ms/step - loss: 1.5662 - accuracy: 0.3441 - val_loss: 1.5887 - val_accuracy: 0.3177\n",
            "Epoch 3/5\n",
            "48/48 [==============================] - 13s 263ms/step - loss: 1.3432 - accuracy: 0.4590 - val_loss: 1.5209 - val_accuracy: 0.3464\n",
            "Epoch 4/5\n",
            "48/48 [==============================] - 10s 217ms/step - loss: 1.0654 - accuracy: 0.5869 - val_loss: 1.4211 - val_accuracy: 0.4128\n",
            "Epoch 5/5\n",
            "48/48 [==============================] - 12s 256ms/step - loss: 0.7360 - accuracy: 0.7829 - val_loss: 1.4481 - val_accuracy: 0.4258\n",
            "30/30 [==============================] - 0s 11ms/step\n"
          ]
        }
      ]
    },
    {
      "cell_type": "markdown",
      "source": [
        "#####We download our model to use it in streamlit"
      ],
      "metadata": {
        "id": "kM5PRFv84iFr"
      }
    },
    {
      "cell_type": "code",
      "source": [
        "model.save('model_CNN.h5')\n",
        "files.download('model_CNN.h5')\n"
      ],
      "metadata": {
        "id": "b46ARkSFgAbP",
        "colab": {
          "base_uri": "https://localhost:8080/",
          "height": 72
        },
        "outputId": "f4199986-f80b-47a6-8dff-d81c1ec217ea"
      },
      "execution_count": 19,
      "outputs": [
        {
          "output_type": "stream",
          "name": "stderr",
          "text": [
            "/usr/local/lib/python3.10/dist-packages/keras/src/engine/training.py:3103: UserWarning: You are saving your model as an HDF5 file via `model.save()`. This file format is considered legacy. We recommend using instead the native Keras format, e.g. `model.save('my_model.keras')`.\n",
            "  saving_api.save_model(\n"
          ]
        },
        {
          "output_type": "display_data",
          "data": {
            "text/plain": [
              "<IPython.core.display.Javascript object>"
            ],
            "application/javascript": [
              "\n",
              "    async function download(id, filename, size) {\n",
              "      if (!google.colab.kernel.accessAllowed) {\n",
              "        return;\n",
              "      }\n",
              "      const div = document.createElement('div');\n",
              "      const label = document.createElement('label');\n",
              "      label.textContent = `Downloading \"${filename}\": `;\n",
              "      div.appendChild(label);\n",
              "      const progress = document.createElement('progress');\n",
              "      progress.max = size;\n",
              "      div.appendChild(progress);\n",
              "      document.body.appendChild(div);\n",
              "\n",
              "      const buffers = [];\n",
              "      let downloaded = 0;\n",
              "\n",
              "      const channel = await google.colab.kernel.comms.open(id);\n",
              "      // Send a message to notify the kernel that we're ready.\n",
              "      channel.send({})\n",
              "\n",
              "      for await (const message of channel.messages) {\n",
              "        // Send a message to notify the kernel that we're ready.\n",
              "        channel.send({})\n",
              "        if (message.buffers) {\n",
              "          for (const buffer of message.buffers) {\n",
              "            buffers.push(buffer);\n",
              "            downloaded += buffer.byteLength;\n",
              "            progress.value = downloaded;\n",
              "          }\n",
              "        }\n",
              "      }\n",
              "      const blob = new Blob(buffers, {type: 'application/binary'});\n",
              "      const a = document.createElement('a');\n",
              "      a.href = window.URL.createObjectURL(blob);\n",
              "      a.download = filename;\n",
              "      div.appendChild(a);\n",
              "      a.click();\n",
              "      div.remove();\n",
              "    }\n",
              "  "
            ]
          },
          "metadata": {}
        },
        {
          "output_type": "display_data",
          "data": {
            "text/plain": [
              "<IPython.core.display.Javascript object>"
            ],
            "application/javascript": [
              "download(\"download_2e2723d9-9708-494b-97f5-9e1e48a27eb4\", \"model_CNN.h5\", 29603088)"
            ]
          },
          "metadata": {}
        }
      ]
    },
    {
      "cell_type": "markdown",
      "source": [
        "##Metrics"
      ],
      "metadata": {
        "id": "QZFk1nl44xCV"
      }
    },
    {
      "cell_type": "markdown",
      "source": [
        "#####Here we calculate some metrics to see how good our model is"
      ],
      "metadata": {
        "id": "uT9IMlWP401d"
      }
    },
    {
      "cell_type": "code",
      "source": [
        "precision = precision_score(true_difficulty, pred_difficulty_labels, average='macro')\n",
        "recall = recall_score(true_difficulty, pred_difficulty_labels, average='macro')\n",
        "f1 = f1_score(true_difficulty, pred_difficulty_labels, average='macro')\n",
        "accuracy = accuracy_score(true_difficulty, pred_difficulty_labels)\n",
        "\n",
        "print(f\"Precision: {precision}\")\n",
        "print(f\"Recall: {recall}\")\n",
        "print(f\"F1 Score: {f1}\")\n",
        "print(f\"Accuracy: {accuracy}\")"
      ],
      "metadata": {
        "colab": {
          "base_uri": "https://localhost:8080/"
        },
        "id": "tu2VVGe81r1n",
        "outputId": "3f06b9f5-00c3-43b8-d161-b1a0e8dd7614"
      },
      "execution_count": 13,
      "outputs": [
        {
          "output_type": "stream",
          "name": "stdout",
          "text": [
            "Precision: 0.4134789029370675\n",
            "Recall: 0.4101057902583498\n",
            "F1 Score: 0.40778802089888094\n",
            "Accuracy: 0.41354166666666664\n"
          ]
        }
      ]
    },
    {
      "cell_type": "code",
      "source": [
        "conf_matrix = confusion_matrix(pred_difficulty_labels,true_difficulty)\n",
        "difficulty_labels=[\"A1\",\"A2\",\"B1\",\"B2\",\"C1\",\"C2\"]\n",
        "sns.heatmap(conf_matrix, annot=True, fmt='g',xticklabels=difficulty_labels,yticklabels=difficulty_labels,cmap=\"Greens\")\n",
        "plt.xlabel('Predicted difficulty levels')\n",
        "plt.ylabel('True difficulty levels')\n",
        "plt.title('Confusion matrix')\n",
        "plt.show()"
      ],
      "metadata": {
        "colab": {
          "base_uri": "https://localhost:8080/",
          "height": 472
        },
        "id": "Kd2cVstx1qL0",
        "outputId": "22fd7078-4dbf-4a41-b4de-beb7112c36b2"
      },
      "execution_count": 14,
      "outputs": [
        {
          "output_type": "display_data",
          "data": {
            "text/plain": [
              "<Figure size 640x480 with 2 Axes>"
            ],
            "image/png": "[encoded data removed]"
          },
          "metadata": {}
        }
      ]
    },
    {
      "cell_type": "markdown",
      "source": [
        "##Predictions"
      ],
      "metadata": {
        "id": "df18nFgX49nW"
      }
    },
    {
      "cell_type": "markdown",
      "source": [
        "#####And then we use our model to predict our unlabelled data"
      ],
      "metadata": {
        "id": "Od09fQ0B5BC0"
      }
    },
    {
      "cell_type": "code",
      "source": [
        "new_sentences =df_pred['sentence']\n",
        "\n",
        "new_sequences = tokenizer.texts_to_sequences(new_sentences)\n",
        "\n",
        "new_padded = pad_sequences(new_sequences, maxlen=100)\n",
        "\n",
        "new_predictions = model.predict(new_padded)\n",
        "\n",
        "predicted_classes = np.argmax(new_predictions, axis=1)\n",
        "predicted_labels = label_encoder.inverse_transform(predicted_classes)\n"
      ],
      "metadata": {
        "id": "KOEe1sY-q2Y6",
        "colab": {
          "base_uri": "https://localhost:8080/"
        },
        "outputId": "299139b8-88c7-4d77-bd8d-5b3bffe8ac2e"
      },
      "execution_count": 15,
      "outputs": [
        {
          "output_type": "stream",
          "name": "stdout",
          "text": [
            "38/38 [==============================] - 2s 34ms/step\n"
          ]
        }
      ]
    },
    {
      "cell_type": "code",
      "source": [
        "df_pred['predicted_difficulty'] = predicted_labels\n",
        "df_pred"
      ],
      "metadata": {
        "colab": {
          "base_uri": "https://localhost:8080/",
          "height": 455
        },
        "id": "bt3foZ5LBOgP",
        "outputId": "ea5589ac-95f9-4b9a-9cb8-9acb71bb077b"
      },
      "execution_count": 16,
      "outputs": [
        {
          "output_type": "execute_result",
          "data": {
            "text/plain": [
              "                                               sentence predicted_difficulty\n",
              "id                                                                          \n",
              "0     Nous dûmes nous excuser des propos que nous eû...                   C2\n",
              "1     Vous ne pouvez pas savoir le plaisir que j'ai ...                   B1\n",
              "2     Et, paradoxalement, boire froid n'est pas la b...                   A2\n",
              "3     Ce n'est pas étonnant, car c'est une saison my...                   A2\n",
              "4     Le corps de Golo lui-même, d'une essence aussi...                   C2\n",
              "...                                                 ...                  ...\n",
              "1195  C'est un phénomène qui trouve une accélération...                   B1\n",
              "1196  Je vais parler au serveur et voir si on peut d...                   A2\n",
              "1197  Il n'était pas comme tant de gens qui par pare...                   C2\n",
              "1198      Ils deviennent dangereux pour notre économie.                   A1\n",
              "1199  Son succès a généré beaucoup de réactions néga...                   B1\n",
              "\n",
              "[1200 rows x 2 columns]"
            ],
            "text/html": [
              "\n",
              "  <div id=\"df-acfcab7f-2986-4223-9a11-656728662cd8\" class=\"colab-df-container\">\n",
              "    <div>\n",
              "<style scoped>\n",
              "    .dataframe tbody tr th:only-of-type {\n",
              "        vertical-align: middle;\n",
              "    }\n",
              "\n",
              "    .dataframe tbody tr th {\n",
              "        vertical-align: top;\n",
              "    }\n",
              "\n",
              "    .dataframe thead th {\n",
              "        text-align: right;\n",
              "    }\n",
              "</style>\n",
              "<table border=\"1\" class=\"dataframe\">\n",
              "  <thead>\n",
              "    <tr style=\"text-align: right;\">\n",
              "      <th></th>\n",
              "      <th>sentence</th>\n",
              "      <th>predicted_difficulty</th>\n",
              "    </tr>\n",
              "    <tr>\n",
              "      <th>id</th>\n",
              "      <th></th>\n",
              "      <th></th>\n",
              "    </tr>\n",
              "  </thead>\n",
              "  <tbody>\n",
              "    <tr>\n",
              "      <th>0</th>\n",
              "      <td>Nous dûmes nous excuser des propos que nous eû...</td>\n",
              "      <td>C2</td>\n",
              "    </tr>\n",
              "    <tr>\n",
              "      <th>1</th>\n",
              "      <td>Vous ne pouvez pas savoir le plaisir que j'ai ...</td>\n",
              "      <td>B1</td>\n",
              "    </tr>\n",
              "    <tr>\n",
              "      <th>2</th>\n",
              "      <td>Et, paradoxalement, boire froid n'est pas la b...</td>\n",
              "      <td>A2</td>\n",
              "    </tr>\n",
              "    <tr>\n",
              "      <th>3</th>\n",
              "      <td>Ce n'est pas étonnant, car c'est une saison my...</td>\n",
              "      <td>A2</td>\n",
              "    </tr>\n",
              "    <tr>\n",
              "      <th>4</th>\n",
              "      <td>Le corps de Golo lui-même, d'une essence aussi...</td>\n",
              "      <td>C2</td>\n",
              "    </tr>\n",
              "    <tr>\n",
              "      <th>...</th>\n",
              "      <td>...</td>\n",
              "      <td>...</td>\n",
              "    </tr>\n",
              "    <tr>\n",
              "      <th>1195</th>\n",
              "      <td>C'est un phénomène qui trouve une accélération...</td>\n",
              "      <td>B1</td>\n",
              "    </tr>\n",
              "    <tr>\n",
              "      <th>1196</th>\n",
              "      <td>Je vais parler au serveur et voir si on peut d...</td>\n",
              "      <td>A2</td>\n",
              "    </tr>\n",
              "    <tr>\n",
              "      <th>1197</th>\n",
              "      <td>Il n'était pas comme tant de gens qui par pare...</td>\n",
              "      <td>C2</td>\n",
              "    </tr>\n",
              "    <tr>\n",
              "      <th>1198</th>\n",
              "      <td>Ils deviennent dangereux pour notre économie.</td>\n",
              "      <td>A1</td>\n",
              "    </tr>\n",
              "    <tr>\n",
              "      <th>1199</th>\n",
              "      <td>Son succès a généré beaucoup de réactions néga...</td>\n",
              "      <td>B1</td>\n",
              "    </tr>\n",
              "  </tbody>\n",
              "</table>\n",
              "<p>1200 rows × 2 columns</p>\n",
              "</div>\n",
              "    <div class=\"colab-df-buttons\">\n",
              "\n",
              "  <div class=\"colab-df-container\">\n",
              "    <button class=\"colab-df-convert\" onclick=\"convertToInteractive('df-acfcab7f-2986-4223-9a11-656728662cd8')\"\n",
              "            title=\"Convert this dataframe to an interactive table.\"\n",
              "            style=\"display:none;\">\n",
              "\n",
              "  <svg xmlns=\"http://www.w3.org/2000/svg\" height=\"24px\" viewBox=\"0 -960 960 960\">\n",
              "    <path d=\"M120-120v-720h720v720H120Zm60-500h600v-160H180v160Zm220 220h160v-160H400v160Zm0 220h160v-160H400v160ZM180-400h160v-160H180v160Zm440 0h160v-160H620v160ZM180-180h160v-160H180v160Zm440 0h160v-160H620v160Z\"/>\n",
              "  </svg>\n",
              "    </button>\n",
              "\n",
              "  <style>\n",
              "    .colab-df-container {\n",
              "      display:flex;\n",
              "      gap: 12px;\n",
              "    }\n",
              "\n",
              "    .colab-df-convert {\n",
              "      background-color: #E8F0FE;\n",
              "      border: none;\n",
              "      border-radius: 50%;\n",
              "      cursor: pointer;\n",
              "      display: none;\n",
              "      fill: #1967D2;\n",
              "      height: 32px;\n",
              "      padding: 0 0 0 0;\n",
              "      width: 32px;\n",
              "    }\n",
              "\n",
              "    .colab-df-convert:hover {\n",
              "      background-color: #E2EBFA;\n",
              "      box-shadow: 0px 1px 2px rgba(60, 64, 67, 0.3), 0px 1px 3px 1px rgba(60, 64, 67, 0.15);\n",
              "      fill: #174EA6;\n",
              "    }\n",
              "\n",
              "    .colab-df-buttons div {\n",
              "      margin-bottom: 4px;\n",
              "    }\n",
              "\n",
              "    [theme=dark] .colab-df-convert {\n",
              "      background-color: #3B4455;\n",
              "      fill: #D2E3FC;\n",
              "    }\n",
              "\n",
              "    [theme=dark] .colab-df-convert:hover {\n",
              "      background-color: #434B5C;\n",
              "      box-shadow: 0px 1px 3px 1px rgba(0, 0, 0, 0.15);\n",
              "      filter: drop-shadow(0px 1px 2px rgba(0, 0, 0, 0.3));\n",
              "      fill: #FFFFFF;\n",
              "    }\n",
              "  </style>\n",
              "\n",
              "    <script>\n",
              "      const buttonEl =\n",
              "        document.querySelector('#df-acfcab7f-2986-4223-9a11-656728662cd8 button.colab-df-convert');\n",
              "      buttonEl.style.display =\n",
              "        google.colab.kernel.accessAllowed ? 'block' : 'none';\n",
              "\n",
              "      async function convertToInteractive(key) {\n",
              "        const element = document.querySelector('#df-acfcab7f-2986-4223-9a11-656728662cd8');\n",
              "        const dataTable =\n",
              "          await google.colab.kernel.invokeFunction('convertToInteractive',\n",
              "                                                    [key], {});\n",
              "        if (!dataTable) return;\n",
              "\n",
              "        const docLinkHtml = 'Like what you see? Visit the ' +\n",
              "          '<a target=\"_blank\" href=https://colab.research.google.com/notebooks/data_table.ipynb>data table notebook</a>'\n",
              "          + ' to learn more about interactive tables.';\n",
              "        element.innerHTML = '';\n",
              "        dataTable['output_type'] = 'display_data';\n",
              "        await google.colab.output.renderOutput(dataTable, element);\n",
              "        const docLink = document.createElement('div');\n",
              "        docLink.innerHTML = docLinkHtml;\n",
              "        element.appendChild(docLink);\n",
              "      }\n",
              "    </script>\n",
              "  </div>\n",
              "\n",
              "\n",
              "<div id=\"df-b88dfa57-9f98-4460-9907-3fcc4c183b7b\">\n",
              "  <button class=\"colab-df-quickchart\" onclick=\"quickchart('df-b88dfa57-9f98-4460-9907-3fcc4c183b7b')\"\n",
              "            title=\"Suggest charts\"\n",
              "            style=\"display:none;\">\n",
              "\n",
              "<svg xmlns=\"http://www.w3.org/2000/svg\" height=\"24px\"viewBox=\"0 0 24 24\"\n",
              "     width=\"24px\">\n",
              "    <g>\n",
              "        <path d=\"M19 3H5c-1.1 0-2 .9-2 2v14c0 1.1.9 2 2 2h14c1.1 0 2-.9 2-2V5c0-1.1-.9-2-2-2zM9 17H7v-7h2v7zm4 0h-2V7h2v10zm4 0h-2v-4h2v4z\"/>\n",
              "    </g>\n",
              "</svg>\n",
              "  </button>\n",
              "\n",
              "<style>\n",
              "  .colab-df-quickchart {\n",
              "      --bg-color: #E8F0FE;\n",
              "      --fill-color: #1967D2;\n",
              "      --hover-bg-color: #E2EBFA;\n",
              "      --hover-fill-color: #174EA6;\n",
              "      --disabled-fill-color: #AAA;\n",
              "      --disabled-bg-color: #DDD;\n",
              "  }\n",
              "\n",
              "  [theme=dark] .colab-df-quickchart {\n",
              "      --bg-color: #3B4455;\n",
              "      --fill-color: #D2E3FC;\n",
              "      --hover-bg-color: #434B5C;\n",
              "      --hover-fill-color: #FFFFFF;\n",
              "      --disabled-bg-color: #3B4455;\n",
              "      --disabled-fill-color: #666;\n",
              "  }\n",
              "\n",
              "  .colab-df-quickchart {\n",
              "    background-color: var(--bg-color);\n",
              "    border: none;\n",
              "    border-radius: 50%;\n",
              "    cursor: pointer;\n",
              "    display: none;\n",
              "    fill: var(--fill-color);\n",
              "    height: 32px;\n",
              "    padding: 0;\n",
              "    width: 32px;\n",
              "  }\n",
              "\n",
              "  .colab-df-quickchart:hover {\n",
              "    background-color: var(--hover-bg-color);\n",
              "    box-shadow: 0 1px 2px rgba(60, 64, 67, 0.3), 0 1px 3px 1px rgba(60, 64, 67, 0.15);\n",
              "    fill: var(--button-hover-fill-color);\n",
              "  }\n",
              "\n",
              "  .colab-df-quickchart-complete:disabled,\n",
              "  .colab-df-quickchart-complete:disabled:hover {\n",
              "    background-color: var(--disabled-bg-color);\n",
              "    fill: var(--disabled-fill-color);\n",
              "    box-shadow: none;\n",
              "  }\n",
              "\n",
              "  .colab-df-spinner {\n",
              "    border: 2px solid var(--fill-color);\n",
              "    border-color: transparent;\n",
              "    border-bottom-color: var(--fill-color);\n",
              "    animation:\n",
              "      spin 1s steps(1) infinite;\n",
              "  }\n",
              "\n",
              "  @keyframes spin {\n",
              "    0% {\n",
              "      border-color: transparent;\n",
              "      border-bottom-color: var(--fill-color);\n",
              "      border-left-color: var(--fill-color);\n",
              "    }\n",
              "    20% {\n",
              "      border-color: transparent;\n",
              "      border-left-color: var(--fill-color);\n",
              "      border-top-color: var(--fill-color);\n",
              "    }\n",
              "    30% {\n",
              "      border-color: transparent;\n",
              "      border-left-color: var(--fill-color);\n",
              "      border-top-color: var(--fill-color);\n",
              "      border-right-color: var(--fill-color);\n",
              "    }\n",
              "    40% {\n",
              "      border-color: transparent;\n",
              "      border-right-color: var(--fill-color);\n",
              "      border-top-color: var(--fill-color);\n",
              "    }\n",
              "    60% {\n",
              "      border-color: transparent;\n",
              "      border-right-color: var(--fill-color);\n",
              "    }\n",
              "    80% {\n",
              "      border-color: transparent;\n",
              "      border-right-color: var(--fill-color);\n",
              "      border-bottom-color: var(--fill-color);\n",
              "    }\n",
              "    90% {\n",
              "      border-color: transparent;\n",
              "      border-bottom-color: var(--fill-color);\n",
              "    }\n",
              "  }\n",
              "</style>\n",
              "\n",
              "  <script>\n",
              "    async function quickchart(key) {\n",
              "      const quickchartButtonEl =\n",
              "        document.querySelector('#' + key + ' button');\n",
              "      quickchartButtonEl.disabled = true;  // To prevent multiple clicks.\n",
              "      quickchartButtonEl.classList.add('colab-df-spinner');\n",
              "      try {\n",
              "        const charts = await google.colab.kernel.invokeFunction(\n",
              "            'suggestCharts', [key], {});\n",
              "      } catch (error) {\n",
              "        console.error('Error during call to suggestCharts:', error);\n",
              "      }\n",
              "      quickchartButtonEl.classList.remove('colab-df-spinner');\n",
              "      quickchartButtonEl.classList.add('colab-df-quickchart-complete');\n",
              "    }\n",
              "    (() => {\n",
              "      let quickchartButtonEl =\n",
              "        document.querySelector('#df-b88dfa57-9f98-4460-9907-3fcc4c183b7b button');\n",
              "      quickchartButtonEl.style.display =\n",
              "        google.colab.kernel.accessAllowed ? 'block' : 'none';\n",
              "    })();\n",
              "  </script>\n",
              "</div>\n",
              "    </div>\n",
              "  </div>\n"
            ]
          },
          "metadata": {},
          "execution_count": 16
        }
      ]
    },
    {
      "cell_type": "markdown",
      "source": [
        "# This is how to submit a pd file with predictions\n",
        "### for the example we will submit a file where only A1 is given as a prediction"
      ],
      "metadata": {
        "id": "jctQ2IXYeXEs"
      }
    },
    {
      "cell_type": "code",
      "source": [
        "df_sub=df_pred[['predicted_difficulty']]\n",
        "df_sub.to_csv('submission.csv')"
      ],
      "metadata": {
        "id": "pg1ITBF8e0aq"
      },
      "execution_count": 17,
      "outputs": []
    },
    {
      "cell_type": "code",
      "source": [
        "! kaggle competitions submit -c detecting-french-texts-difficulty-level-2023 -f submission.csv -m \"Sample submission\""
      ],
      "metadata": {
        "colab": {
          "base_uri": "https://localhost:8080/"
        },
        "id": "D3i5G0qzgBxP",
        "outputId": "b8aad558-be2e-41dc-ccad-15c563e69382"
      },
      "execution_count": 18,
      "outputs": [
        {
          "output_type": "stream",
          "name": "stdout",
          "text": [
            "100% 8.31k/8.31k [00:00<00:00, 10.2kB/s]\n",
            "Successfully submitted to Detecting the difficulty level of French texts"
          ]
        }
      ]
    },
    {
      "cell_type": "markdown",
      "source": [
        "![image.png](data:image/png;base64,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)"
      ],
      "metadata": {
        "id": "NslHdlD63G5a"
      }
    }
  ],
  "metadata": {
    "colab": {
      "provenance": []
    },
    "kernelspec": {
      "display_name": "Python 3 (ipykernel)",
      "language": "python",
      "name": "python3"
    },
    "language_info": {
      "codemirror_mode": {
        "name": "ipython",
        "version": 3
      },
      "file_extension": ".py",
      "mimetype": "text/x-python",
      "name": "python",
      "nbconvert_exporter": "python",
      "pygments_lexer": "ipython3",
      "version": "3.9.6"
    },
    "toc": {
      "base_numbering": 1,
      "nav_menu": {},
      "number_sections": true,
      "sideBar": true,
      "skip_h1_title": false,
      "title_cell": "Table of Contents",
      "title_sidebar": "Contents",
      "toc_cell": false,
      "toc_position": {},
      "toc_section_display": true,
      "toc_window_display": false
    }
  },
  "nbformat": 4,
  "nbformat_minor": 0
}