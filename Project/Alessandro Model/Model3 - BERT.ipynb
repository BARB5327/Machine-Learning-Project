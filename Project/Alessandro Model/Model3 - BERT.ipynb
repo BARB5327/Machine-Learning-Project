{
  "cells": [
    {
      "cell_type": "markdown",
      "metadata": {
        "id": "kTfmqzC6OtfX"
      },
      "source": [
        "#Initialization of the kaggle and the files#"
      ]
    },
    {
      "cell_type": "code",
      "execution_count": 1,
      "metadata": {
        "colab": {
          "base_uri": "https://localhost:8080/"
        },
        "id": "UJ_hnJzSNO2g",
        "outputId": "0e389ec5-cce6-4462-b6d4-6f6a8d17da13"
      },
      "outputs": [
        {
          "output_type": "stream",
          "name": "stdout",
          "text": [
            "Mounted at /content/drive\n"
          ]
        }
      ],
      "source": [
        "# reading in the data via the Kaggle API\n",
        "\n",
        "# mount your Google Drive\n",
        "from google.colab import drive\n",
        "drive.mount('/content/drive', force_remount=True)"
      ]
    },
    {
      "cell_type": "code",
      "execution_count": 2,
      "metadata": {
        "colab": {
          "base_uri": "https://localhost:8080/"
        },
        "id": "mJPTz3D7TeQv",
        "outputId": "8e124b90-ece9-4ecd-8fed-63195c94c485"
      },
      "outputs": [
        {
          "output_type": "stream",
          "name": "stdout",
          "text": [
            "Requirement already satisfied: kaggle in /usr/local/lib/python3.10/dist-packages (1.5.16)\n",
            "Requirement already satisfied: six>=1.10 in /usr/local/lib/python3.10/dist-packages (from kaggle) (1.16.0)\n",
            "Requirement already satisfied: certifi in /usr/local/lib/python3.10/dist-packages (from kaggle) (2023.11.17)\n",
            "Requirement already satisfied: python-dateutil in /usr/local/lib/python3.10/dist-packages (from kaggle) (2.8.2)\n",
            "Requirement already satisfied: requests in /usr/local/lib/python3.10/dist-packages (from kaggle) (2.31.0)\n",
            "Requirement already satisfied: tqdm in /usr/local/lib/python3.10/dist-packages (from kaggle) (4.66.1)\n",
            "Requirement already satisfied: python-slugify in /usr/local/lib/python3.10/dist-packages (from kaggle) (8.0.1)\n",
            "Requirement already satisfied: urllib3 in /usr/local/lib/python3.10/dist-packages (from kaggle) (2.0.7)\n",
            "Requirement already satisfied: bleach in /usr/local/lib/python3.10/dist-packages (from kaggle) (6.1.0)\n",
            "Requirement already satisfied: webencodings in /usr/local/lib/python3.10/dist-packages (from bleach->kaggle) (0.5.1)\n",
            "Requirement already satisfied: text-unidecode>=1.3 in /usr/local/lib/python3.10/dist-packages (from python-slugify->kaggle) (1.3)\n",
            "Requirement already satisfied: charset-normalizer<4,>=2 in /usr/local/lib/python3.10/dist-packages (from requests->kaggle) (3.3.2)\n",
            "Requirement already satisfied: idna<4,>=2.5 in /usr/local/lib/python3.10/dist-packages (from requests->kaggle) (3.6)\n"
          ]
        }
      ],
      "source": [
        "# install Kaggle\n",
        "! pip install kaggle"
      ]
    },
    {
      "cell_type": "markdown",
      "metadata": {
        "id": "ZKG1TCddRYTB"
      },
      "source": [
        "Log into your Kaggle account, go to Account > API > Create new API token. You will obtain a kaggle.json file, which you save on your Google Drive directy in my drive."
      ]
    },
    {
      "cell_type": "code",
      "execution_count": 3,
      "metadata": {
        "id": "JgzLj451YDfV",
        "colab": {
          "base_uri": "https://localhost:8080/"
        },
        "outputId": "77be9e44-6292-4448-bff1-a02493dfaed7"
      },
      "outputs": [
        {
          "output_type": "stream",
          "name": "stdout",
          "text": [
            "mkdir: cannot create directory ‘/root/.kaggle’: File exists\n"
          ]
        }
      ],
      "source": [
        "!mkdir ~/.kaggle"
      ]
    },
    {
      "cell_type": "code",
      "execution_count": 4,
      "metadata": {
        "id": "KrsZLalrSI3u"
      },
      "outputs": [],
      "source": [
        "#read in your Kaggle credentials from Google Drive\n",
        "!cp /content/drive/MyDrive/Kaggle/kaggle.json ~/.kaggle/kaggle.json\n"
      ]
    },
    {
      "cell_type": "code",
      "execution_count": 5,
      "metadata": {
        "colab": {
          "base_uri": "https://localhost:8080/"
        },
        "id": "BDI60LXKTPzf",
        "outputId": "dde0208d-9db9-4621-b697-8dcacbcb634e"
      },
      "outputs": [
        {
          "output_type": "stream",
          "name": "stdout",
          "text": [
            "detecting-french-texts-difficulty-level-2023.zip: Skipping, found more recently modified local copy (use --force to force download)\n"
          ]
        }
      ],
      "source": [
        "! kaggle competitions download -c detecting-french-texts-difficulty-level-2023\n",
        "from zipfile import ZipFile\n",
        "with ZipFile('detecting-french-texts-difficulty-level-2023.zip','r') as zip:\n",
        "  zip.extractall(path=\"\")"
      ]
    },
    {
      "cell_type": "markdown",
      "metadata": {
        "id": "HHb-bzEFOdNv"
      },
      "source": [
        "# Begining of the model#"
      ]
    },
    {
      "cell_type": "code",
      "execution_count": 6,
      "metadata": {
        "colab": {
          "base_uri": "https://localhost:8080/"
        },
        "id": "IKB5eYqaQRES",
        "outputId": "92c98e68-1365-4e91-a366-0df91938d284"
      },
      "outputs": [
        {
          "output_type": "stream",
          "name": "stdout",
          "text": [
            "Requirement already satisfied: transformers in /usr/local/lib/python3.10/dist-packages (4.35.2)\n",
            "Requirement already satisfied: torch in /usr/local/lib/python3.10/dist-packages (2.1.0+cu118)\n",
            "Requirement already satisfied: filelock in /usr/local/lib/python3.10/dist-packages (from transformers) (3.13.1)\n",
            "Requirement already satisfied: huggingface-hub<1.0,>=0.16.4 in /usr/local/lib/python3.10/dist-packages (from transformers) (0.19.4)\n",
            "Requirement already satisfied: numpy>=1.17 in /usr/local/lib/python3.10/dist-packages (from transformers) (1.23.5)\n",
            "Requirement already satisfied: packaging>=20.0 in /usr/local/lib/python3.10/dist-packages (from transformers) (23.2)\n",
            "Requirement already satisfied: pyyaml>=5.1 in /usr/local/lib/python3.10/dist-packages (from transformers) (6.0.1)\n",
            "Requirement already satisfied: regex!=2019.12.17 in /usr/local/lib/python3.10/dist-packages (from transformers) (2023.6.3)\n",
            "Requirement already satisfied: requests in /usr/local/lib/python3.10/dist-packages (from transformers) (2.31.0)\n",
            "Requirement already satisfied: tokenizers<0.19,>=0.14 in /usr/local/lib/python3.10/dist-packages (from transformers) (0.15.0)\n",
            "Requirement already satisfied: safetensors>=0.3.1 in /usr/local/lib/python3.10/dist-packages (from transformers) (0.4.1)\n",
            "Requirement already satisfied: tqdm>=4.27 in /usr/local/lib/python3.10/dist-packages (from transformers) (4.66.1)\n",
            "Requirement already satisfied: typing-extensions in /usr/local/lib/python3.10/dist-packages (from torch) (4.5.0)\n",
            "Requirement already satisfied: sympy in /usr/local/lib/python3.10/dist-packages (from torch) (1.12)\n",
            "Requirement already satisfied: networkx in /usr/local/lib/python3.10/dist-packages (from torch) (3.2.1)\n",
            "Requirement already satisfied: jinja2 in /usr/local/lib/python3.10/dist-packages (from torch) (3.1.2)\n",
            "Requirement already satisfied: fsspec in /usr/local/lib/python3.10/dist-packages (from torch) (2023.6.0)\n",
            "Requirement already satisfied: triton==2.1.0 in /usr/local/lib/python3.10/dist-packages (from torch) (2.1.0)\n",
            "Requirement already satisfied: MarkupSafe>=2.0 in /usr/local/lib/python3.10/dist-packages (from jinja2->torch) (2.1.3)\n",
            "Requirement already satisfied: charset-normalizer<4,>=2 in /usr/local/lib/python3.10/dist-packages (from requests->transformers) (3.3.2)\n",
            "Requirement already satisfied: idna<4,>=2.5 in /usr/local/lib/python3.10/dist-packages (from requests->transformers) (3.6)\n",
            "Requirement already satisfied: urllib3<3,>=1.21.1 in /usr/local/lib/python3.10/dist-packages (from requests->transformers) (2.0.7)\n",
            "Requirement already satisfied: certifi>=2017.4.17 in /usr/local/lib/python3.10/dist-packages (from requests->transformers) (2023.11.17)\n",
            "Requirement already satisfied: mpmath>=0.19 in /usr/local/lib/python3.10/dist-packages (from sympy->torch) (1.3.0)\n"
          ]
        }
      ],
      "source": [
        "!pip install transformers torch\n",
        "\n"
      ]
    },
    {
      "cell_type": "markdown",
      "metadata": {
        "id": "nvsJcuCpQLx8"
      },
      "source": [
        "## Imports##"
      ]
    },
    {
      "cell_type": "code",
      "execution_count": 7,
      "metadata": {
        "id": "daqvj7feTx60"
      },
      "outputs": [],
      "source": [
        "# read in your training data\n",
        "import pandas as pd\n",
        "import numpy as np\n",
        "import torch\n",
        "import seaborn as sns\n",
        "import matplotlib.pyplot as plt\n",
        "\n",
        "from sklearn.model_selection import train_test_split, GridSearchCV,cross_val_score\n",
        "from torch.utils.data import DataLoader, Dataset\n",
        "from torch.nn import CrossEntropyLoss\n",
        "from torch.optim import AdamW\n",
        "from transformers import BertTokenizer, BertForSequenceClassification\n",
        "from sklearn.model_selection import train_test_split\n",
        "from sklearn.preprocessing import LabelEncoder\n",
        "from sklearn.metrics import precision_score, recall_score, f1_score, accuracy_score, confusion_matrix\n",
        "\n",
        "df = pd.read_csv('training_data.csv', index_col = 'id')\n",
        "df_pred = pd.read_csv('unlabelled_test_data.csv', index_col = 'id')"
      ]
    },
    {
      "cell_type": "code",
      "execution_count": 8,
      "metadata": {
        "colab": {
          "base_uri": "https://localhost:8080/",
          "height": 455
        },
        "id": "VxRSnk5bhTp8",
        "outputId": "9fb7bcc8-b50a-45e0-fd59-9a6dea50dcc5"
      },
      "outputs": [
        {
          "output_type": "execute_result",
          "data": {
            "text/plain": [
              "                                               sentence difficulty\n",
              "id                                                                \n",
              "0     Les coûts kilométriques réels peuvent diverger...         C1\n",
              "1     Le bleu, c'est ma couleur préférée mais je n'a...         A1\n",
              "2     Le test de niveau en français est sur le site ...         A1\n",
              "3              Est-ce que ton mari est aussi de Boston?         A1\n",
              "4     Dans les écoles de commerce, dans les couloirs...         B1\n",
              "...                                                 ...        ...\n",
              "4795  C'est pourquoi, il décida de remplacer les hab...         B2\n",
              "4796  Il avait une de ces pâleurs splendides qui don...         C1\n",
              "4797  Et le premier samedi de chaque mois, venez ren...         A2\n",
              "4798  Les coûts liés à la journalisation n'étant pas...         C2\n",
              "4799  Sur le sable, la mer haletait de toute la resp...         C2\n",
              "\n",
              "[4800 rows x 2 columns]"
            ],
            "text/html": [
              "\n",
              "  <div id=\"df-b2c385ed-8cb3-427b-9738-150072c1d330\" class=\"colab-df-container\">\n",
              "    <div>\n",
              "<style scoped>\n",
              "    .dataframe tbody tr th:only-of-type {\n",
              "        vertical-align: middle;\n",
              "    }\n",
              "\n",
              "    .dataframe tbody tr th {\n",
              "        vertical-align: top;\n",
              "    }\n",
              "\n",
              "    .dataframe thead th {\n",
              "        text-align: right;\n",
              "    }\n",
              "</style>\n",
              "<table border=\"1\" class=\"dataframe\">\n",
              "  <thead>\n",
              "    <tr style=\"text-align: right;\">\n",
              "      <th></th>\n",
              "      <th>sentence</th>\n",
              "      <th>difficulty</th>\n",
              "    </tr>\n",
              "    <tr>\n",
              "      <th>id</th>\n",
              "      <th></th>\n",
              "      <th></th>\n",
              "    </tr>\n",
              "  </thead>\n",
              "  <tbody>\n",
              "    <tr>\n",
              "      <th>0</th>\n",
              "      <td>Les coûts kilométriques réels peuvent diverger...</td>\n",
              "      <td>C1</td>\n",
              "    </tr>\n",
              "    <tr>\n",
              "      <th>1</th>\n",
              "      <td>Le bleu, c'est ma couleur préférée mais je n'a...</td>\n",
              "      <td>A1</td>\n",
              "    </tr>\n",
              "    <tr>\n",
              "      <th>2</th>\n",
              "      <td>Le test de niveau en français est sur le site ...</td>\n",
              "      <td>A1</td>\n",
              "    </tr>\n",
              "    <tr>\n",
              "      <th>3</th>\n",
              "      <td>Est-ce que ton mari est aussi de Boston?</td>\n",
              "      <td>A1</td>\n",
              "    </tr>\n",
              "    <tr>\n",
              "      <th>4</th>\n",
              "      <td>Dans les écoles de commerce, dans les couloirs...</td>\n",
              "      <td>B1</td>\n",
              "    </tr>\n",
              "    <tr>\n",
              "      <th>...</th>\n",
              "      <td>...</td>\n",
              "      <td>...</td>\n",
              "    </tr>\n",
              "    <tr>\n",
              "      <th>4795</th>\n",
              "      <td>C'est pourquoi, il décida de remplacer les hab...</td>\n",
              "      <td>B2</td>\n",
              "    </tr>\n",
              "    <tr>\n",
              "      <th>4796</th>\n",
              "      <td>Il avait une de ces pâleurs splendides qui don...</td>\n",
              "      <td>C1</td>\n",
              "    </tr>\n",
              "    <tr>\n",
              "      <th>4797</th>\n",
              "      <td>Et le premier samedi de chaque mois, venez ren...</td>\n",
              "      <td>A2</td>\n",
              "    </tr>\n",
              "    <tr>\n",
              "      <th>4798</th>\n",
              "      <td>Les coûts liés à la journalisation n'étant pas...</td>\n",
              "      <td>C2</td>\n",
              "    </tr>\n",
              "    <tr>\n",
              "      <th>4799</th>\n",
              "      <td>Sur le sable, la mer haletait de toute la resp...</td>\n",
              "      <td>C2</td>\n",
              "    </tr>\n",
              "  </tbody>\n",
              "</table>\n",
              "<p>4800 rows × 2 columns</p>\n",
              "</div>\n",
              "    <div class=\"colab-df-buttons\">\n",
              "\n",
              "  <div class=\"colab-df-container\">\n",
              "    <button class=\"colab-df-convert\" onclick=\"convertToInteractive('df-b2c385ed-8cb3-427b-9738-150072c1d330')\"\n",
              "            title=\"Convert this dataframe to an interactive table.\"\n",
              "            style=\"display:none;\">\n",
              "\n",
              "  <svg xmlns=\"http://www.w3.org/2000/svg\" height=\"24px\" viewBox=\"0 -960 960 960\">\n",
              "    <path d=\"M120-120v-720h720v720H120Zm60-500h600v-160H180v160Zm220 220h160v-160H400v160Zm0 220h160v-160H400v160ZM180-400h160v-160H180v160Zm440 0h160v-160H620v160ZM180-180h160v-160H180v160Zm440 0h160v-160H620v160Z\"/>\n",
              "  </svg>\n",
              "    </button>\n",
              "\n",
              "  <style>\n",
              "    .colab-df-container {\n",
              "      display:flex;\n",
              "      gap: 12px;\n",
              "    }\n",
              "\n",
              "    .colab-df-convert {\n",
              "      background-color: #E8F0FE;\n",
              "      border: none;\n",
              "      border-radius: 50%;\n",
              "      cursor: pointer;\n",
              "      display: none;\n",
              "      fill: #1967D2;\n",
              "      height: 32px;\n",
              "      padding: 0 0 0 0;\n",
              "      width: 32px;\n",
              "    }\n",
              "\n",
              "    .colab-df-convert:hover {\n",
              "      background-color: #E2EBFA;\n",
              "      box-shadow: 0px 1px 2px rgba(60, 64, 67, 0.3), 0px 1px 3px 1px rgba(60, 64, 67, 0.15);\n",
              "      fill: #174EA6;\n",
              "    }\n",
              "\n",
              "    .colab-df-buttons div {\n",
              "      margin-bottom: 4px;\n",
              "    }\n",
              "\n",
              "    [theme=dark] .colab-df-convert {\n",
              "      background-color: #3B4455;\n",
              "      fill: #D2E3FC;\n",
              "    }\n",
              "\n",
              "    [theme=dark] .colab-df-convert:hover {\n",
              "      background-color: #434B5C;\n",
              "      box-shadow: 0px 1px 3px 1px rgba(0, 0, 0, 0.15);\n",
              "      filter: drop-shadow(0px 1px 2px rgba(0, 0, 0, 0.3));\n",
              "      fill: #FFFFFF;\n",
              "    }\n",
              "  </style>\n",
              "\n",
              "    <script>\n",
              "      const buttonEl =\n",
              "        document.querySelector('#df-b2c385ed-8cb3-427b-9738-150072c1d330 button.colab-df-convert');\n",
              "      buttonEl.style.display =\n",
              "        google.colab.kernel.accessAllowed ? 'block' : 'none';\n",
              "\n",
              "      async function convertToInteractive(key) {\n",
              "        const element = document.querySelector('#df-b2c385ed-8cb3-427b-9738-150072c1d330');\n",
              "        const dataTable =\n",
              "          await google.colab.kernel.invokeFunction('convertToInteractive',\n",
              "                                                    [key], {});\n",
              "        if (!dataTable) return;\n",
              "\n",
              "        const docLinkHtml = 'Like what you see? Visit the ' +\n",
              "          '<a target=\"_blank\" href=https://colab.research.google.com/notebooks/data_table.ipynb>data table notebook</a>'\n",
              "          + ' to learn more about interactive tables.';\n",
              "        element.innerHTML = '';\n",
              "        dataTable['output_type'] = 'display_data';\n",
              "        await google.colab.output.renderOutput(dataTable, element);\n",
              "        const docLink = document.createElement('div');\n",
              "        docLink.innerHTML = docLinkHtml;\n",
              "        element.appendChild(docLink);\n",
              "      }\n",
              "    </script>\n",
              "  </div>\n",
              "\n",
              "\n",
              "<div id=\"df-8dd2f23d-23ec-472a-98e9-10c3de9f6143\">\n",
              "  <button class=\"colab-df-quickchart\" onclick=\"quickchart('df-8dd2f23d-23ec-472a-98e9-10c3de9f6143')\"\n",
              "            title=\"Suggest charts\"\n",
              "            style=\"display:none;\">\n",
              "\n",
              "<svg xmlns=\"http://www.w3.org/2000/svg\" height=\"24px\"viewBox=\"0 0 24 24\"\n",
              "     width=\"24px\">\n",
              "    <g>\n",
              "        <path d=\"M19 3H5c-1.1 0-2 .9-2 2v14c0 1.1.9 2 2 2h14c1.1 0 2-.9 2-2V5c0-1.1-.9-2-2-2zM9 17H7v-7h2v7zm4 0h-2V7h2v10zm4 0h-2v-4h2v4z\"/>\n",
              "    </g>\n",
              "</svg>\n",
              "  </button>\n",
              "\n",
              "<style>\n",
              "  .colab-df-quickchart {\n",
              "      --bg-color: #E8F0FE;\n",
              "      --fill-color: #1967D2;\n",
              "      --hover-bg-color: #E2EBFA;\n",
              "      --hover-fill-color: #174EA6;\n",
              "      --disabled-fill-color: #AAA;\n",
              "      --disabled-bg-color: #DDD;\n",
              "  }\n",
              "\n",
              "  [theme=dark] .colab-df-quickchart {\n",
              "      --bg-color: #3B4455;\n",
              "      --fill-color: #D2E3FC;\n",
              "      --hover-bg-color: #434B5C;\n",
              "      --hover-fill-color: #FFFFFF;\n",
              "      --disabled-bg-color: #3B4455;\n",
              "      --disabled-fill-color: #666;\n",
              "  }\n",
              "\n",
              "  .colab-df-quickchart {\n",
              "    background-color: var(--bg-color);\n",
              "    border: none;\n",
              "    border-radius: 50%;\n",
              "    cursor: pointer;\n",
              "    display: none;\n",
              "    fill: var(--fill-color);\n",
              "    height: 32px;\n",
              "    padding: 0;\n",
              "    width: 32px;\n",
              "  }\n",
              "\n",
              "  .colab-df-quickchart:hover {\n",
              "    background-color: var(--hover-bg-color);\n",
              "    box-shadow: 0 1px 2px rgba(60, 64, 67, 0.3), 0 1px 3px 1px rgba(60, 64, 67, 0.15);\n",
              "    fill: var(--button-hover-fill-color);\n",
              "  }\n",
              "\n",
              "  .colab-df-quickchart-complete:disabled,\n",
              "  .colab-df-quickchart-complete:disabled:hover {\n",
              "    background-color: var(--disabled-bg-color);\n",
              "    fill: var(--disabled-fill-color);\n",
              "    box-shadow: none;\n",
              "  }\n",
              "\n",
              "  .colab-df-spinner {\n",
              "    border: 2px solid var(--fill-color);\n",
              "    border-color: transparent;\n",
              "    border-bottom-color: var(--fill-color);\n",
              "    animation:\n",
              "      spin 1s steps(1) infinite;\n",
              "  }\n",
              "\n",
              "  @keyframes spin {\n",
              "    0% {\n",
              "      border-color: transparent;\n",
              "      border-bottom-color: var(--fill-color);\n",
              "      border-left-color: var(--fill-color);\n",
              "    }\n",
              "    20% {\n",
              "      border-color: transparent;\n",
              "      border-left-color: var(--fill-color);\n",
              "      border-top-color: var(--fill-color);\n",
              "    }\n",
              "    30% {\n",
              "      border-color: transparent;\n",
              "      border-left-color: var(--fill-color);\n",
              "      border-top-color: var(--fill-color);\n",
              "      border-right-color: var(--fill-color);\n",
              "    }\n",
              "    40% {\n",
              "      border-color: transparent;\n",
              "      border-right-color: var(--fill-color);\n",
              "      border-top-color: var(--fill-color);\n",
              "    }\n",
              "    60% {\n",
              "      border-color: transparent;\n",
              "      border-right-color: var(--fill-color);\n",
              "    }\n",
              "    80% {\n",
              "      border-color: transparent;\n",
              "      border-right-color: var(--fill-color);\n",
              "      border-bottom-color: var(--fill-color);\n",
              "    }\n",
              "    90% {\n",
              "      border-color: transparent;\n",
              "      border-bottom-color: var(--fill-color);\n",
              "    }\n",
              "  }\n",
              "</style>\n",
              "\n",
              "  <script>\n",
              "    async function quickchart(key) {\n",
              "      const quickchartButtonEl =\n",
              "        document.querySelector('#' + key + ' button');\n",
              "      quickchartButtonEl.disabled = true;  // To prevent multiple clicks.\n",
              "      quickchartButtonEl.classList.add('colab-df-spinner');\n",
              "      try {\n",
              "        const charts = await google.colab.kernel.invokeFunction(\n",
              "            'suggestCharts', [key], {});\n",
              "      } catch (error) {\n",
              "        console.error('Error during call to suggestCharts:', error);\n",
              "      }\n",
              "      quickchartButtonEl.classList.remove('colab-df-spinner');\n",
              "      quickchartButtonEl.classList.add('colab-df-quickchart-complete');\n",
              "    }\n",
              "    (() => {\n",
              "      let quickchartButtonEl =\n",
              "        document.querySelector('#df-8dd2f23d-23ec-472a-98e9-10c3de9f6143 button');\n",
              "      quickchartButtonEl.style.display =\n",
              "        google.colab.kernel.accessAllowed ? 'block' : 'none';\n",
              "    })();\n",
              "  </script>\n",
              "</div>\n",
              "    </div>\n",
              "  </div>\n"
            ]
          },
          "metadata": {},
          "execution_count": 8
        }
      ],
      "source": [
        "df"
      ]
    },
    {
      "cell_type": "markdown",
      "source": [
        "###Bert tokenizer and Bert model configuration\n",
        "######We use 'bert-base-multilingual-cased' pre-trained model because the sentence are in french. This model is capable of processing text in several languages and to differentiate lower case and upper case letters."
      ],
      "metadata": {
        "id": "ZlTIx0ZjBe31"
      }
    },
    {
      "cell_type": "code",
      "source": [
        "bert_tokenizer = BertTokenizer.from_pretrained('bert-base-multilingual-cased')\n",
        "bert_model = BertForSequenceClassification.from_pretrained(\n",
        "    'bert-base-multilingual-cased',\n",
        "    num_labels=len(df['difficulty'].unique())\n",
        ")\n",
        "\n",
        "\n",
        "bert_model=bert_model.to('cuda')"
      ],
      "metadata": {
        "colab": {
          "base_uri": "https://localhost:8080/"
        },
        "id": "tgLwj5-Weyum",
        "outputId": "0f25be6e-1fef-4b1b-95f5-389ec59c2a2b"
      },
      "execution_count": 9,
      "outputs": [
        {
          "output_type": "stream",
          "name": "stderr",
          "text": [
            "Some weights of BertForSequenceClassification were not initialized from the model checkpoint at bert-base-multilingual-cased and are newly initialized: ['classifier.weight', 'classifier.bias']\n",
            "You should probably TRAIN this model on a down-stream task to be able to use it for predictions and inference.\n"
          ]
        }
      ]
    },
    {
      "cell_type": "markdown",
      "source": [
        "#####Here we process some function and variable to be used latter for this model"
      ],
      "metadata": {
        "id": "W2a1eoreTptu"
      }
    },
    {
      "cell_type": "code",
      "source": [
        "class SentenceDataset(Dataset):\n",
        "    def __init__(self, sentences, difficutly_level, tokenizer, max_length):\n",
        "        self.sentences = sentences\n",
        "        self.difficutly_level = difficutly_level\n",
        "        self.tokenizer = tokenizer\n",
        "        self.max_length = max_length\n",
        "\n",
        "    def __len__(self):\n",
        "        return len(self.sentences)\n",
        "\n",
        "    def __getitem__(self, idx):\n",
        "        sentence = self.sentences.iloc[idx]\n",
        "        encoding = self.tokenizer.encode_plus(\n",
        "            sentence,\n",
        "            add_special_tokens=True,\n",
        "            max_length=self.max_length,\n",
        "            truncation=True,\n",
        "            padding='max_length',\n",
        "            return_attention_mask=True,\n",
        "            return_tensors='pt',\n",
        "        )\n",
        "\n",
        "        item = {\n",
        "            'input_ids': encoding['input_ids'].flatten(),\n",
        "            'attention_mask': encoding['attention_mask'].flatten()\n",
        "        }\n",
        "\n",
        "        if self.difficutly_level is not None:\n",
        "            label = self.difficutly_level.iloc[idx]\n",
        "            item['difficutly_level'] = torch.tensor(label, dtype=torch.long)\n",
        "\n",
        "        return item"
      ],
      "metadata": {
        "id": "njSSV_0SwYny"
      },
      "execution_count": 10,
      "outputs": []
    },
    {
      "cell_type": "markdown",
      "source": [
        "#####Data preparation (Label encoder, train,test split). The label was encoded like this\n",
        "\n",
        "*   A1:0\n",
        "*   A2:1\n",
        "*   B1:2\n",
        "*   B2:3\n",
        "*   C1:4\n",
        "*   C2:5"
      ],
      "metadata": {
        "id": "D8BGcAViBsBX"
      }
    },
    {
      "cell_type": "code",
      "source": [
        "label_encoder = LabelEncoder()\n",
        "df['encoded_difficulty'] = label_encoder.fit_transform(df['difficulty'])\n",
        "\n",
        "X=df['sentence']\n",
        "y=df['encoded_difficulty']\n",
        "\n",
        "X_train, X_test, y_train, y_test = train_test_split(X,y,test_size=0.2,random_state=42)\n"
      ],
      "metadata": {
        "id": "AU-OrlCOwHf_"
      },
      "execution_count": 11,
      "outputs": []
    },
    {
      "cell_type": "code",
      "source": [
        "df"
      ],
      "metadata": {
        "colab": {
          "base_uri": "https://localhost:8080/",
          "height": 455
        },
        "id": "QzB7qnMAByHW",
        "outputId": "33403265-9caf-41ae-e5c2-5cd7553145d3"
      },
      "execution_count": 12,
      "outputs": [
        {
          "output_type": "execute_result",
          "data": {
            "text/plain": [
              "                                               sentence difficulty  \\\n",
              "id                                                                   \n",
              "0     Les coûts kilométriques réels peuvent diverger...         C1   \n",
              "1     Le bleu, c'est ma couleur préférée mais je n'a...         A1   \n",
              "2     Le test de niveau en français est sur le site ...         A1   \n",
              "3              Est-ce que ton mari est aussi de Boston?         A1   \n",
              "4     Dans les écoles de commerce, dans les couloirs...         B1   \n",
              "...                                                 ...        ...   \n",
              "4795  C'est pourquoi, il décida de remplacer les hab...         B2   \n",
              "4796  Il avait une de ces pâleurs splendides qui don...         C1   \n",
              "4797  Et le premier samedi de chaque mois, venez ren...         A2   \n",
              "4798  Les coûts liés à la journalisation n'étant pas...         C2   \n",
              "4799  Sur le sable, la mer haletait de toute la resp...         C2   \n",
              "\n",
              "      encoded_difficulty  \n",
              "id                        \n",
              "0                      4  \n",
              "1                      0  \n",
              "2                      0  \n",
              "3                      0  \n",
              "4                      2  \n",
              "...                  ...  \n",
              "4795                   3  \n",
              "4796                   4  \n",
              "4797                   1  \n",
              "4798                   5  \n",
              "4799                   5  \n",
              "\n",
              "[4800 rows x 3 columns]"
            ],
            "text/html": [
              "\n",
              "  <div id=\"df-f8372d2d-bd3c-4f70-8804-3c9379a3b670\" class=\"colab-df-container\">\n",
              "    <div>\n",
              "<style scoped>\n",
              "    .dataframe tbody tr th:only-of-type {\n",
              "        vertical-align: middle;\n",
              "    }\n",
              "\n",
              "    .dataframe tbody tr th {\n",
              "        vertical-align: top;\n",
              "    }\n",
              "\n",
              "    .dataframe thead th {\n",
              "        text-align: right;\n",
              "    }\n",
              "</style>\n",
              "<table border=\"1\" class=\"dataframe\">\n",
              "  <thead>\n",
              "    <tr style=\"text-align: right;\">\n",
              "      <th></th>\n",
              "      <th>sentence</th>\n",
              "      <th>difficulty</th>\n",
              "      <th>encoded_difficulty</th>\n",
              "    </tr>\n",
              "    <tr>\n",
              "      <th>id</th>\n",
              "      <th></th>\n",
              "      <th></th>\n",
              "      <th></th>\n",
              "    </tr>\n",
              "  </thead>\n",
              "  <tbody>\n",
              "    <tr>\n",
              "      <th>0</th>\n",
              "      <td>Les coûts kilométriques réels peuvent diverger...</td>\n",
              "      <td>C1</td>\n",
              "      <td>4</td>\n",
              "    </tr>\n",
              "    <tr>\n",
              "      <th>1</th>\n",
              "      <td>Le bleu, c'est ma couleur préférée mais je n'a...</td>\n",
              "      <td>A1</td>\n",
              "      <td>0</td>\n",
              "    </tr>\n",
              "    <tr>\n",
              "      <th>2</th>\n",
              "      <td>Le test de niveau en français est sur le site ...</td>\n",
              "      <td>A1</td>\n",
              "      <td>0</td>\n",
              "    </tr>\n",
              "    <tr>\n",
              "      <th>3</th>\n",
              "      <td>Est-ce que ton mari est aussi de Boston?</td>\n",
              "      <td>A1</td>\n",
              "      <td>0</td>\n",
              "    </tr>\n",
              "    <tr>\n",
              "      <th>4</th>\n",
              "      <td>Dans les écoles de commerce, dans les couloirs...</td>\n",
              "      <td>B1</td>\n",
              "      <td>2</td>\n",
              "    </tr>\n",
              "    <tr>\n",
              "      <th>...</th>\n",
              "      <td>...</td>\n",
              "      <td>...</td>\n",
              "      <td>...</td>\n",
              "    </tr>\n",
              "    <tr>\n",
              "      <th>4795</th>\n",
              "      <td>C'est pourquoi, il décida de remplacer les hab...</td>\n",
              "      <td>B2</td>\n",
              "      <td>3</td>\n",
              "    </tr>\n",
              "    <tr>\n",
              "      <th>4796</th>\n",
              "      <td>Il avait une de ces pâleurs splendides qui don...</td>\n",
              "      <td>C1</td>\n",
              "      <td>4</td>\n",
              "    </tr>\n",
              "    <tr>\n",
              "      <th>4797</th>\n",
              "      <td>Et le premier samedi de chaque mois, venez ren...</td>\n",
              "      <td>A2</td>\n",
              "      <td>1</td>\n",
              "    </tr>\n",
              "    <tr>\n",
              "      <th>4798</th>\n",
              "      <td>Les coûts liés à la journalisation n'étant pas...</td>\n",
              "      <td>C2</td>\n",
              "      <td>5</td>\n",
              "    </tr>\n",
              "    <tr>\n",
              "      <th>4799</th>\n",
              "      <td>Sur le sable, la mer haletait de toute la resp...</td>\n",
              "      <td>C2</td>\n",
              "      <td>5</td>\n",
              "    </tr>\n",
              "  </tbody>\n",
              "</table>\n",
              "<p>4800 rows × 3 columns</p>\n",
              "</div>\n",
              "    <div class=\"colab-df-buttons\">\n",
              "\n",
              "  <div class=\"colab-df-container\">\n",
              "    <button class=\"colab-df-convert\" onclick=\"convertToInteractive('df-f8372d2d-bd3c-4f70-8804-3c9379a3b670')\"\n",
              "            title=\"Convert this dataframe to an interactive table.\"\n",
              "            style=\"display:none;\">\n",
              "\n",
              "  <svg xmlns=\"http://www.w3.org/2000/svg\" height=\"24px\" viewBox=\"0 -960 960 960\">\n",
              "    <path d=\"M120-120v-720h720v720H120Zm60-500h600v-160H180v160Zm220 220h160v-160H400v160Zm0 220h160v-160H400v160ZM180-400h160v-160H180v160Zm440 0h160v-160H620v160ZM180-180h160v-160H180v160Zm440 0h160v-160H620v160Z\"/>\n",
              "  </svg>\n",
              "    </button>\n",
              "\n",
              "  <style>\n",
              "    .colab-df-container {\n",
              "      display:flex;\n",
              "      gap: 12px;\n",
              "    }\n",
              "\n",
              "    .colab-df-convert {\n",
              "      background-color: #E8F0FE;\n",
              "      border: none;\n",
              "      border-radius: 50%;\n",
              "      cursor: pointer;\n",
              "      display: none;\n",
              "      fill: #1967D2;\n",
              "      height: 32px;\n",
              "      padding: 0 0 0 0;\n",
              "      width: 32px;\n",
              "    }\n",
              "\n",
              "    .colab-df-convert:hover {\n",
              "      background-color: #E2EBFA;\n",
              "      box-shadow: 0px 1px 2px rgba(60, 64, 67, 0.3), 0px 1px 3px 1px rgba(60, 64, 67, 0.15);\n",
              "      fill: #174EA6;\n",
              "    }\n",
              "\n",
              "    .colab-df-buttons div {\n",
              "      margin-bottom: 4px;\n",
              "    }\n",
              "\n",
              "    [theme=dark] .colab-df-convert {\n",
              "      background-color: #3B4455;\n",
              "      fill: #D2E3FC;\n",
              "    }\n",
              "\n",
              "    [theme=dark] .colab-df-convert:hover {\n",
              "      background-color: #434B5C;\n",
              "      box-shadow: 0px 1px 3px 1px rgba(0, 0, 0, 0.15);\n",
              "      filter: drop-shadow(0px 1px 2px rgba(0, 0, 0, 0.3));\n",
              "      fill: #FFFFFF;\n",
              "    }\n",
              "  </style>\n",
              "\n",
              "    <script>\n",
              "      const buttonEl =\n",
              "        document.querySelector('#df-f8372d2d-bd3c-4f70-8804-3c9379a3b670 button.colab-df-convert');\n",
              "      buttonEl.style.display =\n",
              "        google.colab.kernel.accessAllowed ? 'block' : 'none';\n",
              "\n",
              "      async function convertToInteractive(key) {\n",
              "        const element = document.querySelector('#df-f8372d2d-bd3c-4f70-8804-3c9379a3b670');\n",
              "        const dataTable =\n",
              "          await google.colab.kernel.invokeFunction('convertToInteractive',\n",
              "                                                    [key], {});\n",
              "        if (!dataTable) return;\n",
              "\n",
              "        const docLinkHtml = 'Like what you see? Visit the ' +\n",
              "          '<a target=\"_blank\" href=https://colab.research.google.com/notebooks/data_table.ipynb>data table notebook</a>'\n",
              "          + ' to learn more about interactive tables.';\n",
              "        element.innerHTML = '';\n",
              "        dataTable['output_type'] = 'display_data';\n",
              "        await google.colab.output.renderOutput(dataTable, element);\n",
              "        const docLink = document.createElement('div');\n",
              "        docLink.innerHTML = docLinkHtml;\n",
              "        element.appendChild(docLink);\n",
              "      }\n",
              "    </script>\n",
              "  </div>\n",
              "\n",
              "\n",
              "<div id=\"df-ace60cb8-7967-4bbb-ada7-39a4b43be58a\">\n",
              "  <button class=\"colab-df-quickchart\" onclick=\"quickchart('df-ace60cb8-7967-4bbb-ada7-39a4b43be58a')\"\n",
              "            title=\"Suggest charts\"\n",
              "            style=\"display:none;\">\n",
              "\n",
              "<svg xmlns=\"http://www.w3.org/2000/svg\" height=\"24px\"viewBox=\"0 0 24 24\"\n",
              "     width=\"24px\">\n",
              "    <g>\n",
              "        <path d=\"M19 3H5c-1.1 0-2 .9-2 2v14c0 1.1.9 2 2 2h14c1.1 0 2-.9 2-2V5c0-1.1-.9-2-2-2zM9 17H7v-7h2v7zm4 0h-2V7h2v10zm4 0h-2v-4h2v4z\"/>\n",
              "    </g>\n",
              "</svg>\n",
              "  </button>\n",
              "\n",
              "<style>\n",
              "  .colab-df-quickchart {\n",
              "      --bg-color: #E8F0FE;\n",
              "      --fill-color: #1967D2;\n",
              "      --hover-bg-color: #E2EBFA;\n",
              "      --hover-fill-color: #174EA6;\n",
              "      --disabled-fill-color: #AAA;\n",
              "      --disabled-bg-color: #DDD;\n",
              "  }\n",
              "\n",
              "  [theme=dark] .colab-df-quickchart {\n",
              "      --bg-color: #3B4455;\n",
              "      --fill-color: #D2E3FC;\n",
              "      --hover-bg-color: #434B5C;\n",
              "      --hover-fill-color: #FFFFFF;\n",
              "      --disabled-bg-color: #3B4455;\n",
              "      --disabled-fill-color: #666;\n",
              "  }\n",
              "\n",
              "  .colab-df-quickchart {\n",
              "    background-color: var(--bg-color);\n",
              "    border: none;\n",
              "    border-radius: 50%;\n",
              "    cursor: pointer;\n",
              "    display: none;\n",
              "    fill: var(--fill-color);\n",
              "    height: 32px;\n",
              "    padding: 0;\n",
              "    width: 32px;\n",
              "  }\n",
              "\n",
              "  .colab-df-quickchart:hover {\n",
              "    background-color: var(--hover-bg-color);\n",
              "    box-shadow: 0 1px 2px rgba(60, 64, 67, 0.3), 0 1px 3px 1px rgba(60, 64, 67, 0.15);\n",
              "    fill: var(--button-hover-fill-color);\n",
              "  }\n",
              "\n",
              "  .colab-df-quickchart-complete:disabled,\n",
              "  .colab-df-quickchart-complete:disabled:hover {\n",
              "    background-color: var(--disabled-bg-color);\n",
              "    fill: var(--disabled-fill-color);\n",
              "    box-shadow: none;\n",
              "  }\n",
              "\n",
              "  .colab-df-spinner {\n",
              "    border: 2px solid var(--fill-color);\n",
              "    border-color: transparent;\n",
              "    border-bottom-color: var(--fill-color);\n",
              "    animation:\n",
              "      spin 1s steps(1) infinite;\n",
              "  }\n",
              "\n",
              "  @keyframes spin {\n",
              "    0% {\n",
              "      border-color: transparent;\n",
              "      border-bottom-color: var(--fill-color);\n",
              "      border-left-color: var(--fill-color);\n",
              "    }\n",
              "    20% {\n",
              "      border-color: transparent;\n",
              "      border-left-color: var(--fill-color);\n",
              "      border-top-color: var(--fill-color);\n",
              "    }\n",
              "    30% {\n",
              "      border-color: transparent;\n",
              "      border-left-color: var(--fill-color);\n",
              "      border-top-color: var(--fill-color);\n",
              "      border-right-color: var(--fill-color);\n",
              "    }\n",
              "    40% {\n",
              "      border-color: transparent;\n",
              "      border-right-color: var(--fill-color);\n",
              "      border-top-color: var(--fill-color);\n",
              "    }\n",
              "    60% {\n",
              "      border-color: transparent;\n",
              "      border-right-color: var(--fill-color);\n",
              "    }\n",
              "    80% {\n",
              "      border-color: transparent;\n",
              "      border-right-color: var(--fill-color);\n",
              "      border-bottom-color: var(--fill-color);\n",
              "    }\n",
              "    90% {\n",
              "      border-color: transparent;\n",
              "      border-bottom-color: var(--fill-color);\n",
              "    }\n",
              "  }\n",
              "</style>\n",
              "\n",
              "  <script>\n",
              "    async function quickchart(key) {\n",
              "      const quickchartButtonEl =\n",
              "        document.querySelector('#' + key + ' button');\n",
              "      quickchartButtonEl.disabled = true;  // To prevent multiple clicks.\n",
              "      quickchartButtonEl.classList.add('colab-df-spinner');\n",
              "      try {\n",
              "        const charts = await google.colab.kernel.invokeFunction(\n",
              "            'suggestCharts', [key], {});\n",
              "      } catch (error) {\n",
              "        console.error('Error during call to suggestCharts:', error);\n",
              "      }\n",
              "      quickchartButtonEl.classList.remove('colab-df-spinner');\n",
              "      quickchartButtonEl.classList.add('colab-df-quickchart-complete');\n",
              "    }\n",
              "    (() => {\n",
              "      let quickchartButtonEl =\n",
              "        document.querySelector('#df-ace60cb8-7967-4bbb-ada7-39a4b43be58a button');\n",
              "      quickchartButtonEl.style.display =\n",
              "        google.colab.kernel.accessAllowed ? 'block' : 'none';\n",
              "    })();\n",
              "  </script>\n",
              "</div>\n",
              "    </div>\n",
              "  </div>\n"
            ]
          },
          "metadata": {},
          "execution_count": 12
        }
      ]
    },
    {
      "cell_type": "markdown",
      "source": [
        "#####Here we create our datasets,dataloaders who will be put in the model to be train and then we configure our training using Adamw as optimizer and CrossEntropyLoss function as our loss fuction"
      ],
      "metadata": {
        "id": "YXZI1BoumB3u"
      }
    },
    {
      "cell_type": "code",
      "source": [
        "\n",
        "sentences_data = SentenceDataset(X_train, y_train, bert_tokenizer, max_length=128)\n",
        "difficulty_data = SentenceDataset(X_test, y_test, bert_tokenizer, max_length=128)\n",
        "\n",
        "sentence_loader = DataLoader(sentences_data, batch_size=16, shuffle=True)\n",
        "difficulty_loader = DataLoader(difficulty_data, batch_size=16)\n",
        "\n",
        "optimizer = AdamW(bert_model.parameters(), lr=5e-5)\n",
        "loss_function = CrossEntropyLoss()"
      ],
      "metadata": {
        "id": "YAH2G_APwKjj"
      },
      "execution_count": 13,
      "outputs": []
    },
    {
      "cell_type": "markdown",
      "source": [
        "#####Now we can train our model\n"
      ],
      "metadata": {
        "id": "2jSRnYgfmOu0"
      }
    },
    {
      "cell_type": "code",
      "source": [
        "epochs = 3\n",
        "for epoch in range(epochs):\n",
        "    bert_model.train()\n",
        "    for batch in sentence_loader:\n",
        "        input_ids = batch['input_ids'].to('cuda')\n",
        "        attention_mask = batch['attention_mask'].to('cuda')\n",
        "        difficutly_level = batch['difficutly_level'].to('cuda')\n",
        "\n",
        "        outputs = bert_model(input_ids, attention_mask=attention_mask)\n",
        "        logits = outputs.logits\n",
        "        loss = loss_function(logits, difficutly_level)\n",
        "\n",
        "\n",
        "        optimizer.zero_grad()\n",
        "        loss.backward()\n",
        "        optimizer.step()"
      ],
      "metadata": {
        "id": "UaEyY3ZzwPGa"
      },
      "execution_count": 14,
      "outputs": []
    },
    {
      "cell_type": "markdown",
      "source": [
        "##### Here we evaluate our model"
      ],
      "metadata": {
        "id": "7JBSjsE5mXiS"
      }
    },
    {
      "cell_type": "code",
      "source": [
        "difficutly_predictions = []\n",
        "true_difficulty = []\n",
        "\n",
        "bert_model.eval()\n",
        "total_loss = 0\n",
        "\n",
        "with torch.no_grad():\n",
        "    for batch in difficulty_loader:\n",
        "        input_ids = batch['input_ids'].to('cuda')\n",
        "        attention_mask = batch['attention_mask'].to('cuda')\n",
        "        difficutly_level = batch['difficutly_level'].to('cuda')\n",
        "\n",
        "        outputs = bert_model(input_ids, attention_mask=attention_mask)\n",
        "        logits = outputs.logits\n",
        "\n",
        "        loss = loss_function(logits, difficutly_level)\n",
        "        total_loss += loss.item()\n",
        "\n",
        "        preds = torch.argmax(logits, dim=1)\n",
        "        difficutly_predictions.extend(preds.cpu().numpy())\n",
        "        true_difficulty.extend(difficutly_level.cpu().numpy())\n",
        "\n",
        "average_val_loss = total_loss / len(difficulty_loader)\n"
      ],
      "metadata": {
        "id": "p3iC_J0JdgGy"
      },
      "execution_count": 15,
      "outputs": []
    },
    {
      "cell_type": "markdown",
      "source": [
        "#####We can see here our metrics"
      ],
      "metadata": {
        "id": "tqT_L7NdUH1S"
      }
    },
    {
      "cell_type": "code",
      "source": [
        "\n",
        "precision = precision_score(true_difficulty, difficutly_predictions, average='macro')\n",
        "recall = recall_score(true_difficulty, difficutly_predictions, average='macro')\n",
        "f1 = f1_score(true_difficulty, difficutly_predictions, average='macro')\n",
        "accuracy = accuracy_score(true_difficulty, difficutly_predictions)\n",
        "\n",
        "print(f\"Validation Loss: {average_val_loss}\")\n",
        "print(f\"Precision: {precision}\")\n",
        "print(f\"Recall: {recall}\")\n",
        "print(f\"F1-Score: {f1}\")\n",
        "print(f\"Accuracy: {accuracy}\")\n"
      ],
      "metadata": {
        "id": "PFRvmukimlHy",
        "colab": {
          "base_uri": "https://localhost:8080/"
        },
        "outputId": "adb907cc-d9be-4a17-a8fe-f5aa212f5ebf"
      },
      "execution_count": 16,
      "outputs": [
        {
          "output_type": "stream",
          "name": "stdout",
          "text": [
            "Validation Loss: 1.1210610926151277\n",
            "Precision: 0.5374616452532557\n",
            "Recall: 0.5309208952437882\n",
            "F1-Score: 0.5255843171867477\n",
            "Accuracy: 0.5333333333333333\n"
          ]
        }
      ]
    },
    {
      "cell_type": "markdown",
      "source": [
        "#####Here our confusion matrix to see how good our trained labels are in comparaison to the true labels"
      ],
      "metadata": {
        "id": "KDbYzC-Y1NXX"
      }
    },
    {
      "cell_type": "code",
      "source": [
        "conf_matrix = confusion_matrix(true_difficulty, difficutly_predictions)\n",
        "difficulty_labels=[\"A1\",\"A2\",\"B1\",\"B2\",\"C1\",\"C2\"]\n",
        "sns.heatmap(conf_matrix, annot=True, fmt='g',xticklabels=difficulty_labels,yticklabels=difficulty_labels,cmap=\"Greens\")\n",
        "plt.xlabel('Predicted difficulty levels')\n",
        "plt.ylabel('True difficulty levels')\n",
        "plt.title('Confusion matrix')\n",
        "plt.show()"
      ],
      "metadata": {
        "colab": {
          "base_uri": "https://localhost:8080/",
          "height": 472
        },
        "id": "WAYrfHilz8pq",
        "outputId": "9036e8a8-2dc4-45c9-bf3c-75586f9f970d"
      },
      "execution_count": 17,
      "outputs": [
        {
          "output_type": "display_data",
          "data": {
            "text/plain": [
              "<Figure size 640x480 with 2 Axes>"
            ],
            "image/png": "[encoded data removed]"
          },
          "metadata": {}
        }
      ]
    },
    {
      "cell_type": "markdown",
      "source": [
        "#####Now we prdict our model on our unlabelled data"
      ],
      "metadata": {
        "id": "zytz5-QLmvZm"
      }
    },
    {
      "cell_type": "code",
      "source": [
        "pred_dataset = SentenceDataset(df_pred['sentence'], None, bert_tokenizer, max_length=128)\n",
        "\n",
        "pred_loader = DataLoader(pred_dataset, batch_size=16)\n",
        "\n",
        "bert_model.eval()\n",
        "predictions = []\n",
        "\n",
        "with torch.no_grad():\n",
        "    for batch in pred_loader:\n",
        "        input_ids = batch['input_ids'].to('cuda')\n",
        "        attention_mask = batch['attention_mask'].to('cuda')\n",
        "\n",
        "        outputs = bert_model(input_ids, attention_mask=attention_mask)\n",
        "        logits = outputs.logits\n",
        "        probs = torch.nn.functional.softmax(logits, dim=1)\n",
        "        predicted_labels = torch.argmax(probs, dim=1)\n",
        "\n",
        "        predictions.extend(predicted_labels.tolist())"
      ],
      "metadata": {
        "id": "Som_F7C3uHjV"
      },
      "execution_count": null,
      "outputs": []
    },
    {
      "cell_type": "markdown",
      "source": [
        "##### The prediction is made in our encoder difficulty label so we inverse the encoding to have our initial labels"
      ],
      "metadata": {
        "id": "U8hqZQhPm3LX"
      }
    },
    {
      "cell_type": "code",
      "source": [
        "predictions=label_encoder.inverse_transform(predictions)\n",
        "df_pred['difficulty']=predictions"
      ],
      "metadata": {
        "id": "eUgjLVue4Se-"
      },
      "execution_count": null,
      "outputs": []
    },
    {
      "cell_type": "markdown",
      "metadata": {
        "id": "jctQ2IXYeXEs"
      },
      "source": [
        "# This is how to submit a pd file with predictions\n",
        "### for the example we will submit a file where only A1 is given as a prediction"
      ]
    },
    {
      "cell_type": "code",
      "source": [
        "df_pred"
      ],
      "metadata": {
        "id": "jUBUCkxWNHKR",
        "colab": {
          "base_uri": "https://localhost:8080/",
          "height": 455
        },
        "outputId": "353bc8ab-d73d-498b-8dad-2f5bcbec6af0"
      },
      "execution_count": null,
      "outputs": [
        {
          "output_type": "execute_result",
          "data": {
            "text/plain": [
              "                                               sentence difficulty\n",
              "id                                                                \n",
              "0     Nous dûmes nous excuser des propos que nous eû...         C2\n",
              "1     Vous ne pouvez pas savoir le plaisir que j'ai ...         A2\n",
              "2     Et, paradoxalement, boire froid n'est pas la b...         B1\n",
              "3     Ce n'est pas étonnant, car c'est une saison my...         A2\n",
              "4     Le corps de Golo lui-même, d'une essence aussi...         C2\n",
              "...                                                 ...        ...\n",
              "1195  C'est un phénomène qui trouve une accélération...         B1\n",
              "1196  Je vais parler au serveur et voir si on peut d...         A2\n",
              "1197  Il n'était pas comme tant de gens qui par pare...         C2\n",
              "1198      Ils deviennent dangereux pour notre économie.         B2\n",
              "1199  Son succès a généré beaucoup de réactions néga...         B2\n",
              "\n",
              "[1200 rows x 2 columns]"
            ],
            "text/html": [
              "\n",
              "  <div id=\"df-0708928b-ef75-4c0c-b335-1fa58074ab87\" class=\"colab-df-container\">\n",
              "    <div>\n",
              "<style scoped>\n",
              "    .dataframe tbody tr th:only-of-type {\n",
              "        vertical-align: middle;\n",
              "    }\n",
              "\n",
              "    .dataframe tbody tr th {\n",
              "        vertical-align: top;\n",
              "    }\n",
              "\n",
              "    .dataframe thead th {\n",
              "        text-align: right;\n",
              "    }\n",
              "</style>\n",
              "<table border=\"1\" class=\"dataframe\">\n",
              "  <thead>\n",
              "    <tr style=\"text-align: right;\">\n",
              "      <th></th>\n",
              "      <th>sentence</th>\n",
              "      <th>difficulty</th>\n",
              "    </tr>\n",
              "    <tr>\n",
              "      <th>id</th>\n",
              "      <th></th>\n",
              "      <th></th>\n",
              "    </tr>\n",
              "  </thead>\n",
              "  <tbody>\n",
              "    <tr>\n",
              "      <th>0</th>\n",
              "      <td>Nous dûmes nous excuser des propos que nous eû...</td>\n",
              "      <td>C2</td>\n",
              "    </tr>\n",
              "    <tr>\n",
              "      <th>1</th>\n",
              "      <td>Vous ne pouvez pas savoir le plaisir que j'ai ...</td>\n",
              "      <td>A2</td>\n",
              "    </tr>\n",
              "    <tr>\n",
              "      <th>2</th>\n",
              "      <td>Et, paradoxalement, boire froid n'est pas la b...</td>\n",
              "      <td>B1</td>\n",
              "    </tr>\n",
              "    <tr>\n",
              "      <th>3</th>\n",
              "      <td>Ce n'est pas étonnant, car c'est une saison my...</td>\n",
              "      <td>A2</td>\n",
              "    </tr>\n",
              "    <tr>\n",
              "      <th>4</th>\n",
              "      <td>Le corps de Golo lui-même, d'une essence aussi...</td>\n",
              "      <td>C2</td>\n",
              "    </tr>\n",
              "    <tr>\n",
              "      <th>...</th>\n",
              "      <td>...</td>\n",
              "      <td>...</td>\n",
              "    </tr>\n",
              "    <tr>\n",
              "      <th>1195</th>\n",
              "      <td>C'est un phénomène qui trouve une accélération...</td>\n",
              "      <td>B1</td>\n",
              "    </tr>\n",
              "    <tr>\n",
              "      <th>1196</th>\n",
              "      <td>Je vais parler au serveur et voir si on peut d...</td>\n",
              "      <td>A2</td>\n",
              "    </tr>\n",
              "    <tr>\n",
              "      <th>1197</th>\n",
              "      <td>Il n'était pas comme tant de gens qui par pare...</td>\n",
              "      <td>C2</td>\n",
              "    </tr>\n",
              "    <tr>\n",
              "      <th>1198</th>\n",
              "      <td>Ils deviennent dangereux pour notre économie.</td>\n",
              "      <td>B2</td>\n",
              "    </tr>\n",
              "    <tr>\n",
              "      <th>1199</th>\n",
              "      <td>Son succès a généré beaucoup de réactions néga...</td>\n",
              "      <td>B2</td>\n",
              "    </tr>\n",
              "  </tbody>\n",
              "</table>\n",
              "<p>1200 rows × 2 columns</p>\n",
              "</div>\n",
              "    <div class=\"colab-df-buttons\">\n",
              "\n",
              "  <div class=\"colab-df-container\">\n",
              "    <button class=\"colab-df-convert\" onclick=\"convertToInteractive('df-0708928b-ef75-4c0c-b335-1fa58074ab87')\"\n",
              "            title=\"Convert this dataframe to an interactive table.\"\n",
              "            style=\"display:none;\">\n",
              "\n",
              "  <svg xmlns=\"http://www.w3.org/2000/svg\" height=\"24px\" viewBox=\"0 -960 960 960\">\n",
              "    <path d=\"M120-120v-720h720v720H120Zm60-500h600v-160H180v160Zm220 220h160v-160H400v160Zm0 220h160v-160H400v160ZM180-400h160v-160H180v160Zm440 0h160v-160H620v160ZM180-180h160v-160H180v160Zm440 0h160v-160H620v160Z\"/>\n",
              "  </svg>\n",
              "    </button>\n",
              "\n",
              "  <style>\n",
              "    .colab-df-container {\n",
              "      display:flex;\n",
              "      gap: 12px;\n",
              "    }\n",
              "\n",
              "    .colab-df-convert {\n",
              "      background-color: #E8F0FE;\n",
              "      border: none;\n",
              "      border-radius: 50%;\n",
              "      cursor: pointer;\n",
              "      display: none;\n",
              "      fill: #1967D2;\n",
              "      height: 32px;\n",
              "      padding: 0 0 0 0;\n",
              "      width: 32px;\n",
              "    }\n",
              "\n",
              "    .colab-df-convert:hover {\n",
              "      background-color: #E2EBFA;\n",
              "      box-shadow: 0px 1px 2px rgba(60, 64, 67, 0.3), 0px 1px 3px 1px rgba(60, 64, 67, 0.15);\n",
              "      fill: #174EA6;\n",
              "    }\n",
              "\n",
              "    .colab-df-buttons div {\n",
              "      margin-bottom: 4px;\n",
              "    }\n",
              "\n",
              "    [theme=dark] .colab-df-convert {\n",
              "      background-color: #3B4455;\n",
              "      fill: #D2E3FC;\n",
              "    }\n",
              "\n",
              "    [theme=dark] .colab-df-convert:hover {\n",
              "      background-color: #434B5C;\n",
              "      box-shadow: 0px 1px 3px 1px rgba(0, 0, 0, 0.15);\n",
              "      filter: drop-shadow(0px 1px 2px rgba(0, 0, 0, 0.3));\n",
              "      fill: #FFFFFF;\n",
              "    }\n",
              "  </style>\n",
              "\n",
              "    <script>\n",
              "      const buttonEl =\n",
              "        document.querySelector('#df-0708928b-ef75-4c0c-b335-1fa58074ab87 button.colab-df-convert');\n",
              "      buttonEl.style.display =\n",
              "        google.colab.kernel.accessAllowed ? 'block' : 'none';\n",
              "\n",
              "      async function convertToInteractive(key) {\n",
              "        const element = document.querySelector('#df-0708928b-ef75-4c0c-b335-1fa58074ab87');\n",
              "        const dataTable =\n",
              "          await google.colab.kernel.invokeFunction('convertToInteractive',\n",
              "                                                    [key], {});\n",
              "        if (!dataTable) return;\n",
              "\n",
              "        const docLinkHtml = 'Like what you see? Visit the ' +\n",
              "          '<a target=\"_blank\" href=https://colab.research.google.com/notebooks/data_table.ipynb>data table notebook</a>'\n",
              "          + ' to learn more about interactive tables.';\n",
              "        element.innerHTML = '';\n",
              "        dataTable['output_type'] = 'display_data';\n",
              "        await google.colab.output.renderOutput(dataTable, element);\n",
              "        const docLink = document.createElement('div');\n",
              "        docLink.innerHTML = docLinkHtml;\n",
              "        element.appendChild(docLink);\n",
              "      }\n",
              "    </script>\n",
              "  </div>\n",
              "\n",
              "\n",
              "<div id=\"df-bbc482c8-5cd6-4450-9f85-9e849ef073d0\">\n",
              "  <button class=\"colab-df-quickchart\" onclick=\"quickchart('df-bbc482c8-5cd6-4450-9f85-9e849ef073d0')\"\n",
              "            title=\"Suggest charts\"\n",
              "            style=\"display:none;\">\n",
              "\n",
              "<svg xmlns=\"http://www.w3.org/2000/svg\" height=\"24px\"viewBox=\"0 0 24 24\"\n",
              "     width=\"24px\">\n",
              "    <g>\n",
              "        <path d=\"M19 3H5c-1.1 0-2 .9-2 2v14c0 1.1.9 2 2 2h14c1.1 0 2-.9 2-2V5c0-1.1-.9-2-2-2zM9 17H7v-7h2v7zm4 0h-2V7h2v10zm4 0h-2v-4h2v4z\"/>\n",
              "    </g>\n",
              "</svg>\n",
              "  </button>\n",
              "\n",
              "<style>\n",
              "  .colab-df-quickchart {\n",
              "      --bg-color: #E8F0FE;\n",
              "      --fill-color: #1967D2;\n",
              "      --hover-bg-color: #E2EBFA;\n",
              "      --hover-fill-color: #174EA6;\n",
              "      --disabled-fill-color: #AAA;\n",
              "      --disabled-bg-color: #DDD;\n",
              "  }\n",
              "\n",
              "  [theme=dark] .colab-df-quickchart {\n",
              "      --bg-color: #3B4455;\n",
              "      --fill-color: #D2E3FC;\n",
              "      --hover-bg-color: #434B5C;\n",
              "      --hover-fill-color: #FFFFFF;\n",
              "      --disabled-bg-color: #3B4455;\n",
              "      --disabled-fill-color: #666;\n",
              "  }\n",
              "\n",
              "  .colab-df-quickchart {\n",
              "    background-color: var(--bg-color);\n",
              "    border: none;\n",
              "    border-radius: 50%;\n",
              "    cursor: pointer;\n",
              "    display: none;\n",
              "    fill: var(--fill-color);\n",
              "    height: 32px;\n",
              "    padding: 0;\n",
              "    width: 32px;\n",
              "  }\n",
              "\n",
              "  .colab-df-quickchart:hover {\n",
              "    background-color: var(--hover-bg-color);\n",
              "    box-shadow: 0 1px 2px rgba(60, 64, 67, 0.3), 0 1px 3px 1px rgba(60, 64, 67, 0.15);\n",
              "    fill: var(--button-hover-fill-color);\n",
              "  }\n",
              "\n",
              "  .colab-df-quickchart-complete:disabled,\n",
              "  .colab-df-quickchart-complete:disabled:hover {\n",
              "    background-color: var(--disabled-bg-color);\n",
              "    fill: var(--disabled-fill-color);\n",
              "    box-shadow: none;\n",
              "  }\n",
              "\n",
              "  .colab-df-spinner {\n",
              "    border: 2px solid var(--fill-color);\n",
              "    border-color: transparent;\n",
              "    border-bottom-color: var(--fill-color);\n",
              "    animation:\n",
              "      spin 1s steps(1) infinite;\n",
              "  }\n",
              "\n",
              "  @keyframes spin {\n",
              "    0% {\n",
              "      border-color: transparent;\n",
              "      border-bottom-color: var(--fill-color);\n",
              "      border-left-color: var(--fill-color);\n",
              "    }\n",
              "    20% {\n",
              "      border-color: transparent;\n",
              "      border-left-color: var(--fill-color);\n",
              "      border-top-color: var(--fill-color);\n",
              "    }\n",
              "    30% {\n",
              "      border-color: transparent;\n",
              "      border-left-color: var(--fill-color);\n",
              "      border-top-color: var(--fill-color);\n",
              "      border-right-color: var(--fill-color);\n",
              "    }\n",
              "    40% {\n",
              "      border-color: transparent;\n",
              "      border-right-color: var(--fill-color);\n",
              "      border-top-color: var(--fill-color);\n",
              "    }\n",
              "    60% {\n",
              "      border-color: transparent;\n",
              "      border-right-color: var(--fill-color);\n",
              "    }\n",
              "    80% {\n",
              "      border-color: transparent;\n",
              "      border-right-color: var(--fill-color);\n",
              "      border-bottom-color: var(--fill-color);\n",
              "    }\n",
              "    90% {\n",
              "      border-color: transparent;\n",
              "      border-bottom-color: var(--fill-color);\n",
              "    }\n",
              "  }\n",
              "</style>\n",
              "\n",
              "  <script>\n",
              "    async function quickchart(key) {\n",
              "      const quickchartButtonEl =\n",
              "        document.querySelector('#' + key + ' button');\n",
              "      quickchartButtonEl.disabled = true;  // To prevent multiple clicks.\n",
              "      quickchartButtonEl.classList.add('colab-df-spinner');\n",
              "      try {\n",
              "        const charts = await google.colab.kernel.invokeFunction(\n",
              "            'suggestCharts', [key], {});\n",
              "      } catch (error) {\n",
              "        console.error('Error during call to suggestCharts:', error);\n",
              "      }\n",
              "      quickchartButtonEl.classList.remove('colab-df-spinner');\n",
              "      quickchartButtonEl.classList.add('colab-df-quickchart-complete');\n",
              "    }\n",
              "    (() => {\n",
              "      let quickchartButtonEl =\n",
              "        document.querySelector('#df-bbc482c8-5cd6-4450-9f85-9e849ef073d0 button');\n",
              "      quickchartButtonEl.style.display =\n",
              "        google.colab.kernel.accessAllowed ? 'block' : 'none';\n",
              "    })();\n",
              "  </script>\n",
              "</div>\n",
              "    </div>\n",
              "  </div>\n"
            ]
          },
          "metadata": {},
          "execution_count": 19
        }
      ]
    },
    {
      "cell_type": "code",
      "execution_count": null,
      "metadata": {
        "id": "pg1ITBF8e0aq"
      },
      "outputs": [],
      "source": [
        "df_sub=df_pred[['difficulty']]\n",
        "df_sub.to_csv('submission.csv')"
      ]
    },
    {
      "cell_type": "code",
      "execution_count": null,
      "metadata": {
        "colab": {
          "base_uri": "https://localhost:8080/"
        },
        "id": "D3i5G0qzgBxP",
        "outputId": "648333f9-2d34-477e-f460-db4edf48e3b8"
      },
      "outputs": [
        {
          "output_type": "stream",
          "name": "stdout",
          "text": [
            "100% 8.30k/8.30k [00:02<00:00, 4.22kB/s]\n",
            "Successfully submitted to Detecting the difficulty level of French texts"
          ]
        }
      ],
      "source": [
        "! kaggle competitions submit -c detecting-french-texts-difficulty-level-2023 -f submission.csv -m \"Sample submission\""
      ]
    },
    {
      "cell_type": "markdown",
      "source": [
        "![image.png](data:image/png;base64,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)"
      ],
      "metadata": {
        "id": "arVl2-0a6lFn"
      }
    },
    {
      "cell_type": "code",
      "source": [],
      "metadata": {
        "id": "b0Xryow56ibZ"
      },
      "execution_count": null,
      "outputs": []
    }
  ],
  "metadata": {
    "colab": {
      "provenance": [],
      "gpuType": "T4"
    },
    "kernelspec": {
      "display_name": "Python 3",
      "name": "python3"
    },
    "language_info": {
      "codemirror_mode": {
        "name": "ipython",
        "version": 3
      },
      "file_extension": ".py",
      "mimetype": "text/x-python",
      "name": "python",
      "nbconvert_exporter": "python",
      "pygments_lexer": "ipython3",
      "version": "3.9.6"
    },
    "toc": {
      "base_numbering": 1,
      "nav_menu": {},
      "number_sections": true,
      "sideBar": true,
      "skip_h1_title": false,
      "title_cell": "Table of Contents",
      "title_sidebar": "Contents",
      "toc_cell": false,
      "toc_position": {},
      "toc_section_display": true,
      "toc_window_display": false
    },
    "accelerator": "GPU"
  },
  "nbformat": 4,
  "nbformat_minor": 0
}