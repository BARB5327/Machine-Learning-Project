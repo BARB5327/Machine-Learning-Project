{
  "cells": [
    {
      "cell_type": "markdown",
      "metadata": {
        "id": "kTfmqzC6OtfX"
      },
      "source": [
        "#Initialization of the kaggle and the files#"
      ]
    },
    {
      "cell_type": "code",
      "execution_count": 44,
      "metadata": {
        "colab": {
          "base_uri": "https://localhost:8080/"
        },
        "id": "UJ_hnJzSNO2g",
        "outputId": "1a63e060-9ec3-48db-9086-fc3bd18cad38"
      },
      "outputs": [
        {
          "output_type": "stream",
          "name": "stdout",
          "text": [
            "Mounted at /content/drive\n"
          ]
        }
      ],
      "source": [
        "# reading in the data via the Kaggle API\n",
        "\n",
        "# mount your Google Drive\n",
        "from google.colab import drive\n",
        "drive.mount('/content/drive', force_remount=True)"
      ]
    },
    {
      "cell_type": "code",
      "execution_count": 45,
      "metadata": {
        "colab": {
          "base_uri": "https://localhost:8080/"
        },
        "id": "mJPTz3D7TeQv",
        "outputId": "26210ef8-d8dd-43ff-984f-328934e0e267"
      },
      "outputs": [
        {
          "output_type": "stream",
          "name": "stdout",
          "text": [
            "Requirement already satisfied: kaggle in /usr/local/lib/python3.10/dist-packages (1.5.16)\n",
            "Requirement already satisfied: six>=1.10 in /usr/local/lib/python3.10/dist-packages (from kaggle) (1.16.0)\n",
            "Requirement already satisfied: certifi in /usr/local/lib/python3.10/dist-packages (from kaggle) (2023.11.17)\n",
            "Requirement already satisfied: python-dateutil in /usr/local/lib/python3.10/dist-packages (from kaggle) (2.8.2)\n",
            "Requirement already satisfied: requests in /usr/local/lib/python3.10/dist-packages (from kaggle) (2.31.0)\n",
            "Requirement already satisfied: tqdm in /usr/local/lib/python3.10/dist-packages (from kaggle) (4.66.1)\n",
            "Requirement already satisfied: python-slugify in /usr/local/lib/python3.10/dist-packages (from kaggle) (8.0.1)\n",
            "Requirement already satisfied: urllib3 in /usr/local/lib/python3.10/dist-packages (from kaggle) (2.0.7)\n",
            "Requirement already satisfied: bleach in /usr/local/lib/python3.10/dist-packages (from kaggle) (6.1.0)\n",
            "Requirement already satisfied: webencodings in /usr/local/lib/python3.10/dist-packages (from bleach->kaggle) (0.5.1)\n",
            "Requirement already satisfied: text-unidecode>=1.3 in /usr/local/lib/python3.10/dist-packages (from python-slugify->kaggle) (1.3)\n",
            "Requirement already satisfied: charset-normalizer<4,>=2 in /usr/local/lib/python3.10/dist-packages (from requests->kaggle) (3.3.2)\n",
            "Requirement already satisfied: idna<4,>=2.5 in /usr/local/lib/python3.10/dist-packages (from requests->kaggle) (3.6)\n"
          ]
        }
      ],
      "source": [
        "# install Kaggle\n",
        "! pip install kaggle"
      ]
    },
    {
      "cell_type": "markdown",
      "metadata": {
        "id": "ZKG1TCddRYTB"
      },
      "source": [
        "Log into your Kaggle account, go to Account > API > Create new API token. You will obtain a kaggle.json file, which you save on your Google Drive directy in my drive."
      ]
    },
    {
      "cell_type": "code",
      "execution_count": 46,
      "metadata": {
        "id": "JgzLj451YDfV",
        "colab": {
          "base_uri": "https://localhost:8080/"
        },
        "outputId": "dee43e32-0d96-4e23-c1d4-2f771702a637"
      },
      "outputs": [
        {
          "output_type": "stream",
          "name": "stdout",
          "text": [
            "mkdir: cannot create directory ‘/root/.kaggle’: File exists\n"
          ]
        }
      ],
      "source": [
        "!mkdir ~/.kaggle"
      ]
    },
    {
      "cell_type": "code",
      "execution_count": 47,
      "metadata": {
        "id": "KrsZLalrSI3u"
      },
      "outputs": [],
      "source": [
        "#read in your Kaggle credentials from Google Drive\n",
        "!cp /content/drive/MyDrive/Kaggle/kaggle.json ~/.kaggle/kaggle.json\n"
      ]
    },
    {
      "cell_type": "code",
      "execution_count": 48,
      "metadata": {
        "colab": {
          "base_uri": "https://localhost:8080/"
        },
        "id": "BDI60LXKTPzf",
        "outputId": "8c85cb41-8500-49c8-999c-93c10faa9f62"
      },
      "outputs": [
        {
          "output_type": "stream",
          "name": "stdout",
          "text": [
            "detecting-french-texts-difficulty-level-2023.zip: Skipping, found more recently modified local copy (use --force to force download)\n"
          ]
        }
      ],
      "source": [
        "! kaggle competitions download -c detecting-french-texts-difficulty-level-2023\n",
        "from zipfile import ZipFile\n",
        "with ZipFile('detecting-french-texts-difficulty-level-2023.zip','r') as zip:\n",
        "  zip.extractall(path=\"\")"
      ]
    },
    {
      "cell_type": "markdown",
      "metadata": {
        "id": "HHb-bzEFOdNv"
      },
      "source": [
        "# Begining of the model#"
      ]
    },
    {
      "cell_type": "markdown",
      "metadata": {
        "id": "nvsJcuCpQLx8"
      },
      "source": [
        "## Imports##"
      ]
    },
    {
      "cell_type": "markdown",
      "source": [
        "######For this model we decide to use the LSTM model. I discover this model in a Information Security and Privacy course. This model was use for human recognition activities. I decided to do some research about this model and I decided to try this one for this problem.\n",
        "\n",
        "#####LSTM model improve in terms of efficiency by memorizing the important informations. He will ignore the no important information and take in consideration the important information.  "
      ],
      "metadata": {
        "id": "7d1g24QgyX2C"
      }
    },
    {
      "cell_type": "code",
      "execution_count": 49,
      "metadata": {
        "id": "WcPM_kAfQJ3E"
      },
      "outputs": [],
      "source": [
        "import pandas as pd\n",
        "import numpy as np\n",
        "import seaborn as sns\n",
        "import matplotlib.pyplot as plt\n",
        "\n",
        "from sklearn.metrics import precision_score, recall_score, f1_score, accuracy_score,confusion_matrix\n",
        "from sklearn.preprocessing import LabelEncoder\n",
        "from keras.models import Sequential\n",
        "from keras.layers import Dense, LSTM, Embedding, SpatialDropout1D\n",
        "from keras.preprocessing.sequence import pad_sequences\n",
        "from keras.preprocessing.text import Tokenizer\n",
        "from tensorflow.keras.utils import to_categorical\n",
        "from sklearn.model_selection import KFold\n",
        "\n",
        "\n",
        "df = pd.read_csv('training_data.csv', index_col = 'id')\n",
        "df_pred = pd.read_csv('unlabelled_test_data.csv', index_col = 'id')"
      ]
    },
    {
      "cell_type": "code",
      "execution_count": 50,
      "metadata": {
        "colab": {
          "base_uri": "https://localhost:8080/",
          "height": 455
        },
        "id": "VxRSnk5bhTp8",
        "outputId": "fd262ca7-2857-4098-d9a8-20eff33f4880"
      },
      "outputs": [
        {
          "output_type": "execute_result",
          "data": {
            "text/plain": [
              "                                               sentence difficulty\n",
              "id                                                                \n",
              "0     Les coûts kilométriques réels peuvent diverger...         C1\n",
              "1     Le bleu, c'est ma couleur préférée mais je n'a...         A1\n",
              "2     Le test de niveau en français est sur le site ...         A1\n",
              "3              Est-ce que ton mari est aussi de Boston?         A1\n",
              "4     Dans les écoles de commerce, dans les couloirs...         B1\n",
              "...                                                 ...        ...\n",
              "4795  C'est pourquoi, il décida de remplacer les hab...         B2\n",
              "4796  Il avait une de ces pâleurs splendides qui don...         C1\n",
              "4797  Et le premier samedi de chaque mois, venez ren...         A2\n",
              "4798  Les coûts liés à la journalisation n'étant pas...         C2\n",
              "4799  Sur le sable, la mer haletait de toute la resp...         C2\n",
              "\n",
              "[4800 rows x 2 columns]"
            ],
            "text/html": [
              "\n",
              "  <div id=\"df-5134c635-b163-4209-939d-50dbcb7b62b7\" class=\"colab-df-container\">\n",
              "    <div>\n",
              "<style scoped>\n",
              "    .dataframe tbody tr th:only-of-type {\n",
              "        vertical-align: middle;\n",
              "    }\n",
              "\n",
              "    .dataframe tbody tr th {\n",
              "        vertical-align: top;\n",
              "    }\n",
              "\n",
              "    .dataframe thead th {\n",
              "        text-align: right;\n",
              "    }\n",
              "</style>\n",
              "<table border=\"1\" class=\"dataframe\">\n",
              "  <thead>\n",
              "    <tr style=\"text-align: right;\">\n",
              "      <th></th>\n",
              "      <th>sentence</th>\n",
              "      <th>difficulty</th>\n",
              "    </tr>\n",
              "    <tr>\n",
              "      <th>id</th>\n",
              "      <th></th>\n",
              "      <th></th>\n",
              "    </tr>\n",
              "  </thead>\n",
              "  <tbody>\n",
              "    <tr>\n",
              "      <th>0</th>\n",
              "      <td>Les coûts kilométriques réels peuvent diverger...</td>\n",
              "      <td>C1</td>\n",
              "    </tr>\n",
              "    <tr>\n",
              "      <th>1</th>\n",
              "      <td>Le bleu, c'est ma couleur préférée mais je n'a...</td>\n",
              "      <td>A1</td>\n",
              "    </tr>\n",
              "    <tr>\n",
              "      <th>2</th>\n",
              "      <td>Le test de niveau en français est sur le site ...</td>\n",
              "      <td>A1</td>\n",
              "    </tr>\n",
              "    <tr>\n",
              "      <th>3</th>\n",
              "      <td>Est-ce que ton mari est aussi de Boston?</td>\n",
              "      <td>A1</td>\n",
              "    </tr>\n",
              "    <tr>\n",
              "      <th>4</th>\n",
              "      <td>Dans les écoles de commerce, dans les couloirs...</td>\n",
              "      <td>B1</td>\n",
              "    </tr>\n",
              "    <tr>\n",
              "      <th>...</th>\n",
              "      <td>...</td>\n",
              "      <td>...</td>\n",
              "    </tr>\n",
              "    <tr>\n",
              "      <th>4795</th>\n",
              "      <td>C'est pourquoi, il décida de remplacer les hab...</td>\n",
              "      <td>B2</td>\n",
              "    </tr>\n",
              "    <tr>\n",
              "      <th>4796</th>\n",
              "      <td>Il avait une de ces pâleurs splendides qui don...</td>\n",
              "      <td>C1</td>\n",
              "    </tr>\n",
              "    <tr>\n",
              "      <th>4797</th>\n",
              "      <td>Et le premier samedi de chaque mois, venez ren...</td>\n",
              "      <td>A2</td>\n",
              "    </tr>\n",
              "    <tr>\n",
              "      <th>4798</th>\n",
              "      <td>Les coûts liés à la journalisation n'étant pas...</td>\n",
              "      <td>C2</td>\n",
              "    </tr>\n",
              "    <tr>\n",
              "      <th>4799</th>\n",
              "      <td>Sur le sable, la mer haletait de toute la resp...</td>\n",
              "      <td>C2</td>\n",
              "    </tr>\n",
              "  </tbody>\n",
              "</table>\n",
              "<p>4800 rows × 2 columns</p>\n",
              "</div>\n",
              "    <div class=\"colab-df-buttons\">\n",
              "\n",
              "  <div class=\"colab-df-container\">\n",
              "    <button class=\"colab-df-convert\" onclick=\"convertToInteractive('df-5134c635-b163-4209-939d-50dbcb7b62b7')\"\n",
              "            title=\"Convert this dataframe to an interactive table.\"\n",
              "            style=\"display:none;\">\n",
              "\n",
              "  <svg xmlns=\"http://www.w3.org/2000/svg\" height=\"24px\" viewBox=\"0 -960 960 960\">\n",
              "    <path d=\"M120-120v-720h720v720H120Zm60-500h600v-160H180v160Zm220 220h160v-160H400v160Zm0 220h160v-160H400v160ZM180-400h160v-160H180v160Zm440 0h160v-160H620v160ZM180-180h160v-160H180v160Zm440 0h160v-160H620v160Z\"/>\n",
              "  </svg>\n",
              "    </button>\n",
              "\n",
              "  <style>\n",
              "    .colab-df-container {\n",
              "      display:flex;\n",
              "      gap: 12px;\n",
              "    }\n",
              "\n",
              "    .colab-df-convert {\n",
              "      background-color: #E8F0FE;\n",
              "      border: none;\n",
              "      border-radius: 50%;\n",
              "      cursor: pointer;\n",
              "      display: none;\n",
              "      fill: #1967D2;\n",
              "      height: 32px;\n",
              "      padding: 0 0 0 0;\n",
              "      width: 32px;\n",
              "    }\n",
              "\n",
              "    .colab-df-convert:hover {\n",
              "      background-color: #E2EBFA;\n",
              "      box-shadow: 0px 1px 2px rgba(60, 64, 67, 0.3), 0px 1px 3px 1px rgba(60, 64, 67, 0.15);\n",
              "      fill: #174EA6;\n",
              "    }\n",
              "\n",
              "    .colab-df-buttons div {\n",
              "      margin-bottom: 4px;\n",
              "    }\n",
              "\n",
              "    [theme=dark] .colab-df-convert {\n",
              "      background-color: #3B4455;\n",
              "      fill: #D2E3FC;\n",
              "    }\n",
              "\n",
              "    [theme=dark] .colab-df-convert:hover {\n",
              "      background-color: #434B5C;\n",
              "      box-shadow: 0px 1px 3px 1px rgba(0, 0, 0, 0.15);\n",
              "      filter: drop-shadow(0px 1px 2px rgba(0, 0, 0, 0.3));\n",
              "      fill: #FFFFFF;\n",
              "    }\n",
              "  </style>\n",
              "\n",
              "    <script>\n",
              "      const buttonEl =\n",
              "        document.querySelector('#df-5134c635-b163-4209-939d-50dbcb7b62b7 button.colab-df-convert');\n",
              "      buttonEl.style.display =\n",
              "        google.colab.kernel.accessAllowed ? 'block' : 'none';\n",
              "\n",
              "      async function convertToInteractive(key) {\n",
              "        const element = document.querySelector('#df-5134c635-b163-4209-939d-50dbcb7b62b7');\n",
              "        const dataTable =\n",
              "          await google.colab.kernel.invokeFunction('convertToInteractive',\n",
              "                                                    [key], {});\n",
              "        if (!dataTable) return;\n",
              "\n",
              "        const docLinkHtml = 'Like what you see? Visit the ' +\n",
              "          '<a target=\"_blank\" href=https://colab.research.google.com/notebooks/data_table.ipynb>data table notebook</a>'\n",
              "          + ' to learn more about interactive tables.';\n",
              "        element.innerHTML = '';\n",
              "        dataTable['output_type'] = 'display_data';\n",
              "        await google.colab.output.renderOutput(dataTable, element);\n",
              "        const docLink = document.createElement('div');\n",
              "        docLink.innerHTML = docLinkHtml;\n",
              "        element.appendChild(docLink);\n",
              "      }\n",
              "    </script>\n",
              "  </div>\n",
              "\n",
              "\n",
              "<div id=\"df-793335c8-7a76-481f-8fa7-7533c6c4eb23\">\n",
              "  <button class=\"colab-df-quickchart\" onclick=\"quickchart('df-793335c8-7a76-481f-8fa7-7533c6c4eb23')\"\n",
              "            title=\"Suggest charts\"\n",
              "            style=\"display:none;\">\n",
              "\n",
              "<svg xmlns=\"http://www.w3.org/2000/svg\" height=\"24px\"viewBox=\"0 0 24 24\"\n",
              "     width=\"24px\">\n",
              "    <g>\n",
              "        <path d=\"M19 3H5c-1.1 0-2 .9-2 2v14c0 1.1.9 2 2 2h14c1.1 0 2-.9 2-2V5c0-1.1-.9-2-2-2zM9 17H7v-7h2v7zm4 0h-2V7h2v10zm4 0h-2v-4h2v4z\"/>\n",
              "    </g>\n",
              "</svg>\n",
              "  </button>\n",
              "\n",
              "<style>\n",
              "  .colab-df-quickchart {\n",
              "      --bg-color: #E8F0FE;\n",
              "      --fill-color: #1967D2;\n",
              "      --hover-bg-color: #E2EBFA;\n",
              "      --hover-fill-color: #174EA6;\n",
              "      --disabled-fill-color: #AAA;\n",
              "      --disabled-bg-color: #DDD;\n",
              "  }\n",
              "\n",
              "  [theme=dark] .colab-df-quickchart {\n",
              "      --bg-color: #3B4455;\n",
              "      --fill-color: #D2E3FC;\n",
              "      --hover-bg-color: #434B5C;\n",
              "      --hover-fill-color: #FFFFFF;\n",
              "      --disabled-bg-color: #3B4455;\n",
              "      --disabled-fill-color: #666;\n",
              "  }\n",
              "\n",
              "  .colab-df-quickchart {\n",
              "    background-color: var(--bg-color);\n",
              "    border: none;\n",
              "    border-radius: 50%;\n",
              "    cursor: pointer;\n",
              "    display: none;\n",
              "    fill: var(--fill-color);\n",
              "    height: 32px;\n",
              "    padding: 0;\n",
              "    width: 32px;\n",
              "  }\n",
              "\n",
              "  .colab-df-quickchart:hover {\n",
              "    background-color: var(--hover-bg-color);\n",
              "    box-shadow: 0 1px 2px rgba(60, 64, 67, 0.3), 0 1px 3px 1px rgba(60, 64, 67, 0.15);\n",
              "    fill: var(--button-hover-fill-color);\n",
              "  }\n",
              "\n",
              "  .colab-df-quickchart-complete:disabled,\n",
              "  .colab-df-quickchart-complete:disabled:hover {\n",
              "    background-color: var(--disabled-bg-color);\n",
              "    fill: var(--disabled-fill-color);\n",
              "    box-shadow: none;\n",
              "  }\n",
              "\n",
              "  .colab-df-spinner {\n",
              "    border: 2px solid var(--fill-color);\n",
              "    border-color: transparent;\n",
              "    border-bottom-color: var(--fill-color);\n",
              "    animation:\n",
              "      spin 1s steps(1) infinite;\n",
              "  }\n",
              "\n",
              "  @keyframes spin {\n",
              "    0% {\n",
              "      border-color: transparent;\n",
              "      border-bottom-color: var(--fill-color);\n",
              "      border-left-color: var(--fill-color);\n",
              "    }\n",
              "    20% {\n",
              "      border-color: transparent;\n",
              "      border-left-color: var(--fill-color);\n",
              "      border-top-color: var(--fill-color);\n",
              "    }\n",
              "    30% {\n",
              "      border-color: transparent;\n",
              "      border-left-color: var(--fill-color);\n",
              "      border-top-color: var(--fill-color);\n",
              "      border-right-color: var(--fill-color);\n",
              "    }\n",
              "    40% {\n",
              "      border-color: transparent;\n",
              "      border-right-color: var(--fill-color);\n",
              "      border-top-color: var(--fill-color);\n",
              "    }\n",
              "    60% {\n",
              "      border-color: transparent;\n",
              "      border-right-color: var(--fill-color);\n",
              "    }\n",
              "    80% {\n",
              "      border-color: transparent;\n",
              "      border-right-color: var(--fill-color);\n",
              "      border-bottom-color: var(--fill-color);\n",
              "    }\n",
              "    90% {\n",
              "      border-color: transparent;\n",
              "      border-bottom-color: var(--fill-color);\n",
              "    }\n",
              "  }\n",
              "</style>\n",
              "\n",
              "  <script>\n",
              "    async function quickchart(key) {\n",
              "      const quickchartButtonEl =\n",
              "        document.querySelector('#' + key + ' button');\n",
              "      quickchartButtonEl.disabled = true;  // To prevent multiple clicks.\n",
              "      quickchartButtonEl.classList.add('colab-df-spinner');\n",
              "      try {\n",
              "        const charts = await google.colab.kernel.invokeFunction(\n",
              "            'suggestCharts', [key], {});\n",
              "      } catch (error) {\n",
              "        console.error('Error during call to suggestCharts:', error);\n",
              "      }\n",
              "      quickchartButtonEl.classList.remove('colab-df-spinner');\n",
              "      quickchartButtonEl.classList.add('colab-df-quickchart-complete');\n",
              "    }\n",
              "    (() => {\n",
              "      let quickchartButtonEl =\n",
              "        document.querySelector('#df-793335c8-7a76-481f-8fa7-7533c6c4eb23 button');\n",
              "      quickchartButtonEl.style.display =\n",
              "        google.colab.kernel.accessAllowed ? 'block' : 'none';\n",
              "    })();\n",
              "  </script>\n",
              "</div>\n",
              "    </div>\n",
              "  </div>\n"
            ]
          },
          "metadata": {},
          "execution_count": 50
        }
      ],
      "source": [
        "df"
      ]
    },
    {
      "cell_type": "code",
      "execution_count": 51,
      "metadata": {
        "id": "l97F4TgticgH"
      },
      "outputs": [],
      "source": [
        "X = df['sentence']\n",
        "Y = df['difficulty']"
      ]
    },
    {
      "cell_type": "markdown",
      "source": [
        "#####In this part we tokenize our sentences and encode what we want to predict the difficulty"
      ],
      "metadata": {
        "id": "uvp1hxgLz28O"
      }
    },
    {
      "cell_type": "code",
      "execution_count": 52,
      "metadata": {
        "id": "LGU8vdNtTRxC"
      },
      "outputs": [],
      "source": [
        "tokenizer = Tokenizer(num_words=5000)\n",
        "tokenizer.fit_on_texts(df['sentence'])\n",
        "\n",
        "X_train = tokenizer.texts_to_sequences(df['sentence'])\n",
        "X_train_padded = pad_sequences(X_train, maxlen=100)\n",
        "\n",
        "label_encoder = LabelEncoder()\n",
        "Y_encoded = label_encoder.fit_transform(df['difficulty'])\n",
        "Y_categorical = to_categorical(Y_encoded)"
      ]
    },
    {
      "cell_type": "markdown",
      "source": [
        "#####After some data transformation we can construct our model. And as all our models we split 20% of our data. Here we decide to use the k flods because without the folds we have a model with metrics arround 70% but a prediction on the unlabelled dataset arround 45%. So we decide to use the folds to be sure that our models take into consideration all kind of differents classes (A1,A2...)"
      ],
      "metadata": {
        "id": "jXAI9mIx0Hxt"
      }
    },
    {
      "cell_type": "code",
      "execution_count": 53,
      "metadata": {
        "colab": {
          "base_uri": "https://localhost:8080/"
        },
        "id": "b46ARkSFgAbP",
        "outputId": "7ee6a6c2-db6c-4625-f42c-935c4889237d"
      },
      "outputs": [
        {
          "output_type": "stream",
          "name": "stdout",
          "text": [
            "Epoch 1/5\n",
            "60/60 [==============================] - 36s 564ms/step - loss: 1.6373 - accuracy: 0.2956\n",
            "Epoch 2/5\n",
            "60/60 [==============================] - 19s 315ms/step - loss: 1.4112 - accuracy: 0.3909\n",
            "Epoch 3/5\n",
            "60/60 [==============================] - 18s 294ms/step - loss: 1.1926 - accuracy: 0.4956\n",
            "Epoch 4/5\n",
            "60/60 [==============================] - 17s 292ms/step - loss: 1.0045 - accuracy: 0.5987\n",
            "Epoch 5/5\n",
            "60/60 [==============================] - 18s 295ms/step - loss: 0.7938 - accuracy: 0.7023\n",
            "30/30 [==============================] - 1s 32ms/step\n",
            "Epoch 1/5\n",
            "60/60 [==============================] - 20s 295ms/step - loss: 1.6442 - accuracy: 0.2810\n",
            "Epoch 2/5\n",
            "60/60 [==============================] - 18s 293ms/step - loss: 1.4163 - accuracy: 0.3753\n",
            "Epoch 3/5\n",
            "60/60 [==============================] - 18s 293ms/step - loss: 1.1935 - accuracy: 0.5016\n",
            "Epoch 4/5\n",
            "60/60 [==============================] - 17s 292ms/step - loss: 0.9701 - accuracy: 0.6112\n",
            "Epoch 5/5\n",
            "60/60 [==============================] - 18s 301ms/step - loss: 0.7531 - accuracy: 0.7245\n",
            "30/30 [==============================] - 1s 31ms/step\n",
            "Epoch 1/5\n",
            "60/60 [==============================] - 20s 294ms/step - loss: 1.6658 - accuracy: 0.2849\n",
            "Epoch 2/5\n",
            "60/60 [==============================] - 18s 295ms/step - loss: 1.4178 - accuracy: 0.3943\n",
            "Epoch 3/5\n",
            "60/60 [==============================] - 18s 303ms/step - loss: 1.1899 - accuracy: 0.4862\n",
            "Epoch 4/5\n",
            "60/60 [==============================] - 18s 301ms/step - loss: 0.9939 - accuracy: 0.6047\n",
            "Epoch 5/5\n",
            "60/60 [==============================] - 18s 296ms/step - loss: 0.7953 - accuracy: 0.7083\n",
            "30/30 [==============================] - 2s 58ms/step\n",
            "Epoch 1/5\n",
            "60/60 [==============================] - 21s 297ms/step - loss: 1.6596 - accuracy: 0.2812\n",
            "Epoch 2/5\n",
            "60/60 [==============================] - 18s 301ms/step - loss: 1.4205 - accuracy: 0.3875\n",
            "Epoch 3/5\n",
            "60/60 [==============================] - 18s 302ms/step - loss: 1.1916 - accuracy: 0.4898\n",
            "Epoch 4/5\n",
            "60/60 [==============================] - 18s 299ms/step - loss: 0.9619 - accuracy: 0.6195\n",
            "Epoch 5/5\n",
            "60/60 [==============================] - 18s 300ms/step - loss: 0.7677 - accuracy: 0.7164\n",
            "30/30 [==============================] - 2s 56ms/step\n",
            "Epoch 1/5\n",
            "60/60 [==============================] - 20s 302ms/step - loss: 1.6556 - accuracy: 0.2940\n",
            "Epoch 2/5\n",
            "60/60 [==============================] - 18s 300ms/step - loss: 1.4369 - accuracy: 0.3833\n",
            "Epoch 3/5\n",
            "60/60 [==============================] - 18s 302ms/step - loss: 1.2137 - accuracy: 0.4872\n",
            "Epoch 4/5\n",
            "60/60 [==============================] - 18s 301ms/step - loss: 0.9800 - accuracy: 0.6130\n",
            "Epoch 5/5\n",
            "60/60 [==============================] - 18s 303ms/step - loss: 0.7423 - accuracy: 0.7310\n",
            "30/30 [==============================] - 1s 33ms/step\n"
          ]
        }
      ],
      "source": [
        "num_folds = 5\n",
        "kfold = KFold(n_splits=num_folds, shuffle=True)\n",
        "\n",
        "scores = []\n",
        "\n",
        "for train_index, test_index in kfold.split(X_train_padded):\n",
        "    X_train_fold, X_val_fold = X_train_padded[train_index], X_train_padded[test_index]\n",
        "    Y_train_fold, Y_val_fold = Y_categorical[train_index], Y_categorical[test_index]\n",
        "\n",
        "    Y_true_classes = np.argmax(Y_val_fold, axis=1)\n",
        "\n",
        "    model = Sequential()\n",
        "    model.add(Embedding(input_dim=5000, output_dim=100, input_length=100))\n",
        "    model.add(SpatialDropout1D(0.2))\n",
        "    model.add(LSTM(100, dropout=0.2, recurrent_dropout=0.2))\n",
        "    model.add(Dense(6, activation='softmax'))\n",
        "\n",
        "    model.compile(loss='categorical_crossentropy', optimizer='adam', metrics=['accuracy'])\n",
        "\n",
        "    model.fit(X_train_fold, Y_train_fold, batch_size=64, epochs=5)\n",
        "\n",
        "    Y_pred = model.predict(X_val_fold)\n",
        "    Y_pred_classes= np.argmax(Y_pred, axis=1)\n",
        "\n",
        "    accuracy = accuracy_score(Y_true_classes, Y_pred_classes)\n",
        "    precision = precision_score(Y_true_classes, Y_pred_classes, average='macro')\n",
        "    recall = recall_score(Y_true_classes, Y_pred_classes, average='macro')\n",
        "    f1 = f1_score(Y_true_classes, Y_pred_classes, average='macro')\n",
        "\n",
        "    scores.append((accuracy, precision, recall, f1))\n",
        "\n"
      ]
    },
    {
      "cell_type": "markdown",
      "source": [
        "##Metrics"
      ],
      "metadata": {
        "id": "GYf25Kbc5iHM"
      }
    },
    {
      "cell_type": "markdown",
      "source": [
        "#####Here we calculate some metrics to see how good our model is"
      ],
      "metadata": {
        "id": "HQg4i5Rj5aUD"
      }
    },
    {
      "cell_type": "code",
      "source": [
        "mean_scores = np.mean(scores, axis=0)\n",
        "print(f'Mean scores on {num_folds} folds: Accuracy: {mean_scores[0]}, Precision: {mean_scores[1]}, Recall: {mean_scores[2]}, F1 Score: {mean_scores[3]}')\n"
      ],
      "metadata": {
        "colab": {
          "base_uri": "https://localhost:8080/"
        },
        "id": "7CUIStUT0tCU",
        "outputId": "63174117-f7a5-4cbf-9d0f-0dbb6d230f6e"
      },
      "execution_count": 54,
      "outputs": [
        {
          "output_type": "stream",
          "name": "stdout",
          "text": [
            "Mean scores on 5 folds: Accuracy: 0.44333333333333336, Precision: 0.44522952807445393, Recall: 0.4428534738552405, F1 Score: 0.43976167686760037\n"
          ]
        }
      ]
    },
    {
      "cell_type": "code",
      "source": [
        "Y_pred_classes"
      ],
      "metadata": {
        "colab": {
          "base_uri": "https://localhost:8080/"
        },
        "id": "nlFXdVxy5Bn3",
        "outputId": "aa18d88e-d9ac-42a1-d1b0-02f9360d28b7"
      },
      "execution_count": 55,
      "outputs": [
        {
          "output_type": "execute_result",
          "data": {
            "text/plain": [
              "array([4, 1, 2, 0, 1, 2, 4, 5, 3, 0, 3, 0, 4, 5, 2, 0, 5, 3, 0, 2, 4, 4,\n",
              "       3, 5, 1, 3, 0, 5, 4, 3, 1, 4, 4, 2, 0, 2, 4, 2, 4, 0, 5, 3, 2, 5,\n",
              "       1, 1, 0, 2, 3, 0, 4, 3, 5, 4, 0, 5, 5, 3, 0, 1, 4, 3, 5, 0, 0, 3,\n",
              "       0, 5, 5, 1, 5, 0, 0, 3, 0, 4, 3, 2, 5, 3, 2, 3, 4, 0, 2, 4, 3, 0,\n",
              "       1, 4, 4, 3, 1, 1, 4, 0, 0, 5, 1, 0, 0, 0, 4, 0, 4, 5, 1, 3, 3, 3,\n",
              "       4, 4, 1, 3, 1, 5, 4, 5, 4, 1, 0, 3, 0, 0, 0, 3, 0, 2, 0, 5, 4, 0,\n",
              "       1, 4, 0, 1, 5, 4, 4, 3, 4, 5, 2, 3, 0, 4, 1, 4, 3, 4, 4, 3, 0, 4,\n",
              "       3, 5, 0, 0, 5, 3, 1, 5, 2, 2, 4, 3, 1, 1, 4, 4, 0, 1, 1, 0, 1, 3,\n",
              "       0, 0, 5, 4, 3, 3, 0, 3, 1, 1, 1, 4, 4, 2, 3, 0, 1, 4, 1, 2, 4, 0,\n",
              "       0, 0, 5, 3, 0, 0, 2, 3, 5, 0, 5, 3, 2, 3, 3, 5, 3, 2, 2, 2, 4, 1,\n",
              "       0, 3, 1, 4, 1, 1, 2, 1, 4, 1, 4, 2, 5, 4, 3, 3, 3, 0, 3, 4, 1, 2,\n",
              "       3, 3, 3, 4, 0, 0, 3, 0, 2, 0, 0, 3, 4, 1, 5, 1, 2, 4, 3, 4, 5, 3,\n",
              "       5, 4, 0, 0, 0, 4, 2, 1, 3, 0, 1, 3, 0, 3, 2, 3, 1, 3, 5, 4, 1, 4,\n",
              "       5, 4, 0, 0, 0, 0, 4, 5, 0, 5, 4, 0, 5, 0, 4, 4, 0, 0, 3, 2, 0, 0,\n",
              "       1, 3, 2, 2, 5, 4, 2, 5, 2, 4, 1, 5, 1, 0, 1, 5, 1, 3, 3, 1, 1, 1,\n",
              "       0, 1, 5, 3, 0, 2, 4, 1, 5, 4, 3, 4, 5, 3, 3, 5, 2, 4, 4, 3, 3, 5,\n",
              "       4, 5, 2, 0, 0, 2, 2, 1, 0, 3, 1, 2, 5, 4, 3, 3, 0, 4, 5, 2, 1, 5,\n",
              "       3, 2, 1, 2, 2, 2, 1, 0, 1, 4, 0, 5, 5, 2, 1, 1, 1, 0, 2, 4, 0, 0,\n",
              "       4, 1, 1, 0, 0, 4, 3, 4, 4, 5, 1, 2, 5, 2, 0, 4, 5, 2, 5, 1, 4, 3,\n",
              "       0, 2, 1, 1, 2, 1, 3, 0, 2, 4, 3, 4, 3, 0, 4, 3, 1, 0, 2, 3, 3, 3,\n",
              "       5, 3, 0, 5, 3, 4, 2, 2, 0, 2, 4, 5, 2, 5, 0, 0, 5, 4, 2, 5, 4, 5,\n",
              "       2, 4, 4, 0, 3, 4, 5, 4, 0, 5, 4, 0, 2, 0, 3, 5, 2, 0, 1, 0, 5, 2,\n",
              "       4, 5, 3, 2, 2, 4, 2, 1, 4, 1, 1, 4, 4, 1, 4, 0, 3, 3, 1, 2, 3, 3,\n",
              "       0, 1, 0, 4, 4, 5, 5, 5, 1, 5, 1, 0, 1, 1, 2, 3, 4, 3, 0, 3, 1, 1,\n",
              "       0, 4, 3, 5, 0, 4, 1, 1, 2, 5, 1, 1, 0, 5, 3, 4, 2, 3, 2, 3, 3, 0,\n",
              "       1, 1, 1, 2, 3, 2, 5, 1, 0, 1, 1, 5, 4, 4, 5, 3, 2, 3, 0, 1, 3, 4,\n",
              "       0, 1, 1, 1, 2, 0, 1, 3, 2, 2, 4, 2, 2, 0, 5, 5, 0, 2, 4, 1, 3, 4,\n",
              "       4, 3, 1, 2, 1, 2, 5, 4, 4, 0, 4, 3, 5, 1, 2, 5, 3, 3, 5, 4, 4, 0,\n",
              "       1, 3, 2, 1, 1, 5, 4, 4, 1, 1, 1, 4, 2, 4, 1, 5, 1, 1, 0, 2, 5, 4,\n",
              "       4, 4, 0, 5, 0, 3, 3, 5, 2, 0, 2, 4, 1, 4, 2, 5, 4, 0, 2, 3, 2, 5,\n",
              "       1, 4, 5, 3, 2, 4, 2, 3, 2, 2, 5, 3, 4, 0, 2, 1, 0, 4, 4, 3, 3, 5,\n",
              "       1, 0, 4, 3, 4, 0, 5, 4, 0, 1, 5, 0, 1, 2, 4, 5, 0, 4, 0, 4, 3, 2,\n",
              "       4, 5, 4, 1, 3, 2, 1, 1, 3, 1, 4, 5, 3, 5, 2, 3, 3, 1, 3, 5, 0, 4,\n",
              "       1, 0, 5, 4, 0, 5, 5, 3, 2, 4, 0, 1, 5, 2, 3, 5, 2, 4, 4, 4, 2, 0,\n",
              "       2, 4, 4, 0, 1, 4, 2, 0, 4, 4, 3, 1, 5, 5, 0, 3, 1, 2, 2, 0, 2, 0,\n",
              "       3, 3, 4, 1, 4, 5, 5, 4, 2, 4, 0, 5, 0, 3, 2, 1, 1, 4, 4, 1, 2, 0,\n",
              "       4, 1, 2, 2, 3, 4, 1, 3, 2, 2, 1, 1, 0, 5, 3, 3, 0, 4, 3, 4, 5, 5,\n",
              "       4, 1, 3, 2, 3, 4, 4, 4, 4, 4, 3, 3, 5, 2, 0, 0, 0, 3, 2, 0, 0, 0,\n",
              "       0, 4, 2, 0, 2, 3, 0, 2, 2, 2, 4, 2, 1, 0, 1, 1, 5, 1, 4, 3, 2, 4,\n",
              "       2, 0, 2, 4, 3, 4, 1, 0, 2, 2, 4, 3, 3, 2, 2, 2, 4, 0, 5, 2, 5, 5,\n",
              "       2, 1, 1, 1, 5, 2, 3, 0, 0, 1, 3, 3, 4, 2, 0, 5, 3, 0, 0, 2, 2, 2,\n",
              "       4, 2, 0, 4, 0, 2, 1, 0, 2, 4, 2, 0, 5, 2, 0, 4, 4, 1, 2, 4, 0, 4,\n",
              "       4, 4, 0, 2, 1, 0, 5, 4, 2, 4, 4, 3, 3, 0, 3, 2, 3, 0, 5, 4, 2, 2,\n",
              "       0, 3, 0, 3, 3, 2, 0, 5, 1, 4, 4, 0, 1, 4])"
            ]
          },
          "metadata": {},
          "execution_count": 55
        }
      ]
    },
    {
      "cell_type": "markdown",
      "source": [
        "##Predictions"
      ],
      "metadata": {
        "id": "d_lesYZi5-tU"
      }
    },
    {
      "cell_type": "markdown",
      "source": [
        "#####And then we use our model to predict our unlabelled data"
      ],
      "metadata": {
        "id": "j0Nuggak6A7v"
      }
    },
    {
      "cell_type": "code",
      "execution_count": 56,
      "metadata": {
        "colab": {
          "base_uri": "https://localhost:8080/"
        },
        "id": "aPHY2cFJZuYY",
        "outputId": "bc9db5ba-b228-44be-ee4a-7319a94299a7"
      },
      "outputs": [
        {
          "output_type": "stream",
          "name": "stdout",
          "text": [
            "38/38 [==============================] - 2s 35ms/step\n"
          ]
        }
      ],
      "source": [
        "\n",
        "X_unlabelled = tokenizer.texts_to_sequences(df_pred['sentence'])\n",
        "X_unlabelled_padded = pad_sequences(X_unlabelled, maxlen=100)\n",
        "\n",
        "predictions = model.predict(X_unlabelled_padded)\n",
        "\n",
        "predicted_classes = np.argmax(predictions, axis=1)\n",
        "predicted_labels = label_encoder.inverse_transform(predicted_classes)\n"
      ]
    },
    {
      "cell_type": "code",
      "execution_count": 57,
      "metadata": {
        "colab": {
          "base_uri": "https://localhost:8080/",
          "height": 455
        },
        "id": "KOEe1sY-q2Y6",
        "outputId": "b7bee765-c92a-43b3-d611-64f307610f5e"
      },
      "outputs": [
        {
          "output_type": "execute_result",
          "data": {
            "text/plain": [
              "                                               sentence predicted_difficulty\n",
              "id                                                                          \n",
              "0     Nous dûmes nous excuser des propos que nous eû...                   C2\n",
              "1     Vous ne pouvez pas savoir le plaisir que j'ai ...                   A2\n",
              "2     Et, paradoxalement, boire froid n'est pas la b...                   A2\n",
              "3     Ce n'est pas étonnant, car c'est une saison my...                   A2\n",
              "4     Le corps de Golo lui-même, d'une essence aussi...                   C2\n",
              "...                                                 ...                  ...\n",
              "1195  C'est un phénomène qui trouve une accélération...                   B1\n",
              "1196  Je vais parler au serveur et voir si on peut d...                   A2\n",
              "1197  Il n'était pas comme tant de gens qui par pare...                   C2\n",
              "1198      Ils deviennent dangereux pour notre économie.                   A1\n",
              "1199  Son succès a généré beaucoup de réactions néga...                   A2\n",
              "\n",
              "[1200 rows x 2 columns]"
            ],
            "text/html": [
              "\n",
              "  <div id=\"df-045b55e1-18c0-4431-a2cf-29cf9526d6a5\" class=\"colab-df-container\">\n",
              "    <div>\n",
              "<style scoped>\n",
              "    .dataframe tbody tr th:only-of-type {\n",
              "        vertical-align: middle;\n",
              "    }\n",
              "\n",
              "    .dataframe tbody tr th {\n",
              "        vertical-align: top;\n",
              "    }\n",
              "\n",
              "    .dataframe thead th {\n",
              "        text-align: right;\n",
              "    }\n",
              "</style>\n",
              "<table border=\"1\" class=\"dataframe\">\n",
              "  <thead>\n",
              "    <tr style=\"text-align: right;\">\n",
              "      <th></th>\n",
              "      <th>sentence</th>\n",
              "      <th>predicted_difficulty</th>\n",
              "    </tr>\n",
              "    <tr>\n",
              "      <th>id</th>\n",
              "      <th></th>\n",
              "      <th></th>\n",
              "    </tr>\n",
              "  </thead>\n",
              "  <tbody>\n",
              "    <tr>\n",
              "      <th>0</th>\n",
              "      <td>Nous dûmes nous excuser des propos que nous eû...</td>\n",
              "      <td>C2</td>\n",
              "    </tr>\n",
              "    <tr>\n",
              "      <th>1</th>\n",
              "      <td>Vous ne pouvez pas savoir le plaisir que j'ai ...</td>\n",
              "      <td>A2</td>\n",
              "    </tr>\n",
              "    <tr>\n",
              "      <th>2</th>\n",
              "      <td>Et, paradoxalement, boire froid n'est pas la b...</td>\n",
              "      <td>A2</td>\n",
              "    </tr>\n",
              "    <tr>\n",
              "      <th>3</th>\n",
              "      <td>Ce n'est pas étonnant, car c'est une saison my...</td>\n",
              "      <td>A2</td>\n",
              "    </tr>\n",
              "    <tr>\n",
              "      <th>4</th>\n",
              "      <td>Le corps de Golo lui-même, d'une essence aussi...</td>\n",
              "      <td>C2</td>\n",
              "    </tr>\n",
              "    <tr>\n",
              "      <th>...</th>\n",
              "      <td>...</td>\n",
              "      <td>...</td>\n",
              "    </tr>\n",
              "    <tr>\n",
              "      <th>1195</th>\n",
              "      <td>C'est un phénomène qui trouve une accélération...</td>\n",
              "      <td>B1</td>\n",
              "    </tr>\n",
              "    <tr>\n",
              "      <th>1196</th>\n",
              "      <td>Je vais parler au serveur et voir si on peut d...</td>\n",
              "      <td>A2</td>\n",
              "    </tr>\n",
              "    <tr>\n",
              "      <th>1197</th>\n",
              "      <td>Il n'était pas comme tant de gens qui par pare...</td>\n",
              "      <td>C2</td>\n",
              "    </tr>\n",
              "    <tr>\n",
              "      <th>1198</th>\n",
              "      <td>Ils deviennent dangereux pour notre économie.</td>\n",
              "      <td>A1</td>\n",
              "    </tr>\n",
              "    <tr>\n",
              "      <th>1199</th>\n",
              "      <td>Son succès a généré beaucoup de réactions néga...</td>\n",
              "      <td>A2</td>\n",
              "    </tr>\n",
              "  </tbody>\n",
              "</table>\n",
              "<p>1200 rows × 2 columns</p>\n",
              "</div>\n",
              "    <div class=\"colab-df-buttons\">\n",
              "\n",
              "  <div class=\"colab-df-container\">\n",
              "    <button class=\"colab-df-convert\" onclick=\"convertToInteractive('df-045b55e1-18c0-4431-a2cf-29cf9526d6a5')\"\n",
              "            title=\"Convert this dataframe to an interactive table.\"\n",
              "            style=\"display:none;\">\n",
              "\n",
              "  <svg xmlns=\"http://www.w3.org/2000/svg\" height=\"24px\" viewBox=\"0 -960 960 960\">\n",
              "    <path d=\"M120-120v-720h720v720H120Zm60-500h600v-160H180v160Zm220 220h160v-160H400v160Zm0 220h160v-160H400v160ZM180-400h160v-160H180v160Zm440 0h160v-160H620v160ZM180-180h160v-160H180v160Zm440 0h160v-160H620v160Z\"/>\n",
              "  </svg>\n",
              "    </button>\n",
              "\n",
              "  <style>\n",
              "    .colab-df-container {\n",
              "      display:flex;\n",
              "      gap: 12px;\n",
              "    }\n",
              "\n",
              "    .colab-df-convert {\n",
              "      background-color: #E8F0FE;\n",
              "      border: none;\n",
              "      border-radius: 50%;\n",
              "      cursor: pointer;\n",
              "      display: none;\n",
              "      fill: #1967D2;\n",
              "      height: 32px;\n",
              "      padding: 0 0 0 0;\n",
              "      width: 32px;\n",
              "    }\n",
              "\n",
              "    .colab-df-convert:hover {\n",
              "      background-color: #E2EBFA;\n",
              "      box-shadow: 0px 1px 2px rgba(60, 64, 67, 0.3), 0px 1px 3px 1px rgba(60, 64, 67, 0.15);\n",
              "      fill: #174EA6;\n",
              "    }\n",
              "\n",
              "    .colab-df-buttons div {\n",
              "      margin-bottom: 4px;\n",
              "    }\n",
              "\n",
              "    [theme=dark] .colab-df-convert {\n",
              "      background-color: #3B4455;\n",
              "      fill: #D2E3FC;\n",
              "    }\n",
              "\n",
              "    [theme=dark] .colab-df-convert:hover {\n",
              "      background-color: #434B5C;\n",
              "      box-shadow: 0px 1px 3px 1px rgba(0, 0, 0, 0.15);\n",
              "      filter: drop-shadow(0px 1px 2px rgba(0, 0, 0, 0.3));\n",
              "      fill: #FFFFFF;\n",
              "    }\n",
              "  </style>\n",
              "\n",
              "    <script>\n",
              "      const buttonEl =\n",
              "        document.querySelector('#df-045b55e1-18c0-4431-a2cf-29cf9526d6a5 button.colab-df-convert');\n",
              "      buttonEl.style.display =\n",
              "        google.colab.kernel.accessAllowed ? 'block' : 'none';\n",
              "\n",
              "      async function convertToInteractive(key) {\n",
              "        const element = document.querySelector('#df-045b55e1-18c0-4431-a2cf-29cf9526d6a5');\n",
              "        const dataTable =\n",
              "          await google.colab.kernel.invokeFunction('convertToInteractive',\n",
              "                                                    [key], {});\n",
              "        if (!dataTable) return;\n",
              "\n",
              "        const docLinkHtml = 'Like what you see? Visit the ' +\n",
              "          '<a target=\"_blank\" href=https://colab.research.google.com/notebooks/data_table.ipynb>data table notebook</a>'\n",
              "          + ' to learn more about interactive tables.';\n",
              "        element.innerHTML = '';\n",
              "        dataTable['output_type'] = 'display_data';\n",
              "        await google.colab.output.renderOutput(dataTable, element);\n",
              "        const docLink = document.createElement('div');\n",
              "        docLink.innerHTML = docLinkHtml;\n",
              "        element.appendChild(docLink);\n",
              "      }\n",
              "    </script>\n",
              "  </div>\n",
              "\n",
              "\n",
              "<div id=\"df-e1ae54d1-0b29-4970-94ef-5260ce9a8678\">\n",
              "  <button class=\"colab-df-quickchart\" onclick=\"quickchart('df-e1ae54d1-0b29-4970-94ef-5260ce9a8678')\"\n",
              "            title=\"Suggest charts\"\n",
              "            style=\"display:none;\">\n",
              "\n",
              "<svg xmlns=\"http://www.w3.org/2000/svg\" height=\"24px\"viewBox=\"0 0 24 24\"\n",
              "     width=\"24px\">\n",
              "    <g>\n",
              "        <path d=\"M19 3H5c-1.1 0-2 .9-2 2v14c0 1.1.9 2 2 2h14c1.1 0 2-.9 2-2V5c0-1.1-.9-2-2-2zM9 17H7v-7h2v7zm4 0h-2V7h2v10zm4 0h-2v-4h2v4z\"/>\n",
              "    </g>\n",
              "</svg>\n",
              "  </button>\n",
              "\n",
              "<style>\n",
              "  .colab-df-quickchart {\n",
              "      --bg-color: #E8F0FE;\n",
              "      --fill-color: #1967D2;\n",
              "      --hover-bg-color: #E2EBFA;\n",
              "      --hover-fill-color: #174EA6;\n",
              "      --disabled-fill-color: #AAA;\n",
              "      --disabled-bg-color: #DDD;\n",
              "  }\n",
              "\n",
              "  [theme=dark] .colab-df-quickchart {\n",
              "      --bg-color: #3B4455;\n",
              "      --fill-color: #D2E3FC;\n",
              "      --hover-bg-color: #434B5C;\n",
              "      --hover-fill-color: #FFFFFF;\n",
              "      --disabled-bg-color: #3B4455;\n",
              "      --disabled-fill-color: #666;\n",
              "  }\n",
              "\n",
              "  .colab-df-quickchart {\n",
              "    background-color: var(--bg-color);\n",
              "    border: none;\n",
              "    border-radius: 50%;\n",
              "    cursor: pointer;\n",
              "    display: none;\n",
              "    fill: var(--fill-color);\n",
              "    height: 32px;\n",
              "    padding: 0;\n",
              "    width: 32px;\n",
              "  }\n",
              "\n",
              "  .colab-df-quickchart:hover {\n",
              "    background-color: var(--hover-bg-color);\n",
              "    box-shadow: 0 1px 2px rgba(60, 64, 67, 0.3), 0 1px 3px 1px rgba(60, 64, 67, 0.15);\n",
              "    fill: var(--button-hover-fill-color);\n",
              "  }\n",
              "\n",
              "  .colab-df-quickchart-complete:disabled,\n",
              "  .colab-df-quickchart-complete:disabled:hover {\n",
              "    background-color: var(--disabled-bg-color);\n",
              "    fill: var(--disabled-fill-color);\n",
              "    box-shadow: none;\n",
              "  }\n",
              "\n",
              "  .colab-df-spinner {\n",
              "    border: 2px solid var(--fill-color);\n",
              "    border-color: transparent;\n",
              "    border-bottom-color: var(--fill-color);\n",
              "    animation:\n",
              "      spin 1s steps(1) infinite;\n",
              "  }\n",
              "\n",
              "  @keyframes spin {\n",
              "    0% {\n",
              "      border-color: transparent;\n",
              "      border-bottom-color: var(--fill-color);\n",
              "      border-left-color: var(--fill-color);\n",
              "    }\n",
              "    20% {\n",
              "      border-color: transparent;\n",
              "      border-left-color: var(--fill-color);\n",
              "      border-top-color: var(--fill-color);\n",
              "    }\n",
              "    30% {\n",
              "      border-color: transparent;\n",
              "      border-left-color: var(--fill-color);\n",
              "      border-top-color: var(--fill-color);\n",
              "      border-right-color: var(--fill-color);\n",
              "    }\n",
              "    40% {\n",
              "      border-color: transparent;\n",
              "      border-right-color: var(--fill-color);\n",
              "      border-top-color: var(--fill-color);\n",
              "    }\n",
              "    60% {\n",
              "      border-color: transparent;\n",
              "      border-right-color: var(--fill-color);\n",
              "    }\n",
              "    80% {\n",
              "      border-color: transparent;\n",
              "      border-right-color: var(--fill-color);\n",
              "      border-bottom-color: var(--fill-color);\n",
              "    }\n",
              "    90% {\n",
              "      border-color: transparent;\n",
              "      border-bottom-color: var(--fill-color);\n",
              "    }\n",
              "  }\n",
              "</style>\n",
              "\n",
              "  <script>\n",
              "    async function quickchart(key) {\n",
              "      const quickchartButtonEl =\n",
              "        document.querySelector('#' + key + ' button');\n",
              "      quickchartButtonEl.disabled = true;  // To prevent multiple clicks.\n",
              "      quickchartButtonEl.classList.add('colab-df-spinner');\n",
              "      try {\n",
              "        const charts = await google.colab.kernel.invokeFunction(\n",
              "            'suggestCharts', [key], {});\n",
              "      } catch (error) {\n",
              "        console.error('Error during call to suggestCharts:', error);\n",
              "      }\n",
              "      quickchartButtonEl.classList.remove('colab-df-spinner');\n",
              "      quickchartButtonEl.classList.add('colab-df-quickchart-complete');\n",
              "    }\n",
              "    (() => {\n",
              "      let quickchartButtonEl =\n",
              "        document.querySelector('#df-e1ae54d1-0b29-4970-94ef-5260ce9a8678 button');\n",
              "      quickchartButtonEl.style.display =\n",
              "        google.colab.kernel.accessAllowed ? 'block' : 'none';\n",
              "    })();\n",
              "  </script>\n",
              "</div>\n",
              "    </div>\n",
              "  </div>\n"
            ]
          },
          "metadata": {},
          "execution_count": 57
        }
      ],
      "source": [
        "\n",
        "df_pred['predicted_difficulty'] = predicted_labels\n",
        "\n",
        "\n",
        "df_pred\n"
      ]
    },
    {
      "cell_type": "code",
      "execution_count": 57,
      "metadata": {
        "id": "3v_2aPk1gUXR"
      },
      "outputs": [],
      "source": []
    },
    {
      "cell_type": "markdown",
      "metadata": {
        "id": "jctQ2IXYeXEs"
      },
      "source": [
        "# This is how to submit a pd file with predictions\n",
        "### for the example we will submit a file where only A1 is given as a prediction"
      ]
    },
    {
      "cell_type": "code",
      "source": [],
      "metadata": {
        "id": "jUBUCkxWNHKR"
      },
      "execution_count": 57,
      "outputs": []
    },
    {
      "cell_type": "code",
      "execution_count": 58,
      "metadata": {
        "id": "pg1ITBF8e0aq"
      },
      "outputs": [],
      "source": [
        "df_sub=df_pred[['predicted_difficulty']]\n",
        "df_sub.to_csv('submission.csv')"
      ]
    },
    {
      "cell_type": "code",
      "execution_count": 59,
      "metadata": {
        "colab": {
          "base_uri": "https://localhost:8080/"
        },
        "id": "D3i5G0qzgBxP",
        "outputId": "a77c6837-d624-4f3f-97d1-6b0fc98750fe"
      },
      "outputs": [
        {
          "output_type": "stream",
          "name": "stdout",
          "text": [
            "100% 8.31k/8.31k [00:01<00:00, 4.33kB/s]\n",
            "Successfully submitted to Detecting the difficulty level of French texts"
          ]
        }
      ],
      "source": [
        "! kaggle competitions submit -c detecting-french-texts-difficulty-level-2023 -f submission.csv -m \"Sample submission\""
      ]
    },
    {
      "cell_type": "markdown",
      "source": [
        "![image.png](data:image/png;base64,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)"
      ],
      "metadata": {
        "id": "Ex4YL2kR7eKZ"
      }
    }
  ],
  "metadata": {
    "colab": {
      "provenance": []
    },
    "kernelspec": {
      "display_name": "Python 3 (ipykernel)",
      "language": "python",
      "name": "python3"
    },
    "language_info": {
      "codemirror_mode": {
        "name": "ipython",
        "version": 3
      },
      "file_extension": ".py",
      "mimetype": "text/x-python",
      "name": "python",
      "nbconvert_exporter": "python",
      "pygments_lexer": "ipython3",
      "version": "3.9.6"
    },
    "toc": {
      "base_numbering": 1,
      "nav_menu": {},
      "number_sections": true,
      "sideBar": true,
      "skip_h1_title": false,
      "title_cell": "Table of Contents",
      "title_sidebar": "Contents",
      "toc_cell": false,
      "toc_position": {},
      "toc_section_display": true,
      "toc_window_display": false
    }
  },
  "nbformat": 4,
  "nbformat_minor": 0
}