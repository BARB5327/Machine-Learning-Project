{
 "cells": [
  {
   "cell_type": "markdown",
   "metadata": {
    "id": "kTfmqzC6OtfX"
   },
   "source": [
    "#Initialization of the kaggle and the files#"
   ]
  },
  {
   "cell_type": "code",
   "execution_count": 1,
   "metadata": {
    "colab": {
     "base_uri": "https://localhost:8080/"
    },
    "id": "UJ_hnJzSNO2g",
    "outputId": "7e6317ad-d0d4-40f5-c43d-9aa5b5df9b94"
   },
   "outputs": [
    {
     "output_type": "stream",
     "name": "stdout",
     "text": [
      "Mounted at /content/drive\n"
     ]
    }
   ],
   "source": [
    "# reading in the data via the Kaggle API\n",
    "\n",
    "# mount your Google Drive\n",
    "from google.colab import drive\n",
    "drive.mount('/content/drive', force_remount=True)"
   ]
  },
  {
   "cell_type": "code",
   "execution_count": 2,
   "metadata": {
    "colab": {
     "base_uri": "https://localhost:8080/"
    },
    "id": "mJPTz3D7TeQv",
    "outputId": "4da459ad-4a54-452f-e6db-13dd80ca5eef"
   },
   "outputs": [
    {
     "output_type": "stream",
     "name": "stdout",
     "text": [
      "Requirement already satisfied: kaggle in /usr/local/lib/python3.10/dist-packages (1.5.16)\n",
      "Requirement already satisfied: six>=1.10 in /usr/local/lib/python3.10/dist-packages (from kaggle) (1.16.0)\n",
      "Requirement already satisfied: certifi in /usr/local/lib/python3.10/dist-packages (from kaggle) (2023.11.17)\n",
      "Requirement already satisfied: python-dateutil in /usr/local/lib/python3.10/dist-packages (from kaggle) (2.8.2)\n",
      "Requirement already satisfied: requests in /usr/local/lib/python3.10/dist-packages (from kaggle) (2.31.0)\n",
      "Requirement already satisfied: tqdm in /usr/local/lib/python3.10/dist-packages (from kaggle) (4.66.1)\n",
      "Requirement already satisfied: python-slugify in /usr/local/lib/python3.10/dist-packages (from kaggle) (8.0.1)\n",
      "Requirement already satisfied: urllib3 in /usr/local/lib/python3.10/dist-packages (from kaggle) (2.0.7)\n",
      "Requirement already satisfied: bleach in /usr/local/lib/python3.10/dist-packages (from kaggle) (6.1.0)\n",
      "Requirement already satisfied: webencodings in /usr/local/lib/python3.10/dist-packages (from bleach->kaggle) (0.5.1)\n",
      "Requirement already satisfied: text-unidecode>=1.3 in /usr/local/lib/python3.10/dist-packages (from python-slugify->kaggle) (1.3)\n",
      "Requirement already satisfied: charset-normalizer<4,>=2 in /usr/local/lib/python3.10/dist-packages (from requests->kaggle) (3.3.2)\n",
      "Requirement already satisfied: idna<4,>=2.5 in /usr/local/lib/python3.10/dist-packages (from requests->kaggle) (3.6)\n",
      "Collecting tensorflow_addons\n",
      "  Downloading tensorflow_addons-0.23.0-cp310-cp310-manylinux_2_17_x86_64.manylinux2014_x86_64.whl (611 kB)\n",
      "\u001B[2K     \u001B[90m━━━━━━━━━━━━━━━━━━━━━━━━━━━━━━━━━━━━━━━━\u001B[0m \u001B[32m611.8/611.8 kB\u001B[0m \u001B[31m6.5 MB/s\u001B[0m eta \u001B[36m0:00:00\u001B[0m\n",
      "\u001B[?25hRequirement already satisfied: packaging in /usr/local/lib/python3.10/dist-packages (from tensorflow_addons) (23.2)\n",
      "Collecting typeguard<3.0.0,>=2.7 (from tensorflow_addons)\n",
      "  Downloading typeguard-2.13.3-py3-none-any.whl (17 kB)\n",
      "Installing collected packages: typeguard, tensorflow_addons\n",
      "Successfully installed tensorflow_addons-0.23.0 typeguard-2.13.3\n",
      "Requirement already satisfied: tensorflow in /usr/local/lib/python3.10/dist-packages (2.15.0)\n",
      "Requirement already satisfied: absl-py>=1.0.0 in /usr/local/lib/python3.10/dist-packages (from tensorflow) (1.4.0)\n",
      "Requirement already satisfied: astunparse>=1.6.0 in /usr/local/lib/python3.10/dist-packages (from tensorflow) (1.6.3)\n",
      "Requirement already satisfied: flatbuffers>=23.5.26 in /usr/local/lib/python3.10/dist-packages (from tensorflow) (23.5.26)\n",
      "Requirement already satisfied: gast!=0.5.0,!=0.5.1,!=0.5.2,>=0.2.1 in /usr/local/lib/python3.10/dist-packages (from tensorflow) (0.5.4)\n",
      "Requirement already satisfied: google-pasta>=0.1.1 in /usr/local/lib/python3.10/dist-packages (from tensorflow) (0.2.0)\n",
      "Requirement already satisfied: h5py>=2.9.0 in /usr/local/lib/python3.10/dist-packages (from tensorflow) (3.9.0)\n",
      "Requirement already satisfied: libclang>=13.0.0 in /usr/local/lib/python3.10/dist-packages (from tensorflow) (16.0.6)\n",
      "Requirement already satisfied: ml-dtypes~=0.2.0 in /usr/local/lib/python3.10/dist-packages (from tensorflow) (0.2.0)\n",
      "Requirement already satisfied: numpy<2.0.0,>=1.23.5 in /usr/local/lib/python3.10/dist-packages (from tensorflow) (1.23.5)\n",
      "Requirement already satisfied: opt-einsum>=2.3.2 in /usr/local/lib/python3.10/dist-packages (from tensorflow) (3.3.0)\n",
      "Requirement already satisfied: packaging in /usr/local/lib/python3.10/dist-packages (from tensorflow) (23.2)\n",
      "Requirement already satisfied: protobuf!=4.21.0,!=4.21.1,!=4.21.2,!=4.21.3,!=4.21.4,!=4.21.5,<5.0.0dev,>=3.20.3 in /usr/local/lib/python3.10/dist-packages (from tensorflow) (3.20.3)\n",
      "Requirement already satisfied: setuptools in /usr/local/lib/python3.10/dist-packages (from tensorflow) (67.7.2)\n",
      "Requirement already satisfied: six>=1.12.0 in /usr/local/lib/python3.10/dist-packages (from tensorflow) (1.16.0)\n",
      "Requirement already satisfied: termcolor>=1.1.0 in /usr/local/lib/python3.10/dist-packages (from tensorflow) (2.4.0)\n",
      "Requirement already satisfied: typing-extensions>=3.6.6 in /usr/local/lib/python3.10/dist-packages (from tensorflow) (4.5.0)\n",
      "Requirement already satisfied: wrapt<1.15,>=1.11.0 in /usr/local/lib/python3.10/dist-packages (from tensorflow) (1.14.1)\n",
      "Requirement already satisfied: tensorflow-io-gcs-filesystem>=0.23.1 in /usr/local/lib/python3.10/dist-packages (from tensorflow) (0.34.0)\n",
      "Requirement already satisfied: grpcio<2.0,>=1.24.3 in /usr/local/lib/python3.10/dist-packages (from tensorflow) (1.60.0)\n",
      "Requirement already satisfied: tensorboard<2.16,>=2.15 in /usr/local/lib/python3.10/dist-packages (from tensorflow) (2.15.1)\n",
      "Requirement already satisfied: tensorflow-estimator<2.16,>=2.15.0 in /usr/local/lib/python3.10/dist-packages (from tensorflow) (2.15.0)\n",
      "Requirement already satisfied: keras<2.16,>=2.15.0 in /usr/local/lib/python3.10/dist-packages (from tensorflow) (2.15.0)\n",
      "Requirement already satisfied: wheel<1.0,>=0.23.0 in /usr/local/lib/python3.10/dist-packages (from astunparse>=1.6.0->tensorflow) (0.42.0)\n",
      "Requirement already satisfied: google-auth<3,>=1.6.3 in /usr/local/lib/python3.10/dist-packages (from tensorboard<2.16,>=2.15->tensorflow) (2.17.3)\n",
      "Requirement already satisfied: google-auth-oauthlib<2,>=0.5 in /usr/local/lib/python3.10/dist-packages (from tensorboard<2.16,>=2.15->tensorflow) (1.2.0)\n",
      "Requirement already satisfied: markdown>=2.6.8 in /usr/local/lib/python3.10/dist-packages (from tensorboard<2.16,>=2.15->tensorflow) (3.5.1)\n",
      "Requirement already satisfied: requests<3,>=2.21.0 in /usr/local/lib/python3.10/dist-packages (from tensorboard<2.16,>=2.15->tensorflow) (2.31.0)\n",
      "Requirement already satisfied: tensorboard-data-server<0.8.0,>=0.7.0 in /usr/local/lib/python3.10/dist-packages (from tensorboard<2.16,>=2.15->tensorflow) (0.7.2)\n",
      "Requirement already satisfied: werkzeug>=1.0.1 in /usr/local/lib/python3.10/dist-packages (from tensorboard<2.16,>=2.15->tensorflow) (3.0.1)\n",
      "Requirement already satisfied: cachetools<6.0,>=2.0.0 in /usr/local/lib/python3.10/dist-packages (from google-auth<3,>=1.6.3->tensorboard<2.16,>=2.15->tensorflow) (5.3.2)\n",
      "Requirement already satisfied: pyasn1-modules>=0.2.1 in /usr/local/lib/python3.10/dist-packages (from google-auth<3,>=1.6.3->tensorboard<2.16,>=2.15->tensorflow) (0.3.0)\n",
      "Requirement already satisfied: rsa<5,>=3.1.4 in /usr/local/lib/python3.10/dist-packages (from google-auth<3,>=1.6.3->tensorboard<2.16,>=2.15->tensorflow) (4.9)\n",
      "Requirement already satisfied: requests-oauthlib>=0.7.0 in /usr/local/lib/python3.10/dist-packages (from google-auth-oauthlib<2,>=0.5->tensorboard<2.16,>=2.15->tensorflow) (1.3.1)\n",
      "Requirement already satisfied: charset-normalizer<4,>=2 in /usr/local/lib/python3.10/dist-packages (from requests<3,>=2.21.0->tensorboard<2.16,>=2.15->tensorflow) (3.3.2)\n",
      "Requirement already satisfied: idna<4,>=2.5 in /usr/local/lib/python3.10/dist-packages (from requests<3,>=2.21.0->tensorboard<2.16,>=2.15->tensorflow) (3.6)\n",
      "Requirement already satisfied: urllib3<3,>=1.21.1 in /usr/local/lib/python3.10/dist-packages (from requests<3,>=2.21.0->tensorboard<2.16,>=2.15->tensorflow) (2.0.7)\n",
      "Requirement already satisfied: certifi>=2017.4.17 in /usr/local/lib/python3.10/dist-packages (from requests<3,>=2.21.0->tensorboard<2.16,>=2.15->tensorflow) (2023.11.17)\n",
      "Requirement already satisfied: MarkupSafe>=2.1.1 in /usr/local/lib/python3.10/dist-packages (from werkzeug>=1.0.1->tensorboard<2.16,>=2.15->tensorflow) (2.1.3)\n",
      "Requirement already satisfied: pyasn1<0.6.0,>=0.4.6 in /usr/local/lib/python3.10/dist-packages (from pyasn1-modules>=0.2.1->google-auth<3,>=1.6.3->tensorboard<2.16,>=2.15->tensorflow) (0.5.1)\n",
      "Requirement already satisfied: oauthlib>=3.0.0 in /usr/local/lib/python3.10/dist-packages (from requests-oauthlib>=0.7.0->google-auth-oauthlib<2,>=0.5->tensorboard<2.16,>=2.15->tensorflow) (3.2.2)\n"
     ]
    }
   ],
   "source": [
    "# install Kaggle\n",
    "! pip install kaggle\n",
    "!pip install tensorflow_addons\n",
    "!pip install tensorflow\n"
   ]
  },
  {
   "cell_type": "markdown",
   "metadata": {
    "id": "ZKG1TCddRYTB"
   },
   "source": [
    "Log into your Kaggle account, go to Account > API > Create new API token. You will obtain a kaggle.json file, which you save on your Google Drive directy in my drive."
   ]
  },
  {
   "cell_type": "code",
   "execution_count": 3,
   "metadata": {
    "id": "JgzLj451YDfV"
   },
   "outputs": [],
   "source": [
    "!mkdir ~/.kaggle"
   ]
  },
  {
   "cell_type": "code",
   "execution_count": 4,
   "metadata": {
    "id": "KrsZLalrSI3u"
   },
   "outputs": [],
   "source": [
    "#read in your Kaggle credentials from Google Drive\n",
    "!cp /content/drive/MyDrive/Kaggle/kaggle.json ~/.kaggle/kaggle.json\n"
   ]
  },
  {
   "cell_type": "code",
   "execution_count": 5,
   "metadata": {
    "colab": {
     "base_uri": "https://localhost:8080/"
    },
    "id": "BDI60LXKTPzf",
    "outputId": "a1c5e265-fca1-4890-fa7c-ebf5ffcc6f0f"
   },
   "outputs": [
    {
     "output_type": "stream",
     "name": "stdout",
     "text": [
      "Downloading detecting-french-texts-difficulty-level-2023.zip to /content\n",
      "\r  0% 0.00/303k [00:00<?, ?B/s]\n",
      "\r100% 303k/303k [00:00<00:00, 77.6MB/s]\n"
     ]
    }
   ],
   "source": [
    "! kaggle competitions download -c detecting-french-texts-difficulty-level-2023\n",
    "from zipfile import ZipFile\n",
    "with ZipFile('detecting-french-texts-difficulty-level-2023.zip','r') as zip:\n",
    "  zip.extractall(path=\"\")"
   ]
  },
  {
   "cell_type": "markdown",
   "metadata": {
    "id": "HHb-bzEFOdNv"
   },
   "source": [
    "# Begining of the model#"
   ]
  },
  {
   "cell_type": "markdown",
   "metadata": {
    "id": "nvsJcuCpQLx8"
   },
   "source": [
    "## Imports##"
   ]
  },
  {
   "cell_type": "markdown",
   "source": [
    "######For this model we decide to use the LSTM model. I discover this model in a Information Security and Privacy course. This model was use for human recognition activities. I decided to do some research about this model and I decided to try this one for this problem.\n",
    "\n",
    "#####LSTM model improve in terms of efficiency by memorizing the important informations. He will ignore the no important information and take in consideration the important information.  "
   ],
   "metadata": {
    "id": "7d1g24QgyX2C"
   }
  },
  {
   "cell_type": "code",
   "execution_count": 6,
   "metadata": {
    "id": "WcPM_kAfQJ3E",
    "colab": {
     "base_uri": "https://localhost:8080/"
    },
    "outputId": "f4bdf2de-bbfd-4180-8e33-cc50930e15d3"
   },
   "outputs": [
    {
     "output_type": "stream",
     "name": "stderr",
     "text": [
      "/usr/local/lib/python3.10/dist-packages/tensorflow_addons/utils/tfa_eol_msg.py:23: UserWarning: \n",
      "\n",
      "TensorFlow Addons (TFA) has ended development and introduction of new features.\n",
      "TFA has entered a minimal maintenance and release mode until a planned end of life in May 2024.\n",
      "Please modify downstream libraries to take dependencies from other repositories in our TensorFlow community (e.g. Keras, Keras-CV, and Keras-NLP). \n",
      "\n",
      "For more information see: https://github.com/tensorflow/addons/issues/2807 \n",
      "\n",
      "  warnings.warn(\n"
     ]
    }
   ],
   "source": [
    "import pandas as pd\n",
    "import numpy as np\n",
    "import seaborn as sns\n",
    "import matplotlib.pyplot as plt\n",
    "import tensorflow_addons as tfa\n",
    "import string\n",
    "from sklearn.metrics import precision_score, recall_score, f1_score, accuracy_score, confusion_matrix\n",
    "from sklearn.preprocessing import LabelEncoder\n",
    "from keras.models import Sequential\n",
    "from keras.layers import Dense, LSTM, Embedding, SpatialDropout1D\n",
    "from keras.preprocessing.sequence import pad_sequences\n",
    "from keras.preprocessing.text import Tokenizer\n",
    "from tensorflow.keras.utils import to_categorical\n",
    "from torch.optim import AdamW\n",
    "from sklearn.model_selection import train_test_split\n",
    "from google.colab import files\n",
    "\n",
    "df = pd.read_csv('training_data.csv', index_col='id')\n",
    "df_pred = pd.read_csv('unlabelled_test_data.csv', index_col='id')"
   ]
  },
  {
   "cell_type": "code",
   "source": [],
   "metadata": {
    "id": "UckDRedeQ3YH"
   },
   "execution_count": 6,
   "outputs": []
  },
  {
   "cell_type": "markdown",
   "source": [
    "##### Here we try to evaluate what is the best maxlen parameters for the pad_sequences. We have 99% of the dataset where the number of words are less thant 73."
   ],
   "metadata": {
    "id": "5Ko4CzcLxdqS"
   }
  },
  {
   "cell_type": "code",
   "execution_count": 7,
   "metadata": {
    "colab": {
     "base_uri": "https://localhost:8080/",
     "height": 489
    },
    "id": "VxRSnk5bhTp8",
    "outputId": "39475f06-7188-48d7-8833-8a5d6f09b7c1"
   },
   "outputs": [
    {
     "output_type": "stream",
     "name": "stdout",
     "text": [
      "Mean: 18.168541666666666, Median: 14.0, 95th percentile: 73.02000000000044, maximum: 265\n"
     ]
    },
    {
     "output_type": "display_data",
     "data": {
      "text/plain": [
       "<Figure size 640x480 with 1 Axes>"
      ],
      "image/png": "[encoded data removed]"
     },
     "metadata": {}
    }
   ],
   "source": [
    "df['length'] = [len(length.split()) for length in df['sentence']]\n",
    "mean_length_sentence = np.mean(df['length'])\n",
    "median_length_sentence = np.median(df['length'])\n",
    "percentile_95_length_sentence = np.percentile(df['length'], 99)\n",
    "max_length_sentence = np.max(df['length'])\n",
    "\n",
    "print(f\"Mean: {mean_length_sentence}, Median: {median_length_sentence}, 95th percentile: {percentile_95_length_sentence}, maximum: {max_length_sentence}\")\n",
    "bins = [0, 5, 10, 15, 20, 25, 30, 35, 40, 45, 50]\n",
    "\n",
    "hist, bin_edges = np.histogram(df['length'], bins=bins)\n",
    "\n",
    "plt.bar(range(len(hist)), hist, width=0.5, align='center')\n",
    "plt.title(\"Distribution length sentences\")\n",
    "plt.xlabel(\"Length of sentences\")\n",
    "plt.ylabel(\"Number of sentences\")\n",
    "plt.show()"
   ]
  },
  {
   "cell_type": "markdown",
   "source": [
    "##### We calculate the number of unique words for our model. Who is the input_dim parameter\n",
    "\n",
    "\n"
   ],
   "metadata": {
    "id": "45In3MrgzbFM"
   }
  },
  {
   "cell_type": "code",
   "source": [
    "set_unique_words = set()\n",
    "for sentence in df['sentence']:\n",
    "    words = sentence.translate(str.maketrans('', '', string.punctuation)).lower().split()\n",
    "    set_unique_words.update(words)\n",
    "\n",
    "amount_unique_words = len(set_unique_words) + 1\n",
    "print(f'amount of unique words in the dataset: {amount_unique_words}')"
   ],
   "metadata": {
    "colab": {
     "base_uri": "https://localhost:8080/"
    },
    "id": "Jbx8-v-0zZt0",
    "outputId": "418bc664-6c4e-416a-d63e-55389c405315"
   },
   "execution_count": 8,
   "outputs": [
    {
     "output_type": "stream",
     "name": "stdout",
     "text": [
      "amount of unique words in the dataset: 15773\n"
     ]
    }
   ]
  },
  {
   "cell_type": "code",
   "source": [
    "df\n"
   ],
   "metadata": {
    "colab": {
     "base_uri": "https://localhost:8080/",
     "height": 455
    },
    "id": "i5v45SiPwT9l",
    "outputId": "5a701006-2dd7-4299-d966-781004e2a0e0"
   },
   "execution_count": 9,
   "outputs": [
    {
     "output_type": "execute_result",
     "data": {
      "text/plain": [
       "                                               sentence difficulty  length\n",
       "id                                                                        \n",
       "0     Les coûts kilométriques réels peuvent diverger...         C1      38\n",
       "1     Le bleu, c'est ma couleur préférée mais je n'a...         A1      12\n",
       "2     Le test de niveau en français est sur le site ...         A1      13\n",
       "3              Est-ce que ton mari est aussi de Boston?         A1       8\n",
       "4     Dans les écoles de commerce, dans les couloirs...         B1      34\n",
       "...                                                 ...        ...     ...\n",
       "4795  C'est pourquoi, il décida de remplacer les hab...         B2      26\n",
       "4796  Il avait une de ces pâleurs splendides qui don...         C1      21\n",
       "4797  Et le premier samedi de chaque mois, venez ren...         A2      14\n",
       "4798  Les coûts liés à la journalisation n'étant pas...         C2      32\n",
       "4799  Sur le sable, la mer haletait de toute la resp...         C2      17\n",
       "\n",
       "[4800 rows x 3 columns]"
      ],
      "text/html": [
       "\n",
       "  <div id=\"df-280ddd7e-075f-455f-9f1e-c55bb81ef175\" class=\"colab-df-container\">\n",
       "    <div>\n",
       "<style scoped>\n",
       "    .dataframe tbody tr th:only-of-type {\n",
       "        vertical-align: middle;\n",
       "    }\n",
       "\n",
       "    .dataframe tbody tr th {\n",
       "        vertical-align: top;\n",
       "    }\n",
       "\n",
       "    .dataframe thead th {\n",
       "        text-align: right;\n",
       "    }\n",
       "</style>\n",
       "<table border=\"1\" class=\"dataframe\">\n",
       "  <thead>\n",
       "    <tr style=\"text-align: right;\">\n",
       "      <th></th>\n",
       "      <th>sentence</th>\n",
       "      <th>difficulty</th>\n",
       "      <th>length</th>\n",
       "    </tr>\n",
       "    <tr>\n",
       "      <th>id</th>\n",
       "      <th></th>\n",
       "      <th></th>\n",
       "      <th></th>\n",
       "    </tr>\n",
       "  </thead>\n",
       "  <tbody>\n",
       "    <tr>\n",
       "      <th>0</th>\n",
       "      <td>Les coûts kilométriques réels peuvent diverger...</td>\n",
       "      <td>C1</td>\n",
       "      <td>38</td>\n",
       "    </tr>\n",
       "    <tr>\n",
       "      <th>1</th>\n",
       "      <td>Le bleu, c'est ma couleur préférée mais je n'a...</td>\n",
       "      <td>A1</td>\n",
       "      <td>12</td>\n",
       "    </tr>\n",
       "    <tr>\n",
       "      <th>2</th>\n",
       "      <td>Le test de niveau en français est sur le site ...</td>\n",
       "      <td>A1</td>\n",
       "      <td>13</td>\n",
       "    </tr>\n",
       "    <tr>\n",
       "      <th>3</th>\n",
       "      <td>Est-ce que ton mari est aussi de Boston?</td>\n",
       "      <td>A1</td>\n",
       "      <td>8</td>\n",
       "    </tr>\n",
       "    <tr>\n",
       "      <th>4</th>\n",
       "      <td>Dans les écoles de commerce, dans les couloirs...</td>\n",
       "      <td>B1</td>\n",
       "      <td>34</td>\n",
       "    </tr>\n",
       "    <tr>\n",
       "      <th>...</th>\n",
       "      <td>...</td>\n",
       "      <td>...</td>\n",
       "      <td>...</td>\n",
       "    </tr>\n",
       "    <tr>\n",
       "      <th>4795</th>\n",
       "      <td>C'est pourquoi, il décida de remplacer les hab...</td>\n",
       "      <td>B2</td>\n",
       "      <td>26</td>\n",
       "    </tr>\n",
       "    <tr>\n",
       "      <th>4796</th>\n",
       "      <td>Il avait une de ces pâleurs splendides qui don...</td>\n",
       "      <td>C1</td>\n",
       "      <td>21</td>\n",
       "    </tr>\n",
       "    <tr>\n",
       "      <th>4797</th>\n",
       "      <td>Et le premier samedi de chaque mois, venez ren...</td>\n",
       "      <td>A2</td>\n",
       "      <td>14</td>\n",
       "    </tr>\n",
       "    <tr>\n",
       "      <th>4798</th>\n",
       "      <td>Les coûts liés à la journalisation n'étant pas...</td>\n",
       "      <td>C2</td>\n",
       "      <td>32</td>\n",
       "    </tr>\n",
       "    <tr>\n",
       "      <th>4799</th>\n",
       "      <td>Sur le sable, la mer haletait de toute la resp...</td>\n",
       "      <td>C2</td>\n",
       "      <td>17</td>\n",
       "    </tr>\n",
       "  </tbody>\n",
       "</table>\n",
       "<p>4800 rows × 3 columns</p>\n",
       "</div>\n",
       "    <div class=\"colab-df-buttons\">\n",
       "\n",
       "  <div class=\"colab-df-container\">\n",
       "    <button class=\"colab-df-convert\" onclick=\"convertToInteractive('df-280ddd7e-075f-455f-9f1e-c55bb81ef175')\"\n",
       "            title=\"Convert this dataframe to an interactive table.\"\n",
       "            style=\"display:none;\">\n",
       "\n",
       "  <svg xmlns=\"http://www.w3.org/2000/svg\" height=\"24px\" viewBox=\"0 -960 960 960\">\n",
       "    <path d=\"M120-120v-720h720v720H120Zm60-500h600v-160H180v160Zm220 220h160v-160H400v160Zm0 220h160v-160H400v160ZM180-400h160v-160H180v160Zm440 0h160v-160H620v160ZM180-180h160v-160H180v160Zm440 0h160v-160H620v160Z\"/>\n",
       "  </svg>\n",
       "    </button>\n",
       "\n",
       "  <style>\n",
       "    .colab-df-container {\n",
       "      display:flex;\n",
       "      gap: 12px;\n",
       "    }\n",
       "\n",
       "    .colab-df-convert {\n",
       "      background-color: #E8F0FE;\n",
       "      border: none;\n",
       "      border-radius: 50%;\n",
       "      cursor: pointer;\n",
       "      display: none;\n",
       "      fill: #1967D2;\n",
       "      height: 32px;\n",
       "      padding: 0 0 0 0;\n",
       "      width: 32px;\n",
       "    }\n",
       "\n",
       "    .colab-df-convert:hover {\n",
       "      background-color: #E2EBFA;\n",
       "      box-shadow: 0px 1px 2px rgba(60, 64, 67, 0.3), 0px 1px 3px 1px rgba(60, 64, 67, 0.15);\n",
       "      fill: #174EA6;\n",
       "    }\n",
       "\n",
       "    .colab-df-buttons div {\n",
       "      margin-bottom: 4px;\n",
       "    }\n",
       "\n",
       "    [theme=dark] .colab-df-convert {\n",
       "      background-color: #3B4455;\n",
       "      fill: #D2E3FC;\n",
       "    }\n",
       "\n",
       "    [theme=dark] .colab-df-convert:hover {\n",
       "      background-color: #434B5C;\n",
       "      box-shadow: 0px 1px 3px 1px rgba(0, 0, 0, 0.15);\n",
       "      filter: drop-shadow(0px 1px 2px rgba(0, 0, 0, 0.3));\n",
       "      fill: #FFFFFF;\n",
       "    }\n",
       "  </style>\n",
       "\n",
       "    <script>\n",
       "      const buttonEl =\n",
       "        document.querySelector('#df-280ddd7e-075f-455f-9f1e-c55bb81ef175 button.colab-df-convert');\n",
       "      buttonEl.style.display =\n",
       "        google.colab.kernel.accessAllowed ? 'block' : 'none';\n",
       "\n",
       "      async function convertToInteractive(key) {\n",
       "        const element = document.querySelector('#df-280ddd7e-075f-455f-9f1e-c55bb81ef175');\n",
       "        const dataTable =\n",
       "          await google.colab.kernel.invokeFunction('convertToInteractive',\n",
       "                                                    [key], {});\n",
       "        if (!dataTable) return;\n",
       "\n",
       "        const docLinkHtml = 'Like what you see? Visit the ' +\n",
       "          '<a target=\"_blank\" href=https://colab.research.google.com/notebooks/data_table.ipynb>data table notebook</a>'\n",
       "          + ' to learn more about interactive tables.';\n",
       "        element.innerHTML = '';\n",
       "        dataTable['output_type'] = 'display_data';\n",
       "        await google.colab.output.renderOutput(dataTable, element);\n",
       "        const docLink = document.createElement('div');\n",
       "        docLink.innerHTML = docLinkHtml;\n",
       "        element.appendChild(docLink);\n",
       "      }\n",
       "    </script>\n",
       "  </div>\n",
       "\n",
       "\n",
       "<div id=\"df-4aadf51a-07df-4b6d-b5da-e7a0b9a8b15e\">\n",
       "  <button class=\"colab-df-quickchart\" onclick=\"quickchart('df-4aadf51a-07df-4b6d-b5da-e7a0b9a8b15e')\"\n",
       "            title=\"Suggest charts\"\n",
       "            style=\"display:none;\">\n",
       "\n",
       "<svg xmlns=\"http://www.w3.org/2000/svg\" height=\"24px\"viewBox=\"0 0 24 24\"\n",
       "     width=\"24px\">\n",
       "    <g>\n",
       "        <path d=\"M19 3H5c-1.1 0-2 .9-2 2v14c0 1.1.9 2 2 2h14c1.1 0 2-.9 2-2V5c0-1.1-.9-2-2-2zM9 17H7v-7h2v7zm4 0h-2V7h2v10zm4 0h-2v-4h2v4z\"/>\n",
       "    </g>\n",
       "</svg>\n",
       "  </button>\n",
       "\n",
       "<style>\n",
       "  .colab-df-quickchart {\n",
       "      --bg-color: #E8F0FE;\n",
       "      --fill-color: #1967D2;\n",
       "      --hover-bg-color: #E2EBFA;\n",
       "      --hover-fill-color: #174EA6;\n",
       "      --disabled-fill-color: #AAA;\n",
       "      --disabled-bg-color: #DDD;\n",
       "  }\n",
       "\n",
       "  [theme=dark] .colab-df-quickchart {\n",
       "      --bg-color: #3B4455;\n",
       "      --fill-color: #D2E3FC;\n",
       "      --hover-bg-color: #434B5C;\n",
       "      --hover-fill-color: #FFFFFF;\n",
       "      --disabled-bg-color: #3B4455;\n",
       "      --disabled-fill-color: #666;\n",
       "  }\n",
       "\n",
       "  .colab-df-quickchart {\n",
       "    background-color: var(--bg-color);\n",
       "    border: none;\n",
       "    border-radius: 50%;\n",
       "    cursor: pointer;\n",
       "    display: none;\n",
       "    fill: var(--fill-color);\n",
       "    height: 32px;\n",
       "    padding: 0;\n",
       "    width: 32px;\n",
       "  }\n",
       "\n",
       "  .colab-df-quickchart:hover {\n",
       "    background-color: var(--hover-bg-color);\n",
       "    box-shadow: 0 1px 2px rgba(60, 64, 67, 0.3), 0 1px 3px 1px rgba(60, 64, 67, 0.15);\n",
       "    fill: var(--button-hover-fill-color);\n",
       "  }\n",
       "\n",
       "  .colab-df-quickchart-complete:disabled,\n",
       "  .colab-df-quickchart-complete:disabled:hover {\n",
       "    background-color: var(--disabled-bg-color);\n",
       "    fill: var(--disabled-fill-color);\n",
       "    box-shadow: none;\n",
       "  }\n",
       "\n",
       "  .colab-df-spinner {\n",
       "    border: 2px solid var(--fill-color);\n",
       "    border-color: transparent;\n",
       "    border-bottom-color: var(--fill-color);\n",
       "    animation:\n",
       "      spin 1s steps(1) infinite;\n",
       "  }\n",
       "\n",
       "  @keyframes spin {\n",
       "    0% {\n",
       "      border-color: transparent;\n",
       "      border-bottom-color: var(--fill-color);\n",
       "      border-left-color: var(--fill-color);\n",
       "    }\n",
       "    20% {\n",
       "      border-color: transparent;\n",
       "      border-left-color: var(--fill-color);\n",
       "      border-top-color: var(--fill-color);\n",
       "    }\n",
       "    30% {\n",
       "      border-color: transparent;\n",
       "      border-left-color: var(--fill-color);\n",
       "      border-top-color: var(--fill-color);\n",
       "      border-right-color: var(--fill-color);\n",
       "    }\n",
       "    40% {\n",
       "      border-color: transparent;\n",
       "      border-right-color: var(--fill-color);\n",
       "      border-top-color: var(--fill-color);\n",
       "    }\n",
       "    60% {\n",
       "      border-color: transparent;\n",
       "      border-right-color: var(--fill-color);\n",
       "    }\n",
       "    80% {\n",
       "      border-color: transparent;\n",
       "      border-right-color: var(--fill-color);\n",
       "      border-bottom-color: var(--fill-color);\n",
       "    }\n",
       "    90% {\n",
       "      border-color: transparent;\n",
       "      border-bottom-color: var(--fill-color);\n",
       "    }\n",
       "  }\n",
       "</style>\n",
       "\n",
       "  <script>\n",
       "    async function quickchart(key) {\n",
       "      const quickchartButtonEl =\n",
       "        document.querySelector('#' + key + ' button');\n",
       "      quickchartButtonEl.disabled = true;  // To prevent multiple clicks.\n",
       "      quickchartButtonEl.classList.add('colab-df-spinner');\n",
       "      try {\n",
       "        const charts = await google.colab.kernel.invokeFunction(\n",
       "            'suggestCharts', [key], {});\n",
       "      } catch (error) {\n",
       "        console.error('Error during call to suggestCharts:', error);\n",
       "      }\n",
       "      quickchartButtonEl.classList.remove('colab-df-spinner');\n",
       "      quickchartButtonEl.classList.add('colab-df-quickchart-complete');\n",
       "    }\n",
       "    (() => {\n",
       "      let quickchartButtonEl =\n",
       "        document.querySelector('#df-4aadf51a-07df-4b6d-b5da-e7a0b9a8b15e button');\n",
       "      quickchartButtonEl.style.display =\n",
       "        google.colab.kernel.accessAllowed ? 'block' : 'none';\n",
       "    })();\n",
       "  </script>\n",
       "</div>\n",
       "    </div>\n",
       "  </div>\n"
      ]
     },
     "metadata": {},
     "execution_count": 9
    }
   ]
  },
  {
   "cell_type": "code",
   "execution_count": 10,
   "metadata": {
    "id": "l97F4TgticgH"
   },
   "outputs": [],
   "source": [
    "X = df['sentence']\n",
    "Y = df['difficulty']"
   ]
  },
  {
   "cell_type": "markdown",
   "source": [
    "#####In this part we tokenize our sentences and encode what we want to predict the difficulty"
   ],
   "metadata": {
    "id": "uvp1hxgLz28O"
   }
  },
  {
   "cell_type": "code",
   "execution_count": 11,
   "metadata": {
    "id": "LGU8vdNtTRxC"
   },
   "outputs": [],
   "source": [
    "tokenizer = Tokenizer(num_words=15773)\n",
    "tokenizer.fit_on_texts(X)\n",
    "\n",
    "X_train = tokenizer.texts_to_sequences(X)\n",
    "X_train_padded = pad_sequences(X_train, maxlen=265)\n",
    "\n",
    "label_encoder = LabelEncoder()\n",
    "Y_encoded = label_encoder.fit_transform(Y)\n",
    "Y_categorical = to_categorical(Y_encoded)"
   ]
  },
  {
   "cell_type": "code",
   "source": [
    "X_train, X_test, Y_train, Y_test = train_test_split(X_train_padded, Y_categorical, test_size=0.2, random_state=42)"
   ],
   "metadata": {
    "id": "TxGCud1oRckl"
   },
   "execution_count": 12,
   "outputs": []
  },
  {
   "cell_type": "markdown",
   "source": [
    "#####After some data transformation we can construct our model. And as all our models we split 20% of our data."
   ],
   "metadata": {
    "id": "jXAI9mIx0Hxt"
   }
  },
  {
   "cell_type": "code",
   "execution_count": 13,
   "metadata": {
    "id": "b46ARkSFgAbP",
    "colab": {
     "base_uri": "https://localhost:8080/"
    },
    "outputId": "f122e9e7-126a-4c75-88f8-d0bcb6d6ddbe"
   },
   "outputs": [
    {
     "output_type": "stream",
     "name": "stdout",
     "text": [
      "Epoch 1/5\n",
      "48/48 [==============================] - 91s 2s/step - loss: 1.6138 - accuracy: 0.2936 - val_loss: 1.4951 - val_accuracy: 0.3268\n",
      "Epoch 2/5\n",
      "48/48 [==============================] - 81s 2s/step - loss: 1.3268 - accuracy: 0.4281 - val_loss: 1.3903 - val_accuracy: 0.3698\n",
      "Epoch 3/5\n",
      "48/48 [==============================] - 75s 2s/step - loss: 0.9832 - accuracy: 0.6077 - val_loss: 1.3394 - val_accuracy: 0.4284\n",
      "Epoch 4/5\n",
      "48/48 [==============================] - 83s 2s/step - loss: 0.6077 - accuracy: 0.8018 - val_loss: 1.4031 - val_accuracy: 0.4206\n",
      "Epoch 5/5\n",
      "48/48 [==============================] - 81s 2s/step - loss: 0.3095 - accuracy: 0.9121 - val_loss: 1.6037 - val_accuracy: 0.4310\n",
      "30/30 [==============================] - 4s 110ms/step\n"
     ]
    }
   ],
   "source": [
    "model = Sequential()\n",
    "model.add(Embedding(input_dim=15773, output_dim=300, input_length=265))\n",
    "model.add(SpatialDropout1D(0.2))\n",
    "model.add(LSTM(100, dropout=0.2, recurrent_dropout=0.2))\n",
    "model.add(Dense(6, activation='softmax'))\n",
    "\n",
    "model.compile(loss='categorical_crossentropy', optimizer=tfa.optimizers.AdamW(weight_decay=0.001), metrics=['accuracy'])\n",
    "\n",
    "\n",
    "model.fit(X_train, Y_train, batch_size=64, epochs=5, validation_split=0.2)\n",
    "\n",
    "true_difficulty = np.argmax(Y_test, axis=1)\n",
    "pred_difficulty = model.predict(X_test)\n",
    "\n",
    "pred_difficulty_labels = np.argmax(pred_difficulty, axis=1)\n"
   ]
  },
  {
   "cell_type": "markdown",
   "source": [
    "#####We download the model in aim to use it in our streamlit app"
   ],
   "metadata": {
    "id": "RCuEjFpVNSvq"
   }
  },
  {
   "cell_type": "code",
   "source": [
    "model.save('model_LSTM.h5')\n",
    "files.download('model_LSTM.h5')"
   ],
   "metadata": {
    "id": "KCpMzWXbNWnc",
    "colab": {
     "base_uri": "https://localhost:8080/",
     "height": 89
    },
    "outputId": "aa206c88-25a4-4cf8-d464-1cba5b89e28f"
   },
   "execution_count": 23,
   "outputs": [
    {
     "output_type": "stream",
     "name": "stderr",
     "text": [
      "/usr/local/lib/python3.10/dist-packages/keras/src/engine/training.py:3103: UserWarning: You are saving your model as an HDF5 file via `model.save()`. This file format is considered legacy. We recommend using instead the native Keras format, e.g. `model.save('my_model.keras')`.\n",
      "  saving_api.save_model(\n"
     ]
    },
    {
     "output_type": "display_data",
     "data": {
      "text/plain": [
       "<IPython.core.display.Javascript object>"
      ],
      "application/javascript": [
       "\n",
       "    async function download(id, filename, size) {\n",
       "      if (!google.colab.kernel.accessAllowed) {\n",
       "        return;\n",
       "      }\n",
       "      const div = document.createElement('div');\n",
       "      const label = document.createElement('label');\n",
       "      label.textContent = `Downloading \"${filename}\": `;\n",
       "      div.appendChild(label);\n",
       "      const progress = document.createElement('progress');\n",
       "      progress.max = size;\n",
       "      div.appendChild(progress);\n",
       "      document.body.appendChild(div);\n",
       "\n",
       "      const buffers = [];\n",
       "      let downloaded = 0;\n",
       "\n",
       "      const channel = await google.colab.kernel.comms.open(id);\n",
       "      // Send a message to notify the kernel that we're ready.\n",
       "      channel.send({})\n",
       "\n",
       "      for await (const message of channel.messages) {\n",
       "        // Send a message to notify the kernel that we're ready.\n",
       "        channel.send({})\n",
       "        if (message.buffers) {\n",
       "          for (const buffer of message.buffers) {\n",
       "            buffers.push(buffer);\n",
       "            downloaded += buffer.byteLength;\n",
       "            progress.value = downloaded;\n",
       "          }\n",
       "        }\n",
       "      }\n",
       "      const blob = new Blob(buffers, {type: 'application/binary'});\n",
       "      const a = document.createElement('a');\n",
       "      a.href = window.URL.createObjectURL(blob);\n",
       "      a.download = filename;\n",
       "      div.appendChild(a);\n",
       "      a.click();\n",
       "      div.remove();\n",
       "    }\n",
       "  "
      ]
     },
     "metadata": {}
    },
    {
     "output_type": "display_data",
     "data": {
      "text/plain": [
       "<IPython.core.display.Javascript object>"
      ],
      "application/javascript": [
       "download(\"download_96e8773e-349e-412f-b831-0e5f0ab4eeb8\", \"model_LSTM.h5\", 58750096)"
      ]
     },
     "metadata": {}
    }
   ]
  },
  {
   "cell_type": "markdown",
   "source": [
    "##Metrics"
   ],
   "metadata": {
    "id": "GYf25Kbc5iHM"
   }
  },
  {
   "cell_type": "markdown",
   "source": [
    "#####Here we calculate some metrics to see how good our model is"
   ],
   "metadata": {
    "id": "HQg4i5Rj5aUD"
   }
  },
  {
   "cell_type": "code",
   "source": [
    "precision = precision_score(true_difficulty, pred_difficulty_labels, average='macro')\n",
    "recall = recall_score(true_difficulty, pred_difficulty_labels, average='macro')\n",
    "f1 = f1_score(true_difficulty, pred_difficulty_labels, average='macro')\n",
    "accuracy = accuracy_score(true_difficulty, pred_difficulty_labels)\n",
    "\n",
    "print(f\"Precision: {precision}\")\n",
    "print(f\"Recall: {recall}\")\n",
    "print(f\"F1 Score: {f1}\")\n",
    "print(f\"Accuracy: {accuracy}\")"
   ],
   "metadata": {
    "id": "zG3If3BjlJxX",
    "colab": {
     "base_uri": "https://localhost:8080/"
    },
    "outputId": "1c27b2d9-dbcd-4b96-ce12-c9bc3f9e8f0b"
   },
   "execution_count": 14,
   "outputs": [
    {
     "output_type": "stream",
     "name": "stdout",
     "text": [
      "Precision: 0.49341866197650197\n",
      "Recall: 0.4557866818116009\n",
      "F1 Score: 0.4531577134510083\n",
      "Accuracy: 0.45625\n"
     ]
    }
   ]
  },
  {
   "cell_type": "code",
   "source": [
    "pred_difficulty_labels"
   ],
   "metadata": {
    "id": "nlFXdVxy5Bn3",
    "colab": {
     "base_uri": "https://localhost:8080/"
    },
    "outputId": "057a9efc-691c-4ce6-d62d-0ecf8d6ff155"
   },
   "execution_count": 21,
   "outputs": [
    {
     "output_type": "execute_result",
     "data": {
      "text/plain": [
       "array([0, 1, 4, 2, 2, 3, 1, 1, 1, 2, 1, 3, 3, 3, 4, 3, 0, 4, 0, 0, 3, 4,\n",
       "       2, 5, 0, 1, 1, 2, 4, 0, 3, 3, 2, 2, 1, 3, 1, 3, 4, 0, 5, 4, 2, 2,\n",
       "       3, 1, 0, 2, 5, 4, 3, 1, 3, 0, 4, 1, 3, 2, 1, 2, 2, 5, 0, 4, 5, 4,\n",
       "       4, 1, 3, 1, 5, 3, 1, 2, 2, 4, 0, 1, 0, 0, 1, 2, 4, 4, 3, 0, 1, 3,\n",
       "       1, 0, 1, 4, 3, 0, 1, 2, 1, 1, 3, 2, 2, 5, 2, 1, 2, 0, 1, 2, 1, 2,\n",
       "       2, 3, 2, 0, 2, 1, 3, 3, 2, 0, 0, 0, 1, 5, 3, 1, 3, 5, 1, 2, 4, 5,\n",
       "       0, 0, 0, 4, 4, 1, 0, 3, 3, 1, 2, 2, 0, 4, 3, 0, 1, 5, 4, 3, 3, 5,\n",
       "       3, 3, 4, 2, 1, 3, 1, 0, 1, 5, 5, 1, 0, 1, 5, 3, 3, 3, 3, 1, 3, 1,\n",
       "       4, 5, 2, 3, 3, 0, 3, 3, 3, 3, 0, 5, 0, 4, 1, 2, 3, 3, 1, 0, 2, 1,\n",
       "       5, 1, 1, 3, 2, 1, 0, 3, 1, 1, 3, 0, 5, 1, 0, 3, 1, 0, 2, 3, 3, 2,\n",
       "       0, 3, 3, 1, 0, 0, 4, 3, 4, 5, 4, 0, 1, 3, 3, 3, 2, 3, 1, 3, 1, 1,\n",
       "       2, 5, 0, 5, 1, 3, 5, 3, 2, 3, 0, 1, 1, 2, 3, 3, 3, 4, 2, 3, 0, 2,\n",
       "       0, 4, 0, 3, 0, 0, 3, 0, 5, 0, 0, 2, 2, 2, 0, 3, 4, 1, 3, 0, 0, 3,\n",
       "       2, 2, 1, 1, 1, 2, 3, 3, 2, 1, 4, 0, 3, 3, 0, 0, 1, 4, 3, 2, 1, 5,\n",
       "       2, 2, 0, 3, 3, 2, 2, 3, 1, 1, 3, 3, 4, 0, 2, 4, 3, 3, 3, 3, 0, 2,\n",
       "       3, 2, 2, 3, 4, 0, 4, 1, 1, 3, 4, 0, 2, 1, 1, 3, 2, 4, 3, 4, 0, 4,\n",
       "       2, 5, 3, 0, 2, 0, 1, 3, 3, 3, 3, 2, 3, 2, 2, 3, 0, 1, 0, 1, 1, 1,\n",
       "       1, 4, 3, 5, 4, 3, 3, 2, 0, 2, 1, 0, 1, 4, 3, 3, 3, 3, 2, 3, 0, 0,\n",
       "       1, 3, 3, 2, 3, 0, 3, 3, 3, 2, 3, 3, 0, 5, 3, 3, 3, 5, 4, 3, 3, 4,\n",
       "       2, 3, 3, 3, 3, 3, 3, 4, 5, 0, 0, 3, 4, 0, 3, 4, 5, 1, 2, 4, 4, 2,\n",
       "       0, 0, 1, 1, 3, 0, 0, 5, 1, 3, 2, 1, 1, 1, 1, 2, 4, 1, 0, 0, 0, 0,\n",
       "       3, 4, 1, 0, 1, 0, 5, 4, 2, 4, 3, 0, 3, 3, 4, 0, 5, 3, 1, 3, 1, 3,\n",
       "       0, 2, 0, 0, 3, 2, 1, 5, 3, 4, 1, 3, 0, 3, 2, 1, 1, 3, 4, 1, 0, 3,\n",
       "       2, 1, 3, 4, 3, 0, 3, 3, 3, 0, 3, 1, 2, 4, 3, 0, 2, 3, 3, 5, 5, 0,\n",
       "       5, 1, 3, 3, 2, 2, 3, 4, 0, 3, 1, 3, 1, 2, 2, 5, 1, 4, 0, 1, 3, 4,\n",
       "       1, 0, 2, 3, 1, 0, 0, 2, 0, 2, 3, 4, 4, 0, 0, 5, 1, 4, 2, 2, 4, 3,\n",
       "       0, 3, 4, 3, 3, 2, 0, 2, 3, 3, 3, 2, 2, 5, 5, 3, 0, 4, 3, 2, 2, 2,\n",
       "       5, 2, 1, 4, 5, 3, 2, 3, 2, 4, 4, 3, 4, 0, 3, 3, 1, 3, 3, 1, 1, 1,\n",
       "       5, 3, 0, 0, 5, 1, 2, 4, 2, 3, 3, 5, 4, 5, 0, 2, 3, 4, 4, 2, 3, 0,\n",
       "       4, 3, 0, 0, 2, 1, 2, 2, 1, 3, 1, 1, 5, 2, 4, 3, 4, 1, 2, 0, 5, 2,\n",
       "       4, 0, 1, 3, 4, 3, 1, 5, 3, 3, 4, 0, 3, 3, 2, 2, 1, 1, 1, 4, 2, 2,\n",
       "       2, 0, 4, 4, 1, 0, 1, 0, 1, 4, 2, 4, 3, 3, 1, 3, 3, 0, 3, 2, 4, 3,\n",
       "       5, 1, 0, 2, 1, 3, 1, 5, 2, 3, 3, 3, 3, 5, 2, 0, 2, 1, 3, 1, 4, 4,\n",
       "       5, 3, 3, 3, 2, 4, 1, 3, 3, 2, 2, 0, 5, 0, 2, 2, 3, 0, 3, 2, 3, 0,\n",
       "       1, 2, 2, 0, 3, 1, 0, 3, 3, 3, 0, 3, 2, 3, 3, 2, 1, 0, 3, 3, 3, 0,\n",
       "       3, 0, 1, 2, 2, 5, 0, 3, 0, 4, 1, 5, 3, 1, 2, 0, 5, 4, 3, 1, 2, 3,\n",
       "       0, 1, 3, 1, 4, 3, 4, 0, 3, 0, 1, 2, 1, 3, 1, 0, 2, 4, 3, 3, 2, 4,\n",
       "       3, 2, 0, 5, 1, 4, 0, 3, 3, 1, 3, 1, 3, 5, 3, 3, 0, 0, 0, 2, 0, 0,\n",
       "       4, 3, 2, 2, 2, 3, 2, 3, 1, 3, 2, 1, 3, 1, 1, 3, 2, 3, 2, 3, 3, 1,\n",
       "       3, 5, 1, 1, 1, 3, 2, 3, 2, 1, 0, 0, 3, 1, 3, 0, 3, 2, 4, 2, 0, 2,\n",
       "       1, 3, 1, 1, 1, 4, 2, 2, 1, 1, 3, 3, 2, 1, 3, 0, 2, 3, 3, 3, 1, 3,\n",
       "       2, 0, 1, 3, 4, 4, 3, 4, 2, 5, 1, 0, 4, 1, 0, 5, 0, 3, 2, 1, 3, 1,\n",
       "       3, 2, 0, 3, 1, 3, 3, 3, 5, 1, 0, 0, 2, 4, 2, 1, 0, 3, 3, 2, 0, 1,\n",
       "       5, 2, 0, 0, 5, 3, 5, 0, 2, 0, 5, 3, 3, 3])"
      ]
     },
     "metadata": {},
     "execution_count": 21
    }
   ]
  },
  {
   "cell_type": "code",
   "source": [
    "conf_matrix = confusion_matrix(pred_difficulty_labels,true_difficulty)\n",
    "difficulty_labels=[\"A1\",\"A2\",\"B1\",\"B2\",\"C1\",\"C2\"]\n",
    "sns.heatmap(conf_matrix, annot=True, fmt='g',xticklabels=difficulty_labels,yticklabels=difficulty_labels,cmap=\"Greens\")\n",
    "plt.xlabel('Predicted difficulty levels')\n",
    "plt.ylabel('True difficulty levels')\n",
    "plt.title('Confusion matrix')\n",
    "plt.show()"
   ],
   "metadata": {
    "id": "g-GM8cc_lNNz",
    "colab": {
     "base_uri": "https://localhost:8080/",
     "height": 472
    },
    "outputId": "5abdcb1a-7a2e-4b0e-c79d-2d49fba8cab8"
   },
   "execution_count": 22,
   "outputs": [
    {
     "output_type": "display_data",
     "data": {
      "text/plain": [
       "<Figure size 640x480 with 2 Axes>"
      ],
      "image/png": "[encoded data removed]"
     },
     "metadata": {}
    }
   ]
  },
  {
   "cell_type": "markdown",
   "source": [
    "##Predictions"
   ],
   "metadata": {
    "id": "d_lesYZi5-tU"
   }
  },
  {
   "cell_type": "markdown",
   "source": [
    "#####And then we use our model to predict our unlabelled data"
   ],
   "metadata": {
    "id": "j0Nuggak6A7v"
   }
  },
  {
   "cell_type": "code",
   "execution_count": 17,
   "metadata": {
    "id": "aPHY2cFJZuYY",
    "colab": {
     "base_uri": "https://localhost:8080/"
    },
    "outputId": "ba48c095-6388-45d1-86b0-40cc14773d0f"
   },
   "outputs": [
    {
     "output_type": "stream",
     "name": "stdout",
     "text": [
      "38/38 [==============================] - 10s 248ms/step\n"
     ]
    }
   ],
   "source": [
    "new_sentences =df_pred['sentence']\n",
    "\n",
    "new_sequences = tokenizer.texts_to_sequences(new_sentences)\n",
    "\n",
    "new_padded = pad_sequences(new_sequences, maxlen=100)\n",
    "\n",
    "new_predictions = model.predict(new_padded)\n",
    "\n",
    "predicted_classes = np.argmax(new_predictions, axis=1)\n",
    "predicted_labels = label_encoder.inverse_transform(predicted_classes)\n"
   ]
  },
  {
   "cell_type": "code",
   "execution_count": 18,
   "metadata": {
    "id": "KOEe1sY-q2Y6",
    "colab": {
     "base_uri": "https://localhost:8080/",
     "height": 455
    },
    "outputId": "f71cfcaf-654b-4e63-b35a-d568464002af"
   },
   "outputs": [
    {
     "output_type": "execute_result",
     "data": {
      "text/plain": [
       "                                               sentence predicted_difficulty\n",
       "id                                                                          \n",
       "0     Nous dûmes nous excuser des propos que nous eû...                   B1\n",
       "1     Vous ne pouvez pas savoir le plaisir que j'ai ...                   A2\n",
       "2     Et, paradoxalement, boire froid n'est pas la b...                   A2\n",
       "3     Ce n'est pas étonnant, car c'est une saison my...                   A2\n",
       "4     Le corps de Golo lui-même, d'une essence aussi...                   C2\n",
       "...                                                 ...                  ...\n",
       "1195  C'est un phénomène qui trouve une accélération...                   B1\n",
       "1196  Je vais parler au serveur et voir si on peut d...                   A2\n",
       "1197  Il n'était pas comme tant de gens qui par pare...                   C2\n",
       "1198      Ils deviennent dangereux pour notre économie.                   A1\n",
       "1199  Son succès a généré beaucoup de réactions néga...                   B1\n",
       "\n",
       "[1200 rows x 2 columns]"
      ],
      "text/html": [
       "\n",
       "  <div id=\"df-8634ddf4-18c2-471f-8496-cd72f5346054\" class=\"colab-df-container\">\n",
       "    <div>\n",
       "<style scoped>\n",
       "    .dataframe tbody tr th:only-of-type {\n",
       "        vertical-align: middle;\n",
       "    }\n",
       "\n",
       "    .dataframe tbody tr th {\n",
       "        vertical-align: top;\n",
       "    }\n",
       "\n",
       "    .dataframe thead th {\n",
       "        text-align: right;\n",
       "    }\n",
       "</style>\n",
       "<table border=\"1\" class=\"dataframe\">\n",
       "  <thead>\n",
       "    <tr style=\"text-align: right;\">\n",
       "      <th></th>\n",
       "      <th>sentence</th>\n",
       "      <th>predicted_difficulty</th>\n",
       "    </tr>\n",
       "    <tr>\n",
       "      <th>id</th>\n",
       "      <th></th>\n",
       "      <th></th>\n",
       "    </tr>\n",
       "  </thead>\n",
       "  <tbody>\n",
       "    <tr>\n",
       "      <th>0</th>\n",
       "      <td>Nous dûmes nous excuser des propos que nous eû...</td>\n",
       "      <td>B1</td>\n",
       "    </tr>\n",
       "    <tr>\n",
       "      <th>1</th>\n",
       "      <td>Vous ne pouvez pas savoir le plaisir que j'ai ...</td>\n",
       "      <td>A2</td>\n",
       "    </tr>\n",
       "    <tr>\n",
       "      <th>2</th>\n",
       "      <td>Et, paradoxalement, boire froid n'est pas la b...</td>\n",
       "      <td>A2</td>\n",
       "    </tr>\n",
       "    <tr>\n",
       "      <th>3</th>\n",
       "      <td>Ce n'est pas étonnant, car c'est une saison my...</td>\n",
       "      <td>A2</td>\n",
       "    </tr>\n",
       "    <tr>\n",
       "      <th>4</th>\n",
       "      <td>Le corps de Golo lui-même, d'une essence aussi...</td>\n",
       "      <td>C2</td>\n",
       "    </tr>\n",
       "    <tr>\n",
       "      <th>...</th>\n",
       "      <td>...</td>\n",
       "      <td>...</td>\n",
       "    </tr>\n",
       "    <tr>\n",
       "      <th>1195</th>\n",
       "      <td>C'est un phénomène qui trouve une accélération...</td>\n",
       "      <td>B1</td>\n",
       "    </tr>\n",
       "    <tr>\n",
       "      <th>1196</th>\n",
       "      <td>Je vais parler au serveur et voir si on peut d...</td>\n",
       "      <td>A2</td>\n",
       "    </tr>\n",
       "    <tr>\n",
       "      <th>1197</th>\n",
       "      <td>Il n'était pas comme tant de gens qui par pare...</td>\n",
       "      <td>C2</td>\n",
       "    </tr>\n",
       "    <tr>\n",
       "      <th>1198</th>\n",
       "      <td>Ils deviennent dangereux pour notre économie.</td>\n",
       "      <td>A1</td>\n",
       "    </tr>\n",
       "    <tr>\n",
       "      <th>1199</th>\n",
       "      <td>Son succès a généré beaucoup de réactions néga...</td>\n",
       "      <td>B1</td>\n",
       "    </tr>\n",
       "  </tbody>\n",
       "</table>\n",
       "<p>1200 rows × 2 columns</p>\n",
       "</div>\n",
       "    <div class=\"colab-df-buttons\">\n",
       "\n",
       "  <div class=\"colab-df-container\">\n",
       "    <button class=\"colab-df-convert\" onclick=\"convertToInteractive('df-8634ddf4-18c2-471f-8496-cd72f5346054')\"\n",
       "            title=\"Convert this dataframe to an interactive table.\"\n",
       "            style=\"display:none;\">\n",
       "\n",
       "  <svg xmlns=\"http://www.w3.org/2000/svg\" height=\"24px\" viewBox=\"0 -960 960 960\">\n",
       "    <path d=\"M120-120v-720h720v720H120Zm60-500h600v-160H180v160Zm220 220h160v-160H400v160Zm0 220h160v-160H400v160ZM180-400h160v-160H180v160Zm440 0h160v-160H620v160ZM180-180h160v-160H180v160Zm440 0h160v-160H620v160Z\"/>\n",
       "  </svg>\n",
       "    </button>\n",
       "\n",
       "  <style>\n",
       "    .colab-df-container {\n",
       "      display:flex;\n",
       "      gap: 12px;\n",
       "    }\n",
       "\n",
       "    .colab-df-convert {\n",
       "      background-color: #E8F0FE;\n",
       "      border: none;\n",
       "      border-radius: 50%;\n",
       "      cursor: pointer;\n",
       "      display: none;\n",
       "      fill: #1967D2;\n",
       "      height: 32px;\n",
       "      padding: 0 0 0 0;\n",
       "      width: 32px;\n",
       "    }\n",
       "\n",
       "    .colab-df-convert:hover {\n",
       "      background-color: #E2EBFA;\n",
       "      box-shadow: 0px 1px 2px rgba(60, 64, 67, 0.3), 0px 1px 3px 1px rgba(60, 64, 67, 0.15);\n",
       "      fill: #174EA6;\n",
       "    }\n",
       "\n",
       "    .colab-df-buttons div {\n",
       "      margin-bottom: 4px;\n",
       "    }\n",
       "\n",
       "    [theme=dark] .colab-df-convert {\n",
       "      background-color: #3B4455;\n",
       "      fill: #D2E3FC;\n",
       "    }\n",
       "\n",
       "    [theme=dark] .colab-df-convert:hover {\n",
       "      background-color: #434B5C;\n",
       "      box-shadow: 0px 1px 3px 1px rgba(0, 0, 0, 0.15);\n",
       "      filter: drop-shadow(0px 1px 2px rgba(0, 0, 0, 0.3));\n",
       "      fill: #FFFFFF;\n",
       "    }\n",
       "  </style>\n",
       "\n",
       "    <script>\n",
       "      const buttonEl =\n",
       "        document.querySelector('#df-8634ddf4-18c2-471f-8496-cd72f5346054 button.colab-df-convert');\n",
       "      buttonEl.style.display =\n",
       "        google.colab.kernel.accessAllowed ? 'block' : 'none';\n",
       "\n",
       "      async function convertToInteractive(key) {\n",
       "        const element = document.querySelector('#df-8634ddf4-18c2-471f-8496-cd72f5346054');\n",
       "        const dataTable =\n",
       "          await google.colab.kernel.invokeFunction('convertToInteractive',\n",
       "                                                    [key], {});\n",
       "        if (!dataTable) return;\n",
       "\n",
       "        const docLinkHtml = 'Like what you see? Visit the ' +\n",
       "          '<a target=\"_blank\" href=https://colab.research.google.com/notebooks/data_table.ipynb>data table notebook</a>'\n",
       "          + ' to learn more about interactive tables.';\n",
       "        element.innerHTML = '';\n",
       "        dataTable['output_type'] = 'display_data';\n",
       "        await google.colab.output.renderOutput(dataTable, element);\n",
       "        const docLink = document.createElement('div');\n",
       "        docLink.innerHTML = docLinkHtml;\n",
       "        element.appendChild(docLink);\n",
       "      }\n",
       "    </script>\n",
       "  </div>\n",
       "\n",
       "\n",
       "<div id=\"df-afb134fa-a205-4157-b5b4-edb5dd46b0a8\">\n",
       "  <button class=\"colab-df-quickchart\" onclick=\"quickchart('df-afb134fa-a205-4157-b5b4-edb5dd46b0a8')\"\n",
       "            title=\"Suggest charts\"\n",
       "            style=\"display:none;\">\n",
       "\n",
       "<svg xmlns=\"http://www.w3.org/2000/svg\" height=\"24px\"viewBox=\"0 0 24 24\"\n",
       "     width=\"24px\">\n",
       "    <g>\n",
       "        <path d=\"M19 3H5c-1.1 0-2 .9-2 2v14c0 1.1.9 2 2 2h14c1.1 0 2-.9 2-2V5c0-1.1-.9-2-2-2zM9 17H7v-7h2v7zm4 0h-2V7h2v10zm4 0h-2v-4h2v4z\"/>\n",
       "    </g>\n",
       "</svg>\n",
       "  </button>\n",
       "\n",
       "<style>\n",
       "  .colab-df-quickchart {\n",
       "      --bg-color: #E8F0FE;\n",
       "      --fill-color: #1967D2;\n",
       "      --hover-bg-color: #E2EBFA;\n",
       "      --hover-fill-color: #174EA6;\n",
       "      --disabled-fill-color: #AAA;\n",
       "      --disabled-bg-color: #DDD;\n",
       "  }\n",
       "\n",
       "  [theme=dark] .colab-df-quickchart {\n",
       "      --bg-color: #3B4455;\n",
       "      --fill-color: #D2E3FC;\n",
       "      --hover-bg-color: #434B5C;\n",
       "      --hover-fill-color: #FFFFFF;\n",
       "      --disabled-bg-color: #3B4455;\n",
       "      --disabled-fill-color: #666;\n",
       "  }\n",
       "\n",
       "  .colab-df-quickchart {\n",
       "    background-color: var(--bg-color);\n",
       "    border: none;\n",
       "    border-radius: 50%;\n",
       "    cursor: pointer;\n",
       "    display: none;\n",
       "    fill: var(--fill-color);\n",
       "    height: 32px;\n",
       "    padding: 0;\n",
       "    width: 32px;\n",
       "  }\n",
       "\n",
       "  .colab-df-quickchart:hover {\n",
       "    background-color: var(--hover-bg-color);\n",
       "    box-shadow: 0 1px 2px rgba(60, 64, 67, 0.3), 0 1px 3px 1px rgba(60, 64, 67, 0.15);\n",
       "    fill: var(--button-hover-fill-color);\n",
       "  }\n",
       "\n",
       "  .colab-df-quickchart-complete:disabled,\n",
       "  .colab-df-quickchart-complete:disabled:hover {\n",
       "    background-color: var(--disabled-bg-color);\n",
       "    fill: var(--disabled-fill-color);\n",
       "    box-shadow: none;\n",
       "  }\n",
       "\n",
       "  .colab-df-spinner {\n",
       "    border: 2px solid var(--fill-color);\n",
       "    border-color: transparent;\n",
       "    border-bottom-color: var(--fill-color);\n",
       "    animation:\n",
       "      spin 1s steps(1) infinite;\n",
       "  }\n",
       "\n",
       "  @keyframes spin {\n",
       "    0% {\n",
       "      border-color: transparent;\n",
       "      border-bottom-color: var(--fill-color);\n",
       "      border-left-color: var(--fill-color);\n",
       "    }\n",
       "    20% {\n",
       "      border-color: transparent;\n",
       "      border-left-color: var(--fill-color);\n",
       "      border-top-color: var(--fill-color);\n",
       "    }\n",
       "    30% {\n",
       "      border-color: transparent;\n",
       "      border-left-color: var(--fill-color);\n",
       "      border-top-color: var(--fill-color);\n",
       "      border-right-color: var(--fill-color);\n",
       "    }\n",
       "    40% {\n",
       "      border-color: transparent;\n",
       "      border-right-color: var(--fill-color);\n",
       "      border-top-color: var(--fill-color);\n",
       "    }\n",
       "    60% {\n",
       "      border-color: transparent;\n",
       "      border-right-color: var(--fill-color);\n",
       "    }\n",
       "    80% {\n",
       "      border-color: transparent;\n",
       "      border-right-color: var(--fill-color);\n",
       "      border-bottom-color: var(--fill-color);\n",
       "    }\n",
       "    90% {\n",
       "      border-color: transparent;\n",
       "      border-bottom-color: var(--fill-color);\n",
       "    }\n",
       "  }\n",
       "</style>\n",
       "\n",
       "  <script>\n",
       "    async function quickchart(key) {\n",
       "      const quickchartButtonEl =\n",
       "        document.querySelector('#' + key + ' button');\n",
       "      quickchartButtonEl.disabled = true;  // To prevent multiple clicks.\n",
       "      quickchartButtonEl.classList.add('colab-df-spinner');\n",
       "      try {\n",
       "        const charts = await google.colab.kernel.invokeFunction(\n",
       "            'suggestCharts', [key], {});\n",
       "      } catch (error) {\n",
       "        console.error('Error during call to suggestCharts:', error);\n",
       "      }\n",
       "      quickchartButtonEl.classList.remove('colab-df-spinner');\n",
       "      quickchartButtonEl.classList.add('colab-df-quickchart-complete');\n",
       "    }\n",
       "    (() => {\n",
       "      let quickchartButtonEl =\n",
       "        document.querySelector('#df-afb134fa-a205-4157-b5b4-edb5dd46b0a8 button');\n",
       "      quickchartButtonEl.style.display =\n",
       "        google.colab.kernel.accessAllowed ? 'block' : 'none';\n",
       "    })();\n",
       "  </script>\n",
       "</div>\n",
       "    </div>\n",
       "  </div>\n"
      ]
     },
     "metadata": {},
     "execution_count": 18
    }
   ],
   "source": [
    "df_pred['predicted_difficulty'] = predicted_labels\n",
    "df_pred\n"
   ]
  },
  {
   "cell_type": "code",
   "execution_count": 19,
   "metadata": {
    "id": "3v_2aPk1gUXR"
   },
   "outputs": [],
   "source": []
  },
  {
   "cell_type": "markdown",
   "metadata": {
    "id": "jctQ2IXYeXEs"
   },
   "source": [
    "# This is how to submit a pd file with predictions\n",
    "### for the example we will submit a file where only A1 is given as a prediction"
   ]
  },
  {
   "cell_type": "code",
   "source": [],
   "metadata": {
    "id": "jUBUCkxWNHKR"
   },
   "execution_count": 19,
   "outputs": []
  },
  {
   "cell_type": "code",
   "execution_count": 19,
   "metadata": {
    "id": "pg1ITBF8e0aq"
   },
   "outputs": [],
   "source": [
    "df_sub=df_pred[['predicted_difficulty']]\n",
    "df_sub.to_csv('submission.csv')"
   ]
  },
  {
   "cell_type": "code",
   "execution_count": 20,
   "metadata": {
    "id": "D3i5G0qzgBxP",
    "colab": {
     "base_uri": "https://localhost:8080/"
    },
    "outputId": "c94fa7b5-408c-47fb-9f66-9615a3a66d07"
   },
   "outputs": [
    {
     "output_type": "stream",
     "name": "stdout",
     "text": [
      "100% 8.31k/8.31k [00:02<00:00, 3.62kB/s]\n",
      "Successfully submitted to Detecting the difficulty level of French texts"
     ]
    }
   ],
   "source": [
    "! kaggle competitions submit -c detecting-french-texts-difficulty-level-2023 -f submission.csv -m \"Sample submission\""
   ]
  },
  {
   "cell_type": "markdown",
   "source": [
    "![image.png](data:image/png;base64,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)"
   ],
   "metadata": {
    "id": "lfG7UkzvoeST"
   }
  }
 ],
 "metadata": {
  "colab": {
   "provenance": []
  },
  "kernelspec": {
   "display_name": "Python 3 (ipykernel)",
   "language": "python",
   "name": "python3"
  },
  "language_info": {
   "codemirror_mode": {
    "name": "ipython",
    "version": 3
   },
   "file_extension": ".py",
   "mimetype": "text/x-python",
   "name": "python",
   "nbconvert_exporter": "python",
   "pygments_lexer": "ipython3",
   "version": "3.9.6"
  },
  "toc": {
   "base_numbering": 1,
   "nav_menu": {},
   "number_sections": true,
   "sideBar": true,
   "skip_h1_title": false,
   "title_cell": "Table of Contents",
   "title_sidebar": "Contents",
   "toc_cell": false,
   "toc_position": {},
   "toc_section_display": true,
   "toc_window_display": false
  }
 },
 "nbformat": 4,
 "nbformat_minor": 0
}
