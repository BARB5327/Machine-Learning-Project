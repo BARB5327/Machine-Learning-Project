{
  "cells": [
    {
      "cell_type": "markdown",
      "source": [
        "## Project UNIL_TUDOR"
      ],
      "metadata": {
        "id": "xZXCASbaU8J0"
      }
    },
    {
      "cell_type": "markdown",
      "source": [
        "The first thing we do is to set the various parameters to start our project"
      ],
      "metadata": {
        "id": "bREKOEeqHa-k"
      }
    },
    {
      "cell_type": "code",
      "execution_count": null,
      "metadata": {
        "colab": {
          "base_uri": "https://localhost:8080/"
        },
        "id": "UJ_hnJzSNO2g",
        "outputId": "de6ba2e1-86cf-4591-a8db-fc134a8349d8"
      },
      "outputs": [
        {
          "output_type": "stream",
          "name": "stdout",
          "text": [
            "Mounted at /content/drive\n"
          ]
        }
      ],
      "source": [
        "# mount your Google Drive\n",
        "from google.colab import drive\n",
        "drive.mount('/content/drive', force_remount=True)"
      ]
    },
    {
      "cell_type": "code",
      "execution_count": null,
      "metadata": {
        "colab": {
          "base_uri": "https://localhost:8080/"
        },
        "id": "mJPTz3D7TeQv",
        "outputId": "7c8cde42-a8d1-40c6-ace4-7ad547352eea"
      },
      "outputs": [
        {
          "output_type": "stream",
          "name": "stdout",
          "text": [
            "Requirement already satisfied: kaggle in /usr/local/lib/python3.10/dist-packages (1.5.16)\n",
            "Requirement already satisfied: six>=1.10 in /usr/local/lib/python3.10/dist-packages (from kaggle) (1.16.0)\n",
            "Requirement already satisfied: certifi in /usr/local/lib/python3.10/dist-packages (from kaggle) (2023.7.22)\n",
            "Requirement already satisfied: python-dateutil in /usr/local/lib/python3.10/dist-packages (from kaggle) (2.8.2)\n",
            "Requirement already satisfied: requests in /usr/local/lib/python3.10/dist-packages (from kaggle) (2.31.0)\n",
            "Requirement already satisfied: tqdm in /usr/local/lib/python3.10/dist-packages (from kaggle) (4.66.1)\n",
            "Requirement already satisfied: python-slugify in /usr/local/lib/python3.10/dist-packages (from kaggle) (8.0.1)\n",
            "Requirement already satisfied: urllib3 in /usr/local/lib/python3.10/dist-packages (from kaggle) (2.0.7)\n",
            "Requirement already satisfied: bleach in /usr/local/lib/python3.10/dist-packages (from kaggle) (6.1.0)\n",
            "Requirement already satisfied: webencodings in /usr/local/lib/python3.10/dist-packages (from bleach->kaggle) (0.5.1)\n",
            "Requirement already satisfied: text-unidecode>=1.3 in /usr/local/lib/python3.10/dist-packages (from python-slugify->kaggle) (1.3)\n",
            "Requirement already satisfied: charset-normalizer<4,>=2 in /usr/local/lib/python3.10/dist-packages (from requests->kaggle) (3.3.2)\n",
            "Requirement already satisfied: idna<4,>=2.5 in /usr/local/lib/python3.10/dist-packages (from requests->kaggle) (3.4)\n"
          ]
        }
      ],
      "source": [
        "# install Kaggle\n",
        "! pip install kaggle"
      ]
    },
    {
      "cell_type": "code",
      "execution_count": null,
      "metadata": {
        "id": "JgzLj451YDfV"
      },
      "outputs": [],
      "source": [
        "!mkdir ~/.kaggle"
      ]
    },
    {
      "cell_type": "code",
      "execution_count": null,
      "metadata": {
        "id": "KrsZLalrSI3u"
      },
      "outputs": [],
      "source": [
        "#read in your Kaggle credentials from Google Drive\n",
        "!cp /content/drive/MyDrive/Kaggle/kaggle.json ~/.kaggle/kaggle.json\n"
      ]
    },
    {
      "cell_type": "code",
      "execution_count": null,
      "metadata": {
        "colab": {
          "base_uri": "https://localhost:8080/"
        },
        "id": "BDI60LXKTPzf",
        "outputId": "bb88ab09-044b-4949-b87d-d8ddae9671a7"
      },
      "outputs": [
        {
          "output_type": "stream",
          "name": "stdout",
          "text": [
            "Downloading detecting-french-texts-difficulty-level-2023.zip to /content\n",
            "\r  0% 0.00/303k [00:00<?, ?B/s]\n",
            "\r100% 303k/303k [00:00<00:00, 80.0MB/s]\n"
          ]
        }
      ],
      "source": [
        "! kaggle competitions download -c detecting-french-texts-difficulty-level-2023\n",
        "from zipfile import ZipFile\n",
        "with ZipFile('detecting-french-texts-difficulty-level-2023.zip','r') as zip:\n",
        "  zip.extractall(path=\"\")"
      ]
    },
    {
      "cell_type": "code",
      "source": [
        "import pandas as pd\n",
        "import numpy as np\n",
        "from sklearn.feature_extraction.text import  TfidfVectorizer\n",
        "import matplotlib.pyplot as plt\n",
        "from sklearn.pipeline import Pipeline\n",
        "from sklearn.linear_model import LogisticRegression, LogisticRegressionCV\n",
        "from sklearn.model_selection import train_test_split\n",
        "from sklearn.metrics import confusion_matrix, accuracy_score, precision_score, recall_score, f1_score\n",
        "import spacy\n",
        "from spacy import displacy\n",
        "from sklearn.base import TransformerMixin\n",
        "import seaborn as sns"
      ],
      "metadata": {
        "id": "qMNHoNe0csvS"
      },
      "execution_count": null,
      "outputs": []
    },
    {
      "cell_type": "markdown",
      "source": [
        "We import the data from Kaggle"
      ],
      "metadata": {
        "id": "H0xtcNXT1j6h"
      }
    },
    {
      "cell_type": "code",
      "source": [
        "df_training = pd.read_csv('training_data.csv')\n",
        "df_test =pd.read_csv('unlabelled_test_data.csv', index_col = 'id')\n",
        "df_sample = pd.read_csv('sample_submission.csv')"
      ],
      "metadata": {
        "id": "chOgYcrpU8AY"
      },
      "execution_count": null,
      "outputs": []
    },
    {
      "cell_type": "markdown",
      "source": [
        "We use a vectorizer like TfidfVectorizer to convert texts into numerical vectors."
      ],
      "metadata": {
        "id": "o3sM3rV80dJq"
      }
    },
    {
      "cell_type": "code",
      "source": [
        "tfidf_vector = TfidfVectorizer()"
      ],
      "metadata": {
        "id": "NTw-HRZWsdUT"
      },
      "execution_count": null,
      "outputs": []
    },
    {
      "cell_type": "markdown",
      "source": [
        "We assign the sentences from our dataset to X, and their corresponding difficulty levels to Y."
      ],
      "metadata": {
        "id": "bWHGTyr-1ZNB"
      }
    },
    {
      "cell_type": "code",
      "source": [
        "X = df_training['sentence']\n",
        "y = df_training['difficulty']"
      ],
      "metadata": {
        "id": "wPNa-5pKsk8E"
      },
      "execution_count": null,
      "outputs": []
    },
    {
      "cell_type": "markdown",
      "source": [
        "After doing our research on the internet, we found that the best train-test ratio is 80/20. Others also claim that 70/30 can also work, but we prefer the 80/20 ratio."
      ],
      "metadata": {
        "id": "06YaDN4BLC5q"
      }
    },
    {
      "cell_type": "code",
      "source": [
        "X_train, X_test, y_train, y_test = train_test_split(X, y, random_state=0, test_size=0.2)"
      ],
      "metadata": {
        "id": "b5j7prwIsoTq"
      },
      "execution_count": null,
      "outputs": []
    },
    {
      "cell_type": "markdown",
      "source": [
        "##We have seen that methods such as KNN, Logistic Regression, Decision Tree or Random Forrest Tree are suggested. We'll first start with the KNN method."
      ],
      "metadata": {
        "id": "id8Mw8AsI0Jo"
      }
    },
    {
      "cell_type": "markdown",
      "source": [
        "## 1. KNN Model (K-Nearest Neigbors)"
      ],
      "metadata": {
        "id": "Hj34Lg8PrEgH"
      }
    },
    {
      "cell_type": "markdown",
      "source": [
        "Develop a KNN (K-Nearest Neighbors) model by using a TFIDF (Term Frequency-Inverse Document Frequency) vectorization approach."
      ],
      "metadata": {
        "id": "QP2l8E_jHwas"
      }
    },
    {
      "cell_type": "code",
      "execution_count": null,
      "metadata": {
        "id": "VxRSnk5bhTp8",
        "colab": {
          "base_uri": "https://localhost:8080/",
          "height": 125
        },
        "outputId": "1886ec53-6af1-4a41-eb41-89040e22a828"
      },
      "outputs": [
        {
          "output_type": "execute_result",
          "data": {
            "text/plain": [
              "Pipeline(steps=[('tfidf_vectorizer', TfidfVectorizer()),\n",
              "                ('knn_classifier', KNeighborsClassifier())])"
            ],
            "text/html": [
              "<style>#sk-container-id-1 {color: black;background-color: white;}#sk-container-id-1 pre{padding: 0;}#sk-container-id-1 div.sk-toggleable {background-color: white;}#sk-container-id-1 label.sk-toggleable__label {cursor: pointer;display: block;width: 100%;margin-bottom: 0;padding: 0.3em;box-sizing: border-box;text-align: center;}#sk-container-id-1 label.sk-toggleable__label-arrow:before {content: \"▸\";float: left;margin-right: 0.25em;color: #696969;}#sk-container-id-1 label.sk-toggleable__label-arrow:hover:before {color: black;}#sk-container-id-1 div.sk-estimator:hover label.sk-toggleable__label-arrow:before {color: black;}#sk-container-id-1 div.sk-toggleable__content {max-height: 0;max-width: 0;overflow: hidden;text-align: left;background-color: #f0f8ff;}#sk-container-id-1 div.sk-toggleable__content pre {margin: 0.2em;color: black;border-radius: 0.25em;background-color: #f0f8ff;}#sk-container-id-1 input.sk-toggleable__control:checked~div.sk-toggleable__content {max-height: 200px;max-width: 100%;overflow: auto;}#sk-container-id-1 input.sk-toggleable__control:checked~label.sk-toggleable__label-arrow:before {content: \"▾\";}#sk-container-id-1 div.sk-estimator input.sk-toggleable__control:checked~label.sk-toggleable__label {background-color: #d4ebff;}#sk-container-id-1 div.sk-label input.sk-toggleable__control:checked~label.sk-toggleable__label {background-color: #d4ebff;}#sk-container-id-1 input.sk-hidden--visually {border: 0;clip: rect(1px 1px 1px 1px);clip: rect(1px, 1px, 1px, 1px);height: 1px;margin: -1px;overflow: hidden;padding: 0;position: absolute;width: 1px;}#sk-container-id-1 div.sk-estimator {font-family: monospace;background-color: #f0f8ff;border: 1px dotted black;border-radius: 0.25em;box-sizing: border-box;margin-bottom: 0.5em;}#sk-container-id-1 div.sk-estimator:hover {background-color: #d4ebff;}#sk-container-id-1 div.sk-parallel-item::after {content: \"\";width: 100%;border-bottom: 1px solid gray;flex-grow: 1;}#sk-container-id-1 div.sk-label:hover label.sk-toggleable__label {background-color: #d4ebff;}#sk-container-id-1 div.sk-serial::before {content: \"\";position: absolute;border-left: 1px solid gray;box-sizing: border-box;top: 0;bottom: 0;left: 50%;z-index: 0;}#sk-container-id-1 div.sk-serial {display: flex;flex-direction: column;align-items: center;background-color: white;padding-right: 0.2em;padding-left: 0.2em;position: relative;}#sk-container-id-1 div.sk-item {position: relative;z-index: 1;}#sk-container-id-1 div.sk-parallel {display: flex;align-items: stretch;justify-content: center;background-color: white;position: relative;}#sk-container-id-1 div.sk-item::before, #sk-container-id-1 div.sk-parallel-item::before {content: \"\";position: absolute;border-left: 1px solid gray;box-sizing: border-box;top: 0;bottom: 0;left: 50%;z-index: -1;}#sk-container-id-1 div.sk-parallel-item {display: flex;flex-direction: column;z-index: 1;position: relative;background-color: white;}#sk-container-id-1 div.sk-parallel-item:first-child::after {align-self: flex-end;width: 50%;}#sk-container-id-1 div.sk-parallel-item:last-child::after {align-self: flex-start;width: 50%;}#sk-container-id-1 div.sk-parallel-item:only-child::after {width: 0;}#sk-container-id-1 div.sk-dashed-wrapped {border: 1px dashed gray;margin: 0 0.4em 0.5em 0.4em;box-sizing: border-box;padding-bottom: 0.4em;background-color: white;}#sk-container-id-1 div.sk-label label {font-family: monospace;font-weight: bold;display: inline-block;line-height: 1.2em;}#sk-container-id-1 div.sk-label-container {text-align: center;}#sk-container-id-1 div.sk-container {/* jupyter's `normalize.less` sets `[hidden] { display: none; }` but bootstrap.min.css set `[hidden] { display: none !important; }` so we also need the `!important` here to be able to override the default hidden behavior on the sphinx rendered scikit-learn.org. See: https://github.com/scikit-learn/scikit-learn/issues/21755 */display: inline-block !important;position: relative;}#sk-container-id-1 div.sk-text-repr-fallback {display: none;}</style><div id=\"sk-container-id-1\" class=\"sk-top-container\"><div class=\"sk-text-repr-fallback\"><pre>Pipeline(steps=[(&#x27;tfidf_vectorizer&#x27;, TfidfVectorizer()),\n",
              "                (&#x27;knn_classifier&#x27;, KNeighborsClassifier())])</pre><b>In a Jupyter environment, please rerun this cell to show the HTML representation or trust the notebook. <br />On GitHub, the HTML representation is unable to render, please try loading this page with nbviewer.org.</b></div><div class=\"sk-container\" hidden><div class=\"sk-item sk-dashed-wrapped\"><div class=\"sk-label-container\"><div class=\"sk-label sk-toggleable\"><input class=\"sk-toggleable__control sk-hidden--visually\" id=\"sk-estimator-id-1\" type=\"checkbox\" ><label for=\"sk-estimator-id-1\" class=\"sk-toggleable__label sk-toggleable__label-arrow\">Pipeline</label><div class=\"sk-toggleable__content\"><pre>Pipeline(steps=[(&#x27;tfidf_vectorizer&#x27;, TfidfVectorizer()),\n",
              "                (&#x27;knn_classifier&#x27;, KNeighborsClassifier())])</pre></div></div></div><div class=\"sk-serial\"><div class=\"sk-item\"><div class=\"sk-estimator sk-toggleable\"><input class=\"sk-toggleable__control sk-hidden--visually\" id=\"sk-estimator-id-2\" type=\"checkbox\" ><label for=\"sk-estimator-id-2\" class=\"sk-toggleable__label sk-toggleable__label-arrow\">TfidfVectorizer</label><div class=\"sk-toggleable__content\"><pre>TfidfVectorizer()</pre></div></div></div><div class=\"sk-item\"><div class=\"sk-estimator sk-toggleable\"><input class=\"sk-toggleable__control sk-hidden--visually\" id=\"sk-estimator-id-3\" type=\"checkbox\" ><label for=\"sk-estimator-id-3\" class=\"sk-toggleable__label sk-toggleable__label-arrow\">KNeighborsClassifier</label><div class=\"sk-toggleable__content\"><pre>KNeighborsClassifier()</pre></div></div></div></div></div></div></div>"
            ]
          },
          "metadata": {},
          "execution_count": 11
        }
      ],
      "source": [
        "from sklearn.neighbors import KNeighborsClassifier\n",
        "from sklearn.pipeline import Pipeline\n",
        "from sklearn.feature_extraction.text import TfidfVectorizer\n",
        "\n",
        "# Creating an instance of TfidfVectorizer\n",
        "tfidf_vectorizer = TfidfVectorizer()\n",
        "\n",
        "# Creating an instance of KNeighborsClassifier with explicit default parameters\n",
        "knn_classifier = KNeighborsClassifier(n_neighbors=5, algorithm='auto', metric='minkowski', p=2)\n",
        "\n",
        "# Assembling the vectorizer and classifier in a pipeline\n",
        "knn_pipeline = Pipeline([\n",
        "    ('tfidf_vectorizer', tfidf_vectorizer),\n",
        "    ('knn_classifier', knn_classifier)\n",
        "])\n",
        "\n",
        "# Training the model on the training set\n",
        "knn_pipeline.fit(X_train, y_train)"
      ]
    },
    {
      "cell_type": "markdown",
      "source": [
        "As requested in the instructions, we display the Accuracy, Precision, Recall and F1 score."
      ],
      "metadata": {
        "id": "DFZ5mFX7Mj_s"
      }
    },
    {
      "cell_type": "code",
      "source": [
        "from sklearn.metrics import accuracy_score, precision_score, recall_score, f1_score\n",
        "\n",
        "predicted_labels_knn = knn_pipeline.predict(X_test)\n",
        "\n",
        "accuracy = accuracy_score(y_test, predicted_labels_knn)\n",
        "print(\"Accuracy:\", accuracy)\n",
        "\n",
        "precision = precision_score(y_test, predicted_labels_knn, average='weighted')\n",
        "print(\"Precision:\", precision)\n",
        "\n",
        "recall = recall_score(y_test, predicted_labels_knn, average='weighted')\n",
        "print(\"Recall:\", recall)\n",
        "\n",
        "f1 = f1_score(y_test, predicted_labels_knn, average='weighted')\n",
        "print(\"F1 Score:\", f1)"
      ],
      "metadata": {
        "colab": {
          "base_uri": "https://localhost:8080/"
        },
        "id": "4RJykxH6ujip",
        "outputId": "757f8145-33b9-480f-9191-d1108861981a"
      },
      "execution_count": null,
      "outputs": [
        {
          "output_type": "stream",
          "name": "stdout",
          "text": [
            "Accuracy: 0.31979166666666664\n",
            "Precision: 0.40447154448902534\n",
            "Recall: 0.31979166666666664\n",
            "F1 Score: 0.3028669637117734\n"
          ]
        }
      ]
    },
    {
      "cell_type": "code",
      "source": [
        "knn_pipeline.predict(X_test)"
      ],
      "metadata": {
        "colab": {
          "base_uri": "https://localhost:8080/"
        },
        "id": "ze-dEshryYYf",
        "outputId": "bf04de47-e075-4021-a1cf-45a724bd4e4e"
      },
      "execution_count": null,
      "outputs": [
        {
          "output_type": "execute_result",
          "data": {
            "text/plain": [
              "array(['A1', 'A1', 'B2', 'A1', 'A1', 'A1', 'A2', 'A2', 'A2', 'A1', 'B1',\n",
              "       'A1', 'A1', 'B1', 'A2', 'B2', 'B2', 'A2', 'A2', 'A1', 'A2', 'A2',\n",
              "       'A1', 'A1', 'C2', 'A1', 'C2', 'B2', 'B1', 'A2', 'A2', 'A2', 'A1',\n",
              "       'A1', 'A1', 'A1', 'C2', 'A1', 'C2', 'A1', 'C1', 'A1', 'C1', 'A2',\n",
              "       'A1', 'B1', 'A2', 'A1', 'B2', 'C2', 'A2', 'A1', 'A1', 'A1', 'B2',\n",
              "       'B1', 'A1', 'A1', 'C2', 'B1', 'A1', 'B2', 'A2', 'B1', 'A2', 'A1',\n",
              "       'A1', 'A1', 'A1', 'A1', 'C1', 'A1', 'C2', 'C2', 'A1', 'A1', 'A1',\n",
              "       'C2', 'A2', 'A1', 'A2', 'A1', 'B2', 'A1', 'B1', 'C1', 'A1', 'B2',\n",
              "       'A1', 'A1', 'C2', 'B1', 'C2', 'B1', 'C2', 'B1', 'A1', 'B2', 'A1',\n",
              "       'A1', 'A1', 'A1', 'A2', 'A1', 'A1', 'A1', 'A1', 'A1', 'B1', 'A1',\n",
              "       'A1', 'B2', 'A2', 'A1', 'A1', 'A1', 'A2', 'B2', 'A1', 'B1', 'B1',\n",
              "       'A1', 'A1', 'A2', 'B1', 'B1', 'A2', 'A2', 'A1', 'A2', 'A2', 'B1',\n",
              "       'B1', 'A1', 'A1', 'A1', 'A2', 'A1', 'A1', 'B2', 'A1', 'A1', 'B2',\n",
              "       'B2', 'A2', 'A1', 'B2', 'A1', 'A2', 'C2', 'A1', 'A1', 'A2', 'A2',\n",
              "       'A2', 'C1', 'A2', 'A1', 'A2', 'B1', 'C1', 'C1', 'A1', 'A1', 'A2',\n",
              "       'A1', 'A1', 'A1', 'C2', 'A1', 'C2', 'A2', 'A2', 'B1', 'B1', 'A2',\n",
              "       'B1', 'A1', 'C2', 'A2', 'A2', 'C1', 'A2', 'A1', 'A2', 'A2', 'B1',\n",
              "       'A1', 'B2', 'C2', 'A1', 'C2', 'B1', 'A2', 'A1', 'C1', 'A2', 'A1',\n",
              "       'B2', 'A2', 'A2', 'A2', 'A2', 'A1', 'A2', 'B2', 'C1', 'A2', 'B1',\n",
              "       'C1', 'A2', 'B1', 'B1', 'A2', 'C1', 'A2', 'B2', 'A2', 'A1', 'A1',\n",
              "       'A1', 'B1', 'A1', 'A2', 'C2', 'A1', 'B1', 'C1', 'A2', 'C2', 'A1',\n",
              "       'C1', 'A1', 'C2', 'C2', 'A1', 'A2', 'A1', 'A1', 'A1', 'A1', 'A1',\n",
              "       'A1', 'A2', 'B1', 'A2', 'A2', 'A1', 'A1', 'A1', 'A1', 'B1', 'A1',\n",
              "       'A1', 'A1', 'A2', 'A2', 'A2', 'A1', 'C1', 'A2', 'A1', 'A2', 'C2',\n",
              "       'B2', 'A1', 'A2', 'B2', 'B2', 'A1', 'A1', 'A2', 'A2', 'B2', 'B1',\n",
              "       'B2', 'C1', 'A2', 'A1', 'A2', 'A2', 'B1', 'A1', 'A1', 'C2', 'A1',\n",
              "       'A2', 'A2', 'A1', 'A1', 'A1', 'A2', 'A2', 'A1', 'A1', 'A1', 'A1',\n",
              "       'C1', 'B1', 'A2', 'C1', 'A1', 'A1', 'C1', 'A2', 'A2', 'A2', 'B1',\n",
              "       'A1', 'B1', 'B1', 'A1', 'A1', 'C2', 'B1', 'C2', 'B1', 'A1', 'B1',\n",
              "       'A1', 'A2', 'A2', 'B1', 'A1', 'A1', 'C2', 'A1', 'A2', 'B2', 'A2',\n",
              "       'A1', 'A1', 'A1', 'A1', 'C1', 'B1', 'B1', 'C1', 'A1', 'B2', 'B1',\n",
              "       'C2', 'A2', 'A1', 'B1', 'A1', 'A1', 'B1', 'B1', 'A2', 'A1', 'C2',\n",
              "       'A1', 'A2', 'A1', 'B2', 'A1', 'C2', 'A1', 'A1', 'C1', 'B1', 'A1',\n",
              "       'C1', 'A1', 'A2', 'B1', 'B1', 'A1', 'B2', 'A1', 'B2', 'A1', 'C1',\n",
              "       'B1', 'A1', 'B1', 'C1', 'B1', 'A1', 'A1', 'A2', 'A1', 'A2', 'A2',\n",
              "       'A1', 'B1', 'A1', 'B1', 'B1', 'A1', 'A1', 'A2', 'A2', 'A1', 'A2',\n",
              "       'A2', 'C2', 'A1', 'A2', 'A2', 'C2', 'A1', 'A1', 'A1', 'C2', 'C2',\n",
              "       'B1', 'B1', 'C2', 'A1', 'A2', 'C1', 'B2', 'A2', 'A1', 'A1', 'A1',\n",
              "       'B2', 'C2', 'A2', 'A1', 'B1', 'A1', 'A1', 'A1', 'A1', 'A1', 'A1',\n",
              "       'A1', 'B1', 'A1', 'C2', 'A2', 'B1', 'C1', 'A1', 'C2', 'B2', 'B2',\n",
              "       'A2', 'A1', 'A1', 'B1', 'A1', 'A1', 'A1', 'A1', 'A1', 'B2', 'A1',\n",
              "       'A1', 'C1', 'A1', 'A2', 'B1', 'A1', 'A1', 'A2', 'A1', 'A2', 'B1',\n",
              "       'A1', 'A1', 'A1', 'A2', 'A2', 'B1', 'C1', 'A2', 'B2', 'C1', 'B1',\n",
              "       'A2', 'A1', 'C2', 'A1', 'A1', 'B2', 'A1', 'A2', 'B2', 'A1', 'A2',\n",
              "       'A1', 'B1', 'A2', 'A1', 'C2', 'A1', 'A2', 'A1', 'A2', 'A2', 'A1',\n",
              "       'A2', 'A1', 'A2', 'A1', 'A1', 'C2', 'C1', 'A1', 'A2', 'C2', 'B2',\n",
              "       'B2', 'B1', 'A1', 'C1', 'C2', 'A1', 'A2', 'A1', 'A1', 'B2', 'A1',\n",
              "       'A1', 'A2', 'C2', 'A2', 'A1', 'A1', 'A1', 'A1', 'A1', 'B2', 'A1',\n",
              "       'A1', 'A1', 'A1', 'B1', 'A1', 'A1', 'A2', 'B1', 'B2', 'A2', 'A1',\n",
              "       'A1', 'C2', 'A1', 'A1', 'B2', 'C2', 'A1', 'A1', 'A2', 'A1', 'C2',\n",
              "       'A2', 'B1', 'A1', 'A1', 'A1', 'A2', 'A1', 'C1', 'A2', 'A1', 'A1',\n",
              "       'A2', 'C2', 'B2', 'C2', 'A1', 'A1', 'B2', 'C2', 'B2', 'A1', 'B1',\n",
              "       'A1', 'A1', 'A2', 'A2', 'A2', 'A1', 'A1', 'A1', 'A1', 'A1', 'A1',\n",
              "       'B2', 'A1', 'A1', 'A1', 'B1', 'A1', 'A1', 'B1', 'B1', 'A1', 'A1',\n",
              "       'A2', 'A1', 'C1', 'A1', 'A1', 'C2', 'A1', 'C2', 'A2', 'A1', 'B1',\n",
              "       'A1', 'A2', 'B2', 'A1', 'B2', 'A1', 'A1', 'B1', 'A1', 'B1', 'A2',\n",
              "       'A2', 'A2', 'C1', 'A1', 'A2', 'A2', 'A1', 'A1', 'A1', 'A1', 'C1',\n",
              "       'B1', 'A1', 'C1', 'B1', 'B1', 'A1', 'B1', 'B1', 'A2', 'A1', 'A1',\n",
              "       'A1', 'A2', 'A1', 'A1', 'C1', 'A1', 'A1', 'A2', 'A2', 'A1', 'A1',\n",
              "       'B2', 'A2', 'A1', 'B2', 'A1', 'A1', 'A1', 'A2', 'B1', 'A1', 'A1',\n",
              "       'A1', 'C2', 'A2', 'A1', 'A2', 'A2', 'A1', 'A1', 'A1', 'A1', 'A1',\n",
              "       'A1', 'A2', 'A1', 'A1', 'A1', 'A1', 'A1', 'B1', 'A1', 'A1', 'A2',\n",
              "       'B2', 'A1', 'B2', 'A2', 'A1', 'A1', 'C2', 'B2', 'A1', 'A2', 'A1',\n",
              "       'A1', 'A1', 'A2', 'C2', 'A1', 'A1', 'A1', 'A1', 'A2', 'A1', 'A1',\n",
              "       'A2', 'B1', 'A1', 'A1', 'A1', 'B1', 'A1', 'A2', 'A2', 'A2', 'B1',\n",
              "       'A1', 'A1', 'A1', 'A1', 'A1', 'B1', 'A1', 'A2', 'C2', 'B2', 'C2',\n",
              "       'A1', 'A1', 'B1', 'A2', 'A1', 'A2', 'A2', 'A2', 'A1', 'C2', 'A2',\n",
              "       'C2', 'A2', 'A1', 'A1', 'A1', 'A2', 'B2', 'A1', 'A2', 'C2', 'A2',\n",
              "       'A1', 'A2', 'A1', 'A2', 'B1', 'C2', 'A1', 'C2', 'A2', 'B1', 'A1',\n",
              "       'B1', 'A1', 'A2', 'C2', 'A2', 'B1', 'A1', 'A1', 'B1', 'A2', 'A1',\n",
              "       'B1', 'A2', 'A1', 'A1', 'A2', 'C2', 'A1', 'B1', 'A1', 'A1', 'B1',\n",
              "       'A1', 'A1', 'A1', 'A1', 'A1', 'B2', 'B1', 'A1', 'C2', 'A1', 'C2',\n",
              "       'A1', 'A1', 'A1', 'B1', 'A1', 'A1', 'C2', 'A1', 'B2', 'A2', 'A1',\n",
              "       'A2', 'A1', 'A1', 'A1', 'C2', 'B1', 'A1', 'A1', 'A1', 'A1', 'A1',\n",
              "       'A1', 'A2', 'A1', 'A2', 'A1', 'C1', 'A1', 'B1', 'A2', 'C2', 'A2',\n",
              "       'A1', 'A1', 'A2', 'A1', 'A1', 'A1', 'B1', 'A1', 'A1', 'A2', 'A1',\n",
              "       'A2', 'A1', 'A1', 'A2', 'B2', 'A1', 'B1', 'A1', 'A1', 'C2', 'B1',\n",
              "       'B2', 'B1', 'C2', 'B1', 'A2', 'B2', 'A2', 'B1', 'A1', 'A1', 'B2',\n",
              "       'A2', 'B2', 'C2', 'B1', 'A1', 'A1', 'A1', 'A2', 'B2', 'C2', 'A1',\n",
              "       'A2', 'A1', 'B1', 'A1', 'A1', 'A1', 'B2', 'A2', 'A1', 'C2', 'A1',\n",
              "       'A1', 'B1', 'A1', 'B2', 'B2', 'A1', 'A2', 'A2', 'B1', 'A2', 'A1',\n",
              "       'A1', 'A1', 'A1', 'B1', 'C2', 'A1', 'A2', 'A1', 'C2', 'B1', 'A2',\n",
              "       'A1', 'B1', 'A1', 'A1', 'A1', 'A2', 'B1', 'A2', 'A2', 'B1', 'A2',\n",
              "       'A2', 'A1', 'A1', 'C1', 'A1', 'A1', 'C1', 'A2', 'A2', 'B2', 'A2',\n",
              "       'A1', 'A1', 'B1', 'A1', 'C2', 'A2', 'A1', 'A1', 'A1', 'A1', 'A1',\n",
              "       'A2', 'A2', 'A1', 'A1', 'A2', 'A1', 'A1', 'A2', 'C2', 'A2', 'A1',\n",
              "       'A2', 'A1', 'B2', 'C1', 'B2', 'B2', 'A1', 'A1', 'A1', 'C1', 'A1',\n",
              "       'C1', 'A1', 'A2'], dtype=object)"
            ]
          },
          "metadata": {},
          "execution_count": 13
        }
      ]
    },
    {
      "cell_type": "code",
      "source": [
        "df_test['test_prediction']=knn_pipeline.predict(df_test['sentence'])"
      ],
      "metadata": {
        "id": "Ndr77yTHy7Ka"
      },
      "execution_count": null,
      "outputs": []
    },
    {
      "cell_type": "code",
      "source": [
        "df_sub_knn=df_test[['test_prediction']]\n",
        "df_sub_knn.to_csv('submission.csv')"
      ],
      "metadata": {
        "id": "4WL6M95KzhKI"
      },
      "execution_count": null,
      "outputs": []
    },
    {
      "cell_type": "code",
      "source": [],
      "metadata": {
        "id": "sSsaNeOfztCJ"
      },
      "execution_count": null,
      "outputs": []
    },
    {
      "cell_type": "markdown",
      "source": [
        " Here, there are many methods for improving classification reports, but we've chosen the Hyperparameter optimization with GridSearchCV method because it will help us to find the best combination of parameters to improve model performance."
      ],
      "metadata": {
        "id": "bO1GLlVXxdOn"
      }
    },
    {
      "cell_type": "code",
      "source": [
        "from sklearn.model_selection import GridSearchCV\n",
        "\n",
        "hyperparameters = {\n",
        "    'n_neighbors': np.arange(1, 10),\n",
        "    'p': np.arange(1, 3),\n",
        "    'weights': ['uniform', 'distance']\n",
        "}\n",
        "\n",
        "knn_grid_search = GridSearchCV(KNeighborsClassifier(), hyperparameters, cv=5, scoring='accuracy', n_jobs=-1)\n",
        "pipeline_knn_grid_search = Pipeline([\n",
        "    ('tfidf_vectorizer', tfidf_vector),\n",
        "    ('knn_grid_search', knn_grid_search)\n",
        "])\n",
        "\n",
        "pipeline_knn_grid_search.fit(X_train, y_train)\n",
        "print('Best parameters found:', knn_grid_search.best_params_)"
      ],
      "metadata": {
        "colab": {
          "base_uri": "https://localhost:8080/"
        },
        "id": "ZAGFUfmLxoJU",
        "outputId": "3e383a4f-bde4-46ca-df78-91ab8b2b505e"
      },
      "execution_count": null,
      "outputs": [
        {
          "output_type": "stream",
          "name": "stdout",
          "text": [
            "Best parameters found: {'n_neighbors': 4, 'p': 2, 'weights': 'distance'}\n"
          ]
        }
      ]
    },
    {
      "cell_type": "markdown",
      "source": [
        "With the help of the Hyperparameter optimization, we'll try again to see if our results are more accurate."
      ],
      "metadata": {
        "id": "n-2hRg50x-G7"
      }
    },
    {
      "cell_type": "code",
      "source": [
        "optimized_knn_classifier = KNeighborsClassifier(n_neighbors=4, p=2, weights='distance', algorithm='auto')\n",
        "optimized_knn_pipeline = Pipeline([\n",
        "    ('tfidf_vectorizer', tfidf_vector),\n",
        "    ('knn_classifier', optimized_knn_classifier)\n",
        "])\n",
        "\n",
        "optimized_knn_pipeline.fit(X_train, y_train)"
      ],
      "metadata": {
        "colab": {
          "base_uri": "https://localhost:8080/",
          "height": 125
        },
        "id": "lKgNIGwSx1bH",
        "outputId": "b6d8e394-0521-42aa-c683-3e69ab89f7ee"
      },
      "execution_count": null,
      "outputs": [
        {
          "output_type": "execute_result",
          "data": {
            "text/plain": [
              "Pipeline(steps=[('tfidf_vectorizer', TfidfVectorizer()),\n",
              "                ('knn_classifier',\n",
              "                 KNeighborsClassifier(n_neighbors=4, weights='distance'))])"
            ],
            "text/html": [
              "<style>#sk-container-id-2 {color: black;background-color: white;}#sk-container-id-2 pre{padding: 0;}#sk-container-id-2 div.sk-toggleable {background-color: white;}#sk-container-id-2 label.sk-toggleable__label {cursor: pointer;display: block;width: 100%;margin-bottom: 0;padding: 0.3em;box-sizing: border-box;text-align: center;}#sk-container-id-2 label.sk-toggleable__label-arrow:before {content: \"▸\";float: left;margin-right: 0.25em;color: #696969;}#sk-container-id-2 label.sk-toggleable__label-arrow:hover:before {color: black;}#sk-container-id-2 div.sk-estimator:hover label.sk-toggleable__label-arrow:before {color: black;}#sk-container-id-2 div.sk-toggleable__content {max-height: 0;max-width: 0;overflow: hidden;text-align: left;background-color: #f0f8ff;}#sk-container-id-2 div.sk-toggleable__content pre {margin: 0.2em;color: black;border-radius: 0.25em;background-color: #f0f8ff;}#sk-container-id-2 input.sk-toggleable__control:checked~div.sk-toggleable__content {max-height: 200px;max-width: 100%;overflow: auto;}#sk-container-id-2 input.sk-toggleable__control:checked~label.sk-toggleable__label-arrow:before {content: \"▾\";}#sk-container-id-2 div.sk-estimator input.sk-toggleable__control:checked~label.sk-toggleable__label {background-color: #d4ebff;}#sk-container-id-2 div.sk-label input.sk-toggleable__control:checked~label.sk-toggleable__label {background-color: #d4ebff;}#sk-container-id-2 input.sk-hidden--visually {border: 0;clip: rect(1px 1px 1px 1px);clip: rect(1px, 1px, 1px, 1px);height: 1px;margin: -1px;overflow: hidden;padding: 0;position: absolute;width: 1px;}#sk-container-id-2 div.sk-estimator {font-family: monospace;background-color: #f0f8ff;border: 1px dotted black;border-radius: 0.25em;box-sizing: border-box;margin-bottom: 0.5em;}#sk-container-id-2 div.sk-estimator:hover {background-color: #d4ebff;}#sk-container-id-2 div.sk-parallel-item::after {content: \"\";width: 100%;border-bottom: 1px solid gray;flex-grow: 1;}#sk-container-id-2 div.sk-label:hover label.sk-toggleable__label {background-color: #d4ebff;}#sk-container-id-2 div.sk-serial::before {content: \"\";position: absolute;border-left: 1px solid gray;box-sizing: border-box;top: 0;bottom: 0;left: 50%;z-index: 0;}#sk-container-id-2 div.sk-serial {display: flex;flex-direction: column;align-items: center;background-color: white;padding-right: 0.2em;padding-left: 0.2em;position: relative;}#sk-container-id-2 div.sk-item {position: relative;z-index: 1;}#sk-container-id-2 div.sk-parallel {display: flex;align-items: stretch;justify-content: center;background-color: white;position: relative;}#sk-container-id-2 div.sk-item::before, #sk-container-id-2 div.sk-parallel-item::before {content: \"\";position: absolute;border-left: 1px solid gray;box-sizing: border-box;top: 0;bottom: 0;left: 50%;z-index: -1;}#sk-container-id-2 div.sk-parallel-item {display: flex;flex-direction: column;z-index: 1;position: relative;background-color: white;}#sk-container-id-2 div.sk-parallel-item:first-child::after {align-self: flex-end;width: 50%;}#sk-container-id-2 div.sk-parallel-item:last-child::after {align-self: flex-start;width: 50%;}#sk-container-id-2 div.sk-parallel-item:only-child::after {width: 0;}#sk-container-id-2 div.sk-dashed-wrapped {border: 1px dashed gray;margin: 0 0.4em 0.5em 0.4em;box-sizing: border-box;padding-bottom: 0.4em;background-color: white;}#sk-container-id-2 div.sk-label label {font-family: monospace;font-weight: bold;display: inline-block;line-height: 1.2em;}#sk-container-id-2 div.sk-label-container {text-align: center;}#sk-container-id-2 div.sk-container {/* jupyter's `normalize.less` sets `[hidden] { display: none; }` but bootstrap.min.css set `[hidden] { display: none !important; }` so we also need the `!important` here to be able to override the default hidden behavior on the sphinx rendered scikit-learn.org. See: https://github.com/scikit-learn/scikit-learn/issues/21755 */display: inline-block !important;position: relative;}#sk-container-id-2 div.sk-text-repr-fallback {display: none;}</style><div id=\"sk-container-id-2\" class=\"sk-top-container\"><div class=\"sk-text-repr-fallback\"><pre>Pipeline(steps=[(&#x27;tfidf_vectorizer&#x27;, TfidfVectorizer()),\n",
              "                (&#x27;knn_classifier&#x27;,\n",
              "                 KNeighborsClassifier(n_neighbors=4, weights=&#x27;distance&#x27;))])</pre><b>In a Jupyter environment, please rerun this cell to show the HTML representation or trust the notebook. <br />On GitHub, the HTML representation is unable to render, please try loading this page with nbviewer.org.</b></div><div class=\"sk-container\" hidden><div class=\"sk-item sk-dashed-wrapped\"><div class=\"sk-label-container\"><div class=\"sk-label sk-toggleable\"><input class=\"sk-toggleable__control sk-hidden--visually\" id=\"sk-estimator-id-4\" type=\"checkbox\" ><label for=\"sk-estimator-id-4\" class=\"sk-toggleable__label sk-toggleable__label-arrow\">Pipeline</label><div class=\"sk-toggleable__content\"><pre>Pipeline(steps=[(&#x27;tfidf_vectorizer&#x27;, TfidfVectorizer()),\n",
              "                (&#x27;knn_classifier&#x27;,\n",
              "                 KNeighborsClassifier(n_neighbors=4, weights=&#x27;distance&#x27;))])</pre></div></div></div><div class=\"sk-serial\"><div class=\"sk-item\"><div class=\"sk-estimator sk-toggleable\"><input class=\"sk-toggleable__control sk-hidden--visually\" id=\"sk-estimator-id-5\" type=\"checkbox\" ><label for=\"sk-estimator-id-5\" class=\"sk-toggleable__label sk-toggleable__label-arrow\">TfidfVectorizer</label><div class=\"sk-toggleable__content\"><pre>TfidfVectorizer()</pre></div></div></div><div class=\"sk-item\"><div class=\"sk-estimator sk-toggleable\"><input class=\"sk-toggleable__control sk-hidden--visually\" id=\"sk-estimator-id-6\" type=\"checkbox\" ><label for=\"sk-estimator-id-6\" class=\"sk-toggleable__label sk-toggleable__label-arrow\">KNeighborsClassifier</label><div class=\"sk-toggleable__content\"><pre>KNeighborsClassifier(n_neighbors=4, weights=&#x27;distance&#x27;)</pre></div></div></div></div></div></div></div>"
            ]
          },
          "metadata": {},
          "execution_count": 17
        }
      ]
    },
    {
      "cell_type": "markdown",
      "source": [
        "We can see that the accuracy, precision, recall and f1 score are better than before."
      ],
      "metadata": {
        "id": "Bfqsdh7xLmT9"
      }
    },
    {
      "cell_type": "code",
      "source": [
        "from sklearn.metrics import accuracy_score, precision_score, recall_score, f1_score\n",
        "\n",
        "optimized_predicted_labels_knn = optimized_knn_pipeline.predict(X_test)\n",
        "\n",
        "optimized_accuracy = accuracy_score(y_test, optimized_predicted_labels_knn)\n",
        "print(\"Accuracy:\", optimized_accuracy)\n",
        "\n",
        "optimized_precision = precision_score(y_test, optimized_predicted_labels_knn, average='weighted')\n",
        "print(\"Precision:\", optimized_precision)\n",
        "\n",
        "optimized_recall = recall_score(y_test, optimized_predicted_labels_knn, average='weighted')\n",
        "print(\"Recall:\", optimized_recall)\n",
        "\n",
        "optimized_f1 = f1_score(y_test, optimized_predicted_labels_knn, average='weighted')\n",
        "print(\"F1 Score:\", optimized_f1)"
      ],
      "metadata": {
        "colab": {
          "base_uri": "https://localhost:8080/"
        },
        "id": "80w_xFLivaq3",
        "outputId": "939f0b71-2452-4191-cd18-6cb01217af98"
      },
      "execution_count": null,
      "outputs": [
        {
          "output_type": "stream",
          "name": "stdout",
          "text": [
            "Accuracy: 0.36770833333333336\n",
            "Precision: 0.4241811079766578\n",
            "Recall: 0.36770833333333336\n",
            "F1 Score: 0.3570560404187049\n"
          ]
        }
      ]
    },
    {
      "cell_type": "code",
      "source": [
        "df_test['test_prediction']=optimized_knn_pipeline.predict(df_test['sentence'])"
      ],
      "metadata": {
        "id": "kawhVP-i1O6i"
      },
      "execution_count": null,
      "outputs": []
    },
    {
      "cell_type": "code",
      "source": [
        "df_sub_optimized_knn=df_test[['test_prediction']]"
      ],
      "metadata": {
        "id": "2Czjkmwo2LP0"
      },
      "execution_count": null,
      "outputs": []
    },
    {
      "cell_type": "code",
      "source": [
        "df_sub_optimized_knn.to_csv('submission.csv')"
      ],
      "metadata": {
        "id": "CYHbHcZ01npI"
      },
      "execution_count": null,
      "outputs": []
    },
    {
      "cell_type": "code",
      "source": [
        "! kaggle competitions submit -c detecting-french-texts-difficulty-level-2023 -f submission.csv -m \"Sample submission\""
      ],
      "metadata": {
        "colab": {
          "base_uri": "https://localhost:8080/"
        },
        "id": "2Z3P8Nwo1y_E",
        "outputId": "d4f14d21-ff8c-44ef-da41-edff1d9412f6"
      },
      "execution_count": null,
      "outputs": [
        {
          "output_type": "stream",
          "name": "stdout",
          "text": [
            "100% 8.31k/8.31k [00:00<00:00, 33.8kB/s]\n",
            "Successfully submitted to Detecting the difficulty level of French texts"
          ]
        }
      ]
    },
    {
      "cell_type": "markdown",
      "source": [
        "![image.png](data:image/png;base64,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)"
      ],
      "metadata": {
        "id": "AQ2JgUOvk_mw"
      }
    },
    {
      "cell_type": "code",
      "source": [],
      "metadata": {
        "id": "JiadfT--k8pc"
      },
      "execution_count": null,
      "outputs": []
    },
    {
      "cell_type": "markdown",
      "source": [
        "# 2. Decision Tree Classifier Model\n"
      ],
      "metadata": {
        "id": "jctQ2IXYeXEs"
      }
    },
    {
      "cell_type": "markdown",
      "source": [
        "Develop a Decision Tree Classifier Model by Using a TFIDF (Term Frequency-Inverse Document Frequency) vectorization approach."
      ],
      "metadata": {
        "id": "wx609pSZMTl1"
      }
    },
    {
      "cell_type": "code",
      "source": [
        "from sklearn.tree import DecisionTreeClassifier\n",
        "from sklearn.feature_extraction.text import TfidfVectorizer\n",
        "from sklearn.pipeline import Pipeline\n",
        "\n",
        "tfidf_vectorizer = TfidfVectorizer()\n",
        "\n",
        "decision_tree_classifier = DecisionTreeClassifier(random_state=0)\n",
        "\n",
        "decision_tree_pipeline = Pipeline([\n",
        "    ('tfidf_vectorizer', tfidf_vectorizer),\n",
        "    ('decision_tree_classifier', decision_tree_classifier)\n",
        "])\n",
        "\n",
        "decision_tree_pipeline.fit(X_train, y_train)"
      ],
      "metadata": {
        "colab": {
          "base_uri": "https://localhost:8080/",
          "height": 125
        },
        "id": "0kZL6vtaRwoK",
        "outputId": "ab74cba1-4db5-4d81-9944-63162de4bb5b"
      },
      "execution_count": null,
      "outputs": [
        {
          "output_type": "execute_result",
          "data": {
            "text/plain": [
              "Pipeline(steps=[('tfidf_vectorizer', TfidfVectorizer()),\n",
              "                ('decision_tree_classifier',\n",
              "                 DecisionTreeClassifier(random_state=0))])"
            ],
            "text/html": [
              "<style>#sk-container-id-3 {color: black;background-color: white;}#sk-container-id-3 pre{padding: 0;}#sk-container-id-3 div.sk-toggleable {background-color: white;}#sk-container-id-3 label.sk-toggleable__label {cursor: pointer;display: block;width: 100%;margin-bottom: 0;padding: 0.3em;box-sizing: border-box;text-align: center;}#sk-container-id-3 label.sk-toggleable__label-arrow:before {content: \"▸\";float: left;margin-right: 0.25em;color: #696969;}#sk-container-id-3 label.sk-toggleable__label-arrow:hover:before {color: black;}#sk-container-id-3 div.sk-estimator:hover label.sk-toggleable__label-arrow:before {color: black;}#sk-container-id-3 div.sk-toggleable__content {max-height: 0;max-width: 0;overflow: hidden;text-align: left;background-color: #f0f8ff;}#sk-container-id-3 div.sk-toggleable__content pre {margin: 0.2em;color: black;border-radius: 0.25em;background-color: #f0f8ff;}#sk-container-id-3 input.sk-toggleable__control:checked~div.sk-toggleable__content {max-height: 200px;max-width: 100%;overflow: auto;}#sk-container-id-3 input.sk-toggleable__control:checked~label.sk-toggleable__label-arrow:before {content: \"▾\";}#sk-container-id-3 div.sk-estimator input.sk-toggleable__control:checked~label.sk-toggleable__label {background-color: #d4ebff;}#sk-container-id-3 div.sk-label input.sk-toggleable__control:checked~label.sk-toggleable__label {background-color: #d4ebff;}#sk-container-id-3 input.sk-hidden--visually {border: 0;clip: rect(1px 1px 1px 1px);clip: rect(1px, 1px, 1px, 1px);height: 1px;margin: -1px;overflow: hidden;padding: 0;position: absolute;width: 1px;}#sk-container-id-3 div.sk-estimator {font-family: monospace;background-color: #f0f8ff;border: 1px dotted black;border-radius: 0.25em;box-sizing: border-box;margin-bottom: 0.5em;}#sk-container-id-3 div.sk-estimator:hover {background-color: #d4ebff;}#sk-container-id-3 div.sk-parallel-item::after {content: \"\";width: 100%;border-bottom: 1px solid gray;flex-grow: 1;}#sk-container-id-3 div.sk-label:hover label.sk-toggleable__label {background-color: #d4ebff;}#sk-container-id-3 div.sk-serial::before {content: \"\";position: absolute;border-left: 1px solid gray;box-sizing: border-box;top: 0;bottom: 0;left: 50%;z-index: 0;}#sk-container-id-3 div.sk-serial {display: flex;flex-direction: column;align-items: center;background-color: white;padding-right: 0.2em;padding-left: 0.2em;position: relative;}#sk-container-id-3 div.sk-item {position: relative;z-index: 1;}#sk-container-id-3 div.sk-parallel {display: flex;align-items: stretch;justify-content: center;background-color: white;position: relative;}#sk-container-id-3 div.sk-item::before, #sk-container-id-3 div.sk-parallel-item::before {content: \"\";position: absolute;border-left: 1px solid gray;box-sizing: border-box;top: 0;bottom: 0;left: 50%;z-index: -1;}#sk-container-id-3 div.sk-parallel-item {display: flex;flex-direction: column;z-index: 1;position: relative;background-color: white;}#sk-container-id-3 div.sk-parallel-item:first-child::after {align-self: flex-end;width: 50%;}#sk-container-id-3 div.sk-parallel-item:last-child::after {align-self: flex-start;width: 50%;}#sk-container-id-3 div.sk-parallel-item:only-child::after {width: 0;}#sk-container-id-3 div.sk-dashed-wrapped {border: 1px dashed gray;margin: 0 0.4em 0.5em 0.4em;box-sizing: border-box;padding-bottom: 0.4em;background-color: white;}#sk-container-id-3 div.sk-label label {font-family: monospace;font-weight: bold;display: inline-block;line-height: 1.2em;}#sk-container-id-3 div.sk-label-container {text-align: center;}#sk-container-id-3 div.sk-container {/* jupyter's `normalize.less` sets `[hidden] { display: none; }` but bootstrap.min.css set `[hidden] { display: none !important; }` so we also need the `!important` here to be able to override the default hidden behavior on the sphinx rendered scikit-learn.org. See: https://github.com/scikit-learn/scikit-learn/issues/21755 */display: inline-block !important;position: relative;}#sk-container-id-3 div.sk-text-repr-fallback {display: none;}</style><div id=\"sk-container-id-3\" class=\"sk-top-container\"><div class=\"sk-text-repr-fallback\"><pre>Pipeline(steps=[(&#x27;tfidf_vectorizer&#x27;, TfidfVectorizer()),\n",
              "                (&#x27;decision_tree_classifier&#x27;,\n",
              "                 DecisionTreeClassifier(random_state=0))])</pre><b>In a Jupyter environment, please rerun this cell to show the HTML representation or trust the notebook. <br />On GitHub, the HTML representation is unable to render, please try loading this page with nbviewer.org.</b></div><div class=\"sk-container\" hidden><div class=\"sk-item sk-dashed-wrapped\"><div class=\"sk-label-container\"><div class=\"sk-label sk-toggleable\"><input class=\"sk-toggleable__control sk-hidden--visually\" id=\"sk-estimator-id-7\" type=\"checkbox\" ><label for=\"sk-estimator-id-7\" class=\"sk-toggleable__label sk-toggleable__label-arrow\">Pipeline</label><div class=\"sk-toggleable__content\"><pre>Pipeline(steps=[(&#x27;tfidf_vectorizer&#x27;, TfidfVectorizer()),\n",
              "                (&#x27;decision_tree_classifier&#x27;,\n",
              "                 DecisionTreeClassifier(random_state=0))])</pre></div></div></div><div class=\"sk-serial\"><div class=\"sk-item\"><div class=\"sk-estimator sk-toggleable\"><input class=\"sk-toggleable__control sk-hidden--visually\" id=\"sk-estimator-id-8\" type=\"checkbox\" ><label for=\"sk-estimator-id-8\" class=\"sk-toggleable__label sk-toggleable__label-arrow\">TfidfVectorizer</label><div class=\"sk-toggleable__content\"><pre>TfidfVectorizer()</pre></div></div></div><div class=\"sk-item\"><div class=\"sk-estimator sk-toggleable\"><input class=\"sk-toggleable__control sk-hidden--visually\" id=\"sk-estimator-id-9\" type=\"checkbox\" ><label for=\"sk-estimator-id-9\" class=\"sk-toggleable__label sk-toggleable__label-arrow\">DecisionTreeClassifier</label><div class=\"sk-toggleable__content\"><pre>DecisionTreeClassifier(random_state=0)</pre></div></div></div></div></div></div></div>"
            ]
          },
          "metadata": {},
          "execution_count": 23
        }
      ]
    },
    {
      "cell_type": "markdown",
      "source": [
        "As requested in the instructions, we display the Accuracy, Precision, Recall and F1 score."
      ],
      "metadata": {
        "id": "KQc2SzEjNEfR"
      }
    },
    {
      "cell_type": "code",
      "source": [
        "from sklearn.metrics import accuracy_score, precision_score, recall_score, f1_score\n",
        "\n",
        "predicted_labels_decision_tree = decision_tree_pipeline.predict(X_test)\n",
        "\n",
        "accuracy_decision_tree = accuracy_score(y_test, predicted_labels_decision_tree)\n",
        "print(\"Accuracy:\", accuracy_decision_tree)\n",
        "\n",
        "precision_decision_tree = precision_score(y_test, predicted_labels_decision_tree, average='weighted')\n",
        "print(\"Precision:\", precision_decision_tree)\n",
        "\n",
        "recall_decision_tree = recall_score(y_test, predicted_labels_decision_tree, average='weighted')\n",
        "print(\"Recall:\", recall_decision_tree)\n",
        "\n",
        "f1_decision_tree = f1_score(y_test, predicted_labels_decision_tree, average='weighted')\n",
        "print(\"F1 Score:\", f1_decision_tree)"
      ],
      "metadata": {
        "colab": {
          "base_uri": "https://localhost:8080/"
        },
        "id": "Gp4x8AzKbRLX",
        "outputId": "dd0e609d-7e4f-4438-d642-6a31bf329a2d"
      },
      "execution_count": null,
      "outputs": [
        {
          "output_type": "stream",
          "name": "stdout",
          "text": [
            "Accuracy: 0.296875\n",
            "Precision: 0.3003578282448995\n",
            "Recall: 0.296875\n",
            "F1 Score: 0.2952457659392269\n"
          ]
        }
      ]
    },
    {
      "cell_type": "markdown",
      "source": [
        "We improve the model by using Hyperparameter optimization with GridSearchCV\n",
        "\n"
      ],
      "metadata": {
        "id": "m6AEKdvdOj8j"
      }
    },
    {
      "cell_type": "code",
      "source": [
        "from sklearn.model_selection import GridSearchCV\n",
        "\n",
        "depth_grid = {'max_depth': np.arange(5, 25)}\n",
        "decision_tree_grid_search = GridSearchCV(DecisionTreeClassifier(), depth_grid, cv=5)\n",
        "\n",
        "decision_tree_pipeline = Pipeline([\n",
        "    ('tfidf_vectorizer', TfidfVectorizer()),\n",
        "    ('grid_search', decision_tree_grid_search)\n",
        "])\n",
        "\n",
        "decision_tree_pipeline.fit(X_train, y_train)\n",
        "predictions = decision_tree_pipeline.predict(X_test)\n",
        "\n",
        "print(\"Best parameters found:\", decision_tree_grid_search.best_params_)"
      ],
      "metadata": {
        "id": "cy-_w5bhdIp0"
      },
      "execution_count": null,
      "outputs": []
    },
    {
      "cell_type": "markdown",
      "source": [
        "With the help of the Hyperparameter optimization, we'll try again to see if our results are more accurate."
      ],
      "metadata": {
        "id": "v_NXfVivPuuc"
      }
    },
    {
      "cell_type": "code",
      "source": [
        "optimized_decision_tree = DecisionTreeClassifier(max_depth=16, random_state=0)\n",
        "optimized_decision_tree_pipeline = Pipeline([\n",
        "    ('vectorizer', tfidf_vector),\n",
        "    ('classifier', optimized_decision_tree)\n",
        "])\n",
        "\n",
        "optimized_decision_tree_pipeline.fit(X_train, y_train)"
      ],
      "metadata": {
        "id": "M9ChxE1ydpyt"
      },
      "execution_count": null,
      "outputs": []
    },
    {
      "cell_type": "markdown",
      "source": [
        "We can see that the Accuracy, Precision and Recall are better than before, except F1 score."
      ],
      "metadata": {
        "id": "wSQd3u5oP-dm"
      }
    },
    {
      "cell_type": "code",
      "source": [
        "from sklearn.metrics import accuracy_score, precision_score, recall_score, f1_score\n",
        "\n",
        "optimised_predicted_labels_decision_tree = optimized_decision_tree_pipeline.predict(X_test)\n",
        "\n",
        "optimised_accuracy_decision_tree = accuracy_score(y_test, optimised_predicted_labels_decision_tree)\n",
        "print(\"Accuracy:\", optimised_accuracy_decision_tree)\n",
        "\n",
        "optimised_precision_decision_tree = precision_score(y_test, optimised_predicted_labels_decision_tree, average='weighted')\n",
        "print(\"Precision:\", optimised_precision_decision_tree)\n",
        "\n",
        "optimised_recall_decision_tree = recall_score(y_test, optimised_predicted_labels_decision_tree, average='weighted')\n",
        "print(\"Recall:\", optimised_recall_decision_tree)\n",
        "\n",
        "optimised_f1_decision_tree = f1_score(y_test, optimised_predicted_labels_decision_tree, average='weighted')\n",
        "print(\"F1 Score:\", optimised_f1_decision_tree)"
      ],
      "metadata": {
        "id": "uQjsannre6Al"
      },
      "execution_count": null,
      "outputs": []
    },
    {
      "cell_type": "code",
      "source": [
        "df_test['test_prediction']=optimized_decision_tree_pipeline.predict(df_test['sentence'])\n",
        "df_sub_optimized_DT=df_test[['test_prediction']]"
      ],
      "metadata": {
        "id": "IBanWOvN4oBd"
      },
      "execution_count": null,
      "outputs": []
    },
    {
      "cell_type": "code",
      "source": [
        "df_sub_optimized_DT.to_csv('submission.csv')"
      ],
      "metadata": {
        "id": "oRAqIVtx5npy"
      },
      "execution_count": null,
      "outputs": []
    },
    {
      "cell_type": "code",
      "source": [
        "! kaggle competitions submit -c detecting-french-texts-difficulty-level-2023 -f submission.csv -m \"Sample submission\""
      ],
      "metadata": {
        "id": "D3i5G0qzgBxP",
        "colab": {
          "base_uri": "https://localhost:8080/"
        },
        "outputId": "bfcfa1c7-2a3a-4bcb-bc59-838f5fb16dc0"
      },
      "execution_count": null,
      "outputs": [
        {
          "output_type": "stream",
          "name": "stdout",
          "text": [
            "\r  0% 0.00/8.31k [00:00<?, ?B/s]\r100% 8.31k/8.31k [00:00<00:00, 33.1kB/s]\n",
            "Successfully submitted to Detecting the difficulty level of French texts"
          ]
        }
      ]
    },
    {
      "cell_type": "markdown",
      "source": [
        "![image.png](data:image/png;base64,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)"
      ],
      "metadata": {
        "id": "QrTCS9p5mFoz"
      }
    },
    {
      "cell_type": "markdown",
      "source": [],
      "metadata": {
        "id": "N8WQztZYlP5v"
      }
    },
    {
      "cell_type": "markdown",
      "source": [
        "# 3. Random Forrest Classifier Model\n"
      ],
      "metadata": {
        "id": "kG2eNPQZnSRZ"
      }
    },
    {
      "cell_type": "markdown",
      "source": [
        "Develop a Random Forrest Classifier Model by Using a TFIDF (Term Frequency-Inverse Document Frequency) vectorization approach."
      ],
      "metadata": {
        "id": "Rf-_jpZtnl_Y"
      }
    },
    {
      "cell_type": "code",
      "source": [
        "from sklearn.ensemble import RandomForestClassifier\n",
        "from sklearn.feature_extraction.text import TfidfVectorizer\n",
        "from sklearn.pipeline import Pipeline\n",
        "\n",
        "tfidf_vectorizer = TfidfVectorizer()\n",
        "\n",
        "random_forest_classifier = RandomForestClassifier(random_state=0)\n",
        "\n",
        "random_forest_pipeline = Pipeline([\n",
        "    ('tfidf_vectorizer', tfidf_vectorizer),\n",
        "    ('random_forest_classifier', random_forest_classifier)\n",
        "])\n",
        "\n",
        "random_forest_pipeline.fit(X_train, y_train)"
      ],
      "metadata": {
        "colab": {
          "base_uri": "https://localhost:8080/",
          "height": 124
        },
        "id": "B1F3gurqnhJt",
        "outputId": "3516e8be-95fa-4d50-f661-5a06903e4c48"
      },
      "execution_count": null,
      "outputs": [
        {
          "output_type": "execute_result",
          "data": {
            "text/plain": [
              "Pipeline(steps=[('tfidf_vectorizer', TfidfVectorizer()),\n",
              "                ('random_forest_classifier',\n",
              "                 RandomForestClassifier(random_state=0))])"
            ],
            "text/html": [
              "<style>#sk-container-id-1 {color: black;background-color: white;}#sk-container-id-1 pre{padding: 0;}#sk-container-id-1 div.sk-toggleable {background-color: white;}#sk-container-id-1 label.sk-toggleable__label {cursor: pointer;display: block;width: 100%;margin-bottom: 0;padding: 0.3em;box-sizing: border-box;text-align: center;}#sk-container-id-1 label.sk-toggleable__label-arrow:before {content: \"▸\";float: left;margin-right: 0.25em;color: #696969;}#sk-container-id-1 label.sk-toggleable__label-arrow:hover:before {color: black;}#sk-container-id-1 div.sk-estimator:hover label.sk-toggleable__label-arrow:before {color: black;}#sk-container-id-1 div.sk-toggleable__content {max-height: 0;max-width: 0;overflow: hidden;text-align: left;background-color: #f0f8ff;}#sk-container-id-1 div.sk-toggleable__content pre {margin: 0.2em;color: black;border-radius: 0.25em;background-color: #f0f8ff;}#sk-container-id-1 input.sk-toggleable__control:checked~div.sk-toggleable__content {max-height: 200px;max-width: 100%;overflow: auto;}#sk-container-id-1 input.sk-toggleable__control:checked~label.sk-toggleable__label-arrow:before {content: \"▾\";}#sk-container-id-1 div.sk-estimator input.sk-toggleable__control:checked~label.sk-toggleable__label {background-color: #d4ebff;}#sk-container-id-1 div.sk-label input.sk-toggleable__control:checked~label.sk-toggleable__label {background-color: #d4ebff;}#sk-container-id-1 input.sk-hidden--visually {border: 0;clip: rect(1px 1px 1px 1px);clip: rect(1px, 1px, 1px, 1px);height: 1px;margin: -1px;overflow: hidden;padding: 0;position: absolute;width: 1px;}#sk-container-id-1 div.sk-estimator {font-family: monospace;background-color: #f0f8ff;border: 1px dotted black;border-radius: 0.25em;box-sizing: border-box;margin-bottom: 0.5em;}#sk-container-id-1 div.sk-estimator:hover {background-color: #d4ebff;}#sk-container-id-1 div.sk-parallel-item::after {content: \"\";width: 100%;border-bottom: 1px solid gray;flex-grow: 1;}#sk-container-id-1 div.sk-label:hover label.sk-toggleable__label {background-color: #d4ebff;}#sk-container-id-1 div.sk-serial::before {content: \"\";position: absolute;border-left: 1px solid gray;box-sizing: border-box;top: 0;bottom: 0;left: 50%;z-index: 0;}#sk-container-id-1 div.sk-serial {display: flex;flex-direction: column;align-items: center;background-color: white;padding-right: 0.2em;padding-left: 0.2em;position: relative;}#sk-container-id-1 div.sk-item {position: relative;z-index: 1;}#sk-container-id-1 div.sk-parallel {display: flex;align-items: stretch;justify-content: center;background-color: white;position: relative;}#sk-container-id-1 div.sk-item::before, #sk-container-id-1 div.sk-parallel-item::before {content: \"\";position: absolute;border-left: 1px solid gray;box-sizing: border-box;top: 0;bottom: 0;left: 50%;z-index: -1;}#sk-container-id-1 div.sk-parallel-item {display: flex;flex-direction: column;z-index: 1;position: relative;background-color: white;}#sk-container-id-1 div.sk-parallel-item:first-child::after {align-self: flex-end;width: 50%;}#sk-container-id-1 div.sk-parallel-item:last-child::after {align-self: flex-start;width: 50%;}#sk-container-id-1 div.sk-parallel-item:only-child::after {width: 0;}#sk-container-id-1 div.sk-dashed-wrapped {border: 1px dashed gray;margin: 0 0.4em 0.5em 0.4em;box-sizing: border-box;padding-bottom: 0.4em;background-color: white;}#sk-container-id-1 div.sk-label label {font-family: monospace;font-weight: bold;display: inline-block;line-height: 1.2em;}#sk-container-id-1 div.sk-label-container {text-align: center;}#sk-container-id-1 div.sk-container {/* jupyter's `normalize.less` sets `[hidden] { display: none; }` but bootstrap.min.css set `[hidden] { display: none !important; }` so we also need the `!important` here to be able to override the default hidden behavior on the sphinx rendered scikit-learn.org. See: https://github.com/scikit-learn/scikit-learn/issues/21755 */display: inline-block !important;position: relative;}#sk-container-id-1 div.sk-text-repr-fallback {display: none;}</style><div id=\"sk-container-id-1\" class=\"sk-top-container\"><div class=\"sk-text-repr-fallback\"><pre>Pipeline(steps=[(&#x27;tfidf_vectorizer&#x27;, TfidfVectorizer()),\n",
              "                (&#x27;random_forest_classifier&#x27;,\n",
              "                 RandomForestClassifier(random_state=0))])</pre><b>In a Jupyter environment, please rerun this cell to show the HTML representation or trust the notebook. <br />On GitHub, the HTML representation is unable to render, please try loading this page with nbviewer.org.</b></div><div class=\"sk-container\" hidden><div class=\"sk-item sk-dashed-wrapped\"><div class=\"sk-label-container\"><div class=\"sk-label sk-toggleable\"><input class=\"sk-toggleable__control sk-hidden--visually\" id=\"sk-estimator-id-1\" type=\"checkbox\" ><label for=\"sk-estimator-id-1\" class=\"sk-toggleable__label sk-toggleable__label-arrow\">Pipeline</label><div class=\"sk-toggleable__content\"><pre>Pipeline(steps=[(&#x27;tfidf_vectorizer&#x27;, TfidfVectorizer()),\n",
              "                (&#x27;random_forest_classifier&#x27;,\n",
              "                 RandomForestClassifier(random_state=0))])</pre></div></div></div><div class=\"sk-serial\"><div class=\"sk-item\"><div class=\"sk-estimator sk-toggleable\"><input class=\"sk-toggleable__control sk-hidden--visually\" id=\"sk-estimator-id-2\" type=\"checkbox\" ><label for=\"sk-estimator-id-2\" class=\"sk-toggleable__label sk-toggleable__label-arrow\">TfidfVectorizer</label><div class=\"sk-toggleable__content\"><pre>TfidfVectorizer()</pre></div></div></div><div class=\"sk-item\"><div class=\"sk-estimator sk-toggleable\"><input class=\"sk-toggleable__control sk-hidden--visually\" id=\"sk-estimator-id-3\" type=\"checkbox\" ><label for=\"sk-estimator-id-3\" class=\"sk-toggleable__label sk-toggleable__label-arrow\">RandomForestClassifier</label><div class=\"sk-toggleable__content\"><pre>RandomForestClassifier(random_state=0)</pre></div></div></div></div></div></div></div>"
            ]
          },
          "metadata": {},
          "execution_count": 11
        }
      ]
    },
    {
      "cell_type": "markdown",
      "source": [
        "As requested in the instructions, we display the Accuracy, Precision, Recall and F1 score."
      ],
      "metadata": {
        "id": "U_4S18znpUxa"
      }
    },
    {
      "cell_type": "code",
      "source": [
        "from sklearn.metrics import accuracy_score, precision_score, recall_score, f1_score\n",
        "\n",
        "predicted_labels_random_forest = random_forest_pipeline.predict(X_test)\n",
        "\n",
        "accuracy_random_forest = accuracy_score(y_test, predicted_labels_random_forest)\n",
        "print(\"Accuracy:\", accuracy_random_forest)\n",
        "\n",
        "precision_random_forest = precision_score(y_test, predicted_labels_random_forest, average='weighted')\n",
        "print(\"Precision:\", precision_random_forest)\n",
        "\n",
        "recall_random_forest = recall_score(y_test, predicted_labels_random_forest, average='weighted')\n",
        "print(\"Recall:\", recall_random_forest)\n",
        "\n",
        "f1_random_forest = f1_score(y_test, predicted_labels_random_forest, average='weighted')\n",
        "print(\"F1 Score:\", f1_random_forest)"
      ],
      "metadata": {
        "colab": {
          "base_uri": "https://localhost:8080/"
        },
        "id": "oDR6QDT-pWzX",
        "outputId": "da445312-0874-4a33-96f2-85c7069c3fd1"
      },
      "execution_count": null,
      "outputs": [
        {
          "output_type": "stream",
          "name": "stdout",
          "text": [
            "Accuracy: 0.41354166666666664\n",
            "Precision: 0.4228475404545226\n",
            "Recall: 0.41354166666666664\n",
            "F1 Score: 0.3999781375094399\n"
          ]
        }
      ]
    },
    {
      "cell_type": "markdown",
      "source": [
        "We improve the model by using Hyperparameter optimization with GridSearchCV"
      ],
      "metadata": {
        "id": "faOYf7XjxWc4"
      }
    },
    {
      "cell_type": "code",
      "source": [
        "from sklearn.model_selection import GridSearchCV\n",
        "from sklearn.ensemble import RandomForestClassifier\n",
        "\n",
        "param_grid = {\n",
        "    'max_depth': np.arange(5, 25),\n",
        "    'n_estimators': [10, 50, 100, 200]\n",
        "}\n",
        "\n",
        "random_forest_grid_search = GridSearchCV(RandomForestClassifier(), param_grid, cv=5)\n",
        "\n",
        "random_forest_pipeline = Pipeline([\n",
        "    ('tfidf_vectorizer', TfidfVectorizer()),\n",
        "    ('grid_search', random_forest_grid_search)\n",
        "])\n",
        "\n",
        "random_forest_pipeline.fit(X_train, y_train)\n",
        "predictions = random_forest_pipeline.predict(X_test)\n",
        "\n",
        "print(\"Best parameters found:\", random_forest_grid_search.best_params_)"
      ],
      "metadata": {
        "colab": {
          "base_uri": "https://localhost:8080/"
        },
        "id": "vgFtQt7kxQBo",
        "outputId": "01259472-a41b-4c2b-8152-55c2218a7a1e"
      },
      "execution_count": null,
      "outputs": [
        {
          "output_type": "stream",
          "name": "stdout",
          "text": [
            "Best parameters found: {'max_depth': 24, 'n_estimators': 200}\n"
          ]
        }
      ]
    },
    {
      "cell_type": "markdown",
      "source": [
        "With the help of the Hyperparameter optimization, we'll try again to see if our results are more accurate."
      ],
      "metadata": {
        "id": "IOFpN3C-Wj32"
      }
    },
    {
      "cell_type": "code",
      "source": [
        "optimized_random_forest = RandomForestClassifier(max_depth=19, n_estimators=200, random_state=0)\n",
        "\n",
        "optimized_random_forest_pipeline = Pipeline([\n",
        "    ('vectorizer', tfidf_vector),\n",
        "    ('classifier', optimized_random_forest)\n",
        "])\n",
        "\n",
        "optimized_random_forest_pipeline.fit(X_train, y_train)"
      ],
      "metadata": {
        "colab": {
          "base_uri": "https://localhost:8080/",
          "height": 124
        },
        "id": "zVxX0v15xYMs",
        "outputId": "02558ad1-6316-40f1-c22f-2c707652f665"
      },
      "execution_count": null,
      "outputs": [
        {
          "output_type": "execute_result",
          "data": {
            "text/plain": [
              "Pipeline(steps=[('vectorizer', TfidfVectorizer()),\n",
              "                ('classifier',\n",
              "                 RandomForestClassifier(max_depth=19, n_estimators=200,\n",
              "                                        random_state=0))])"
            ],
            "text/html": [
              "<style>#sk-container-id-2 {color: black;background-color: white;}#sk-container-id-2 pre{padding: 0;}#sk-container-id-2 div.sk-toggleable {background-color: white;}#sk-container-id-2 label.sk-toggleable__label {cursor: pointer;display: block;width: 100%;margin-bottom: 0;padding: 0.3em;box-sizing: border-box;text-align: center;}#sk-container-id-2 label.sk-toggleable__label-arrow:before {content: \"▸\";float: left;margin-right: 0.25em;color: #696969;}#sk-container-id-2 label.sk-toggleable__label-arrow:hover:before {color: black;}#sk-container-id-2 div.sk-estimator:hover label.sk-toggleable__label-arrow:before {color: black;}#sk-container-id-2 div.sk-toggleable__content {max-height: 0;max-width: 0;overflow: hidden;text-align: left;background-color: #f0f8ff;}#sk-container-id-2 div.sk-toggleable__content pre {margin: 0.2em;color: black;border-radius: 0.25em;background-color: #f0f8ff;}#sk-container-id-2 input.sk-toggleable__control:checked~div.sk-toggleable__content {max-height: 200px;max-width: 100%;overflow: auto;}#sk-container-id-2 input.sk-toggleable__control:checked~label.sk-toggleable__label-arrow:before {content: \"▾\";}#sk-container-id-2 div.sk-estimator input.sk-toggleable__control:checked~label.sk-toggleable__label {background-color: #d4ebff;}#sk-container-id-2 div.sk-label input.sk-toggleable__control:checked~label.sk-toggleable__label {background-color: #d4ebff;}#sk-container-id-2 input.sk-hidden--visually {border: 0;clip: rect(1px 1px 1px 1px);clip: rect(1px, 1px, 1px, 1px);height: 1px;margin: -1px;overflow: hidden;padding: 0;position: absolute;width: 1px;}#sk-container-id-2 div.sk-estimator {font-family: monospace;background-color: #f0f8ff;border: 1px dotted black;border-radius: 0.25em;box-sizing: border-box;margin-bottom: 0.5em;}#sk-container-id-2 div.sk-estimator:hover {background-color: #d4ebff;}#sk-container-id-2 div.sk-parallel-item::after {content: \"\";width: 100%;border-bottom: 1px solid gray;flex-grow: 1;}#sk-container-id-2 div.sk-label:hover label.sk-toggleable__label {background-color: #d4ebff;}#sk-container-id-2 div.sk-serial::before {content: \"\";position: absolute;border-left: 1px solid gray;box-sizing: border-box;top: 0;bottom: 0;left: 50%;z-index: 0;}#sk-container-id-2 div.sk-serial {display: flex;flex-direction: column;align-items: center;background-color: white;padding-right: 0.2em;padding-left: 0.2em;position: relative;}#sk-container-id-2 div.sk-item {position: relative;z-index: 1;}#sk-container-id-2 div.sk-parallel {display: flex;align-items: stretch;justify-content: center;background-color: white;position: relative;}#sk-container-id-2 div.sk-item::before, #sk-container-id-2 div.sk-parallel-item::before {content: \"\";position: absolute;border-left: 1px solid gray;box-sizing: border-box;top: 0;bottom: 0;left: 50%;z-index: -1;}#sk-container-id-2 div.sk-parallel-item {display: flex;flex-direction: column;z-index: 1;position: relative;background-color: white;}#sk-container-id-2 div.sk-parallel-item:first-child::after {align-self: flex-end;width: 50%;}#sk-container-id-2 div.sk-parallel-item:last-child::after {align-self: flex-start;width: 50%;}#sk-container-id-2 div.sk-parallel-item:only-child::after {width: 0;}#sk-container-id-2 div.sk-dashed-wrapped {border: 1px dashed gray;margin: 0 0.4em 0.5em 0.4em;box-sizing: border-box;padding-bottom: 0.4em;background-color: white;}#sk-container-id-2 div.sk-label label {font-family: monospace;font-weight: bold;display: inline-block;line-height: 1.2em;}#sk-container-id-2 div.sk-label-container {text-align: center;}#sk-container-id-2 div.sk-container {/* jupyter's `normalize.less` sets `[hidden] { display: none; }` but bootstrap.min.css set `[hidden] { display: none !important; }` so we also need the `!important` here to be able to override the default hidden behavior on the sphinx rendered scikit-learn.org. See: https://github.com/scikit-learn/scikit-learn/issues/21755 */display: inline-block !important;position: relative;}#sk-container-id-2 div.sk-text-repr-fallback {display: none;}</style><div id=\"sk-container-id-2\" class=\"sk-top-container\"><div class=\"sk-text-repr-fallback\"><pre>Pipeline(steps=[(&#x27;vectorizer&#x27;, TfidfVectorizer()),\n",
              "                (&#x27;classifier&#x27;,\n",
              "                 RandomForestClassifier(max_depth=19, n_estimators=200,\n",
              "                                        random_state=0))])</pre><b>In a Jupyter environment, please rerun this cell to show the HTML representation or trust the notebook. <br />On GitHub, the HTML representation is unable to render, please try loading this page with nbviewer.org.</b></div><div class=\"sk-container\" hidden><div class=\"sk-item sk-dashed-wrapped\"><div class=\"sk-label-container\"><div class=\"sk-label sk-toggleable\"><input class=\"sk-toggleable__control sk-hidden--visually\" id=\"sk-estimator-id-4\" type=\"checkbox\" ><label for=\"sk-estimator-id-4\" class=\"sk-toggleable__label sk-toggleable__label-arrow\">Pipeline</label><div class=\"sk-toggleable__content\"><pre>Pipeline(steps=[(&#x27;vectorizer&#x27;, TfidfVectorizer()),\n",
              "                (&#x27;classifier&#x27;,\n",
              "                 RandomForestClassifier(max_depth=19, n_estimators=200,\n",
              "                                        random_state=0))])</pre></div></div></div><div class=\"sk-serial\"><div class=\"sk-item\"><div class=\"sk-estimator sk-toggleable\"><input class=\"sk-toggleable__control sk-hidden--visually\" id=\"sk-estimator-id-5\" type=\"checkbox\" ><label for=\"sk-estimator-id-5\" class=\"sk-toggleable__label sk-toggleable__label-arrow\">TfidfVectorizer</label><div class=\"sk-toggleable__content\"><pre>TfidfVectorizer()</pre></div></div></div><div class=\"sk-item\"><div class=\"sk-estimator sk-toggleable\"><input class=\"sk-toggleable__control sk-hidden--visually\" id=\"sk-estimator-id-6\" type=\"checkbox\" ><label for=\"sk-estimator-id-6\" class=\"sk-toggleable__label sk-toggleable__label-arrow\">RandomForestClassifier</label><div class=\"sk-toggleable__content\"><pre>RandomForestClassifier(max_depth=19, n_estimators=200, random_state=0)</pre></div></div></div></div></div></div></div>"
            ]
          },
          "metadata": {},
          "execution_count": 14
        }
      ]
    },
    {
      "cell_type": "markdown",
      "source": [
        "We show the accuracy, precision, recall and F1 score on the test set."
      ],
      "metadata": {
        "id": "ipi57QdUmX9A"
      }
    },
    {
      "cell_type": "code",
      "source": [
        "from sklearn.metrics import accuracy_score, precision_score, recall_score, f1_score\n",
        "\n",
        "optimised_predicted_labels_random_forest = optimized_random_forest_pipeline.predict(X_test)\n",
        "\n",
        "optimised_accuracy_random_forest = accuracy_score(y_test, optimised_predicted_labels_random_forest)\n",
        "print(\"Accuracy:\", optimised_accuracy_random_forest)\n",
        "\n",
        "optimised_precision_random_forest = precision_score(y_test, optimised_predicted_labels_random_forest, average='weighted')\n",
        "print(\"Precision:\", optimised_precision_random_forest)\n",
        "\n",
        "optimised_recall_random_forest = recall_score(y_test, optimised_predicted_labels_random_forest, average='weighted')\n",
        "print(\"Recall:\", optimised_recall_random_forest)\n",
        "\n",
        "optimised_f1_random_forest = f1_score(y_test, optimised_predicted_labels_random_forest, average='weighted')\n",
        "print(\"F1 Score:\", optimised_f1_random_forest)"
      ],
      "metadata": {
        "colab": {
          "base_uri": "https://localhost:8080/"
        },
        "id": "J4CuAvE0arqk",
        "outputId": "fa2b881c-45da-434e-b021-8b3db1f05b13"
      },
      "execution_count": null,
      "outputs": [
        {
          "output_type": "stream",
          "name": "stdout",
          "text": [
            "Accuracy: 0.4041666666666667\n",
            "Precision: 0.41226998528759295\n",
            "Recall: 0.4041666666666667\n",
            "F1 Score: 0.3841999931943235\n"
          ]
        }
      ]
    },
    {
      "cell_type": "code",
      "source": [
        "df_test['test_prediction'] = optimized_random_forest_pipeline.predict(df_test['sentence'])\n",
        "df_sub_optimized_RF = df_test[['test_prediction']]"
      ],
      "metadata": {
        "id": "1m3H796_nKZ2"
      },
      "execution_count": null,
      "outputs": []
    },
    {
      "cell_type": "code",
      "source": [
        "df_sub_optimized_RF.to_csv('submission.csv')"
      ],
      "metadata": {
        "id": "BoCN49xonVn0"
      },
      "execution_count": null,
      "outputs": []
    },
    {
      "cell_type": "code",
      "source": [
        "! kaggle competitions submit -c detecting-french-texts-difficulty-level-2023 -f submission.csv -m \"Sample submission\""
      ],
      "metadata": {
        "colab": {
          "base_uri": "https://localhost:8080/"
        },
        "id": "MEshOAVYnWrV",
        "outputId": "b7f76ba3-c1c9-4927-fa2d-c24e968a0f85"
      },
      "execution_count": null,
      "outputs": [
        {
          "output_type": "stream",
          "name": "stdout",
          "text": [
            "100% 8.31k/8.31k [00:00<00:00, 10.0kB/s]\n",
            "Successfully submitted to Detecting the difficulty level of French texts"
          ]
        }
      ]
    },
    {
      "cell_type": "markdown",
      "source": [
        "![image.png](data:image/png;base64,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)"
      ],
      "metadata": {
        "id": "koDtkZqnlrDr"
      }
    }
  ],
  "metadata": {
    "colab": {
      "provenance": []
    },
    "kernelspec": {
      "display_name": "Python 3 (ipykernel)",
      "language": "python",
      "name": "python3"
    },
    "language_info": {
      "codemirror_mode": {
        "name": "ipython",
        "version": 3
      },
      "file_extension": ".py",
      "mimetype": "text/x-python",
      "name": "python",
      "nbconvert_exporter": "python",
      "pygments_lexer": "ipython3",
      "version": "3.9.6"
    },
    "toc": {
      "base_numbering": 1,
      "nav_menu": {},
      "number_sections": true,
      "sideBar": true,
      "skip_h1_title": false,
      "title_cell": "Table of Contents",
      "title_sidebar": "Contents",
      "toc_cell": false,
      "toc_position": {},
      "toc_section_display": true,
      "toc_window_display": false
    }
  },
  "nbformat": 4,
  "nbformat_minor": 0
}