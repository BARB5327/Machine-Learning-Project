{
  "cells": [
    {
      "cell_type": "markdown",
      "source": [
        "#Initialization of the kaggle and the files#"
      ],
      "metadata": {
        "id": "kTfmqzC6OtfX"
      }
    },
    {
      "cell_type": "code",
      "execution_count": 2,
      "metadata": {
        "colab": {
          "base_uri": "https://localhost:8080/"
        },
        "id": "UJ_hnJzSNO2g",
        "outputId": "83216c6f-9a09-4d81-8744-665e1ebc968c"
      },
      "outputs": [
        {
          "output_type": "stream",
          "name": "stdout",
          "text": [
            "Mounted at /content/drive\n"
          ]
        }
      ],
      "source": [
        "# reading in the data via the Kaggle API\n",
        "\n",
        "# mount your Google Drive\n",
        "from google.colab import drive\n",
        "drive.mount('/content/drive', force_remount=True)"
      ]
    },
    {
      "cell_type": "code",
      "execution_count": 3,
      "metadata": {
        "colab": {
          "base_uri": "https://localhost:8080/"
        },
        "id": "mJPTz3D7TeQv",
        "outputId": "dbaa67a5-3c71-43d2-adb5-56d144fe0faa"
      },
      "outputs": [
        {
          "output_type": "stream",
          "name": "stdout",
          "text": [
            "Requirement already satisfied: kaggle in /usr/local/lib/python3.10/dist-packages (1.5.16)\n",
            "Requirement already satisfied: six>=1.10 in /usr/local/lib/python3.10/dist-packages (from kaggle) (1.16.0)\n",
            "Requirement already satisfied: certifi in /usr/local/lib/python3.10/dist-packages (from kaggle) (2023.7.22)\n",
            "Requirement already satisfied: python-dateutil in /usr/local/lib/python3.10/dist-packages (from kaggle) (2.8.2)\n",
            "Requirement already satisfied: requests in /usr/local/lib/python3.10/dist-packages (from kaggle) (2.31.0)\n",
            "Requirement already satisfied: tqdm in /usr/local/lib/python3.10/dist-packages (from kaggle) (4.66.1)\n",
            "Requirement already satisfied: python-slugify in /usr/local/lib/python3.10/dist-packages (from kaggle) (8.0.1)\n",
            "Requirement already satisfied: urllib3 in /usr/local/lib/python3.10/dist-packages (from kaggle) (2.0.7)\n",
            "Requirement already satisfied: bleach in /usr/local/lib/python3.10/dist-packages (from kaggle) (6.1.0)\n",
            "Requirement already satisfied: webencodings in /usr/local/lib/python3.10/dist-packages (from bleach->kaggle) (0.5.1)\n",
            "Requirement already satisfied: text-unidecode>=1.3 in /usr/local/lib/python3.10/dist-packages (from python-slugify->kaggle) (1.3)\n",
            "Requirement already satisfied: charset-normalizer<4,>=2 in /usr/local/lib/python3.10/dist-packages (from requests->kaggle) (3.3.2)\n",
            "Requirement already satisfied: idna<4,>=2.5 in /usr/local/lib/python3.10/dist-packages (from requests->kaggle) (3.4)\n"
          ]
        }
      ],
      "source": [
        "# install Kaggle\n",
        "! pip install kaggle"
      ]
    },
    {
      "cell_type": "markdown",
      "metadata": {
        "id": "ZKG1TCddRYTB"
      },
      "source": [
        "Log into your Kaggle account, go to Account > API > Create new API token. You will obtain a kaggle.json file, which you save on your Google Drive directy in my drive."
      ]
    },
    {
      "cell_type": "code",
      "execution_count": 4,
      "metadata": {
        "id": "JgzLj451YDfV",
        "colab": {
          "base_uri": "https://localhost:8080/"
        },
        "outputId": "574e6ec3-2e43-4864-c273-84a5d9c0dc0f"
      },
      "outputs": [
        {
          "output_type": "stream",
          "name": "stdout",
          "text": [
            "mkdir: cannot create directory ‘/root/.kaggle’: File exists\n"
          ]
        }
      ],
      "source": [
        "!mkdir ~/.kaggle"
      ]
    },
    {
      "cell_type": "code",
      "execution_count": 5,
      "metadata": {
        "id": "KrsZLalrSI3u"
      },
      "outputs": [],
      "source": [
        "#read in your Kaggle credentials from Google Drive\n",
        "!cp /content/drive/MyDrive/Kaggle/kaggle.json ~/.kaggle/kaggle.json\n"
      ]
    },
    {
      "cell_type": "code",
      "execution_count": 5,
      "metadata": {
        "colab": {
          "base_uri": "https://localhost:8080/"
        },
        "id": "BDI60LXKTPzf",
        "outputId": "b2b34f82-1748-40fd-afe5-6fce22eb6e09"
      },
      "outputs": [
        {
          "output_type": "stream",
          "name": "stdout",
          "text": [
            "detecting-french-texts-difficulty-level-2023.zip: Skipping, found more recently modified local copy (use --force to force download)\n"
          ]
        }
      ],
      "source": [
        "! kaggle competitions download -c detecting-french-texts-difficulty-level-2023\n",
        "from zipfile import ZipFile\n",
        "with ZipFile('detecting-french-texts-difficulty-level-2023.zip','r') as zip:\n",
        "  zip.extractall(path=\"\")"
      ]
    },
    {
      "cell_type": "markdown",
      "source": [
        "# Begining of the model\n",
        "#####We install the transformers and spacy that we'll use later for"
      ],
      "metadata": {
        "id": "HHb-bzEFOdNv"
      }
    },
    {
      "cell_type": "code",
      "source": [
        "!pip install -q transformers\n",
        "!python -m spacy download fr_core_news_sm\n"
      ],
      "metadata": {
        "colab": {
          "base_uri": "https://localhost:8080/"
        },
        "id": "IKB5eYqaQRES",
        "outputId": "4d5084df-6504-482b-b136-e4869f1816f6"
      },
      "execution_count": 6,
      "outputs": [
        {
          "output_type": "stream",
          "name": "stdout",
          "text": [
            "2023-11-30 17:55:54.065721: E tensorflow/compiler/xla/stream_executor/cuda/cuda_dnn.cc:9342] Unable to register cuDNN factory: Attempting to register factory for plugin cuDNN when one has already been registered\n",
            "2023-11-30 17:55:54.065791: E tensorflow/compiler/xla/stream_executor/cuda/cuda_fft.cc:609] Unable to register cuFFT factory: Attempting to register factory for plugin cuFFT when one has already been registered\n",
            "2023-11-30 17:55:54.065832: E tensorflow/compiler/xla/stream_executor/cuda/cuda_blas.cc:1518] Unable to register cuBLAS factory: Attempting to register factory for plugin cuBLAS when one has already been registered\n",
            "2023-11-30 17:55:54.074927: I tensorflow/core/platform/cpu_feature_guard.cc:182] This TensorFlow binary is optimized to use available CPU instructions in performance-critical operations.\n",
            "To enable the following instructions: AVX2 FMA, in other operations, rebuild TensorFlow with the appropriate compiler flags.\n",
            "2023-11-30 17:55:55.404872: W tensorflow/compiler/tf2tensorrt/utils/py_utils.cc:38] TF-TRT Warning: Could not find TensorRT\n",
            "Collecting fr-core-news-sm==3.6.0\n",
            "  Downloading https://github.com/explosion/spacy-models/releases/download/fr_core_news_sm-3.6.0/fr_core_news_sm-3.6.0-py3-none-any.whl (16.3 MB)\n",
            "\u001b[2K     \u001b[90m━━━━━━━━━━━━━━━━━━━━━━━━━━━━━━━━━━━━━━━━\u001b[0m \u001b[32m16.3/16.3 MB\u001b[0m \u001b[31m59.6 MB/s\u001b[0m eta \u001b[36m0:00:00\u001b[0m\n",
            "\u001b[?25hRequirement already satisfied: spacy<3.7.0,>=3.6.0 in /usr/local/lib/python3.10/dist-packages (from fr-core-news-sm==3.6.0) (3.6.1)\n",
            "Requirement already satisfied: spacy-legacy<3.1.0,>=3.0.11 in /usr/local/lib/python3.10/dist-packages (from spacy<3.7.0,>=3.6.0->fr-core-news-sm==3.6.0) (3.0.12)\n",
            "Requirement already satisfied: spacy-loggers<2.0.0,>=1.0.0 in /usr/local/lib/python3.10/dist-packages (from spacy<3.7.0,>=3.6.0->fr-core-news-sm==3.6.0) (1.0.5)\n",
            "Requirement already satisfied: murmurhash<1.1.0,>=0.28.0 in /usr/local/lib/python3.10/dist-packages (from spacy<3.7.0,>=3.6.0->fr-core-news-sm==3.6.0) (1.0.10)\n",
            "Requirement already satisfied: cymem<2.1.0,>=2.0.2 in /usr/local/lib/python3.10/dist-packages (from spacy<3.7.0,>=3.6.0->fr-core-news-sm==3.6.0) (2.0.8)\n",
            "Requirement already satisfied: preshed<3.1.0,>=3.0.2 in /usr/local/lib/python3.10/dist-packages (from spacy<3.7.0,>=3.6.0->fr-core-news-sm==3.6.0) (3.0.9)\n",
            "Requirement already satisfied: thinc<8.2.0,>=8.1.8 in /usr/local/lib/python3.10/dist-packages (from spacy<3.7.0,>=3.6.0->fr-core-news-sm==3.6.0) (8.1.12)\n",
            "Requirement already satisfied: wasabi<1.2.0,>=0.9.1 in /usr/local/lib/python3.10/dist-packages (from spacy<3.7.0,>=3.6.0->fr-core-news-sm==3.6.0) (1.1.2)\n",
            "Requirement already satisfied: srsly<3.0.0,>=2.4.3 in /usr/local/lib/python3.10/dist-packages (from spacy<3.7.0,>=3.6.0->fr-core-news-sm==3.6.0) (2.4.8)\n",
            "Requirement already satisfied: catalogue<2.1.0,>=2.0.6 in /usr/local/lib/python3.10/dist-packages (from spacy<3.7.0,>=3.6.0->fr-core-news-sm==3.6.0) (2.0.10)\n",
            "Requirement already satisfied: typer<0.10.0,>=0.3.0 in /usr/local/lib/python3.10/dist-packages (from spacy<3.7.0,>=3.6.0->fr-core-news-sm==3.6.0) (0.9.0)\n",
            "Requirement already satisfied: pathy>=0.10.0 in /usr/local/lib/python3.10/dist-packages (from spacy<3.7.0,>=3.6.0->fr-core-news-sm==3.6.0) (0.10.3)\n",
            "Requirement already satisfied: smart-open<7.0.0,>=5.2.1 in /usr/local/lib/python3.10/dist-packages (from spacy<3.7.0,>=3.6.0->fr-core-news-sm==3.6.0) (6.4.0)\n",
            "Requirement already satisfied: tqdm<5.0.0,>=4.38.0 in /usr/local/lib/python3.10/dist-packages (from spacy<3.7.0,>=3.6.0->fr-core-news-sm==3.6.0) (4.66.1)\n",
            "Requirement already satisfied: numpy>=1.15.0 in /usr/local/lib/python3.10/dist-packages (from spacy<3.7.0,>=3.6.0->fr-core-news-sm==3.6.0) (1.23.5)\n",
            "Requirement already satisfied: requests<3.0.0,>=2.13.0 in /usr/local/lib/python3.10/dist-packages (from spacy<3.7.0,>=3.6.0->fr-core-news-sm==3.6.0) (2.31.0)\n",
            "Requirement already satisfied: pydantic!=1.8,!=1.8.1,<3.0.0,>=1.7.4 in /usr/local/lib/python3.10/dist-packages (from spacy<3.7.0,>=3.6.0->fr-core-news-sm==3.6.0) (1.10.13)\n",
            "Requirement already satisfied: jinja2 in /usr/local/lib/python3.10/dist-packages (from spacy<3.7.0,>=3.6.0->fr-core-news-sm==3.6.0) (3.1.2)\n",
            "Requirement already satisfied: setuptools in /usr/local/lib/python3.10/dist-packages (from spacy<3.7.0,>=3.6.0->fr-core-news-sm==3.6.0) (67.7.2)\n",
            "Requirement already satisfied: packaging>=20.0 in /usr/local/lib/python3.10/dist-packages (from spacy<3.7.0,>=3.6.0->fr-core-news-sm==3.6.0) (23.2)\n",
            "Requirement already satisfied: langcodes<4.0.0,>=3.2.0 in /usr/local/lib/python3.10/dist-packages (from spacy<3.7.0,>=3.6.0->fr-core-news-sm==3.6.0) (3.3.0)\n",
            "Requirement already satisfied: typing-extensions>=4.2.0 in /usr/local/lib/python3.10/dist-packages (from pydantic!=1.8,!=1.8.1,<3.0.0,>=1.7.4->spacy<3.7.0,>=3.6.0->fr-core-news-sm==3.6.0) (4.5.0)\n",
            "Requirement already satisfied: charset-normalizer<4,>=2 in /usr/local/lib/python3.10/dist-packages (from requests<3.0.0,>=2.13.0->spacy<3.7.0,>=3.6.0->fr-core-news-sm==3.6.0) (3.3.2)\n",
            "Requirement already satisfied: idna<4,>=2.5 in /usr/local/lib/python3.10/dist-packages (from requests<3.0.0,>=2.13.0->spacy<3.7.0,>=3.6.0->fr-core-news-sm==3.6.0) (3.4)\n",
            "Requirement already satisfied: urllib3<3,>=1.21.1 in /usr/local/lib/python3.10/dist-packages (from requests<3.0.0,>=2.13.0->spacy<3.7.0,>=3.6.0->fr-core-news-sm==3.6.0) (2.0.7)\n",
            "Requirement already satisfied: certifi>=2017.4.17 in /usr/local/lib/python3.10/dist-packages (from requests<3.0.0,>=2.13.0->spacy<3.7.0,>=3.6.0->fr-core-news-sm==3.6.0) (2023.7.22)\n",
            "Requirement already satisfied: blis<0.8.0,>=0.7.8 in /usr/local/lib/python3.10/dist-packages (from thinc<8.2.0,>=8.1.8->spacy<3.7.0,>=3.6.0->fr-core-news-sm==3.6.0) (0.7.11)\n",
            "Requirement already satisfied: confection<1.0.0,>=0.0.1 in /usr/local/lib/python3.10/dist-packages (from thinc<8.2.0,>=8.1.8->spacy<3.7.0,>=3.6.0->fr-core-news-sm==3.6.0) (0.1.3)\n",
            "Requirement already satisfied: click<9.0.0,>=7.1.1 in /usr/local/lib/python3.10/dist-packages (from typer<0.10.0,>=0.3.0->spacy<3.7.0,>=3.6.0->fr-core-news-sm==3.6.0) (8.1.7)\n",
            "Requirement already satisfied: MarkupSafe>=2.0 in /usr/local/lib/python3.10/dist-packages (from jinja2->spacy<3.7.0,>=3.6.0->fr-core-news-sm==3.6.0) (2.1.3)\n",
            "\u001b[38;5;2m✔ Download and installation successful\u001b[0m\n",
            "You can now load the package via spacy.load('fr_core_news_sm')\n"
          ]
        }
      ]
    },
    {
      "cell_type": "markdown",
      "source": [
        "## Imports##"
      ],
      "metadata": {
        "id": "nvsJcuCpQLx8"
      }
    },
    {
      "cell_type": "code",
      "execution_count": 7,
      "metadata": {
        "id": "daqvj7feTx60"
      },
      "outputs": [],
      "source": [
        "import pandas as pd\n",
        "import numpy as np\n",
        "import seaborn as sns\n",
        "import matplotlib.pyplot as plt\n",
        "import spacy\n",
        "import multiprocessing\n",
        "import string\n",
        "\n",
        "from sklearn.linear_model import LogisticRegression\n",
        "from sklearn.model_selection import train_test_split\n",
        "from sklearn.pipeline import Pipeline\n",
        "from sklearn.metrics import confusion_matrix, accuracy_score\n",
        "from sklearn.feature_extraction.text import CountVectorizer, TfidfVectorizer\n",
        "from sklearn.compose import ColumnTransformer\n",
        "from sklearn.metrics import precision_score, recall_score, f1_score, accuracy_score,confusion_matrix\n",
        "\n",
        "df = pd.read_csv('training_data.csv', index_col = 'id')\n",
        "df_pred = pd.read_csv('unlabelled_test_data.csv', index_col = 'id')"
      ]
    },
    {
      "cell_type": "markdown",
      "source": [
        "#####In this last version of our first model (Tfidf) we tried to include new featuers like the length of a sentence or the number of unique words in a sentence.The duplicated words are removed. To see the impact of this features. We except not a imporovment from that but we want to see how this features will impact our model and prediction.\n"
      ],
      "metadata": {
        "id": "RreDpcgLicYc"
      }
    },
    {
      "cell_type": "code",
      "source": [
        "sp =spacy.load('fr_core_news_sm')\n",
        "sp_EN = spacy.load('en_core_web_sm')"
      ],
      "metadata": {
        "id": "GLoAJMc3S4xB"
      },
      "execution_count": 8,
      "outputs": []
    },
    {
      "cell_type": "code",
      "source": [
        "df['sentence_length'] = df['sentence'].apply(lambda x: len(x.split()))\n",
        "df['unique_words'] = df['sentence'].apply(lambda x: len(set(x.split())))"
      ],
      "metadata": {
        "id": "VGOOZ8W4FWiA"
      },
      "execution_count": 10,
      "outputs": []
    },
    {
      "cell_type": "code",
      "execution_count": 11,
      "metadata": {
        "colab": {
          "base_uri": "https://localhost:8080/",
          "height": 455
        },
        "id": "VxRSnk5bhTp8",
        "outputId": "72235e69-5476-417f-f373-abe6d75e642b"
      },
      "outputs": [
        {
          "output_type": "execute_result",
          "data": {
            "text/plain": [
              "                                               sentence difficulty  \\\n",
              "id                                                                   \n",
              "0     Les coûts kilométriques réels peuvent diverger...         C1   \n",
              "1     Le bleu, c'est ma couleur préférée mais je n'a...         A1   \n",
              "2     Le test de niveau en français est sur le site ...         A1   \n",
              "3              Est-ce que ton mari est aussi de Boston?         A1   \n",
              "4     Dans les écoles de commerce, dans les couloirs...         B1   \n",
              "...                                                 ...        ...   \n",
              "4795  C'est pourquoi, il décida de remplacer les hab...         B2   \n",
              "4796  Il avait une de ces pâleurs splendides qui don...         C1   \n",
              "4797  Et le premier samedi de chaque mois, venez ren...         A2   \n",
              "4798  Les coûts liés à la journalisation n'étant pas...         C2   \n",
              "4799  Sur le sable, la mer haletait de toute la resp...         C2   \n",
              "\n",
              "      sentence_length  unique_words  \n",
              "id                                   \n",
              "0                  38            29  \n",
              "1                  12            12  \n",
              "2                  13            12  \n",
              "3                   8             8  \n",
              "4                  34            28  \n",
              "...               ...           ...  \n",
              "4795               26            26  \n",
              "4796               21            20  \n",
              "4797               14            13  \n",
              "4798               32            28  \n",
              "4799               17            15  \n",
              "\n",
              "[4800 rows x 4 columns]"
            ],
            "text/html": [
              "\n",
              "  <div id=\"df-e0355231-2906-44c7-a295-58989cbd8838\" class=\"colab-df-container\">\n",
              "    <div>\n",
              "<style scoped>\n",
              "    .dataframe tbody tr th:only-of-type {\n",
              "        vertical-align: middle;\n",
              "    }\n",
              "\n",
              "    .dataframe tbody tr th {\n",
              "        vertical-align: top;\n",
              "    }\n",
              "\n",
              "    .dataframe thead th {\n",
              "        text-align: right;\n",
              "    }\n",
              "</style>\n",
              "<table border=\"1\" class=\"dataframe\">\n",
              "  <thead>\n",
              "    <tr style=\"text-align: right;\">\n",
              "      <th></th>\n",
              "      <th>sentence</th>\n",
              "      <th>difficulty</th>\n",
              "      <th>sentence_length</th>\n",
              "      <th>unique_words</th>\n",
              "    </tr>\n",
              "    <tr>\n",
              "      <th>id</th>\n",
              "      <th></th>\n",
              "      <th></th>\n",
              "      <th></th>\n",
              "      <th></th>\n",
              "    </tr>\n",
              "  </thead>\n",
              "  <tbody>\n",
              "    <tr>\n",
              "      <th>0</th>\n",
              "      <td>Les coûts kilométriques réels peuvent diverger...</td>\n",
              "      <td>C1</td>\n",
              "      <td>38</td>\n",
              "      <td>29</td>\n",
              "    </tr>\n",
              "    <tr>\n",
              "      <th>1</th>\n",
              "      <td>Le bleu, c'est ma couleur préférée mais je n'a...</td>\n",
              "      <td>A1</td>\n",
              "      <td>12</td>\n",
              "      <td>12</td>\n",
              "    </tr>\n",
              "    <tr>\n",
              "      <th>2</th>\n",
              "      <td>Le test de niveau en français est sur le site ...</td>\n",
              "      <td>A1</td>\n",
              "      <td>13</td>\n",
              "      <td>12</td>\n",
              "    </tr>\n",
              "    <tr>\n",
              "      <th>3</th>\n",
              "      <td>Est-ce que ton mari est aussi de Boston?</td>\n",
              "      <td>A1</td>\n",
              "      <td>8</td>\n",
              "      <td>8</td>\n",
              "    </tr>\n",
              "    <tr>\n",
              "      <th>4</th>\n",
              "      <td>Dans les écoles de commerce, dans les couloirs...</td>\n",
              "      <td>B1</td>\n",
              "      <td>34</td>\n",
              "      <td>28</td>\n",
              "    </tr>\n",
              "    <tr>\n",
              "      <th>...</th>\n",
              "      <td>...</td>\n",
              "      <td>...</td>\n",
              "      <td>...</td>\n",
              "      <td>...</td>\n",
              "    </tr>\n",
              "    <tr>\n",
              "      <th>4795</th>\n",
              "      <td>C'est pourquoi, il décida de remplacer les hab...</td>\n",
              "      <td>B2</td>\n",
              "      <td>26</td>\n",
              "      <td>26</td>\n",
              "    </tr>\n",
              "    <tr>\n",
              "      <th>4796</th>\n",
              "      <td>Il avait une de ces pâleurs splendides qui don...</td>\n",
              "      <td>C1</td>\n",
              "      <td>21</td>\n",
              "      <td>20</td>\n",
              "    </tr>\n",
              "    <tr>\n",
              "      <th>4797</th>\n",
              "      <td>Et le premier samedi de chaque mois, venez ren...</td>\n",
              "      <td>A2</td>\n",
              "      <td>14</td>\n",
              "      <td>13</td>\n",
              "    </tr>\n",
              "    <tr>\n",
              "      <th>4798</th>\n",
              "      <td>Les coûts liés à la journalisation n'étant pas...</td>\n",
              "      <td>C2</td>\n",
              "      <td>32</td>\n",
              "      <td>28</td>\n",
              "    </tr>\n",
              "    <tr>\n",
              "      <th>4799</th>\n",
              "      <td>Sur le sable, la mer haletait de toute la resp...</td>\n",
              "      <td>C2</td>\n",
              "      <td>17</td>\n",
              "      <td>15</td>\n",
              "    </tr>\n",
              "  </tbody>\n",
              "</table>\n",
              "<p>4800 rows × 4 columns</p>\n",
              "</div>\n",
              "    <div class=\"colab-df-buttons\">\n",
              "\n",
              "  <div class=\"colab-df-container\">\n",
              "    <button class=\"colab-df-convert\" onclick=\"convertToInteractive('df-e0355231-2906-44c7-a295-58989cbd8838')\"\n",
              "            title=\"Convert this dataframe to an interactive table.\"\n",
              "            style=\"display:none;\">\n",
              "\n",
              "  <svg xmlns=\"http://www.w3.org/2000/svg\" height=\"24px\" viewBox=\"0 -960 960 960\">\n",
              "    <path d=\"M120-120v-720h720v720H120Zm60-500h600v-160H180v160Zm220 220h160v-160H400v160Zm0 220h160v-160H400v160ZM180-400h160v-160H180v160Zm440 0h160v-160H620v160ZM180-180h160v-160H180v160Zm440 0h160v-160H620v160Z\"/>\n",
              "  </svg>\n",
              "    </button>\n",
              "\n",
              "  <style>\n",
              "    .colab-df-container {\n",
              "      display:flex;\n",
              "      gap: 12px;\n",
              "    }\n",
              "\n",
              "    .colab-df-convert {\n",
              "      background-color: #E8F0FE;\n",
              "      border: none;\n",
              "      border-radius: 50%;\n",
              "      cursor: pointer;\n",
              "      display: none;\n",
              "      fill: #1967D2;\n",
              "      height: 32px;\n",
              "      padding: 0 0 0 0;\n",
              "      width: 32px;\n",
              "    }\n",
              "\n",
              "    .colab-df-convert:hover {\n",
              "      background-color: #E2EBFA;\n",
              "      box-shadow: 0px 1px 2px rgba(60, 64, 67, 0.3), 0px 1px 3px 1px rgba(60, 64, 67, 0.15);\n",
              "      fill: #174EA6;\n",
              "    }\n",
              "\n",
              "    .colab-df-buttons div {\n",
              "      margin-bottom: 4px;\n",
              "    }\n",
              "\n",
              "    [theme=dark] .colab-df-convert {\n",
              "      background-color: #3B4455;\n",
              "      fill: #D2E3FC;\n",
              "    }\n",
              "\n",
              "    [theme=dark] .colab-df-convert:hover {\n",
              "      background-color: #434B5C;\n",
              "      box-shadow: 0px 1px 3px 1px rgba(0, 0, 0, 0.15);\n",
              "      filter: drop-shadow(0px 1px 2px rgba(0, 0, 0, 0.3));\n",
              "      fill: #FFFFFF;\n",
              "    }\n",
              "  </style>\n",
              "\n",
              "    <script>\n",
              "      const buttonEl =\n",
              "        document.querySelector('#df-e0355231-2906-44c7-a295-58989cbd8838 button.colab-df-convert');\n",
              "      buttonEl.style.display =\n",
              "        google.colab.kernel.accessAllowed ? 'block' : 'none';\n",
              "\n",
              "      async function convertToInteractive(key) {\n",
              "        const element = document.querySelector('#df-e0355231-2906-44c7-a295-58989cbd8838');\n",
              "        const dataTable =\n",
              "          await google.colab.kernel.invokeFunction('convertToInteractive',\n",
              "                                                    [key], {});\n",
              "        if (!dataTable) return;\n",
              "\n",
              "        const docLinkHtml = 'Like what you see? Visit the ' +\n",
              "          '<a target=\"_blank\" href=https://colab.research.google.com/notebooks/data_table.ipynb>data table notebook</a>'\n",
              "          + ' to learn more about interactive tables.';\n",
              "        element.innerHTML = '';\n",
              "        dataTable['output_type'] = 'display_data';\n",
              "        await google.colab.output.renderOutput(dataTable, element);\n",
              "        const docLink = document.createElement('div');\n",
              "        docLink.innerHTML = docLinkHtml;\n",
              "        element.appendChild(docLink);\n",
              "      }\n",
              "    </script>\n",
              "  </div>\n",
              "\n",
              "\n",
              "<div id=\"df-5a93a6b1-1ae6-41c2-8c80-c541f4624604\">\n",
              "  <button class=\"colab-df-quickchart\" onclick=\"quickchart('df-5a93a6b1-1ae6-41c2-8c80-c541f4624604')\"\n",
              "            title=\"Suggest charts\"\n",
              "            style=\"display:none;\">\n",
              "\n",
              "<svg xmlns=\"http://www.w3.org/2000/svg\" height=\"24px\"viewBox=\"0 0 24 24\"\n",
              "     width=\"24px\">\n",
              "    <g>\n",
              "        <path d=\"M19 3H5c-1.1 0-2 .9-2 2v14c0 1.1.9 2 2 2h14c1.1 0 2-.9 2-2V5c0-1.1-.9-2-2-2zM9 17H7v-7h2v7zm4 0h-2V7h2v10zm4 0h-2v-4h2v4z\"/>\n",
              "    </g>\n",
              "</svg>\n",
              "  </button>\n",
              "\n",
              "<style>\n",
              "  .colab-df-quickchart {\n",
              "      --bg-color: #E8F0FE;\n",
              "      --fill-color: #1967D2;\n",
              "      --hover-bg-color: #E2EBFA;\n",
              "      --hover-fill-color: #174EA6;\n",
              "      --disabled-fill-color: #AAA;\n",
              "      --disabled-bg-color: #DDD;\n",
              "  }\n",
              "\n",
              "  [theme=dark] .colab-df-quickchart {\n",
              "      --bg-color: #3B4455;\n",
              "      --fill-color: #D2E3FC;\n",
              "      --hover-bg-color: #434B5C;\n",
              "      --hover-fill-color: #FFFFFF;\n",
              "      --disabled-bg-color: #3B4455;\n",
              "      --disabled-fill-color: #666;\n",
              "  }\n",
              "\n",
              "  .colab-df-quickchart {\n",
              "    background-color: var(--bg-color);\n",
              "    border: none;\n",
              "    border-radius: 50%;\n",
              "    cursor: pointer;\n",
              "    display: none;\n",
              "    fill: var(--fill-color);\n",
              "    height: 32px;\n",
              "    padding: 0;\n",
              "    width: 32px;\n",
              "  }\n",
              "\n",
              "  .colab-df-quickchart:hover {\n",
              "    background-color: var(--hover-bg-color);\n",
              "    box-shadow: 0 1px 2px rgba(60, 64, 67, 0.3), 0 1px 3px 1px rgba(60, 64, 67, 0.15);\n",
              "    fill: var(--button-hover-fill-color);\n",
              "  }\n",
              "\n",
              "  .colab-df-quickchart-complete:disabled,\n",
              "  .colab-df-quickchart-complete:disabled:hover {\n",
              "    background-color: var(--disabled-bg-color);\n",
              "    fill: var(--disabled-fill-color);\n",
              "    box-shadow: none;\n",
              "  }\n",
              "\n",
              "  .colab-df-spinner {\n",
              "    border: 2px solid var(--fill-color);\n",
              "    border-color: transparent;\n",
              "    border-bottom-color: var(--fill-color);\n",
              "    animation:\n",
              "      spin 1s steps(1) infinite;\n",
              "  }\n",
              "\n",
              "  @keyframes spin {\n",
              "    0% {\n",
              "      border-color: transparent;\n",
              "      border-bottom-color: var(--fill-color);\n",
              "      border-left-color: var(--fill-color);\n",
              "    }\n",
              "    20% {\n",
              "      border-color: transparent;\n",
              "      border-left-color: var(--fill-color);\n",
              "      border-top-color: var(--fill-color);\n",
              "    }\n",
              "    30% {\n",
              "      border-color: transparent;\n",
              "      border-left-color: var(--fill-color);\n",
              "      border-top-color: var(--fill-color);\n",
              "      border-right-color: var(--fill-color);\n",
              "    }\n",
              "    40% {\n",
              "      border-color: transparent;\n",
              "      border-right-color: var(--fill-color);\n",
              "      border-top-color: var(--fill-color);\n",
              "    }\n",
              "    60% {\n",
              "      border-color: transparent;\n",
              "      border-right-color: var(--fill-color);\n",
              "    }\n",
              "    80% {\n",
              "      border-color: transparent;\n",
              "      border-right-color: var(--fill-color);\n",
              "      border-bottom-color: var(--fill-color);\n",
              "    }\n",
              "    90% {\n",
              "      border-color: transparent;\n",
              "      border-bottom-color: var(--fill-color);\n",
              "    }\n",
              "  }\n",
              "</style>\n",
              "\n",
              "  <script>\n",
              "    async function quickchart(key) {\n",
              "      const quickchartButtonEl =\n",
              "        document.querySelector('#' + key + ' button');\n",
              "      quickchartButtonEl.disabled = true;  // To prevent multiple clicks.\n",
              "      quickchartButtonEl.classList.add('colab-df-spinner');\n",
              "      try {\n",
              "        const charts = await google.colab.kernel.invokeFunction(\n",
              "            'suggestCharts', [key], {});\n",
              "      } catch (error) {\n",
              "        console.error('Error during call to suggestCharts:', error);\n",
              "      }\n",
              "      quickchartButtonEl.classList.remove('colab-df-spinner');\n",
              "      quickchartButtonEl.classList.add('colab-df-quickchart-complete');\n",
              "    }\n",
              "    (() => {\n",
              "      let quickchartButtonEl =\n",
              "        document.querySelector('#df-5a93a6b1-1ae6-41c2-8c80-c541f4624604 button');\n",
              "      quickchartButtonEl.style.display =\n",
              "        google.colab.kernel.accessAllowed ? 'block' : 'none';\n",
              "    })();\n",
              "  </script>\n",
              "</div>\n",
              "    </div>\n",
              "  </div>\n"
            ]
          },
          "metadata": {},
          "execution_count": 11
        }
      ],
      "source": [
        "df"
      ]
    },
    {
      "cell_type": "code",
      "source": [],
      "metadata": {
        "id": "sNkTrQ8zHlON"
      },
      "execution_count": 10,
      "outputs": []
    },
    {
      "cell_type": "code",
      "source": [
        "X=df[['sentence', 'sentence_length', 'unique_words']]\n",
        "y=df['difficulty']"
      ],
      "metadata": {
        "id": "LGU8vdNtTRxC"
      },
      "execution_count": 12,
      "outputs": []
    },
    {
      "cell_type": "markdown",
      "source": [
        "#####In aim to create our model we have to put our new features in a column transfomer to add these features in our model but there will be only the sentence in the TfidfVectorizer"
      ],
      "metadata": {
        "id": "MBUdGDKZW1Om"
      }
    },
    {
      "cell_type": "code",
      "source": [
        "preprocessor = ColumnTransformer(\n",
        "    transformers=[\n",
        "        ('text', TfidfVectorizer(), 'sentence'),\n",
        "        ('num', 'passthrough', ['sentence_length', 'unique_words'])\n",
        "    ])\n",
        "\n",
        "# Créer un pipeline avec le préprocesseur et un classificateur\n",
        "pipe = Pipeline([\n",
        "    ('preprocessor', preprocessor),\n",
        "    ('classifier', LogisticRegression())\n",
        "])"
      ],
      "metadata": {
        "id": "5FeC1MHnPEa8"
      },
      "execution_count": 13,
      "outputs": []
    },
    {
      "cell_type": "code",
      "source": [
        "X_train, X_test, y_train, y_test = train_test_split(X, y, test_size=0.2, random_state=42, shuffle=True)"
      ],
      "metadata": {
        "id": "aPHY2cFJZuYY"
      },
      "execution_count": 14,
      "outputs": []
    },
    {
      "cell_type": "code",
      "source": [
        "X_train.shape"
      ],
      "metadata": {
        "colab": {
          "base_uri": "https://localhost:8080/"
        },
        "id": "l1q_DsprJ6_K",
        "outputId": "ac0546f4-6ef2-4b1b-d3d0-29cb0617b841"
      },
      "execution_count": 15,
      "outputs": [
        {
          "output_type": "execute_result",
          "data": {
            "text/plain": [
              "(3840, 3)"
            ]
          },
          "metadata": {},
          "execution_count": 15
        }
      ]
    },
    {
      "cell_type": "code",
      "source": [
        "y_train.shape"
      ],
      "metadata": {
        "colab": {
          "base_uri": "https://localhost:8080/"
        },
        "id": "mcROflbAMFUV",
        "outputId": "9f980a45-e353-4b0f-9677-2189b98c80a2"
      },
      "execution_count": 16,
      "outputs": [
        {
          "output_type": "execute_result",
          "data": {
            "text/plain": [
              "(3840,)"
            ]
          },
          "metadata": {},
          "execution_count": 16
        }
      ]
    },
    {
      "cell_type": "code",
      "source": [],
      "metadata": {
        "id": "ZSctbeQfOmqY"
      },
      "execution_count": 14,
      "outputs": []
    },
    {
      "cell_type": "markdown",
      "source": [
        "#####As we said in the first model of Tfidf, here we decide to keep the stop words to see the difference and if how much the french stop words have an impact in the prediction"
      ],
      "metadata": {
        "id": "uNnJgP2pi75c"
      }
    },
    {
      "cell_type": "code",
      "source": [
        "def spacy_tokenizer(sentence):\n",
        "\n",
        "\n",
        "    mytokens = sp(sentence)\n",
        "\n",
        "    mytokens = [ word.lemma_.lower().strip() if word.lemma_ != \"-PRON-\" else word.lower_ for word in mytokens ]\n",
        "\n",
        "    mytokens = [ word.replace('xx/', '').replace('xxxx/', '').replace('xx', '') for word in mytokens ]\n",
        "\n",
        "    mytokens = [ word for word in mytokens if word not in [\"xxxx\", \"xx\", \"\"] ]\n",
        "\n",
        "    return mytokens"
      ],
      "metadata": {
        "id": "A6IPwYyuPEOA"
      },
      "execution_count": 17,
      "outputs": []
    },
    {
      "cell_type": "markdown",
      "source": [
        "##### As we can see there is a big difference between the stop words in french and in english. There is 181 more stop words in french than in french"
      ],
      "metadata": {
        "id": "A3XnVGNUlRIM"
      }
    },
    {
      "cell_type": "code",
      "source": [
        "stop_words_FR = spacy.lang.fr.stop_words.STOP_WORDS\n",
        "stop_words_EN=spacy.lang.en.stop_words.STOP_WORDS\n",
        "print(stop_words_FR)\n",
        "print(\"Number of stopwords in French: \"+str(len(stop_words_FR)))\n",
        "print(stop_words_EN)\n",
        "print(\"Number of stopwords in English: \"+str(len(stop_words_EN)))\n"
      ],
      "metadata": {
        "colab": {
          "base_uri": "https://localhost:8080/"
        },
        "id": "cLWZThpVnb14",
        "outputId": "b5ca24b0-212c-4f21-cee0-31a50f282289"
      },
      "execution_count": 18,
      "outputs": [
        {
          "output_type": "stream",
          "name": "stdout",
          "text": [
            "{'pourrait', 'quatrièmement', 'ceux-là', 'duquel', 'elle-meme', 'sont', 'specifiques', 'suffisante', 'pu', 'suivant', 'peut', 'dits', 'miennes', 'tant', 'nôtres', 'touchant', 'parmi', 'fais', 's’', 'â', 'seulement', 'assez', 'il', 'mien', 'quelles', 'antérieur', 'devra', 'd’', 'deuxièmement', 'via', 'avons', 'houp', 'puis', 'restant', 'lès', 'entre', 'la', 'dix-neuf', 'vers', 'ès', 'sera', 'debout', 'alors', \"c'\", 'a', 'etant', 'quels', 'vais', 'pour', 'tel', 'deux', 'o', 'diverses', 'aura', 'avec', 'dix', 'lui-même', 'precisement', 'quoique', 'sixième', 'da', 'doivent', 'mienne', 'ouste', 'devant', 'encore', 'hors', 'toujours', 'dehors', 'suivante', 'ce', 'hem', 'notre', 'etais', 'soi', 'peu', 'donc', 'ci', 'votre', 'seraient', 'soi-meme', 'différents', 'ouias', 'delà', 'autre', 'hé', 'tres', 'au', 'telle', 'suivants', 'seule', 'toi-meme', 'telles', 'revoilà', 'soixante', 'miens', 'hormis', 'son', 'on', 'comme', 'vous-mêmes', 'treize', 'j’', 'des', 'se', 'seize', 'ont', 'toutes', 'desquelles', 'pense', 'façon', 'différentes', 'ah', 'également', 'hou', 'quand', 'vôtre', 'ô', \"j'\", 'faisaient', 'le', 'douze', 'voila', 'ai', 'quarante', 'combien', 'nous', 'aurait', 'merci', 'semblaient', 'celle', 'eh', 'selon', 'plutôt', 'ta', 'tous', 'troisième', 'tiens', 'quelle', 'juste', 'uns', 'anterieure', 'doit', 'sur', 'leur', 'bat', 'onzième', 'pres', 'neanmoins', 'abord', 'etaient', 'là', 'à', 'meme', 'sienne', 'tente', 'lequel', 'vôtres', 'néanmoins', 'celles-la', 'neuvième', 'huit', 'parfois', 'cinquantaine', 'précisement', 'mon', 'tenant', 'celle-la', 'dejà', 'cela', 'desormais', 'nouveau', 'm’', 'egalement', 'ils', 'ou', 'quelques', 'auront', 'tenir', 'ainsi', 'te', 'premier', 'differentes', 'mille', 'ait', 'moins', 'autres', 'souvent', 'aie', 'ceux', 'ceux-ci', 'surtout', 'ho', 'voici', 'hi', 'facon', 'certaine', 'specifique', 'préalable', 'puisque', 'du', 'prealable', 'celles', 'seuls', 'cependant', 'et', 'septième', 'basee', 'qu’', 'malgré', 'directement', 'certes', 'tes', 'elle', 'étais', 'celle-ci', 'premièrement', 'ni', 'aupres', 'quinze', 'different', 'revoila', 'n’', 'anterieures', 'siens', 'lesquelles', 'suis', 'avait', 'votres', 'sa', 'vont', 'troisièmement', 'lui-meme', 'devers', 'nombreux', 'ça', 'afin', 'peux', 'avant', 'dessus', 'dont', 'lui', 'deja', \"m'\", 'malgre', 'quiconque', 'suffisant', 'auquel', 'y', 'quelque', 'comment', 'hep', 'possible', 'seules', 'déjà', 'or', 'vas', 'elles-mêmes', 'outre', 'cette', 'vé', 'semble', 'auxquelles', 'importe', 'i', 'un', 'ayant', 'depuis', 'cinquantième', 'elles', 'antérieures', 'lorsque', 'moi', 'es', 'aussi', 'maint', 'toi', 'ha', 'quel', 'ma', 'toute', 'rendre', 'plusieurs', 'rend', 'allons', 'moi-meme', 'pendant', 'sien', 'permet', 'chacune', 'de', 'envers', 'parce', 'exactement', 'trois', 'cinq', 'quatrième', 'reste', 'na', 'sait', 'car', 'excepté', 'pourquoi', 'avais', 'vu', 'cent', 'très', 'certain', 'après', 'ces', 'cinquante', 'gens', 'tout', 'quatorze', \"t'\", 'laisser', \"l'\", 'moi-même', 'ouvert', 'va', 'près', 'restent', 'peuvent', 'antérieure', 'soit', 'sauf', 'etre', 'relativement', 'toi-même', 'dedans', 'sent', 'spécifique', 'douzième', 'celles-ci', 'avaient', 'vingt', 'c’', 'étaient', 'tellement', 'celles-là', 'déja', 'jusqu', 'chez', 'diverse', 'même', 'ses', 'semblable', 'vos', 'sans', 'durant', 'fait', 'que', 'ouverte', 'nombreuses', 'étant', 'avoir', 'apres', 'dessous', 'tien', \"s'\", 'pourrais', 'attendu', 'concernant', 'leurs', 'première', 'laquelle', 'bas', 'celle-là', 'lesquels', 'en', 'autrement', 'dite', 'elles-memes', 'celui', 'partant', 'trente', 'cet', 'dix-sept', 'desquels', 'notamment', 'quoi', 'est', 'suffit', 'sous', 'maintenant', 'certains', \"qu'\", 'mêmes', 'possibles', 'était', 'siennes', 'semblent', 'eux', 'être', 'seul', 'anterieur', 'aux', 'eux-mêmes', 'autrui', 'ceci', 'ouverts', 'lors', 'ne', \"d'\", 'quant-à-soi', 'derrière', 'moindres', 'dire', 'auraient', 'té', 'différent', 'divers', 'chacun', 'qui', 'quatre-vingt', 'je', 'eu', 'seront', 'differente', 'etait', 'suivantes', 'as', 'allaient', 'hue', 'nous-mêmes', 'les', 'tels', 'ton', \"quelqu'un\", 'nos', 'pas', 'soi-même', 'compris', 'suivre', 'faisant', 'désormais', 'differents', 'chaque', 'deuxième', 'nul', 'si', 'jusque', 'mes', 'personne', 'enfin', 'celui-là', \"n'\", 'cinquième', 'parle', 'six', 'suit', 'tienne', 'unes', 'dit', 'dix-huit', 'quant', 'nôtre', 'tiennes', 'revoici', 'effet', 'quatre', 'sept', 'celui-ci', 'procedant', 'parlent', 'directe', 'huitième', 'différente', 'dès', 'me', 'longtemps', 'spécifiques', 'tend', 'onze', 'vous', 'environ', 'parler', 'derriere', 'feront', 'proche', 'auxquels', 'relative', 'dans', 'hui', 'mais', 'où', 'stop', 'font', 'dixième', 'voilà', 'par', 'memes', 'certaines', 'plus', 'celui-la', 'etc', 'elle-même', 't’', 'l’', 'une', 'tu', 'quelconque', 'retour', 'plutot', 'pouvait', 'serait', 'sinon'}\n",
            "Number of stopwords in French: 507\n",
            "{'eight', 'empty', 'nor', 'which', 'otherwise', 'everywhere', 'the', 'and', 'together', 'next', 'five', 'our', 'serious', 'nine', 'few', 'twelve', 'when', 'via', '’ve', 'if', 'were', 'most', 'n‘t', 'third', 'below', 'amount', 'beyond', 'get', 'is', 'a', 'moreover', 'unless', 'itself', 'quite', 'side', 'always', 'each', 'in', 'could', 'twenty', 'mostly', 'who', '‘ll', 'down', 'beforehand', 'did', 'seems', 'give', 'yet', 'two', 'put', 'front', 'became', '‘s', 'us', '‘re', 'due', 'your', 'throughout', '‘ve', 'make', 'its', 'behind', 'more', 'whenever', '’s', 'on', 'hereby', 'whole', 'nowhere', 'rather', 'go', 'be', 'back', 'mine', 'just', 'until', 'whither', 'one', 'of', 'whom', 'along', 'through', 'bottom', 'own', 'done', 'this', 'myself', '’m', 'after', 'really', 'three', 'ours', 'per', 'wherever', 'no', 'whatever', 'using', 'noone', 'very', 'been', 'will', 'ten', 'becomes', 'keep', 'now', 'an', 'doing', 'somehow', 'out', 'would', 'whoever', 'between', 'therein', \"'m\", 'where', 'but', 'any', 'only', 'toward', 'besides', '’ll', 'hence', 'hereupon', 'by', 'yours', 'thereafter', 'anything', 'formerly', 'much', 'cannot', 'thru', 'ourselves', 'into', 'becoming', 'well', 'so', 'thence', 'anyhow', \"'s\", 'anyway', 'all', 'because', 'fifteen', 'or', 'still', 'within', 'often', 'many', 'hers', 'same', 'anyone', 'i', 'how', 'he', 'eleven', 'every', 'thereby', 'however', 'her', 'used', 'once', 'she', 'seemed', 'move', 'seem', 'seeming', 'less', 'whereby', 'his', 'does', 'everyone', 'here', 'why', 'both', 'my', 'with', 'please', 'also', 'ever', 'has', 'made', 'should', '’d', 'full', 'that', 'latter', 'somewhere', 'indeed', 'without', 'show', 'several', 'was', 'forty', 'what', 'another', 'being', 'whereupon', 'sometimes', 'then', \"'ll\", 'already', 'elsewhere', \"'d\", 'take', 'although', 'last', 'these', 'too', 'since', 'fifty', 'might', 'further', 'their', '‘m', 'herself', 'top', 'herein', 'nevertheless', 'we', 'for', \"n't\", 'though', 'someone', 'yourselves', 'something', 'say', 'have', 'himself', 'thereupon', 'those', 'from', 'ca', 'hundred', 'therefore', 'must', 'whence', 'except', 'other', 'nothing', 'alone', 'perhaps', 'others', 'never', 'off', 'had', 'afterwards', 'latterly', 'whose', 'everything', 'sometime', 'yourself', 'call', 'over', 'see', 'become', 'anywhere', 'as', 'can', 'than', 'at', 'before', 'none', \"'re\", 'even', 'almost', 'upon', 'them', 'about', 'to', 'onto', 'whereafter', 'six', 'again', 'amongst', 'there', 'whereas', 'across', 'part', \"'ve\", 'neither', 'themselves', 'regarding', 'do', 'various', 'me', 'may', 're', 'some', 'beside', 'name', 'among', 'n’t', 'around', 'thus', 'him', 'wherein', 'hereafter', 'four', 'whether', 'else', 'am', 'it', '‘d', 'former', 'nobody', 'while', '’re', 'sixty', 'least', 'they', 'either', 'meanwhile', 'under', 'first', 'during', 'not', 'up', 'you', 'against', 'enough', 'above', 'towards', 'namely', 'such', 'are'}\n",
            "Number of stopwords in English: 326\n"
          ]
        }
      ]
    },
    {
      "cell_type": "markdown",
      "source": [],
      "metadata": {
        "id": "Da4jIA3ujSC9"
      }
    },
    {
      "cell_type": "markdown",
      "source": [
        "#####Here we create our classifier and our pipeline who will be use to train our model and see how our model is near of the true label"
      ],
      "metadata": {
        "id": "L4bKiXvhnpr_"
      }
    },
    {
      "cell_type": "code",
      "source": [
        "tfidf = TfidfVectorizer(sublinear_tf=True, norm='l2', encoding='UTF-8', ngram_range=(1, 2), tokenizer=spacy_tokenizer)\n",
        "\n",
        "# Define classifier\n",
        "classifier = LogisticRegression(solver='lbfgs', max_iter=1000)\n",
        "\n",
        "pipe = Pipeline([\n",
        "    ('preprocessor', preprocessor),\n",
        "    ('classifier', LogisticRegression())\n",
        "])\n",
        "# Fit model on training set\n",
        "pipe.fit(X_train, y_train)"
      ],
      "metadata": {
        "colab": {
          "base_uri": "https://localhost:8080/",
          "height": 329
        },
        "id": "RIcg5LRoRAln",
        "outputId": "841c5010-9143-42ee-8a99-4d140a10ee95"
      },
      "execution_count": 19,
      "outputs": [
        {
          "output_type": "stream",
          "name": "stderr",
          "text": [
            "/usr/local/lib/python3.10/dist-packages/sklearn/linear_model/_logistic.py:458: ConvergenceWarning: lbfgs failed to converge (status=1):\n",
            "STOP: TOTAL NO. of ITERATIONS REACHED LIMIT.\n",
            "\n",
            "Increase the number of iterations (max_iter) or scale the data as shown in:\n",
            "    https://scikit-learn.org/stable/modules/preprocessing.html\n",
            "Please also refer to the documentation for alternative solver options:\n",
            "    https://scikit-learn.org/stable/modules/linear_model.html#logistic-regression\n",
            "  n_iter_i = _check_optimize_result(\n"
          ]
        },
        {
          "output_type": "execute_result",
          "data": {
            "text/plain": [
              "Pipeline(steps=[('preprocessor',\n",
              "                 ColumnTransformer(transformers=[('text', TfidfVectorizer(),\n",
              "                                                  'sentence'),\n",
              "                                                 ('num', 'passthrough',\n",
              "                                                  ['sentence_length',\n",
              "                                                   'unique_words'])])),\n",
              "                ('classifier', LogisticRegression())])"
            ],
            "text/html": [
              "<style>#sk-container-id-1 {color: black;background-color: white;}#sk-container-id-1 pre{padding: 0;}#sk-container-id-1 div.sk-toggleable {background-color: white;}#sk-container-id-1 label.sk-toggleable__label {cursor: pointer;display: block;width: 100%;margin-bottom: 0;padding: 0.3em;box-sizing: border-box;text-align: center;}#sk-container-id-1 label.sk-toggleable__label-arrow:before {content: \"▸\";float: left;margin-right: 0.25em;color: #696969;}#sk-container-id-1 label.sk-toggleable__label-arrow:hover:before {color: black;}#sk-container-id-1 div.sk-estimator:hover label.sk-toggleable__label-arrow:before {color: black;}#sk-container-id-1 div.sk-toggleable__content {max-height: 0;max-width: 0;overflow: hidden;text-align: left;background-color: #f0f8ff;}#sk-container-id-1 div.sk-toggleable__content pre {margin: 0.2em;color: black;border-radius: 0.25em;background-color: #f0f8ff;}#sk-container-id-1 input.sk-toggleable__control:checked~div.sk-toggleable__content {max-height: 200px;max-width: 100%;overflow: auto;}#sk-container-id-1 input.sk-toggleable__control:checked~label.sk-toggleable__label-arrow:before {content: \"▾\";}#sk-container-id-1 div.sk-estimator input.sk-toggleable__control:checked~label.sk-toggleable__label {background-color: #d4ebff;}#sk-container-id-1 div.sk-label input.sk-toggleable__control:checked~label.sk-toggleable__label {background-color: #d4ebff;}#sk-container-id-1 input.sk-hidden--visually {border: 0;clip: rect(1px 1px 1px 1px);clip: rect(1px, 1px, 1px, 1px);height: 1px;margin: -1px;overflow: hidden;padding: 0;position: absolute;width: 1px;}#sk-container-id-1 div.sk-estimator {font-family: monospace;background-color: #f0f8ff;border: 1px dotted black;border-radius: 0.25em;box-sizing: border-box;margin-bottom: 0.5em;}#sk-container-id-1 div.sk-estimator:hover {background-color: #d4ebff;}#sk-container-id-1 div.sk-parallel-item::after {content: \"\";width: 100%;border-bottom: 1px solid gray;flex-grow: 1;}#sk-container-id-1 div.sk-label:hover label.sk-toggleable__label {background-color: #d4ebff;}#sk-container-id-1 div.sk-serial::before {content: \"\";position: absolute;border-left: 1px solid gray;box-sizing: border-box;top: 0;bottom: 0;left: 50%;z-index: 0;}#sk-container-id-1 div.sk-serial {display: flex;flex-direction: column;align-items: center;background-color: white;padding-right: 0.2em;padding-left: 0.2em;position: relative;}#sk-container-id-1 div.sk-item {position: relative;z-index: 1;}#sk-container-id-1 div.sk-parallel {display: flex;align-items: stretch;justify-content: center;background-color: white;position: relative;}#sk-container-id-1 div.sk-item::before, #sk-container-id-1 div.sk-parallel-item::before {content: \"\";position: absolute;border-left: 1px solid gray;box-sizing: border-box;top: 0;bottom: 0;left: 50%;z-index: -1;}#sk-container-id-1 div.sk-parallel-item {display: flex;flex-direction: column;z-index: 1;position: relative;background-color: white;}#sk-container-id-1 div.sk-parallel-item:first-child::after {align-self: flex-end;width: 50%;}#sk-container-id-1 div.sk-parallel-item:last-child::after {align-self: flex-start;width: 50%;}#sk-container-id-1 div.sk-parallel-item:only-child::after {width: 0;}#sk-container-id-1 div.sk-dashed-wrapped {border: 1px dashed gray;margin: 0 0.4em 0.5em 0.4em;box-sizing: border-box;padding-bottom: 0.4em;background-color: white;}#sk-container-id-1 div.sk-label label {font-family: monospace;font-weight: bold;display: inline-block;line-height: 1.2em;}#sk-container-id-1 div.sk-label-container {text-align: center;}#sk-container-id-1 div.sk-container {/* jupyter's `normalize.less` sets `[hidden] { display: none; }` but bootstrap.min.css set `[hidden] { display: none !important; }` so we also need the `!important` here to be able to override the default hidden behavior on the sphinx rendered scikit-learn.org. See: https://github.com/scikit-learn/scikit-learn/issues/21755 */display: inline-block !important;position: relative;}#sk-container-id-1 div.sk-text-repr-fallback {display: none;}</style><div id=\"sk-container-id-1\" class=\"sk-top-container\"><div class=\"sk-text-repr-fallback\"><pre>Pipeline(steps=[(&#x27;preprocessor&#x27;,\n",
              "                 ColumnTransformer(transformers=[(&#x27;text&#x27;, TfidfVectorizer(),\n",
              "                                                  &#x27;sentence&#x27;),\n",
              "                                                 (&#x27;num&#x27;, &#x27;passthrough&#x27;,\n",
              "                                                  [&#x27;sentence_length&#x27;,\n",
              "                                                   &#x27;unique_words&#x27;])])),\n",
              "                (&#x27;classifier&#x27;, LogisticRegression())])</pre><b>In a Jupyter environment, please rerun this cell to show the HTML representation or trust the notebook. <br />On GitHub, the HTML representation is unable to render, please try loading this page with nbviewer.org.</b></div><div class=\"sk-container\" hidden><div class=\"sk-item sk-dashed-wrapped\"><div class=\"sk-label-container\"><div class=\"sk-label sk-toggleable\"><input class=\"sk-toggleable__control sk-hidden--visually\" id=\"sk-estimator-id-1\" type=\"checkbox\" ><label for=\"sk-estimator-id-1\" class=\"sk-toggleable__label sk-toggleable__label-arrow\">Pipeline</label><div class=\"sk-toggleable__content\"><pre>Pipeline(steps=[(&#x27;preprocessor&#x27;,\n",
              "                 ColumnTransformer(transformers=[(&#x27;text&#x27;, TfidfVectorizer(),\n",
              "                                                  &#x27;sentence&#x27;),\n",
              "                                                 (&#x27;num&#x27;, &#x27;passthrough&#x27;,\n",
              "                                                  [&#x27;sentence_length&#x27;,\n",
              "                                                   &#x27;unique_words&#x27;])])),\n",
              "                (&#x27;classifier&#x27;, LogisticRegression())])</pre></div></div></div><div class=\"sk-serial\"><div class=\"sk-item sk-dashed-wrapped\"><div class=\"sk-label-container\"><div class=\"sk-label sk-toggleable\"><input class=\"sk-toggleable__control sk-hidden--visually\" id=\"sk-estimator-id-2\" type=\"checkbox\" ><label for=\"sk-estimator-id-2\" class=\"sk-toggleable__label sk-toggleable__label-arrow\">preprocessor: ColumnTransformer</label><div class=\"sk-toggleable__content\"><pre>ColumnTransformer(transformers=[(&#x27;text&#x27;, TfidfVectorizer(), &#x27;sentence&#x27;),\n",
              "                                (&#x27;num&#x27;, &#x27;passthrough&#x27;,\n",
              "                                 [&#x27;sentence_length&#x27;, &#x27;unique_words&#x27;])])</pre></div></div></div><div class=\"sk-parallel\"><div class=\"sk-parallel-item\"><div class=\"sk-item\"><div class=\"sk-label-container\"><div class=\"sk-label sk-toggleable\"><input class=\"sk-toggleable__control sk-hidden--visually\" id=\"sk-estimator-id-3\" type=\"checkbox\" ><label for=\"sk-estimator-id-3\" class=\"sk-toggleable__label sk-toggleable__label-arrow\">text</label><div class=\"sk-toggleable__content\"><pre>sentence</pre></div></div></div><div class=\"sk-serial\"><div class=\"sk-item\"><div class=\"sk-estimator sk-toggleable\"><input class=\"sk-toggleable__control sk-hidden--visually\" id=\"sk-estimator-id-4\" type=\"checkbox\" ><label for=\"sk-estimator-id-4\" class=\"sk-toggleable__label sk-toggleable__label-arrow\">TfidfVectorizer</label><div class=\"sk-toggleable__content\"><pre>TfidfVectorizer()</pre></div></div></div></div></div></div><div class=\"sk-parallel-item\"><div class=\"sk-item\"><div class=\"sk-label-container\"><div class=\"sk-label sk-toggleable\"><input class=\"sk-toggleable__control sk-hidden--visually\" id=\"sk-estimator-id-5\" type=\"checkbox\" ><label for=\"sk-estimator-id-5\" class=\"sk-toggleable__label sk-toggleable__label-arrow\">num</label><div class=\"sk-toggleable__content\"><pre>[&#x27;sentence_length&#x27;, &#x27;unique_words&#x27;]</pre></div></div></div><div class=\"sk-serial\"><div class=\"sk-item\"><div class=\"sk-estimator sk-toggleable\"><input class=\"sk-toggleable__control sk-hidden--visually\" id=\"sk-estimator-id-6\" type=\"checkbox\" ><label for=\"sk-estimator-id-6\" class=\"sk-toggleable__label sk-toggleable__label-arrow\">passthrough</label><div class=\"sk-toggleable__content\"><pre>passthrough</pre></div></div></div></div></div></div></div></div><div class=\"sk-item\"><div class=\"sk-estimator sk-toggleable\"><input class=\"sk-toggleable__control sk-hidden--visually\" id=\"sk-estimator-id-7\" type=\"checkbox\" ><label for=\"sk-estimator-id-7\" class=\"sk-toggleable__label sk-toggleable__label-arrow\">LogisticRegression</label><div class=\"sk-toggleable__content\"><pre>LogisticRegression()</pre></div></div></div></div></div></div></div>"
            ]
          },
          "metadata": {},
          "execution_count": 19
        }
      ]
    },
    {
      "cell_type": "markdown",
      "source": [
        "#####We predict the sentences of our true label to see how far we are from the true difficulty level label"
      ],
      "metadata": {
        "id": "RrXFDSXmp8kC"
      }
    },
    {
      "cell_type": "code",
      "source": [
        "y_pred = pipe.predict(X_test)"
      ],
      "metadata": {
        "id": "E-Fn9Q0pTIlO"
      },
      "execution_count": 20,
      "outputs": []
    },
    {
      "cell_type": "code",
      "source": [
        "y_pred"
      ],
      "metadata": {
        "colab": {
          "base_uri": "https://localhost:8080/"
        },
        "id": "ss5dFzm_Tg8u",
        "outputId": "22209551-6af4-4ae1-b285-7561d3886980"
      },
      "execution_count": 21,
      "outputs": [
        {
          "output_type": "execute_result",
          "data": {
            "text/plain": [
              "array(['A1', 'A2', 'C2', 'C1', 'B1', 'C2', 'B1', 'A2', 'A1', 'B1', 'B1',\n",
              "       'C1', 'C1', 'A2', 'C2', 'B2', 'A1', 'C2', 'B1', 'A1', 'C1', 'B1',\n",
              "       'C1', 'B2', 'A1', 'A2', 'A1', 'A1', 'C1', 'A1', 'C2', 'B2', 'C1',\n",
              "       'B1', 'B1', 'B1', 'A2', 'C1', 'C2', 'A1', 'C2', 'C1', 'C2', 'B1',\n",
              "       'C2', 'B1', 'A1', 'A1', 'A2', 'C1', 'C1', 'A2', 'C2', 'A1', 'B1',\n",
              "       'A1', 'A2', 'C2', 'A1', 'B1', 'C2', 'C2', 'A1', 'C2', 'C1', 'A2',\n",
              "       'A1', 'B1', 'C2', 'B1', 'C1', 'B2', 'A1', 'A2', 'A2', 'C2', 'A1',\n",
              "       'A1', 'A1', 'A1', 'A1', 'A2', 'C2', 'C2', 'C1', 'A1', 'A1', 'C2',\n",
              "       'B1', 'A1', 'C1', 'C2', 'B1', 'A1', 'A2', 'A2', 'A1', 'A2', 'B1',\n",
              "       'A1', 'C1', 'C2', 'A1', 'A2', 'B1', 'A1', 'B1', 'B1', 'B1', 'B1',\n",
              "       'A1', 'C2', 'A1', 'A1', 'A2', 'A1', 'B1', 'B1', 'A1', 'A1', 'A1',\n",
              "       'A1', 'A1', 'A2', 'C1', 'A1', 'C1', 'C1', 'A1', 'A2', 'C2', 'C2',\n",
              "       'A1', 'A1', 'A1', 'C2', 'C1', 'A2', 'A1', 'B2', 'B2', 'A1', 'B1',\n",
              "       'B1', 'A1', 'B1', 'C1', 'A1', 'B1', 'B1', 'C1', 'B2', 'A1', 'B1',\n",
              "       'B1', 'C1', 'C2', 'A2', 'A1', 'A2', 'C1', 'A2', 'B1', 'C1', 'C1',\n",
              "       'B1', 'A1', 'A1', 'C2', 'C2', 'C1', 'C1', 'B2', 'A2', 'C1', 'A1',\n",
              "       'B1', 'A1', 'B1', 'B1', 'B1', 'A1', 'C1', 'C2', 'A1', 'C1', 'A1',\n",
              "       'C1', 'A1', 'C2', 'A1', 'B1', 'C1', 'B1', 'B1', 'A2', 'A2', 'B2',\n",
              "       'B1', 'A2', 'A2', 'A2', 'B1', 'B1', 'A1', 'C1', 'B1', 'A1', 'C1',\n",
              "       'A2', 'C2', 'B1', 'C2', 'B1', 'A2', 'A1', 'B2', 'C2', 'B1', 'A1',\n",
              "       'A2', 'C2', 'C2', 'A2', 'A1', 'A1', 'C1', 'B2', 'C2', 'C2', 'C1',\n",
              "       'A1', 'C2', 'C1', 'C2', 'C1', 'A2', 'C1', 'B1', 'B1', 'A2', 'A1',\n",
              "       'C2', 'A1', 'A1', 'C2', 'C1', 'C1', 'C1', 'C1', 'A2', 'C2', 'A1',\n",
              "       'B1', 'A1', 'B1', 'C1', 'C2', 'C1', 'C2', 'B1', 'B1', 'A1', 'A2',\n",
              "       'A1', 'C1', 'A1', 'C1', 'A1', 'A1', 'B2', 'A1', 'A2', 'A1', 'A1',\n",
              "       'B1', 'B1', 'B1', 'A1', 'C1', 'C1', 'A2', 'B2', 'A2', 'A1', 'B1',\n",
              "       'B1', 'B1', 'A1', 'B1', 'A1', 'A2', 'C1', 'B1', 'A2', 'A1', 'C2',\n",
              "       'B1', 'C1', 'C1', 'A1', 'A1', 'A2', 'B1', 'B2', 'B1', 'B1', 'C2',\n",
              "       'A1', 'A2', 'A1', 'C1', 'B1', 'B1', 'A2', 'B1', 'A2', 'A2', 'C1',\n",
              "       'B1', 'B2', 'A1', 'A2', 'C2', 'B1', 'C1', 'C2', 'C2', 'A1', 'B1',\n",
              "       'B2', 'B1', 'A2', 'C1', 'C1', 'A1', 'C1', 'A1', 'A1', 'B2', 'C1',\n",
              "       'A1', 'B1', 'B1', 'A2', 'B2', 'A2', 'C1', 'C1', 'C2', 'A1', 'C1',\n",
              "       'A1', 'C2', 'B2', 'A1', 'B1', 'A1', 'B1', 'A2', 'C1', 'C1', 'C2',\n",
              "       'A1', 'A1', 'A2', 'C2', 'C2', 'A2', 'A2', 'A1', 'C1', 'A1', 'B2',\n",
              "       'A2', 'A1', 'A2', 'B1', 'C1', 'C2', 'C1', 'A1', 'A1', 'A1', 'B1',\n",
              "       'A2', 'A1', 'C2', 'B1', 'B1', 'C1', 'B1', 'A1', 'B1', 'A1', 'A1',\n",
              "       'A1', 'A1', 'B2', 'A2', 'B2', 'A1', 'C1', 'B2', 'C1', 'B1', 'B2',\n",
              "       'B2', 'A1', 'C1', 'C2', 'C2', 'C1', 'C2', 'B2', 'C2', 'C1', 'C1',\n",
              "       'C1', 'C1', 'B2', 'C1', 'B2', 'A1', 'B1', 'C2', 'B2', 'A1', 'A1',\n",
              "       'C2', 'B2', 'A1', 'C1', 'C1', 'C2', 'A1', 'A2', 'B2', 'B2', 'B1',\n",
              "       'A1', 'A1', 'A1', 'B1', 'B2', 'A2', 'A1', 'C1', 'A1', 'A1', 'B1',\n",
              "       'A2', 'A1', 'A1', 'A2', 'B1', 'C2', 'A2', 'A2', 'A1', 'A1', 'A1',\n",
              "       'C1', 'A1', 'B2', 'A1', 'A1', 'A1', 'C2', 'B1', 'B1', 'C2', 'B2',\n",
              "       'A1', 'A2', 'C1', 'C2', 'C2', 'A1', 'B1', 'A1', 'C1', 'C2', 'B1',\n",
              "       'A1', 'B1', 'A1', 'A1', 'C1', 'A2', 'A1', 'C2', 'C1', 'C2', 'B1',\n",
              "       'B2', 'A1', 'A1', 'B1', 'A1', 'A2', 'C1', 'C2', 'B1', 'A1', 'A1',\n",
              "       'C2', 'A1', 'B2', 'B2', 'C1', 'A1', 'C1', 'A1', 'A1', 'A1', 'C2',\n",
              "       'A1', 'A2', 'B1', 'C1', 'A1', 'A1', 'B1', 'A2', 'B1', 'C2', 'A1',\n",
              "       'C1', 'A1', 'B1', 'C1', 'A2', 'A2', 'A2', 'C2', 'A2', 'B1', 'A2',\n",
              "       'C1', 'C1', 'B1', 'B1', 'B1', 'B1', 'C1', 'A1', 'A1', 'B1', 'B1',\n",
              "       'A2', 'A1', 'B1', 'B1', 'A2', 'A1', 'A1', 'C1', 'A1', 'B1', 'B2',\n",
              "       'C1', 'C2', 'A2', 'A1', 'C1', 'A2', 'C2', 'B1', 'A1', 'B2', 'C2',\n",
              "       'A1', 'A2', 'C1', 'C1', 'C1', 'B1', 'A1', 'B1', 'C2', 'A1', 'C1',\n",
              "       'B1', 'A2', 'C1', 'C2', 'B1', 'A2', 'A2', 'B1', 'C2', 'C1', 'C1',\n",
              "       'A2', 'B1', 'B1', 'C2', 'B1', 'B1', 'A2', 'B2', 'B1', 'C2', 'B2',\n",
              "       'B2', 'C1', 'A1', 'C1', 'C1', 'A2', 'C2', 'C1', 'A2', 'C1', 'A1',\n",
              "       'A2', 'B1', 'A2', 'A1', 'C2', 'A1', 'A2', 'B2', 'B2', 'B1', 'C1',\n",
              "       'C2', 'C2', 'C2', 'A1', 'B1', 'C2', 'B1', 'B1', 'A1', 'C1', 'C1',\n",
              "       'C2', 'C1', 'A1', 'C1', 'B1', 'A2', 'B2', 'A1', 'B1', 'C2', 'A1',\n",
              "       'A1', 'C2', 'A2', 'C2', 'B1', 'B1', 'A2', 'A2', 'A1', 'C2', 'B1',\n",
              "       'B1', 'A1', 'B1', 'C2', 'C1', 'A1', 'A1', 'C2', 'A1', 'B1', 'B2',\n",
              "       'A1', 'C1', 'B2', 'A2', 'B1', 'A1', 'A1', 'A1', 'C2', 'C2', 'A1',\n",
              "       'B1', 'A1', 'C1', 'C1', 'A2', 'A1', 'B1', 'A1', 'A1', 'B1', 'C1',\n",
              "       'B1', 'A2', 'C1', 'B1', 'C1', 'C1', 'A1', 'B1', 'B1', 'C1', 'C1',\n",
              "       'C2', 'B1', 'A1', 'B1', 'A1', 'B1', 'B1', 'B1', 'B1', 'A2', 'B2',\n",
              "       'C1', 'B1', 'C2', 'A2', 'A1', 'B1', 'A1', 'C2', 'A1', 'C2', 'C1',\n",
              "       'C2', 'A2', 'A1', 'B1', 'A1', 'C1', 'B1', 'C1', 'A2', 'A2', 'B2',\n",
              "       'A1', 'B1', 'A1', 'C1', 'B2', 'B2', 'A1', 'C1', 'B1', 'C1', 'A1',\n",
              "       'A2', 'A2', 'A2', 'A2', 'A2', 'A2', 'A2', 'C2', 'C1', 'C1', 'A1',\n",
              "       'A2', 'B1', 'B1', 'B1', 'B1', 'A1', 'A1', 'B2', 'C1', 'B1', 'A1',\n",
              "       'A1', 'A1', 'A1', 'A1', 'B1', 'A2', 'A1', 'C1', 'A1', 'C1', 'B1',\n",
              "       'C2', 'C1', 'A2', 'B2', 'A1', 'C2', 'C1', 'A2', 'B1', 'A1', 'C1',\n",
              "       'C2', 'B1', 'B1', 'A2', 'C1', 'A2', 'C1', 'A1', 'C2', 'A1', 'A1',\n",
              "       'B1', 'B1', 'B2', 'B1', 'A1', 'B1', 'C2', 'B2', 'C2', 'B1', 'C1',\n",
              "       'B1', 'B1', 'A1', 'C1', 'A2', 'C1', 'A1', 'C1', 'B1', 'C2', 'A2',\n",
              "       'A1', 'B1', 'C2', 'C1', 'C2', 'A1', 'A1', 'A1', 'A2', 'A1', 'A2',\n",
              "       'C1', 'A1', 'B1', 'A2', 'B1', 'B1', 'A2', 'C2', 'B1', 'B1', 'A2',\n",
              "       'A2', 'C1', 'A2', 'A2', 'B2', 'A1', 'C1', 'B1', 'A1', 'C1', 'A1',\n",
              "       'C1', 'C2', 'A2', 'A1', 'A1', 'C1', 'A1', 'B2', 'A2', 'B1', 'A1',\n",
              "       'A1', 'A1', 'B1', 'C2', 'A1', 'C1', 'C1', 'C1', 'B1', 'A1', 'B1',\n",
              "       'A1', 'C1', 'A1', 'A1', 'A1', 'B2', 'A2', 'B1', 'A2', 'B1', 'C1',\n",
              "       'B2', 'C1', 'A1', 'A1', 'A2', 'C1', 'B1', 'A2', 'C1', 'A1', 'C2',\n",
              "       'A2', 'A1', 'A1', 'B1', 'C1', 'C2', 'C1', 'C1', 'A2', 'C2', 'A1',\n",
              "       'A1', 'A2', 'A2', 'A2', 'C1', 'A1', 'C1', 'A2', 'B1', 'B2', 'A1',\n",
              "       'B1', 'A2', 'A2', 'B1', 'A1', 'C2', 'A2', 'B1', 'C2', 'A1', 'A1',\n",
              "       'A1', 'A2', 'C1', 'B1', 'B1', 'A1', 'C1', 'C2', 'A2', 'A1', 'A1',\n",
              "       'C2', 'A1', 'A1', 'A1', 'C1', 'C1', 'C2', 'A1', 'B1', 'A1', 'B1',\n",
              "       'B1', 'A2', 'C2'], dtype=object)"
            ]
          },
          "metadata": {},
          "execution_count": 21
        }
      ]
    },
    {
      "cell_type": "markdown",
      "source": [
        "######Then we calculate different metrics to some figures to see how good is our model. And we can see a big improvment by not removing the french stop words."
      ],
      "metadata": {
        "id": "Nr_H3DRQqaWt"
      }
    },
    {
      "cell_type": "code",
      "source": [
        "accuracy_tfidf = round(accuracy_score(y_test, y_pred), 4)\n",
        "precision_tfidf = round(precision_score(y_test, y_pred, average='macro'),4)\n",
        "recall_tfidf = round(recall_score(y_test, y_pred, average='macro'),4)\n",
        "f1_tfidf = round(f1_score(y_test, y_pred, average='macro'),4)\n",
        "print(f'The accuracy using TF-IDF is: {accuracy_tfidf}')\n",
        "print(f'The precision using TF-IDF is: {precision_tfidf}')\n",
        "print(f'The recall using TF-IDF is: {recall_tfidf}')\n",
        "print(f'The f1 score using TF-IDF is: {f1_tfidf}')"
      ],
      "metadata": {
        "colab": {
          "base_uri": "https://localhost:8080/"
        },
        "id": "L4XAso33TlAc",
        "outputId": "a3879921-8c1e-4e9a-e7fa-f46ce8660f28"
      },
      "execution_count": 22,
      "outputs": [
        {
          "output_type": "stream",
          "name": "stdout",
          "text": [
            "The accuracy using TF-IDF is: 0.374\n",
            "The precision using TF-IDF is: 0.3642\n",
            "The recall using TF-IDF is: 0.3699\n",
            "The f1 score using TF-IDF is: 0.352\n"
          ]
        }
      ]
    },
    {
      "cell_type": "markdown",
      "source": [
        "#####And now we will see the confusion matrix of our model"
      ],
      "metadata": {
        "id": "oYPSQPZ-rV7M"
      }
    },
    {
      "cell_type": "code",
      "source": [
        "conf_matrix = confusion_matrix(y_test, y_pred)\n",
        "difficulty_labels=[\"A1\",\"A2\",\"B1\",\"B2\",\"C1\",\"C2\"]\n",
        "sns.heatmap(conf_matrix, annot=True, fmt='g',xticklabels=difficulty_labels,yticklabels=difficulty_labels,cmap=\"Greens\")\n",
        "plt.xlabel('Predicted difficulty levels')\n",
        "plt.ylabel('True difficulty levels')\n",
        "plt.title('Confusion matrix')\n",
        "plt.show()"
      ],
      "metadata": {
        "colab": {
          "base_uri": "https://localhost:8080/",
          "height": 472
        },
        "id": "nvtTwGXlshQu",
        "outputId": "f1bd4d78-3a6b-4aed-ca88-a0b32f108289"
      },
      "execution_count": 23,
      "outputs": [
        {
          "output_type": "display_data",
          "data": {
            "text/plain": [
              "<Figure size 640x480 with 2 Axes>"
            ],
            "image/png": "[encoded data removed]"
          },
          "metadata": {}
        }
      ]
    },
    {
      "cell_type": "markdown",
      "source": [
        "##Prediction"
      ],
      "metadata": {
        "id": "1hl-GaHurkmh"
      }
    },
    {
      "cell_type": "code",
      "source": [
        "df_pred['sentence_length'] = df_pred['sentence'].apply(lambda x: len(x.split()))\n",
        "df_pred['unique_words'] = df_pred['sentence'].apply(lambda x: len(set(x.split())))\n",
        "df_pred=df_pred.drop(columns='sentence_lenght')"
      ],
      "metadata": {
        "id": "MgKx-tj1SQdQ"
      },
      "execution_count": 25,
      "outputs": []
    },
    {
      "cell_type": "code",
      "execution_count": 26,
      "metadata": {
        "colab": {
          "base_uri": "https://localhost:8080/",
          "height": 455
        },
        "id": "7G75Q1gRj49l",
        "outputId": "ce79fd07-5768-45ca-9409-bbecd921729f"
      },
      "outputs": [
        {
          "output_type": "execute_result",
          "data": {
            "text/plain": [
              "                                               sentence  unique_words  \\\n",
              "id                                                                      \n",
              "0     Nous dûmes nous excuser des propos que nous eû...             9   \n",
              "1     Vous ne pouvez pas savoir le plaisir que j'ai ...            14   \n",
              "2     Et, paradoxalement, boire froid n'est pas la b...             9   \n",
              "3     Ce n'est pas étonnant, car c'est une saison my...             9   \n",
              "4     Le corps de Golo lui-même, d'une essence aussi...            57   \n",
              "...                                                 ...           ...   \n",
              "1195  C'est un phénomène qui trouve une accélération...            21   \n",
              "1196  Je vais parler au serveur et voir si on peut d...            13   \n",
              "1197  Il n'était pas comme tant de gens qui par pare...            62   \n",
              "1198      Ils deviennent dangereux pour notre économie.             6   \n",
              "1199  Son succès a généré beaucoup de réactions néga...             8   \n",
              "\n",
              "      sentence_length  \n",
              "id                     \n",
              "0                  10  \n",
              "1                  14  \n",
              "2                   9  \n",
              "3                   9  \n",
              "4                  72  \n",
              "...               ...  \n",
              "1195               22  \n",
              "1196               13  \n",
              "1197               75  \n",
              "1198                6  \n",
              "1199                8  \n",
              "\n",
              "[1200 rows x 3 columns]"
            ],
            "text/html": [
              "\n",
              "  <div id=\"df-4a7cf3d8-7f17-48d6-abe0-ec174c22c0d5\" class=\"colab-df-container\">\n",
              "    <div>\n",
              "<style scoped>\n",
              "    .dataframe tbody tr th:only-of-type {\n",
              "        vertical-align: middle;\n",
              "    }\n",
              "\n",
              "    .dataframe tbody tr th {\n",
              "        vertical-align: top;\n",
              "    }\n",
              "\n",
              "    .dataframe thead th {\n",
              "        text-align: right;\n",
              "    }\n",
              "</style>\n",
              "<table border=\"1\" class=\"dataframe\">\n",
              "  <thead>\n",
              "    <tr style=\"text-align: right;\">\n",
              "      <th></th>\n",
              "      <th>sentence</th>\n",
              "      <th>unique_words</th>\n",
              "      <th>sentence_length</th>\n",
              "    </tr>\n",
              "    <tr>\n",
              "      <th>id</th>\n",
              "      <th></th>\n",
              "      <th></th>\n",
              "      <th></th>\n",
              "    </tr>\n",
              "  </thead>\n",
              "  <tbody>\n",
              "    <tr>\n",
              "      <th>0</th>\n",
              "      <td>Nous dûmes nous excuser des propos que nous eû...</td>\n",
              "      <td>9</td>\n",
              "      <td>10</td>\n",
              "    </tr>\n",
              "    <tr>\n",
              "      <th>1</th>\n",
              "      <td>Vous ne pouvez pas savoir le plaisir que j'ai ...</td>\n",
              "      <td>14</td>\n",
              "      <td>14</td>\n",
              "    </tr>\n",
              "    <tr>\n",
              "      <th>2</th>\n",
              "      <td>Et, paradoxalement, boire froid n'est pas la b...</td>\n",
              "      <td>9</td>\n",
              "      <td>9</td>\n",
              "    </tr>\n",
              "    <tr>\n",
              "      <th>3</th>\n",
              "      <td>Ce n'est pas étonnant, car c'est une saison my...</td>\n",
              "      <td>9</td>\n",
              "      <td>9</td>\n",
              "    </tr>\n",
              "    <tr>\n",
              "      <th>4</th>\n",
              "      <td>Le corps de Golo lui-même, d'une essence aussi...</td>\n",
              "      <td>57</td>\n",
              "      <td>72</td>\n",
              "    </tr>\n",
              "    <tr>\n",
              "      <th>...</th>\n",
              "      <td>...</td>\n",
              "      <td>...</td>\n",
              "      <td>...</td>\n",
              "    </tr>\n",
              "    <tr>\n",
              "      <th>1195</th>\n",
              "      <td>C'est un phénomène qui trouve une accélération...</td>\n",
              "      <td>21</td>\n",
              "      <td>22</td>\n",
              "    </tr>\n",
              "    <tr>\n",
              "      <th>1196</th>\n",
              "      <td>Je vais parler au serveur et voir si on peut d...</td>\n",
              "      <td>13</td>\n",
              "      <td>13</td>\n",
              "    </tr>\n",
              "    <tr>\n",
              "      <th>1197</th>\n",
              "      <td>Il n'était pas comme tant de gens qui par pare...</td>\n",
              "      <td>62</td>\n",
              "      <td>75</td>\n",
              "    </tr>\n",
              "    <tr>\n",
              "      <th>1198</th>\n",
              "      <td>Ils deviennent dangereux pour notre économie.</td>\n",
              "      <td>6</td>\n",
              "      <td>6</td>\n",
              "    </tr>\n",
              "    <tr>\n",
              "      <th>1199</th>\n",
              "      <td>Son succès a généré beaucoup de réactions néga...</td>\n",
              "      <td>8</td>\n",
              "      <td>8</td>\n",
              "    </tr>\n",
              "  </tbody>\n",
              "</table>\n",
              "<p>1200 rows × 3 columns</p>\n",
              "</div>\n",
              "    <div class=\"colab-df-buttons\">\n",
              "\n",
              "  <div class=\"colab-df-container\">\n",
              "    <button class=\"colab-df-convert\" onclick=\"convertToInteractive('df-4a7cf3d8-7f17-48d6-abe0-ec174c22c0d5')\"\n",
              "            title=\"Convert this dataframe to an interactive table.\"\n",
              "            style=\"display:none;\">\n",
              "\n",
              "  <svg xmlns=\"http://www.w3.org/2000/svg\" height=\"24px\" viewBox=\"0 -960 960 960\">\n",
              "    <path d=\"M120-120v-720h720v720H120Zm60-500h600v-160H180v160Zm220 220h160v-160H400v160Zm0 220h160v-160H400v160ZM180-400h160v-160H180v160Zm440 0h160v-160H620v160ZM180-180h160v-160H180v160Zm440 0h160v-160H620v160Z\"/>\n",
              "  </svg>\n",
              "    </button>\n",
              "\n",
              "  <style>\n",
              "    .colab-df-container {\n",
              "      display:flex;\n",
              "      gap: 12px;\n",
              "    }\n",
              "\n",
              "    .colab-df-convert {\n",
              "      background-color: #E8F0FE;\n",
              "      border: none;\n",
              "      border-radius: 50%;\n",
              "      cursor: pointer;\n",
              "      display: none;\n",
              "      fill: #1967D2;\n",
              "      height: 32px;\n",
              "      padding: 0 0 0 0;\n",
              "      width: 32px;\n",
              "    }\n",
              "\n",
              "    .colab-df-convert:hover {\n",
              "      background-color: #E2EBFA;\n",
              "      box-shadow: 0px 1px 2px rgba(60, 64, 67, 0.3), 0px 1px 3px 1px rgba(60, 64, 67, 0.15);\n",
              "      fill: #174EA6;\n",
              "    }\n",
              "\n",
              "    .colab-df-buttons div {\n",
              "      margin-bottom: 4px;\n",
              "    }\n",
              "\n",
              "    [theme=dark] .colab-df-convert {\n",
              "      background-color: #3B4455;\n",
              "      fill: #D2E3FC;\n",
              "    }\n",
              "\n",
              "    [theme=dark] .colab-df-convert:hover {\n",
              "      background-color: #434B5C;\n",
              "      box-shadow: 0px 1px 3px 1px rgba(0, 0, 0, 0.15);\n",
              "      filter: drop-shadow(0px 1px 2px rgba(0, 0, 0, 0.3));\n",
              "      fill: #FFFFFF;\n",
              "    }\n",
              "  </style>\n",
              "\n",
              "    <script>\n",
              "      const buttonEl =\n",
              "        document.querySelector('#df-4a7cf3d8-7f17-48d6-abe0-ec174c22c0d5 button.colab-df-convert');\n",
              "      buttonEl.style.display =\n",
              "        google.colab.kernel.accessAllowed ? 'block' : 'none';\n",
              "\n",
              "      async function convertToInteractive(key) {\n",
              "        const element = document.querySelector('#df-4a7cf3d8-7f17-48d6-abe0-ec174c22c0d5');\n",
              "        const dataTable =\n",
              "          await google.colab.kernel.invokeFunction('convertToInteractive',\n",
              "                                                    [key], {});\n",
              "        if (!dataTable) return;\n",
              "\n",
              "        const docLinkHtml = 'Like what you see? Visit the ' +\n",
              "          '<a target=\"_blank\" href=https://colab.research.google.com/notebooks/data_table.ipynb>data table notebook</a>'\n",
              "          + ' to learn more about interactive tables.';\n",
              "        element.innerHTML = '';\n",
              "        dataTable['output_type'] = 'display_data';\n",
              "        await google.colab.output.renderOutput(dataTable, element);\n",
              "        const docLink = document.createElement('div');\n",
              "        docLink.innerHTML = docLinkHtml;\n",
              "        element.appendChild(docLink);\n",
              "      }\n",
              "    </script>\n",
              "  </div>\n",
              "\n",
              "\n",
              "<div id=\"df-10d1b307-5f55-4f66-a19c-eb2ef7393c38\">\n",
              "  <button class=\"colab-df-quickchart\" onclick=\"quickchart('df-10d1b307-5f55-4f66-a19c-eb2ef7393c38')\"\n",
              "            title=\"Suggest charts\"\n",
              "            style=\"display:none;\">\n",
              "\n",
              "<svg xmlns=\"http://www.w3.org/2000/svg\" height=\"24px\"viewBox=\"0 0 24 24\"\n",
              "     width=\"24px\">\n",
              "    <g>\n",
              "        <path d=\"M19 3H5c-1.1 0-2 .9-2 2v14c0 1.1.9 2 2 2h14c1.1 0 2-.9 2-2V5c0-1.1-.9-2-2-2zM9 17H7v-7h2v7zm4 0h-2V7h2v10zm4 0h-2v-4h2v4z\"/>\n",
              "    </g>\n",
              "</svg>\n",
              "  </button>\n",
              "\n",
              "<style>\n",
              "  .colab-df-quickchart {\n",
              "      --bg-color: #E8F0FE;\n",
              "      --fill-color: #1967D2;\n",
              "      --hover-bg-color: #E2EBFA;\n",
              "      --hover-fill-color: #174EA6;\n",
              "      --disabled-fill-color: #AAA;\n",
              "      --disabled-bg-color: #DDD;\n",
              "  }\n",
              "\n",
              "  [theme=dark] .colab-df-quickchart {\n",
              "      --bg-color: #3B4455;\n",
              "      --fill-color: #D2E3FC;\n",
              "      --hover-bg-color: #434B5C;\n",
              "      --hover-fill-color: #FFFFFF;\n",
              "      --disabled-bg-color: #3B4455;\n",
              "      --disabled-fill-color: #666;\n",
              "  }\n",
              "\n",
              "  .colab-df-quickchart {\n",
              "    background-color: var(--bg-color);\n",
              "    border: none;\n",
              "    border-radius: 50%;\n",
              "    cursor: pointer;\n",
              "    display: none;\n",
              "    fill: var(--fill-color);\n",
              "    height: 32px;\n",
              "    padding: 0;\n",
              "    width: 32px;\n",
              "  }\n",
              "\n",
              "  .colab-df-quickchart:hover {\n",
              "    background-color: var(--hover-bg-color);\n",
              "    box-shadow: 0 1px 2px rgba(60, 64, 67, 0.3), 0 1px 3px 1px rgba(60, 64, 67, 0.15);\n",
              "    fill: var(--button-hover-fill-color);\n",
              "  }\n",
              "\n",
              "  .colab-df-quickchart-complete:disabled,\n",
              "  .colab-df-quickchart-complete:disabled:hover {\n",
              "    background-color: var(--disabled-bg-color);\n",
              "    fill: var(--disabled-fill-color);\n",
              "    box-shadow: none;\n",
              "  }\n",
              "\n",
              "  .colab-df-spinner {\n",
              "    border: 2px solid var(--fill-color);\n",
              "    border-color: transparent;\n",
              "    border-bottom-color: var(--fill-color);\n",
              "    animation:\n",
              "      spin 1s steps(1) infinite;\n",
              "  }\n",
              "\n",
              "  @keyframes spin {\n",
              "    0% {\n",
              "      border-color: transparent;\n",
              "      border-bottom-color: var(--fill-color);\n",
              "      border-left-color: var(--fill-color);\n",
              "    }\n",
              "    20% {\n",
              "      border-color: transparent;\n",
              "      border-left-color: var(--fill-color);\n",
              "      border-top-color: var(--fill-color);\n",
              "    }\n",
              "    30% {\n",
              "      border-color: transparent;\n",
              "      border-left-color: var(--fill-color);\n",
              "      border-top-color: var(--fill-color);\n",
              "      border-right-color: var(--fill-color);\n",
              "    }\n",
              "    40% {\n",
              "      border-color: transparent;\n",
              "      border-right-color: var(--fill-color);\n",
              "      border-top-color: var(--fill-color);\n",
              "    }\n",
              "    60% {\n",
              "      border-color: transparent;\n",
              "      border-right-color: var(--fill-color);\n",
              "    }\n",
              "    80% {\n",
              "      border-color: transparent;\n",
              "      border-right-color: var(--fill-color);\n",
              "      border-bottom-color: var(--fill-color);\n",
              "    }\n",
              "    90% {\n",
              "      border-color: transparent;\n",
              "      border-bottom-color: var(--fill-color);\n",
              "    }\n",
              "  }\n",
              "</style>\n",
              "\n",
              "  <script>\n",
              "    async function quickchart(key) {\n",
              "      const quickchartButtonEl =\n",
              "        document.querySelector('#' + key + ' button');\n",
              "      quickchartButtonEl.disabled = true;  // To prevent multiple clicks.\n",
              "      quickchartButtonEl.classList.add('colab-df-spinner');\n",
              "      try {\n",
              "        const charts = await google.colab.kernel.invokeFunction(\n",
              "            'suggestCharts', [key], {});\n",
              "      } catch (error) {\n",
              "        console.error('Error during call to suggestCharts:', error);\n",
              "      }\n",
              "      quickchartButtonEl.classList.remove('colab-df-spinner');\n",
              "      quickchartButtonEl.classList.add('colab-df-quickchart-complete');\n",
              "    }\n",
              "    (() => {\n",
              "      let quickchartButtonEl =\n",
              "        document.querySelector('#df-10d1b307-5f55-4f66-a19c-eb2ef7393c38 button');\n",
              "      quickchartButtonEl.style.display =\n",
              "        google.colab.kernel.accessAllowed ? 'block' : 'none';\n",
              "    })();\n",
              "  </script>\n",
              "</div>\n",
              "    </div>\n",
              "  </div>\n"
            ]
          },
          "metadata": {},
          "execution_count": 26
        }
      ],
      "source": [
        "df_pred"
      ]
    },
    {
      "cell_type": "code",
      "source": [
        "df_pred['predicted_difficulty'] = pipe.predict(df_pred[['sentence', 'sentence_length', 'unique_words']])\n"
      ],
      "metadata": {
        "id": "AtsxG2C5ZxH8"
      },
      "execution_count": 27,
      "outputs": []
    },
    {
      "cell_type": "code",
      "execution_count": 28,
      "metadata": {
        "colab": {
          "base_uri": "https://localhost:8080/",
          "height": 455
        },
        "id": "gk9H2dLHkFBa",
        "outputId": "c56a3a91-a763-44b4-98e4-3adac73d399e"
      },
      "outputs": [
        {
          "output_type": "execute_result",
          "data": {
            "text/plain": [
              "                                               sentence  unique_words  \\\n",
              "id                                                                      \n",
              "0     Nous dûmes nous excuser des propos que nous eû...             9   \n",
              "1     Vous ne pouvez pas savoir le plaisir que j'ai ...            14   \n",
              "2     Et, paradoxalement, boire froid n'est pas la b...             9   \n",
              "3     Ce n'est pas étonnant, car c'est une saison my...             9   \n",
              "4     Le corps de Golo lui-même, d'une essence aussi...            57   \n",
              "...                                                 ...           ...   \n",
              "1195  C'est un phénomène qui trouve une accélération...            21   \n",
              "1196  Je vais parler au serveur et voir si on peut d...            13   \n",
              "1197  Il n'était pas comme tant de gens qui par pare...            62   \n",
              "1198      Ils deviennent dangereux pour notre économie.             6   \n",
              "1199  Son succès a généré beaucoup de réactions néga...             8   \n",
              "\n",
              "      sentence_length predicted_difficulty  \n",
              "id                                          \n",
              "0                  10                   A1  \n",
              "1                  14                   B1  \n",
              "2                   9                   A2  \n",
              "3                   9                   A2  \n",
              "4                  72                   C2  \n",
              "...               ...                  ...  \n",
              "1195               22                   C1  \n",
              "1196               13                   B1  \n",
              "1197               75                   C2  \n",
              "1198                6                   A1  \n",
              "1199                8                   A1  \n",
              "\n",
              "[1200 rows x 4 columns]"
            ],
            "text/html": [
              "\n",
              "  <div id=\"df-3254b2b7-2dc0-4065-90e8-60df33f0baab\" class=\"colab-df-container\">\n",
              "    <div>\n",
              "<style scoped>\n",
              "    .dataframe tbody tr th:only-of-type {\n",
              "        vertical-align: middle;\n",
              "    }\n",
              "\n",
              "    .dataframe tbody tr th {\n",
              "        vertical-align: top;\n",
              "    }\n",
              "\n",
              "    .dataframe thead th {\n",
              "        text-align: right;\n",
              "    }\n",
              "</style>\n",
              "<table border=\"1\" class=\"dataframe\">\n",
              "  <thead>\n",
              "    <tr style=\"text-align: right;\">\n",
              "      <th></th>\n",
              "      <th>sentence</th>\n",
              "      <th>unique_words</th>\n",
              "      <th>sentence_length</th>\n",
              "      <th>predicted_difficulty</th>\n",
              "    </tr>\n",
              "    <tr>\n",
              "      <th>id</th>\n",
              "      <th></th>\n",
              "      <th></th>\n",
              "      <th></th>\n",
              "      <th></th>\n",
              "    </tr>\n",
              "  </thead>\n",
              "  <tbody>\n",
              "    <tr>\n",
              "      <th>0</th>\n",
              "      <td>Nous dûmes nous excuser des propos que nous eû...</td>\n",
              "      <td>9</td>\n",
              "      <td>10</td>\n",
              "      <td>A1</td>\n",
              "    </tr>\n",
              "    <tr>\n",
              "      <th>1</th>\n",
              "      <td>Vous ne pouvez pas savoir le plaisir que j'ai ...</td>\n",
              "      <td>14</td>\n",
              "      <td>14</td>\n",
              "      <td>B1</td>\n",
              "    </tr>\n",
              "    <tr>\n",
              "      <th>2</th>\n",
              "      <td>Et, paradoxalement, boire froid n'est pas la b...</td>\n",
              "      <td>9</td>\n",
              "      <td>9</td>\n",
              "      <td>A2</td>\n",
              "    </tr>\n",
              "    <tr>\n",
              "      <th>3</th>\n",
              "      <td>Ce n'est pas étonnant, car c'est une saison my...</td>\n",
              "      <td>9</td>\n",
              "      <td>9</td>\n",
              "      <td>A2</td>\n",
              "    </tr>\n",
              "    <tr>\n",
              "      <th>4</th>\n",
              "      <td>Le corps de Golo lui-même, d'une essence aussi...</td>\n",
              "      <td>57</td>\n",
              "      <td>72</td>\n",
              "      <td>C2</td>\n",
              "    </tr>\n",
              "    <tr>\n",
              "      <th>...</th>\n",
              "      <td>...</td>\n",
              "      <td>...</td>\n",
              "      <td>...</td>\n",
              "      <td>...</td>\n",
              "    </tr>\n",
              "    <tr>\n",
              "      <th>1195</th>\n",
              "      <td>C'est un phénomène qui trouve une accélération...</td>\n",
              "      <td>21</td>\n",
              "      <td>22</td>\n",
              "      <td>C1</td>\n",
              "    </tr>\n",
              "    <tr>\n",
              "      <th>1196</th>\n",
              "      <td>Je vais parler au serveur et voir si on peut d...</td>\n",
              "      <td>13</td>\n",
              "      <td>13</td>\n",
              "      <td>B1</td>\n",
              "    </tr>\n",
              "    <tr>\n",
              "      <th>1197</th>\n",
              "      <td>Il n'était pas comme tant de gens qui par pare...</td>\n",
              "      <td>62</td>\n",
              "      <td>75</td>\n",
              "      <td>C2</td>\n",
              "    </tr>\n",
              "    <tr>\n",
              "      <th>1198</th>\n",
              "      <td>Ils deviennent dangereux pour notre économie.</td>\n",
              "      <td>6</td>\n",
              "      <td>6</td>\n",
              "      <td>A1</td>\n",
              "    </tr>\n",
              "    <tr>\n",
              "      <th>1199</th>\n",
              "      <td>Son succès a généré beaucoup de réactions néga...</td>\n",
              "      <td>8</td>\n",
              "      <td>8</td>\n",
              "      <td>A1</td>\n",
              "    </tr>\n",
              "  </tbody>\n",
              "</table>\n",
              "<p>1200 rows × 4 columns</p>\n",
              "</div>\n",
              "    <div class=\"colab-df-buttons\">\n",
              "\n",
              "  <div class=\"colab-df-container\">\n",
              "    <button class=\"colab-df-convert\" onclick=\"convertToInteractive('df-3254b2b7-2dc0-4065-90e8-60df33f0baab')\"\n",
              "            title=\"Convert this dataframe to an interactive table.\"\n",
              "            style=\"display:none;\">\n",
              "\n",
              "  <svg xmlns=\"http://www.w3.org/2000/svg\" height=\"24px\" viewBox=\"0 -960 960 960\">\n",
              "    <path d=\"M120-120v-720h720v720H120Zm60-500h600v-160H180v160Zm220 220h160v-160H400v160Zm0 220h160v-160H400v160ZM180-400h160v-160H180v160Zm440 0h160v-160H620v160ZM180-180h160v-160H180v160Zm440 0h160v-160H620v160Z\"/>\n",
              "  </svg>\n",
              "    </button>\n",
              "\n",
              "  <style>\n",
              "    .colab-df-container {\n",
              "      display:flex;\n",
              "      gap: 12px;\n",
              "    }\n",
              "\n",
              "    .colab-df-convert {\n",
              "      background-color: #E8F0FE;\n",
              "      border: none;\n",
              "      border-radius: 50%;\n",
              "      cursor: pointer;\n",
              "      display: none;\n",
              "      fill: #1967D2;\n",
              "      height: 32px;\n",
              "      padding: 0 0 0 0;\n",
              "      width: 32px;\n",
              "    }\n",
              "\n",
              "    .colab-df-convert:hover {\n",
              "      background-color: #E2EBFA;\n",
              "      box-shadow: 0px 1px 2px rgba(60, 64, 67, 0.3), 0px 1px 3px 1px rgba(60, 64, 67, 0.15);\n",
              "      fill: #174EA6;\n",
              "    }\n",
              "\n",
              "    .colab-df-buttons div {\n",
              "      margin-bottom: 4px;\n",
              "    }\n",
              "\n",
              "    [theme=dark] .colab-df-convert {\n",
              "      background-color: #3B4455;\n",
              "      fill: #D2E3FC;\n",
              "    }\n",
              "\n",
              "    [theme=dark] .colab-df-convert:hover {\n",
              "      background-color: #434B5C;\n",
              "      box-shadow: 0px 1px 3px 1px rgba(0, 0, 0, 0.15);\n",
              "      filter: drop-shadow(0px 1px 2px rgba(0, 0, 0, 0.3));\n",
              "      fill: #FFFFFF;\n",
              "    }\n",
              "  </style>\n",
              "\n",
              "    <script>\n",
              "      const buttonEl =\n",
              "        document.querySelector('#df-3254b2b7-2dc0-4065-90e8-60df33f0baab button.colab-df-convert');\n",
              "      buttonEl.style.display =\n",
              "        google.colab.kernel.accessAllowed ? 'block' : 'none';\n",
              "\n",
              "      async function convertToInteractive(key) {\n",
              "        const element = document.querySelector('#df-3254b2b7-2dc0-4065-90e8-60df33f0baab');\n",
              "        const dataTable =\n",
              "          await google.colab.kernel.invokeFunction('convertToInteractive',\n",
              "                                                    [key], {});\n",
              "        if (!dataTable) return;\n",
              "\n",
              "        const docLinkHtml = 'Like what you see? Visit the ' +\n",
              "          '<a target=\"_blank\" href=https://colab.research.google.com/notebooks/data_table.ipynb>data table notebook</a>'\n",
              "          + ' to learn more about interactive tables.';\n",
              "        element.innerHTML = '';\n",
              "        dataTable['output_type'] = 'display_data';\n",
              "        await google.colab.output.renderOutput(dataTable, element);\n",
              "        const docLink = document.createElement('div');\n",
              "        docLink.innerHTML = docLinkHtml;\n",
              "        element.appendChild(docLink);\n",
              "      }\n",
              "    </script>\n",
              "  </div>\n",
              "\n",
              "\n",
              "<div id=\"df-d57b1f67-b306-4152-af26-814ed0946303\">\n",
              "  <button class=\"colab-df-quickchart\" onclick=\"quickchart('df-d57b1f67-b306-4152-af26-814ed0946303')\"\n",
              "            title=\"Suggest charts\"\n",
              "            style=\"display:none;\">\n",
              "\n",
              "<svg xmlns=\"http://www.w3.org/2000/svg\" height=\"24px\"viewBox=\"0 0 24 24\"\n",
              "     width=\"24px\">\n",
              "    <g>\n",
              "        <path d=\"M19 3H5c-1.1 0-2 .9-2 2v14c0 1.1.9 2 2 2h14c1.1 0 2-.9 2-2V5c0-1.1-.9-2-2-2zM9 17H7v-7h2v7zm4 0h-2V7h2v10zm4 0h-2v-4h2v4z\"/>\n",
              "    </g>\n",
              "</svg>\n",
              "  </button>\n",
              "\n",
              "<style>\n",
              "  .colab-df-quickchart {\n",
              "      --bg-color: #E8F0FE;\n",
              "      --fill-color: #1967D2;\n",
              "      --hover-bg-color: #E2EBFA;\n",
              "      --hover-fill-color: #174EA6;\n",
              "      --disabled-fill-color: #AAA;\n",
              "      --disabled-bg-color: #DDD;\n",
              "  }\n",
              "\n",
              "  [theme=dark] .colab-df-quickchart {\n",
              "      --bg-color: #3B4455;\n",
              "      --fill-color: #D2E3FC;\n",
              "      --hover-bg-color: #434B5C;\n",
              "      --hover-fill-color: #FFFFFF;\n",
              "      --disabled-bg-color: #3B4455;\n",
              "      --disabled-fill-color: #666;\n",
              "  }\n",
              "\n",
              "  .colab-df-quickchart {\n",
              "    background-color: var(--bg-color);\n",
              "    border: none;\n",
              "    border-radius: 50%;\n",
              "    cursor: pointer;\n",
              "    display: none;\n",
              "    fill: var(--fill-color);\n",
              "    height: 32px;\n",
              "    padding: 0;\n",
              "    width: 32px;\n",
              "  }\n",
              "\n",
              "  .colab-df-quickchart:hover {\n",
              "    background-color: var(--hover-bg-color);\n",
              "    box-shadow: 0 1px 2px rgba(60, 64, 67, 0.3), 0 1px 3px 1px rgba(60, 64, 67, 0.15);\n",
              "    fill: var(--button-hover-fill-color);\n",
              "  }\n",
              "\n",
              "  .colab-df-quickchart-complete:disabled,\n",
              "  .colab-df-quickchart-complete:disabled:hover {\n",
              "    background-color: var(--disabled-bg-color);\n",
              "    fill: var(--disabled-fill-color);\n",
              "    box-shadow: none;\n",
              "  }\n",
              "\n",
              "  .colab-df-spinner {\n",
              "    border: 2px solid var(--fill-color);\n",
              "    border-color: transparent;\n",
              "    border-bottom-color: var(--fill-color);\n",
              "    animation:\n",
              "      spin 1s steps(1) infinite;\n",
              "  }\n",
              "\n",
              "  @keyframes spin {\n",
              "    0% {\n",
              "      border-color: transparent;\n",
              "      border-bottom-color: var(--fill-color);\n",
              "      border-left-color: var(--fill-color);\n",
              "    }\n",
              "    20% {\n",
              "      border-color: transparent;\n",
              "      border-left-color: var(--fill-color);\n",
              "      border-top-color: var(--fill-color);\n",
              "    }\n",
              "    30% {\n",
              "      border-color: transparent;\n",
              "      border-left-color: var(--fill-color);\n",
              "      border-top-color: var(--fill-color);\n",
              "      border-right-color: var(--fill-color);\n",
              "    }\n",
              "    40% {\n",
              "      border-color: transparent;\n",
              "      border-right-color: var(--fill-color);\n",
              "      border-top-color: var(--fill-color);\n",
              "    }\n",
              "    60% {\n",
              "      border-color: transparent;\n",
              "      border-right-color: var(--fill-color);\n",
              "    }\n",
              "    80% {\n",
              "      border-color: transparent;\n",
              "      border-right-color: var(--fill-color);\n",
              "      border-bottom-color: var(--fill-color);\n",
              "    }\n",
              "    90% {\n",
              "      border-color: transparent;\n",
              "      border-bottom-color: var(--fill-color);\n",
              "    }\n",
              "  }\n",
              "</style>\n",
              "\n",
              "  <script>\n",
              "    async function quickchart(key) {\n",
              "      const quickchartButtonEl =\n",
              "        document.querySelector('#' + key + ' button');\n",
              "      quickchartButtonEl.disabled = true;  // To prevent multiple clicks.\n",
              "      quickchartButtonEl.classList.add('colab-df-spinner');\n",
              "      try {\n",
              "        const charts = await google.colab.kernel.invokeFunction(\n",
              "            'suggestCharts', [key], {});\n",
              "      } catch (error) {\n",
              "        console.error('Error during call to suggestCharts:', error);\n",
              "      }\n",
              "      quickchartButtonEl.classList.remove('colab-df-spinner');\n",
              "      quickchartButtonEl.classList.add('colab-df-quickchart-complete');\n",
              "    }\n",
              "    (() => {\n",
              "      let quickchartButtonEl =\n",
              "        document.querySelector('#df-d57b1f67-b306-4152-af26-814ed0946303 button');\n",
              "      quickchartButtonEl.style.display =\n",
              "        google.colab.kernel.accessAllowed ? 'block' : 'none';\n",
              "    })();\n",
              "  </script>\n",
              "</div>\n",
              "    </div>\n",
              "  </div>\n"
            ]
          },
          "metadata": {},
          "execution_count": 28
        }
      ],
      "source": [
        "df_pred"
      ]
    },
    {
      "cell_type": "markdown",
      "source": [
        "# This is how to submit a pd file with predictions\n",
        "### for the example we will submit a file where only A1 is given as a prediction"
      ],
      "metadata": {
        "id": "jctQ2IXYeXEs"
      }
    },
    {
      "cell_type": "code",
      "source": [
        "df_sub=df_pred[['predicted_difficulty']]\n",
        "df_sub.to_csv('submission.csv')"
      ],
      "metadata": {
        "id": "pg1ITBF8e0aq"
      },
      "execution_count": 29,
      "outputs": []
    },
    {
      "cell_type": "code",
      "source": [
        "! kaggle competitions submit -c detecting-french-texts-difficulty-level-2023 -f submission.csv -m \"Sample submission\""
      ],
      "metadata": {
        "colab": {
          "base_uri": "https://localhost:8080/"
        },
        "id": "D3i5G0qzgBxP",
        "outputId": "a730de9b-c321-45f3-9c3b-6a8b10726122"
      },
      "execution_count": 30,
      "outputs": [
        {
          "output_type": "stream",
          "name": "stdout",
          "text": [
            "100% 8.31k/8.31k [00:02<00:00, 3.79kB/s]\n",
            "Successfully submitted to Detecting the difficulty level of French texts"
          ]
        }
      ]
    },
    {
      "cell_type": "markdown",
      "source": [
        "###As excepted add the number of unique words and the sentence of length does not improve the prediction but decrease significantly the prediction because it's not because a sentence is long that the difficulty level is high."
      ],
      "metadata": {
        "id": "Fr3EfYOLV-EA"
      }
    },
    {
      "cell_type": "markdown",
      "source": [
        "![image.png](data:image/png;base64,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)"
      ],
      "metadata": {
        "id": "MuvFjpxJxGwN"
      }
    }
  ],
  "metadata": {
    "colab": {
      "provenance": []
    },
    "kernelspec": {
      "display_name": "Python 3 (ipykernel)",
      "language": "python",
      "name": "python3"
    },
    "language_info": {
      "codemirror_mode": {
        "name": "ipython",
        "version": 3
      },
      "file_extension": ".py",
      "mimetype": "text/x-python",
      "name": "python",
      "nbconvert_exporter": "python",
      "pygments_lexer": "ipython3",
      "version": "3.9.6"
    },
    "toc": {
      "base_numbering": 1,
      "nav_menu": {},
      "number_sections": true,
      "sideBar": true,
      "skip_h1_title": false,
      "title_cell": "Table of Contents",
      "title_sidebar": "Contents",
      "toc_cell": false,
      "toc_position": {},
      "toc_section_display": true,
      "toc_window_display": false
    }
  },
  "nbformat": 4,
  "nbformat_minor": 0
}